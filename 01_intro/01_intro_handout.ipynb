{
 "cells": [
  {
   "cell_type": "markdown",
   "id": "fb227f41-5aac-4e4e-9dd6-6acd590e0db0",
   "metadata": {},
   "source": [
    "# Здравствуйте!\n",
    "<img src=\"./pics/hello.png\" width=20%/>\n",
    "<br>\n",
    "Это файл формата _ipynb_, экспортированный в _html_, чтобы его можно было открыть без проблем.<br>\n",
    "Файлы _ipynb_ (т.е. Jupyter ноутбуки) просто так не открыть, для этого нужна специальная программа -- <a href=\"https://jupyter.org/\">Jupyter</a> :)<br>\n",
    "Более того, открыть их можно только из под программы. Т.е. двойной клик по файлу не откроет его в нужном  виде.<br>\n",
    "\n",
    "Нужно сначала запустить **Jupyter Notebook** или **Jupyter Lab**, а уже в них открыть нужный файлик.<br>\n",
    "\n",
    "Есть и другие варианты работы с ноутбуками, например с помощью расширений для <a href=\"https://code.visualstudio.com/\">Visual Code Studio</a> (VS Code).\n",
    "<br>\n",
    "\n",
    "Сначала мы поработаем с python скриптами по-простому, а потом уже перейдём в ноутбуки."
   ]
  },
  {
   "cell_type": "markdown",
   "id": "ba6e80e5-680c-4df9-914d-4a8acc29cad9",
   "metadata": {},
   "source": [
    "# Установка софта"
   ]
  },
  {
   "cell_type": "markdown",
   "id": "e35e9499-5aad-422d-baae-25aeb96b745c",
   "metadata": {},
   "source": [
    "## Установка Python"
   ]
  },
  {
   "cell_type": "markdown",
   "id": "ca7e8f8c-8e77-49b1-bb52-6f65e830f822",
   "metadata": {},
   "source": [
    "Первое, что нам нужно сделать -- скачать переводчик (интерпретатор).  "
   ]
  },
  {
   "cell_type": "markdown",
   "id": "674d4d13-bd09-41d1-a45f-e2315e1d5128",
   "metadata": {},
   "source": [
    "### Шаг 1.\n",
    "Зайдите на официальный сайт <a href=\"https://www.python.org/downloads/\">python.org</a> и скачайте последнюю стабильную версию (сейчас это 3.11).\n",
    "<br><br>\n",
    "<img src=\"./pics/installpython_1.png\" width=75%>"
   ]
  },
  {
   "cell_type": "markdown",
   "id": "73afe49f-2aeb-4105-928c-a19de8e199b1",
   "metadata": {},
   "source": [
    "## Установка Anaconda + Jupyter"
   ]
  },
  {
   "cell_type": "markdown",
   "id": "eea3d045-9909-418d-a231-c5fe23f44f87",
   "metadata": {},
   "source": [
    "Если вы считаете себя продвинутым пользователем ПК, то можно скачать не Anaconda,у которой есть графический интерфейс,<br>\n",
    "а miniconda, у которой графического интерфейса нет. Она весит меньше места и в ней почти ничего не предустановлено.<br>\n",
    "Выбор за вами :)"
   ]
  },
  {
   "cell_type": "markdown",
   "id": "3e49a1c0-ddcd-4ea8-88c0-57ef0a0471a4",
   "metadata": {},
   "source": [
    "## Anaconda"
   ]
  },
  {
   "cell_type": "markdown",
   "id": "7bb04157-353b-4b7f-a68a-56c68600035c",
   "metadata": {},
   "source": [
    "### Для Win8, Win10. Win11"
   ]
  },
  {
   "cell_type": "markdown",
   "id": "3ea4f4c2-3391-4e52-8664-9cf73188072e",
   "metadata": {},
   "source": [
    "#### Шаг 1.\n",
    "Зайдите на официальный сайт <a href=\"https://www.anaconda.com/\">anaconda.com</a> и перейдите в раздел загрузки (Free download).\n",
    "<br><br>\n",
    "<img src=\"./pics/anaconda.png\" width=75%>"
   ]
  },
  {
   "cell_type": "markdown",
   "id": "9e1f74bb-d18e-45d5-b1e5-a2d257272434",
   "metadata": {},
   "source": [
    "#### Шаг 2.\n",
    "Скачайте, установите :) Перед установкой прочитайе комментарий ниже.\n",
    "<br><br>\n",
    "<img src=\"./pics/anaconda2.png\" width=75%>"
   ]
  },
  {
   "cell_type": "markdown",
   "id": "06142f02-a6d3-44e1-b650-4b238d085c3f",
   "metadata": {},
   "source": [
    "### Инструкция для Windows 7"
   ]
  },
  {
   "cell_type": "markdown",
   "id": "fcea1eff-9a10-4226-a9df-bc9e573341c2",
   "metadata": {},
   "source": [
    "#### Шаг 1.\n",
    "\n",
    "Скачайте архивную версию анаконды от 2019.03 отсюда: https://repo.anaconda.com/archive/\n",
    "<br>\n",
    "Называется Anaconda3-2019.03-Windows-x86_64.exe, весит 661.7 мб (поиск по странице включается на Ctrl+F).<br>\n",
    "**Проверьте, что именно Anaconda3, а не 2.**\n",
    "<br><br>\n",
    "<img src=\"./pics/win7anaconda.png\" width=75%>"
   ]
  },
  {
   "cell_type": "markdown",
   "id": "ff7be73d-ef2e-4e99-bc71-a29a600219ac",
   "metadata": {},
   "source": [
    "#### Шаг 2.\n",
    "Там архив, насколько помню, поэтому просто скачайте, разархивиуйте, установите."
   ]
  },
  {
   "cell_type": "markdown",
   "id": "97cfb3a1-0159-417c-ae7d-900df3848f46",
   "metadata": {},
   "source": [
    "### Важный комментарий"
   ]
  },
  {
   "cell_type": "markdown",
   "id": "2b115f2a-7f9c-4ac4-81dc-623ff43e6526",
   "metadata": {},
   "source": [
    "По-умолчанию Anaconda/Miniconda захотят установиться в папку вашего пользователя.<br>\n",
    "Я очень надеюсь, что пользователь у вас назван латиницей и без пробелов.<br>\n",
    "Из-за кириллицы могут возникнуть проблемы.<br>"
   ]
  },
  {
   "cell_type": "markdown",
   "id": "742c8ed4-44e0-44c8-b4cc-341d945b5e76",
   "metadata": {},
   "source": [
    "## Установка git"
   ]
  },
  {
   "cell_type": "markdown",
   "id": "5815d903-6c8b-442f-981a-6004a6011a98",
   "metadata": {},
   "source": [
    "#### Шаг 1.\n",
    "Скачать можно отсюда: https://git-scm.com/downloads\n",
    "<br>\n",
    "Переходим в раздел для Windows.<br><br>\n",
    "<img src=\"./pics/git1.png\" width=75%/>"
   ]
  },
  {
   "cell_type": "markdown",
   "id": "593ff276-0a29-4f10-a9c1-b3603aa84d74",
   "metadata": {},
   "source": [
    "#### Шаг 2.\n",
    "Выбираем нужный установщик 64-битной версии.<br>\n",
    "Скачиваем, устанавливаем.<br><br>\n",
    "<img src=\"./pics/git2.png\" width=75%/>"
   ]
  },
  {
   "cell_type": "markdown",
   "id": "0b25383d-accb-4fb4-b0b7-aa3765032d37",
   "metadata": {},
   "source": [
    "# Проверка"
   ]
  },
  {
   "cell_type": "markdown",
   "id": "c534c943-bab3-4d5b-a749-5064be5a5089",
   "metadata": {},
   "source": [
    "## Проверка, что установился Python"
   ]
  },
  {
   "cell_type": "markdown",
   "id": "c2470e2a-33d4-41d6-a83a-4e9c05acb4fc",
   "metadata": {},
   "source": [
    "В поиске на компьютере просто напишите Python.<br>\n",
    "Ожидаем увидеть там **IDLE (Python 3.x 64bit)** той версии, которую вы скачали.\n",
    "<br><br>\n",
    "<img src=\"./pics/python_check.png\" width=60%/>"
   ]
  },
  {
   "cell_type": "markdown",
   "id": "1ce517a8-7a1f-4b0b-ae05-83284796788f",
   "metadata": {},
   "source": [
    "## Проверка Anaconda"
   ]
  },
  {
   "cell_type": "markdown",
   "id": "9c17e589-e578-4b40-bb88-5bc3a23a4a86",
   "metadata": {},
   "source": [
    "Аналогично напишите в поиске на компьютере \"Anaconda\".<br>\n",
    "Увидите в выдаче зеленую \"Anaconda Navigator\" и черную \"Anaconda prompt\".<br>\n",
    "Пока запускаем \"Anaconda Navigator\". Ему нужно время на подумать, чтобы запуститься.\n",
    "<br><br>\n",
    "<img src=\"./pics/navigator.png\" width=75%/>"
   ]
  },
  {
   "cell_type": "markdown",
   "id": "e6f3c486-b5ab-4ae1-a217-f070e42f684d",
   "metadata": {},
   "source": [
    "### Для установивших miniconda"
   ]
  },
  {
   "cell_type": "markdown",
   "id": "f1c9d70a-3cc3-4f4b-a51d-afa3dfd44b50",
   "metadata": {},
   "source": [
    "#### Скачать Jupyter Lab"
   ]
  },
  {
   "cell_type": "markdown",
   "id": "e9578c98-5e13-4366-9965-9f8898dbc4f4",
   "metadata": {},
   "source": [
    "У вас нет навигатора, только промпт.<br>\n",
    "Напишите в поиске \"conda\" или \"miniconda\". Откройте навигатор.<br>\n",
    "Теперь нужно установить Jupyter. Для этого запустите команду ниже:<br>\n",
    "`conda install -c conda-forge jupyterlab`"
   ]
  },
  {
   "cell_type": "markdown",
   "id": "7f962ec6-58d8-4eed-81fc-a62ba2a97b4d",
   "metadata": {},
   "source": [
    "#### Запустить Jupyter Lab"
   ]
  },
  {
   "cell_type": "markdown",
   "id": "4e7b99d5-1dcf-4304-90d1-0c9d9be26cee",
   "metadata": {},
   "source": [
    "Чтобы запустить юпитер лаб, нужно открыть промпт, перейти в желаемую директорию и запустить команду:\n",
    "`jupyter lab`"
   ]
  },
  {
   "cell_type": "markdown",
   "id": "63217e7b-8579-4763-a2a9-e0ca57d9568e",
   "metadata": {},
   "source": [
    "### Открываем ноутбук"
   ]
  },
  {
   "cell_type": "markdown",
   "id": "faad0905-cbe6-47fc-9a76-c8dcbbe2e817",
   "metadata": {},
   "source": [
    "* Запустите Jupyter Lab;\n",
    "* Перейдите в нём в ту папку, где лежит скачанный во время занятия ноутбук<br>_(тот самый, который вы сейчас читаете в html формате)_;\n",
    "* Откройте ноутбук и убедитесь, что можете редактировать ячейки."
   ]
  },
  {
   "cell_type": "markdown",
   "id": "3d203522-eb45-40a2-baec-665211f824c4",
   "metadata": {},
   "source": [
    "## Проверка git"
   ]
  },
  {
   "cell_type": "markdown",
   "id": "1e1f0546-87c5-42e9-8b0d-76756bf3b1eb",
   "metadata": {},
   "source": [
    "Аналогично делаем и для git: в поиске на ПК ищем **git bash**.<br>\n",
    "Запускаем. Если открылось вот такое ~~страшное~~ окно, то всё хорошо.\n",
    "<br><br>\n",
    "<img src=\"./pics/git4.png\" width=75%/>"
   ]
  },
  {
   "cell_type": "markdown",
   "id": "d48e6178-7403-4665-b63c-dc7dc893b399",
   "metadata": {},
   "source": [
    "## Задание учетных данных"
   ]
  },
  {
   "cell_type": "markdown",
   "id": "582be992-1430-41af-b26f-1733ccb1299e",
   "metadata": {},
   "source": [
    "#### Шаг 1.\n",
    "Зарегистрируйтесь на <a href=\"https://github.com/\">github</a>."
   ]
  },
  {
   "cell_type": "markdown",
   "id": "4d1a3099-e4ef-4337-9b28-353c29fe0786",
   "metadata": {},
   "source": [
    "#### Шаг 2.\n",
    "Откройте **git bash** и сохраните свои имя и электронную почту:<br>\n",
    "```\n",
    "$ git config --global user.name \"Daniil Igumnov\"\n",
    "$ git config --global user.email moya_pochta@example.com\n",
    "```"
   ]
  },
  {
   "cell_type": "markdown",
   "id": "f1dc4c3d-1fad-43a1-b153-498462cb3106",
   "metadata": {},
   "source": [
    "## Создание токена доступа"
   ]
  },
  {
   "cell_type": "markdown",
   "id": "6ec25f76-cf6f-4fd7-ae72-bbc781f52a09",
   "metadata": {},
   "source": [
    "#### Шаг 1.\n",
    "Зайдите в настройки.\n",
    "<br><br>\n",
    "<img src=\"./pics/github1.png\" width=75%/>"
   ]
  },
  {
   "cell_type": "markdown",
   "id": "3dd038fb-e391-4fac-b2f5-26c688d2cd0a",
   "metadata": {},
   "source": [
    "#### Шаг 2.\n",
    "Перейдите в раздел для разработчиков.\n",
    "<br><br>\n",
    "<img src=\"./pics/github2.png\" width=75%/>"
   ]
  },
  {
   "cell_type": "markdown",
   "id": "acb0c044-b53c-4d16-a17a-2fe62d8775eb",
   "metadata": {},
   "source": [
    "#### Шаг 3.\n",
    "Создайте классический токен.\n",
    "<br><br>\n",
    "<img src=\"./pics/github3.png\" width=75%/>"
   ]
  },
  {
   "cell_type": "markdown",
   "id": "ca37e175-71ec-4815-9c91-37b3429aa041",
   "metadata": {},
   "source": [
    "#### Шаг 4.\n",
    "* Выбериту дату окончания работы токена (можно поставить неограниченный срок).\n",
    "* Выберите доступы **repo** и **user** (т.е. там все галочки должны быть проставлены)"
   ]
  },
  {
   "cell_type": "markdown",
   "id": "f1fe14ca-9f0e-48b1-9f2c-babf1eebeb2a",
   "metadata": {},
   "source": [
    "#### Шаг 5.\n",
    "Полученный токен нужно сохранить. Например, создайте где-нибудь текстовый файл на ПК и вставьте туда токен.<br>\n",
    "Если вы его потеряете, то просто создадите новый токен. Не волнуйтесь.<br>\n",
    "_(Потом можно будет настроить по желанию более удобный доступ по SSH)_"
   ]
  },
  {
   "cell_type": "markdown",
   "id": "830fe57a-6794-448f-9985-24e95f5e1e7c",
   "metadata": {},
   "source": [
    "### Проверка"
   ]
  },
  {
   "cell_type": "markdown",
   "id": "2ca3531f-f06f-4322-b73e-a8f6976c6035",
   "metadata": {},
   "source": [
    "#### Первые две команды для работы в терминале\n",
    "* `pwd` -- для вывода текущего места нахождения;\n",
    "* `cd` -- От Change Directory, команда для смены папки, где вы сейчас находитесь. \n",
    "* `ls` (`dir` в Windows) -- для перечисления содержимого текущей директории."
   ]
  },
  {
   "cell_type": "markdown",
   "id": "d413c015-3ab6-4853-b7b3-658e468b23c8",
   "metadata": {},
   "source": [
    "#### Клонируем наш репозиторий"
   ]
  },
  {
   "cell_type": "markdown",
   "id": "e162ac9c-3e62-4e92-9f18-eb5c5215ca69",
   "metadata": {},
   "source": [
    "Клонируйте к тебе в удобное место <a href=\"https://github.com/igumnov-daniel/HOCK_SEPTEMBER_2023\">репозиторий нашего курса</a>:\n",
    "```\n",
    "git clone https://github.com/igumnov-daniel/HOCK_SEPTEMBER_2023.git\n",
    "```\n",
    "\n",
    "Основы работы с git будут в рамках следующих занятий."
   ]
  },
  {
   "cell_type": "markdown",
   "id": "9598b1f9-70a6-4c20-ab21-7b7660458f7f",
   "metadata": {},
   "source": [
    "# Платформ для сдачи задач"
   ]
  },
  {
   "cell_type": "markdown",
   "id": "e24dd565-7de9-4617-ba01-4952872ded55",
   "metadata": {},
   "source": [
    "### Регистрация\n",
    "Все ДЗ и задачи для практикумов будут существовать на платформе <a href=\"https://contest.yandex.ru/\">Яндекс.Контест</a>.\n",
    "Перейдите по ссылке, **зарегистрируйтесь и отправьте мне вашу почту**, с которой получилось авторизоваться в системе."
   ]
  },
  {
   "cell_type": "markdown",
   "id": "96e6b3e9-1213-4cbf-9e4d-9fc2079cac6d",
   "metadata": {},
   "source": [
    "### Первый контест\n",
    "Передйите в наш <a href=\"https://contest.yandex.ru/contest/52826/standings\">первый контест</a> и решите свою первую задачу :)"
   ]
  },
  {
   "cell_type": "code",
   "execution_count": null,
   "id": "5d562c16-6e0f-4255-98cd-5742c8b30abd",
   "metadata": {},
   "outputs": [],
   "source": []
  },
  {
   "cell_type": "code",
   "execution_count": null,
   "id": "c2aba417-9a40-4349-8603-c8c1eb5d500a",
   "metadata": {},
   "outputs": [],
   "source": []
  }
 ],
 "metadata": {
  "kernelspec": {
   "display_name": "hock",
   "language": "python",
   "name": "hock"
  },
  "language_info": {
   "codemirror_mode": {
    "name": "ipython",
    "version": 3
   },
   "file_extension": ".py",
   "mimetype": "text/x-python",
   "name": "python",
   "nbconvert_exporter": "python",
   "pygments_lexer": "ipython3",
   "version": "3.9.16"
  },
  "toc-autonumbering": true,
  "toc-showmarkdowntxt": false,
  "toc-showtags": false
 },
 "nbformat": 4,
 "nbformat_minor": 5
}
