{
 "cells": [
  {
   "cell_type": "code",
   "execution_count": 1,
   "id": "add92cdc-fb8d-4675-aa88-3c1060bad905",
   "metadata": {},
   "outputs": [],
   "source": [
    "import pandas as pd\n",
    "import numpy as np\n",
    "import seaborn as sns"
   ]
  },
  {
   "cell_type": "code",
   "execution_count": 2,
   "id": "98be69ae-4fc8-420e-a3f7-2567449bfc06",
   "metadata": {},
   "outputs": [
    {
     "data": {
      "text/html": [
       "<div>\n",
       "<style scoped>\n",
       "    .dataframe tbody tr th:only-of-type {\n",
       "        vertical-align: middle;\n",
       "    }\n",
       "\n",
       "    .dataframe tbody tr th {\n",
       "        vertical-align: top;\n",
       "    }\n",
       "\n",
       "    .dataframe thead th {\n",
       "        text-align: right;\n",
       "    }\n",
       "</style>\n",
       "<table border=\"1\" class=\"dataframe\">\n",
       "  <thead>\n",
       "    <tr style=\"text-align: right;\">\n",
       "      <th></th>\n",
       "      <th>carat</th>\n",
       "      <th>cut</th>\n",
       "      <th>color</th>\n",
       "      <th>clarity</th>\n",
       "      <th>depth</th>\n",
       "      <th>table</th>\n",
       "      <th>price</th>\n",
       "      <th>x</th>\n",
       "      <th>y</th>\n",
       "      <th>z</th>\n",
       "    </tr>\n",
       "  </thead>\n",
       "  <tbody>\n",
       "    <tr>\n",
       "      <th>0</th>\n",
       "      <td>0.23</td>\n",
       "      <td>Ideal</td>\n",
       "      <td>E</td>\n",
       "      <td>SI2</td>\n",
       "      <td>61.5</td>\n",
       "      <td>55.0</td>\n",
       "      <td>326</td>\n",
       "      <td>3.95</td>\n",
       "      <td>3.98</td>\n",
       "      <td>2.43</td>\n",
       "    </tr>\n",
       "    <tr>\n",
       "      <th>1</th>\n",
       "      <td>0.21</td>\n",
       "      <td>Premium</td>\n",
       "      <td>E</td>\n",
       "      <td>SI1</td>\n",
       "      <td>59.8</td>\n",
       "      <td>61.0</td>\n",
       "      <td>326</td>\n",
       "      <td>3.89</td>\n",
       "      <td>3.84</td>\n",
       "      <td>2.31</td>\n",
       "    </tr>\n",
       "    <tr>\n",
       "      <th>2</th>\n",
       "      <td>0.23</td>\n",
       "      <td>Good</td>\n",
       "      <td>E</td>\n",
       "      <td>VS1</td>\n",
       "      <td>56.9</td>\n",
       "      <td>65.0</td>\n",
       "      <td>327</td>\n",
       "      <td>4.05</td>\n",
       "      <td>4.07</td>\n",
       "      <td>2.31</td>\n",
       "    </tr>\n",
       "    <tr>\n",
       "      <th>3</th>\n",
       "      <td>0.29</td>\n",
       "      <td>Premium</td>\n",
       "      <td>I</td>\n",
       "      <td>VS2</td>\n",
       "      <td>62.4</td>\n",
       "      <td>58.0</td>\n",
       "      <td>334</td>\n",
       "      <td>4.20</td>\n",
       "      <td>4.23</td>\n",
       "      <td>2.63</td>\n",
       "    </tr>\n",
       "    <tr>\n",
       "      <th>4</th>\n",
       "      <td>0.31</td>\n",
       "      <td>Good</td>\n",
       "      <td>J</td>\n",
       "      <td>SI2</td>\n",
       "      <td>63.3</td>\n",
       "      <td>58.0</td>\n",
       "      <td>335</td>\n",
       "      <td>4.34</td>\n",
       "      <td>4.35</td>\n",
       "      <td>2.75</td>\n",
       "    </tr>\n",
       "  </tbody>\n",
       "</table>\n",
       "</div>"
      ],
      "text/plain": [
       "   carat      cut color clarity  depth  table  price     x     y     z\n",
       "0   0.23    Ideal     E     SI2   61.5   55.0    326  3.95  3.98  2.43\n",
       "1   0.21  Premium     E     SI1   59.8   61.0    326  3.89  3.84  2.31\n",
       "2   0.23     Good     E     VS1   56.9   65.0    327  4.05  4.07  2.31\n",
       "3   0.29  Premium     I     VS2   62.4   58.0    334  4.20  4.23  2.63\n",
       "4   0.31     Good     J     SI2   63.3   58.0    335  4.34  4.35  2.75"
      ]
     },
     "execution_count": 2,
     "metadata": {},
     "output_type": "execute_result"
    }
   ],
   "source": [
    "# описание данных https://ggplot2.tidyverse.org/reference/diamonds.html\n",
    "df = sns.load_dataset('diamonds') # загрузим датасет \n",
    "df.head()"
   ]
  },
  {
   "cell_type": "code",
   "execution_count": 3,
   "id": "aac54378-f8e2-4a8a-860a-7ae94ba3614c",
   "metadata": {},
   "outputs": [],
   "source": [
    "# определите, сколько алмазов какого cut находятся в таблице\n"
   ]
  },
  {
   "cell_type": "code",
   "execution_count": 4,
   "id": "3e3ac4fc-8522-40bc-a6bd-1cc95f19018f",
   "metadata": {},
   "outputs": [],
   "source": [
    "# определите встерчаемость цветов в таблице (сколько раз встретился каждый цвет)\n"
   ]
  },
  {
   "cell_type": "code",
   "execution_count": 5,
   "id": "6cb163d0-1b0a-4b8a-be7e-a1a0397fa12d",
   "metadata": {},
   "outputs": [],
   "source": [
    "# определите самый популярный цвет для каждого cut\n",
    "#\n",
    "\n",
    "# подсказка\n",
    "# можно сгруппировать по cut и color сразу. а дальше, например, count и nlargest"
   ]
  },
  {
   "cell_type": "code",
   "execution_count": 6,
   "id": "fb8e52df-d25b-4d7f-9565-b7fbcd3f03d4",
   "metadata": {},
   "outputs": [],
   "source": [
    "# представим, что нашим алмазы -- прямоугольные параллелепипеды. \n",
    "# тогда объём алмаза -- произведение трех его измерений (x, y, z)\n",
    "# создайте столбец V со значанием объёма алмаза\n"
   ]
  },
  {
   "cell_type": "code",
   "execution_count": 7,
   "id": "92fb7a62-e1c2-4ad5-9295-72654e0552ff",
   "metadata": {},
   "outputs": [],
   "source": [
    "# отфильтруйте те строки в датафрейме, для которых среднее значение carat в их группе cut больше 0.85\n",
    "#"
   ]
  },
  {
   "cell_type": "code",
   "execution_count": 8,
   "id": "83c46470-50e3-4446-9034-c6cc1e868189",
   "metadata": {},
   "outputs": [],
   "source": [
    "# для каждой группы по cut посчитайте в одну таблицу (сразу же, за 1 шаг)\n",
    "# среднее и медианное значение price, размах (минимум минус максимум) и максимальное значение\n"
   ]
  },
  {
   "cell_type": "code",
   "execution_count": 9,
   "id": "152c8d74-109b-493b-9496-94e0aba5e496",
   "metadata": {},
   "outputs": [],
   "source": [
    "# в исходном датафрейме создайте столбец max_price со значением максимальной цены для алмаза из группы по cut\n",
    "# то есть, если первые две строки относятся к группе Good, то у них в столбце max_price стоит цена самого дорогого\n",
    "# алмаза из группы Good\n"
   ]
  },
  {
   "cell_type": "code",
   "execution_count": 10,
   "id": "66197fb6-fcce-433d-b3b4-0e61143f3845",
   "metadata": {},
   "outputs": [],
   "source": [
    "# создайте столбец relative_max, где записано, какую долю (в процентах) от максимальной цены алмаза внутри группы по cut\n",
    "# составляет цена этого алмаза\n",
    "# то есть если алмаз на 30 строке стоит 0.5 единиц, а самый дорогой алмаз для его гурппы по cut стоит 2 ед.,\n",
    "# то тогда в столбце relative_max должно находиться 25\n"
   ]
  },
  {
   "cell_type": "code",
   "execution_count": null,
   "id": "566e360c-f02c-4a27-bcfa-8f1f7e226451",
   "metadata": {},
   "outputs": [],
   "source": []
  }
 ],
 "metadata": {
  "kernelspec": {
   "display_name": "hock",
   "language": "python",
   "name": "hock"
  },
  "language_info": {
   "codemirror_mode": {
    "name": "ipython",
    "version": 3
   },
   "file_extension": ".py",
   "mimetype": "text/x-python",
   "name": "python",
   "nbconvert_exporter": "python",
   "pygments_lexer": "ipython3",
   "version": "3.9.16"
  }
 },
 "nbformat": 4,
 "nbformat_minor": 5
}
