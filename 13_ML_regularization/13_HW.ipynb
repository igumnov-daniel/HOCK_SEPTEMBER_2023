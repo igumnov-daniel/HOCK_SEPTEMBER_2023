{
 "cells": [
  {
   "cell_type": "markdown",
   "id": "6449158c-8201-407a-bc1c-0c81d66aba38",
   "metadata": {
    "tags": []
   },
   "source": [
    "Даны датасет housing.\n",
    "\n",
    "Попробуйте проделать следующий эксперимент:  \n",
    "Будем учиться определять ЦЕНУ по существующим параметрам.  \n",
    "—EDA  \n",
    "——Посмотрите, с чем вообще имеем дело. Как распределены признаки, цены. Кто с кем и как скоррелирован.  \n",
    "\n",
    "— Простая линейная регрессия.   \n",
    "——Определите, какие столбцы числовые можно взять для регрессии (информация о столбцах в data_description_housing.pdf)\n",
    "——Проведите лин.рег. на них. посчитайте ошибку (RMSE)   \n",
    "——Теперь возьмите категориальные столбцы и закодируйте их в числовые значение  \n",
    "——Повторите лин.рег. но уже с этими столбцами. Что стало RMSE?  \n",
    "\n",
    "А что если цена растет нелинейно?  \n",
    "— Прологарифмируйте цену (только в трейн!!! )  \n",
    "— Проведите лин.рег. (с категор. переменными, которые мы закодировали)  \n",
    "— Сделайте предсказания на тестовой выборке.  \n",
    "—Мы нашли степени экспоненты. Теперь возведите экспоненту в найденные степени (np.exp()) и посчитайте RMSE. \n",
    "(также можно попробовать считать mean_squared_log_error для более робастной оценки ошибки)\n",
    "https://medium.com/analytics-vidhya/root-mean-square-log-error-rmse-vs-rmlse-935c6cc1802a"
   ]
  },
  {
   "cell_type": "code",
   "execution_count": null,
   "id": "f7150997-fbc6-49a5-987c-ec5fcee5beda",
   "metadata": {},
   "outputs": [],
   "source": []
  }
 ],
 "metadata": {
  "kernelspec": {
   "display_name": "hock",
   "language": "python",
   "name": "hock"
  },
  "language_info": {
   "codemirror_mode": {
    "name": "ipython",
    "version": 3
   },
   "file_extension": ".py",
   "mimetype": "text/x-python",
   "name": "python",
   "nbconvert_exporter": "python",
   "pygments_lexer": "ipython3",
   "version": "3.9.16"
  }
 },
 "nbformat": 4,
 "nbformat_minor": 5
}
