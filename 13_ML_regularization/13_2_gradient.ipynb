{
 "cells": [
  {
   "cell_type": "markdown",
   "id": "025e93b0-a721-460a-872d-bc1f8cd701d9",
   "metadata": {},
   "source": [
    "# Линейная регрессия\n",
    "## Краткое повторение"
   ]
  },
  {
   "cell_type": "markdown",
   "id": "1ee7a42f-4ea1-4544-bdc6-213be9f49440",
   "metadata": {},
   "source": [
    "Закон, по которому распределены данные: $ Y=f(X)+\\epsilon $  \n",
    "Закон, который мы моделируем: $ f_w(x)=w_0+\\sum_{i=1}^p w_i x_i $  \n",
    "\n",
    "\"Спрячем\" свободный член внутрь икса (добавим туда элемент единицу). И перепишем модель в самом просто виде: $y = \\langle w, x \\rangle$  \n",
    "Тогда в итоге получаем модель, которая в идеале считаетм какие-то игреки с крышечкой, которые максимально близки к истинным игрекам: $$ f_w(X)=X w=\\widehat{Y} \\approx Y $$"
   ]
  },
  {
   "cell_type": "markdown",
   "id": "28b4435a-d9e9-4cb9-ba4d-f2d06740b5b8",
   "metadata": {},
   "source": [
    "Мы знаем матриксу $X$ (матрица признаков, features). И знаем вектор $y$. И хотим найти вектор весов (коэффициентов) $w$.  \n",
    "Тогда сформулируем задачу оптимизации следующим образов: $$\n",
    "Q(X)=\\sum_{i=1}^n L\\left(y^i, f_w\\left(x^i\\right)\\right) \\rightarrow \\min _w\n",
    "$$,\n",
    "где $L$ -- это некотора функция (лосс, функция потерь). \n",
    "\n",
    "Если в качестве функции потерь взять MSE (среднеквадратичную ошибку), то перепишем постановку задачи как $$\n",
    "\\begin{aligned}\n",
    "L(y_{pred}, Y) &= \\frac{1}{n}||y_{pred} - Y||^2_2 =\\\\\n",
    "&= \\frac{1}{n}||Xw - Y||^2_2 = \\frac{1}{n}\\sum_{i=1}^{n}\\left(\\sum_{j=1}^{m} x_{ij}w_j - y_i\\right)^2 =: L(w)\n",
    "\\end{aligned}\n",
    "$$"
   ]
  },
  {
   "cell_type": "markdown",
   "id": "07fb8f98-11c9-4dcf-bfae-beb0def396dd",
   "metadata": {},
   "source": [
    "В такой постановке с некоторыми допущениями наша задача имеет аналитическое решение и оно оптимально.  \n",
    "Минимизация ошибки по методу наименьших квадратов дает решение: $$ w = (X^TX)^{-1}X^TY $$"
   ]
  },
  {
   "cell_type": "markdown",
   "id": "9302d7b0-4128-46e2-9c85-4da642de70c9",
   "metadata": {},
   "source": [
    "### Мультиколлинеарность\n",
    "Мы боимся линейной зависимости наших признаков, потому что из-за этого мы можем получить несостоятельную модель.  \n",
    "Помимо простого удаления сильно скоррелированных столбцов мы также можем добавить регуляризацию в нашу модель, т.е. штраф за веса (за коэффициенты):\n",
    "* $L_2(w) = ||Xw - Y||^2_2 + \\lambda||w||^2_2$, или Ridge\n",
    "* $L_1(w) = ||Xw - Y||^2_2 + \\lambda||w||_1$, или Lasso\n",
    "* $L_{EN}(w) = ||Xw - Y||^2_2 +  \\lambda_1||w||_1  + \\lambda_2||w||^2_2$, или Elastin Net"
   ]
  },
  {
   "cell_type": "markdown",
   "id": "398baff5-c26d-4b55-9acd-98cb068650fd",
   "metadata": {},
   "source": [
    "**В чём проблема аналитического решения?**\n",
    "> - Оно работает для задачи только в такой постановке -- с такой функцией потерь и желательно полноранговой матрицей $X$;  \n",
    "> - Мат.ожидание ошибки (выборочное среднее) равно нулю;  \n",
    "> - Гомоскедастичность (постоянство дисперсии на протяжении данных)."
   ]
  },
  {
   "cell_type": "markdown",
   "id": "7412a1bc-b190-4d64-8586-18b2295c5ab6",
   "metadata": {},
   "source": [
    "## Градиентный спуск\n",
    "Рассмотрим некоторую среднеквадратичную функцию потерь $L(w)$  \n",
    "*(т.е. не функцию зависимости целевоей переменной от признаков $f_w(X)$, а функцию зависимости потерь от выбранного вектора весов омега).\n",
    "\n",
    "\n",
    "Мы хотим найти минимум этой функции, то есть такую точку в пространстве весов, которая соответствует минимальному значению функции потерь (иными словами, хотим найти веса, при которых потери минимальны).  \n",
    "\n",
    "\"Обрежем\" задачу до функции одной переменной $ y = wx $. Тогда функция потерь зависим от одной омеги, т.е. это функция от одной переменной. А с таком умеют работать даже школьники:\n",
    "\n",
    "1. Находим производную функции;   \n",
    "2. Приравниваем производную к нулю; \n",
    "3. Так мы нашли все точки экстремума. Определим, кто из них минимумы. Определим глобальный. Готово."
   ]
  },
  {
   "cell_type": "markdown",
   "id": "a56e940f-ae5f-41bb-b40b-ca276d4c10a9",
   "metadata": {},
   "source": [
    "Возьмём исходную модель $y = wx $.  \n",
    "Тогда функция потерь сводится к $$ L(w) = \\frac{1}{n}\\sum_{i=1}^{n}\\left(x_iw_i - y_i\\right)^2 $$\n",
    "\n",
    "Допустим, что данные порождены законом $ y = 3x$"
   ]
  },
  {
   "cell_type": "code",
   "execution_count": 2,
   "id": "7e5dc189-7ecf-4625-a8e4-88db89cea505",
   "metadata": {},
   "outputs": [
    {
     "data": {
      "image/png": "[encoded data removed]",
      "text/plain": [
       "<Figure size 500x400 with 1 Axes>"
      ]
     },
     "metadata": {},
     "output_type": "display_data"
    }
   ],
   "source": [
    "# сгенерируем выборку\n",
    "x = np.linspace(-5, 5, 20) \n",
    "y = 3*x # w = 3\n",
    "\n",
    "# построим график\n",
    "plt.figure(figsize=(5, 4))\n",
    "plt.plot(x, y, 'o')\n",
    "plt.title('$ y = 3x$')\n",
    "plt.xlabel('x')\n",
    "plt.ylabel('y')\n",
    "plt.show()"
   ]
  },
  {
   "cell_type": "code",
   "execution_count": 3,
   "id": "37d1d447-ac02-4179-b9b7-ae3e96d75e2a",
   "metadata": {},
   "outputs": [
    {
     "name": "stdout",
     "output_type": "stream",
     "text": [
      "9.210526315789474\n"
     ]
    }
   ],
   "source": [
    "# Получим значение для функции потерь для различных значений омега \n",
    "# (как если бы не знали истинного значения омега)\n",
    "\n",
    "w = 2 # попробуем для одного значения посчитать функцию потерь\n",
    "loss = np.power(x * w - y, 2).sum() / x.shape[0]\n",
    "print(loss)"
   ]
  },
  {
   "cell_type": "code",
   "execution_count": 4,
   "id": "7317c38e-2eaa-4ca9-a4ae-efd178fb861f",
   "metadata": {},
   "outputs": [
    {
     "data": {
      "text/plain": [
       "array([0. , 0.1, 0.2, 0.3, 0.4, 0.5, 0.6, 0.7, 0.8, 0.9, 1. , 1.1, 1.2,\n",
       "       1.3, 1.4, 1.5, 1.6, 1.7, 1.8, 1.9, 2. , 2.1, 2.2, 2.3, 2.4, 2.5,\n",
       "       2.6, 2.7, 2.8, 2.9, 3. , 3.1, 3.2, 3.3, 3.4, 3.5, 3.6, 3.7, 3.8,\n",
       "       3.9, 4. , 4.1, 4.2, 4.3, 4.4, 4.5, 4.6, 4.7, 4.8, 4.9, 5. ])"
      ]
     },
     "execution_count": 4,
     "metadata": {},
     "output_type": "execute_result"
    }
   ],
   "source": [
    "# построим значение функции потерь для промежутка от 0 до 5 с шагов 0.1\n",
    "w = np.linspace(0, 5, 51)\n",
    "w"
   ]
  },
  {
   "cell_type": "code",
   "execution_count": 5,
   "id": "33cbd70c-8787-4279-9448-8f211a3ef82b",
   "metadata": {},
   "outputs": [
    {
     "data": {
      "text/plain": [
       "array([-5.        , -4.47368421, -3.94736842, -3.42105263, -2.89473684,\n",
       "       -2.36842105, -1.84210526, -1.31578947, -0.78947368, -0.26315789,\n",
       "        0.26315789,  0.78947368,  1.31578947,  1.84210526,  2.36842105,\n",
       "        2.89473684,  3.42105263,  3.94736842,  4.47368421,  5.        ])"
      ]
     },
     "execution_count": 5,
     "metadata": {},
     "output_type": "execute_result"
    }
   ],
   "source": [
    "x"
   ]
  },
  {
   "cell_type": "code",
   "execution_count": 6,
   "id": "e87ce38c-f5a6-4e77-a1b3-64c47c925c70",
   "metadata": {},
   "outputs": [
    {
     "name": "stdout",
     "output_type": "stream",
     "text": [
      "(51, 20)\n"
     ]
    },
    {
     "data": {
      "text/plain": [
       "array([[ -0.        ,  -0.        ,  -0.        , ...,   0.        ,\n",
       "          0.        ,   0.        ],\n",
       "       [ -0.5       ,  -0.44736842,  -0.39473684, ...,   0.39473684,\n",
       "          0.44736842,   0.5       ],\n",
       "       [ -1.        ,  -0.89473684,  -0.78947368, ...,   0.78947368,\n",
       "          0.89473684,   1.        ],\n",
       "       ...,\n",
       "       [-24.        , -21.47368421, -18.94736842, ...,  18.94736842,\n",
       "         21.47368421,  24.        ],\n",
       "       [-24.5       , -21.92105263, -19.34210526, ...,  19.34210526,\n",
       "         21.92105263,  24.5       ],\n",
       "       [-25.        , -22.36842105, -19.73684211, ...,  19.73684211,\n",
       "         22.36842105,  25.        ]])"
      ]
     },
     "execution_count": 6,
     "metadata": {},
     "output_type": "execute_result"
    }
   ],
   "source": [
    "print((x * w.reshape(-1, 1)).shape)\n",
    "x * w.reshape(-1, 1)"
   ]
  },
  {
   "cell_type": "code",
   "execution_count": 7,
   "id": "c00acdf4-0ed3-4089-a523-4e35a8a2d307",
   "metadata": {},
   "outputs": [
    {
     "data": {
      "text/plain": [
       "array([-15.        , -13.42105263, -11.84210526, -10.26315789,\n",
       "        -8.68421053,  -7.10526316,  -5.52631579,  -3.94736842,\n",
       "        -2.36842105,  -0.78947368,   0.78947368,   2.36842105,\n",
       "         3.94736842,   5.52631579,   7.10526316,   8.68421053,\n",
       "        10.26315789,  11.84210526,  13.42105263,  15.        ])"
      ]
     },
     "execution_count": 7,
     "metadata": {},
     "output_type": "execute_result"
    }
   ],
   "source": [
    "y"
   ]
  },
  {
   "cell_type": "code",
   "execution_count": 8,
   "id": "9dce14c9-4aa9-48d6-bceb-d02f5cd9ce55",
   "metadata": {},
   "outputs": [
    {
     "data": {
      "text/plain": [
       "20"
      ]
     },
     "execution_count": 8,
     "metadata": {},
     "output_type": "execute_result"
    }
   ],
   "source": [
    "x.shape[0]"
   ]
  },
  {
   "cell_type": "code",
   "execution_count": 9,
   "id": "85af2f24-9c94-4140-b5a2-353eed9fae63",
   "metadata": {},
   "outputs": [
    {
     "data": {
      "text/plain": [
       "array([82.89473684, 77.46052632, 72.21052632, 67.14473684, 62.26315789,\n",
       "       57.56578947, 53.05263158, 48.72368421, 44.57894737, 40.61842105,\n",
       "       36.84210526, 33.25      , 29.84210526, 26.61842105, 23.57894737,\n",
       "       20.72368421, 18.05263158, 15.56578947, 13.26315789, 11.14473684,\n",
       "        9.21052632,  7.46052632,  5.89473684,  4.51315789,  3.31578947,\n",
       "        2.30263158,  1.47368421,  0.82894737,  0.36842105,  0.09210526,\n",
       "        0.        ,  0.09210526,  0.36842105,  0.82894737,  1.47368421,\n",
       "        2.30263158,  3.31578947,  4.51315789,  5.89473684,  7.46052632,\n",
       "        9.21052632, 11.14473684, 13.26315789, 15.56578947, 18.05263158,\n",
       "       20.72368421, 23.57894737, 26.61842105, 29.84210526, 33.25      ,\n",
       "       36.84210526])"
      ]
     },
     "execution_count": 9,
     "metadata": {},
     "output_type": "execute_result"
    }
   ],
   "source": [
    "loss = (np.power((x * w.reshape(-1, 1)) - y, 2) / x.shape[0]).sum(axis=1)\n",
    "loss"
   ]
  },
  {
   "cell_type": "code",
   "execution_count": 10,
   "id": "a3083661-c6b7-47ac-ad90-47640bb7d1c3",
   "metadata": {},
   "outputs": [
    {
     "data": {
      "image/png": "[encoded data removed]",
      "text/plain": [
       "<Figure size 640x480 with 1 Axes>"
      ]
     },
     "metadata": {},
     "output_type": "display_data"
    }
   ],
   "source": [
    "# нарисуем \n",
    "plt.plot(w, loss)\n",
    "plt.title(r'$L(w) = \\frac{1}{n}\\sum_{i=1}^{n}\\left(x_iw - y_i\\right)^2$')\n",
    "plt.ylabel('MSE')\n",
    "plt.xlabel(\"w \")\n",
    "plt.plot(3, 0, 'og') \n",
    "\n",
    "plt.show()"
   ]
  },
  {
   "cell_type": "code",
   "execution_count": 11,
   "id": "c7aec6e0-e09e-422c-a62b-960d4438c370",
   "metadata": {},
   "outputs": [
    {
     "data": {
      "image/png": "[encoded data removed]",
      "text/plain": [
       "<Figure size 640x480 with 1 Axes>"
      ]
     },
     "metadata": {},
     "output_type": "display_data"
    }
   ],
   "source": [
    "# нарисуем \n",
    "plt.plot(w, loss)\n",
    "plt.title(r'$L(w) = \\frac{1}{n}\\sum_{i=1}^{n}\\left(x_iw - y_i\\right)^2$')\n",
    "plt.ylabel('MSE')\n",
    "plt.xlabel(\"w \")\n",
    "plt.plot(3, 0, 'og') \n",
    "plt.plot([2,4], [0,0], color='orange')\n",
    "plt.text(1, 60, 'Мы могли найти это решение аналитически, \\nноль проблем.\\n\\nА если бы функция не была дифференцируема?')\n",
    "plt.text(3, 50, '$MSE_{min} ≈ $' + str(round(loss.min(), 2)))\n",
    "plt.text(3, 40, f'Min: ({w[np.argmin(loss)]:.2f}, {loss.min():.2f})')\n",
    "\n",
    "plt.show()"
   ]
  },
  {
   "cell_type": "markdown",
   "id": "0838406e-715a-4144-952f-60fde1f011a5",
   "metadata": {},
   "source": [
    "Добавим шума, чтобы посмотреть, как изменится график функции потерь."
   ]
  },
  {
   "cell_type": "code",
   "execution_count": 34,
   "id": "b7eef0ed-8ca8-4343-abf9-e808b1ac4811",
   "metadata": {},
   "outputs": [
    {
     "data": {
      "image/png": "[encoded data removed]",
      "text/plain": [
       "<Figure size 1000x400 with 2 Axes>"
      ]
     },
     "metadata": {},
     "output_type": "display_data"
    }
   ],
   "source": [
    "# сгенерируем выборку\n",
    "x = np.linspace(-5, 5, 20) \n",
    "y = 3*x + np.random.normal(0, 2.5, 20)\n",
    "\n",
    "# построим график\n",
    "plt.figure(figsize=(10, 4))\n",
    "\n",
    "plt.subplot(1, 2, 1)\n",
    "plt.plot(x, y, 'o')\n",
    "plt.title('$ y = 3x + \\epsilon$')\n",
    "plt.xlabel('x')\n",
    "plt.ylabel('y')\n",
    "\n",
    "loss = (np.power((x * w.reshape(-1, 1)) - y, 2) / x.shape[0]).sum(axis=1)\n",
    "\n",
    "plt.subplot(1, 2, 2)\n",
    "plt.plot(w, loss)\n",
    "plt.title(r'$L(w) = \\frac{1}{n}\\sum_{i=1}^{n}\\left(x_iw - y_i\\right)^2$')\n",
    "plt.ylabel('MSE')\n",
    "plt.xlabel(\"w \")\n",
    "plt.plot(w[np.argmin(loss)], loss.min(), 'og') \n",
    "plt.plot([w[np.argmin(loss)]-1,w[np.argmin(loss)]+1], [loss.min()] * 2, color='orange')\n",
    "plt.text(3, 60, '$MSE_{min} ≈ $' + str(round(loss.min(), 2)))\n",
    "plt.text(3, 50, f'Min: ({w[np.argmin(loss)]:.2f}, {loss.min():.2f})')\n",
    "\n",
    "\n",
    "plt.show()"
   ]
  },
  {
   "cell_type": "markdown",
   "id": "aa4ff225-8488-4238-af81-2517ab947804",
   "metadata": {},
   "source": [
    "Зачастую уравнение $f'(x) = 0$ не имеет решений, например для $f(x) = x^6 + 2x^5 + 3x^2 + 4$. "
   ]
  },
  {
   "attachments": {
    "d9b46d17-80a2-4f6c-a4e5-478c69cbdf14.png": {
     "image/png": "[encoded data removed]"
    }
   },
   "cell_type": "markdown",
   "id": "c63d13dc-6f59-467c-b1e9-627081ce59b5",
   "metadata": {},
   "source": [
    "## Найдем минимум с помощью градиентного спуска.\n",
    "![изображение.png](attachment:d9b46d17-80a2-4f6c-a4e5-478c69cbdf14.png)\n",
    "\n",
    "Положим случайно куда-нибудь \"мячик\", далее он скатится в минимум.  \n",
    "А если мячик мы положили в простанство весов для MSE, то задача выпукла и минимум там один. Ура!"
   ]
  },
  {
   "cell_type": "markdown",
   "id": "abd9e519-8e95-45b4-a4d0-1cf74a94152d",
   "metadata": {},
   "source": [
    "Формальнее напишем так:\n",
    "1. Инициализируем случайные веса, т.е. положим мячик в случайное место в нашем омега-пространстве. Назовём эту точку $w_1$;\n",
    "2. Найдем следующее положение мячика как $ w_2 = w_1 - lr\\cdot f'(w_1) $, где lr (learning rate) -- размер шага, который мы делаем в направлении, обратном от направления роста функции (мы же хотим в минимум);  \n",
    "3. Будем повторять \"шаги\" в виде $w_{n+1} = w_n - lr\\cdot f'(w_n)$ до какого-то момента   \n",
    "(например, пока не сделаем 100 шагов, или пока $f'(w_n)$ не станет очень маленьким.  \n",
    "\n",
    "Для функции многих переменных мы используем градиент, то есть вектор из частных производных.  \n",
    "Он указывает направление роста функции."
   ]
  },
  {
   "cell_type": "markdown",
   "id": "62d18ef8-b7d4-450d-8c77-52e90b3e6477",
   "metadata": {},
   "source": [
    "#### Недостатки:\n",
    "- Зависит от выбранного $lr$;\n",
    "- Долго катится по плато при фиксированном $lr$;"
   ]
  },
  {
   "cell_type": "markdown",
   "id": "c51fb507-eff1-4ca8-8e77-65725947d26e",
   "metadata": {},
   "source": [
    "<img src='https://miro.medium.com/max/1400/1*7VyTVnlVj2Ooqa3MRSRFEQ.gif' />"
   ]
  },
  {
   "cell_type": "markdown",
   "id": "0ea6d143-3191-4e84-8e83-88ab84dba586",
   "metadata": {},
   "source": [
    "#### Справа изображён график только для угла наклона, хотя оптимизируем и угол, и свободный член\n",
    "![](https://baptiste-monpezat.github.io/6f5cc892ec345d96f64c881b62b0d910/gradient_descent_parameter_a.gif)"
   ]
  },
  {
   "cell_type": "markdown",
   "id": "573742f3-9e47-44b5-a990-5cbdad222736",
   "metadata": {},
   "source": [
    "#### Модификации градиентного спуска\n",
    "\n",
    "\n",
    "![Mod](https://static.wixstatic.com/media/3eee0b_33163162ddd94900b7d9f5b049e9b7e3~mv2.gif 'Mod')"
   ]
  },
  {
   "cell_type": "markdown",
   "id": "b9e96ed0-0c80-4286-a49a-9fccc6c3261e",
   "metadata": {},
   "source": [
    "#### Стохастический градиентный спуск: дешёво и сердито!  \n",
    "\n",
    "Алгоритм:  \n",
    "1. Перемешиваем записи (то есть векторы-строки с признаками);  \n",
    "2. Считаем градиент по одному образцу;  \n",
    "3. Делаем шаг;  \n",
    "4. Повторяем пункт. 2 следующей записи;  \n",
    "5. Делаем шаг;\n",
    "6. Когда пройдемся по всем записям, то опять перемешаем, и будем повторять пункты 2,3;  \n",
    "7. И так пока не сойдемся...  \n",
    "\n",
    "Т.е. различие от обычного градиентного спуска (BATCH GRADIENT DESCENT) мы считаем градиент не по всем записям, а по одному, каждый раз делая шаг.  \n",
    "\n",
    "Компромисс -- mini-batch gradient descent, когда мы считаем градиент по группам записей, но не по всем."
   ]
  },
  {
   "cell_type": "markdown",
   "id": "30da89a7-0bb0-4ead-af4f-4dae8ec295a0",
   "metadata": {
    "tags": []
   },
   "source": [
    "## Кросс-валидация\n",
    "\n",
    "Мы не должны видеть тестовый датасет до самого конца, но хотим найти оптимальные гиперпараметры модели. Для этого мы используем валидационный датасет. Вылезают две проблемы:  \n",
    "1. Мы должны выделить некоторое количество данных для валидационной выборки, т.е. мы теряем данные для обучения;  \n",
    "2. В валидационный датасет могут попасть \"хорошие\" данные, на которых наша модель себя проявит хорошо, но если бы попали другие данные, то модель могла бы работать хуже. Иными словами, нам может случайно повезти и мы получим маленький лосс, хотя гиперпараметры всё ещё неоптимальны.\n",
    "\n",
    "*Кросс-валидация*:\n",
    "- Разобьем данные для обучения на несколько частей (folds);\n",
    "- Для каждого из фолдов проделаем следующее: обучимся на оставшихся фолдах, а на текущем фолде провалидируемся;\n",
    "- Если мы разбили обучающую выборку на k фолдов, то получим k метрик. Будем использовать их среднее, например.  \n",
    "- А далее поменяем гиперпараметры и проведём валидацию заново;  \n",
    "- Так будем делать до тех пор, пока не убедимся, что отобрали оптимальные значения. \n",
    "- **И только потом проверимся на тесте!**\n",
    "\n",
    "<img src='https://scikit-learn.org/stable/_images/grid_search_cross_validation.png' width=50% />"
   ]
  },
  {
   "cell_type": "markdown",
   "id": "5982ab83-95db-4afd-a2c6-50d1a05218ad",
   "metadata": {},
   "source": [
    "## Практика"
   ]
  },
  {
   "cell_type": "code",
   "execution_count": 2,
   "id": "f0222ab7-26bb-42cd-87c6-fd46d99a7409",
   "metadata": {
    "tags": []
   },
   "outputs": [],
   "source": [
    "from sklearn.linear_model import SGDRegressor\n",
    "from sklearn.metrics import mean_squared_error, r2_score\n",
    "from sklearn.preprocessing import StandardScaler\n",
    "from sklearn.model_selection import train_test_split"
   ]
  },
  {
   "cell_type": "code",
   "execution_count": 3,
   "id": "7d96e603-2d0d-48a1-9ede-ddc4a7cd3292",
   "metadata": {
    "tags": []
   },
   "outputs": [],
   "source": [
    "import pandas as pd\n",
    "import numpy as np\n",
    "\n",
    "import matplotlib.pyplot as plt\n",
    "import seaborn as sns\n",
    "\n",
    "from sklearn.linear_model import LinearRegression\n",
    "from sklearn.model_selection import cross_val_score"
   ]
  },
  {
   "cell_type": "markdown",
   "id": "aad76ee1-b540-40a6-b699-58d391dd6fc8",
   "metadata": {},
   "source": [
    "Описание датасета для работы:\n",
    "\n",
    "    Species: Species name of fish\n",
    "    Weight: Weight of fish in gram\n",
    "    Length1: Vertical length in cm\n",
    "    Length2: Diagonal length in cm\n",
    "    Length3: Cross length in cm\n",
    "    Height: Height in cm\n",
    "    Width: Diagonal width in cm\n",
    "\n",
    "Our dependent variable is 'Weight'. Independent variables are 'species', different lengths, 'height' and 'width'. "
   ]
  },
  {
   "cell_type": "markdown",
   "id": "383ca528-05f7-4e10-8c37-5c7f5e8d53e0",
   "metadata": {},
   "source": [
    "$ Weight = w_0 + w_1 * Length1 + w_2 * Length2 + w_3 * Length3 + w_4 * Height + w_5 * Width$"
   ]
  },
  {
   "cell_type": "code",
   "execution_count": 5,
   "id": "272313c7-6b55-43ca-9215-1b2efdffa2d2",
   "metadata": {
    "tags": []
   },
   "outputs": [
    {
     "data": {
      "text/html": [
       "<div>\n",
       "<style scoped>\n",
       "    .dataframe tbody tr th:only-of-type {\n",
       "        vertical-align: middle;\n",
       "    }\n",
       "\n",
       "    .dataframe tbody tr th {\n",
       "        vertical-align: top;\n",
       "    }\n",
       "\n",
       "    .dataframe thead th {\n",
       "        text-align: right;\n",
       "    }\n",
       "</style>\n",
       "<table border=\"1\" class=\"dataframe\">\n",
       "  <thead>\n",
       "    <tr style=\"text-align: right;\">\n",
       "      <th></th>\n",
       "      <th>Species</th>\n",
       "      <th>Weight</th>\n",
       "      <th>Length1</th>\n",
       "      <th>Length2</th>\n",
       "      <th>Length3</th>\n",
       "      <th>Height</th>\n",
       "      <th>Width</th>\n",
       "    </tr>\n",
       "  </thead>\n",
       "  <tbody>\n",
       "    <tr>\n",
       "      <th>0</th>\n",
       "      <td>Bream</td>\n",
       "      <td>242.0</td>\n",
       "      <td>23.2</td>\n",
       "      <td>25.4</td>\n",
       "      <td>30.0</td>\n",
       "      <td>11.5200</td>\n",
       "      <td>4.0200</td>\n",
       "    </tr>\n",
       "    <tr>\n",
       "      <th>1</th>\n",
       "      <td>Bream</td>\n",
       "      <td>290.0</td>\n",
       "      <td>24.0</td>\n",
       "      <td>26.3</td>\n",
       "      <td>31.2</td>\n",
       "      <td>12.4800</td>\n",
       "      <td>4.3056</td>\n",
       "    </tr>\n",
       "    <tr>\n",
       "      <th>2</th>\n",
       "      <td>Bream</td>\n",
       "      <td>340.0</td>\n",
       "      <td>23.9</td>\n",
       "      <td>26.5</td>\n",
       "      <td>31.1</td>\n",
       "      <td>12.3778</td>\n",
       "      <td>4.6961</td>\n",
       "    </tr>\n",
       "    <tr>\n",
       "      <th>3</th>\n",
       "      <td>Bream</td>\n",
       "      <td>363.0</td>\n",
       "      <td>26.3</td>\n",
       "      <td>29.0</td>\n",
       "      <td>33.5</td>\n",
       "      <td>12.7300</td>\n",
       "      <td>4.4555</td>\n",
       "    </tr>\n",
       "    <tr>\n",
       "      <th>4</th>\n",
       "      <td>Bream</td>\n",
       "      <td>430.0</td>\n",
       "      <td>26.5</td>\n",
       "      <td>29.0</td>\n",
       "      <td>34.0</td>\n",
       "      <td>12.4440</td>\n",
       "      <td>5.1340</td>\n",
       "    </tr>\n",
       "    <tr>\n",
       "      <th>...</th>\n",
       "      <td>...</td>\n",
       "      <td>...</td>\n",
       "      <td>...</td>\n",
       "      <td>...</td>\n",
       "      <td>...</td>\n",
       "      <td>...</td>\n",
       "      <td>...</td>\n",
       "    </tr>\n",
       "    <tr>\n",
       "      <th>154</th>\n",
       "      <td>Smelt</td>\n",
       "      <td>12.2</td>\n",
       "      <td>11.5</td>\n",
       "      <td>12.2</td>\n",
       "      <td>13.4</td>\n",
       "      <td>2.0904</td>\n",
       "      <td>1.3936</td>\n",
       "    </tr>\n",
       "    <tr>\n",
       "      <th>155</th>\n",
       "      <td>Smelt</td>\n",
       "      <td>13.4</td>\n",
       "      <td>11.7</td>\n",
       "      <td>12.4</td>\n",
       "      <td>13.5</td>\n",
       "      <td>2.4300</td>\n",
       "      <td>1.2690</td>\n",
       "    </tr>\n",
       "    <tr>\n",
       "      <th>156</th>\n",
       "      <td>Smelt</td>\n",
       "      <td>12.2</td>\n",
       "      <td>12.1</td>\n",
       "      <td>13.0</td>\n",
       "      <td>13.8</td>\n",
       "      <td>2.2770</td>\n",
       "      <td>1.2558</td>\n",
       "    </tr>\n",
       "    <tr>\n",
       "      <th>157</th>\n",
       "      <td>Smelt</td>\n",
       "      <td>19.7</td>\n",
       "      <td>13.2</td>\n",
       "      <td>14.3</td>\n",
       "      <td>15.2</td>\n",
       "      <td>2.8728</td>\n",
       "      <td>2.0672</td>\n",
       "    </tr>\n",
       "    <tr>\n",
       "      <th>158</th>\n",
       "      <td>Smelt</td>\n",
       "      <td>19.9</td>\n",
       "      <td>13.8</td>\n",
       "      <td>15.0</td>\n",
       "      <td>16.2</td>\n",
       "      <td>2.9322</td>\n",
       "      <td>1.8792</td>\n",
       "    </tr>\n",
       "  </tbody>\n",
       "</table>\n",
       "<p>159 rows × 7 columns</p>\n",
       "</div>"
      ],
      "text/plain": [
       "    Species  Weight  Length1  Length2  Length3   Height   Width\n",
       "0     Bream   242.0     23.2     25.4     30.0  11.5200  4.0200\n",
       "1     Bream   290.0     24.0     26.3     31.2  12.4800  4.3056\n",
       "2     Bream   340.0     23.9     26.5     31.1  12.3778  4.6961\n",
       "3     Bream   363.0     26.3     29.0     33.5  12.7300  4.4555\n",
       "4     Bream   430.0     26.5     29.0     34.0  12.4440  5.1340\n",
       "..      ...     ...      ...      ...      ...      ...     ...\n",
       "154   Smelt    12.2     11.5     12.2     13.4   2.0904  1.3936\n",
       "155   Smelt    13.4     11.7     12.4     13.5   2.4300  1.2690\n",
       "156   Smelt    12.2     12.1     13.0     13.8   2.2770  1.2558\n",
       "157   Smelt    19.7     13.2     14.3     15.2   2.8728  2.0672\n",
       "158   Smelt    19.9     13.8     15.0     16.2   2.9322  1.8792\n",
       "\n",
       "[159 rows x 7 columns]"
      ]
     },
     "execution_count": 5,
     "metadata": {},
     "output_type": "execute_result"
    }
   ],
   "source": [
    "df = pd.read_csv('../13_ML_regularization/data/Fish.csv')\n",
    "df"
   ]
  },
  {
   "cell_type": "code",
   "execution_count": 6,
   "id": "e0639cdc-e2d1-45a2-bd1d-3ed20e00bc01",
   "metadata": {
    "tags": []
   },
   "outputs": [],
   "source": [
    "# пока поработаем только с численными признаками без целевой переменной\n",
    "numcols = df.columns[2:]\n",
    "target = df['Weight']"
   ]
  },
  {
   "cell_type": "code",
   "execution_count": 7,
   "id": "1ddfe006-a994-4264-8604-dad059424b58",
   "metadata": {
    "tags": []
   },
   "outputs": [],
   "source": [
    "X_train, X_test, y_train, y_test = train_test_split(df[numcols], target, random_state=42, test_size=0.25)"
   ]
  },
  {
   "cell_type": "code",
   "execution_count": 8,
   "id": "f569f305-dd3d-494c-82ab-e3a959acf60f",
   "metadata": {
    "tags": []
   },
   "outputs": [
    {
     "data": {
      "text/plain": [
       "((119, 5), (40, 5))"
      ]
     },
     "execution_count": 8,
     "metadata": {},
     "output_type": "execute_result"
    }
   ],
   "source": [
    "X_train.shape, X_test.shape"
   ]
  },
  {
   "cell_type": "code",
   "execution_count": 9,
   "id": "ea7d3582-4c7b-4f78-8484-f08b95661e00",
   "metadata": {
    "tags": []
   },
   "outputs": [],
   "source": [
    "from sklearn.metrics import make_scorer\n",
    "\n",
    "scorer = make_scorer(mean_squared_error, greater_is_better=False)"
   ]
  },
  {
   "cell_type": "code",
   "execution_count": 11,
   "id": "036e5b3c-b93e-44de-86d1-3a73de620b77",
   "metadata": {
    "tags": []
   },
   "outputs": [
    {
     "name": "stdout",
     "output_type": "stream",
     "text": [
      "[-14664.4612137  -19695.31106489  -9948.11178329 -28867.14939444\n",
      " -12404.14373444]\n",
      "-17115.835438152517\n"
     ]
    }
   ],
   "source": [
    "model = LinearRegression()\n",
    "\n",
    "results = cross_val_score(model, X_train, y_train, scoring=scorer) \n",
    "print(results)\n",
    "print(results.mean())"
   ]
  },
  {
   "cell_type": "code",
   "execution_count": 13,
   "id": "e99805eb-e9d9-44bb-b2ab-1bd0d06ca07b",
   "metadata": {},
   "outputs": [
    {
     "data": {
      "text/plain": [
       "array([14664.4612137 , 19695.31106489,  9948.11178329, 28867.14939444,\n",
       "       12404.14373444])"
      ]
     },
     "execution_count": 13,
     "metadata": {},
     "output_type": "execute_result"
    }
   ],
   "source": [
    "results*-1"
   ]
  },
  {
   "cell_type": "code",
   "execution_count": 12,
   "id": "8234a5ce-fc9c-468f-aeee-dca0617b1641",
   "metadata": {},
   "outputs": [
    {
     "name": "stdout",
     "output_type": "stream",
     "text": [
      "128.49087168212804\n"
     ]
    }
   ],
   "source": [
    "print(np.sqrt(results*-1).mean())"
   ]
  },
  {
   "cell_type": "code",
   "execution_count": 16,
   "id": "977d6035-02b7-4006-bef9-512767c7c6db",
   "metadata": {
    "tags": []
   },
   "outputs": [
    {
     "name": "stdout",
     "output_type": "stream",
     "text": [
      "15271.289203414188\n",
      "123.57705775512778\n"
     ]
    }
   ],
   "source": [
    "model.fit(X_train, y_train)\n",
    "\n",
    "y_pred = model.predict(X_test)\n",
    "\n",
    "print(mean_squared_error(y_test, y_pred)) # MSE\n",
    "print(np.sqrt(mean_squared_error(y_test, y_pred))) # RMSE\n"
   ]
  },
  {
   "cell_type": "markdown",
   "id": "6ed81f24-39d0-4766-9c25-43d6421b240a",
   "metadata": {},
   "source": [
    "## с регуляризацией"
   ]
  },
  {
   "cell_type": "code",
   "execution_count": 17,
   "id": "e2605768-a2aa-4eb3-a973-49bae9ebe38c",
   "metadata": {
    "tags": []
   },
   "outputs": [
    {
     "name": "stdout",
     "output_type": "stream",
     "text": [
      "1.1641086721199024e+24\n",
      "1078938678572.5602\n"
     ]
    }
   ],
   "source": [
    "model = SGDRegressor(penalty=None, max_iter=1000000)\n",
    "\n",
    "model.fit(X_train, y_train)\n",
    "\n",
    "y_pred = model.predict(X_test)\n",
    "\n",
    "print(mean_squared_error(y_test, y_pred)) # MSE\n",
    "print(np.sqrt(mean_squared_error(y_test, y_pred))) # RMSE"
   ]
  },
  {
   "cell_type": "code",
   "execution_count": 18,
   "id": "35a94b1f-cb0b-498a-8826-40069380a151",
   "metadata": {},
   "outputs": [
    {
     "name": "stdout",
     "output_type": "stream",
     "text": [
      "47374.8207132994\n",
      "217.65757674222922\n"
     ]
    }
   ],
   "source": [
    "model = SGDRegressor(penalty=None, max_iter=1000000,  eta0 = 1e-7) # 0.01\n",
    "\n",
    "model.fit(X_train, y_train)\n",
    "\n",
    "y_pred = model.predict(X_test)\n",
    "\n",
    "print(mean_squared_error(y_test, y_pred)) # MSE\n",
    "print(np.sqrt(mean_squared_error(y_test, y_pred))) # RMSE"
   ]
  },
  {
   "cell_type": "code",
   "execution_count": 23,
   "id": "f317f0ec-ddfe-42ec-8f8e-3597233b290c",
   "metadata": {
    "tags": []
   },
   "outputs": [
    {
     "name": "stdout",
     "output_type": "stream",
     "text": [
      "47539.539958157344\n",
      "218.03563919267268\n"
     ]
    }
   ],
   "source": [
    "model = SGDRegressor(penalty='l2', alpha=0.5, max_iter=1000000, learning_rate ='constant', eta0=1e-6)\n",
    "\n",
    "model.fit(X_train, y_train)\n",
    "\n",
    "y_pred = model.predict(X_test)\n",
    "\n",
    "print(mean_squared_error(y_test, y_pred)) # MSE\n",
    "print(np.sqrt(mean_squared_error(y_test, y_pred))) # RMSE"
   ]
  },
  {
   "cell_type": "code",
   "execution_count": 24,
   "id": "38de5720-2938-4b4b-8f87-7a2205a241d9",
   "metadata": {
    "tags": []
   },
   "outputs": [],
   "source": [
    "from sklearn.model_selection import GridSearchCV"
   ]
  },
  {
   "cell_type": "code",
   "execution_count": 25,
   "id": "edc5b143-6331-478b-b82e-855457980bf2",
   "metadata": {
    "tags": []
   },
   "outputs": [],
   "source": [
    "from sklearn.linear_model import Ridge"
   ]
  },
  {
   "cell_type": "code",
   "execution_count": 26,
   "id": "a002c3ad-7548-4b32-b8af-992d4469cb47",
   "metadata": {
    "tags": []
   },
   "outputs": [],
   "source": [
    "params = {'alpha': [0, 1e-4, 1e-3, 1e-2, 0.1, 0.5, 1, 5, 10]}\n",
    "\n",
    "scorer = make_scorer(mean_squared_error, greater_is_better=False)\n",
    "\n",
    "ridge_model = Ridge()\n",
    "model = GridSearchCV(ridge_model, param_grid=params, scoring=scorer, verbose=10, cv=4, n_jobs=1)"
   ]
  },
  {
   "cell_type": "code",
   "execution_count": 27,
   "id": "6c235914-72df-4a3a-9726-ca10871c4694",
   "metadata": {
    "tags": []
   },
   "outputs": [
    {
     "name": "stdout",
     "output_type": "stream",
     "text": [
      "Fitting 4 folds for each of 9 candidates, totalling 36 fits\n",
      "[CV 1/4; 1/9] START alpha=0.....................................................\n",
      "[CV 1/4; 1/9] END .................alpha=0;, score=-17412.453 total time=   0.0s\n",
      "[CV 2/4; 1/9] START alpha=0.....................................................\n",
      "[CV 2/4; 1/9] END .................alpha=0;, score=-18649.608 total time=   0.0s\n",
      "[CV 3/4; 1/9] START alpha=0.....................................................\n",
      "[CV 3/4; 1/9] END .................alpha=0;, score=-23673.801 total time=   0.0s\n",
      "[CV 4/4; 1/9] START alpha=0.....................................................\n",
      "[CV 4/4; 1/9] END .................alpha=0;, score=-12067.543 total time=   0.0s\n",
      "[CV 1/4; 2/9] START alpha=0.0001................................................\n",
      "[CV 1/4; 2/9] END ............alpha=0.0001;, score=-17412.436 total time=   0.0s\n",
      "[CV 2/4; 2/9] START alpha=0.0001................................................\n",
      "[CV 2/4; 2/9] END ............alpha=0.0001;, score=-18649.600 total time=   0.0s\n",
      "[CV 3/4; 2/9] START alpha=0.0001................................................\n",
      "[CV 3/4; 2/9] END ............alpha=0.0001;, score=-23673.700 total time=   0.0s\n",
      "[CV 4/4; 2/9] START alpha=0.0001................................................\n",
      "[CV 4/4; 2/9] END ............alpha=0.0001;, score=-12067.544 total time=   0.0s\n",
      "[CV 1/4; 3/9] START alpha=0.001.................................................\n",
      "[CV 1/4; 3/9] END .............alpha=0.001;, score=-17412.291 total time=   0.0s\n",
      "[CV 2/4; 3/9] START alpha=0.001.................................................\n",
      "[CV 2/4; 3/9] END .............alpha=0.001;, score=-18649.530 total time=   0.0s\n",
      "[CV 3/4; 3/9] START alpha=0.001.................................................\n",
      "[CV 3/4; 3/9] END .............alpha=0.001;, score=-23672.790 total time=   0.0s\n",
      "[CV 4/4; 3/9] START alpha=0.001.................................................\n",
      "[CV 4/4; 3/9] END .............alpha=0.001;, score=-12067.545 total time=   0.0s\n",
      "[CV 1/4; 4/9] START alpha=0.01..................................................\n",
      "[CV 1/4; 4/9] END ..............alpha=0.01;, score=-17410.843 total time=   0.0s\n",
      "[CV 2/4; 4/9] START alpha=0.01..................................................\n",
      "[CV 2/4; 4/9] END ..............alpha=0.01;, score=-18648.827 total time=   0.0s\n",
      "[CV 3/4; 4/9] START alpha=0.01..................................................\n",
      "[CV 3/4; 4/9] END ..............alpha=0.01;, score=-23663.731 total time=   0.0s\n",
      "[CV 4/4; 4/9] START alpha=0.01..................................................\n",
      "[CV 4/4; 4/9] END ..............alpha=0.01;, score=-12067.559 total time=   0.0s\n",
      "[CV 1/4; 5/9] START alpha=0.1...................................................\n",
      "[CV 1/4; 5/9] END ...............alpha=0.1;, score=-17396.546 total time=   0.0s\n",
      "[CV 2/4; 5/9] START alpha=0.1...................................................\n",
      "[CV 2/4; 5/9] END ...............alpha=0.1;, score=-18642.179 total time=   0.0s\n",
      "[CV 3/4; 5/9] START alpha=0.1...................................................\n",
      "[CV 3/4; 5/9] END ...............alpha=0.1;, score=-23577.533 total time=   0.0s\n",
      "[CV 4/4; 5/9] START alpha=0.1...................................................\n",
      "[CV 4/4; 5/9] END ...............alpha=0.1;, score=-12067.777 total time=   0.0s\n",
      "[CV 1/4; 6/9] START alpha=0.5...................................................\n",
      "[CV 1/4; 6/9] END ...............alpha=0.5;, score=-17336.873 total time=   0.0s\n",
      "[CV 2/4; 6/9] START alpha=0.5...................................................\n",
      "[CV 2/4; 6/9] END ...............alpha=0.5;, score=-18619.270 total time=   0.0s\n",
      "[CV 3/4; 6/9] START alpha=0.5...................................................\n",
      "[CV 3/4; 6/9] END ...............alpha=0.5;, score=-23270.402 total time=   0.0s\n",
      "[CV 4/4; 6/9] START alpha=0.5...................................................\n",
      "[CV 4/4; 6/9] END ...............alpha=0.5;, score=-12070.083 total time=   0.0s\n",
      "[CV 1/4; 7/9] START alpha=1.....................................................\n",
      "[CV 1/4; 7/9] END .................alpha=1;, score=-17269.975 total time=   0.0s\n",
      "[CV 2/4; 7/9] START alpha=1.....................................................\n",
      "[CV 2/4; 7/9] END .................alpha=1;, score=-18600.562 total time=   0.0s\n",
      "[CV 3/4; 7/9] START alpha=1.....................................................\n",
      "[CV 3/4; 7/9] END .................alpha=1;, score=-22999.977 total time=   0.0s\n",
      "[CV 4/4; 7/9] START alpha=1.....................................................\n",
      "[CV 4/4; 7/9] END .................alpha=1;, score=-12074.962 total time=   0.0s\n",
      "[CV 1/4; 8/9] START alpha=5.....................................................\n",
      "[CV 1/4; 8/9] END .................alpha=5;, score=-16928.763 total time=   0.0s\n",
      "[CV 2/4; 8/9] START alpha=5.....................................................\n",
      "[CV 2/4; 8/9] END .................alpha=5;, score=-18557.469 total time=   0.0s\n",
      "[CV 3/4; 8/9] START alpha=5.....................................................\n",
      "[CV 3/4; 8/9] END .................alpha=5;, score=-22121.635 total time=   0.0s\n",
      "[CV 4/4; 8/9] START alpha=5.....................................................\n",
      "[CV 4/4; 8/9] END .................alpha=5;, score=-12131.562 total time=   0.0s\n",
      "[CV 1/4; 9/9] START alpha=10....................................................\n",
      "[CV 1/4; 9/9] END ................alpha=10;, score=-16748.478 total time=   0.0s\n",
      "[CV 2/4; 9/9] START alpha=10....................................................\n",
      "[CV 2/4; 9/9] END ................alpha=10;, score=-18549.330 total time=   0.0s\n",
      "[CV 3/4; 9/9] START alpha=10....................................................\n",
      "[CV 3/4; 9/9] END ................alpha=10;, score=-21687.525 total time=   0.0s\n",
      "[CV 4/4; 9/9] START alpha=10....................................................\n",
      "[CV 4/4; 9/9] END ................alpha=10;, score=-12200.499 total time=   0.0s\n"
     ]
    },
    {
     "data": {
      "text/html": [
       "<style>#sk-container-id-1 {color: black;}#sk-container-id-1 pre{padding: 0;}#sk-container-id-1 div.sk-toggleable {background-color: white;}#sk-container-id-1 label.sk-toggleable__label {cursor: pointer;display: block;width: 100%;margin-bottom: 0;padding: 0.3em;box-sizing: border-box;text-align: center;}#sk-container-id-1 label.sk-toggleable__label-arrow:before {content: \"▸\";float: left;margin-right: 0.25em;color: #696969;}#sk-container-id-1 label.sk-toggleable__label-arrow:hover:before {color: black;}#sk-container-id-1 div.sk-estimator:hover label.sk-toggleable__label-arrow:before {color: black;}#sk-container-id-1 div.sk-toggleable__content {max-height: 0;max-width: 0;overflow: hidden;text-align: left;background-color: #f0f8ff;}#sk-container-id-1 div.sk-toggleable__content pre {margin: 0.2em;color: black;border-radius: 0.25em;background-color: #f0f8ff;}#sk-container-id-1 input.sk-toggleable__control:checked~div.sk-toggleable__content {max-height: 200px;max-width: 100%;overflow: auto;}#sk-container-id-1 input.sk-toggleable__control:checked~label.sk-toggleable__label-arrow:before {content: \"▾\";}#sk-container-id-1 div.sk-estimator input.sk-toggleable__control:checked~label.sk-toggleable__label {background-color: #d4ebff;}#sk-container-id-1 div.sk-label input.sk-toggleable__control:checked~label.sk-toggleable__label {background-color: #d4ebff;}#sk-container-id-1 input.sk-hidden--visually {border: 0;clip: rect(1px 1px 1px 1px);clip: rect(1px, 1px, 1px, 1px);height: 1px;margin: -1px;overflow: hidden;padding: 0;position: absolute;width: 1px;}#sk-container-id-1 div.sk-estimator {font-family: monospace;background-color: #f0f8ff;border: 1px dotted black;border-radius: 0.25em;box-sizing: border-box;margin-bottom: 0.5em;}#sk-container-id-1 div.sk-estimator:hover {background-color: #d4ebff;}#sk-container-id-1 div.sk-parallel-item::after {content: \"\";width: 100%;border-bottom: 1px solid gray;flex-grow: 1;}#sk-container-id-1 div.sk-label:hover label.sk-toggleable__label {background-color: #d4ebff;}#sk-container-id-1 div.sk-serial::before {content: \"\";position: absolute;border-left: 1px solid gray;box-sizing: border-box;top: 0;bottom: 0;left: 50%;z-index: 0;}#sk-container-id-1 div.sk-serial {display: flex;flex-direction: column;align-items: center;background-color: white;padding-right: 0.2em;padding-left: 0.2em;position: relative;}#sk-container-id-1 div.sk-item {position: relative;z-index: 1;}#sk-container-id-1 div.sk-parallel {display: flex;align-items: stretch;justify-content: center;background-color: white;position: relative;}#sk-container-id-1 div.sk-item::before, #sk-container-id-1 div.sk-parallel-item::before {content: \"\";position: absolute;border-left: 1px solid gray;box-sizing: border-box;top: 0;bottom: 0;left: 50%;z-index: -1;}#sk-container-id-1 div.sk-parallel-item {display: flex;flex-direction: column;z-index: 1;position: relative;background-color: white;}#sk-container-id-1 div.sk-parallel-item:first-child::after {align-self: flex-end;width: 50%;}#sk-container-id-1 div.sk-parallel-item:last-child::after {align-self: flex-start;width: 50%;}#sk-container-id-1 div.sk-parallel-item:only-child::after {width: 0;}#sk-container-id-1 div.sk-dashed-wrapped {border: 1px dashed gray;margin: 0 0.4em 0.5em 0.4em;box-sizing: border-box;padding-bottom: 0.4em;background-color: white;}#sk-container-id-1 div.sk-label label {font-family: monospace;font-weight: bold;display: inline-block;line-height: 1.2em;}#sk-container-id-1 div.sk-label-container {text-align: center;}#sk-container-id-1 div.sk-container {/* jupyter's `normalize.less` sets `[hidden] { display: none; }` but bootstrap.min.css set `[hidden] { display: none !important; }` so we also need the `!important` here to be able to override the default hidden behavior on the sphinx rendered scikit-learn.org. See: https://github.com/scikit-learn/scikit-learn/issues/21755 */display: inline-block !important;position: relative;}#sk-container-id-1 div.sk-text-repr-fallback {display: none;}</style><div id=\"sk-container-id-1\" class=\"sk-top-container\"><div class=\"sk-text-repr-fallback\"><pre>GridSearchCV(cv=4, estimator=Ridge(), n_jobs=1,\n",
       "             param_grid={&#x27;alpha&#x27;: [0, 0.0001, 0.001, 0.01, 0.1, 0.5, 1, 5, 10]},\n",
       "             scoring=make_scorer(mean_squared_error, greater_is_better=False),\n",
       "             verbose=10)</pre><b>In a Jupyter environment, please rerun this cell to show the HTML representation or trust the notebook. <br />On GitHub, the HTML representation is unable to render, please try loading this page with nbviewer.org.</b></div><div class=\"sk-container\" hidden><div class=\"sk-item sk-dashed-wrapped\"><div class=\"sk-label-container\"><div class=\"sk-label sk-toggleable\"><input class=\"sk-toggleable__control sk-hidden--visually\" id=\"sk-estimator-id-1\" type=\"checkbox\" ><label for=\"sk-estimator-id-1\" class=\"sk-toggleable__label sk-toggleable__label-arrow\">GridSearchCV</label><div class=\"sk-toggleable__content\"><pre>GridSearchCV(cv=4, estimator=Ridge(), n_jobs=1,\n",
       "             param_grid={&#x27;alpha&#x27;: [0, 0.0001, 0.001, 0.01, 0.1, 0.5, 1, 5, 10]},\n",
       "             scoring=make_scorer(mean_squared_error, greater_is_better=False),\n",
       "             verbose=10)</pre></div></div></div><div class=\"sk-parallel\"><div class=\"sk-parallel-item\"><div class=\"sk-item\"><div class=\"sk-label-container\"><div class=\"sk-label sk-toggleable\"><input class=\"sk-toggleable__control sk-hidden--visually\" id=\"sk-estimator-id-2\" type=\"checkbox\" ><label for=\"sk-estimator-id-2\" class=\"sk-toggleable__label sk-toggleable__label-arrow\">estimator: Ridge</label><div class=\"sk-toggleable__content\"><pre>Ridge()</pre></div></div></div><div class=\"sk-serial\"><div class=\"sk-item\"><div class=\"sk-estimator sk-toggleable\"><input class=\"sk-toggleable__control sk-hidden--visually\" id=\"sk-estimator-id-3\" type=\"checkbox\" ><label for=\"sk-estimator-id-3\" class=\"sk-toggleable__label sk-toggleable__label-arrow\">Ridge</label><div class=\"sk-toggleable__content\"><pre>Ridge()</pre></div></div></div></div></div></div></div></div></div></div>"
      ],
      "text/plain": [
       "GridSearchCV(cv=4, estimator=Ridge(), n_jobs=1,\n",
       "             param_grid={'alpha': [0, 0.0001, 0.001, 0.01, 0.1, 0.5, 1, 5, 10]},\n",
       "             scoring=make_scorer(mean_squared_error, greater_is_better=False),\n",
       "             verbose=10)"
      ]
     },
     "execution_count": 27,
     "metadata": {},
     "output_type": "execute_result"
    }
   ],
   "source": [
    "model.fit(X_train, y_train)"
   ]
  },
  {
   "cell_type": "code",
   "execution_count": 91,
   "id": "8201d730-1b80-411f-8352-93d0ab34c68b",
   "metadata": {
    "tags": []
   },
   "outputs": [
    {
     "data": {
      "text/plain": [
       "{'alpha': 10}"
      ]
     },
     "execution_count": 91,
     "metadata": {},
     "output_type": "execute_result"
    }
   ],
   "source": [
    "model.best_params_"
   ]
  },
  {
   "cell_type": "code",
   "execution_count": 28,
   "id": "247bbc72-16f2-4ba5-a548-4896feef685c",
   "metadata": {
    "tags": []
   },
   "outputs": [
    {
     "data": {
      "text/plain": [
       "131.51599929140335"
      ]
     },
     "execution_count": 28,
     "metadata": {},
     "output_type": "execute_result"
    }
   ],
   "source": [
    "np.sqrt(model.best_score_ * -1) # RMSE"
   ]
  },
  {
   "cell_type": "code",
   "execution_count": 29,
   "id": "7834b418-5bbc-4f44-8231-243657b6d9a6",
   "metadata": {
    "tags": []
   },
   "outputs": [
    {
     "data": {
      "text/plain": [
       "dict_keys(['mean_fit_time', 'std_fit_time', 'mean_score_time', 'std_score_time', 'param_alpha', 'params', 'split0_test_score', 'split1_test_score', 'split2_test_score', 'split3_test_score', 'mean_test_score', 'std_test_score', 'rank_test_score'])"
      ]
     },
     "execution_count": 29,
     "metadata": {},
     "output_type": "execute_result"
    }
   ],
   "source": [
    "model.cv_results_.keys()"
   ]
  },
  {
   "cell_type": "code",
   "execution_count": 30,
   "id": "b4cde1c4-149c-4e8a-955c-f0b915707aa7",
   "metadata": {
    "tags": []
   },
   "outputs": [
    {
     "data": {
      "text/plain": [
       "(array([17950.85140345, 17950.82014077, 17950.53891119, 17947.73987084,\n",
       "        17921.00885099, 17824.15698748, 17736.36901239, 17434.85711217,\n",
       "        17296.45806962]),\n",
       " array([9, 8, 7, 6, 5, 4, 3, 2, 1]))"
      ]
     },
     "execution_count": 30,
     "metadata": {},
     "output_type": "execute_result"
    }
   ],
   "source": [
    "model.cv_results_['mean_test_score'] * -1,  model.cv_results_['rank_test_score']"
   ]
  },
  {
   "cell_type": "code",
   "execution_count": 98,
   "id": "c196662b-8425-47c3-b427-4e82a530e039",
   "metadata": {
    "tags": []
   },
   "outputs": [
    {
     "data": {
      "text/html": [
       "<style>#sk-container-id-5 {color: black;background-color: white;}#sk-container-id-5 pre{padding: 0;}#sk-container-id-5 div.sk-toggleable {background-color: white;}#sk-container-id-5 label.sk-toggleable__label {cursor: pointer;display: block;width: 100%;margin-bottom: 0;padding: 0.3em;box-sizing: border-box;text-align: center;}#sk-container-id-5 label.sk-toggleable__label-arrow:before {content: \"▸\";float: left;margin-right: 0.25em;color: #696969;}#sk-container-id-5 label.sk-toggleable__label-arrow:hover:before {color: black;}#sk-container-id-5 div.sk-estimator:hover label.sk-toggleable__label-arrow:before {color: black;}#sk-container-id-5 div.sk-toggleable__content {max-height: 0;max-width: 0;overflow: hidden;text-align: left;background-color: #f0f8ff;}#sk-container-id-5 div.sk-toggleable__content pre {margin: 0.2em;color: black;border-radius: 0.25em;background-color: #f0f8ff;}#sk-container-id-5 input.sk-toggleable__control:checked~div.sk-toggleable__content {max-height: 200px;max-width: 100%;overflow: auto;}#sk-container-id-5 input.sk-toggleable__control:checked~label.sk-toggleable__label-arrow:before {content: \"▾\";}#sk-container-id-5 div.sk-estimator input.sk-toggleable__control:checked~label.sk-toggleable__label {background-color: #d4ebff;}#sk-container-id-5 div.sk-label input.sk-toggleable__control:checked~label.sk-toggleable__label {background-color: #d4ebff;}#sk-container-id-5 input.sk-hidden--visually {border: 0;clip: rect(1px 1px 1px 1px);clip: rect(1px, 1px, 1px, 1px);height: 1px;margin: -1px;overflow: hidden;padding: 0;position: absolute;width: 1px;}#sk-container-id-5 div.sk-estimator {font-family: monospace;background-color: #f0f8ff;border: 1px dotted black;border-radius: 0.25em;box-sizing: border-box;margin-bottom: 0.5em;}#sk-container-id-5 div.sk-estimator:hover {background-color: #d4ebff;}#sk-container-id-5 div.sk-parallel-item::after {content: \"\";width: 100%;border-bottom: 1px solid gray;flex-grow: 1;}#sk-container-id-5 div.sk-label:hover label.sk-toggleable__label {background-color: #d4ebff;}#sk-container-id-5 div.sk-serial::before {content: \"\";position: absolute;border-left: 1px solid gray;box-sizing: border-box;top: 0;bottom: 0;left: 50%;z-index: 0;}#sk-container-id-5 div.sk-serial {display: flex;flex-direction: column;align-items: center;background-color: white;padding-right: 0.2em;padding-left: 0.2em;position: relative;}#sk-container-id-5 div.sk-item {position: relative;z-index: 1;}#sk-container-id-5 div.sk-parallel {display: flex;align-items: stretch;justify-content: center;background-color: white;position: relative;}#sk-container-id-5 div.sk-item::before, #sk-container-id-5 div.sk-parallel-item::before {content: \"\";position: absolute;border-left: 1px solid gray;box-sizing: border-box;top: 0;bottom: 0;left: 50%;z-index: -1;}#sk-container-id-5 div.sk-parallel-item {display: flex;flex-direction: column;z-index: 1;position: relative;background-color: white;}#sk-container-id-5 div.sk-parallel-item:first-child::after {align-self: flex-end;width: 50%;}#sk-container-id-5 div.sk-parallel-item:last-child::after {align-self: flex-start;width: 50%;}#sk-container-id-5 div.sk-parallel-item:only-child::after {width: 0;}#sk-container-id-5 div.sk-dashed-wrapped {border: 1px dashed gray;margin: 0 0.4em 0.5em 0.4em;box-sizing: border-box;padding-bottom: 0.4em;background-color: white;}#sk-container-id-5 div.sk-label label {font-family: monospace;font-weight: bold;display: inline-block;line-height: 1.2em;}#sk-container-id-5 div.sk-label-container {text-align: center;}#sk-container-id-5 div.sk-container {/* jupyter's `normalize.less` sets `[hidden] { display: none; }` but bootstrap.min.css set `[hidden] { display: none !important; }` so we also need the `!important` here to be able to override the default hidden behavior on the sphinx rendered scikit-learn.org. See: https://github.com/scikit-learn/scikit-learn/issues/21755 */display: inline-block !important;position: relative;}#sk-container-id-5 div.sk-text-repr-fallback {display: none;}</style><div id=\"sk-container-id-5\" class=\"sk-top-container\"><div class=\"sk-text-repr-fallback\"><pre>Ridge(alpha=10)</pre><b>In a Jupyter environment, please rerun this cell to show the HTML representation or trust the notebook. <br />On GitHub, the HTML representation is unable to render, please try loading this page with nbviewer.org.</b></div><div class=\"sk-container\" hidden><div class=\"sk-item\"><div class=\"sk-estimator sk-toggleable\"><input class=\"sk-toggleable__control sk-hidden--visually\" id=\"sk-estimator-id-9\" type=\"checkbox\" checked><label for=\"sk-estimator-id-9\" class=\"sk-toggleable__label sk-toggleable__label-arrow\">Ridge</label><div class=\"sk-toggleable__content\"><pre>Ridge(alpha=10)</pre></div></div></div></div></div>"
      ],
      "text/plain": [
       "Ridge(alpha=10)"
      ]
     },
     "execution_count": 98,
     "metadata": {},
     "output_type": "execute_result"
    }
   ],
   "source": [
    "model.best_estimator_ # лучшая модель"
   ]
  },
  {
   "cell_type": "code",
   "execution_count": 31,
   "id": "a15d6f36-fb04-4be1-a1b6-be8747be0f75",
   "metadata": {
    "tags": []
   },
   "outputs": [],
   "source": [
    "y_pred = model.best_estimator_.predict(X_test)"
   ]
  },
  {
   "cell_type": "code",
   "execution_count": 33,
   "id": "0fc98f28-3f09-4376-818a-328f70ce3b0f",
   "metadata": {
    "tags": []
   },
   "outputs": [
    {
     "name": "stdout",
     "output_type": "stream",
     "text": [
      "15478.442168236172\n",
      "124.41238751923449\n"
     ]
    }
   ],
   "source": [
    "print(mean_squared_error(y_test, y_pred))\n",
    "print(mean_squared_error(y_test, y_pred) ** .5)"
   ]
  },
  {
   "cell_type": "markdown",
   "id": "824eb875-237e-4bcd-ba93-475d043aa026",
   "metadata": {},
   "source": [
    "#### GridSearchCV + SGDRegressor"
   ]
  },
  {
   "cell_type": "code",
   "execution_count": 38,
   "id": "a976ee3c-cc1c-4f0a-99f2-3cef0c7f7211",
   "metadata": {},
   "outputs": [],
   "source": [
    "params = {\n",
    "    'alpha': [0, 1e-4, 1e-3, 1e-2, 0.1, 0.5, 1, 5, 10],\n",
    "    'penalty': ['l1', 'l2', None],\n",
    "    'max_iter': [1000, 100_000, 1_000_000, 10_000_000],\n",
    "    'learning_rate': ['constant', 'adaptive', 'invascaling'],\n",
    "    'eta0': [1e-1, 1e-2, 1e-3, 1e-4, 1e-5, 1e-6, 1e-7]\n",
    "}"
   ]
  },
  {
   "cell_type": "code",
   "execution_count": 46,
   "id": "fbd654f3-bcdd-472b-acb0-b78c7771d7b3",
   "metadata": {},
   "outputs": [],
   "source": [
    "model = GridSearchCV(SGDRegressor(), param_grid=params, scoring=scorer, verbose=1, cv=4)"
   ]
  },
  {
   "cell_type": "code",
   "execution_count": 47,
   "id": "428cb1ec-a53c-4ecc-8adb-1e09739885fe",
   "metadata": {},
   "outputs": [],
   "source": [
    "import warnings\n",
    "warnings.filterwarnings('ignore')"
   ]
  },
  {
   "cell_type": "code",
   "execution_count": 49,
   "id": "e5643663-74d4-4422-890b-d78f93e31d1f",
   "metadata": {},
   "outputs": [
    {
     "name": "stdout",
     "output_type": "stream",
     "text": [
      "Fitting 4 folds for each of 2268 candidates, totalling 9072 fits\n",
      "Wall time: 4min 59s\n"
     ]
    },
    {
     "data": {
      "text/html": [
       "<style>#sk-container-id-3 {color: black;}#sk-container-id-3 pre{padding: 0;}#sk-container-id-3 div.sk-toggleable {background-color: white;}#sk-container-id-3 label.sk-toggleable__label {cursor: pointer;display: block;width: 100%;margin-bottom: 0;padding: 0.3em;box-sizing: border-box;text-align: center;}#sk-container-id-3 label.sk-toggleable__label-arrow:before {content: \"▸\";float: left;margin-right: 0.25em;color: #696969;}#sk-container-id-3 label.sk-toggleable__label-arrow:hover:before {color: black;}#sk-container-id-3 div.sk-estimator:hover label.sk-toggleable__label-arrow:before {color: black;}#sk-container-id-3 div.sk-toggleable__content {max-height: 0;max-width: 0;overflow: hidden;text-align: left;background-color: #f0f8ff;}#sk-container-id-3 div.sk-toggleable__content pre {margin: 0.2em;color: black;border-radius: 0.25em;background-color: #f0f8ff;}#sk-container-id-3 input.sk-toggleable__control:checked~div.sk-toggleable__content {max-height: 200px;max-width: 100%;overflow: auto;}#sk-container-id-3 input.sk-toggleable__control:checked~label.sk-toggleable__label-arrow:before {content: \"▾\";}#sk-container-id-3 div.sk-estimator input.sk-toggleable__control:checked~label.sk-toggleable__label {background-color: #d4ebff;}#sk-container-id-3 div.sk-label input.sk-toggleable__control:checked~label.sk-toggleable__label {background-color: #d4ebff;}#sk-container-id-3 input.sk-hidden--visually {border: 0;clip: rect(1px 1px 1px 1px);clip: rect(1px, 1px, 1px, 1px);height: 1px;margin: -1px;overflow: hidden;padding: 0;position: absolute;width: 1px;}#sk-container-id-3 div.sk-estimator {font-family: monospace;background-color: #f0f8ff;border: 1px dotted black;border-radius: 0.25em;box-sizing: border-box;margin-bottom: 0.5em;}#sk-container-id-3 div.sk-estimator:hover {background-color: #d4ebff;}#sk-container-id-3 div.sk-parallel-item::after {content: \"\";width: 100%;border-bottom: 1px solid gray;flex-grow: 1;}#sk-container-id-3 div.sk-label:hover label.sk-toggleable__label {background-color: #d4ebff;}#sk-container-id-3 div.sk-serial::before {content: \"\";position: absolute;border-left: 1px solid gray;box-sizing: border-box;top: 0;bottom: 0;left: 50%;z-index: 0;}#sk-container-id-3 div.sk-serial {display: flex;flex-direction: column;align-items: center;background-color: white;padding-right: 0.2em;padding-left: 0.2em;position: relative;}#sk-container-id-3 div.sk-item {position: relative;z-index: 1;}#sk-container-id-3 div.sk-parallel {display: flex;align-items: stretch;justify-content: center;background-color: white;position: relative;}#sk-container-id-3 div.sk-item::before, #sk-container-id-3 div.sk-parallel-item::before {content: \"\";position: absolute;border-left: 1px solid gray;box-sizing: border-box;top: 0;bottom: 0;left: 50%;z-index: -1;}#sk-container-id-3 div.sk-parallel-item {display: flex;flex-direction: column;z-index: 1;position: relative;background-color: white;}#sk-container-id-3 div.sk-parallel-item:first-child::after {align-self: flex-end;width: 50%;}#sk-container-id-3 div.sk-parallel-item:last-child::after {align-self: flex-start;width: 50%;}#sk-container-id-3 div.sk-parallel-item:only-child::after {width: 0;}#sk-container-id-3 div.sk-dashed-wrapped {border: 1px dashed gray;margin: 0 0.4em 0.5em 0.4em;box-sizing: border-box;padding-bottom: 0.4em;background-color: white;}#sk-container-id-3 div.sk-label label {font-family: monospace;font-weight: bold;display: inline-block;line-height: 1.2em;}#sk-container-id-3 div.sk-label-container {text-align: center;}#sk-container-id-3 div.sk-container {/* jupyter's `normalize.less` sets `[hidden] { display: none; }` but bootstrap.min.css set `[hidden] { display: none !important; }` so we also need the `!important` here to be able to override the default hidden behavior on the sphinx rendered scikit-learn.org. See: https://github.com/scikit-learn/scikit-learn/issues/21755 */display: inline-block !important;position: relative;}#sk-container-id-3 div.sk-text-repr-fallback {display: none;}</style><div id=\"sk-container-id-3\" class=\"sk-top-container\"><div class=\"sk-text-repr-fallback\"><pre>GridSearchCV(cv=4, estimator=SGDRegressor(),\n",
       "             param_grid={&#x27;alpha&#x27;: [0, 0.0001, 0.001, 0.01, 0.1, 0.5, 1, 5, 10],\n",
       "                         &#x27;eta0&#x27;: [0.1, 0.01, 0.001, 0.0001, 1e-05, 1e-06,\n",
       "                                  1e-07],\n",
       "                         &#x27;learning_rate&#x27;: [&#x27;constant&#x27;, &#x27;adaptive&#x27;,\n",
       "                                           &#x27;invascaling&#x27;],\n",
       "                         &#x27;max_iter&#x27;: [1000, 100000, 1000000, 10000000],\n",
       "                         &#x27;penalty&#x27;: [&#x27;l1&#x27;, &#x27;l2&#x27;, None]},\n",
       "             scoring=make_scorer(mean_squared_error, greater_is_better=False),\n",
       "             verbose=1)</pre><b>In a Jupyter environment, please rerun this cell to show the HTML representation or trust the notebook. <br />On GitHub, the HTML representation is unable to render, please try loading this page with nbviewer.org.</b></div><div class=\"sk-container\" hidden><div class=\"sk-item sk-dashed-wrapped\"><div class=\"sk-label-container\"><div class=\"sk-label sk-toggleable\"><input class=\"sk-toggleable__control sk-hidden--visually\" id=\"sk-estimator-id-7\" type=\"checkbox\" ><label for=\"sk-estimator-id-7\" class=\"sk-toggleable__label sk-toggleable__label-arrow\">GridSearchCV</label><div class=\"sk-toggleable__content\"><pre>GridSearchCV(cv=4, estimator=SGDRegressor(),\n",
       "             param_grid={&#x27;alpha&#x27;: [0, 0.0001, 0.001, 0.01, 0.1, 0.5, 1, 5, 10],\n",
       "                         &#x27;eta0&#x27;: [0.1, 0.01, 0.001, 0.0001, 1e-05, 1e-06,\n",
       "                                  1e-07],\n",
       "                         &#x27;learning_rate&#x27;: [&#x27;constant&#x27;, &#x27;adaptive&#x27;,\n",
       "                                           &#x27;invascaling&#x27;],\n",
       "                         &#x27;max_iter&#x27;: [1000, 100000, 1000000, 10000000],\n",
       "                         &#x27;penalty&#x27;: [&#x27;l1&#x27;, &#x27;l2&#x27;, None]},\n",
       "             scoring=make_scorer(mean_squared_error, greater_is_better=False),\n",
       "             verbose=1)</pre></div></div></div><div class=\"sk-parallel\"><div class=\"sk-parallel-item\"><div class=\"sk-item\"><div class=\"sk-label-container\"><div class=\"sk-label sk-toggleable\"><input class=\"sk-toggleable__control sk-hidden--visually\" id=\"sk-estimator-id-8\" type=\"checkbox\" ><label for=\"sk-estimator-id-8\" class=\"sk-toggleable__label sk-toggleable__label-arrow\">estimator: SGDRegressor</label><div class=\"sk-toggleable__content\"><pre>SGDRegressor()</pre></div></div></div><div class=\"sk-serial\"><div class=\"sk-item\"><div class=\"sk-estimator sk-toggleable\"><input class=\"sk-toggleable__control sk-hidden--visually\" id=\"sk-estimator-id-9\" type=\"checkbox\" ><label for=\"sk-estimator-id-9\" class=\"sk-toggleable__label sk-toggleable__label-arrow\">SGDRegressor</label><div class=\"sk-toggleable__content\"><pre>SGDRegressor()</pre></div></div></div></div></div></div></div></div></div></div>"
      ],
      "text/plain": [
       "GridSearchCV(cv=4, estimator=SGDRegressor(),\n",
       "             param_grid={'alpha': [0, 0.0001, 0.001, 0.01, 0.1, 0.5, 1, 5, 10],\n",
       "                         'eta0': [0.1, 0.01, 0.001, 0.0001, 1e-05, 1e-06,\n",
       "                                  1e-07],\n",
       "                         'learning_rate': ['constant', 'adaptive',\n",
       "                                           'invascaling'],\n",
       "                         'max_iter': [1000, 100000, 1000000, 10000000],\n",
       "                         'penalty': ['l1', 'l2', None]},\n",
       "             scoring=make_scorer(mean_squared_error, greater_is_better=False),\n",
       "             verbose=1)"
      ]
     },
     "execution_count": 49,
     "metadata": {},
     "output_type": "execute_result"
    }
   ],
   "source": [
    "%%time\n",
    "model.fit(X_train, y_train)"
   ]
  },
  {
   "cell_type": "code",
   "execution_count": null,
   "id": "f010076e-de3a-43bc-a413-54f6a8038acd",
   "metadata": {},
   "outputs": [],
   "source": []
  },
  {
   "cell_type": "code",
   "execution_count": null,
   "id": "1b2cfa27-ca8a-4115-978c-b323b3ab4789",
   "metadata": {},
   "outputs": [],
   "source": []
  },
  {
   "cell_type": "code",
   "execution_count": null,
   "id": "50044e10-4e4c-4789-9ecb-ab380485a784",
   "metadata": {},
   "outputs": [],
   "source": []
  },
  {
   "cell_type": "code",
   "execution_count": null,
   "id": "b75f7310-70b3-4f5f-aa1a-72d07efa7012",
   "metadata": {},
   "outputs": [],
   "source": []
  },
  {
   "cell_type": "markdown",
   "id": "232cd992-09de-48da-8d92-fcedf50a34ca",
   "metadata": {},
   "source": [
    "##  pipeline"
   ]
  },
  {
   "cell_type": "code",
   "execution_count": 50,
   "id": "ae14b31d-40cf-4735-bf08-ff5efa13ea29",
   "metadata": {
    "tags": []
   },
   "outputs": [],
   "source": [
    "from sklearn.pipeline import Pipeline\n",
    "from sklearn.preprocessing import StandardScaler"
   ]
  },
  {
   "cell_type": "code",
   "execution_count": 52,
   "id": "d87f022a-c080-45c9-ae1b-1cb923f6ee22",
   "metadata": {
    "tags": []
   },
   "outputs": [
    {
     "data": {
      "text/html": [
       "<style>#sk-container-id-5 {color: black;}#sk-container-id-5 pre{padding: 0;}#sk-container-id-5 div.sk-toggleable {background-color: white;}#sk-container-id-5 label.sk-toggleable__label {cursor: pointer;display: block;width: 100%;margin-bottom: 0;padding: 0.3em;box-sizing: border-box;text-align: center;}#sk-container-id-5 label.sk-toggleable__label-arrow:before {content: \"▸\";float: left;margin-right: 0.25em;color: #696969;}#sk-container-id-5 label.sk-toggleable__label-arrow:hover:before {color: black;}#sk-container-id-5 div.sk-estimator:hover label.sk-toggleable__label-arrow:before {color: black;}#sk-container-id-5 div.sk-toggleable__content {max-height: 0;max-width: 0;overflow: hidden;text-align: left;background-color: #f0f8ff;}#sk-container-id-5 div.sk-toggleable__content pre {margin: 0.2em;color: black;border-radius: 0.25em;background-color: #f0f8ff;}#sk-container-id-5 input.sk-toggleable__control:checked~div.sk-toggleable__content {max-height: 200px;max-width: 100%;overflow: auto;}#sk-container-id-5 input.sk-toggleable__control:checked~label.sk-toggleable__label-arrow:before {content: \"▾\";}#sk-container-id-5 div.sk-estimator input.sk-toggleable__control:checked~label.sk-toggleable__label {background-color: #d4ebff;}#sk-container-id-5 div.sk-label input.sk-toggleable__control:checked~label.sk-toggleable__label {background-color: #d4ebff;}#sk-container-id-5 input.sk-hidden--visually {border: 0;clip: rect(1px 1px 1px 1px);clip: rect(1px, 1px, 1px, 1px);height: 1px;margin: -1px;overflow: hidden;padding: 0;position: absolute;width: 1px;}#sk-container-id-5 div.sk-estimator {font-family: monospace;background-color: #f0f8ff;border: 1px dotted black;border-radius: 0.25em;box-sizing: border-box;margin-bottom: 0.5em;}#sk-container-id-5 div.sk-estimator:hover {background-color: #d4ebff;}#sk-container-id-5 div.sk-parallel-item::after {content: \"\";width: 100%;border-bottom: 1px solid gray;flex-grow: 1;}#sk-container-id-5 div.sk-label:hover label.sk-toggleable__label {background-color: #d4ebff;}#sk-container-id-5 div.sk-serial::before {content: \"\";position: absolute;border-left: 1px solid gray;box-sizing: border-box;top: 0;bottom: 0;left: 50%;z-index: 0;}#sk-container-id-5 div.sk-serial {display: flex;flex-direction: column;align-items: center;background-color: white;padding-right: 0.2em;padding-left: 0.2em;position: relative;}#sk-container-id-5 div.sk-item {position: relative;z-index: 1;}#sk-container-id-5 div.sk-parallel {display: flex;align-items: stretch;justify-content: center;background-color: white;position: relative;}#sk-container-id-5 div.sk-item::before, #sk-container-id-5 div.sk-parallel-item::before {content: \"\";position: absolute;border-left: 1px solid gray;box-sizing: border-box;top: 0;bottom: 0;left: 50%;z-index: -1;}#sk-container-id-5 div.sk-parallel-item {display: flex;flex-direction: column;z-index: 1;position: relative;background-color: white;}#sk-container-id-5 div.sk-parallel-item:first-child::after {align-self: flex-end;width: 50%;}#sk-container-id-5 div.sk-parallel-item:last-child::after {align-self: flex-start;width: 50%;}#sk-container-id-5 div.sk-parallel-item:only-child::after {width: 0;}#sk-container-id-5 div.sk-dashed-wrapped {border: 1px dashed gray;margin: 0 0.4em 0.5em 0.4em;box-sizing: border-box;padding-bottom: 0.4em;background-color: white;}#sk-container-id-5 div.sk-label label {font-family: monospace;font-weight: bold;display: inline-block;line-height: 1.2em;}#sk-container-id-5 div.sk-label-container {text-align: center;}#sk-container-id-5 div.sk-container {/* jupyter's `normalize.less` sets `[hidden] { display: none; }` but bootstrap.min.css set `[hidden] { display: none !important; }` so we also need the `!important` here to be able to override the default hidden behavior on the sphinx rendered scikit-learn.org. See: https://github.com/scikit-learn/scikit-learn/issues/21755 */display: inline-block !important;position: relative;}#sk-container-id-5 div.sk-text-repr-fallback {display: none;}</style><div id=\"sk-container-id-5\" class=\"sk-top-container\"><div class=\"sk-text-repr-fallback\"><pre>Pipeline(steps=[(&#x27;scale&#x27;, StandardScaler()), (&#x27;model&#x27;, Ridge())])</pre><b>In a Jupyter environment, please rerun this cell to show the HTML representation or trust the notebook. <br />On GitHub, the HTML representation is unable to render, please try loading this page with nbviewer.org.</b></div><div class=\"sk-container\" hidden><div class=\"sk-item sk-dashed-wrapped\"><div class=\"sk-label-container\"><div class=\"sk-label sk-toggleable\"><input class=\"sk-toggleable__control sk-hidden--visually\" id=\"sk-estimator-id-13\" type=\"checkbox\" ><label for=\"sk-estimator-id-13\" class=\"sk-toggleable__label sk-toggleable__label-arrow\">Pipeline</label><div class=\"sk-toggleable__content\"><pre>Pipeline(steps=[(&#x27;scale&#x27;, StandardScaler()), (&#x27;model&#x27;, Ridge())])</pre></div></div></div><div class=\"sk-serial\"><div class=\"sk-item\"><div class=\"sk-estimator sk-toggleable\"><input class=\"sk-toggleable__control sk-hidden--visually\" id=\"sk-estimator-id-14\" type=\"checkbox\" ><label for=\"sk-estimator-id-14\" class=\"sk-toggleable__label sk-toggleable__label-arrow\">StandardScaler</label><div class=\"sk-toggleable__content\"><pre>StandardScaler()</pre></div></div></div><div class=\"sk-item\"><div class=\"sk-estimator sk-toggleable\"><input class=\"sk-toggleable__control sk-hidden--visually\" id=\"sk-estimator-id-15\" type=\"checkbox\" ><label for=\"sk-estimator-id-15\" class=\"sk-toggleable__label sk-toggleable__label-arrow\">Ridge</label><div class=\"sk-toggleable__content\"><pre>Ridge()</pre></div></div></div></div></div></div></div>"
      ],
      "text/plain": [
       "Pipeline(steps=[('scale', StandardScaler()), ('model', Ridge())])"
      ]
     },
     "execution_count": 52,
     "metadata": {},
     "output_type": "execute_result"
    }
   ],
   "source": [
    "pipeline = Pipeline([('scale', StandardScaler()), ('model', Ridge())])\n",
    "pipeline"
   ]
  },
  {
   "cell_type": "code",
   "execution_count": 55,
   "id": "000aa2d9-2439-4b41-82f6-0376c3fe54c4",
   "metadata": {
    "tags": []
   },
   "outputs": [
    {
     "data": {
      "text/html": [
       "<style>#sk-container-id-7 {color: black;}#sk-container-id-7 pre{padding: 0;}#sk-container-id-7 div.sk-toggleable {background-color: white;}#sk-container-id-7 label.sk-toggleable__label {cursor: pointer;display: block;width: 100%;margin-bottom: 0;padding: 0.3em;box-sizing: border-box;text-align: center;}#sk-container-id-7 label.sk-toggleable__label-arrow:before {content: \"▸\";float: left;margin-right: 0.25em;color: #696969;}#sk-container-id-7 label.sk-toggleable__label-arrow:hover:before {color: black;}#sk-container-id-7 div.sk-estimator:hover label.sk-toggleable__label-arrow:before {color: black;}#sk-container-id-7 div.sk-toggleable__content {max-height: 0;max-width: 0;overflow: hidden;text-align: left;background-color: #f0f8ff;}#sk-container-id-7 div.sk-toggleable__content pre {margin: 0.2em;color: black;border-radius: 0.25em;background-color: #f0f8ff;}#sk-container-id-7 input.sk-toggleable__control:checked~div.sk-toggleable__content {max-height: 200px;max-width: 100%;overflow: auto;}#sk-container-id-7 input.sk-toggleable__control:checked~label.sk-toggleable__label-arrow:before {content: \"▾\";}#sk-container-id-7 div.sk-estimator input.sk-toggleable__control:checked~label.sk-toggleable__label {background-color: #d4ebff;}#sk-container-id-7 div.sk-label input.sk-toggleable__control:checked~label.sk-toggleable__label {background-color: #d4ebff;}#sk-container-id-7 input.sk-hidden--visually {border: 0;clip: rect(1px 1px 1px 1px);clip: rect(1px, 1px, 1px, 1px);height: 1px;margin: -1px;overflow: hidden;padding: 0;position: absolute;width: 1px;}#sk-container-id-7 div.sk-estimator {font-family: monospace;background-color: #f0f8ff;border: 1px dotted black;border-radius: 0.25em;box-sizing: border-box;margin-bottom: 0.5em;}#sk-container-id-7 div.sk-estimator:hover {background-color: #d4ebff;}#sk-container-id-7 div.sk-parallel-item::after {content: \"\";width: 100%;border-bottom: 1px solid gray;flex-grow: 1;}#sk-container-id-7 div.sk-label:hover label.sk-toggleable__label {background-color: #d4ebff;}#sk-container-id-7 div.sk-serial::before {content: \"\";position: absolute;border-left: 1px solid gray;box-sizing: border-box;top: 0;bottom: 0;left: 50%;z-index: 0;}#sk-container-id-7 div.sk-serial {display: flex;flex-direction: column;align-items: center;background-color: white;padding-right: 0.2em;padding-left: 0.2em;position: relative;}#sk-container-id-7 div.sk-item {position: relative;z-index: 1;}#sk-container-id-7 div.sk-parallel {display: flex;align-items: stretch;justify-content: center;background-color: white;position: relative;}#sk-container-id-7 div.sk-item::before, #sk-container-id-7 div.sk-parallel-item::before {content: \"\";position: absolute;border-left: 1px solid gray;box-sizing: border-box;top: 0;bottom: 0;left: 50%;z-index: -1;}#sk-container-id-7 div.sk-parallel-item {display: flex;flex-direction: column;z-index: 1;position: relative;background-color: white;}#sk-container-id-7 div.sk-parallel-item:first-child::after {align-self: flex-end;width: 50%;}#sk-container-id-7 div.sk-parallel-item:last-child::after {align-self: flex-start;width: 50%;}#sk-container-id-7 div.sk-parallel-item:only-child::after {width: 0;}#sk-container-id-7 div.sk-dashed-wrapped {border: 1px dashed gray;margin: 0 0.4em 0.5em 0.4em;box-sizing: border-box;padding-bottom: 0.4em;background-color: white;}#sk-container-id-7 div.sk-label label {font-family: monospace;font-weight: bold;display: inline-block;line-height: 1.2em;}#sk-container-id-7 div.sk-label-container {text-align: center;}#sk-container-id-7 div.sk-container {/* jupyter's `normalize.less` sets `[hidden] { display: none; }` but bootstrap.min.css set `[hidden] { display: none !important; }` so we also need the `!important` here to be able to override the default hidden behavior on the sphinx rendered scikit-learn.org. See: https://github.com/scikit-learn/scikit-learn/issues/21755 */display: inline-block !important;position: relative;}#sk-container-id-7 div.sk-text-repr-fallback {display: none;}</style><div id=\"sk-container-id-7\" class=\"sk-top-container\"><div class=\"sk-text-repr-fallback\"><pre>GridSearchCV(estimator=Pipeline(steps=[(&#x27;scale&#x27;, StandardScaler()),\n",
       "                                       (&#x27;model&#x27;, Ridge())]),\n",
       "             n_jobs=2,\n",
       "             param_grid={&#x27;model__alpha&#x27;: [0, 0.0001, 0.001, 0.01, 0.1, 0.5, 1,\n",
       "                                          5, 10],\n",
       "                         &#x27;scale__with_mean&#x27;: [True, False],\n",
       "                         &#x27;scale__with_std&#x27;: [True, False]},\n",
       "             scoring=make_scorer(mean_squared_error, greater_is_better=False))</pre><b>In a Jupyter environment, please rerun this cell to show the HTML representation or trust the notebook. <br />On GitHub, the HTML representation is unable to render, please try loading this page with nbviewer.org.</b></div><div class=\"sk-container\" hidden><div class=\"sk-item sk-dashed-wrapped\"><div class=\"sk-label-container\"><div class=\"sk-label sk-toggleable\"><input class=\"sk-toggleable__control sk-hidden--visually\" id=\"sk-estimator-id-20\" type=\"checkbox\" ><label for=\"sk-estimator-id-20\" class=\"sk-toggleable__label sk-toggleable__label-arrow\">GridSearchCV</label><div class=\"sk-toggleable__content\"><pre>GridSearchCV(estimator=Pipeline(steps=[(&#x27;scale&#x27;, StandardScaler()),\n",
       "                                       (&#x27;model&#x27;, Ridge())]),\n",
       "             n_jobs=2,\n",
       "             param_grid={&#x27;model__alpha&#x27;: [0, 0.0001, 0.001, 0.01, 0.1, 0.5, 1,\n",
       "                                          5, 10],\n",
       "                         &#x27;scale__with_mean&#x27;: [True, False],\n",
       "                         &#x27;scale__with_std&#x27;: [True, False]},\n",
       "             scoring=make_scorer(mean_squared_error, greater_is_better=False))</pre></div></div></div><div class=\"sk-parallel\"><div class=\"sk-parallel-item\"><div class=\"sk-item\"><div class=\"sk-label-container\"><div class=\"sk-label sk-toggleable\"><input class=\"sk-toggleable__control sk-hidden--visually\" id=\"sk-estimator-id-21\" type=\"checkbox\" ><label for=\"sk-estimator-id-21\" class=\"sk-toggleable__label sk-toggleable__label-arrow\">estimator: Pipeline</label><div class=\"sk-toggleable__content\"><pre>Pipeline(steps=[(&#x27;scale&#x27;, StandardScaler()), (&#x27;model&#x27;, Ridge())])</pre></div></div></div><div class=\"sk-serial\"><div class=\"sk-item\"><div class=\"sk-serial\"><div class=\"sk-item\"><div class=\"sk-estimator sk-toggleable\"><input class=\"sk-toggleable__control sk-hidden--visually\" id=\"sk-estimator-id-22\" type=\"checkbox\" ><label for=\"sk-estimator-id-22\" class=\"sk-toggleable__label sk-toggleable__label-arrow\">StandardScaler</label><div class=\"sk-toggleable__content\"><pre>StandardScaler()</pre></div></div></div><div class=\"sk-item\"><div class=\"sk-estimator sk-toggleable\"><input class=\"sk-toggleable__control sk-hidden--visually\" id=\"sk-estimator-id-23\" type=\"checkbox\" ><label for=\"sk-estimator-id-23\" class=\"sk-toggleable__label sk-toggleable__label-arrow\">Ridge</label><div class=\"sk-toggleable__content\"><pre>Ridge()</pre></div></div></div></div></div></div></div></div></div></div></div></div>"
      ],
      "text/plain": [
       "GridSearchCV(estimator=Pipeline(steps=[('scale', StandardScaler()),\n",
       "                                       ('model', Ridge())]),\n",
       "             n_jobs=2,\n",
       "             param_grid={'model__alpha': [0, 0.0001, 0.001, 0.01, 0.1, 0.5, 1,\n",
       "                                          5, 10],\n",
       "                         'scale__with_mean': [True, False],\n",
       "                         'scale__with_std': [True, False]},\n",
       "             scoring=make_scorer(mean_squared_error, greater_is_better=False))"
      ]
     },
     "execution_count": 55,
     "metadata": {},
     "output_type": "execute_result"
    }
   ],
   "source": [
    "params = {'model__alpha': [0, 1e-4, 1e-3, 1e-2, 0.1, 0.5, 1, 5, 10],\n",
    "          'scale__with_std': [True, False],\n",
    "          'scale__with_mean': [True, False]}\n",
    "\n",
    "scorer = make_scorer(mean_squared_error, greater_is_better=False )\n",
    "\n",
    "model = GridSearchCV(pipeline, param_grid=params, scoring=scorer, verbose=0, n_jobs=2)\n",
    "model.fit(X_train, y_train)"
   ]
  },
  {
   "cell_type": "code",
   "execution_count": 56,
   "id": "fad5610f-16b8-44be-9e06-d65386f8d2be",
   "metadata": {
    "tags": []
   },
   "outputs": [
    {
     "data": {
      "text/plain": [
       "{'model__alpha': 10, 'scale__with_mean': False, 'scale__with_std': False}"
      ]
     },
     "execution_count": 56,
     "metadata": {},
     "output_type": "execute_result"
    }
   ],
   "source": [
    "model.best_params_"
   ]
  },
  {
   "cell_type": "code",
   "execution_count": 57,
   "id": "6a24ceaa-6186-445c-b832-f81ce9259399",
   "metadata": {
    "tags": []
   },
   "outputs": [
    {
     "data": {
      "text/plain": [
       "(array([ 2.,  4.,  8.,  0.,  0.,  0.,  4.,  2.,  0., 16.]),\n",
       " array([16425.9010813 , 16494.89451699, 16563.88795267, 16632.88138836,\n",
       "        16701.87482404, 16770.86825973, 16839.86169541, 16908.8551311 ,\n",
       "        16977.84856678, 17046.84200247, 17115.83543815]),\n",
       " <BarContainer object of 10 artists>)"
      ]
     },
     "execution_count": 57,
     "metadata": {},
     "output_type": "execute_result"
    },
    {
     "data": {
      "image/png": "[encoded data removed]",
      "text/plain": [
       "<Figure size 432x288 with 1 Axes>"
      ]
     },
     "metadata": {
      "needs_background": "light"
     },
     "output_type": "display_data"
    }
   ],
   "source": [
    "plt.hist(model.cv_results_['mean_test_score'] * -1)"
   ]
  },
  {
   "cell_type": "code",
   "execution_count": 58,
   "id": "a0ed38b6-a6d0-40e4-8a38-6d244889dcf9",
   "metadata": {
    "tags": []
   },
   "outputs": [
    {
     "name": "stdout",
     "output_type": "stream",
     "text": [
      "15478.442168236172\n",
      "124.41238751923449\n"
     ]
    }
   ],
   "source": [
    "y_pred = model.best_estimator_.predict(X_test)\n",
    "\n",
    "s = mean_squared_error(y_test, y_pred)\n",
    "print(s)\n",
    "print(np.sqrt(s))"
   ]
  },
  {
   "cell_type": "code",
   "execution_count": null,
   "id": "5f0d6b99-b72b-4751-a742-034780ea8487",
   "metadata": {},
   "outputs": [],
   "source": []
  }
 ],
 "metadata": {
  "kernelspec": {
   "display_name": "hock",
   "language": "python",
   "name": "hock"
  },
  "language_info": {
   "codemirror_mode": {
    "name": "ipython",
    "version": 3
   },
   "file_extension": ".py",
   "mimetype": "text/x-python",
   "name": "python",
   "nbconvert_exporter": "python",
   "pygments_lexer": "ipython3",
   "version": "3.8.10"
  }
 },
 "nbformat": 4,
 "nbformat_minor": 5
}
