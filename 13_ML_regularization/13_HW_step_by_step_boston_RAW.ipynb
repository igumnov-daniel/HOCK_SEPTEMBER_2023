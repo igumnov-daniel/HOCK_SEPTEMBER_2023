{
 "cells": [
  {
   "cell_type": "code",
   "execution_count": 1,
   "id": "67d96530-d47d-4778-803e-708b39ae3dc2",
   "metadata": {},
   "outputs": [],
   "source": [
    "import pandas as pd\n",
    "import numpy as np\n",
    "\n",
    "import matplotlib.pyplot as plt\n",
    "import seaborn as sns"
   ]
  },
  {
   "cell_type": "markdown",
   "id": "185361c3-80f0-406e-aea6-34c47c7ef0ca",
   "metadata": {},
   "source": [
    "# Дисклеймер"
   ]
  },
  {
   "cell_type": "markdown",
   "id": "1721b091-63b4-43e8-b615-a7dfea239d9e",
   "metadata": {},
   "source": [
    "Если кажется, что Вы выпали из повествования об основах классического машинного обучения, то эти два ноутбука проведут Вас за ручку от начала до текущего уровня, до которого мы успели дойти к концу 13-го занятия курса."
   ]
  },
  {
   "cell_type": "markdown",
   "id": "31a3a54a-89a6-4795-b2be-dd086fe0ea36",
   "metadata": {},
   "source": [
    "# Содержание"
   ]
  },
  {
   "cell_type": "markdown",
   "id": "4ee359d7-1eb5-4ddb-970e-30c87f87bbb8",
   "metadata": {},
   "source": [
    "**А. Тренировочная задача** (первый ноутбук)<br>\n",
    "1. Построим модель линейной регрессии на игрушечных данных \"глазами\";<br>\n",
    "2. Посчитаем метрики качества модели;<br>\n",
    "3. Построим модель линейной регрессии с помощью минимизации MSE;<br>\n",
    "4. Посчитаем метрики качества и сравним с качеством первой модели, которую мы построили глазами.\n",
    "<br><br>\n",
    "\n",
    "**Б. Реальная задача** (**этот ноутбук**)<br>\n",
    "1. Построим и оценим модель линейной регрессии для предсказания стоимости жилья только на числовых признаках;<br>\n",
    "2. Добавим шкалирование числовых признаков и сравним метрики качества модели без шкалирования и с шкалированием;<br>\n",
    "3. Добавим в лучшую из двух предыдущих моделей некоторые категориальные признаки;<br>\n",
    "4. Добавим регуляризацию;<br>\n",
    "5. Определим лучшие гиперпараметры с помощью K-fold кросс-валидации;<br>\n",
    "6. Попробуем логарифмировать целевую переменную, заново обучим лучшую модель и сравним качество предсказания.<br>"
   ]
  },
  {
   "cell_type": "markdown",
   "id": "eb6412ce-5bf3-4efc-98d1-da401bcb6ea6",
   "metadata": {},
   "source": [
    "# Б. Реальная задача"
   ]
  },
  {
   "cell_type": "markdown",
   "id": "d3de9355-d48f-408b-a54e-2a27c41959e1",
   "metadata": {},
   "source": [
    "Будем работать с данными о стоимости жилья.<br>\n",
    "\n",
    "Сами данные: `data/housing.csv`<br>\n",
    "Аннотация (описания) колонок и их содержания: `data/data_description_housing.pdf`<br>\n",
    "\n",
    "Посмотрите содержание аннотации.<br>\n",
    "Как видите, там представлены числовые признаки, категориальные признаки, порядковые признаки (упорядоченные категории).<br>\n",
    "Целевая переменная, `SalePrice`, находится в последнем столбце. Это фактическая стоиомость данного объекта недвижимости в у.е. Её мы и будем предсказывать.<br>\n",
    "То есть мы по различными признакам пытаемся предсказать непрерывно распределенную величину, а значит -- это задача регрессии."
   ]
  },
  {
   "cell_type": "markdown",
   "id": "17ca2b6d-abcd-4864-adff-fec406918c74",
   "metadata": {},
   "source": [
    "## 0. EDA"
   ]
  },
  {
   "cell_type": "markdown",
   "id": "6cfe5af2-0bf9-4861-b6a2-0024641b6e32",
   "metadata": {},
   "source": [
    "### 0.1 \n",
    "* Прочитайте файл с данными. Разделитель -- запятая;\n",
    "* Выведите первые 5 строк таблицы."
   ]
  },
  {
   "cell_type": "code",
   "execution_count": 2,
   "id": "623a80bb-e929-47d6-b760-9e00734c6092",
   "metadata": {},
   "outputs": [
    {
     "data": {
      "text/html": [
       "<div>\n",
       "<style scoped>\n",
       "    .dataframe tbody tr th:only-of-type {\n",
       "        vertical-align: middle;\n",
       "    }\n",
       "\n",
       "    .dataframe tbody tr th {\n",
       "        vertical-align: top;\n",
       "    }\n",
       "\n",
       "    .dataframe thead th {\n",
       "        text-align: right;\n",
       "    }\n",
       "</style>\n",
       "<table border=\"1\" class=\"dataframe\">\n",
       "  <thead>\n",
       "    <tr style=\"text-align: right;\">\n",
       "      <th></th>\n",
       "      <th>Id</th>\n",
       "      <th>Type</th>\n",
       "      <th>Zone</th>\n",
       "      <th>LotArea</th>\n",
       "      <th>LotConfig</th>\n",
       "      <th>BldgType</th>\n",
       "      <th>HouseStyle</th>\n",
       "      <th>OverallQual</th>\n",
       "      <th>OverallCond</th>\n",
       "      <th>YearBuilt</th>\n",
       "      <th>...</th>\n",
       "      <th>GarageFinish</th>\n",
       "      <th>GarageCars</th>\n",
       "      <th>GarageArea</th>\n",
       "      <th>GarageQual</th>\n",
       "      <th>GarageCond</th>\n",
       "      <th>PoolArea</th>\n",
       "      <th>MoSold</th>\n",
       "      <th>YrSold</th>\n",
       "      <th>SaleCondition</th>\n",
       "      <th>SalePrice</th>\n",
       "    </tr>\n",
       "  </thead>\n",
       "  <tbody>\n",
       "    <tr>\n",
       "      <th>0</th>\n",
       "      <td>1820</td>\n",
       "      <td>70</td>\n",
       "      <td>RL</td>\n",
       "      <td>9986</td>\n",
       "      <td>Corner</td>\n",
       "      <td>1Fam</td>\n",
       "      <td>2Story</td>\n",
       "      <td>7</td>\n",
       "      <td>5</td>\n",
       "      <td>1915</td>\n",
       "      <td>...</td>\n",
       "      <td>Unf</td>\n",
       "      <td>3</td>\n",
       "      <td>661</td>\n",
       "      <td>TA</td>\n",
       "      <td>TA</td>\n",
       "      <td>0</td>\n",
       "      <td>2</td>\n",
       "      <td>2006</td>\n",
       "      <td>Abnorml</td>\n",
       "      <td>158511</td>\n",
       "    </tr>\n",
       "    <tr>\n",
       "      <th>1</th>\n",
       "      <td>33764</td>\n",
       "      <td>60</td>\n",
       "      <td>RL</td>\n",
       "      <td>8450</td>\n",
       "      <td>Inside</td>\n",
       "      <td>1Fam</td>\n",
       "      <td>2Story</td>\n",
       "      <td>7</td>\n",
       "      <td>5</td>\n",
       "      <td>1993</td>\n",
       "      <td>...</td>\n",
       "      <td>RFn</td>\n",
       "      <td>2</td>\n",
       "      <td>556</td>\n",
       "      <td>TA</td>\n",
       "      <td>TA</td>\n",
       "      <td>0</td>\n",
       "      <td>2</td>\n",
       "      <td>2007</td>\n",
       "      <td>Normal</td>\n",
       "      <td>253206</td>\n",
       "    </tr>\n",
       "    <tr>\n",
       "      <th>2</th>\n",
       "      <td>51420</td>\n",
       "      <td>50</td>\n",
       "      <td>RM</td>\n",
       "      <td>6060</td>\n",
       "      <td>Inside</td>\n",
       "      <td>1Fam</td>\n",
       "      <td>1.5Sto</td>\n",
       "      <td>7</td>\n",
       "      <td>5</td>\n",
       "      <td>1931</td>\n",
       "      <td>...</td>\n",
       "      <td>Unf</td>\n",
       "      <td>2</td>\n",
       "      <td>488</td>\n",
       "      <td>Fa</td>\n",
       "      <td>TA</td>\n",
       "      <td>0</td>\n",
       "      <td>4</td>\n",
       "      <td>2008</td>\n",
       "      <td>Abnorml</td>\n",
       "      <td>129501</td>\n",
       "    </tr>\n",
       "    <tr>\n",
       "      <th>3</th>\n",
       "      <td>147252</td>\n",
       "      <td>90</td>\n",
       "      <td>RL</td>\n",
       "      <td>10400</td>\n",
       "      <td>Inside</td>\n",
       "      <td>Duplex</td>\n",
       "      <td>1Story</td>\n",
       "      <td>4</td>\n",
       "      <td>5</td>\n",
       "      <td>1966</td>\n",
       "      <td>...</td>\n",
       "      <td>Unf</td>\n",
       "      <td>2</td>\n",
       "      <td>506</td>\n",
       "      <td>TA</td>\n",
       "      <td>TA</td>\n",
       "      <td>0</td>\n",
       "      <td>10</td>\n",
       "      <td>2006</td>\n",
       "      <td>Normal</td>\n",
       "      <td>78927</td>\n",
       "    </tr>\n",
       "    <tr>\n",
       "      <th>4</th>\n",
       "      <td>157900</td>\n",
       "      <td>20</td>\n",
       "      <td>RL</td>\n",
       "      <td>13975</td>\n",
       "      <td>Inside</td>\n",
       "      <td>1Fam</td>\n",
       "      <td>1Story</td>\n",
       "      <td>5</td>\n",
       "      <td>5</td>\n",
       "      <td>1998</td>\n",
       "      <td>...</td>\n",
       "      <td>Unf</td>\n",
       "      <td>2</td>\n",
       "      <td>565</td>\n",
       "      <td>TA</td>\n",
       "      <td>TA</td>\n",
       "      <td>0</td>\n",
       "      <td>6</td>\n",
       "      <td>2008</td>\n",
       "      <td>Normal</td>\n",
       "      <td>162064</td>\n",
       "    </tr>\n",
       "  </tbody>\n",
       "</table>\n",
       "<p>5 rows × 45 columns</p>\n",
       "</div>"
      ],
      "text/plain": [
       "       Id  Type Zone  LotArea LotConfig BldgType HouseStyle  OverallQual  \\\n",
       "0    1820    70   RL     9986    Corner     1Fam     2Story            7   \n",
       "1   33764    60   RL     8450    Inside     1Fam     2Story            7   \n",
       "2   51420    50   RM     6060    Inside     1Fam     1.5Sto            7   \n",
       "3  147252    90   RL    10400    Inside   Duplex     1Story            4   \n",
       "4  157900    20   RL    13975    Inside     1Fam     1Story            5   \n",
       "\n",
       "   OverallCond  YearBuilt  ...  GarageFinish GarageCars GarageArea GarageQual  \\\n",
       "0            5       1915  ...           Unf          3        661         TA   \n",
       "1            5       1993  ...           RFn          2        556         TA   \n",
       "2            5       1931  ...           Unf          2        488         Fa   \n",
       "3            5       1966  ...           Unf          2        506         TA   \n",
       "4            5       1998  ...           Unf          2        565         TA   \n",
       "\n",
       "  GarageCond PoolArea MoSold YrSold SaleCondition  SalePrice  \n",
       "0         TA        0      2   2006       Abnorml     158511  \n",
       "1         TA        0      2   2007        Normal     253206  \n",
       "2         TA        0      4   2008       Abnorml     129501  \n",
       "3         TA        0     10   2006        Normal      78927  \n",
       "4         TA        0      6   2008        Normal     162064  \n",
       "\n",
       "[5 rows x 45 columns]"
      ]
     },
     "execution_count": 2,
     "metadata": {},
     "output_type": "execute_result"
    }
   ],
   "source": []
  },
  {
   "cell_type": "markdown",
   "id": "a4fa5fd7-525f-43a7-afb2-6622e55621d9",
   "metadata": {},
   "source": [
    "### 0.2\n",
    "* По файлу с аннотацией колонок определите числовые признаки;\n",
    "* Создайте список с названиями числовых признаков и порядковых признаков, которые уже закодированы в числа (то есть которые уже являются числами в исходных данных).<br>\n",
    "(можно оставить числовые колонки с помощью `df.select_dtypes(include='number')`);<br>\n",
    "* В новую переменную отберите датафрейм только с числовыми колонками (**убедитесь, что вы не взяли таргет!**) ;<br>\n",
    "Также уберите столбцы `Id` и `Type`;\n",
    "* В отдельную переменную отберите таргет (`SalePrice`)."
   ]
  },
  {
   "cell_type": "code",
   "execution_count": 3,
   "id": "738f7ce1-6609-441a-aa8e-94faab0f91a4",
   "metadata": {},
   "outputs": [
    {
     "name": "stdout",
     "output_type": "stream",
     "text": [
      "Размерность датафрейма только с числовыми колонками: (500, 21)\n"
     ]
    }
   ],
   "source": []
  },
  {
   "cell_type": "code",
   "execution_count": 4,
   "id": "1c6431c4-f915-4b5c-9baf-fc9c386cd5d9",
   "metadata": {},
   "outputs": [
    {
     "name": "stdout",
     "output_type": "stream",
     "text": [
      "Размерность таргета: (500,)\n"
     ]
    }
   ],
   "source": []
  },
  {
   "cell_type": "markdown",
   "id": "d0933de7-8b94-4454-9726-2d369b2600ff",
   "metadata": {},
   "source": [
    "## 1. Линейная модель на числовых признаках"
   ]
  },
  {
   "cell_type": "markdown",
   "id": "1fbc7ebf-a8ed-4fe8-aa31-d0d2ff145d5c",
   "metadata": {},
   "source": [
    "### 1.1 \n",
    "* Импортируйте из `sklearn.model_selection` функцию для разбиения данных на трейн и тест;<br>\n",
    "* Разбейте датафрейм с числовыми признаками и таргет на трейн и тест;<br>\n",
    "* Выделите в тест 20% данных;<br>\n",
    "* Для воспроизводимости разбиения установите random_state=42."
   ]
  },
  {
   "cell_type": "code",
   "execution_count": 5,
   "id": "9b1b63d2-7bed-445e-aefd-b2b8b5ce59b2",
   "metadata": {},
   "outputs": [],
   "source": []
  },
  {
   "cell_type": "code",
   "execution_count": 6,
   "id": "4c301ad7-c067-45c4-acee-b8549378d414",
   "metadata": {},
   "outputs": [
    {
     "name": "stdout",
     "output_type": "stream",
     "text": [
      "X_train.shape: (400, 21)\n",
      "y_train.shape: (400,)\n",
      "X_test.shape: (100, 21)\n",
      "y_test.shape: (100,)\n"
     ]
    }
   ],
   "source": []
  },
  {
   "cell_type": "markdown",
   "id": "2d5c47ec-96d0-4f16-a65d-2beefcaf6e9c",
   "metadata": {},
   "source": [
    "### 1.2\n",
    "* Импортируйте функцию модель линейной регрессии `LinearRegression`;\n",
    "* Создайте экземпляр класса линейной регрессии;\n",
    "* Обучите модель на выборке для обучения;\n",
    "* Получите предсказания на тестовой выборке, сохраните их в отедльную переменную."
   ]
  },
  {
   "cell_type": "code",
   "execution_count": 7,
   "id": "253a91f5-44f3-451f-8ac0-ccb6e43278b6",
   "metadata": {},
   "outputs": [
    {
     "data": {
      "text/html": [
       "<style>#sk-container-id-1 {color: black;}#sk-container-id-1 pre{padding: 0;}#sk-container-id-1 div.sk-toggleable {background-color: white;}#sk-container-id-1 label.sk-toggleable__label {cursor: pointer;display: block;width: 100%;margin-bottom: 0;padding: 0.3em;box-sizing: border-box;text-align: center;}#sk-container-id-1 label.sk-toggleable__label-arrow:before {content: \"▸\";float: left;margin-right: 0.25em;color: #696969;}#sk-container-id-1 label.sk-toggleable__label-arrow:hover:before {color: black;}#sk-container-id-1 div.sk-estimator:hover label.sk-toggleable__label-arrow:before {color: black;}#sk-container-id-1 div.sk-toggleable__content {max-height: 0;max-width: 0;overflow: hidden;text-align: left;background-color: #f0f8ff;}#sk-container-id-1 div.sk-toggleable__content pre {margin: 0.2em;color: black;border-radius: 0.25em;background-color: #f0f8ff;}#sk-container-id-1 input.sk-toggleable__control:checked~div.sk-toggleable__content {max-height: 200px;max-width: 100%;overflow: auto;}#sk-container-id-1 input.sk-toggleable__control:checked~label.sk-toggleable__label-arrow:before {content: \"▾\";}#sk-container-id-1 div.sk-estimator input.sk-toggleable__control:checked~label.sk-toggleable__label {background-color: #d4ebff;}#sk-container-id-1 div.sk-label input.sk-toggleable__control:checked~label.sk-toggleable__label {background-color: #d4ebff;}#sk-container-id-1 input.sk-hidden--visually {border: 0;clip: rect(1px 1px 1px 1px);clip: rect(1px, 1px, 1px, 1px);height: 1px;margin: -1px;overflow: hidden;padding: 0;position: absolute;width: 1px;}#sk-container-id-1 div.sk-estimator {font-family: monospace;background-color: #f0f8ff;border: 1px dotted black;border-radius: 0.25em;box-sizing: border-box;margin-bottom: 0.5em;}#sk-container-id-1 div.sk-estimator:hover {background-color: #d4ebff;}#sk-container-id-1 div.sk-parallel-item::after {content: \"\";width: 100%;border-bottom: 1px solid gray;flex-grow: 1;}#sk-container-id-1 div.sk-label:hover label.sk-toggleable__label {background-color: #d4ebff;}#sk-container-id-1 div.sk-serial::before {content: \"\";position: absolute;border-left: 1px solid gray;box-sizing: border-box;top: 0;bottom: 0;left: 50%;z-index: 0;}#sk-container-id-1 div.sk-serial {display: flex;flex-direction: column;align-items: center;background-color: white;padding-right: 0.2em;padding-left: 0.2em;position: relative;}#sk-container-id-1 div.sk-item {position: relative;z-index: 1;}#sk-container-id-1 div.sk-parallel {display: flex;align-items: stretch;justify-content: center;background-color: white;position: relative;}#sk-container-id-1 div.sk-item::before, #sk-container-id-1 div.sk-parallel-item::before {content: \"\";position: absolute;border-left: 1px solid gray;box-sizing: border-box;top: 0;bottom: 0;left: 50%;z-index: -1;}#sk-container-id-1 div.sk-parallel-item {display: flex;flex-direction: column;z-index: 1;position: relative;background-color: white;}#sk-container-id-1 div.sk-parallel-item:first-child::after {align-self: flex-end;width: 50%;}#sk-container-id-1 div.sk-parallel-item:last-child::after {align-self: flex-start;width: 50%;}#sk-container-id-1 div.sk-parallel-item:only-child::after {width: 0;}#sk-container-id-1 div.sk-dashed-wrapped {border: 1px dashed gray;margin: 0 0.4em 0.5em 0.4em;box-sizing: border-box;padding-bottom: 0.4em;background-color: white;}#sk-container-id-1 div.sk-label label {font-family: monospace;font-weight: bold;display: inline-block;line-height: 1.2em;}#sk-container-id-1 div.sk-label-container {text-align: center;}#sk-container-id-1 div.sk-container {/* jupyter's `normalize.less` sets `[hidden] { display: none; }` but bootstrap.min.css set `[hidden] { display: none !important; }` so we also need the `!important` here to be able to override the default hidden behavior on the sphinx rendered scikit-learn.org. See: https://github.com/scikit-learn/scikit-learn/issues/21755 */display: inline-block !important;position: relative;}#sk-container-id-1 div.sk-text-repr-fallback {display: none;}</style><div id=\"sk-container-id-1\" class=\"sk-top-container\"><div class=\"sk-text-repr-fallback\"><pre>LinearRegression()</pre><b>In a Jupyter environment, please rerun this cell to show the HTML representation or trust the notebook. <br />On GitHub, the HTML representation is unable to render, please try loading this page with nbviewer.org.</b></div><div class=\"sk-container\" hidden><div class=\"sk-item\"><div class=\"sk-estimator sk-toggleable\"><input class=\"sk-toggleable__control sk-hidden--visually\" id=\"sk-estimator-id-1\" type=\"checkbox\" checked><label for=\"sk-estimator-id-1\" class=\"sk-toggleable__label sk-toggleable__label-arrow\">LinearRegression</label><div class=\"sk-toggleable__content\"><pre>LinearRegression()</pre></div></div></div></div></div>"
      ],
      "text/plain": [
       "LinearRegression()"
      ]
     },
     "execution_count": 7,
     "metadata": {},
     "output_type": "execute_result"
    }
   ],
   "source": []
  },
  {
   "cell_type": "code",
   "execution_count": 8,
   "id": "e9482182-3fe6-469f-84d1-527eee8b50d1",
   "metadata": {},
   "outputs": [],
   "source": []
  },
  {
   "cell_type": "markdown",
   "id": "c5f8a9b1-1c18-4ea8-97d7-8f4f4c8b8416",
   "metadata": {},
   "source": [
    "### 1.3\n",
    "* Импортируйте из `sklearn.metric` функции для подсчёта MSE и $R^2$;\n",
    "* Посчитайте импортированные метрики для предсказаний, полученных в пункте 1.2;\n",
    "* Посчитайте RMSE (корень квадратный из MSE).\n",
    "\n",
    "*_если у Вас получились идеальные метрики, значит столбец с таргетом попал в датафрейм с признаками_"
   ]
  },
  {
   "cell_type": "code",
   "execution_count": 9,
   "id": "679dc418-e251-4e2d-853f-aedf009a7b3e",
   "metadata": {},
   "outputs": [
    {
     "name": "stdout",
     "output_type": "stream",
     "text": [
      "MSE:  1482367295.9\n",
      "RMSE: 38501.5\n",
      "R^2:  0.689\n"
     ]
    }
   ],
   "source": []
  },
  {
   "cell_type": "markdown",
   "id": "063f59ea-b317-4953-93f1-9ba67264d620",
   "metadata": {},
   "source": [
    "## 2. Добавим шкалирование"
   ]
  },
  {
   "cell_type": "markdown",
   "id": "02762b01-4f86-48fe-acf4-a6e7f9785633",
   "metadata": {},
   "source": [
    "### 2.1 \n",
    "Для приведения признаков к одному масштабу мы воспользуемся стандартизацией. То есть из каждого числового столбца вычтем среднее признака и поделим на стандартное отклонение.<br>\n",
    "Не будем делать это руками, а воспользуемся соответсвующим трансформером из `sklearn`.<br>\n",
    "\n",
    "* Запустите ячейку ниже, чтобы все трансформеры возвращали не матрицу numpy, а датафрейм.<br>\n",
    "Если этого не сделать, скейлер вернет вам \"голую\" матрицу без названия колонок.<br>\n",
    "* Из `sklearn.preprocessing` импортируйте `StandardScaler`;\n",
    "* Создайте экземпляр класса трансформера;\n",
    "* Сделайте `fit` скейлера **только на данных для обучения**;\n",
    "* Сделайте `transform` матрицы признаков для обучения и для теста, сохраните отшкалированные матрицы признаков в отдельные переменные (например *X_train_scaled*, *X_test_scaled*);\n",
    "* Проверьте, что шкалирование прошло успешно. В исходных матрицах с признаками посчитайте средние значения для столбцов. Они будут разными.<br>\n",
    "Если посчитать средние для шкалированных матрицах, то средние будут равны нулю или почти равны нулю."
   ]
  },
  {
   "cell_type": "code",
   "execution_count": 10,
   "id": "8cbd011f-9393-47f5-812e-965da1dc0920",
   "metadata": {},
   "outputs": [],
   "source": [
    "from sklearn import set_config\n",
    "set_config(transform_output = \"pandas\")"
   ]
  },
  {
   "cell_type": "code",
   "execution_count": 11,
   "id": "8e7f90c4-b4d6-4677-a925-0715cdffa2c4",
   "metadata": {},
   "outputs": [],
   "source": []
  },
  {
   "cell_type": "code",
   "execution_count": 12,
   "id": "4221e6c7-c203-4bfc-bc96-989247db3c8b",
   "metadata": {},
   "outputs": [
    {
     "name": "stdout",
     "output_type": "stream",
     "text": [
      "Средние для пяти столбцов из X_train\n"
     ]
    },
    {
     "data": {
      "text/plain": [
       "LotArea         10064.5600\n",
       "OverallQual         6.0625\n",
       "OverallCond         5.5825\n",
       "YearBuilt        1967.8525\n",
       "YearRemodAdd     1978.5600\n",
       "dtype: float64"
      ]
     },
     "execution_count": 12,
     "metadata": {},
     "output_type": "execute_result"
    }
   ],
   "source": []
  },
  {
   "cell_type": "code",
   "execution_count": 13,
   "id": "aefb90ec-7603-4a1a-aa7d-4b7b94556832",
   "metadata": {},
   "outputs": [
    {
     "name": "stdout",
     "output_type": "stream",
     "text": [
      "Средние для пяти столбцов из X_train_scaled\n"
     ]
    },
    {
     "data": {
      "text/plain": [
       "LotArea         1.015854e-16\n",
       "OverallQual     2.220446e-17\n",
       "OverallCond     3.708145e-16\n",
       "YearBuilt       1.270095e-15\n",
       "YearRemodAdd    2.613465e-15\n",
       "dtype: float64"
      ]
     },
     "execution_count": 13,
     "metadata": {},
     "output_type": "execute_result"
    }
   ],
   "source": []
  },
  {
   "cell_type": "markdown",
   "id": "0089584f-6a38-4ce5-a8e2-6dcaf29cff8d",
   "metadata": {},
   "source": [
    "### 2.2 \n",
    "* Обучите модель линейной регрессии на шкалированных признаках;\n",
    "* Получите предсказания на тестовой выборке (тоже шкалированной);\n",
    "* Посчитайте метрики качества (RMSE, $R^2$);\n",
    "* Какая модель выдала лучший результат?"
   ]
  },
  {
   "cell_type": "code",
   "execution_count": 14,
   "id": "d0d268c8-18a7-4061-9bbd-f01243244ebd",
   "metadata": {},
   "outputs": [
    {
     "data": {
      "text/html": [
       "<style>#sk-container-id-2 {color: black;}#sk-container-id-2 pre{padding: 0;}#sk-container-id-2 div.sk-toggleable {background-color: white;}#sk-container-id-2 label.sk-toggleable__label {cursor: pointer;display: block;width: 100%;margin-bottom: 0;padding: 0.3em;box-sizing: border-box;text-align: center;}#sk-container-id-2 label.sk-toggleable__label-arrow:before {content: \"▸\";float: left;margin-right: 0.25em;color: #696969;}#sk-container-id-2 label.sk-toggleable__label-arrow:hover:before {color: black;}#sk-container-id-2 div.sk-estimator:hover label.sk-toggleable__label-arrow:before {color: black;}#sk-container-id-2 div.sk-toggleable__content {max-height: 0;max-width: 0;overflow: hidden;text-align: left;background-color: #f0f8ff;}#sk-container-id-2 div.sk-toggleable__content pre {margin: 0.2em;color: black;border-radius: 0.25em;background-color: #f0f8ff;}#sk-container-id-2 input.sk-toggleable__control:checked~div.sk-toggleable__content {max-height: 200px;max-width: 100%;overflow: auto;}#sk-container-id-2 input.sk-toggleable__control:checked~label.sk-toggleable__label-arrow:before {content: \"▾\";}#sk-container-id-2 div.sk-estimator input.sk-toggleable__control:checked~label.sk-toggleable__label {background-color: #d4ebff;}#sk-container-id-2 div.sk-label input.sk-toggleable__control:checked~label.sk-toggleable__label {background-color: #d4ebff;}#sk-container-id-2 input.sk-hidden--visually {border: 0;clip: rect(1px 1px 1px 1px);clip: rect(1px, 1px, 1px, 1px);height: 1px;margin: -1px;overflow: hidden;padding: 0;position: absolute;width: 1px;}#sk-container-id-2 div.sk-estimator {font-family: monospace;background-color: #f0f8ff;border: 1px dotted black;border-radius: 0.25em;box-sizing: border-box;margin-bottom: 0.5em;}#sk-container-id-2 div.sk-estimator:hover {background-color: #d4ebff;}#sk-container-id-2 div.sk-parallel-item::after {content: \"\";width: 100%;border-bottom: 1px solid gray;flex-grow: 1;}#sk-container-id-2 div.sk-label:hover label.sk-toggleable__label {background-color: #d4ebff;}#sk-container-id-2 div.sk-serial::before {content: \"\";position: absolute;border-left: 1px solid gray;box-sizing: border-box;top: 0;bottom: 0;left: 50%;z-index: 0;}#sk-container-id-2 div.sk-serial {display: flex;flex-direction: column;align-items: center;background-color: white;padding-right: 0.2em;padding-left: 0.2em;position: relative;}#sk-container-id-2 div.sk-item {position: relative;z-index: 1;}#sk-container-id-2 div.sk-parallel {display: flex;align-items: stretch;justify-content: center;background-color: white;position: relative;}#sk-container-id-2 div.sk-item::before, #sk-container-id-2 div.sk-parallel-item::before {content: \"\";position: absolute;border-left: 1px solid gray;box-sizing: border-box;top: 0;bottom: 0;left: 50%;z-index: -1;}#sk-container-id-2 div.sk-parallel-item {display: flex;flex-direction: column;z-index: 1;position: relative;background-color: white;}#sk-container-id-2 div.sk-parallel-item:first-child::after {align-self: flex-end;width: 50%;}#sk-container-id-2 div.sk-parallel-item:last-child::after {align-self: flex-start;width: 50%;}#sk-container-id-2 div.sk-parallel-item:only-child::after {width: 0;}#sk-container-id-2 div.sk-dashed-wrapped {border: 1px dashed gray;margin: 0 0.4em 0.5em 0.4em;box-sizing: border-box;padding-bottom: 0.4em;background-color: white;}#sk-container-id-2 div.sk-label label {font-family: monospace;font-weight: bold;display: inline-block;line-height: 1.2em;}#sk-container-id-2 div.sk-label-container {text-align: center;}#sk-container-id-2 div.sk-container {/* jupyter's `normalize.less` sets `[hidden] { display: none; }` but bootstrap.min.css set `[hidden] { display: none !important; }` so we also need the `!important` here to be able to override the default hidden behavior on the sphinx rendered scikit-learn.org. See: https://github.com/scikit-learn/scikit-learn/issues/21755 */display: inline-block !important;position: relative;}#sk-container-id-2 div.sk-text-repr-fallback {display: none;}</style><div id=\"sk-container-id-2\" class=\"sk-top-container\"><div class=\"sk-text-repr-fallback\"><pre>LinearRegression()</pre><b>In a Jupyter environment, please rerun this cell to show the HTML representation or trust the notebook. <br />On GitHub, the HTML representation is unable to render, please try loading this page with nbviewer.org.</b></div><div class=\"sk-container\" hidden><div class=\"sk-item\"><div class=\"sk-estimator sk-toggleable\"><input class=\"sk-toggleable__control sk-hidden--visually\" id=\"sk-estimator-id-2\" type=\"checkbox\" checked><label for=\"sk-estimator-id-2\" class=\"sk-toggleable__label sk-toggleable__label-arrow\">LinearRegression</label><div class=\"sk-toggleable__content\"><pre>LinearRegression()</pre></div></div></div></div></div>"
      ],
      "text/plain": [
       "LinearRegression()"
      ]
     },
     "execution_count": 14,
     "metadata": {},
     "output_type": "execute_result"
    }
   ],
   "source": []
  },
  {
   "cell_type": "code",
   "execution_count": 15,
   "id": "cf2e8523-9c1b-4027-ad66-c1e185f7307f",
   "metadata": {},
   "outputs": [],
   "source": []
  },
  {
   "cell_type": "code",
   "execution_count": 16,
   "id": "af76f571-b96d-4622-8772-e5be24a59dc8",
   "metadata": {},
   "outputs": [
    {
     "name": "stdout",
     "output_type": "stream",
     "text": [
      "MSE:  1482367295.9\n",
      "RMSE: 38501.5\n",
      "R^2:  0.689\n"
     ]
    }
   ],
   "source": []
  },
  {
   "cell_type": "markdown",
   "id": "86bf8dc7-0fcc-4b32-bdc5-bdcfaaf06449",
   "metadata": {},
   "source": [
    "Не переживайте, если получились такие же метрики. **Так и должно быть**. Потому что предсказания линейной модели scale-invariant.<br>\n",
    "Интуиция под этим простая: если мы поделили все значения признака в 2 раза, то коэффициент перед этим признаков просто увеличится в два раза. Та же логика и про центрирования.<br>\n",
    "Таким образом, шкалирование признаков в линейных моделях не оказывает влияния на предсказания, так как эти операции компенсируются за счёт коэффициентов. <br>\n",
    "Некоторые алгоритмы классичного машинного обучения, например метод к-ближайших соседей или метод опорных векторов, чувствительны к шкалированию и часто нуждаются в нём.<br><br>\n",
    "\n",
    "**Зачем тогда шкалирования в линейных моделях?**<br>\n",
    "1. Приведя признаки к одному масштабу, мы с помощью абсолютного значения коэффициентов можем оценить их вклад в предсказания. Таким образом, можем далее отобрать наиболее влиятельные признаки;<br>\n",
    "2. Шкалирование признаков помогает градиентным методам лучше сходиться. Обычный LinearRegression объект найдет коэффициент и на нешкалированных признаках, а SGDRegressor будет лучше работать на шкалированных признаках.<br>"
   ]
  },
  {
   "cell_type": "markdown",
   "id": "021456aa-54be-4038-9db6-9822da1b99d5",
   "metadata": {},
   "source": [
    "## 3. \n",
    "Давайте работать дальше на шкалированных признаках, чтобы мы могли оценить силу вклада признаков в предсказание с помощью коэффициентов."
   ]
  },
  {
   "cell_type": "markdown",
   "id": "2d3cf3c4-93ca-454d-82cb-99a4aba681b2",
   "metadata": {},
   "source": [
    "### 3.1 \n",
    "Сейчас у нас есть датафрейм с числовыми признаками, который мы разбивали на трейн и тест, а потом шкалировали. Сейчас мы из исходных данных отберем несколько категориальных столбцов, закодируем их, после этого отберем вместе с числовыми признаками в датафрейм, отшкалируем, обучим модель, оценим метрики. \n",
    "\n",
    "* Отберите их исходных данных в отдельную переменную категориальные колонки из списка `cat_cols` (он создан в ячейке ниже). Это категории с понятным порядком;\n",
    "* С помощью метода `pd.Series.map` закодируйте каждый столбец в числа, сохранив порядок (пример в ячейке ниже для столбца `HouseStyle`;\n",
    "* Сконкатенируйте закодированные категориальные столбцы с датафреймом с числовыми признаками (`pd.concat`, не забудьте указать нужную `axis`, вдоль которой конкатенировать).\n"
   ]
  },
  {
   "cell_type": "code",
   "execution_count": 17,
   "id": "96162836-0f78-42bc-a242-cee8dafe508e",
   "metadata": {},
   "outputs": [],
   "source": [
    "cat_cols = ['HouseStyle', 'ExterQual', 'ExterCond', 'KitchenQual']"
   ]
  },
  {
   "cell_type": "code",
   "execution_count": 18,
   "id": "95834c12-1aca-47ea-954a-cd33b2f97274",
   "metadata": {},
   "outputs": [
    {
     "name": "stdout",
     "output_type": "stream",
     "text": [
      "<class 'pandas.core.frame.DataFrame'>\n",
      "RangeIndex: 500 entries, 0 to 499\n",
      "Data columns (total 4 columns):\n",
      " #   Column       Non-Null Count  Dtype \n",
      "---  ------       --------------  ----- \n",
      " 0   HouseStyle   500 non-null    object\n",
      " 1   ExterQual    500 non-null    object\n",
      " 2   ExterCond    500 non-null    object\n",
      " 3   KitchenQual  500 non-null    object\n",
      "dtypes: object(4)\n",
      "memory usage: 15.8+ KB\n"
     ]
    }
   ],
   "source": [
    "df_cat = df[cat_cols]\n",
    "df_cat.info()"
   ]
  },
  {
   "cell_type": "code",
   "execution_count": 19,
   "id": "bddc2bb7-bd53-48c8-b682-c86a5782d815",
   "metadata": {},
   "outputs": [
    {
     "data": {
      "text/plain": [
       "1Story    251\n",
       "2Story    139\n",
       "1.5Sto     65\n",
       "2.5Sto     45\n",
       "Name: HouseStyle, dtype: int64"
      ]
     },
     "execution_count": 19,
     "metadata": {},
     "output_type": "execute_result"
    }
   ],
   "source": [
    "# в аннотации к данным можно посмотреть, какие категории есть в столбцах из cat_cols\n",
    "df_cat['HouseStyle'].value_counts()"
   ]
  },
  {
   "cell_type": "code",
   "execution_count": 20,
   "id": "6c15e668-46ad-48ee-9502-dd0329c4aa36",
   "metadata": {},
   "outputs": [
    {
     "name": "stderr",
     "output_type": "stream",
     "text": [
      "<ipython-input-20-d6008bc5b0df>:11: SettingWithCopyWarning: \n",
      "A value is trying to be set on a copy of a slice from a DataFrame.\n",
      "Try using .loc[row_indexer,col_indexer] = value instead\n",
      "\n",
      "See the caveats in the documentation: https://pandas.pydata.org/pandas-docs/stable/user_guide/indexing.html#returning-a-view-versus-a-copy\n",
      "  df_cat['HouseStyle'] = df_cat['HouseStyle'].map(map_dict)\n"
     ]
    }
   ],
   "source": [
    "# создаём словарь с соответствиями\n",
    "# вместо каждого исходного значения в столбце\n",
    "# запишем новое -- его числовое представление\n",
    "map_dict = {\n",
    "    '1Story':1, \n",
    "    '1.5Sto': 1.5, \n",
    "    '2Story':2,\n",
    "    '2.5Sto':2.5\n",
    "}\n",
    "\n",
    "df_cat['HouseStyle'] = df_cat['HouseStyle'].map(map_dict)"
   ]
  },
  {
   "cell_type": "code",
   "execution_count": 21,
   "id": "4d417857-aa5f-4116-a66d-32ce0c39a434",
   "metadata": {},
   "outputs": [
    {
     "data": {
      "text/html": [
       "<div>\n",
       "<style scoped>\n",
       "    .dataframe tbody tr th:only-of-type {\n",
       "        vertical-align: middle;\n",
       "    }\n",
       "\n",
       "    .dataframe tbody tr th {\n",
       "        vertical-align: top;\n",
       "    }\n",
       "\n",
       "    .dataframe thead th {\n",
       "        text-align: right;\n",
       "    }\n",
       "</style>\n",
       "<table border=\"1\" class=\"dataframe\">\n",
       "  <thead>\n",
       "    <tr style=\"text-align: right;\">\n",
       "      <th></th>\n",
       "      <th>HouseStyle</th>\n",
       "      <th>ExterQual</th>\n",
       "      <th>ExterCond</th>\n",
       "      <th>KitchenQual</th>\n",
       "    </tr>\n",
       "  </thead>\n",
       "  <tbody>\n",
       "    <tr>\n",
       "      <th>0</th>\n",
       "      <td>2.0</td>\n",
       "      <td>TA</td>\n",
       "      <td>TA</td>\n",
       "      <td>Gd</td>\n",
       "    </tr>\n",
       "    <tr>\n",
       "      <th>1</th>\n",
       "      <td>2.0</td>\n",
       "      <td>Gd</td>\n",
       "      <td>TA</td>\n",
       "      <td>Gd</td>\n",
       "    </tr>\n",
       "    <tr>\n",
       "      <th>2</th>\n",
       "      <td>1.5</td>\n",
       "      <td>TA</td>\n",
       "      <td>TA</td>\n",
       "      <td>TA</td>\n",
       "    </tr>\n",
       "    <tr>\n",
       "      <th>3</th>\n",
       "      <td>1.0</td>\n",
       "      <td>TA</td>\n",
       "      <td>TA</td>\n",
       "      <td>TA</td>\n",
       "    </tr>\n",
       "    <tr>\n",
       "      <th>4</th>\n",
       "      <td>1.0</td>\n",
       "      <td>TA</td>\n",
       "      <td>TA</td>\n",
       "      <td>Gd</td>\n",
       "    </tr>\n",
       "  </tbody>\n",
       "</table>\n",
       "</div>"
      ],
      "text/plain": [
       "   HouseStyle ExterQual ExterCond KitchenQual\n",
       "0         2.0        TA        TA          Gd\n",
       "1         2.0        Gd        TA          Gd\n",
       "2         1.5        TA        TA          TA\n",
       "3         1.0        TA        TA          TA\n",
       "4         1.0        TA        TA          Gd"
      ]
     },
     "execution_count": 21,
     "metadata": {},
     "output_type": "execute_result"
    }
   ],
   "source": [
    "# видим, что теперь вместо категорий числа,\n",
    "# олицетворяющие порядок категорий\n",
    "df_cat.head(5)"
   ]
  },
  {
   "cell_type": "code",
   "execution_count": 22,
   "id": "e6732ff6-7780-4fe5-b3b6-e5162dd98153",
   "metadata": {},
   "outputs": [],
   "source": [
    "# проделайте то же самое с оставшимися категориальными столбцами\n",
    "# затем конкатенируйте закодированные категориальные столбцы к числовым"
   ]
  },
  {
   "cell_type": "code",
   "execution_count": null,
   "id": "de5bcdee-5c65-4f4b-8e84-55308bfe597d",
   "metadata": {},
   "outputs": [],
   "source": []
  },
  {
   "cell_type": "code",
   "execution_count": 25,
   "id": "56f9fae8-9ed6-414f-9759-d3754fae8502",
   "metadata": {},
   "outputs": [
    {
     "data": {
      "text/html": [
       "<div>\n",
       "<style scoped>\n",
       "    .dataframe tbody tr th:only-of-type {\n",
       "        vertical-align: middle;\n",
       "    }\n",
       "\n",
       "    .dataframe tbody tr th {\n",
       "        vertical-align: top;\n",
       "    }\n",
       "\n",
       "    .dataframe thead th {\n",
       "        text-align: right;\n",
       "    }\n",
       "</style>\n",
       "<table border=\"1\" class=\"dataframe\">\n",
       "  <thead>\n",
       "    <tr style=\"text-align: right;\">\n",
       "      <th></th>\n",
       "      <th>HouseStyle</th>\n",
       "      <th>ExterQual</th>\n",
       "      <th>ExterCond</th>\n",
       "      <th>KitchenQual</th>\n",
       "    </tr>\n",
       "  </thead>\n",
       "  <tbody>\n",
       "    <tr>\n",
       "      <th>0</th>\n",
       "      <td>2.0</td>\n",
       "      <td>0</td>\n",
       "      <td>0</td>\n",
       "      <td>1</td>\n",
       "    </tr>\n",
       "    <tr>\n",
       "      <th>1</th>\n",
       "      <td>2.0</td>\n",
       "      <td>1</td>\n",
       "      <td>0</td>\n",
       "      <td>1</td>\n",
       "    </tr>\n",
       "    <tr>\n",
       "      <th>2</th>\n",
       "      <td>1.5</td>\n",
       "      <td>0</td>\n",
       "      <td>0</td>\n",
       "      <td>0</td>\n",
       "    </tr>\n",
       "    <tr>\n",
       "      <th>3</th>\n",
       "      <td>1.0</td>\n",
       "      <td>0</td>\n",
       "      <td>0</td>\n",
       "      <td>0</td>\n",
       "    </tr>\n",
       "    <tr>\n",
       "      <th>4</th>\n",
       "      <td>1.0</td>\n",
       "      <td>0</td>\n",
       "      <td>0</td>\n",
       "      <td>1</td>\n",
       "    </tr>\n",
       "  </tbody>\n",
       "</table>\n",
       "</div>"
      ],
      "text/plain": [
       "   HouseStyle  ExterQual  ExterCond  KitchenQual\n",
       "0         2.0          0          0            1\n",
       "1         2.0          1          0            1\n",
       "2         1.5          0          0            0\n",
       "3         1.0          0          0            0\n",
       "4         1.0          0          0            1"
      ]
     },
     "execution_count": 25,
     "metadata": {},
     "output_type": "execute_result"
    }
   ],
   "source": []
  },
  {
   "cell_type": "code",
   "execution_count": 26,
   "id": "4136a273-8a13-4ebe-afdb-624b79045501",
   "metadata": {},
   "outputs": [
    {
     "name": "stdout",
     "output_type": "stream",
     "text": [
      "<class 'pandas.core.frame.DataFrame'>\n",
      "RangeIndex: 500 entries, 0 to 499\n",
      "Data columns (total 4 columns):\n",
      " #   Column       Non-Null Count  Dtype  \n",
      "---  ------       --------------  -----  \n",
      " 0   HouseStyle   500 non-null    float64\n",
      " 1   ExterQual    500 non-null    int64  \n",
      " 2   ExterCond    500 non-null    int64  \n",
      " 3   KitchenQual  500 non-null    int64  \n",
      "dtypes: float64(1), int64(3)\n",
      "memory usage: 15.8 KB\n"
     ]
    }
   ],
   "source": []
  },
  {
   "cell_type": "code",
   "execution_count": 27,
   "id": "6780f55c-0314-4b28-bc33-430f7d6ad968",
   "metadata": {},
   "outputs": [
    {
     "data": {
      "text/plain": [
       "(500, 21)"
      ]
     },
     "execution_count": 27,
     "metadata": {},
     "output_type": "execute_result"
    }
   ],
   "source": []
  },
  {
   "cell_type": "code",
   "execution_count": 28,
   "id": "0fb4097d-2400-477f-b1b1-756ce05da956",
   "metadata": {},
   "outputs": [
    {
     "data": {
      "text/plain": [
       "(500, 4)"
      ]
     },
     "execution_count": 28,
     "metadata": {},
     "output_type": "execute_result"
    }
   ],
   "source": []
  },
  {
   "cell_type": "code",
   "execution_count": 29,
   "id": "047c071e-bfa0-42c5-8096-dfaa70701d0e",
   "metadata": {},
   "outputs": [
    {
     "data": {
      "text/plain": [
       "(500, 25)"
      ]
     },
     "execution_count": 29,
     "metadata": {},
     "output_type": "execute_result"
    }
   ],
   "source": []
  },
  {
   "cell_type": "markdown",
   "id": "6c6b3cdf-f7f3-4493-a1eb-31f46775c404",
   "metadata": {},
   "source": [
    "### 3.2\n",
    "Давайте оценим, насколько изменится качество модели. \n",
    "* Разбейте датафрейм с числовыми и закодированными категориальными признаками на трейн и тест (используя тот же random_state и размер тестовой выборки, как раньше);\n",
    "* Сделайте фит скейлера на трейне, трансфорт на трейне и тесте;\n",
    "* Обучите модель линейной регрессии, получите предсказания, посчитайте метрики."
   ]
  },
  {
   "cell_type": "code",
   "execution_count": 30,
   "id": "8336550c-0db6-43bb-860e-79970b36450d",
   "metadata": {},
   "outputs": [
    {
     "name": "stdout",
     "output_type": "stream",
     "text": [
      "X_train.shape: (400, 25)\n",
      "y_train.shape: (400,)\n",
      "X_test.shape: (100, 25)\n",
      "y_test.shape: (100,)\n"
     ]
    }
   ],
   "source": []
  },
  {
   "cell_type": "code",
   "execution_count": 31,
   "id": "5b7984f1-7b8e-4c29-adf0-56555ad4d675",
   "metadata": {},
   "outputs": [],
   "source": [
    "# у нас уже есть объект скейлера\n",
    "# его можно не создавать заново, а просто переобучить\n"
   ]
  },
  {
   "cell_type": "code",
   "execution_count": 32,
   "id": "af1bcb71-d616-4e43-8c65-66710a038dc3",
   "metadata": {},
   "outputs": [
    {
     "name": "stdout",
     "output_type": "stream",
     "text": [
      "MSE:  1317359878.9\n",
      "RMSE: 36295.5\n",
      "R^2:  0.724\n"
     ]
    }
   ],
   "source": [
    "# также не нужно создавать заново модель\n",
    "# она уже есть, просто переобучим её\n"
   ]
  },
  {
   "cell_type": "markdown",
   "id": "d7c8e901-9964-4772-928e-f78719f28e11",
   "metadata": {},
   "source": [
    "Качество должно стать лучше: ошибка меньше, $R^2$ больше.<br>\n",
    "_(*Держим в уме, что просто $R^2$ всегда становится тем больше, чем больше у нас признаков.<br>\n",
    "Так что стоит считать adjusted $R^2$. Формулу можно найти в интернете. Она просто учитывает размер данных.)_"
   ]
  },
  {
   "cell_type": "markdown",
   "id": "fdfc2a89-c819-4a5a-80e2-b80c37819869",
   "metadata": {},
   "source": [
    "## 4 и 5.\n",
    "Попробуем использовать регуляризацию и кросс-валидацию для выбора лучшей \"силы\" регуляризации.\n",
    "* Импортируйте линейную модель с _l2_ регуляризацией<br>\n",
    "(мы будем использовать _l2_ регуляризацию, так как в этом случае всё еще существует аналитическое решение, которому не нужно шкалирование. Шкалирование в `GridSearchCV` можно добавить только, создав `Pipeline`, но тогда код будет чуть сложнее.);\n",
    "* Из подмодуля `model_selection` импортируйте `GridSearhCV` для поиска по сетке параметров;\n",
    "* Создайте словарь с сеткой параметров (укажите 'cholesky' и 'svd' для параметра `solver` и 3-5 значений для силы регуляризации `alpha`);\n",
    "* Создайте экземпляр `GridSearchCV`.<br>\n",
    "При создании передайте ему модель с _l2_ регуляризацией, сетку параметров, установите установите 4 фолда для кросс-валидации.<br>\n",
    "В качестве `scorer` сделайте `neg_mean_squared_error` (прямо в качетве аргумента дайте строку, `scorer=\"neg_mean_squared_error\"`).\n",
    "* Обучите созданный объект `GridSearchCV`. Потом посмотрите атрибуты `best_params_` и `best_score_`.<br>\n",
    "В `best_score_` находится MSE, умноженная на минус 1. Так что, чтобы получить RMSE, надо сначала умноижть на -1, а потом взять корень квадратный.<br>\n",
    "Можно также установить `verbose=2` или 3."
   ]
  },
  {
   "cell_type": "code",
   "execution_count": 33,
   "id": "513574f9-9b8f-4e62-b6a9-4858f97ced7f",
   "metadata": {},
   "outputs": [],
   "source": []
  },
  {
   "cell_type": "code",
   "execution_count": 34,
   "id": "ab2a6bab-bb28-4bc5-bbcd-5dfd017ab11e",
   "metadata": {},
   "outputs": [
    {
     "name": "stdout",
     "output_type": "stream",
     "text": [
      "Fitting 4 folds for each of 16 candidates, totalling 64 fits\n",
      "[CV 1/4] END alpha=0.01, solver=cholesky;, score=-1513421277.719 total time=   0.0s\n",
      "[CV 2/4] END alpha=0.01, solver=cholesky;, score=-3283220736.301 total time=   0.0s\n",
      "[CV 3/4] END alpha=0.01, solver=cholesky;, score=-1384450984.636 total time=   0.0s\n",
      "[CV 4/4] END alpha=0.01, solver=cholesky;, score=-1720420876.390 total time=   0.0s\n",
      "[CV 1/4] END ..alpha=0.01, solver=svd;, score=-1513421277.719 total time=   0.0s\n",
      "[CV 2/4] END ..alpha=0.01, solver=svd;, score=-3283220736.301 total time=   0.0s\n",
      "[CV 3/4] END ..alpha=0.01, solver=svd;, score=-1384450984.636 total time=   0.0s\n",
      "[CV 4/4] END ..alpha=0.01, solver=svd;, score=-1720420876.390 total time=   0.0s\n",
      "[CV 1/4] END alpha=0.1, solver=cholesky;, score=-1513475955.312 total time=   0.0s\n",
      "[CV 2/4] END alpha=0.1, solver=cholesky;, score=-3283297610.442 total time=   0.0s\n",
      "[CV 3/4] END alpha=0.1, solver=cholesky;, score=-1384070928.361 total time=   0.0s\n",
      "[CV 4/4] END alpha=0.1, solver=cholesky;, score=-1719534569.828 total time=   0.0s\n",
      "[CV 1/4] END ...alpha=0.1, solver=svd;, score=-1513475955.312 total time=   0.0s\n",
      "[CV 2/4] END ...alpha=0.1, solver=svd;, score=-3283297610.442 total time=   0.0s\n",
      "[CV 3/4] END ...alpha=0.1, solver=svd;, score=-1384070928.361 total time=   0.0s\n",
      "[CV 4/4] END ...alpha=0.1, solver=svd;, score=-1719534569.828 total time=   0.0s\n",
      "[CV 1/4] END alpha=0.5, solver=cholesky;, score=-1513690305.595 total time=   0.0s\n",
      "[CV 2/4] END alpha=0.5, solver=cholesky;, score=-3283625084.366 total time=   0.0s\n",
      "[CV 3/4] END alpha=0.5, solver=cholesky;, score=-1382447001.832 total time=   0.0s\n",
      "[CV 4/4] END alpha=0.5, solver=cholesky;, score=-1715754077.096 total time=   0.0s\n",
      "[CV 1/4] END ...alpha=0.5, solver=svd;, score=-1513690305.595 total time=   0.0s\n",
      "[CV 2/4] END ...alpha=0.5, solver=svd;, score=-3283625084.365 total time=   0.0s\n",
      "[CV 3/4] END ...alpha=0.5, solver=svd;, score=-1382447001.832 total time=   0.0s\n",
      "[CV 4/4] END ...alpha=0.5, solver=svd;, score=-1715754077.096 total time=   0.0s\n",
      "[CV 1/4] END alpha=1, solver=cholesky;, score=-1513898336.948 total time=   0.0s\n",
      "[CV 2/4] END alpha=1, solver=cholesky;, score=-3284004344.497 total time=   0.0s\n",
      "[CV 3/4] END alpha=1, solver=cholesky;, score=-1380548505.009 total time=   0.0s\n",
      "[CV 4/4] END alpha=1, solver=cholesky;, score=-1711360178.708 total time=   0.0s\n",
      "[CV 1/4] END .....alpha=1, solver=svd;, score=-1513898336.948 total time=   0.0s\n",
      "[CV 2/4] END .....alpha=1, solver=svd;, score=-3284004344.497 total time=   0.0s\n",
      "[CV 3/4] END .....alpha=1, solver=svd;, score=-1380548505.009 total time=   0.0s\n",
      "[CV 4/4] END .....alpha=1, solver=svd;, score=-1711360178.708 total time=   0.0s\n",
      "[CV 1/4] END alpha=2.5, solver=cholesky;, score=-1514202094.896 total time=   0.0s\n",
      "[CV 2/4] END alpha=2.5, solver=cholesky;, score=-3284976566.822 total time=   0.0s\n",
      "[CV 3/4] END alpha=2.5, solver=cholesky;, score=-1375512451.806 total time=   0.0s\n",
      "[CV 4/4] END alpha=2.5, solver=cholesky;, score=-1699970973.045 total time=   0.0s\n",
      "[CV 1/4] END ...alpha=2.5, solver=svd;, score=-1514202094.896 total time=   0.0s\n",
      "[CV 2/4] END ...alpha=2.5, solver=svd;, score=-3284976566.822 total time=   0.0s\n",
      "[CV 3/4] END ...alpha=2.5, solver=svd;, score=-1375512451.806 total time=   0.0s\n",
      "[CV 4/4] END ...alpha=2.5, solver=svd;, score=-1699970973.045 total time=   0.0s\n",
      "[CV 1/4] END alpha=10, solver=cholesky;, score=-1512268474.679 total time=   0.0s\n",
      "[CV 2/4] END alpha=10, solver=cholesky;, score=-3287966120.516 total time=   0.0s\n",
      "[CV 3/4] END alpha=10, solver=cholesky;, score=-1357382498.323 total time=   0.0s\n",
      "[CV 4/4] END alpha=10, solver=cholesky;, score=-1664728726.364 total time=   0.0s\n",
      "[CV 1/4] END ....alpha=10, solver=svd;, score=-1512268474.679 total time=   0.0s\n",
      "[CV 2/4] END ....alpha=10, solver=svd;, score=-3287966120.516 total time=   0.0s\n",
      "[CV 3/4] END ....alpha=10, solver=svd;, score=-1357382498.323 total time=   0.0s\n",
      "[CV 4/4] END ....alpha=10, solver=svd;, score=-1664728726.364 total time=   0.0s\n",
      "[CV 1/4] END alpha=100, solver=cholesky;, score=-1494472010.061 total time=   0.0s\n",
      "[CV 2/4] END alpha=100, solver=cholesky;, score=-3330004726.285 total time=   0.0s\n",
      "[CV 3/4] END alpha=100, solver=cholesky;, score=-1289867243.720 total time=   0.0s\n",
      "[CV 4/4] END alpha=100, solver=cholesky;, score=-1610914531.889 total time=   0.0s\n",
      "[CV 1/4] END ...alpha=100, solver=svd;, score=-1494472010.061 total time=   0.0s\n",
      "[CV 2/4] END ...alpha=100, solver=svd;, score=-3330004726.285 total time=   0.0s\n",
      "[CV 3/4] END ...alpha=100, solver=svd;, score=-1289867243.720 total time=   0.0s\n",
      "[CV 4/4] END ...alpha=100, solver=svd;, score=-1610914531.889 total time=   0.0s\n",
      "[CV 1/4] END alpha=1000, solver=cholesky;, score=-1666591298.014 total time=   0.0s\n",
      "[CV 2/4] END alpha=1000, solver=cholesky;, score=-3618517051.257 total time=   0.0s\n",
      "[CV 3/4] END alpha=1000, solver=cholesky;, score=-1378522838.205 total time=   0.0s\n",
      "[CV 4/4] END alpha=1000, solver=cholesky;, score=-1898018461.873 total time=   0.0s\n",
      "[CV 1/4] END ..alpha=1000, solver=svd;, score=-1666591298.014 total time=   0.0s\n",
      "[CV 2/4] END ..alpha=1000, solver=svd;, score=-3618517051.257 total time=   0.0s\n",
      "[CV 3/4] END ..alpha=1000, solver=svd;, score=-1378522838.204 total time=   0.0s\n",
      "[CV 4/4] END ..alpha=1000, solver=svd;, score=-1898018461.874 total time=   0.0s\n"
     ]
    },
    {
     "data": {
      "text/html": [
       "<style>#sk-container-id-3 {color: black;}#sk-container-id-3 pre{padding: 0;}#sk-container-id-3 div.sk-toggleable {background-color: white;}#sk-container-id-3 label.sk-toggleable__label {cursor: pointer;display: block;width: 100%;margin-bottom: 0;padding: 0.3em;box-sizing: border-box;text-align: center;}#sk-container-id-3 label.sk-toggleable__label-arrow:before {content: \"▸\";float: left;margin-right: 0.25em;color: #696969;}#sk-container-id-3 label.sk-toggleable__label-arrow:hover:before {color: black;}#sk-container-id-3 div.sk-estimator:hover label.sk-toggleable__label-arrow:before {color: black;}#sk-container-id-3 div.sk-toggleable__content {max-height: 0;max-width: 0;overflow: hidden;text-align: left;background-color: #f0f8ff;}#sk-container-id-3 div.sk-toggleable__content pre {margin: 0.2em;color: black;border-radius: 0.25em;background-color: #f0f8ff;}#sk-container-id-3 input.sk-toggleable__control:checked~div.sk-toggleable__content {max-height: 200px;max-width: 100%;overflow: auto;}#sk-container-id-3 input.sk-toggleable__control:checked~label.sk-toggleable__label-arrow:before {content: \"▾\";}#sk-container-id-3 div.sk-estimator input.sk-toggleable__control:checked~label.sk-toggleable__label {background-color: #d4ebff;}#sk-container-id-3 div.sk-label input.sk-toggleable__control:checked~label.sk-toggleable__label {background-color: #d4ebff;}#sk-container-id-3 input.sk-hidden--visually {border: 0;clip: rect(1px 1px 1px 1px);clip: rect(1px, 1px, 1px, 1px);height: 1px;margin: -1px;overflow: hidden;padding: 0;position: absolute;width: 1px;}#sk-container-id-3 div.sk-estimator {font-family: monospace;background-color: #f0f8ff;border: 1px dotted black;border-radius: 0.25em;box-sizing: border-box;margin-bottom: 0.5em;}#sk-container-id-3 div.sk-estimator:hover {background-color: #d4ebff;}#sk-container-id-3 div.sk-parallel-item::after {content: \"\";width: 100%;border-bottom: 1px solid gray;flex-grow: 1;}#sk-container-id-3 div.sk-label:hover label.sk-toggleable__label {background-color: #d4ebff;}#sk-container-id-3 div.sk-serial::before {content: \"\";position: absolute;border-left: 1px solid gray;box-sizing: border-box;top: 0;bottom: 0;left: 50%;z-index: 0;}#sk-container-id-3 div.sk-serial {display: flex;flex-direction: column;align-items: center;background-color: white;padding-right: 0.2em;padding-left: 0.2em;position: relative;}#sk-container-id-3 div.sk-item {position: relative;z-index: 1;}#sk-container-id-3 div.sk-parallel {display: flex;align-items: stretch;justify-content: center;background-color: white;position: relative;}#sk-container-id-3 div.sk-item::before, #sk-container-id-3 div.sk-parallel-item::before {content: \"\";position: absolute;border-left: 1px solid gray;box-sizing: border-box;top: 0;bottom: 0;left: 50%;z-index: -1;}#sk-container-id-3 div.sk-parallel-item {display: flex;flex-direction: column;z-index: 1;position: relative;background-color: white;}#sk-container-id-3 div.sk-parallel-item:first-child::after {align-self: flex-end;width: 50%;}#sk-container-id-3 div.sk-parallel-item:last-child::after {align-self: flex-start;width: 50%;}#sk-container-id-3 div.sk-parallel-item:only-child::after {width: 0;}#sk-container-id-3 div.sk-dashed-wrapped {border: 1px dashed gray;margin: 0 0.4em 0.5em 0.4em;box-sizing: border-box;padding-bottom: 0.4em;background-color: white;}#sk-container-id-3 div.sk-label label {font-family: monospace;font-weight: bold;display: inline-block;line-height: 1.2em;}#sk-container-id-3 div.sk-label-container {text-align: center;}#sk-container-id-3 div.sk-container {/* jupyter's `normalize.less` sets `[hidden] { display: none; }` but bootstrap.min.css set `[hidden] { display: none !important; }` so we also need the `!important` here to be able to override the default hidden behavior on the sphinx rendered scikit-learn.org. See: https://github.com/scikit-learn/scikit-learn/issues/21755 */display: inline-block !important;position: relative;}#sk-container-id-3 div.sk-text-repr-fallback {display: none;}</style><div id=\"sk-container-id-3\" class=\"sk-top-container\"><div class=\"sk-text-repr-fallback\"><pre>GridSearchCV(cv=4, estimator=Ridge(),\n",
       "             param_grid={&#x27;alpha&#x27;: [0.01, 0.1, 0.5, 1, 2.5, 10, 100, 1000],\n",
       "                         &#x27;solver&#x27;: [&#x27;cholesky&#x27;, &#x27;svd&#x27;]},\n",
       "             scoring=&#x27;neg_mean_squared_error&#x27;, verbose=3)</pre><b>In a Jupyter environment, please rerun this cell to show the HTML representation or trust the notebook. <br />On GitHub, the HTML representation is unable to render, please try loading this page with nbviewer.org.</b></div><div class=\"sk-container\" hidden><div class=\"sk-item sk-dashed-wrapped\"><div class=\"sk-label-container\"><div class=\"sk-label sk-toggleable\"><input class=\"sk-toggleable__control sk-hidden--visually\" id=\"sk-estimator-id-3\" type=\"checkbox\" ><label for=\"sk-estimator-id-3\" class=\"sk-toggleable__label sk-toggleable__label-arrow\">GridSearchCV</label><div class=\"sk-toggleable__content\"><pre>GridSearchCV(cv=4, estimator=Ridge(),\n",
       "             param_grid={&#x27;alpha&#x27;: [0.01, 0.1, 0.5, 1, 2.5, 10, 100, 1000],\n",
       "                         &#x27;solver&#x27;: [&#x27;cholesky&#x27;, &#x27;svd&#x27;]},\n",
       "             scoring=&#x27;neg_mean_squared_error&#x27;, verbose=3)</pre></div></div></div><div class=\"sk-parallel\"><div class=\"sk-parallel-item\"><div class=\"sk-item\"><div class=\"sk-label-container\"><div class=\"sk-label sk-toggleable\"><input class=\"sk-toggleable__control sk-hidden--visually\" id=\"sk-estimator-id-4\" type=\"checkbox\" ><label for=\"sk-estimator-id-4\" class=\"sk-toggleable__label sk-toggleable__label-arrow\">estimator: Ridge</label><div class=\"sk-toggleable__content\"><pre>Ridge()</pre></div></div></div><div class=\"sk-serial\"><div class=\"sk-item\"><div class=\"sk-estimator sk-toggleable\"><input class=\"sk-toggleable__control sk-hidden--visually\" id=\"sk-estimator-id-5\" type=\"checkbox\" ><label for=\"sk-estimator-id-5\" class=\"sk-toggleable__label sk-toggleable__label-arrow\">Ridge</label><div class=\"sk-toggleable__content\"><pre>Ridge()</pre></div></div></div></div></div></div></div></div></div></div>"
      ],
      "text/plain": [
       "GridSearchCV(cv=4, estimator=Ridge(),\n",
       "             param_grid={'alpha': [0.01, 0.1, 0.5, 1, 2.5, 10, 100, 1000],\n",
       "                         'solver': ['cholesky', 'svd']},\n",
       "             scoring='neg_mean_squared_error', verbose=3)"
      ]
     },
     "execution_count": 34,
     "metadata": {},
     "output_type": "execute_result"
    }
   ],
   "source": []
  },
  {
   "cell_type": "code",
   "execution_count": 35,
   "id": "629853d5-9500-435f-9ea2-847ad479de6d",
   "metadata": {},
   "outputs": [
    {
     "data": {
      "text/plain": [
       "{'alpha': 100, 'solver': 'svd'}"
      ]
     },
     "execution_count": 35,
     "metadata": {},
     "output_type": "execute_result"
    }
   ],
   "source": []
  },
  {
   "cell_type": "code",
   "execution_count": 36,
   "id": "981f7517-c7ec-4366-84b2-2bc5b4966387",
   "metadata": {},
   "outputs": [
    {
     "data": {
      "text/plain": [
       "43946.7248835305"
      ]
     },
     "execution_count": 36,
     "metadata": {},
     "output_type": "execute_result"
    }
   ],
   "source": []
  },
  {
   "cell_type": "markdown",
   "id": "c4cbaedb-b81b-4c9e-b62f-9aea5f823e14",
   "metadata": {},
   "source": [
    "## 6.\n",
    "Иногда шкалирование целевой переменной может улучшить качество модели. Например, если цена квартиры растет нелинейно, а экспоненциально, то логарифмировав целевую переменную, мы получим степени. А степени в таком случае меняются линейно.<br>\n",
    "\n",
    "Более развернутое пояснение. Представим, что каждый квадратный метр удваивает стоимость квартиры. Тогда прибавив 5 квадартных метров, мы сделаем квартиру дороже в 2**5 раз.<br>\n",
    "То есть если увеличить число квадратных метров НА 1, цена растет ВО сколько-то раз. Надо, чтобы при увеличении метров НА сколько-то единиц, целевая переменная тоже росла НА сколько-то единиц.<br>\n",
    "Если мы логарифмируем цены, то тогда при добавлении 1 квадратного метра, логарифм цена растет НА 1.<br> \n",
    "Логарифм превращает умножение в сумму. "
   ]
  },
  {
   "cell_type": "markdown",
   "id": "9d80b22e-5f9d-406a-bbbf-b01d3ea55264",
   "metadata": {},
   "source": [
    "### 6.1\n",
    "Давайте для простоты вернемся к датафрейму с числовыми и категориальными признаками. Он уже разбит на трейн и тест и отшкалирован.<br>\n",
    "* Логарифмируйте целевую переменную для трейна (воспользуйте просто `np.log`, основание этого логарифма -- экспонента);\n",
    "* Обучите обычную линейную модель без регуляризации на откашлированных данных для трейна из пункта 3.2;\n",
    "* Получите предскаазния для теста.<br>\n",
    "Так как мы учились на на ценах квартир, а на степенях, в которвую надо возвести экспоненту, чтобы получить цену квартиры, то и предсказывает наша модель степени.\n",
    "* Так как мы получили степени экспоненты, то надо возвести экспоненту в соответствующие степени, чтобы получить цены квартир (дайте функции `np.exp` ваши предсказания, чтобы из степеней получить цены);\n",
    "* Посчитайте метрики, сравните с метриками из пункта 3.2."
   ]
  },
  {
   "cell_type": "code",
   "execution_count": 37,
   "id": "269898cb-40ff-4182-b10c-1fd9401ec919",
   "metadata": {},
   "outputs": [],
   "source": []
  },
  {
   "cell_type": "code",
   "execution_count": 38,
   "id": "cc5c8619-5769-4edf-9660-7d692f46429d",
   "metadata": {},
   "outputs": [
    {
     "name": "stdout",
     "output_type": "stream",
     "text": [
      "MSE:  1273486599.3\n",
      "RMSE: 35685.9\n",
      "R^2:  0.733\n"
     ]
    }
   ],
   "source": [
    "# также не нужно создавать заново модель\n",
    "# она уже есть, просто переобучим её\n"
   ]
  },
  {
   "cell_type": "markdown",
   "id": "55e653f8-cd56-415e-b109-9c6a83ea366c",
   "metadata": {},
   "source": [
    "Метрики должны были стать чуть лучше."
   ]
  },
  {
   "cell_type": "markdown",
   "id": "aad2bae3-4ab9-44ad-a989-c67fe36a6be6",
   "metadata": {},
   "source": [
    "# Take home messages"
   ]
  },
  {
   "cell_type": "code",
   "execution_count": null,
   "id": "3c5cc806-0f2a-4692-bf1c-bb809a7acc71",
   "metadata": {},
   "outputs": [],
   "source": []
  }
 ],
 "metadata": {
  "kernelspec": {
   "display_name": "hock",
   "language": "python",
   "name": "hock"
  },
  "language_info": {
   "codemirror_mode": {
    "name": "ipython",
    "version": 3
   },
   "file_extension": ".py",
   "mimetype": "text/x-python",
   "name": "python",
   "nbconvert_exporter": "python",
   "pygments_lexer": "ipython3",
   "version": "3.8.10"
  }
 },
 "nbformat": 4,
 "nbformat_minor": 5
}
