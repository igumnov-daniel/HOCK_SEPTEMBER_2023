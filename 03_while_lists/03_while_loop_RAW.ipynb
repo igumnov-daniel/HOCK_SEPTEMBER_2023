{
 "cells": [
  {
   "cell_type": "markdown",
   "id": "2fab55c4-b200-4da4-aefd-677f0d09d93d",
   "metadata": {},
   "source": [
    "# Краткое повторение"
   ]
  },
  {
   "cell_type": "markdown",
   "id": "3840972b-f4eb-4ce4-8880-46872541e251",
   "metadata": {},
   "source": [
    "## Условия"
   ]
  },
  {
   "cell_type": "markdown",
   "id": "8648d4f9-15a5-426f-8d1c-662061a34287",
   "metadata": {},
   "source": [
    "**Задачка**\n",
    "<br>\n",
    "В очень-очень маленькой деревне все билеты на автобус двухзначные.<br>\n",
    "По счастливым билетикам проезд бесплатный.<br>\n",
    "Счастливым будем называть билет, где цифра в разряде десятков равна цифре в разряде единицы.<br>\n",
    "Иными словами, билет из двух одинаковых цифр :) Например, 11, 22, 77 и тд.\n",
    "<br><br>\n",
    "Напишите программу, которая принимает номер билета (целое число) от пользователя и печатает \"**LUCKY**\", если билетик счастливый, и \"**UNLUCKY**\", если обычный."
   ]
  },
  {
   "cell_type": "code",
   "execution_count": 3,
   "id": "9868dd10-c1e5-4cf8-ae5d-aa340ef4c19b",
   "metadata": {
    "tags": []
   },
   "outputs": [
    {
     "name": "stdin",
     "output_type": "stream",
     "text": [
      " 77\n"
     ]
    },
    {
     "name": "stdout",
     "output_type": "stream",
     "text": [
      "LUCKY\n"
     ]
    }
   ],
   "source": [
    "ticket = int(input())  # принимаем номер билета и конвертируем в число\n",
    "tens = ticket // 10    # поделив нацело на 10, получаем цифру в разряде десятков\n",
    "units = ticket % 10    # остаток от деления на 10 -- это число единиц\n",
    "if tens == units:      # если число десятков и единиц одинаково\n",
    "    print('LUCKY')     # печатаем LUCKY\n",
    "else:                  # иначе\n",
    "    print('UNLUCKY')   # печатаем UNLUCKY"
   ]
  },
  {
   "cell_type": "markdown",
   "id": "82a6b451-9ba2-4b8f-8914-1b7d483228fb",
   "metadata": {},
   "source": [
    "### Булевые выражения, `or`, `and`"
   ]
  },
  {
   "cell_type": "markdown",
   "id": "7e91aad9-d825-4ef9-ac35-e6f0a9014dd0",
   "metadata": {},
   "source": [
    "Определение счастливого билета немного изменилось.<br>\n",
    "Теперь либо номер билета должен состоять из одинаковых цифр, либо разница между число единиц и десятков должна быть равна пяти."
   ]
  },
  {
   "cell_type": "code",
   "execution_count": 4,
   "id": "fb8e674b-17d1-4a64-9f8b-b01be8714cb7",
   "metadata": {
    "tags": []
   },
   "outputs": [
    {
     "name": "stdin",
     "output_type": "stream",
     "text": [
      " 61\n"
     ]
    },
    {
     "name": "stdout",
     "output_type": "stream",
     "text": [
      "LUCKY\n"
     ]
    }
   ],
   "source": [
    "ticket = int(input())\n",
    "tens = ticket // 10 \n",
    "units = ticket % 10\n",
    "if tens == units:\n",
    "    print('LUCKY') \n",
    "elif (tens - units) == 5 or (units - tens) == 5:  # abs(tens - units) # функция abs даёт модуль числа\n",
    "    print('LUCKY') \n",
    "else:              \n",
    "    print('UNLUCKY')"
   ]
  },
  {
   "cell_type": "markdown",
   "id": "a3462b8d-4b6d-4241-a0d5-fefe1fa67948",
   "metadata": {},
   "source": [
    "А теперь будем считать счастливым тот билет, номер которого больше 25, но меньше 75, и состоит из двух одинаковых цифр."
   ]
  },
  {
   "cell_type": "code",
   "execution_count": 5,
   "id": "658daa45-2c8d-4047-b682-930048727529",
   "metadata": {
    "tags": []
   },
   "outputs": [
    {
     "name": "stdin",
     "output_type": "stream",
     "text": [
      " 55\n"
     ]
    },
    {
     "name": "stdout",
     "output_type": "stream",
     "text": [
      "LUCKY\n"
     ]
    }
   ],
   "source": [
    "ticket = int(input())\n",
    "tens = ticket // 10 \n",
    "units = ticket % 10\n",
    "if tens == units and 25 < ticket < 75:\n",
    "    print('LUCKY') \n",
    "else:              \n",
    "    print('UNLUCKY')"
   ]
  },
  {
   "cell_type": "markdown",
   "id": "9f748800-3c45-4f02-9c3a-2755f8e2cb6e",
   "metadata": {},
   "source": [
    "## Цикл `for`"
   ]
  },
  {
   "cell_type": "markdown",
   "id": "22282b85-a075-4ea8-8c9a-d234d0f0e695",
   "metadata": {},
   "source": [
    "### Генератор чисел `range`"
   ]
  },
  {
   "cell_type": "code",
   "execution_count": 12,
   "id": "01fed5df-a28e-44cb-a82a-c5a9db9e2971",
   "metadata": {
    "tags": []
   },
   "outputs": [
    {
     "name": "stdout",
     "output_type": "stream",
     "text": [
      "1\n",
      "3\n",
      "5\n"
     ]
    }
   ],
   "source": [
    "for i in range(1, 6, 2): # start, stop, step\n",
    "    print(i)"
   ]
  },
  {
   "cell_type": "code",
   "execution_count": 11,
   "id": "b0fd539d-85ae-4986-85ee-9edb1fe35e37",
   "metadata": {
    "tags": []
   },
   "outputs": [
    {
     "name": "stdout",
     "output_type": "stream",
     "text": [
      "5\n",
      "3\n",
      "1\n"
     ]
    }
   ],
   "source": [
    "for i in range(5, 0, -2): # start, stop, step (отрицательный шаг)\n",
    "    print(i)"
   ]
  },
  {
   "cell_type": "markdown",
   "id": "2176bb28-4684-4c8f-9fea-2fe314e7f292",
   "metadata": {},
   "source": [
    "### Итерация строк"
   ]
  },
  {
   "cell_type": "code",
   "execution_count": 13,
   "id": "4805d8fe-e9ab-43cd-ad90-bef83f13e67b",
   "metadata": {
    "tags": []
   },
   "outputs": [
    {
     "name": "stdout",
     "output_type": "stream",
     "text": [
      "H\n",
      "e\n",
      "l\n",
      "l\n",
      "o\n"
     ]
    }
   ],
   "source": [
    "word = 'Hello'\n",
    "for l in word:\n",
    "    print(l)"
   ]
  },
  {
   "cell_type": "markdown",
   "id": "15ef9c92-79dd-4258-9383-aee86985c248",
   "metadata": {},
   "source": [
    "### Взаимодействие с пользователем в цикле"
   ]
  },
  {
   "cell_type": "markdown",
   "id": "576f19b8-f18e-4aa7-87d0-5d40407dddb5",
   "metadata": {},
   "source": [
    "Напишем программу, которая принимает от пользователя N чисел и считает, сколько раз было введено число, кратное пяти.<br>\n",
    "N вводится первым."
   ]
  },
  {
   "cell_type": "code",
   "execution_count": 15,
   "id": "e4e62846-673d-4034-a434-df4b9dbd7d3a",
   "metadata": {
    "tags": []
   },
   "outputs": [
    {
     "name": "stdin",
     "output_type": "stream",
     "text": [
      " 5\n",
      " 10\n",
      " 20\n",
      " 30\n",
      " 1\n",
      " 2\n"
     ]
    },
    {
     "name": "stdout",
     "output_type": "stream",
     "text": [
      "3\n"
     ]
    }
   ],
   "source": [
    "n = int(input())\n",
    "q = 0\n",
    "\n",
    "for i in range(n): # а можно было поставить нижний слеш в качестве локальной переменной цикла\n",
    "    num = int(input())\n",
    "    if num % 5 == 0:\n",
    "        q += 1\n",
    "\n",
    "print(q)"
   ]
  },
  {
   "cell_type": "markdown",
   "id": "060899ff-1aa4-4dc7-9c8b-a1ac04af39b1",
   "metadata": {},
   "source": [
    "# ПРАКТИКА НА ПОВТОРЕНИЕ"
   ]
  },
  {
   "cell_type": "markdown",
   "id": "1e52f12f-00e6-4a45-a1da-22a317cd56fa",
   "metadata": {},
   "source": [
    "# Цикл `while`"
   ]
  },
  {
   "cell_type": "markdown",
   "id": "484e4231-746c-4c69-b848-ae718702faec",
   "metadata": {
    "tags": []
   },
   "source": [
    "Цикл `while` работает до тех пор, пока выполняется его условие.<br>\n",
    "Проверка условия осуществляется перед каждой итерацией цикла."
   ]
  },
  {
   "cell_type": "markdown",
   "id": "07e6b711-2d79-476b-8615-e146351f518f",
   "metadata": {},
   "source": [
    "## Основная идея"
   ]
  },
  {
   "cell_type": "markdown",
   "id": "ea824789-9f7a-4ed3-9ff9-c521bcaa23d3",
   "metadata": {},
   "source": [
    "Зададим число. Пока это число больше нуля, будем печатать его и каждый раз уменьшать на 1."
   ]
  },
  {
   "cell_type": "code",
   "execution_count": 17,
   "id": "5081f411-0092-4198-893a-274ce287db6a",
   "metadata": {
    "tags": []
   },
   "outputs": [
    {
     "name": "stdout",
     "output_type": "stream",
     "text": [
      "3\n",
      "2\n",
      "1\n"
     ]
    }
   ],
   "source": [
    "x = 3\n",
    "while x > 0:\n",
    "    print(x)\n",
    "    x -= 1"
   ]
  },
  {
   "cell_type": "markdown",
   "id": "a53ab24a-5d23-4181-9368-7cfac2ab9abd",
   "metadata": {},
   "source": [
    "Нужно писать условие цикла с умом, ведь можно случайно сделать бесконечный цикл.<br>\n",
    "Напишем специально программу с бесконечным циклом.<br>\n",
    "Заведем число. Будем уменьшать его на 1 в каждй итерации. Печатать будем только тогда, когда число кратно 500000.\n",
    "\n",
    "**Внимание, пример снизу -- это бесконечный цикл. Прервите его исполнение, нажав на черный квадратик сверху.**"
   ]
  },
  {
   "cell_type": "code",
   "execution_count": 23,
   "id": "73af4fc4-041d-4a1c-95fd-10cbb40ad0db",
   "metadata": {
    "tags": []
   },
   "outputs": [
    {
     "name": "stdout",
     "output_type": "stream",
     "text": [
      "0\n",
      "-100000\n",
      "-200000\n",
      "-300000\n",
      "-400000\n",
      "-500000\n",
      "-600000\n",
      "-700000\n",
      "-800000\n",
      "-900000\n",
      "-1000000\n"
     ]
    },
    {
     "ename": "KeyboardInterrupt",
     "evalue": "",
     "output_type": "error",
     "traceback": [
      "\u001b[1;31m---------------------------------------------------------------------------\u001b[0m",
      "\u001b[1;31mKeyboardInterrupt\u001b[0m                         Traceback (most recent call last)",
      "Cell \u001b[1;32mIn [23], line 3\u001b[0m\n\u001b[0;32m      1\u001b[0m x \u001b[38;5;241m=\u001b[39m \u001b[38;5;241m3\u001b[39m\n\u001b[0;32m      2\u001b[0m \u001b[38;5;28;01mwhile\u001b[39;00m x \u001b[38;5;241m<\u001b[39m \u001b[38;5;241m5\u001b[39m:\n\u001b[1;32m----> 3\u001b[0m     x \u001b[38;5;241m-\u001b[39m\u001b[38;5;241m=\u001b[39m \u001b[38;5;241m1\u001b[39m\n\u001b[0;32m      4\u001b[0m     \u001b[38;5;28;01mif\u001b[39;00m x \u001b[38;5;241m%\u001b[39m \u001b[38;5;241m100000\u001b[39m \u001b[38;5;241m==\u001b[39m \u001b[38;5;241m0\u001b[39m:\n\u001b[0;32m      5\u001b[0m         \u001b[38;5;28mprint\u001b[39m(x)\n",
      "\u001b[1;31mKeyboardInterrupt\u001b[0m: "
     ]
    }
   ],
   "source": [
    "x = 3\n",
    "while x < 5:\n",
    "    x -= 1\n",
    "    if x % 100000 == 0:\n",
    "        print(x)"
   ]
  },
  {
   "cell_type": "markdown",
   "id": "85ed2516-b3e9-440c-9597-1de2c0fe9a2a",
   "metadata": {},
   "source": [
    "Как видите, за ту секунду, что я потратил на остановку программы, у цикла успело пройти больше миллиона итераций (начальное число -- 3, а последний вывод уже минус миллион)."
   ]
  },
  {
   "cell_type": "markdown",
   "id": "4a7583c2-a77f-4db4-9142-f6b03f6d3680",
   "metadata": {},
   "source": [
    "## Взаимодействие с пользователем в цикле `while`"
   ]
  },
  {
   "cell_type": "markdown",
   "id": "3eed33e9-355b-4482-8a3e-73ba420c163c",
   "metadata": {},
   "source": [
    "Стоит использовать `while` тогда, когда мы заранее не знаем число итераций цикла.<br>\n",
    "Например, если нам нужно принимать от пользователя числа до тех пор, пока не будет введён ноль.<br>\n",
    "И затем надо написать число, предшествующее нулю."
   ]
  },
  {
   "cell_type": "code",
   "execution_count": 24,
   "id": "d89d7259-f036-4474-81ff-87652d18e0e9",
   "metadata": {
    "tags": []
   },
   "outputs": [
    {
     "name": "stdin",
     "output_type": "stream",
     "text": [
      " 1\n",
      " 2\n",
      " 3\n",
      " 0\n"
     ]
    },
    {
     "name": "stdout",
     "output_type": "stream",
     "text": [
      "3\n"
     ]
    }
   ],
   "source": [
    "num = int(input())     # принимаем первое число\n",
    " \n",
    "while num != 0:        # инициализируем цикл\n",
    "    old_num = num      # запоминаем текущее число\n",
    "    num = int(input()) # вводим новое\n",
    "                       # если новое число было равно нулю, то цикл закончится\n",
    "print(old_num)         # мы печатаем последнее запомненное значение"
   ]
  },
  {
   "cell_type": "markdown",
   "id": "885afdcb-7c8d-4fab-80d8-8c199802c5f5",
   "metadata": {},
   "source": [
    "### Оператор `break`"
   ]
  },
  {
   "cell_type": "markdown",
   "id": "937fb238-fd4b-4807-9d8a-4ac10499c761",
   "metadata": {},
   "source": [
    "Мы имеем возможность выходить из цикла в любом момент с помощью оператора `break`.<br>\n",
    "Цикл завершается сразу после оператора без выполнения остатка кода в теле цикла и проверки условия.<br>\n",
    "\n",
    "`break` работает и в цикле `for`."
   ]
  },
  {
   "cell_type": "code",
   "execution_count": 25,
   "id": "79f1c1a8-59a4-43cb-b809-8e7ea9563dff",
   "metadata": {
    "tags": []
   },
   "outputs": [
    {
     "name": "stdout",
     "output_type": "stream",
     "text": [
      "10\n",
      "9\n",
      "8\n"
     ]
    }
   ],
   "source": [
    "n = 10\n",
    "while n > 0:\n",
    "    print(n)\n",
    "    n -= 1\n",
    "    if n == 7:\n",
    "        break"
   ]
  },
  {
   "cell_type": "markdown",
   "id": "9e751a46-5083-4da7-8bb6-4fe2e2bad5ef",
   "metadata": {},
   "source": [
    "Еще `break` можно использовать, если вам не хочется инициализировать цикл с условием.<br>\n",
    "Тогда выход из цикла можно написать с помощью `break`.<br>\n",
    "\n",
    "Снизу представлены две абсолютно эквивалентные программы.<br>\n",
    "Подумайте, что они делают."
   ]
  },
  {
   "cell_type": "code",
   "execution_count": 28,
   "id": "3f7cca5f-0e4c-4965-b179-9a972a56d6e0",
   "metadata": {
    "tags": []
   },
   "outputs": [
    {
     "name": "stdin",
     "output_type": "stream",
     "text": [
      " 5\n",
      " -5\n",
      " 4\n",
      " -4\n",
      " 8\n",
      " 0\n"
     ]
    },
    {
     "name": "stdout",
     "output_type": "stream",
     "text": [
      "3\n"
     ]
    }
   ],
   "source": [
    "# без break\n",
    "\n",
    "n = int(input())\n",
    "q = 0\n",
    "\n",
    "while n != 0:\n",
    "    if n % 2 == 0:\n",
    "        q += 1\n",
    "    n = int(input())\n",
    "\n",
    "print(q)"
   ]
  },
  {
   "cell_type": "code",
   "execution_count": 29,
   "id": "fd91a23e-94a7-4730-958f-a65c2be48ce4",
   "metadata": {
    "tags": []
   },
   "outputs": [
    {
     "name": "stdin",
     "output_type": "stream",
     "text": [
      " 5\n",
      " -5\n",
      " 4\n",
      " -4\n",
      " 8\n",
      " 0\n"
     ]
    },
    {
     "name": "stdout",
     "output_type": "stream",
     "text": [
      "3\n"
     ]
    }
   ],
   "source": [
    "# с использованием break\n",
    "\n",
    "q = 0\n",
    "\n",
    "while True:    # инициализируем бесконечный цикл\n",
    "    n = int(input())\n",
    "    if n == 0: # условие для выхода из цикла\n",
    "        break\n",
    "    if n % 2 == 0:\n",
    "        q += 1\n",
    "\n",
    "print(q)"
   ]
  },
  {
   "cell_type": "markdown",
   "id": "82469100-64e2-4b68-a728-b43670766957",
   "metadata": {
    "tags": []
   },
   "source": [
    "### Оператор `continue`"
   ]
  },
  {
   "cell_type": "markdown",
   "id": "daf289dd-262c-4b48-8f63-8ca11b6efedc",
   "metadata": {},
   "source": [
    "Оператор `continue` работает по аналогии с `break`, но не прерывает цикл, а просто переходит к следующей итерации,<br>\n",
    "пропуская оставшийся код в теле цикла.\n",
    "\n",
    "`continue` работает и в цикле `for`."
   ]
  },
  {
   "cell_type": "code",
   "execution_count": 41,
   "id": "8215116f-dd18-4b59-813d-bbfca8eef2da",
   "metadata": {
    "tags": []
   },
   "outputs": [
    {
     "name": "stdout",
     "output_type": "stream",
     "text": [
      "2\n",
      "22\n",
      "222\n",
      "4\n",
      "44\n",
      "444\n",
      "5\n",
      "55\n",
      "555\n",
      "7\n",
      "77\n",
      "777\n"
     ]
    }
   ],
   "source": [
    "for i in range(2, 8):\n",
    "    if i % 3 == 0:      # пропускаем все кратные 3 числа\n",
    "        continue\n",
    "                        # если число всё-таки не кратно трём, то рисуем для него лесенку\n",
    "    row = str(i)        # создаём строку из цифры\n",
    "    for _ in range(3):\n",
    "        print(row)      \n",
    "        row += str(i)   # конкатенируем к текущей ступеньке ещё один символ\n",
    "        \n",
    "    # print() # для пропуска строки"
   ]
  },
  {
   "cell_type": "markdown",
   "id": "4151884e-fc7b-44d9-95a3-e66d4c502efa",
   "metadata": {},
   "source": [
    "# Практика"
   ]
  },
  {
   "cell_type": "markdown",
   "id": "0c66c015-fb1c-4939-ab02-0841f4d822f5",
   "metadata": {},
   "source": [
    "## \"Прочитайте\" программу"
   ]
  },
  {
   "cell_type": "code",
   "execution_count": 30,
   "id": "335e2ef7-cf89-4b25-98eb-54a00351b624",
   "metadata": {
    "tags": []
   },
   "outputs": [
    {
     "name": "stdin",
     "output_type": "stream",
     "text": [
      " *\n"
     ]
    },
    {
     "name": "stdout",
     "output_type": "stream",
     "text": [
      "*\n",
      "**\n",
      "***\n",
      "****\n",
      "*****\n",
      "******\n"
     ]
    },
    {
     "name": "stdin",
     "output_type": "stream",
     "text": [
      " x\n"
     ]
    },
    {
     "name": "stdout",
     "output_type": "stream",
     "text": [
      "x\n",
      "xx\n",
      "xxx\n",
      "xxxx\n",
      "xxxxx\n",
      "xxxxxx\n"
     ]
    },
    {
     "name": "stdin",
     "output_type": "stream",
     "text": [
      " 10\n",
      " 20\n",
      " 30\n",
      " STP\n",
      " STOPP\n",
      " STOP\n"
     ]
    }
   ],
   "source": [
    "while True:\n",
    "    symbol = input()\n",
    "    if symbol == 'STOP':\n",
    "        break\n",
    "    elif len(symbol) > 1: # len возвращает число символов в строке\n",
    "        continue\n",
    "\n",
    "    row = symbol\n",
    "    for _ in range(5):\n",
    "        print(row)\n",
    "        row += symbol\n",
    "    print(row)"
   ]
  },
  {
   "cell_type": "code",
   "execution_count": null,
   "id": "2fa11cfd-f12d-4aeb-9338-f3d3c8919ff9",
   "metadata": {},
   "outputs": [],
   "source": []
  }
 ],
 "metadata": {
  "kernelspec": {
   "display_name": "hock",
   "language": "python",
   "name": "hock"
  },
  "language_info": {
   "codemirror_mode": {
    "name": "ipython",
    "version": 3
   },
   "file_extension": ".py",
   "mimetype": "text/x-python",
   "name": "python",
   "nbconvert_exporter": "python",
   "pygments_lexer": "ipython3",
   "version": "3.9.16"
  }
 },
 "nbformat": 4,
 "nbformat_minor": 5
}
