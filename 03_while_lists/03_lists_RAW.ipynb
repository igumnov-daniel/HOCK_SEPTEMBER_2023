{
 "cells": [
  {
   "cell_type": "markdown",
   "id": "a6ce1a93-639b-486c-92de-8175af0b504f",
   "metadata": {},
   "source": [
    "# Списки (lists)"
   ]
  },
  {
   "cell_type": "markdown",
   "id": "7e3e9d25-ca75-4f7b-bba1-7604e73add04",
   "metadata": {},
   "source": [
    "Список -- одна из доступных коллекций в питоне.<br>\n",
    "Список -- набор ссылок на объекты.<br>"
   ]
  },
  {
   "cell_type": "markdown",
   "id": "aa936225-78d0-4841-aa28-6d3eb5b08f95",
   "metadata": {},
   "source": [
    "## Основы работы со списками"
   ]
  },
  {
   "cell_type": "markdown",
   "id": "698f3347-e081-49a0-9e5e-d40db19bc2bd",
   "metadata": {},
   "source": [
    "### Создание"
   ]
  },
  {
   "cell_type": "code",
   "execution_count": 1,
   "id": "b2c8a448-8daf-4ee8-b4da-73de4312551d",
   "metadata": {
    "tags": []
   },
   "outputs": [
    {
     "name": "stdout",
     "output_type": "stream",
     "text": [
      "[] <class 'list'>\n",
      "[] <class 'list'>\n"
     ]
    }
   ],
   "source": [
    "first_list = [] # можно создать так\n",
    "print(first_list, type(first_list))\n",
    "\n",
    "second_list = list() # или так\n",
    "print(second_list, type(second_list))"
   ]
  },
  {
   "cell_type": "markdown",
   "id": "344f9e5d-37da-43f8-b578-667cc8e11a32",
   "metadata": {},
   "source": [
    "Это эквивалентны операции создания пустого списка.<br>\n",
    "Похожим образом можно создать пустую строку или ноль:<br>\n",
    "```\n",
    "n1 = 0\n",
    "n2 = int()\n",
    "\n",
    "s1 = ''\n",
    "s2 = str()\n",
    "```"
   ]
  },
  {
   "cell_type": "markdown",
   "id": "36313018-720f-42c6-9182-2c7b00e8376f",
   "metadata": {},
   "source": [
    "Наверху мы создали два разных списка. Два разных набора ссылок на объекты. Это легко проверить."
   ]
  },
  {
   "cell_type": "code",
   "execution_count": 4,
   "id": "ccdab426-3c20-4ae8-af73-770911596210",
   "metadata": {
    "tags": []
   },
   "outputs": [
    {
     "name": "stdout",
     "output_type": "stream",
     "text": [
      "id первого списка 2063178209408\n",
      "id второго списка 2063188045696\n"
     ]
    }
   ],
   "source": [
    "# напечатаем идентификаторы списков\n",
    "print('id первого списка', id(first_list)) \n",
    "print('id второго списка', id(second_list))"
   ]
  },
  {
   "cell_type": "markdown",
   "id": "4354d072-1b55-4b38-ac23-c13627d9c425",
   "metadata": {},
   "source": [
    "Также можно создать непустой список, в котором уже что-то есть: числа, строки, другие списки или вообще что угодно другое."
   ]
  },
  {
   "cell_type": "code",
   "execution_count": 6,
   "id": "2a2496ef-1587-40d6-9def-5a19f93e46e1",
   "metadata": {
    "tags": []
   },
   "outputs": [
    {
     "name": "stdout",
     "output_type": "stream",
     "text": [
      "[1, 2, 'word'] <class 'list'>\n"
     ]
    }
   ],
   "source": [
    "not_empty_list = [1, 2, 'word']\n",
    "print(not_empty_list, type(not_empty_list))"
   ]
  },
  {
   "cell_type": "markdown",
   "id": "ea543f9c-d0f2-4b60-a4c4-85fc8e79b96c",
   "metadata": {},
   "source": [
    "### Индексация"
   ]
  },
  {
   "cell_type": "markdown",
   "id": "04335fec-c550-43ae-8a87-f7cb3a2e0a38",
   "metadata": {},
   "source": [
    "Каждый элемент в списке имеет свой порядковый номер -- индекс.<br>\n",
    "Индексация начинается с нуля."
   ]
  },
  {
   "cell_type": "code",
   "execution_count": 7,
   "id": "15682571-82c3-4311-9261-20547537fca3",
   "metadata": {
    "tags": []
   },
   "outputs": [],
   "source": [
    "test_list = ['H', 'O', 'C', 'K']\n",
    "# индексы     0    1    2    3"
   ]
  },
  {
   "cell_type": "markdown",
   "id": "3905f77b-6e18-47ab-80a5-245b11bc0088",
   "metadata": {},
   "source": [
    "Чтобы получить элемент из списк, нужно обратиться к нему через квадратыне скобки по индексу."
   ]
  },
  {
   "cell_type": "code",
   "execution_count": 8,
   "id": "c502b341-5518-4c78-af47-cda9992cfdba",
   "metadata": {
    "tags": []
   },
   "outputs": [
    {
     "name": "stdout",
     "output_type": "stream",
     "text": [
      "O\n"
     ]
    }
   ],
   "source": [
    "print(test_list[1])"
   ]
  },
  {
   "cell_type": "markdown",
   "id": "12d9ef84-989e-4281-af7c-364347008682",
   "metadata": {},
   "source": [
    "Если элемента под указанным индексом нет в списке, то мы получим ошибку."
   ]
  },
  {
   "cell_type": "code",
   "execution_count": 9,
   "id": "a491df73-4469-4961-a8a2-e1359a120f82",
   "metadata": {
    "tags": []
   },
   "outputs": [
    {
     "ename": "IndexError",
     "evalue": "list index out of range",
     "output_type": "error",
     "traceback": [
      "\u001b[1;31m---------------------------------------------------------------------------\u001b[0m",
      "\u001b[1;31mIndexError\u001b[0m                                Traceback (most recent call last)",
      "Cell \u001b[1;32mIn [9], line 1\u001b[0m\n\u001b[1;32m----> 1\u001b[0m \u001b[38;5;28mprint\u001b[39m(\u001b[43mtest_list\u001b[49m\u001b[43m[\u001b[49m\u001b[38;5;241;43m4\u001b[39;49m\u001b[43m]\u001b[49m) \u001b[38;5;66;03m# максимальный индекс в этом списке -- 3. \u001b[39;00m\n",
      "\u001b[1;31mIndexError\u001b[0m: list index out of range"
     ]
    }
   ],
   "source": [
    "print(test_list[4]) # максимальный индекс в этом списке -- 3. "
   ]
  },
  {
   "cell_type": "markdown",
   "id": "0376e4e4-351d-412d-a5f2-38eeca44e1b8",
   "metadata": {},
   "source": [
    "Есть и **отрицательная индексация**, которая позволяет обращаться к элементам с конца, а не с начала."
   ]
  },
  {
   "cell_type": "code",
   "execution_count": 10,
   "id": "6741ff14-92d6-4c05-b1c2-2989793d97d2",
   "metadata": {
    "tags": []
   },
   "outputs": [],
   "source": [
    "test_list = ['H', 'O', 'C', 'K']\n",
    "# индексы     0    1    2    3\n",
    "# индексы    -4   -3   -2   -1"
   ]
  },
  {
   "cell_type": "code",
   "execution_count": 12,
   "id": "7cd395a7-25ac-45c9-8526-5e78981d0472",
   "metadata": {
    "tags": []
   },
   "outputs": [
    {
     "name": "stdout",
     "output_type": "stream",
     "text": [
      "K\n",
      "K\n"
     ]
    }
   ],
   "source": [
    "print(test_list[3])  # элемент под индексом 3\n",
    "print(test_list[-1]) # и под идексом 1\n",
    "                     # это одна и та же буква \"К\""
   ]
  },
  {
   "cell_type": "markdown",
   "id": "aeb53e56-03aa-4b2e-b0b6-30f800044756",
   "metadata": {},
   "source": [
    "### Добавление, удаление и изменение элементов в списке"
   ]
  },
  {
   "cell_type": "markdown",
   "id": "a52d66ca-59d7-4d80-abe8-6b179a4176da",
   "metadata": {},
   "source": [
    "#### Добавление"
   ]
  },
  {
   "cell_type": "markdown",
   "id": "020902f0-8333-4cef-93d0-e88c65548cb6",
   "metadata": {},
   "source": [
    "Новое словое -- **метод**.<br>\n",
    "Метод -- функция, определенная специфично для типа данных.<br>\n",
    "\n",
    "Например, метод списков умеет работать только со списками. Метод строк -- со строками.<br>\n",
    "\n",
    "Методы применяются через к точку к соответствующим объектам."
   ]
  },
  {
   "cell_type": "markdown",
   "id": "dd70f29a-7b01-4741-add2-48b82f533ef5",
   "metadata": {},
   "source": [
    "Добавит элемент в список можно с помощью метода `append`."
   ]
  },
  {
   "cell_type": "code",
   "execution_count": 13,
   "id": "e461ab50-f771-48ba-a899-4c4e7b58155d",
   "metadata": {
    "tags": []
   },
   "outputs": [
    {
     "name": "stdout",
     "output_type": "stream",
     "text": [
      "['H', 'O', 'C', 'K']\n",
      "['H', 'O', 'C', 'K', 'Training']\n"
     ]
    }
   ],
   "source": [
    "test_list = ['H', 'O', 'C', 'K']\n",
    "print(test_list)\n",
    "\n",
    "test_list.append('Training')\n",
    "print(test_list)"
   ]
  },
  {
   "cell_type": "markdown",
   "id": "171f7ef6-9889-4951-8ca7-110d60c0f96a",
   "metadata": {},
   "source": [
    "`append` умеет добавлять только 1 элемент в конец списка. Передав ему несколько объектов, мы получим ошибку."
   ]
  },
  {
   "cell_type": "code",
   "execution_count": 15,
   "id": "88ffe4da-28bf-4085-8685-afb7926bb93d",
   "metadata": {
    "tags": []
   },
   "outputs": [
    {
     "ename": "TypeError",
     "evalue": "list.append() takes exactly one argument (8 given)",
     "output_type": "error",
     "traceback": [
      "\u001b[1;31m---------------------------------------------------------------------------\u001b[0m",
      "\u001b[1;31mTypeError\u001b[0m                                 Traceback (most recent call last)",
      "Cell \u001b[1;32mIn [15], line 1\u001b[0m\n\u001b[1;32m----> 1\u001b[0m \u001b[43mtest_list\u001b[49m\u001b[38;5;241;43m.\u001b[39;49m\u001b[43mappend\u001b[49m\u001b[43m(\u001b[49m\u001b[38;5;124;43m'\u001b[39;49m\u001b[38;5;124;43mT\u001b[39;49m\u001b[38;5;124;43m'\u001b[39;49m\u001b[43m,\u001b[49m\u001b[38;5;124;43m'\u001b[39;49m\u001b[38;5;124;43mr\u001b[39;49m\u001b[38;5;124;43m'\u001b[39;49m\u001b[43m,\u001b[49m\u001b[38;5;124;43m'\u001b[39;49m\u001b[38;5;124;43ma\u001b[39;49m\u001b[38;5;124;43m'\u001b[39;49m\u001b[43m,\u001b[49m\u001b[38;5;124;43m'\u001b[39;49m\u001b[38;5;124;43mi\u001b[39;49m\u001b[38;5;124;43m'\u001b[39;49m\u001b[43m,\u001b[49m\u001b[38;5;124;43m'\u001b[39;49m\u001b[38;5;124;43mn\u001b[39;49m\u001b[38;5;124;43m'\u001b[39;49m\u001b[43m,\u001b[49m\u001b[38;5;124;43m'\u001b[39;49m\u001b[38;5;124;43mi\u001b[39;49m\u001b[38;5;124;43m'\u001b[39;49m\u001b[43m,\u001b[49m\u001b[38;5;124;43m'\u001b[39;49m\u001b[38;5;124;43mn\u001b[39;49m\u001b[38;5;124;43m'\u001b[39;49m\u001b[43m,\u001b[49m\u001b[38;5;124;43m'\u001b[39;49m\u001b[38;5;124;43mg\u001b[39;49m\u001b[38;5;124;43m'\u001b[39;49m\u001b[43m)\u001b[49m \u001b[38;5;66;03m# ошибка, так как можно добавить за раз только 1 элемент\u001b[39;00m\n\u001b[0;32m      2\u001b[0m \u001b[38;5;28mprint\u001b[39m(test_list)\n",
      "\u001b[1;31mTypeError\u001b[0m: list.append() takes exactly one argument (8 given)"
     ]
    }
   ],
   "source": [
    "test_list.append('T','r','a','i','n','i','n','g') # ошибка, так как можно добавить за раз только 1 элемент\n",
    "print(test_list)"
   ]
  },
  {
   "cell_type": "markdown",
   "id": "fd0c7898-1daa-4dad-b945-5966e70cca89",
   "metadata": {},
   "source": [
    "Все доступные метод можно найти в официальной документации или на сторонних сайта, например <a href='https://pythonworld.ru/tipy-dannyx-v-python/spiski-list-funkcii-i-metody-spiskov.html'>тут</a>."
   ]
  },
  {
   "cell_type": "markdown",
   "id": "99e1fa55-27fe-49ee-8cce-5c58d36a39e4",
   "metadata": {},
   "source": [
    "#### Удаление элемента из списка"
   ]
  },
  {
   "cell_type": "markdown",
   "id": "fc6b29ae-a0c4-4c4f-ba81-2224120dd072",
   "metadata": {},
   "source": [
    "Есть два способа удалить элемент из списка: оператор `del` и метод `pop`."
   ]
  },
  {
   "cell_type": "code",
   "execution_count": 19,
   "id": "2624bd28-534e-4483-8de3-64eae4d6c9c1",
   "metadata": {
    "tags": []
   },
   "outputs": [],
   "source": [
    "test_list = ['H', 'O', 'C', 'K', 7, 10, 2023]"
   ]
  },
  {
   "cell_type": "code",
   "execution_count": 20,
   "id": "32386c64-5706-46ab-a4ba-35b37645dba3",
   "metadata": {
    "tags": []
   },
   "outputs": [
    {
     "name": "stdout",
     "output_type": "stream",
     "text": [
      "['H', 'O', 'C', 'K', 10, 2023]\n"
     ]
    }
   ],
   "source": [
    "# del\n",
    "del test_list[4]\n",
    "print(test_list) # del умеет удалять вообще всё, что угодно"
   ]
  },
  {
   "cell_type": "markdown",
   "id": "f5a7ebde-15f6-432a-a2eb-9364da92a7f0",
   "metadata": {},
   "source": [
    "`pop` не просто удаляет объект, но возвращает его. То есть мы можем, если нам надо, сохранить удалённых объект в переменную.<br>\n",
    "По-умолчанию `pop` удаляет последний объект, но можно указать индекс для удаления."
   ]
  },
  {
   "cell_type": "code",
   "execution_count": 21,
   "id": "8dec789f-4728-4bfc-8055-cb019f504e42",
   "metadata": {
    "tags": []
   },
   "outputs": [
    {
     "name": "stdout",
     "output_type": "stream",
     "text": [
      "['H', 'O', 'C', 'K', 10] 2023\n"
     ]
    }
   ],
   "source": [
    "deleted_1 = test_list.pop() # удаляем послений\n",
    "print(test_list, deleted_1)"
   ]
  },
  {
   "cell_type": "code",
   "execution_count": 22,
   "id": "414bdc29-4393-4d4e-89f3-44e8bdd3eca7",
   "metadata": {
    "tags": []
   },
   "outputs": [
    {
     "name": "stdout",
     "output_type": "stream",
     "text": [
      "['H', 'C', 'K', 10] O\n"
     ]
    }
   ],
   "source": [
    "deleted_2 = test_list.pop(1) # удаляем элемент под индексом 1\n",
    "print(test_list, deleted_2)"
   ]
  },
  {
   "cell_type": "markdown",
   "id": "b42fb64a-5193-40b2-8c44-7be16d21e403",
   "metadata": {},
   "source": [
    "#### Изменение элемента под индексом"
   ]
  },
  {
   "cell_type": "markdown",
   "id": "d7dfccd9-7bed-4e3e-96db-2192bf8903da",
   "metadata": {},
   "source": [
    "Так как список -- набор ссылок, то легко поменять ссылку с одного объекта на другой."
   ]
  },
  {
   "cell_type": "code",
   "execution_count": 23,
   "id": "51908095-7b5c-4410-a398-af0eda618098",
   "metadata": {
    "tags": []
   },
   "outputs": [
    {
     "name": "stdout",
     "output_type": "stream",
     "text": [
      "['H', 'C', 'K', 10]\n"
     ]
    }
   ],
   "source": [
    "print(test_list)"
   ]
  },
  {
   "cell_type": "code",
   "execution_count": 24,
   "id": "0246e42f-03b6-4450-9a9b-b94625b9797d",
   "metadata": {
    "tags": []
   },
   "outputs": [
    {
     "name": "stdout",
     "output_type": "stream",
     "text": [
      "['H', 'C', 'BLABLABLA', 10]\n"
     ]
    }
   ],
   "source": [
    "test_list[2] = 'BLABLABLA' # поменяем элемент под индексом 2\n",
    "print(test_list)"
   ]
  },
  {
   "cell_type": "code",
   "execution_count": 26,
   "id": "7bfe3544-ef86-45dc-8f0c-bcf3c2b93980",
   "metadata": {
    "tags": []
   },
   "outputs": [
    {
     "name": "stdout",
     "output_type": "stream",
     "text": [
      "['H', 'C', 'BLABLABLA', 'HOCK Training']\n"
     ]
    }
   ],
   "source": [
    "test_list[-1] = 'HOCK Training' # поменяем последний элемент\n",
    "print(test_list)"
   ]
  },
  {
   "cell_type": "markdown",
   "id": "65e6ee4f-3acb-4040-833d-bb23cf860e7c",
   "metadata": {},
   "source": [
    "## Зрим в корень"
   ]
  },
  {
   "cell_type": "markdown",
   "id": "12d2b6da-d09a-4ee8-9248-be908dc7f8b9",
   "metadata": {},
   "source": [
    "Что выведет следующая программа?"
   ]
  },
  {
   "cell_type": "code",
   "execution_count": 27,
   "id": "2e2cc302-3757-4a37-a9e8-760693573dfc",
   "metadata": {
    "tags": []
   },
   "outputs": [],
   "source": [
    "a = []  \n",
    "\n",
    "a.append('a')\n",
    "a.append('b')\n",
    "a.append('c')\n",
    "\n",
    "a.pop()\n",
    "\n",
    "a[-1] = 'X'\n",
    "\n",
    "# print(a) # закоментировал, чтобы случайно не вывести\n"
   ]
  },
  {
   "cell_type": "markdown",
   "id": "c1104c84-7210-411d-8eb3-90d522a1fcce",
   "metadata": {},
   "source": [
    "# Практика 1"
   ]
  },
  {
   "cell_type": "markdown",
   "id": "c4936fdf-4e82-4aa8-b1d0-bff1bd076920",
   "metadata": {},
   "source": [
    "# Итерация списков"
   ]
  },
  {
   "cell_type": "markdown",
   "id": "651ec3c4-7561-451b-b2ea-99f50d4569a8",
   "metadata": {},
   "source": [
    "## По индексам"
   ]
  },
  {
   "cell_type": "code",
   "execution_count": 29,
   "id": "83ea1862-0f45-440a-8f76-17bef389d543",
   "metadata": {
    "tags": []
   },
   "outputs": [
    {
     "name": "stdout",
     "output_type": "stream",
     "text": [
      "['с', 'п', 'и', 'с', 'о', 'к']\n"
     ]
    }
   ],
   "source": [
    "letters = list('список') # функция list итерирует переданный ей объект\n",
    "print(letters)"
   ]
  },
  {
   "cell_type": "code",
   "execution_count": 32,
   "id": "59b436f7-93fa-459b-b0c7-8ed122bedc6a",
   "metadata": {
    "tags": []
   },
   "outputs": [
    {
     "name": "stdout",
     "output_type": "stream",
     "text": [
      "6\n"
     ]
    }
   ],
   "source": [
    "print(len(letters)) # функция len даёт число элементов в списке"
   ]
  },
  {
   "cell_type": "code",
   "execution_count": 33,
   "id": "64e15378-c901-4059-a4f8-d60631d39cda",
   "metadata": {
    "tags": []
   },
   "outputs": [
    {
     "name": "stdout",
     "output_type": "stream",
     "text": [
      "0\n",
      "1\n",
      "2\n",
      "3\n",
      "4\n",
      "5\n"
     ]
    }
   ],
   "source": [
    "N = len(letters) # сохраним в переменную длину списка\n",
    "\n",
    "for i in range(N):\n",
    "    print(i)"
   ]
  },
  {
   "cell_type": "markdown",
   "id": "8726bb97-ecb8-40d5-a9dd-321e1e003c98",
   "metadata": {},
   "source": [
    "О чудо! Получаемый таким образом числа есть не что иное, как индексы списка."
   ]
  },
  {
   "cell_type": "code",
   "execution_count": 36,
   "id": "085c22a1-6f71-4496-8df8-fc85265e6615",
   "metadata": {
    "tags": []
   },
   "outputs": [
    {
     "name": "stdout",
     "output_type": "stream",
     "text": [
      "Индекс 0 буква с\n",
      "Индекс 1 буква п\n",
      "Индекс 2 буква и\n",
      "Индекс 3 буква с\n",
      "Индекс 4 буква о\n",
      "Индекс 5 буква к\n"
     ]
    }
   ],
   "source": [
    "N = len(letters) # сохраним в переменную длину списка\n",
    "\n",
    "for i in range(N):\n",
    "    print('Индекс', i, 'буква', letters[i]) # печатаем индекс и i-й элемент списка"
   ]
  },
  {
   "cell_type": "markdown",
   "id": "0aa46dd2-04a4-4633-b744-f41a4e2da9ce",
   "metadata": {},
   "source": [
    "Так как мы идём по индексам, то мы знаем, где именно находимся (на каком элементе)."
   ]
  },
  {
   "cell_type": "markdown",
   "id": "e755d27e-a8fc-4824-9fbb-4c5d842cf340",
   "metadata": {},
   "source": [
    "Это позволяет нам менять элементы, ведь мы имеет индекс.<br>\n",
    "Например, можем элементы под чётными индексами сделать равными нулю."
   ]
  },
  {
   "cell_type": "code",
   "execution_count": 38,
   "id": "32681071-b64b-42da-bbac-024d49cb4bfe",
   "metadata": {
    "tags": []
   },
   "outputs": [
    {
     "name": "stdin",
     "output_type": "stream",
     "text": [
      " sometext\n"
     ]
    },
    {
     "name": "stdout",
     "output_type": "stream",
     "text": [
      "['s', 'o', 'm', 'e', 't', 'e', 'x', 't']\n",
      "[0, 'o', 0, 'e', 0, 'e', 0, 't']\n"
     ]
    }
   ],
   "source": [
    "word = list(input())       # принимаем слово и превращаем в список\n",
    "print(word)\n",
    "\n",
    "for i in range(len(word)): # итерируем по индексам\n",
    "    if i % 2 == 0:         # если индекс чётный -- меняем элемент в списке на ноль\n",
    "        word[i] = 0        \n",
    "\n",
    "print(word)"
   ]
  },
  {
   "cell_type": "markdown",
   "id": "93823ae5-69d8-4c49-a29a-a71d539f90be",
   "metadata": {},
   "source": [
    "Мы также можем поменять предыдущий или следующий элементы."
   ]
  },
  {
   "cell_type": "markdown",
   "id": "ac51223e-52df-49d3-b530-df47753ace56",
   "metadata": {},
   "source": [
    "Например, если предыдущее число больше текущего, то заменим предыдущее на букву 'Ю'."
   ]
  },
  {
   "cell_type": "code",
   "execution_count": 47,
   "id": "08036285-cafe-4995-8fec-59cf23f82036",
   "metadata": {
    "tags": []
   },
   "outputs": [
    {
     "ename": "TypeError",
     "evalue": "'>' not supported between instances of 'int' and 'str'",
     "output_type": "error",
     "traceback": [
      "\u001b[1;31m---------------------------------------------------------------------------\u001b[0m",
      "\u001b[1;31mTypeError\u001b[0m                                 Traceback (most recent call last)",
      "Cell \u001b[1;32mIn [47], line 6\u001b[0m\n\u001b[0;32m      4\u001b[0m     pred \u001b[38;5;241m=\u001b[39m nums[i\u001b[38;5;241m-\u001b[39m\u001b[38;5;241m1\u001b[39m]\n\u001b[0;32m      5\u001b[0m     current \u001b[38;5;241m=\u001b[39m nums[i]\n\u001b[1;32m----> 6\u001b[0m     \u001b[38;5;28;01mif\u001b[39;00m \u001b[43mpred\u001b[49m\u001b[43m \u001b[49m\u001b[38;5;241;43m>\u001b[39;49m\u001b[43m \u001b[49m\u001b[43mcurrent\u001b[49m:\n\u001b[0;32m      7\u001b[0m         nums[i\u001b[38;5;241m-\u001b[39m\u001b[38;5;241m1\u001b[39m] \u001b[38;5;241m=\u001b[39m \u001b[38;5;124m'\u001b[39m\u001b[38;5;124mЮ\u001b[39m\u001b[38;5;124m'\u001b[39m\n\u001b[0;32m      9\u001b[0m \u001b[38;5;28mprint\u001b[39m(nums)\n",
      "\u001b[1;31mTypeError\u001b[0m: '>' not supported between instances of 'int' and 'str'"
     ]
    }
   ],
   "source": [
    "nums = [10, 5, 8, 7, 15]\n",
    "\n",
    "for i in range(len(nums)):\n",
    "    pred = nums[i-1]\n",
    "    current = nums[i]\n",
    "    if pred > current:\n",
    "        nums[i-1] = 'Ю'\n",
    "\n",
    "print(nums)"
   ]
  },
  {
   "cell_type": "markdown",
   "id": "ac89d9ec-caf3-4b5c-a74a-6ef46425da36",
   "metadata": {},
   "source": [
    "Почему программа не работает?<br>\n",
    "`range` генерирует числа от нуля. На самой первой итерации цикла значение переменной `i` -- ноль.<br>\n",
    "Получается, что `pred = nums[-1]`. То есть в переменную `pred` было записано последнее число (15).<br>\n",
    "15 -- предыдущее число для 10. 15 больше. А значит оно будет изменено на букву \"Ю\".<br>\n",
    "Дальше цикл работает нормально, пока `i` не станет равно 4. Тогда мы будем сравнивать число 8 и букву \"Ю\". А сравнивать число и строку нельзя. Вот и вся поломка.<br>\n",
    "\n",
    "Наверное, мы не хотели, чтобы программа вела себя так (не хотим, чтобы 10 сравнивалась с 15).<br>\n",
    "Поэтому начнём итерировать не от нуля, а от одного."
   ]
  },
  {
   "cell_type": "code",
   "execution_count": 49,
   "id": "9be6a23e-c41e-48b0-843f-81ce92e3f3c0",
   "metadata": {
    "tags": []
   },
   "outputs": [
    {
     "name": "stdout",
     "output_type": "stream",
     "text": [
      "['Ю', 5, 'Ю', 7, 9]\n"
     ]
    }
   ],
   "source": [
    "nums = [10, 5, 8, 7, 9]\n",
    "\n",
    "for i in range(1, len(nums)):\n",
    "    pred = nums[i-1]\n",
    "    current = nums[i]\n",
    "    if pred > current:\n",
    "        nums[i-1] = 'Ю'\n",
    "\n",
    "print(nums)"
   ]
  },
  {
   "cell_type": "markdown",
   "id": "1ec56fd5-47eb-489a-b2ee-b5dd6f549648",
   "metadata": {},
   "source": [
    "## по элементам (foreach)"
   ]
  },
  {
   "cell_type": "markdown",
   "id": "fbcbc24a-447c-4835-aa44-fcdfc0341bdc",
   "metadata": {},
   "source": [
    "Если нам не нужно иметь возможность менять что-то в списке, а надо просто пройтиь по элементам, то синтаксис ещё проще."
   ]
  },
  {
   "cell_type": "code",
   "execution_count": 50,
   "id": "ec35ebf0-5075-4522-ad15-285ef73a2913",
   "metadata": {
    "tags": []
   },
   "outputs": [
    {
     "name": "stdout",
     "output_type": "stream",
     "text": [
      "t\n",
      "e\n",
      "x\n",
      "t\n"
     ]
    }
   ],
   "source": [
    "word = list('text')\n",
    "for i in word:\n",
    "    print(i)"
   ]
  },
  {
   "cell_type": "markdown",
   "id": "ee5f9c24-1da8-494d-9121-4ccb765656b6",
   "metadata": {},
   "source": [
    "Цикл сверху эквивалентен циклу снизу."
   ]
  },
  {
   "cell_type": "code",
   "execution_count": 51,
   "id": "b5298709-8381-4232-b1c7-9fc7c0635c35",
   "metadata": {
    "tags": []
   },
   "outputs": [
    {
     "name": "stdout",
     "output_type": "stream",
     "text": [
      "t\n",
      "e\n",
      "x\n",
      "t\n"
     ]
    }
   ],
   "source": [
    "word = list('text')\n",
    "for i in range(len(word)):\n",
    "    print(word[i])"
   ]
  },
  {
   "cell_type": "markdown",
   "id": "7b2bbdb8-eea2-4c7a-afc6-17fd449cd44f",
   "metadata": {},
   "source": [
    "## Как делать красиво"
   ]
  },
  {
   "cell_type": "markdown",
   "id": "ab804d9a-92b1-477f-9bbb-afabf4b5d597",
   "metadata": {},
   "source": [
    "Самый оптималньый способ итерировать список, если нам нужны и элементы -- воспользоваться `enumerte` (и другие итерируемые объекты так тоже лучше итерировать.)"
   ]
  },
  {
   "cell_type": "code",
   "execution_count": 53,
   "id": "824392fa-f13b-47c3-b84e-8d1db1a729be",
   "metadata": {
    "tags": []
   },
   "outputs": [
    {
     "name": "stdout",
     "output_type": "stream",
     "text": [
      "(0, 10)\n",
      "(1, 5)\n",
      "(2, 'X')\n",
      "(3, 7)\n",
      "(4, 'Y')\n"
     ]
    }
   ],
   "source": [
    "spis = [10, 5, 'X', 7, 'Y']\n",
    "\n",
    "for pair in enumerate(spis):\n",
    "    print(pair)"
   ]
  },
  {
   "cell_type": "markdown",
   "id": "663c327c-a3fd-4352-b946-b520b7273488",
   "metadata": {},
   "source": [
    "На каждой итерации нам возвращается кортеж (tuple) -- неизменяемый аналог списка.<br>"
   ]
  },
  {
   "cell_type": "code",
   "execution_count": 54,
   "id": "ef5b71f5-fefb-431e-b0e4-088f79e87300",
   "metadata": {
    "tags": []
   },
   "outputs": [
    {
     "name": "stdout",
     "output_type": "stream",
     "text": [
      "1 2\n"
     ]
    }
   ],
   "source": [
    "a, b = [1, 2] # множественное присваивание\n",
    "print(a, b)"
   ]
  },
  {
   "cell_type": "code",
   "execution_count": 55,
   "id": "2023527c-3ab0-403b-bb8d-6c7a14018543",
   "metadata": {
    "tags": []
   },
   "outputs": [
    {
     "ename": "ValueError",
     "evalue": "too many values to unpack (expected 2)",
     "output_type": "error",
     "traceback": [
      "\u001b[1;31m---------------------------------------------------------------------------\u001b[0m",
      "\u001b[1;31mValueError\u001b[0m                                Traceback (most recent call last)",
      "Cell \u001b[1;32mIn [55], line 1\u001b[0m\n\u001b[1;32m----> 1\u001b[0m a, b \u001b[38;5;241m=\u001b[39m [\u001b[38;5;241m1\u001b[39m, \u001b[38;5;241m2\u001b[39m, \u001b[38;5;241m3\u001b[39m] \u001b[38;5;66;03m# так получим ошибку\u001b[39;00m\n",
      "\u001b[1;31mValueError\u001b[0m: too many values to unpack (expected 2)"
     ]
    }
   ],
   "source": [
    "a, b = [1, 2, 3] # так получим ошибку"
   ]
  },
  {
   "cell_type": "code",
   "execution_count": 56,
   "id": "aa3acf14-f74e-461e-bf15-3245cc362952",
   "metadata": {
    "tags": []
   },
   "outputs": [
    {
     "ename": "ValueError",
     "evalue": "not enough values to unpack (expected 3, got 2)",
     "output_type": "error",
     "traceback": [
      "\u001b[1;31m---------------------------------------------------------------------------\u001b[0m",
      "\u001b[1;31mValueError\u001b[0m                                Traceback (most recent call last)",
      "Cell \u001b[1;32mIn [56], line 1\u001b[0m\n\u001b[1;32m----> 1\u001b[0m a, b, c \u001b[38;5;241m=\u001b[39m [\u001b[38;5;241m1\u001b[39m, \u001b[38;5;241m2\u001b[39m] \u001b[38;5;66;03m# так получим ошибку\u001b[39;00m\n",
      "\u001b[1;31mValueError\u001b[0m: not enough values to unpack (expected 3, got 2)"
     ]
    }
   ],
   "source": [
    "a, b, c = [1, 2] # так получим ошибку"
   ]
  },
  {
   "cell_type": "markdown",
   "id": "ac8f982d-3650-49db-a777-ba8898b6c8a7",
   "metadata": {},
   "source": [
    "Если циклу дать две локальные переменные, то в первую запишется первый элемент кортежа, который возвращает `enumerate`, а во вторую переменную запишется непосредственно элемент списка."
   ]
  },
  {
   "cell_type": "code",
   "execution_count": 57,
   "id": "7a3e63eb-d5e9-474a-b7a5-ca240cfbf93a",
   "metadata": {
    "tags": []
   },
   "outputs": [
    {
     "name": "stdout",
     "output_type": "stream",
     "text": [
      "0 10\n",
      "1 5\n",
      "2 X\n",
      "3 7\n",
      "4 Y\n"
     ]
    }
   ],
   "source": [
    "spis = [10, 5, 'X', 7, 'Y']\n",
    "\n",
    "for i, elem in enumerate(spis): \n",
    "    print(i, elem)"
   ]
  },
  {
   "cell_type": "markdown",
   "id": "be9220e7-9b45-46aa-8f0e-40b73a0ed8b4",
   "metadata": {},
   "source": [
    "## Замечание про задачи из практики\n",
    "В некоторых задачах я буду просить создать **новый** список, а в каких-то, наоборот, не создавать новый, а вносить изменения в существующий. Решение будет проходить, даже если вы создаете новый список, хотя в задаче требовалось изменять существующий (создаваемый в начале).<br>\n",
    "НО это пройдет только в контестах этого урока. В следующих контестах это будет критически важно, если в условии написано изменять существующий список или возвращать новый, модифицированных."
   ]
  },
  {
   "cell_type": "markdown",
   "id": "a18c3e7b-c276-43af-a29e-60ce30ad00b4",
   "metadata": {},
   "source": [
    "# Практика 2"
   ]
  },
  {
   "cell_type": "code",
   "execution_count": null,
   "id": "f24586f7-251f-4c2d-9070-55288ad5e20e",
   "metadata": {},
   "outputs": [],
   "source": []
  }
 ],
 "metadata": {
  "kernelspec": {
   "display_name": "hock",
   "language": "python",
   "name": "hock"
  },
  "language_info": {
   "codemirror_mode": {
    "name": "ipython",
    "version": 3
   },
   "file_extension": ".py",
   "mimetype": "text/x-python",
   "name": "python",
   "nbconvert_exporter": "python",
   "pygments_lexer": "ipython3",
   "version": "3.9.16"
  }
 },
 "nbformat": 4,
 "nbformat_minor": 5
}
