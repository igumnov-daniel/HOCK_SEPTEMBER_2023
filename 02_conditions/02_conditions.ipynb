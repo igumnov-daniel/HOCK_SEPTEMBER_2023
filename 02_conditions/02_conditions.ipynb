{
 "cells": [
  {
   "cell_type": "markdown",
   "id": "2aff8120-cca5-4259-90a9-5f45f97a11bf",
   "metadata": {},
   "source": [
    "# Повторение"
   ]
  },
  {
   "cell_type": "markdown",
   "id": "4f91e2bd-74fa-40b1-b89f-dc3a1e14c1c3",
   "metadata": {},
   "source": [
    "## Знакомые нам типы данных"
   ]
  },
  {
   "cell_type": "markdown",
   "id": "2edd178d-9b49-42e5-9031-b6f2d7d7cea9",
   "metadata": {},
   "source": [
    "Создаим по переменной на известный нам тип."
   ]
  },
  {
   "cell_type": "code",
   "execution_count": 1,
   "id": "774cfb56-0b25-450e-826b-0653c7a770e5",
   "metadata": {
    "tags": []
   },
   "outputs": [],
   "source": [
    "item = 'iPhone'  # str \n",
    "quantity = 10    # int\n",
    "price = 999.9    # float\n",
    "available = True # bool"
   ]
  },
  {
   "cell_type": "markdown",
   "id": "10aa7c47-440a-4fb8-b2a5-42c1484f41d7",
   "metadata": {},
   "source": [
    "Функция `print` умеет принимать несколько аргументов через запятую.<br>\n",
    "По-умолчанию она напечатает их через пробел."
   ]
  },
  {
   "cell_type": "code",
   "execution_count": 3,
   "id": "4a4206b1-9ad0-456b-8ac0-c2f28dd4aacf",
   "metadata": {
    "tags": []
   },
   "outputs": [
    {
     "name": "stdout",
     "output_type": "stream",
     "text": [
      "iPhone <class 'str'>\n",
      "10 <class 'int'>\n",
      "999.9 <class 'float'>\n",
      "True <class 'bool'>\n"
     ]
    }
   ],
   "source": [
    "print(item, type(item))\n",
    "print(quantity, type(quantity))\n",
    "print(price, type(price))\n",
    "print(available, type(available))"
   ]
  },
  {
   "cell_type": "markdown",
   "id": "8664a49c-e042-4d71-b843-de262b2f6090",
   "metadata": {},
   "source": [
    "### Операции с числами"
   ]
  },
  {
   "cell_type": "code",
   "execution_count": 8,
   "id": "55e246f5-526a-49a2-9e7b-c3743cdc6278",
   "metadata": {
    "tags": []
   },
   "outputs": [],
   "source": [
    "a = 10\n",
    "b = 4"
   ]
  },
  {
   "cell_type": "code",
   "execution_count": 7,
   "id": "0452876d-bfab-45bd-bd46-00e235a03365",
   "metadata": {
    "tags": []
   },
   "outputs": [
    {
     "name": "stdout",
     "output_type": "stream",
     "text": [
      "Введённые числа: 10 4\n",
      "Сложение: 14\n",
      "Вычитание: 6\n",
      "Умножение: 40\n",
      "Деление: 2.5\n",
      "Возведение в тепень: 10000\n",
      "Целочисленное деление: 2\n",
      "Остаток от деления: 2\n"
     ]
    }
   ],
   "source": [
    "num = 10\n",
    "num2 = 4\n",
    "print('Введённые числа:', num, num2)\n",
    "print('Сложение:', num + num2)\n",
    "print('Вычитание:', num - num2) \n",
    "print('Умножение:', num * num2) \n",
    "print('Деление:', num / num2)  \n",
    "print('Возведение в тепень:', num ** num2) \n",
    "print('Целочисленное деление:', num // num2) \n",
    "print('Остаток от деления:', num % num2) "
   ]
  },
  {
   "cell_type": "markdown",
   "id": "5e3b67f0-3f95-4289-a15c-e715c67fc165",
   "metadata": {},
   "source": [
    "### Операции со строками"
   ]
  },
  {
   "cell_type": "markdown",
   "id": "bf1c271f-e60a-413d-969b-778f87e6e37b",
   "metadata": {},
   "source": [
    "*со строками можно делать намного больше, чем с числами, но об мы поговорим через 2 занятия"
   ]
  },
  {
   "cell_type": "code",
   "execution_count": 9,
   "id": "be399d1d-5c7a-40ad-9aa4-67fd554f2926",
   "metadata": {
    "tags": []
   },
   "outputs": [
    {
     "name": "stdout",
     "output_type": "stream",
     "text": [
      "я люблю бананы!\n"
     ]
    }
   ],
   "source": [
    "# пока нас интересует только конкатенация\n",
    "s1 = 'я'\n",
    "s2 = 'люблю'\n",
    "s3 = 'бананы'\n",
    "res = s1 + ' ' + s2 + ' ' + s3 + '!' # добавляю в конкатенцию пробелы\n",
    "print(res)"
   ]
  },
  {
   "cell_type": "code",
   "execution_count": 13,
   "id": "ac1ecfa5-d667-48b3-b665-adb1341c3c9f",
   "metadata": {
    "tags": []
   },
   "outputs": [
    {
     "name": "stdout",
     "output_type": "stream",
     "text": [
      "буль-буль буль-буль буль-буль буль-буль буль-буль \n"
     ]
    }
   ],
   "source": [
    "# еще можно умножать строку на челое число\n",
    "text = 'буль-буль '\n",
    "print(text * 5)"
   ]
  },
  {
   "cell_type": "markdown",
   "id": "0c2784a7-8397-4e66-92a8-b27d9421ae9d",
   "metadata": {},
   "source": [
    "### Конвертирование"
   ]
  },
  {
   "cell_type": "markdown",
   "id": "ea0d7f78-789c-42e3-91bb-2d7bbe9df91a",
   "metadata": {},
   "source": [
    "Объекты можно конвертировать из одного типа в другой. Например, для строки \"100\" нам будет доступен один функционал, а для числа 100 -- другой."
   ]
  },
  {
   "cell_type": "code",
   "execution_count": 14,
   "id": "e76109b3-0124-4c60-a8bb-1208d0861924",
   "metadata": {
    "tags": []
   },
   "outputs": [
    {
     "name": "stdout",
     "output_type": "stream",
     "text": [
      "<class 'str'> 100100100100100\n",
      "<class 'int'> 500\n"
     ]
    }
   ],
   "source": [
    "num = '100'\n",
    "print(type(num), num * 5)\n",
    "num = int(num)\n",
    "print(type(num), num * 5)"
   ]
  },
  {
   "cell_type": "markdown",
   "id": "227b0520-fd8f-4fec-bcae-bc2cb70b68e2",
   "metadata": {},
   "source": [
    "### input"
   ]
  },
  {
   "cell_type": "markdown",
   "id": "9b56d61b-1608-475b-9cc5-cdc01c0764d5",
   "metadata": {},
   "source": [
    "Функция `input` всегда возвращает строку. Если мы знаем, что будет введено число, то значение надо сконвертировать в соответствующий тип.<br>\n",
    "*функция `input` в качестве аргумента может принимать приветственное сообщение, которое будет выведено перед тем, как запросить от пользователя ввод"
   ]
  },
  {
   "cell_type": "markdown",
   "id": "cae4d81f-03ea-4434-b37c-5b20d85b4917",
   "metadata": {},
   "source": [
    "#### возможные ошибки при конвертации"
   ]
  },
  {
   "cell_type": "code",
   "execution_count": 24,
   "id": "919a6671-691f-4280-a57e-8e1f6c034de9",
   "metadata": {
    "tags": []
   },
   "outputs": [
    {
     "name": "stdin",
     "output_type": "stream",
     "text": [
      "Сколько нынче стоит бутылка жигулёвского: 109\n",
      "Сколько у вас денег: 500\n"
     ]
    },
    {
     "ename": "TypeError",
     "evalue": "unsupported operand type(s) for //: 'str' and 'str'",
     "output_type": "error",
     "traceback": [
      "\u001b[1;31m---------------------------------------------------------------------------\u001b[0m",
      "\u001b[1;31mTypeError\u001b[0m                                 Traceback (most recent call last)",
      "Cell \u001b[1;32mIn [24], line 3\u001b[0m\n\u001b[0;32m      1\u001b[0m price \u001b[38;5;241m=\u001b[39m \u001b[38;5;28minput\u001b[39m(\u001b[38;5;124m\"\u001b[39m\u001b[38;5;124mСколько нынче стоит бутылка жигулёвского:\u001b[39m\u001b[38;5;124m\"\u001b[39m)\n\u001b[0;32m      2\u001b[0m money \u001b[38;5;241m=\u001b[39m \u001b[38;5;28minput\u001b[39m(\u001b[38;5;124m\"\u001b[39m\u001b[38;5;124mСколько у вас денег:\u001b[39m\u001b[38;5;124m\"\u001b[39m)\n\u001b[1;32m----> 3\u001b[0m res \u001b[38;5;241m=\u001b[39m \u001b[43mmoney\u001b[49m\u001b[43m \u001b[49m\u001b[38;5;241;43m/\u001b[39;49m\u001b[38;5;241;43m/\u001b[39;49m\u001b[43m \u001b[49m\u001b[43mprice\u001b[49m \u001b[38;5;66;03m# ожидаем ошибку, так как делим строку на строку\u001b[39;00m\n\u001b[0;32m      4\u001b[0m \u001b[38;5;28mprint\u001b[39m(\u001b[38;5;124m'\u001b[39m\u001b[38;5;124mВы можете приобрести следующее число бутылок:\u001b[39m\u001b[38;5;124m'\u001b[39m, res)\n",
      "\u001b[1;31mTypeError\u001b[0m: unsupported operand type(s) for //: 'str' and 'str'"
     ]
    }
   ],
   "source": [
    "price = input(\"Сколько нынче стоит бутылка жигулёвского:\")\n",
    "money = input(\"Сколько у вас денег:\")\n",
    "res = money // price # ожидаем ошибку, так как делим строку на строку\n",
    "print('Вы можете приобрести следующее число бутылок:', res)"
   ]
  },
  {
   "cell_type": "code",
   "execution_count": 25,
   "id": "70745d8a-a79f-481f-85ee-56fed407218c",
   "metadata": {
    "tags": []
   },
   "outputs": [
    {
     "name": "stdin",
     "output_type": "stream",
     "text": [
      "Сколько нынче стоит бутылка жигулёвского: 109\n",
      "Сколько у вас денег: 500\n"
     ]
    },
    {
     "name": "stdout",
     "output_type": "stream",
     "text": [
      "Вы можете приобрести следующее число бутылок: 4\n"
     ]
    }
   ],
   "source": [
    "price = int(input(\"Сколько нынче стоит бутылка жигулёвского:\")) # добавили конвертацию\n",
    "money = int(input(\"Сколько у вас денег:\")) # добавили конвертацию\n",
    "res = money // price # ожидаем ошибку, так как делим строку на строку\n",
    "print('Вы можете приобрести следующее число бутылок:', res)"
   ]
  },
  {
   "cell_type": "markdown",
   "id": "62deee3a-6a03-4b2d-a403-df759c3a158e",
   "metadata": {},
   "source": [
    "А что если стоимость -- нецелое число? Да и вдруг у нас есть копейки.<br>\n",
    "Тогда код упадёт ещё при попытке сконвертировать \"109.5\" в целое число. Такую строку можно конвертировать только во `float`.<br>\n",
    "*Из `float` можно без проблем конвертировать в `int`, будет отбрасываться дробная часть."
   ]
  },
  {
   "cell_type": "code",
   "execution_count": 22,
   "id": "199f1302-4ece-4b06-9567-28e345d481a5",
   "metadata": {
    "tags": []
   },
   "outputs": [
    {
     "name": "stdin",
     "output_type": "stream",
     "text": [
      "Сколько нынче стоит бутылка жигулёвского: 109.5\n"
     ]
    },
    {
     "ename": "ValueError",
     "evalue": "invalid literal for int() with base 10: '109.5'",
     "output_type": "error",
     "traceback": [
      "\u001b[1;31m---------------------------------------------------------------------------\u001b[0m",
      "\u001b[1;31mValueError\u001b[0m                                Traceback (most recent call last)",
      "Cell \u001b[1;32mIn [22], line 1\u001b[0m\n\u001b[1;32m----> 1\u001b[0m data \u001b[38;5;241m=\u001b[39m \u001b[38;5;28;43mint\u001b[39;49m\u001b[43m(\u001b[49m\u001b[38;5;28;43minput\u001b[39;49m\u001b[43m(\u001b[49m\u001b[38;5;124;43m\"\u001b[39;49m\u001b[38;5;124;43mСколько нынче стоит бутылка жигулёвского:\u001b[39;49m\u001b[38;5;124;43m\"\u001b[39;49m\u001b[43m)\u001b[49m\u001b[43m)\u001b[49m \u001b[38;5;66;03m# добавили конвертацию\u001b[39;00m\n\u001b[0;32m      2\u001b[0m number \u001b[38;5;241m=\u001b[39m \u001b[38;5;28mint\u001b[39m(\u001b[38;5;28minput\u001b[39m(\u001b[38;5;124m\"\u001b[39m\u001b[38;5;124mСколько у вас денег:\u001b[39m\u001b[38;5;124m\"\u001b[39m)) \u001b[38;5;66;03m# добавили конвертацию\u001b[39;00m\n\u001b[0;32m      3\u001b[0m res \u001b[38;5;241m=\u001b[39m data \u001b[38;5;241m/\u001b[39m\u001b[38;5;241m/\u001b[39m number \u001b[38;5;66;03m# ожидаем ошибку, так как делим строку на строку\u001b[39;00m\n",
      "\u001b[1;31mValueError\u001b[0m: invalid literal for int() with base 10: '109.5'"
     ]
    }
   ],
   "source": [
    "price = int(input(\"Сколько нынче стоит бутылка жигулёвского:\")) # добавили конвертацию\n",
    "money = int(input(\"Сколько у вас денег:\")) # добавили конвертацию\n",
    "res = number // price # ожидаем ошибку, так как делим строку на строку\n",
    "print('Вы можете приобрести следующее число бутылок:', res)"
   ]
  },
  {
   "cell_type": "code",
   "execution_count": 26,
   "id": "32ca58e0-073e-4a8a-ad78-f93b7f7ffa10",
   "metadata": {
    "tags": []
   },
   "outputs": [
    {
     "name": "stdin",
     "output_type": "stream",
     "text": [
      "Сколько нынче стоит бутылка жигулёвского: 109.5\n",
      "Сколько у вас денег: 500\n"
     ]
    },
    {
     "name": "stdout",
     "output_type": "stream",
     "text": [
      "Вы можете приобрести следующее число бутылок: 4.0\n"
     ]
    }
   ],
   "source": [
    "price = float(input(\"Сколько нынче стоит бутылка жигулёвского:\")) # правильная конвертация\n",
    "money = float(input(\"Сколько у вас денег:\")) # правильная конвертация\n",
    "res = money // price # ожидаем ошибку, так как делим строку на строку\n",
    "print('Вы можете приобрести следующее число бутылок:', res)"
   ]
  },
  {
   "cell_type": "markdown",
   "id": "3a83c0b6-7585-4302-aa5b-1a9a6f50b79f",
   "metadata": {},
   "source": [
    "#### отношение к пробельным символам"
   ]
  },
  {
   "cell_type": "markdown",
   "id": "08a4e70f-d3b3-487b-9df7-4fa283a48a33",
   "metadata": {},
   "source": [
    "При конвертировании строки в число python игноирурет любые пробельные символы -- пробелы, табы, переносы строк."
   ]
  },
  {
   "cell_type": "code",
   "execution_count": 33,
   "id": "c98bc6ce-5ae6-443c-9678-d009f0e59ebf",
   "metadata": {
    "tags": []
   },
   "outputs": [
    {
     "name": "stdout",
     "output_type": "stream",
     "text": [
      "   100    \n",
      "100\n"
     ]
    }
   ],
   "source": [
    "data = '   100    '\n",
    "print(data)      # строка с мусором\n",
    "print(int(data)) # число без мусора"
   ]
  },
  {
   "cell_type": "code",
   "execution_count": 36,
   "id": "68ff6089-5bb2-44ad-9bc1-eb8ddcae2458",
   "metadata": {
    "tags": []
   },
   "outputs": [
    {
     "name": "stdout",
     "output_type": "stream",
     "text": [
      "\n",
      "\n",
      "       100    \n",
      "100\n"
     ]
    }
   ],
   "source": [
    "data = '\\n\\n       100    ' # \\n -- это спец.символ переноса строки\n",
    "print(data)      # строка с мусором\n",
    "print(int(data)) # число без мусора"
   ]
  },
  {
   "cell_type": "markdown",
   "id": "1ecce0f6-af40-4fdf-a344-e3dc6f9d88bf",
   "metadata": {},
   "source": [
    "# ЗАДАЧА НА ПОВТОРЕНИЕ (№1)"
   ]
  },
  {
   "cell_type": "markdown",
   "id": "c80f10df-d4ae-4927-b99c-af3afe184e94",
   "metadata": {},
   "source": [
    "# Условия"
   ]
  },
  {
   "cell_type": "markdown",
   "id": "6b4a7c5d-1fc5-495d-bf99-4c510fb0249d",
   "metadata": {},
   "source": [
    "## Булевой тип данных | bool"
   ]
  },
  {
   "cell_type": "code",
   "execution_count": 37,
   "id": "9b71c321-b607-44d7-af16-f94aff29f259",
   "metadata": {
    "tags": []
   },
   "outputs": [
    {
     "name": "stdout",
     "output_type": "stream",
     "text": [
      "Значение: True тип: <class 'bool'>\n",
      "Значение: False тип: <class 'bool'>\n"
     ]
    }
   ],
   "source": [
    "var = True\n",
    "var2 = False\n",
    "print('Значение:', var, 'тип:', type(var))\n",
    "print('Значение:', var2, 'тип:', type(var2))"
   ]
  },
  {
   "cell_type": "markdown",
   "id": "b113e33f-c633-496d-b586-fd072512c455",
   "metadata": {},
   "source": [
    "### Конвертирование в bool "
   ]
  },
  {
   "cell_type": "code",
   "execution_count": 39,
   "id": "9f45aa73-2a03-4ea5-86bd-fd6fa7c328e4",
   "metadata": {
    "tags": []
   },
   "outputs": [
    {
     "name": "stdout",
     "output_type": "stream",
     "text": [
      "True\n",
      "<class 'bool'>\n"
     ]
    }
   ],
   "source": [
    "data = 'True'\n",
    "data_bool = bool(data)\n",
    "\n",
    "print(data_bool)\n",
    "print(type(data_bool))"
   ]
  },
  {
   "cell_type": "markdown",
   "id": "fd9aa2c8-21c8-4c17-9d18-0b7973044a98",
   "metadata": {},
   "source": [
    "А теперь фокус...Поменяем изначальную строку."
   ]
  },
  {
   "cell_type": "code",
   "execution_count": 41,
   "id": "e28b429a-1778-4d8e-b780-77f98f09d96e",
   "metadata": {
    "tags": []
   },
   "outputs": [
    {
     "name": "stdout",
     "output_type": "stream",
     "text": [
      "True\n",
      "<class 'bool'>\n"
     ]
    }
   ],
   "source": [
    "data = 'False'\n",
    "data_bool = bool(data)\n",
    "\n",
    "print(data_bool)\n",
    "print(type(data_bool))"
   ]
  },
  {
   "cell_type": "markdown",
   "id": "97bb9d3b-3e54-47b4-83cc-316b9053f40a",
   "metadata": {},
   "source": [
    "Результат всё равно `True`. Как так?"
   ]
  },
  {
   "cell_type": "markdown",
   "id": "7c49983e-e976-4f00-94c1-43190605a5ca",
   "metadata": {
    "jp-MarkdownHeadingCollapsed": true,
    "tags": []
   },
   "source": [
    "#### Какая единственная строка является False?"
   ]
  },
  {
   "cell_type": "code",
   "execution_count": 42,
   "id": "2e2725fa-039e-4c3c-ac44-f6e8c6952aee",
   "metadata": {
    "tags": []
   },
   "outputs": [
    {
     "name": "stdout",
     "output_type": "stream",
     "text": [
      "True\n"
     ]
    }
   ],
   "source": [
    "s = ' '\n",
    "print(bool(s))"
   ]
  },
  {
   "cell_type": "code",
   "execution_count": 43,
   "id": "7c60d618-9110-4902-8418-ba20c92d5abb",
   "metadata": {
    "tags": []
   },
   "outputs": [
    {
     "name": "stdout",
     "output_type": "stream",
     "text": [
      "False\n"
     ]
    }
   ],
   "source": [
    "s = ''\n",
    "print(bool(s))"
   ]
  },
  {
   "cell_type": "markdown",
   "id": "a6f3c6a4-62a6-4c10-986c-204772e811f5",
   "metadata": {
    "jp-MarkdownHeadingCollapsed": true,
    "tags": []
   },
   "source": [
    "#### Какое единственное число является False?"
   ]
  },
  {
   "cell_type": "code",
   "execution_count": 44,
   "id": "ac07cb52-c82b-49bf-b8a8-b155b7761f16",
   "metadata": {
    "tags": []
   },
   "outputs": [
    {
     "name": "stdout",
     "output_type": "stream",
     "text": [
      "True\n"
     ]
    }
   ],
   "source": [
    "s = '0'\n",
    "print(bool(s))"
   ]
  },
  {
   "cell_type": "code",
   "execution_count": 45,
   "id": "784c5cb2-a85a-4a8c-a661-59447052c913",
   "metadata": {
    "tags": []
   },
   "outputs": [
    {
     "name": "stdout",
     "output_type": "stream",
     "text": [
      "False\n"
     ]
    }
   ],
   "source": [
    "s = 0\n",
    "print(bool(s))"
   ]
  },
  {
   "cell_type": "code",
   "execution_count": 46,
   "id": "7209659b-6986-4446-af0b-7267dec6b071",
   "metadata": {
    "tags": []
   },
   "outputs": [
    {
     "name": "stdout",
     "output_type": "stream",
     "text": [
      "True\n"
     ]
    }
   ],
   "source": [
    "s = -1\n",
    "print(bool(s))"
   ]
  },
  {
   "cell_type": "markdown",
   "id": "2fa1b3b3-02d4-4082-98a2-7a87d8123447",
   "metadata": {},
   "source": [
    "## Логические (булевые) выражения"
   ]
  },
  {
   "cell_type": "markdown",
   "id": "d53b2c34-6aaa-4fd1-b436-5865b103105a",
   "metadata": {},
   "source": [
    "### Булевые выражения над числами"
   ]
  },
  {
   "cell_type": "markdown",
   "id": "e6eb3c69-eb73-410a-a72d-e0731a97fdb4",
   "metadata": {},
   "source": [
    "Доступные операции сравнения:\n",
    "* `>` &nbsp; # строго больше\n",
    "* `>=` # больше или равно\n",
    "* `<` &nbsp;  # строго меньше\n",
    "* `<=` # меньше или равно\n",
    "* `==` # проверка равенства\n",
    "* `!=` # проверка неравенства"
   ]
  },
  {
   "cell_type": "code",
   "execution_count": 47,
   "id": "612dcd12-e8f4-4c9c-8df0-5b66d5e6b2ca",
   "metadata": {
    "tags": []
   },
   "outputs": [],
   "source": [
    "num1 = 30\n",
    "num2 = 9"
   ]
  },
  {
   "cell_type": "code",
   "execution_count": 48,
   "id": "4892b483-101a-4d75-9b7f-dd4d64d43ba8",
   "metadata": {
    "tags": []
   },
   "outputs": [
    {
     "name": "stdout",
     "output_type": "stream",
     "text": [
      "False\n",
      "<class 'bool'>\n"
     ]
    }
   ],
   "source": [
    "res = num2 > num1\n",
    "print(res)\n",
    "print(type(res))"
   ]
  },
  {
   "cell_type": "code",
   "execution_count": 52,
   "id": "2df6119f-e62c-49c0-bf3d-08ff515231b0",
   "metadata": {
    "tags": []
   },
   "outputs": [
    {
     "name": "stdout",
     "output_type": "stream",
     "text": [
      "Сравним второе число 9 с первым числом 30\n",
      "Больше False\n",
      "Больше или равно False\n",
      "Меньше True\n",
      "Меньше или равно True\n",
      "Равны False\n",
      "Не равны True\n"
     ]
    }
   ],
   "source": [
    "print('Сравним второе число', num2, 'с первым числом', num1)\n",
    "print('Больше', num2 > num1)\n",
    "print('Больше или равно', num2 >= num1)\n",
    "print('Меньше', num2 < num1)\n",
    "print('Меньше или равно', num2 <= num1)\n",
    "print('Равны', num2 == num1)\n",
    "print('Не равны', num2 != num1)"
   ]
  },
  {
   "cell_type": "markdown",
   "id": "23681d7b-45c2-488a-9bbf-c90ecc82628f",
   "metadata": {},
   "source": [
    "### Составные выражения"
   ]
  },
  {
   "cell_type": "markdown",
   "id": "d464e5b5-b41e-412e-8a03-fa712f01d337",
   "metadata": {},
   "source": [
    "Нам доступен оператор пересечения условий `and` и объединения -- `or`.<br>\n",
    "Выражение с `or` будет верно, если хотя бы одна его часть верна.<br>\n",
    "Выражение с `and` верно тогда, когда все его части верны."
   ]
  },
  {
   "cell_type": "code",
   "execution_count": 59,
   "id": "379dba90-4831-44a9-9025-85f0db68c5d7",
   "metadata": {
    "tags": []
   },
   "outputs": [],
   "source": [
    "num1 = 7\n",
    "num2 = 10"
   ]
  },
  {
   "cell_type": "markdown",
   "id": "2a87a956-db16-492b-8538-39eb2a154be4",
   "metadata": {},
   "source": [
    "Внимание!<br>\n",
    "Сейчас я перестану пользоваться принтом, если нужно вывести одну строку. Юпитер умеет \"подхватывать\" последний вывод и печатать его (только один и только последний)."
   ]
  },
  {
   "cell_type": "code",
   "execution_count": 60,
   "id": "6a4e966e-95d2-4098-894c-8930d029ad79",
   "metadata": {
    "tags": []
   },
   "outputs": [
    {
     "data": {
      "text/plain": [
       "False"
      ]
     },
     "execution_count": 60,
     "metadata": {},
     "output_type": "execute_result"
    }
   ],
   "source": [
    "num1 > num2"
   ]
  },
  {
   "cell_type": "code",
   "execution_count": 61,
   "id": "88ec8762-e686-42e2-a2ea-20fef7b973d0",
   "metadata": {
    "tags": []
   },
   "outputs": [
    {
     "data": {
      "text/plain": [
       "True"
      ]
     },
     "execution_count": 61,
     "metadata": {},
     "output_type": "execute_result"
    }
   ],
   "source": [
    "# or\n",
    "num1 > num2 or num > 5"
   ]
  },
  {
   "cell_type": "code",
   "execution_count": 62,
   "id": "12b59ca8-496a-498f-970a-3d161b6d0f17",
   "metadata": {
    "tags": []
   },
   "outputs": [
    {
     "data": {
      "text/plain": [
       "False"
      ]
     },
     "execution_count": 62,
     "metadata": {},
     "output_type": "execute_result"
    }
   ],
   "source": [
    "# and\n",
    "num1 > num2 and num > 5"
   ]
  },
  {
   "cell_type": "markdown",
   "id": "de3d479e-df3b-4234-ad9d-25027fda6db1",
   "metadata": {},
   "source": [
    "По-умолчанию пересечение (`and`) всегда выполняется в первую очередь.<br>\n",
    "Но можно поменять порядок, добавив скобочки."
   ]
  },
  {
   "cell_type": "code",
   "execution_count": 71,
   "id": "7ee20f86-596e-4ff4-b0f0-2a9270c9f582",
   "metadata": {
    "tags": []
   },
   "outputs": [
    {
     "data": {
      "text/plain": [
       "True"
      ]
     },
     "execution_count": 71,
     "metadata": {},
     "output_type": "execute_result"
    }
   ],
   "source": [
    "num2 > 5 or num1 > num2 and num1 == 100500"
   ]
  },
  {
   "cell_type": "code",
   "execution_count": 72,
   "id": "c9e04882-daad-46c5-be13-31fd1552c2b8",
   "metadata": {
    "tags": []
   },
   "outputs": [
    {
     "data": {
      "text/plain": [
       "False"
      ]
     },
     "execution_count": 72,
     "metadata": {},
     "output_type": "execute_result"
    }
   ],
   "source": [
    "(num2 > 5 or num1 > num2) and num1 == 100500"
   ]
  },
  {
   "cell_type": "markdown",
   "id": "2687f0c1-0bf5-41d2-8b73-470a1e7e5545",
   "metadata": {},
   "source": [
    "## Только `if`"
   ]
  },
  {
   "cell_type": "code",
   "execution_count": 73,
   "id": "37cab031-e79a-4640-bb14-183d851e9868",
   "metadata": {
    "tags": []
   },
   "outputs": [
    {
     "name": "stdin",
     "output_type": "stream",
     "text": [
      " 10\n"
     ]
    },
    {
     "name": "stdout",
     "output_type": "stream",
     "text": [
      "POSITIVE\n"
     ]
    }
   ],
   "source": [
    "# проверим, что введённое число больше нуля\n",
    "x = int(input()) \n",
    "\n",
    "if x > 0:\n",
    "    print('POSITIVE')"
   ]
  },
  {
   "cell_type": "markdown",
   "id": "7cea7f2a-a0ac-49dd-8c95-290916f7aefe",
   "metadata": {},
   "source": [
    "## `if - else`"
   ]
  },
  {
   "cell_type": "code",
   "execution_count": 76,
   "id": "2e3461da-9d51-4f7f-9973-b165e97c13b5",
   "metadata": {
    "tags": []
   },
   "outputs": [
    {
     "name": "stdin",
     "output_type": "stream",
     "text": [
      " -10\n"
     ]
    },
    {
     "name": "stdout",
     "output_type": "stream",
     "text": [
      "NEGATIVE\n"
     ]
    }
   ],
   "source": [
    "# добавим блок \"ИНАЧЕ\"\n",
    "x = int(input())\n",
    "\n",
    "if x > 0:\n",
    "    print('POSITIVE')\n",
    "else:\n",
    "    print('NEGATIVE')"
   ]
  },
  {
   "cell_type": "markdown",
   "id": "b41b153f-3ab7-4180-ba0e-40319c815d3b",
   "metadata": {},
   "source": [
    "## `if - elif - else`"
   ]
  },
  {
   "cell_type": "code",
   "execution_count": 77,
   "id": "14f952b5-4ae5-485c-a593-fd48a6e54842",
   "metadata": {
    "tags": []
   },
   "outputs": [
    {
     "name": "stdin",
     "output_type": "stream",
     "text": [
      " 0\n"
     ]
    },
    {
     "name": "stdout",
     "output_type": "stream",
     "text": [
      "EQUAL TO ZERO\n"
     ]
    }
   ],
   "source": [
    "# мы забыли про ноль! \n",
    "# он же ни туда, ни сюда.\n",
    "\n",
    "x = int(input())\n",
    "\n",
    "if x > 0:\n",
    "    print('POSITIVE')\n",
    "elif x == 0:\n",
    "    print('EQUAL TO ZERO')\n",
    "else:\n",
    "    print('NEGATIVE')"
   ]
  },
  {
   "cell_type": "markdown",
   "id": "351a2eb6-23b5-4c45-982f-fc0c5529c2dd",
   "metadata": {},
   "source": [
    "## Несколько `elif` подряд "
   ]
  },
  {
   "cell_type": "code",
   "execution_count": 80,
   "id": "78856117-f3af-45d7-9fa7-15fff179ea96",
   "metadata": {
    "tags": []
   },
   "outputs": [
    {
     "name": "stdin",
     "output_type": "stream",
     "text": [
      " -5000\n"
     ]
    },
    {
     "name": "stdout",
     "output_type": "stream",
     "text": [
      "VERY VERY NEGATIVE\n"
     ]
    }
   ],
   "source": [
    "x = int(input())\n",
    "\n",
    "if x > 0:\n",
    "    print('POSITIVE')\n",
    "elif x == 0:\n",
    "    print('EQUAL TO ZERO')\n",
    "elif x < -1000:\n",
    "    print('VERY VERY NEGATIVE')\n",
    "elif x > 1000:\n",
    "    print('VERY VERY POSITIVE')\n",
    "else:\n",
    "    print('NEGATIVE')"
   ]
  },
  {
   "cell_type": "markdown",
   "id": "4b55529f-2ad0-4130-b98e-1dbb7bdbc63c",
   "metadata": {},
   "source": [
    "Пример сверху будет неверно работать для очень больших положительных чисел:<br>\n",
    "Мы ожидаем увидеть для них вывод \"VERY VERY POSITIVE\", но увидим другой.<br>\n",
    "Как так?"
   ]
  },
  {
   "cell_type": "markdown",
   "id": "a4971fc8-2244-4b1a-bb1f-3babc74c311b",
   "metadata": {},
   "source": [
    "# ПРАКТИКА (№2)"
   ]
  },
  {
   "cell_type": "markdown",
   "id": "98a9b315-0c21-467a-b25d-0a8d8bc5c381",
   "metadata": {},
   "source": [
    "# ПРАКТИКА (№3)"
   ]
  },
  {
   "cell_type": "markdown",
   "id": "117cf553-1df6-4c86-b4ce-0ebbe47bf6e2",
   "metadata": {},
   "source": [
    "# Вложенные условия"
   ]
  },
  {
   "cell_type": "markdown",
   "id": "b3507388-542c-4573-b9bc-05c923a7d54c",
   "metadata": {},
   "source": [
    "Мы можем внутрь блока условия вставить ещё одно. И ещё одно...и ещё...<br>\n",
    "Каждое новое условие требует четыре новых пробела перед собой."
   ]
  },
  {
   "cell_type": "markdown",
   "id": "96df3b56-b44d-41c7-bf0c-1307138f06e4",
   "metadata": {},
   "source": [
    "#### Пример\n",
    "В одной волшебной стране все платежи проходят через очень вредного оператора Германа. Почему Герман вредный?<br>\n",
    "Потому что он отклоняет любой платёж размером более 5000 тугриков. А если платёж всё-таки меньше, то Герман отклоин его, если сумма делится на 13, ведь 13 -- несчастливое число.<br><br>\n",
    "Напишите программу, которая принимает сумму платежа, а выводит \"YES\", если Герман пропустит платёж, и \"NO\", если Герман его отклонит."
   ]
  },
  {
   "cell_type": "code",
   "execution_count": 86,
   "id": "5c40d86a-7c4c-4fad-87d3-f0148a52d317",
   "metadata": {
    "tags": []
   },
   "outputs": [
    {
     "name": "stdin",
     "output_type": "stream",
     "text": [
      " 50\n"
     ]
    },
    {
     "name": "stdout",
     "output_type": "stream",
     "text": [
      "YES\n"
     ]
    }
   ],
   "source": [
    "n = int(input())\n",
    "\n",
    "if n > 5000:\n",
    "    print(\"NO\")\n",
    "else:\n",
    "    r = n % 13 # r от remainder (остаток)\n",
    "    if r == 0:\n",
    "        print(\"NO\")\n",
    "    else:\n",
    "        print(\"YES\")"
   ]
  },
  {
   "cell_type": "markdown",
   "id": "eceef0e6-bfab-4321-9729-7aa798d54f08",
   "metadata": {},
   "source": [
    "### Замена вложенных условий составными выражениями"
   ]
  },
  {
   "cell_type": "code",
   "execution_count": 88,
   "id": "1174ad1e-c75d-4f2e-8820-52c14d26278e",
   "metadata": {
    "tags": []
   },
   "outputs": [
    {
     "name": "stdin",
     "output_type": "stream",
     "text": [
      " 13\n"
     ]
    },
    {
     "name": "stdout",
     "output_type": "stream",
     "text": [
      "YES\n"
     ]
    }
   ],
   "source": [
    "# решим задачу про Германа без вложенных условий\n",
    "n = int(input())\n",
    "\n",
    "if n > 5000:\n",
    "    print(\"NO\")\n",
    "elif r % 13 == 0:\n",
    "    print(\"NO\")\n",
    "else:   \n",
    "    print(\"YES\")"
   ]
  },
  {
   "cell_type": "code",
   "execution_count": 89,
   "id": "30fed2d7-6b2b-4c23-a419-ef05d94842d4",
   "metadata": {
    "tags": []
   },
   "outputs": [
    {
     "name": "stdin",
     "output_type": "stream",
     "text": [
      " 50\n"
     ]
    },
    {
     "name": "stdout",
     "output_type": "stream",
     "text": [
      "YES\n"
     ]
    }
   ],
   "source": [
    "# или так\n",
    "n = int(input())\n",
    "\n",
    "if n > 5000 or r % 13 == 0:\n",
    "    print(\"NO\")\n",
    "else:   \n",
    "    print(\"YES\")"
   ]
  },
  {
   "cell_type": "markdown",
   "id": "f490f638-2dc1-45e6-a807-a607ac40a179",
   "metadata": {},
   "source": [
    "#### Пример"
   ]
  },
  {
   "cell_type": "markdown",
   "id": "398e0bd1-cc7f-4023-a635-3bcf808d1abd",
   "metadata": {},
   "source": [
    "Вводятся три целых числа (повторений нет).<br>\n",
    "Определите максимальное."
   ]
  },
  {
   "cell_type": "code",
   "execution_count": 93,
   "id": "c756c364-0bfd-4107-a59c-bb58c0076c45",
   "metadata": {
    "tags": []
   },
   "outputs": [
    {
     "name": "stdin",
     "output_type": "stream",
     "text": [
      " 3\n",
      " 1\n",
      " 2\n"
     ]
    },
    {
     "name": "stdout",
     "output_type": "stream",
     "text": [
      "3\n"
     ]
    }
   ],
   "source": [
    "# рещение через вложенные условия\n",
    "\n",
    "a = int(input())\n",
    "b = int(input())\n",
    "c = int(input())\n",
    "\n",
    "if a > b:\n",
    "    if a > c:\n",
    "        print(a)\n",
    "    else:\n",
    "        print(c)\n",
    "elif b > c:\n",
    "    print(b)\n",
    "else:\n",
    "    print(c)"
   ]
  },
  {
   "cell_type": "code",
   "execution_count": 97,
   "id": "831ecd7b-15ba-419e-ad1e-87f5f26c4b65",
   "metadata": {
    "tags": []
   },
   "outputs": [
    {
     "name": "stdin",
     "output_type": "stream",
     "text": [
      " 1\n",
      " 3\n",
      " 2\n"
     ]
    },
    {
     "name": "stdout",
     "output_type": "stream",
     "text": [
      "3\n"
     ]
    }
   ],
   "source": [
    "# решение с составными выражениями\n",
    "\n",
    "a = int(input())\n",
    "b = int(input())\n",
    "c = int(input())\n",
    "\n",
    "if a > b and a > c:\n",
    "    print(a)\n",
    "elif b > a and b > c:\n",
    "    print(b)\n",
    "else:\n",
    "    print(c)"
   ]
  },
  {
   "cell_type": "code",
   "execution_count": 107,
   "id": "454ee622-4b6e-455d-a85d-9a04de2cc0c9",
   "metadata": {
    "tags": []
   },
   "outputs": [
    {
     "name": "stdin",
     "output_type": "stream",
     "text": [
      " 2\n",
      " 1\n",
      " 3\n"
     ]
    },
    {
     "name": "stdout",
     "output_type": "stream",
     "text": [
      "3\n"
     ]
    }
   ],
   "source": [
    "# а еще можно делать так\n",
    "# ведь питон поддерживает двойные неравенства\n",
    "\n",
    "a = int(input())\n",
    "b = int(input())\n",
    "c = int(input())\n",
    "\n",
    "if  c < a > b:\n",
    "    print(a)\n",
    "elif c < b > a:\n",
    "    print(b)\n",
    "else:\n",
    "    print(c)"
   ]
  },
  {
   "cell_type": "markdown",
   "id": "7e46a903-4774-4a8f-8206-5d2b91ccf75e",
   "metadata": {},
   "source": [
    "# ПРАКТИКА (№5)"
   ]
  },
  {
   "cell_type": "markdown",
   "id": "e2ac9624-c547-4eab-b0c4-0cae608f780b",
   "metadata": {},
   "source": [
    "# ПРАКТИКА (№6)"
   ]
  },
  {
   "cell_type": "markdown",
   "id": "29cb8be7-54db-4a53-bc18-aa31c585c599",
   "metadata": {
    "tags": []
   },
   "source": [
    "Если быстро справились, то попробуйте задачу \"стадион\"."
   ]
  },
  {
   "cell_type": "markdown",
   "id": "508c0b41-7509-4575-9e87-ec96097af070",
   "metadata": {},
   "source": [
    "**Остальное для самостоятельной отработки.**"
   ]
  },
  {
   "cell_type": "code",
   "execution_count": null,
   "id": "bfc2da0e-fc6e-4c9c-bd98-0f007aba1182",
   "metadata": {},
   "outputs": [],
   "source": []
  }
 ],
 "metadata": {
  "kernelspec": {
   "display_name": "hock",
   "language": "python",
   "name": "hock"
  },
  "language_info": {
   "codemirror_mode": {
    "name": "ipython",
    "version": 3
   },
   "file_extension": ".py",
   "mimetype": "text/x-python",
   "name": "python",
   "nbconvert_exporter": "python",
   "pygments_lexer": "ipython3",
   "version": "3.9.16"
  }
 },
 "nbformat": 4,
 "nbformat_minor": 5
}
