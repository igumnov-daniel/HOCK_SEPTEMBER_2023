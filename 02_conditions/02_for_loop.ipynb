{
 "cells": [
  {
   "cell_type": "markdown",
   "id": "193a5efd-b968-4257-87b7-d8fb22cd39fb",
   "metadata": {},
   "source": [
    "# Циклы"
   ]
  },
  {
   "cell_type": "markdown",
   "id": "25e50efd-d8f9-4d46-a6c8-e1a7908a41ae",
   "metadata": {},
   "source": [
    "В python есть два вида циклов:\n",
    "* **while** -- выполнение тела цикла, пока выполняется некоторое условие.\n",
    "* **for** -- итерирующий цикл (т.е. перебирающий).\n",
    "<br>\n",
    "\n",
    "Сегодня поговорим только про `for`."
   ]
  },
  {
   "cell_type": "markdown",
   "id": "550dbd87-858e-4f45-8d3c-37418dd8695d",
   "metadata": {},
   "source": [
    "# Цикл `for`"
   ]
  },
  {
   "cell_type": "markdown",
   "id": "91be8ce8-20bc-42b5-83ab-f4a28bd50f2a",
   "metadata": {},
   "source": [
    "## Генератор чисел `range`"
   ]
  },
  {
   "cell_type": "markdown",
   "id": "a37c9093-7edf-439e-a60f-840edf964f50",
   "metadata": {},
   "source": [
    "Если нам нужно сгенерировать целые числа в каком-то диапазоне, сделать мы можем это с помощью генератора `range`.\n",
    "<br>\n",
    "`range` может принимать аргументы тремя способами и будет трактовать их по-разному (зависит от числа аргументов):\n",
    "* stop\n",
    "* start, stop\n",
    "* start, stop, step"
   ]
  },
  {
   "cell_type": "markdown",
   "id": "6fd7ccea-80a9-4f85-bdfc-c3fffdec8f99",
   "metadata": {},
   "source": [
    "`stop`"
   ]
  },
  {
   "cell_type": "code",
   "execution_count": 6,
   "id": "70a3ce40-5440-4186-a79f-e8b399d67f8b",
   "metadata": {
    "tags": []
   },
   "outputs": [
    {
     "name": "stdout",
     "output_type": "stream",
     "text": [
      "0\n",
      "1\n",
      "2\n"
     ]
    }
   ],
   "source": [
    "for i in range(3): # начало входит, конец не входит\n",
    "    print(i)"
   ]
  },
  {
   "cell_type": "markdown",
   "id": "a072979f-47c9-43ff-9126-f51d995a0aae",
   "metadata": {},
   "source": [
    "`start, stop`"
   ]
  },
  {
   "cell_type": "code",
   "execution_count": 7,
   "id": "5b51b2e1-4719-41cb-8d94-d1c61b5276fc",
   "metadata": {
    "tags": []
   },
   "outputs": [
    {
     "name": "stdout",
     "output_type": "stream",
     "text": [
      "5\n",
      "6\n",
      "7\n"
     ]
    }
   ],
   "source": [
    "for i in range(5, 8):\n",
    "    print(i)"
   ]
  },
  {
   "cell_type": "markdown",
   "id": "b719092d-03d9-42e1-8142-e7988c7d389c",
   "metadata": {},
   "source": [
    "`start, stop, step`"
   ]
  },
  {
   "cell_type": "code",
   "execution_count": 8,
   "id": "26f108fe-709b-4c2b-8fdc-09e278a1eb9e",
   "metadata": {
    "tags": []
   },
   "outputs": [
    {
     "name": "stdout",
     "output_type": "stream",
     "text": [
      "5\n",
      "8\n",
      "11\n",
      "14\n"
     ]
    }
   ],
   "source": [
    "for i in range(5, 15, 3):\n",
    "    print(i)"
   ]
  },
  {
   "cell_type": "markdown",
   "id": "4362d233-9781-4298-be74-10df285451fb",
   "metadata": {},
   "source": [
    "#### сверху вниз\n",
    "Мы можем задавать отрицательный шаг, тогда `range` будет выдавать числа сверху вниз.<br>\n",
    "Начало входит, конецн не входит. Принцип тот же."
   ]
  },
  {
   "cell_type": "code",
   "execution_count": 9,
   "id": "2342cae7-d3b9-4e64-b607-95f9e9b7ac73",
   "metadata": {
    "tags": []
   },
   "outputs": [
    {
     "name": "stdout",
     "output_type": "stream",
     "text": [
      "10\n",
      "9\n",
      "8\n",
      "7\n",
      "6\n"
     ]
    }
   ],
   "source": [
    "for i in range(10, 5, -1):\n",
    "    print(i)"
   ]
  },
  {
   "cell_type": "code",
   "execution_count": 11,
   "id": "07207a7e-32f2-4e07-85e4-f030b55a1362",
   "metadata": {
    "tags": []
   },
   "outputs": [
    {
     "name": "stdout",
     "output_type": "stream",
     "text": [
      "10\n",
      "7\n",
      "4\n"
     ]
    }
   ],
   "source": [
    "for i in range(10, 1, -3):\n",
    "    print(i)"
   ]
  },
  {
   "cell_type": "markdown",
   "id": "a751c6d9-ecac-45cc-bd20-5980d77f75e3",
   "metadata": {},
   "source": [
    "# ПРАКТИКА (№1. первые10)"
   ]
  },
  {
   "cell_type": "markdown",
   "id": "fe61afc9-6c2c-4678-8540-1762db2390e3",
   "metadata": {},
   "source": [
    "# ПРАКТИКА (№2. первые999)"
   ]
  },
  {
   "cell_type": "markdown",
   "id": "a0ea16a7-c481-45e7-bede-d66c771bd977",
   "metadata": {},
   "source": [
    "# ПРАКТИКА (№3. первыеN)"
   ]
  },
  {
   "cell_type": "markdown",
   "id": "f9212bfd-7026-497b-a84e-e2fdc1358871",
   "metadata": {},
   "source": [
    "## Взаимодействие с пользователем в цикле"
   ]
  },
  {
   "cell_type": "markdown",
   "id": "f25192d4-9815-4307-97b2-300bab332c80",
   "metadata": {},
   "source": [
    "Зачастую нам цикл нужен не чтобы перебрать что-то, а чтобы повторить одно и то же действие несколько раз.<br>\n",
    "Например, принять от пользователя несколько чисел и найти их сумму. И тд."
   ]
  },
  {
   "cell_type": "markdown",
   "id": "9167a211-2b1f-4312-a0f4-2335807bfd64",
   "metadata": {},
   "source": [
    "#### примеры без взаимодействия"
   ]
  },
  {
   "cell_type": "markdown",
   "id": "ba9b26d8-e531-4b61-b299-8250ed4884cf",
   "metadata": {},
   "source": [
    "Найдем сумму чисел от 1 до 100."
   ]
  },
  {
   "cell_type": "code",
   "execution_count": 16,
   "id": "9e787c4c-65ca-418e-bf31-cf8f970ea9d9",
   "metadata": {
    "tags": []
   },
   "outputs": [
    {
     "name": "stdout",
     "output_type": "stream",
     "text": [
      "5050\n"
     ]
    }
   ],
   "source": [
    "s = 0\n",
    "for i in range(1, 101):\n",
    "    s += i # так тоже можно писать. со всеми математическими операциями работает такая краткая форма записи\n",
    "print(s)"
   ]
  },
  {
   "cell_type": "markdown",
   "id": "07645e67-6a0b-4b52-b370-506dd6bffaeb",
   "metadata": {},
   "source": [
    "Найдем сумму чисел от 1 до N.<br>\n",
    "N вводит пользователь."
   ]
  },
  {
   "cell_type": "code",
   "execution_count": 17,
   "id": "31cdca3a-76da-4fc8-9cc4-9595c4ec3f17",
   "metadata": {
    "tags": []
   },
   "outputs": [
    {
     "name": "stdin",
     "output_type": "stream",
     "text": [
      " 50\n"
     ]
    },
    {
     "name": "stdout",
     "output_type": "stream",
     "text": [
      "1275\n"
     ]
    }
   ],
   "source": [
    "N = int(input())\n",
    "s = 0\n",
    "for i in range(1, N+1):\n",
    "    s += i\n",
    "print(s)"
   ]
  },
  {
   "cell_type": "markdown",
   "id": "4aac406c-f265-47d1-b26b-7f65b6eddcdc",
   "metadata": {},
   "source": [
    "А теперь найдём сумму N чисел, введённых пользователем.<br>\n",
    "Сналача принимает число N, а далее принимает N чисел.<br>"
   ]
  },
  {
   "cell_type": "code",
   "execution_count": 19,
   "id": "d25ef799-57a7-4c4d-8192-d920ae6c297e",
   "metadata": {
    "tags": []
   },
   "outputs": [
    {
     "name": "stdin",
     "output_type": "stream",
     "text": [
      " 3\n",
      " 10\n",
      " 20\n",
      " 30\n"
     ]
    },
    {
     "name": "stdout",
     "output_type": "stream",
     "text": [
      "60\n"
     ]
    }
   ],
   "source": [
    "N = int(input())\n",
    "s = 0\n",
    "for _ in range(N):     # называя локальную переменную цикла нижним подчеркиванием мы показываем,\n",
    "    s += int(input())  # что она не принимает участия в цикле как переменная (не используется в цикле)\n",
    "print(s)"
   ]
  },
  {
   "cell_type": "markdown",
   "id": "0b65d25d-d7c2-46ea-bdf8-8748b0ac8b87",
   "metadata": {},
   "source": [
    "# ПРАКТИКА (№7. только позитив)"
   ]
  },
  {
   "cell_type": "markdown",
   "id": "7f7e1b66-1154-471d-98d4-94db8bcd031c",
   "metadata": {},
   "source": [
    "# ПРАКТИКА (№8. среднее)"
   ]
  },
  {
   "cell_type": "markdown",
   "id": "4c7f4f60-6fa3-45ed-b182-eb5972300d0e",
   "metadata": {},
   "source": [
    "## Итерация строк"
   ]
  },
  {
   "cell_type": "markdown",
   "id": "fac47efc-45c7-4be3-ad3b-ddd58acca636",
   "metadata": {},
   "source": [
    "Как можно перебрать строку? По буквам.<br>\n",
    "Вот и цикл `for` позволяет перебрать слово по буквам."
   ]
  },
  {
   "cell_type": "code",
   "execution_count": 23,
   "id": "5eb9a809-de1c-45f9-b28d-655bc3fe3735",
   "metadata": {
    "tags": []
   },
   "outputs": [
    {
     "name": "stdout",
     "output_type": "stream",
     "text": [
      "a\n",
      "b\n",
      "c\n",
      "d\n"
     ]
    }
   ],
   "source": [
    "# стараемся называть переменные говорящими именами\n",
    "\n",
    "word = 'abcd'\n",
    "for letter in word: \n",
    "    print(letter)\n",
    "    "
   ]
  },
  {
   "cell_type": "code",
   "execution_count": 24,
   "id": "306e9c6c-8b76-4883-8ddb-5f32614b8622",
   "metadata": {
    "tags": []
   },
   "outputs": [
    {
     "name": "stdout",
     "output_type": "stream",
     "text": [
      "*\n",
      "**\n",
      "***\n",
      "****\n",
      "*****\n"
     ]
    }
   ],
   "source": [
    "# соберем ступеньку\n",
    "\n",
    "word = ''\n",
    "for _ in range(5):\n",
    "    word += '*'\n",
    "    print(word)\n"
   ]
  },
  {
   "cell_type": "code",
   "execution_count": 28,
   "id": "0874fffd-a6b0-44ce-81cf-82662a9b62ed",
   "metadata": {
    "tags": []
   },
   "outputs": [
    {
     "name": "stdin",
     "output_type": "stream",
     "text": [
      " 3\n",
      " всем\n",
      " привет\n",
      " ребята\n"
     ]
    },
    {
     "name": "stdout",
     "output_type": "stream",
     "text": [
      " всем привет ребята\n"
     ]
    }
   ],
   "source": [
    "# соберем из слов пользователя предложение\n",
    "# сначала вводится число N, потом N слов\n",
    "\n",
    "N = int(input())\n",
    "sentence = ''\n",
    "\n",
    "for _ in range(N):\n",
    "    word = input()\n",
    "    sentence = sentence + ' ' + word \n",
    "#   sentence += ' ' + word      # можно было так\n",
    "\n",
    "print(sentence)\n"
   ]
  },
  {
   "cell_type": "markdown",
   "id": "7da1a6e3-10b6-4b61-9706-1525f0ea136a",
   "metadata": {},
   "source": [
    "# ПРАКТИКА (№11. счётчик буквы)"
   ]
  },
  {
   "cell_type": "markdown",
   "id": "edf063df-fee5-4150-ac15-d78e09bdb081",
   "metadata": {},
   "source": [
    "# ПРАКТИКА (№12. счётчик яблок)"
   ]
  },
  {
   "cell_type": "code",
   "execution_count": null,
   "id": "313d18d7-9a2b-4890-937c-f36162def7a3",
   "metadata": {},
   "outputs": [],
   "source": []
  }
 ],
 "metadata": {
  "kernelspec": {
   "display_name": "hock",
   "language": "python",
   "name": "hock"
  },
  "language_info": {
   "codemirror_mode": {
    "name": "ipython",
    "version": 3
   },
   "file_extension": ".py",
   "mimetype": "text/x-python",
   "name": "python",
   "nbconvert_exporter": "python",
   "pygments_lexer": "ipython3",
   "version": "3.9.16"
  }
 },
 "nbformat": 4,
 "nbformat_minor": 5
}
