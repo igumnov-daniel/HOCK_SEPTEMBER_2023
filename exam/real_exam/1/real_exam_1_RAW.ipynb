{
 "cells": [
  {
   "cell_type": "markdown",
   "id": "2ca01bd4-1b1c-40e5-8bc8-11df5f658a95",
   "metadata": {},
   "source": [
    "# Преамбула\n",
    "Экзамен состоит из трёх блоков:  \n",
    "- программирование на python;  \n",
    "- работа с датафреймами и описательная статистика;  \n",
    "- классическое машинное обучение.\n",
    "\n",
    "Стоимость вопроса равна одному баллу, если не сказано иное.  \n",
    "Для успешной сдачи экзамена необходимо набрать 50% и более от максимального числа баллов.\n",
    "\n",
    "- **NB:** В первом блоке (программирование на python) **ЗАПРЕЩЕНО** пользоваться библиотеками, не посталяемыми вместе с python по-умолчанию (т.е. pandas/numpy нельзя использовать в это блоке, а random/json -- можно);\n",
    "- Во всех задачах на визуализацию **подписи, названия и легенду делать необязательно!**\n",
    "- Все спорные моменты трактуются в пользу экзаменуемого;  \n",
    "- Ваш код должен быть воспроизводим (если я положу исходные файлы в ту же папку, что и Ваш ноутбук, и нажму `Run` -> `Run All Cells`, то всё должно работать). Так что соблюдайте логику и последовательнось запуска ячеек. Спасибо :)  \n",
    "- Можно пользоваться только своей головой, но любыми материалами и интернетом;  \n",
    "- Если задание кажется сложным -- пропустите его;  \n",
    "\n",
    "- Во время экзамена я буду отвечать только на вопросы касаемо формулировок заданий.\n",
    "\n",
    "Главное, не спешите, проверяйте, что и куда записывается.  \n",
    "За каждого болею.  \n",
    "Всем удачи!  \n"
   ]
  },
  {
   "cell_type": "markdown",
   "id": "7cc00067-7ca2-4986-8503-26e9e6ebae29",
   "metadata": {},
   "source": [
    "<left>\n",
    "    <img src=\"Data/Pics/exam.gif\"/>\n",
    "</left>"
   ]
  },
  {
   "cell_type": "markdown",
   "id": "3d10f49a-c638-41b7-ba3d-4f056c6bee20",
   "metadata": {},
   "source": [
    "# A. Базовый python\n",
    "Для решения задач блока запрещено пользоваться библиотеками, не поставляемые вместе с python.  \n",
    "Иными словами, всё, что устанавливается через `pip`, тут использовать нельзя."
   ]
  },
  {
   "cell_type": "markdown",
   "id": "3258dd1b-6e03-41f9-9ecb-1e986b32d7b0",
   "metadata": {},
   "source": [
    "## 1.\n",
    "Напишите функцию `fillNegative`, которая принимает непустой список из целых чисел, заменяет in place все отрицательные числа на ноль и возвращает число замещенных чисел.\n",
    "\n",
    "Пример: \n",
    "```\n",
    "a = [1, 2, -3, 4]\n",
    "fillNegative(a) # вывод 1\n",
    "print(a) # вывод [1, 2, 0, 4]\n",
    "```"
   ]
  },
  {
   "cell_type": "markdown",
   "id": "cb357791-e979-4f0e-b5aa-65a95227acee",
   "metadata": {},
   "source": [
    "#### Решение"
   ]
  },
  {
   "cell_type": "code",
   "execution_count": 1,
   "id": "7bd2eebd-dd13-4c18-9b26-60899b72b192",
   "metadata": {},
   "outputs": [],
   "source": []
  },
  {
   "cell_type": "markdown",
   "id": "273d73c3-b068-4faa-b679-dcbddf5a9b8f",
   "metadata": {},
   "source": [
    "#### Проверки"
   ]
  },
  {
   "cell_type": "code",
   "execution_count": 2,
   "id": "4eb233be-df61-47c0-b1b3-fb7099070476",
   "metadata": {},
   "outputs": [],
   "source": [
    "a = [1,2,3]\n",
    "old_id = id(a)\n",
    "assert fillNegative(a) == 0\n",
    "assert old_id == id(a)\n",
    "assert a == [1,2,3]"
   ]
  },
  {
   "cell_type": "code",
   "execution_count": 3,
   "id": "b138b9c1-d54e-4ff8-892e-089adaaf0385",
   "metadata": {},
   "outputs": [],
   "source": [
    "a = [1,2,3, -4, 5]\n",
    "old_id = id(a)\n",
    "assert fillNegative(a) == 1\n",
    "assert old_id == id(a)\n",
    "assert a == [1,2,3, 0, 5]"
   ]
  },
  {
   "cell_type": "code",
   "execution_count": 4,
   "id": "ba6845d5-92de-490c-8422-200a352dec9f",
   "metadata": {},
   "outputs": [],
   "source": [
    "a = [0, 0, 0, 0]\n",
    "old_id = id(a)\n",
    "assert fillNegative(a) == 0\n",
    "assert old_id == id(a)\n",
    "assert a == [0, 0, 0, 0]"
   ]
  },
  {
   "cell_type": "code",
   "execution_count": 5,
   "id": "b69c15d5-dad8-464b-9cc6-e0e5f3963fbf",
   "metadata": {},
   "outputs": [],
   "source": [
    "a = [-1, -1, -1, 0, 5]\n",
    "old_id = id(a)\n",
    "assert fillNegative(a) == 3\n",
    "assert old_id == id(a)\n",
    "assert a == [0, 0, 0, 0, 5]"
   ]
  },
  {
   "cell_type": "markdown",
   "id": "b7a59d61-9e60-4529-84b3-d1726058d6ae",
   "metadata": {},
   "source": [
    "## 2."
   ]
  },
  {
   "cell_type": "markdown",
   "id": "91491f7b-34fc-4b42-9ab4-3f7f3c8e411a",
   "metadata": {},
   "source": [
    "### 2.1 (2 балла)\n",
    "Напишите функцию `statsForZtest`, которая принимает непустой список чисел, а возвращает кортеж из трёх значений:\n",
    "* среднее арифметическое (округлить до 2 знака после запятой);\n",
    "* выборочное стандартное отклонение (округлить до 2 знака после запятой);\n",
    "* размер выборки (должно быть целым числом).\n",
    "\n",
    "Выборочное стандартное отклонение считать по формуле ниже:<br>\n",
    "<left>\n",
    "    <img src=\"Data/pics/sample_std.png\"/>\n",
    "</left><br>\n",
    "*То есть это сумма квадратов отклонений каждого значения от среднего, деленная на длину списка минус 1, затем возведенная в степень 0.5.\n",
    "\n",
    "**Среднее и стадартное отклонение нужно округлять только во время возвращения, но не во время расчётов.**\n"
   ]
  },
  {
   "cell_type": "markdown",
   "id": "24466800-3578-415e-9561-f7d4853f2153",
   "metadata": {},
   "source": [
    "#### Решение"
   ]
  },
  {
   "cell_type": "code",
   "execution_count": 6,
   "id": "81f6e9e1-2cc2-40b4-9cb4-74b1c0ed7702",
   "metadata": {},
   "outputs": [],
   "source": []
  },
  {
   "cell_type": "markdown",
   "id": "4801b4a9-88a8-4296-bf16-25b86bff9d47",
   "metadata": {},
   "source": [
    "#### Проверки"
   ]
  },
  {
   "cell_type": "code",
   "execution_count": 7,
   "id": "de0d91fc-f745-4fc2-86a2-db15ad2dc43c",
   "metadata": {},
   "outputs": [],
   "source": [
    "assert statsForZtest([0, 0, 0, 0]) == (0, 0, 4)"
   ]
  },
  {
   "cell_type": "code",
   "execution_count": 8,
   "id": "fb77615e-0800-4f12-96b2-bf03715f3f73",
   "metadata": {},
   "outputs": [],
   "source": [
    "assert statsForZtest([1,2,3,5.17, 4.2, 7, -1]) == (3.05, 2.68, 7)"
   ]
  },
  {
   "cell_type": "code",
   "execution_count": 9,
   "id": "e6330746-df51-46b4-a6c3-cd97874db7fa",
   "metadata": {},
   "outputs": [],
   "source": [
    "assert statsForZtest([-1,-2.17, -4.2, -7, 1]) == (-2.67, 3.07, 5)"
   ]
  },
  {
   "cell_type": "markdown",
   "id": "4c1a4e27-76ea-42e3-b5bc-402db6f1b360",
   "metadata": {},
   "source": [
    "### 2.2\n",
    "Напишите функцию `computeZscore`, для подсчета z-статистики. Функция принимает аргументы в следующем порядке:\n",
    "* `sample_mean` -- среднее выборки,\n",
    "* `std` -- стандартное отклонение генеральной совокупности,\n",
    "* `n` -- размер выборки,\n",
    "* `mu` -- среднее генеральной совокупности (по умолчанию равно нулю).\n",
    "\n",
    "Функция должна считать значение z-статистики по формуле ниже, округлять результат до 3 знаков после запятой и возвращать результат:<br>\n",
    "<left>\n",
    "    <img src=\"Data/Pics/ztest.png\"/>\n",
    "</left>"
   ]
  },
  {
   "cell_type": "markdown",
   "id": "53a9125d-4a8d-4762-b93e-5b9336a2525e",
   "metadata": {},
   "source": [
    "#### Решение"
   ]
  },
  {
   "cell_type": "code",
   "execution_count": 10,
   "id": "1e87cc98-2f63-49ad-b11f-c6e11b1d9536",
   "metadata": {},
   "outputs": [],
   "source": []
  },
  {
   "cell_type": "markdown",
   "id": "ff35e0e5-b7c9-4ec3-90e8-922c7a1dfa24",
   "metadata": {},
   "source": [
    "#### Проверки"
   ]
  },
  {
   "cell_type": "code",
   "execution_count": 11,
   "id": "8a349e2b-0479-4a30-b310-b1903803977d",
   "metadata": {},
   "outputs": [],
   "source": [
    "assert computeZscore(sample_mean=7, std=3, n=60, mu=10) == -7.746"
   ]
  },
  {
   "cell_type": "code",
   "execution_count": 12,
   "id": "ad6a8049-746e-4e6a-b52b-a7f541987433",
   "metadata": {},
   "outputs": [],
   "source": [
    "assert computeZscore(sample_mean=13, std=3, n=60, mu=10) == 7.746"
   ]
  },
  {
   "cell_type": "code",
   "execution_count": 13,
   "id": "15b69029-acf9-46f5-aa22-0201b9e86992",
   "metadata": {},
   "outputs": [],
   "source": [
    "assert computeZscore(sample_mean=0.95, std=4, n=45) == 1.593"
   ]
  },
  {
   "cell_type": "markdown",
   "id": "b67913a9-7b93-42f0-ba85-07d67a76306b",
   "metadata": {},
   "source": [
    "### 2.3\n",
    "Напишите функцию `ZscoreFromSample`, которая принимает список, затем внутри себя использует функцию `statsForZtest` для подсчета среднего, стандартного отклонения и размера списка. Далее использует функцию `computeZscore` для подсчета z-статистики и возвращает результат (`mu` считать равным нулю)."
   ]
  },
  {
   "cell_type": "markdown",
   "id": "641eb449-3ba5-4206-9890-3cb7da324ad5",
   "metadata": {},
   "source": [
    "#### Решение"
   ]
  },
  {
   "cell_type": "code",
   "execution_count": 14,
   "id": "bba18d46-be4a-4434-90df-679f0f061827",
   "metadata": {},
   "outputs": [],
   "source": []
  },
  {
   "cell_type": "markdown",
   "id": "7e463057-eb6a-4243-bf41-31a3686dc6f8",
   "metadata": {},
   "source": [
    "#### Проверки"
   ]
  },
  {
   "cell_type": "code",
   "execution_count": 15,
   "id": "5d63053a-91f3-4165-85e2-eace17100733",
   "metadata": {},
   "outputs": [],
   "source": [
    "assert ZscoreFromSample(list(range(-50, 51))) == 0"
   ]
  },
  {
   "cell_type": "code",
   "execution_count": 16,
   "id": "42fdda46-3f9b-4916-aa42-287031bf33da",
   "metadata": {},
   "outputs": [],
   "source": [
    "assert ZscoreFromSample(list(range(-10, 15))) == 1.359"
   ]
  },
  {
   "cell_type": "markdown",
   "id": "026cda34-2fd3-4434-ac2e-85db93b13993",
   "metadata": {},
   "source": [
    "## 3. (3 балла)\n",
    "В csv `./Data/sales_task3.csv` файле дана статистика по продажам товаров в формате `Артикул,кол-во единиц`. Количество единиц товара может быть отрицательным, что говорит и произведенном возврате. Артикулы могут повторять (и повторяются).\n",
    "\n",
    "Напишите программу, которая агрегирует статистику из исходного файла на уровне артикулов и записывает результаты в файл `stats_agg_task3.csv` (то есть не в папку `Data`, а в папку с ноутбуком).\n",
    "\n",
    "Указания:\n",
    "* сделайте заголовок, назнваия колонок произвольные;\n",
    "* в качестве разделителя используйте точку с запятой;\n",
    "* артикулы должны быть отсортированы по возрастанию;\n",
    "* для чтения и записи используйте кодировку utf-8.\n",
    "\n",
    "Пример входного файла:\n",
    "```\n",
    "ID;NumberSales\n",
    "24;4\n",
    "1;4\n",
    "1;2\n",
    "2;7\n",
    "1;-1\n",
    "```\n",
    "Пример выходного файла:\n",
    "```\n",
    "ID;StatsAgg\n",
    "1;5\n",
    "2;7\n",
    "24;4\n",
    "```\n",
    "\n",
    "\\*_В файле `./Data/task3_ans.csv` можно посмотреть формат выходного файла. С помощью этого файла осуществляется проверка решения._\n"
   ]
  },
  {
   "cell_type": "markdown",
   "id": "93bacae5-1026-493e-a998-8edad794a38a",
   "metadata": {},
   "source": [
    "#### Решение"
   ]
  },
  {
   "cell_type": "code",
   "execution_count": 17,
   "id": "22c52ed2-bf69-4795-8e2e-18c95c6d22e6",
   "metadata": {},
   "outputs": [],
   "source": []
  },
  {
   "cell_type": "markdown",
   "id": "b60b7628-893e-47c6-ab54-2cb5ea21074b",
   "metadata": {},
   "source": [
    "#### Проверка"
   ]
  },
  {
   "cell_type": "code",
   "execution_count": 18,
   "id": "dd92f111-dc8d-43b9-a849-6547d630259f",
   "metadata": {},
   "outputs": [],
   "source": [
    "with open('stats_agg_task3.csv', 'r', encoding='utf8') as student_ans:\n",
    "    with open('./Data/task3_ans.csv', 'r', encoding='utf8') as correct_ans:\n",
    "        student_ans.readline()\n",
    "        correct_ans.readline()\n",
    "\n",
    "        for i, (a, b) in enumerate(zip(student_ans, correct_ans)):\n",
    "            id_a, n_a = a.strip().split(';')\n",
    "            id_b, n_b = b.strip().split(';')\n",
    "            n_a, n_b = int(n_a), int(n_b)\n",
    "            try:\n",
    "                assert id_a == id_b\n",
    "                assert n_a == n_b\n",
    "            except Exception as E:\n",
    "                print(f'ERROR. Line {i+1}\\nYour line:\"{a.strip()}\"\\nCorrect line:\"{b.strip()}\"')\n",
    "                break\n"
   ]
  },
  {
   "cell_type": "markdown",
   "id": "146629f6-d7cc-4c15-8ca7-fd17d4cddd87",
   "metadata": {},
   "source": [
    "## 4.\n",
    "Описание классовой структуры\n",
    "\n",
    "**I.** Есть класс покупателя со следующими атрибутами:\n",
    "```\n",
    "Идентификатор\n",
    "Размер скидки (в долях единицы)\n",
    "История покупок (список с инвойсами)\n",
    "```\n",
    "Пользователь может\n",
    "```\n",
    "Печатать информацию о себе (т.е. быть напечатанным)\n",
    "Очистить итсорию покупок\n",
    "```\n",
    "\n",
    "**II.** Есть класс инвойса. Его атрибуты:\n",
    "```\n",
    "Идентификатор\n",
    "Размер инвойса (сумма к оплате до всех скидок)\n",
    "Пользователь\n",
    "Дополнительная скидка\n",
    "```\n",
    "Инвойс может:\n",
    "```\n",
    "Посчитать итоговый размер оплаты с учетом всех скидок (скидка клиента и дополнительная скидка суммируются)\n",
    "Вывести идентификатор и итоговый размер к оплате после всех скидок (т.е. быть напечатанным)\n",
    "```"
   ]
  },
  {
   "cell_type": "markdown",
   "id": "d5651078-5110-4856-a6b6-46cb18f024cc",
   "metadata": {},
   "source": [
    "### 4.1 (2 балла)"
   ]
  },
  {
   "cell_type": "markdown",
   "id": "cf92f2f3-3c95-428f-ace0-573616a3fa51",
   "metadata": {},
   "source": [
    "Класс `Customer`\n",
    "\n",
    "Напишите конструктор класса `Customer`.<br>\n",
    "* При инициализации объекты класса принимают следующие аргументы/создают следующие атрибуты:\n",
    "  * Идентификатор (некоторая строка) (атрибут `Id`);\n",
    "  * Размер скидки (число от 0 до 1. По умолчанию равно 0.) (атрибут `Discount`);\n",
    "  * Атрибут `History` изначально равен пустому списку (т.е. не надо принимать никакое значение в аргументах)<br><br>\n",
    "* Метод `__repr__` должен возвращать объект типа `str`, где на первой строке идентификатор клиента, а зачем на каждой новой строке по элементу из атрибута `History`."
   ]
  },
  {
   "cell_type": "markdown",
   "id": "0318519a-818e-4fa9-b847-75cea0e2e135",
   "metadata": {},
   "source": [
    "#### Решение"
   ]
  },
  {
   "cell_type": "code",
   "execution_count": 19,
   "id": "2aa79261-639f-4bf1-8b1e-969f31e609cd",
   "metadata": {},
   "outputs": [],
   "source": []
  },
  {
   "cell_type": "markdown",
   "id": "04cbe5cb-4ae8-475d-a548-08badc3076d7",
   "metadata": {},
   "source": [
    "#### Проверка\n",
    "(`__repr__` проверить автоматически не получится)"
   ]
  },
  {
   "cell_type": "code",
   "execution_count": 20,
   "id": "10929ef0-aa93-4cd3-9bed-27b4aa2679db",
   "metadata": {},
   "outputs": [],
   "source": [
    "c = Customer(12345)\n",
    "assert c.Id == 12345 \n",
    "assert c.Discount == 0\n",
    "assert c.History == []"
   ]
  },
  {
   "cell_type": "code",
   "execution_count": 21,
   "id": "314083c0-f70c-478c-ab3d-b4b8672eff3d",
   "metadata": {},
   "outputs": [],
   "source": [
    "c = Customer('12345', 0.5)\n",
    "assert c.Id == '12345' and c.Discount == 0.5"
   ]
  },
  {
   "cell_type": "code",
   "execution_count": 22,
   "id": "0f94ef36-9bdc-46f6-b919-7cc706ac5647",
   "metadata": {},
   "outputs": [
    {
     "name": "stdout",
     "output_type": "stream",
     "text": [
      "ID:12345\n",
      "History:\n",
      "\n"
     ]
    }
   ],
   "source": [
    "print(c)"
   ]
  },
  {
   "cell_type": "code",
   "execution_count": 23,
   "id": "72eadede-79c4-4d3a-a1d6-9f5f5cf9d9c4",
   "metadata": {},
   "outputs": [
    {
     "name": "stdout",
     "output_type": "stream",
     "text": [
      "ID:12345\n",
      "History:\n",
      "a\n",
      "b\n",
      "c\n"
     ]
    }
   ],
   "source": [
    "c.History.append('a')\n",
    "c.History.append('b')\n",
    "c.History.append('c')\n",
    "print(c)"
   ]
  },
  {
   "cell_type": "markdown",
   "id": "8f7bc4a2-8923-4842-bd8f-60c574587f5e",
   "metadata": {},
   "source": [
    "### 4.3 (2 балла)"
   ]
  },
  {
   "cell_type": "markdown",
   "id": "decf7406-d15e-4626-9223-c49bf822e43f",
   "metadata": {},
   "source": [
    "Класс `Invoice`\n",
    "\n",
    "Напишите конструктор класса `Invoice`.<br>\n",
    "* При инициализации объекты класса принимают следующие аргументы/создают следующие атрибуты:\n",
    "  * Идентификатор (некоторая строка) (атрибут `Id`);\n",
    "  * Предварительная сумма к оплате без учета скидок (атрибут `RawAmount`);\n",
    "  * Клиент, на чьё имя инвойс (атрибут `Customer`);\n",
    "  * Дополнительная скидка (число от 0 до 1. По умолчанию равно 0.) (атрибут `ExtraDiscount`)<br><br>\n",
    "* Метод `computeAmount`, аргументы не принимаются. Метод суммирует дополнительную скидку и скидку клиента (линейно, т.е. просто плюсует), затем считает итоговый размер инвойса за вычетом скидки и возвращает его (**округлить** до 1 знака после запятой)<br>_(скидка клиента находится в атрибуте `Discount` экземпляра клиента. Экземпляр клиента сохраняется в атрибут `Customer` при инициализации инвойса.);_<br><br>\n",
    "* Метод `__repr__` возвращает строку, где на одной строке через проблем написаны идентификатор инвойса и итоговый размер к оплате после учета всех скидок (т.е. внутри `__repr__` нужно пользоваться методом `computeAmount`)."
   ]
  },
  {
   "cell_type": "markdown",
   "id": "1fdfee90-3a91-4142-b65b-4cc175f6a03a",
   "metadata": {},
   "source": [
    "#### Решение"
   ]
  },
  {
   "cell_type": "code",
   "execution_count": 24,
   "id": "aad3641b-f0c8-46ed-9871-1efc5092efb9",
   "metadata": {},
   "outputs": [],
   "source": []
  },
  {
   "cell_type": "markdown",
   "id": "f58cace6-7cc3-40e5-ba3c-9c836aa46a67",
   "metadata": {},
   "source": [
    "#### Проверки"
   ]
  },
  {
   "cell_type": "code",
   "execution_count": 25,
   "id": "3371266f-cb71-4142-ba3b-3452e277b40d",
   "metadata": {},
   "outputs": [],
   "source": [
    "c = Customer(777)\n",
    "inv = Invoice(123, 100, c)\n",
    "assert inv.Id == 123\n",
    "assert inv.RawAmount == 100\n",
    "assert inv.Customer == c\n",
    "assert inv.ExtraDiscount == 0"
   ]
  },
  {
   "cell_type": "code",
   "execution_count": 26,
   "id": "3799876e-02aa-4024-a385-e94cdb53c29d",
   "metadata": {},
   "outputs": [],
   "source": [
    "inv = Invoice(123, 100, c, 0.10)\n",
    "assert inv.computeAmount() == 90"
   ]
  },
  {
   "cell_type": "code",
   "execution_count": 27,
   "id": "6d01f4e2-be67-4ade-938e-a07c0f9fc448",
   "metadata": {},
   "outputs": [],
   "source": [
    "c = Customer(777, 0.15)\n",
    "inv = Invoice(123, 100, c, 0.10)\n",
    "assert inv.computeAmount() == 75"
   ]
  },
  {
   "cell_type": "code",
   "execution_count": 28,
   "id": "075f3431-85ac-4d0e-80de-73321a31ad5b",
   "metadata": {},
   "outputs": [
    {
     "name": "stdout",
     "output_type": "stream",
     "text": [
      "123 75.0\n"
     ]
    }
   ],
   "source": [
    "print(inv)"
   ]
  },
  {
   "cell_type": "code",
   "execution_count": 29,
   "id": "0ced9ffd-b7f6-48ca-999e-53d51851e3f9",
   "metadata": {},
   "outputs": [
    {
     "name": "stdout",
     "output_type": "stream",
     "text": [
      "ID:777\n",
      "History:\n",
      "1 9.0\n",
      "2 70.0\n",
      "3 400.0\n"
     ]
    }
   ],
   "source": [
    "c = Customer(777, 0.10)\n",
    "\n",
    "inv1 = Invoice(1, 10, c)\n",
    "inv2 = Invoice(2, 100, c, 0.20)\n",
    "inv3 = Invoice(3, 1000, c, 0.50)\n",
    "\n",
    "c.History.append(inv1)\n",
    "c.History.append(inv2)\n",
    "c.History.append(inv3)\n",
    "\n",
    "print(c)"
   ]
  },
  {
   "cell_type": "markdown",
   "id": "5d2c494a-2321-4e6e-9f5b-5779bbd3d831",
   "metadata": {},
   "source": [
    "# B. Работа с табличными данными"
   ]
  },
  {
   "attachments": {},
   "cell_type": "markdown",
   "id": "a9dcbc71-40e6-483b-ae3c-f1e261fdd5de",
   "metadata": {},
   "source": [
    "Сеть точек быстрого питания планирует ввести новую позицию в меню. Для продвижения\u000b",
    "нового блюда были созданы три разные промоушн-кампании. \n",
    "\n",
    "Для определения лучшей кампании точки питания были случайно разбиты на три группы, в каждой группе апробируется своя кампания. Записывается среднее число продаж нового блюда за неделю в каждой точке. Время эксперимента – 4 недели. \n",
    "\n",
    "    index: unique record identifier\n",
    "    MarketID: unique identifier for market\n",
    "    MarketSize: size of market area by sales\n",
    "    LocationID: unique identifier for store location\n",
    "    AgeOfStore: age of store in years    \n",
    "    week: one of four weeks when the promotions were run\n",
    "    SalesInThousands: sales amount for a specific LocationID, Promotion, and week\n",
    "    Promotion: one of three promotions that were tested (в отдельном файле)\n"
   ]
  },
  {
   "cell_type": "code",
   "execution_count": 30,
   "id": "71c26e08-2b6c-4cb6-8e9d-b6f5717640b4",
   "metadata": {
    "tags": []
   },
   "outputs": [],
   "source": [
    "import pandas as pd\n",
    "import numpy as np\n",
    "\n",
    "import seaborn as sns\n",
    "import matplotlib.pyplot as plt"
   ]
  },
  {
   "cell_type": "markdown",
   "id": "2edd7de3-b2c8-455f-b06f-bc0271df7026",
   "metadata": {},
   "source": [
    "## 5.\n",
    "В файле `./Data/partB_main_data.tsv` находится основная информация. В файле `./Data/partB_promotion.tsv` -- информация о том, к какой рекламной кампании относится каждая запись из `partB_main_data.tsv`.\n",
    "\n",
    "* Прочитайте оба;\n",
    "* Соедините датафреймы по колонку `index`;\n",
    "* Добавьте валидацию, что для 1 строки из первого датафрейма была найдена ровно одна строка из второго;\n",
    "* После соединения удалите колонку `index`;\n",
    "* Выведите первые 5 строк конечного датафрейма."
   ]
  },
  {
   "cell_type": "code",
   "execution_count": 31,
   "id": "daefb8b3-1aef-4e45-b21b-4e444da09c98",
   "metadata": {},
   "outputs": [
    {
     "data": {
      "text/html": [
       "<div>\n",
       "<style scoped>\n",
       "    .dataframe tbody tr th:only-of-type {\n",
       "        vertical-align: middle;\n",
       "    }\n",
       "\n",
       "    .dataframe tbody tr th {\n",
       "        vertical-align: top;\n",
       "    }\n",
       "\n",
       "    .dataframe thead th {\n",
       "        text-align: right;\n",
       "    }\n",
       "</style>\n",
       "<table border=\"1\" class=\"dataframe\">\n",
       "  <thead>\n",
       "    <tr style=\"text-align: right;\">\n",
       "      <th></th>\n",
       "      <th>MarketID</th>\n",
       "      <th>MarketSize</th>\n",
       "      <th>LocationID</th>\n",
       "      <th>AgeOfStore</th>\n",
       "      <th>week</th>\n",
       "      <th>SalesInThousands</th>\n",
       "      <th>Promotion</th>\n",
       "    </tr>\n",
       "  </thead>\n",
       "  <tbody>\n",
       "    <tr>\n",
       "      <th>0</th>\n",
       "      <td>1</td>\n",
       "      <td>Medium</td>\n",
       "      <td>1</td>\n",
       "      <td>4</td>\n",
       "      <td>1</td>\n",
       "      <td>33.73</td>\n",
       "      <td>3</td>\n",
       "    </tr>\n",
       "    <tr>\n",
       "      <th>1</th>\n",
       "      <td>1</td>\n",
       "      <td>Medium</td>\n",
       "      <td>1</td>\n",
       "      <td>4</td>\n",
       "      <td>2</td>\n",
       "      <td>35.67</td>\n",
       "      <td>3</td>\n",
       "    </tr>\n",
       "    <tr>\n",
       "      <th>2</th>\n",
       "      <td>1</td>\n",
       "      <td>Medium</td>\n",
       "      <td>1</td>\n",
       "      <td>4</td>\n",
       "      <td>3</td>\n",
       "      <td>29.03</td>\n",
       "      <td>3</td>\n",
       "    </tr>\n",
       "    <tr>\n",
       "      <th>3</th>\n",
       "      <td>1</td>\n",
       "      <td>Medium</td>\n",
       "      <td>1</td>\n",
       "      <td>4</td>\n",
       "      <td>4</td>\n",
       "      <td>39.25</td>\n",
       "      <td>3</td>\n",
       "    </tr>\n",
       "    <tr>\n",
       "      <th>4</th>\n",
       "      <td>1</td>\n",
       "      <td>Medium</td>\n",
       "      <td>2</td>\n",
       "      <td>5</td>\n",
       "      <td>1</td>\n",
       "      <td>27.81</td>\n",
       "      <td>2</td>\n",
       "    </tr>\n",
       "  </tbody>\n",
       "</table>\n",
       "</div>"
      ],
      "text/plain": [
       "   MarketID MarketSize  LocationID  AgeOfStore  week  SalesInThousands  \\\n",
       "0         1     Medium           1           4     1             33.73   \n",
       "1         1     Medium           1           4     2             35.67   \n",
       "2         1     Medium           1           4     3             29.03   \n",
       "3         1     Medium           1           4     4             39.25   \n",
       "4         1     Medium           2           5     1             27.81   \n",
       "\n",
       "   Promotion  \n",
       "0          3  \n",
       "1          3  \n",
       "2          3  \n",
       "3          3  \n",
       "4          2  "
      ]
     },
     "execution_count": 31,
     "metadata": {},
     "output_type": "execute_result"
    }
   ],
   "source": []
  },
  {
   "cell_type": "markdown",
   "id": "e237a27e-51d0-41a4-a7b6-21c4b56220c5",
   "metadata": {},
   "source": [
    "## 6.\n",
    "Для колонки`SalesInThousands` посчитайте медиану, разницу квантиля 0.9 и 0.1, стандартное отклонение. Округлите каждое значение до 2 знаков после запятой.\n",
    "\n",
    "(**+1 балл** за подсчет всех статистик за строку кода (т.е. за одну команду))"
   ]
  },
  {
   "cell_type": "code",
   "execution_count": 32,
   "id": "d6b5e336-c6b7-494d-8aaa-b413d575eef5",
   "metadata": {},
   "outputs": [
    {
     "data": {
      "text/plain": [
       "Медиана        50.20\n",
       "Размах         46.85\n",
       "СтандОтклон    16.76\n",
       "Name: SalesInThousands, dtype: float64"
      ]
     },
     "execution_count": 32,
     "metadata": {},
     "output_type": "execute_result"
    }
   ],
   "source": []
  },
  {
   "cell_type": "markdown",
   "id": "25d14e5a-1983-4d13-9676-5a872051f3f3",
   "metadata": {},
   "source": [
    "## 7.\n",
    "Посчитайте число строчек в датафрейме для каждого Promotion. Перевиде значения в проценты (в долях единицы). Округлите ответ до 3 знака после запятой."
   ]
  },
  {
   "cell_type": "code",
   "execution_count": 33,
   "id": "938ecf73-1fc0-4ed5-9703-2a93a072d17d",
   "metadata": {},
   "outputs": [
    {
     "data": {
      "text/plain": [
       "Promotion\n",
       "3    0.343\n",
       "2    0.343\n",
       "1    0.314\n",
       "Name: proportion, dtype: float64"
      ]
     },
     "execution_count": 33,
     "metadata": {},
     "output_type": "execute_result"
    }
   ],
   "source": []
  },
  {
   "cell_type": "markdown",
   "id": "80538b13-bd38-4a3c-86d7-23215480f67e",
   "metadata": {},
   "source": [
    "## 8.\n",
    "Для группы по `MarketSize` посчитайте средний возраст магазинов (`AgeOfStore`). Ответ округлите до 1 знака после запятой."
   ]
  },
  {
   "cell_type": "code",
   "execution_count": 34,
   "id": "de7a6847-e367-4db5-8e58-9503d2eca0e2",
   "metadata": {},
   "outputs": [
    {
     "data": {
      "text/plain": [
       "MarketSize\n",
       "Large      7.1\n",
       "Medium     8.8\n",
       "Small     10.8\n",
       "Name: AgeOfStore, dtype: float64"
      ]
     },
     "execution_count": 34,
     "metadata": {},
     "output_type": "execute_result"
    }
   ],
   "source": []
  },
  {
   "cell_type": "markdown",
   "id": "1c8da2c4-1762-4b0d-b40b-92e617b88fb3",
   "metadata": {},
   "source": [
    "## 9.\n",
    "Для каждой группы по `Promotion` посчитайте следующие описательные статистики:<br>\n",
    "* Для столбца `AgeOfStore` посчитайте среднее;\n",
    "* Для столбца `SalesInThousands` посчитайте среднее, разницу между минимальным и максимальным значением;\n",
    "* Все значения округлите до 2 знаков после запятой.\n",
    "\n",
    "(+1 балл за подсчет всех статистик за строку кода (т.е. за одну команду))"
   ]
  },
  {
   "cell_type": "code",
   "execution_count": 35,
   "id": "ff381121-8314-4859-a966-9f58036de44f",
   "metadata": {},
   "outputs": [
    {
     "data": {
      "text/html": [
       "<div>\n",
       "<style scoped>\n",
       "    .dataframe tbody tr th:only-of-type {\n",
       "        vertical-align: middle;\n",
       "    }\n",
       "\n",
       "    .dataframe tbody tr th {\n",
       "        vertical-align: top;\n",
       "    }\n",
       "\n",
       "    .dataframe thead tr th {\n",
       "        text-align: left;\n",
       "    }\n",
       "\n",
       "    .dataframe thead tr:last-of-type th {\n",
       "        text-align: right;\n",
       "    }\n",
       "</style>\n",
       "<table border=\"1\" class=\"dataframe\">\n",
       "  <thead>\n",
       "    <tr>\n",
       "      <th></th>\n",
       "      <th>AgeOfStore</th>\n",
       "      <th colspan=\"2\" halign=\"left\">SalesInThousands</th>\n",
       "    </tr>\n",
       "    <tr>\n",
       "      <th></th>\n",
       "      <th>mean</th>\n",
       "      <th>mean</th>\n",
       "      <th>Размах</th>\n",
       "    </tr>\n",
       "    <tr>\n",
       "      <th>Promotion</th>\n",
       "      <th></th>\n",
       "      <th></th>\n",
       "      <th></th>\n",
       "    </tr>\n",
       "  </thead>\n",
       "  <tbody>\n",
       "    <tr>\n",
       "      <th>1</th>\n",
       "      <td>8.28</td>\n",
       "      <td>58.10</td>\n",
       "      <td>68.84</td>\n",
       "    </tr>\n",
       "    <tr>\n",
       "      <th>2</th>\n",
       "      <td>7.98</td>\n",
       "      <td>47.33</td>\n",
       "      <td>71.30</td>\n",
       "    </tr>\n",
       "    <tr>\n",
       "      <th>3</th>\n",
       "      <td>9.23</td>\n",
       "      <td>55.36</td>\n",
       "      <td>74.30</td>\n",
       "    </tr>\n",
       "  </tbody>\n",
       "</table>\n",
       "</div>"
      ],
      "text/plain": [
       "          AgeOfStore SalesInThousands       \n",
       "                mean             mean Размах\n",
       "Promotion                                   \n",
       "1               8.28            58.10  68.84\n",
       "2               7.98            47.33  71.30\n",
       "3               9.23            55.36  74.30"
      ]
     },
     "execution_count": 35,
     "metadata": {},
     "output_type": "execute_result"
    }
   ],
   "source": []
  },
  {
   "cell_type": "markdown",
   "id": "4d2a023b-1947-45d5-9bae-81105fb10c8f",
   "metadata": {},
   "source": [
    "## 10. (2 балла)\n",
    "Определите топ-3 `MarketID` по среднему среднему значению `SalesInThousands` в рамках каждой группы по `Promotion`."
   ]
  },
  {
   "cell_type": "code",
   "execution_count": 36,
   "id": "b76bbac6-888a-4eba-a8ed-129842d7a8fd",
   "metadata": {},
   "outputs": [
    {
     "data": {
      "text/html": [
       "<div>\n",
       "<style scoped>\n",
       "    .dataframe tbody tr th:only-of-type {\n",
       "        vertical-align: middle;\n",
       "    }\n",
       "\n",
       "    .dataframe tbody tr th {\n",
       "        vertical-align: top;\n",
       "    }\n",
       "\n",
       "    .dataframe thead th {\n",
       "        text-align: right;\n",
       "    }\n",
       "</style>\n",
       "<table border=\"1\" class=\"dataframe\">\n",
       "  <thead>\n",
       "    <tr style=\"text-align: right;\">\n",
       "      <th></th>\n",
       "      <th>Promotion</th>\n",
       "      <th>MarketID</th>\n",
       "      <th>SalesInThousands</th>\n",
       "      <th>Rank</th>\n",
       "    </tr>\n",
       "  </thead>\n",
       "  <tbody>\n",
       "    <tr>\n",
       "      <th>0</th>\n",
       "      <td>1</td>\n",
       "      <td>3</td>\n",
       "      <td>89.647143</td>\n",
       "      <td>1.0</td>\n",
       "    </tr>\n",
       "    <tr>\n",
       "      <th>1</th>\n",
       "      <td>1</td>\n",
       "      <td>2</td>\n",
       "      <td>65.600000</td>\n",
       "      <td>2.0</td>\n",
       "    </tr>\n",
       "    <tr>\n",
       "      <th>2</th>\n",
       "      <td>1</td>\n",
       "      <td>10</td>\n",
       "      <td>60.824643</td>\n",
       "      <td>3.0</td>\n",
       "    </tr>\n",
       "    <tr>\n",
       "      <th>3</th>\n",
       "      <td>2</td>\n",
       "      <td>3</td>\n",
       "      <td>79.592083</td>\n",
       "      <td>1.0</td>\n",
       "    </tr>\n",
       "    <tr>\n",
       "      <th>4</th>\n",
       "      <td>2</td>\n",
       "      <td>4</td>\n",
       "      <td>50.810625</td>\n",
       "      <td>2.0</td>\n",
       "    </tr>\n",
       "    <tr>\n",
       "      <th>5</th>\n",
       "      <td>2</td>\n",
       "      <td>9</td>\n",
       "      <td>49.982500</td>\n",
       "      <td>3.0</td>\n",
       "    </tr>\n",
       "    <tr>\n",
       "      <th>6</th>\n",
       "      <td>3</td>\n",
       "      <td>3</td>\n",
       "      <td>84.921667</td>\n",
       "      <td>1.0</td>\n",
       "    </tr>\n",
       "    <tr>\n",
       "      <th>7</th>\n",
       "      <td>3</td>\n",
       "      <td>2</td>\n",
       "      <td>60.993500</td>\n",
       "      <td>2.0</td>\n",
       "    </tr>\n",
       "    <tr>\n",
       "      <th>8</th>\n",
       "      <td>3</td>\n",
       "      <td>10</td>\n",
       "      <td>54.050833</td>\n",
       "      <td>3.0</td>\n",
       "    </tr>\n",
       "  </tbody>\n",
       "</table>\n",
       "</div>"
      ],
      "text/plain": [
       "   Promotion  MarketID  SalesInThousands  Rank\n",
       "0          1         3         89.647143   1.0\n",
       "1          1         2         65.600000   2.0\n",
       "2          1        10         60.824643   3.0\n",
       "3          2         3         79.592083   1.0\n",
       "4          2         4         50.810625   2.0\n",
       "5          2         9         49.982500   3.0\n",
       "6          3         3         84.921667   1.0\n",
       "7          3         2         60.993500   2.0\n",
       "8          3        10         54.050833   3.0"
      ]
     },
     "execution_count": 36,
     "metadata": {},
     "output_type": "execute_result"
    }
   ],
   "source": []
  },
  {
   "cell_type": "markdown",
   "id": "af7ae5df-7cc6-4a19-a816-b903eeb50f8d",
   "metadata": {},
   "source": [
    "## 11. "
   ]
  },
  {
   "cell_type": "markdown",
   "id": "b8849846-9933-4b26-89f0-b859a9b9ab42",
   "metadata": {},
   "source": [
    "### 11.1 \n",
    "Нарисуйте распределение магазинов по возрасту магазинма (гистограмму)."
   ]
  },
  {
   "cell_type": "code",
   "execution_count": 37,
   "id": "619033d9-ebaf-42bc-b2f9-a04bdd4c9e99",
   "metadata": {},
   "outputs": [
    {
     "data": {
      "image/png": "[encoded data removed]",
      "text/plain": [
       "<Figure size 640x480 with 1 Axes>"
      ]
     },
     "metadata": {},
     "output_type": "display_data"
    }
   ],
   "source": []
  },
  {
   "cell_type": "markdown",
   "id": "76fdb193-276d-4be7-878f-350eafd3664d",
   "metadata": {},
   "source": [
    "### 11.2 \n",
    "Добавьте раскраску по тиму Promotion. Сделайте так, чтобы столбцы разных рекламных кампаний располагались друг на друге (см. пример ответа)."
   ]
  },
  {
   "cell_type": "code",
   "execution_count": 38,
   "id": "816bc326-91a8-49e4-85ef-69449b178d5f",
   "metadata": {},
   "outputs": [
    {
     "data": {
      "image/png": "[encoded data removed]",
      "text/plain": [
       "<Figure size 640x480 with 1 Axes>"
      ]
     },
     "metadata": {},
     "output_type": "display_data"
    }
   ],
   "source": []
  },
  {
   "cell_type": "markdown",
   "id": "4352b355-05a4-42dd-83e7-135ccc3a8d44",
   "metadata": {},
   "source": [
    "## 12.\n",
    "Нарисуйте динамику изменения среднего значения `SalesInThousands` по неделям для каждого Promotion. Воспользуйтесь функцией `seaborn.lineplot`. Установите значение аргумента `errobar='se'`."
   ]
  },
  {
   "cell_type": "code",
   "execution_count": 39,
   "id": "db42a069-f4a9-4472-90c0-0caffe777f0b",
   "metadata": {},
   "outputs": [
    {
     "data": {
      "text/plain": [
       "<Axes: xlabel='week', ylabel='SalesInThousands'>"
      ]
     },
     "execution_count": 39,
     "metadata": {},
     "output_type": "execute_result"
    },
    {
     "data": {
      "image/png": "[encoded data removed]",
      "text/plain": [
       "<Figure size 640x480 with 1 Axes>"
      ]
     },
     "metadata": {},
     "output_type": "display_data"
    }
   ],
   "source": []
  },
  {
   "cell_type": "markdown",
   "id": "6b99b962-33ff-498d-bf7f-ee85f55ab366",
   "metadata": {},
   "source": [
    "## 13.\n",
    "    Нарисуйте боксплот для `SalesInThousands` отдельно для каждого MartetSize. Добавьте разбиени по Promotion. Установите порядок размеров рынка (`order`): Small, Medium, Large."
   ]
  },
  {
   "cell_type": "code",
   "execution_count": 40,
   "id": "f0084ca6-bfab-4994-920b-29540f2f01c3",
   "metadata": {},
   "outputs": [
    {
     "data": {
      "text/plain": [
       "<Axes: xlabel='MarketSize', ylabel='SalesInThousands'>"
      ]
     },
     "execution_count": 40,
     "metadata": {},
     "output_type": "execute_result"
    },
    {
     "data": {
      "image/png": "[encoded data removed]",
      "text/plain": [
       "<Figure size 640x480 with 1 Axes>"
      ]
     },
     "metadata": {},
     "output_type": "display_data"
    }
   ],
   "source": []
  },
  {
   "cell_type": "markdown",
   "id": "c82ec8d4-8fdb-4517-8b90-ab42b1e97796",
   "metadata": {},
   "source": [
    "## 14."
   ]
  },
  {
   "cell_type": "markdown",
   "id": "6209392c-caed-4e06-8d71-b67f2927058f",
   "metadata": {},
   "source": [
    "### 14.1\n",
    "Создайте сводную таблицу, где колонки -- `Promotion`, индексы -- `MarketID`, пересечение -- среднее значение для `SalesInThousands` (воспользуйтесь функцией `pivot_table`)."
   ]
  },
  {
   "cell_type": "code",
   "execution_count": 41,
   "id": "32187da4-9b50-4f71-92b5-f94f6ac7e018",
   "metadata": {},
   "outputs": [
    {
     "data": {
      "text/html": [
       "<div>\n",
       "<style scoped>\n",
       "    .dataframe tbody tr th:only-of-type {\n",
       "        vertical-align: middle;\n",
       "    }\n",
       "\n",
       "    .dataframe tbody tr th {\n",
       "        vertical-align: top;\n",
       "    }\n",
       "\n",
       "    .dataframe thead th {\n",
       "        text-align: right;\n",
       "    }\n",
       "</style>\n",
       "<table border=\"1\" class=\"dataframe\">\n",
       "  <thead>\n",
       "    <tr style=\"text-align: right;\">\n",
       "      <th>Promotion</th>\n",
       "      <th>1</th>\n",
       "      <th>2</th>\n",
       "      <th>3</th>\n",
       "    </tr>\n",
       "    <tr>\n",
       "      <th>MarketID</th>\n",
       "      <th></th>\n",
       "      <th></th>\n",
       "      <th></th>\n",
       "    </tr>\n",
       "  </thead>\n",
       "  <tbody>\n",
       "    <tr>\n",
       "      <th>1</th>\n",
       "      <td>40.7</td>\n",
       "      <td>30.2</td>\n",
       "      <td>34.0</td>\n",
       "    </tr>\n",
       "    <tr>\n",
       "      <th>2</th>\n",
       "      <td>65.6</td>\n",
       "      <td>NaN</td>\n",
       "      <td>61.0</td>\n",
       "    </tr>\n",
       "    <tr>\n",
       "      <th>3</th>\n",
       "      <td>89.6</td>\n",
       "      <td>79.6</td>\n",
       "      <td>84.9</td>\n",
       "    </tr>\n",
       "    <tr>\n",
       "      <th>4</th>\n",
       "      <td>58.8</td>\n",
       "      <td>50.8</td>\n",
       "      <td>52.1</td>\n",
       "    </tr>\n",
       "    <tr>\n",
       "      <th>5</th>\n",
       "      <td>55.5</td>\n",
       "      <td>45.9</td>\n",
       "      <td>50.8</td>\n",
       "    </tr>\n",
       "    <tr>\n",
       "      <th>6</th>\n",
       "      <td>40.7</td>\n",
       "      <td>32.6</td>\n",
       "      <td>36.8</td>\n",
       "    </tr>\n",
       "    <tr>\n",
       "      <th>7</th>\n",
       "      <td>50.1</td>\n",
       "      <td>39.4</td>\n",
       "      <td>44.2</td>\n",
       "    </tr>\n",
       "    <tr>\n",
       "      <th>8</th>\n",
       "      <td>51.1</td>\n",
       "      <td>42.5</td>\n",
       "      <td>49.3</td>\n",
       "    </tr>\n",
       "    <tr>\n",
       "      <th>9</th>\n",
       "      <td>56.7</td>\n",
       "      <td>50.0</td>\n",
       "      <td>51.9</td>\n",
       "    </tr>\n",
       "    <tr>\n",
       "      <th>10</th>\n",
       "      <td>60.8</td>\n",
       "      <td>48.8</td>\n",
       "      <td>54.1</td>\n",
       "    </tr>\n",
       "  </tbody>\n",
       "</table>\n",
       "</div>"
      ],
      "text/plain": [
       "Promotion     1     2     3\n",
       "MarketID                   \n",
       "1          40.7  30.2  34.0\n",
       "2          65.6   NaN  61.0\n",
       "3          89.6  79.6  84.9\n",
       "4          58.8  50.8  52.1\n",
       "5          55.5  45.9  50.8\n",
       "6          40.7  32.6  36.8\n",
       "7          50.1  39.4  44.2\n",
       "8          51.1  42.5  49.3\n",
       "9          56.7  50.0  51.9\n",
       "10         60.8  48.8  54.1"
      ]
     },
     "execution_count": 41,
     "metadata": {},
     "output_type": "execute_result"
    }
   ],
   "source": []
  },
  {
   "cell_type": "markdown",
   "id": "cd22e96a-2f34-413b-ba91-ad2be8169936",
   "metadata": {},
   "source": [
    "### 14.1\n",
    "Для каждого столбца (каждого Promotion) посчитайте в скольки MarketID средний размер продаж в тысячах был больше 50."
   ]
  },
  {
   "cell_type": "code",
   "execution_count": 42,
   "id": "6ccf81a5-c263-4550-b462-91f8c63600cc",
   "metadata": {},
   "outputs": [
    {
     "data": {
      "text/plain": [
       "Promotion\n",
       "1    8\n",
       "2    2\n",
       "3    6\n",
       "dtype: int64"
      ]
     },
     "execution_count": 42,
     "metadata": {},
     "output_type": "execute_result"
    }
   ],
   "source": []
  },
  {
   "cell_type": "markdown",
   "id": "64c38e59-aabb-4f66-b571-823b63b260ff",
   "metadata": {},
   "source": [
    "## C. Классическое машинное обучение\n",
    "В этой части мы продолжим работать с предыдущим датасетом.  \n",
    "Прочитать его заново из файла `WA_Marketing-Campaign.csv` (разделитель запятая). Там данные уже соединены."
   ]
  },
  {
   "cell_type": "code",
   "execution_count": 43,
   "id": "d62c603f-e7cb-4eac-823a-0d73345d3b02",
   "metadata": {
    "tags": []
   },
   "outputs": [],
   "source": [
    "dfML = pd.read_csv('./Data/WA_Marketing-Campaign.csv', sep=',', encoding='utf8')"
   ]
  },
  {
   "cell_type": "markdown",
   "id": "d3d1dc0c-0faa-435f-90a4-ce668998b893",
   "metadata": {},
   "source": [
    "## 15.\n",
    "Попробуем предсказать тип Promotion.\n"
   ]
  },
  {
   "cell_type": "markdown",
   "id": "e2ae6d79-7afc-41d4-8cd2-32af6fb3b3aa",
   "metadata": {},
   "source": [
    "### 15.1 (5 баллов)\n",
    "* Удалите столбец `LocationID`, так как в нём слишком много категорией;\n",
    "* Сконвертируйте категориальные колонки в тип `\"category\"`;\n",
    "* Закодируйте категориальные столбцы с помощью one-hot encoding (не забудьте про мультиколлинеарность. не допустите её здесь) (колонку `week` считайте категориальной);\n",
    "* Разделите данные на трейн и тест. В качестве целевой переменной используйте Promotion.\n",
    "25% данных выделите в тест. Установите сид для воспроизводимсоит 17022024.\n",
    "* Проведите стандартизацию признаков (иначе как мы сравним эффекты, если все признаки в разном масштабе);\n",
    "* Обучите модель логистической регрессии без регуляризации с параметрами по-умолчанию для предсказания типа рекламной кампании;\n",
    "* Получите предсказания меток класса;\n",
    "* Так как в данных нет дисбаланса классов, можно просто посчитать точность прогнозов. Посчитайте accuracy."
   ]
  },
  {
   "cell_type": "code",
   "execution_count": 44,
   "id": "45293c2e-f3a0-4b4d-bdf9-e5375cd24fec",
   "metadata": {},
   "outputs": [],
   "source": [
    "# запустите эту ячейку, что scaler не убирал названия колонок\n",
    "from sklearn import set_config\n",
    "set_config(transform_output='pandas')  "
   ]
  },
  {
   "cell_type": "code",
   "execution_count": null,
   "id": "ba92f367-bf0d-4971-98b7-e2cbe98490b3",
   "metadata": {},
   "outputs": [],
   "source": []
  },
  {
   "cell_type": "code",
   "execution_count": 52,
   "id": "2b7a13bb-b512-4777-b2aa-991aab7df4ee",
   "metadata": {},
   "outputs": [
    {
     "name": "stdout",
     "output_type": "stream",
     "text": [
      "Accuracy: 0.599\n"
     ]
    }
   ],
   "source": []
  },
  {
   "cell_type": "markdown",
   "id": "acfa1c40-bc1e-4d64-b084-97b87be89123",
   "metadata": {},
   "source": [
    "## 15.2 (2 балла)\n",
    "* На тех же данных бля трейна и тест обучение модель k-ближайших соседей с параметрами по умолчанию;\n",
    "* Получите предсказания и посчитайте точность прогнозов."
   ]
  },
  {
   "cell_type": "code",
   "execution_count": 53,
   "id": "97354440-f655-4c3b-99f2-80ed2b9bfb87",
   "metadata": {},
   "outputs": [],
   "source": []
  },
  {
   "cell_type": "code",
   "execution_count": 54,
   "id": "3dd3e4bf-18af-43db-95c1-6e817cd25aac",
   "metadata": {},
   "outputs": [
    {
     "name": "stdout",
     "output_type": "stream",
     "text": [
      "Accuracy: 0.409\n"
     ]
    }
   ],
   "source": []
  },
  {
   "cell_type": "markdown",
   "id": "d857d883-73fd-4d54-bc74-a1b06deb18d7",
   "metadata": {},
   "source": [
    "## 15.3 (3 балла)\n",
    "Для модели k-ближайших соседей определите оптимальные гиперпараметры.\n",
    "Переберите следующие значения:\n",
    "* Число соседей от 3 до 50 (включительно) с шагом 2;\n",
    "* Равнозначный вклад соседей и пропорциональный расстоянию до точки (параметр `weights`);\n",
    "* Способы посчитать расстояние: `\"euclidean\"`, `\"manhattan\"` (параметр `metric`).\n",
    "<br><br>\n",
    "* Подебрите лучшую модель с помощью кросс-валидации на 5 фолдах на трейне (GridSearhCV).\n",
    "* После определения лучше модели (она находите в атрибуте `best_estimator_`) получите её предсказания на тесте и посчитайте точность."
   ]
  },
  {
   "cell_type": "code",
   "execution_count": 55,
   "id": "1c5bfa9d-e2e5-4a4e-a211-c73e0d891252",
   "metadata": {},
   "outputs": [
    {
     "data": {
      "text/html": [
       "<style>#sk-container-id-1 {\n",
       "  /* Definition of color scheme common for light and dark mode */\n",
       "  --sklearn-color-text: black;\n",
       "  --sklearn-color-line: gray;\n",
       "  /* Definition of color scheme for unfitted estimators */\n",
       "  --sklearn-color-unfitted-level-0: #fff5e6;\n",
       "  --sklearn-color-unfitted-level-1: #f6e4d2;\n",
       "  --sklearn-color-unfitted-level-2: #ffe0b3;\n",
       "  --sklearn-color-unfitted-level-3: chocolate;\n",
       "  /* Definition of color scheme for fitted estimators */\n",
       "  --sklearn-color-fitted-level-0: #f0f8ff;\n",
       "  --sklearn-color-fitted-level-1: #d4ebff;\n",
       "  --sklearn-color-fitted-level-2: #b3dbfd;\n",
       "  --sklearn-color-fitted-level-3: cornflowerblue;\n",
       "\n",
       "  /* Specific color for light theme */\n",
       "  --sklearn-color-text-on-default-background: var(--sg-text-color, var(--theme-code-foreground, var(--jp-content-font-color1, black)));\n",
       "  --sklearn-color-background: var(--sg-background-color, var(--theme-background, var(--jp-layout-color0, white)));\n",
       "  --sklearn-color-border-box: var(--sg-text-color, var(--theme-code-foreground, var(--jp-content-font-color1, black)));\n",
       "  --sklearn-color-icon: #696969;\n",
       "\n",
       "  @media (prefers-color-scheme: dark) {\n",
       "    /* Redefinition of color scheme for dark theme */\n",
       "    --sklearn-color-text-on-default-background: var(--sg-text-color, var(--theme-code-foreground, var(--jp-content-font-color1, white)));\n",
       "    --sklearn-color-background: var(--sg-background-color, var(--theme-background, var(--jp-layout-color0, #111)));\n",
       "    --sklearn-color-border-box: var(--sg-text-color, var(--theme-code-foreground, var(--jp-content-font-color1, white)));\n",
       "    --sklearn-color-icon: #878787;\n",
       "  }\n",
       "}\n",
       "\n",
       "#sk-container-id-1 {\n",
       "  color: var(--sklearn-color-text);\n",
       "}\n",
       "\n",
       "#sk-container-id-1 pre {\n",
       "  padding: 0;\n",
       "}\n",
       "\n",
       "#sk-container-id-1 input.sk-hidden--visually {\n",
       "  border: 0;\n",
       "  clip: rect(1px 1px 1px 1px);\n",
       "  clip: rect(1px, 1px, 1px, 1px);\n",
       "  height: 1px;\n",
       "  margin: -1px;\n",
       "  overflow: hidden;\n",
       "  padding: 0;\n",
       "  position: absolute;\n",
       "  width: 1px;\n",
       "}\n",
       "\n",
       "#sk-container-id-1 div.sk-dashed-wrapped {\n",
       "  border: 1px dashed var(--sklearn-color-line);\n",
       "  margin: 0 0.4em 0.5em 0.4em;\n",
       "  box-sizing: border-box;\n",
       "  padding-bottom: 0.4em;\n",
       "  background-color: var(--sklearn-color-background);\n",
       "}\n",
       "\n",
       "#sk-container-id-1 div.sk-container {\n",
       "  /* jupyter's `normalize.less` sets `[hidden] { display: none; }`\n",
       "     but bootstrap.min.css set `[hidden] { display: none !important; }`\n",
       "     so we also need the `!important` here to be able to override the\n",
       "     default hidden behavior on the sphinx rendered scikit-learn.org.\n",
       "     See: https://github.com/scikit-learn/scikit-learn/issues/21755 */\n",
       "  display: inline-block !important;\n",
       "  position: relative;\n",
       "}\n",
       "\n",
       "#sk-container-id-1 div.sk-text-repr-fallback {\n",
       "  display: none;\n",
       "}\n",
       "\n",
       "div.sk-parallel-item,\n",
       "div.sk-serial,\n",
       "div.sk-item {\n",
       "  /* draw centered vertical line to link estimators */\n",
       "  background-image: linear-gradient(var(--sklearn-color-text-on-default-background), var(--sklearn-color-text-on-default-background));\n",
       "  background-size: 2px 100%;\n",
       "  background-repeat: no-repeat;\n",
       "  background-position: center center;\n",
       "}\n",
       "\n",
       "/* Parallel-specific style estimator block */\n",
       "\n",
       "#sk-container-id-1 div.sk-parallel-item::after {\n",
       "  content: \"\";\n",
       "  width: 100%;\n",
       "  border-bottom: 2px solid var(--sklearn-color-text-on-default-background);\n",
       "  flex-grow: 1;\n",
       "}\n",
       "\n",
       "#sk-container-id-1 div.sk-parallel {\n",
       "  display: flex;\n",
       "  align-items: stretch;\n",
       "  justify-content: center;\n",
       "  background-color: var(--sklearn-color-background);\n",
       "  position: relative;\n",
       "}\n",
       "\n",
       "#sk-container-id-1 div.sk-parallel-item {\n",
       "  display: flex;\n",
       "  flex-direction: column;\n",
       "}\n",
       "\n",
       "#sk-container-id-1 div.sk-parallel-item:first-child::after {\n",
       "  align-self: flex-end;\n",
       "  width: 50%;\n",
       "}\n",
       "\n",
       "#sk-container-id-1 div.sk-parallel-item:last-child::after {\n",
       "  align-self: flex-start;\n",
       "  width: 50%;\n",
       "}\n",
       "\n",
       "#sk-container-id-1 div.sk-parallel-item:only-child::after {\n",
       "  width: 0;\n",
       "}\n",
       "\n",
       "/* Serial-specific style estimator block */\n",
       "\n",
       "#sk-container-id-1 div.sk-serial {\n",
       "  display: flex;\n",
       "  flex-direction: column;\n",
       "  align-items: center;\n",
       "  background-color: var(--sklearn-color-background);\n",
       "  padding-right: 1em;\n",
       "  padding-left: 1em;\n",
       "}\n",
       "\n",
       "\n",
       "/* Toggleable style: style used for estimator/Pipeline/ColumnTransformer box that is\n",
       "clickable and can be expanded/collapsed.\n",
       "- Pipeline and ColumnTransformer use this feature and define the default style\n",
       "- Estimators will overwrite some part of the style using the `sk-estimator` class\n",
       "*/\n",
       "\n",
       "/* Pipeline and ColumnTransformer style (default) */\n",
       "\n",
       "#sk-container-id-1 div.sk-toggleable {\n",
       "  /* Default theme specific background. It is overwritten whether we have a\n",
       "  specific estimator or a Pipeline/ColumnTransformer */\n",
       "  background-color: var(--sklearn-color-background);\n",
       "}\n",
       "\n",
       "/* Toggleable label */\n",
       "#sk-container-id-1 label.sk-toggleable__label {\n",
       "  cursor: pointer;\n",
       "  display: block;\n",
       "  width: 100%;\n",
       "  margin-bottom: 0;\n",
       "  padding: 0.5em;\n",
       "  box-sizing: border-box;\n",
       "  text-align: center;\n",
       "}\n",
       "\n",
       "#sk-container-id-1 label.sk-toggleable__label-arrow:before {\n",
       "  /* Arrow on the left of the label */\n",
       "  content: \"▸\";\n",
       "  float: left;\n",
       "  margin-right: 0.25em;\n",
       "  color: var(--sklearn-color-icon);\n",
       "}\n",
       "\n",
       "#sk-container-id-1 label.sk-toggleable__label-arrow:hover:before {\n",
       "  color: var(--sklearn-color-text);\n",
       "}\n",
       "\n",
       "/* Toggleable content - dropdown */\n",
       "\n",
       "#sk-container-id-1 div.sk-toggleable__content {\n",
       "  max-height: 0;\n",
       "  max-width: 0;\n",
       "  overflow: hidden;\n",
       "  text-align: left;\n",
       "  /* unfitted */\n",
       "  background-color: var(--sklearn-color-unfitted-level-0);\n",
       "}\n",
       "\n",
       "#sk-container-id-1 div.sk-toggleable__content.fitted {\n",
       "  /* fitted */\n",
       "  background-color: var(--sklearn-color-fitted-level-0);\n",
       "}\n",
       "\n",
       "#sk-container-id-1 div.sk-toggleable__content pre {\n",
       "  margin: 0.2em;\n",
       "  border-radius: 0.25em;\n",
       "  color: var(--sklearn-color-text);\n",
       "  /* unfitted */\n",
       "  background-color: var(--sklearn-color-unfitted-level-0);\n",
       "}\n",
       "\n",
       "#sk-container-id-1 div.sk-toggleable__content.fitted pre {\n",
       "  /* unfitted */\n",
       "  background-color: var(--sklearn-color-fitted-level-0);\n",
       "}\n",
       "\n",
       "#sk-container-id-1 input.sk-toggleable__control:checked~div.sk-toggleable__content {\n",
       "  /* Expand drop-down */\n",
       "  max-height: 200px;\n",
       "  max-width: 100%;\n",
       "  overflow: auto;\n",
       "}\n",
       "\n",
       "#sk-container-id-1 input.sk-toggleable__control:checked~label.sk-toggleable__label-arrow:before {\n",
       "  content: \"▾\";\n",
       "}\n",
       "\n",
       "/* Pipeline/ColumnTransformer-specific style */\n",
       "\n",
       "#sk-container-id-1 div.sk-label input.sk-toggleable__control:checked~label.sk-toggleable__label {\n",
       "  color: var(--sklearn-color-text);\n",
       "  background-color: var(--sklearn-color-unfitted-level-2);\n",
       "}\n",
       "\n",
       "#sk-container-id-1 div.sk-label.fitted input.sk-toggleable__control:checked~label.sk-toggleable__label {\n",
       "  background-color: var(--sklearn-color-fitted-level-2);\n",
       "}\n",
       "\n",
       "/* Estimator-specific style */\n",
       "\n",
       "/* Colorize estimator box */\n",
       "#sk-container-id-1 div.sk-estimator input.sk-toggleable__control:checked~label.sk-toggleable__label {\n",
       "  /* unfitted */\n",
       "  background-color: var(--sklearn-color-unfitted-level-2);\n",
       "}\n",
       "\n",
       "#sk-container-id-1 div.sk-estimator.fitted input.sk-toggleable__control:checked~label.sk-toggleable__label {\n",
       "  /* fitted */\n",
       "  background-color: var(--sklearn-color-fitted-level-2);\n",
       "}\n",
       "\n",
       "#sk-container-id-1 div.sk-label label.sk-toggleable__label,\n",
       "#sk-container-id-1 div.sk-label label {\n",
       "  /* The background is the default theme color */\n",
       "  color: var(--sklearn-color-text-on-default-background);\n",
       "}\n",
       "\n",
       "/* On hover, darken the color of the background */\n",
       "#sk-container-id-1 div.sk-label:hover label.sk-toggleable__label {\n",
       "  color: var(--sklearn-color-text);\n",
       "  background-color: var(--sklearn-color-unfitted-level-2);\n",
       "}\n",
       "\n",
       "/* Label box, darken color on hover, fitted */\n",
       "#sk-container-id-1 div.sk-label.fitted:hover label.sk-toggleable__label.fitted {\n",
       "  color: var(--sklearn-color-text);\n",
       "  background-color: var(--sklearn-color-fitted-level-2);\n",
       "}\n",
       "\n",
       "/* Estimator label */\n",
       "\n",
       "#sk-container-id-1 div.sk-label label {\n",
       "  font-family: monospace;\n",
       "  font-weight: bold;\n",
       "  display: inline-block;\n",
       "  line-height: 1.2em;\n",
       "}\n",
       "\n",
       "#sk-container-id-1 div.sk-label-container {\n",
       "  text-align: center;\n",
       "}\n",
       "\n",
       "/* Estimator-specific */\n",
       "#sk-container-id-1 div.sk-estimator {\n",
       "  font-family: monospace;\n",
       "  border: 1px dotted var(--sklearn-color-border-box);\n",
       "  border-radius: 0.25em;\n",
       "  box-sizing: border-box;\n",
       "  margin-bottom: 0.5em;\n",
       "  /* unfitted */\n",
       "  background-color: var(--sklearn-color-unfitted-level-0);\n",
       "}\n",
       "\n",
       "#sk-container-id-1 div.sk-estimator.fitted {\n",
       "  /* fitted */\n",
       "  background-color: var(--sklearn-color-fitted-level-0);\n",
       "}\n",
       "\n",
       "/* on hover */\n",
       "#sk-container-id-1 div.sk-estimator:hover {\n",
       "  /* unfitted */\n",
       "  background-color: var(--sklearn-color-unfitted-level-2);\n",
       "}\n",
       "\n",
       "#sk-container-id-1 div.sk-estimator.fitted:hover {\n",
       "  /* fitted */\n",
       "  background-color: var(--sklearn-color-fitted-level-2);\n",
       "}\n",
       "\n",
       "/* Specification for estimator info (e.g. \"i\" and \"?\") */\n",
       "\n",
       "/* Common style for \"i\" and \"?\" */\n",
       "\n",
       ".sk-estimator-doc-link,\n",
       "a:link.sk-estimator-doc-link,\n",
       "a:visited.sk-estimator-doc-link {\n",
       "  float: right;\n",
       "  font-size: smaller;\n",
       "  line-height: 1em;\n",
       "  font-family: monospace;\n",
       "  background-color: var(--sklearn-color-background);\n",
       "  border-radius: 1em;\n",
       "  height: 1em;\n",
       "  width: 1em;\n",
       "  text-decoration: none !important;\n",
       "  margin-left: 1ex;\n",
       "  /* unfitted */\n",
       "  border: var(--sklearn-color-unfitted-level-1) 1pt solid;\n",
       "  color: var(--sklearn-color-unfitted-level-1);\n",
       "}\n",
       "\n",
       ".sk-estimator-doc-link.fitted,\n",
       "a:link.sk-estimator-doc-link.fitted,\n",
       "a:visited.sk-estimator-doc-link.fitted {\n",
       "  /* fitted */\n",
       "  border: var(--sklearn-color-fitted-level-1) 1pt solid;\n",
       "  color: var(--sklearn-color-fitted-level-1);\n",
       "}\n",
       "\n",
       "/* On hover */\n",
       "div.sk-estimator:hover .sk-estimator-doc-link:hover,\n",
       ".sk-estimator-doc-link:hover,\n",
       "div.sk-label-container:hover .sk-estimator-doc-link:hover,\n",
       ".sk-estimator-doc-link:hover {\n",
       "  /* unfitted */\n",
       "  background-color: var(--sklearn-color-unfitted-level-3);\n",
       "  color: var(--sklearn-color-background);\n",
       "  text-decoration: none;\n",
       "}\n",
       "\n",
       "div.sk-estimator.fitted:hover .sk-estimator-doc-link.fitted:hover,\n",
       ".sk-estimator-doc-link.fitted:hover,\n",
       "div.sk-label-container:hover .sk-estimator-doc-link.fitted:hover,\n",
       ".sk-estimator-doc-link.fitted:hover {\n",
       "  /* fitted */\n",
       "  background-color: var(--sklearn-color-fitted-level-3);\n",
       "  color: var(--sklearn-color-background);\n",
       "  text-decoration: none;\n",
       "}\n",
       "\n",
       "/* Span, style for the box shown on hovering the info icon */\n",
       ".sk-estimator-doc-link span {\n",
       "  display: none;\n",
       "  z-index: 9999;\n",
       "  position: relative;\n",
       "  font-weight: normal;\n",
       "  right: .2ex;\n",
       "  padding: .5ex;\n",
       "  margin: .5ex;\n",
       "  width: min-content;\n",
       "  min-width: 20ex;\n",
       "  max-width: 50ex;\n",
       "  color: var(--sklearn-color-text);\n",
       "  box-shadow: 2pt 2pt 4pt #999;\n",
       "  /* unfitted */\n",
       "  background: var(--sklearn-color-unfitted-level-0);\n",
       "  border: .5pt solid var(--sklearn-color-unfitted-level-3);\n",
       "}\n",
       "\n",
       ".sk-estimator-doc-link.fitted span {\n",
       "  /* fitted */\n",
       "  background: var(--sklearn-color-fitted-level-0);\n",
       "  border: var(--sklearn-color-fitted-level-3);\n",
       "}\n",
       "\n",
       ".sk-estimator-doc-link:hover span {\n",
       "  display: block;\n",
       "}\n",
       "\n",
       "/* \"?\"-specific style due to the `<a>` HTML tag */\n",
       "\n",
       "#sk-container-id-1 a.estimator_doc_link {\n",
       "  float: right;\n",
       "  font-size: 1rem;\n",
       "  line-height: 1em;\n",
       "  font-family: monospace;\n",
       "  background-color: var(--sklearn-color-background);\n",
       "  border-radius: 1rem;\n",
       "  height: 1rem;\n",
       "  width: 1rem;\n",
       "  text-decoration: none;\n",
       "  /* unfitted */\n",
       "  color: var(--sklearn-color-unfitted-level-1);\n",
       "  border: var(--sklearn-color-unfitted-level-1) 1pt solid;\n",
       "}\n",
       "\n",
       "#sk-container-id-1 a.estimator_doc_link.fitted {\n",
       "  /* fitted */\n",
       "  border: var(--sklearn-color-fitted-level-1) 1pt solid;\n",
       "  color: var(--sklearn-color-fitted-level-1);\n",
       "}\n",
       "\n",
       "/* On hover */\n",
       "#sk-container-id-1 a.estimator_doc_link:hover {\n",
       "  /* unfitted */\n",
       "  background-color: var(--sklearn-color-unfitted-level-3);\n",
       "  color: var(--sklearn-color-background);\n",
       "  text-decoration: none;\n",
       "}\n",
       "\n",
       "#sk-container-id-1 a.estimator_doc_link.fitted:hover {\n",
       "  /* fitted */\n",
       "  background-color: var(--sklearn-color-fitted-level-3);\n",
       "}\n",
       "</style><div id=\"sk-container-id-1\" class=\"sk-top-container\"><div class=\"sk-text-repr-fallback\"><pre>GridSearchCV(estimator=KNeighborsClassifier(),\n",
       "             param_grid={&#x27;metric&#x27;: [&#x27;euclidean&#x27;, &#x27;manhattan&#x27;],\n",
       "                         &#x27;n_neighbors&#x27;: array([ 3,  5,  7,  9, 11, 13, 15, 17, 19, 21, 23, 25, 27, 29, 31, 33, 35,\n",
       "       37, 39, 41, 43, 45, 47, 49]),\n",
       "                         &#x27;weights&#x27;: [&#x27;uniform&#x27;, &#x27;distance&#x27;]})</pre><b>In a Jupyter environment, please rerun this cell to show the HTML representation or trust the notebook. <br />On GitHub, the HTML representation is unable to render, please try loading this page with nbviewer.org.</b></div><div class=\"sk-container\" hidden><div class=\"sk-item sk-dashed-wrapped\"><div class=\"sk-label-container\"><div class=\"sk-label fitted sk-toggleable\"><input class=\"sk-toggleable__control sk-hidden--visually\" id=\"sk-estimator-id-1\" type=\"checkbox\" ><label for=\"sk-estimator-id-1\" class=\"sk-toggleable__label fitted sk-toggleable__label-arrow fitted\">&nbsp;&nbsp;GridSearchCV<a class=\"sk-estimator-doc-link fitted\" rel=\"noreferrer\" target=\"_blank\" href=\"https://scikit-learn.org/1.4/modules/generated/sklearn.model_selection.GridSearchCV.html\">?<span>Documentation for GridSearchCV</span></a><span class=\"sk-estimator-doc-link fitted\">i<span>Fitted</span></span></label><div class=\"sk-toggleable__content fitted\"><pre>GridSearchCV(estimator=KNeighborsClassifier(),\n",
       "             param_grid={&#x27;metric&#x27;: [&#x27;euclidean&#x27;, &#x27;manhattan&#x27;],\n",
       "                         &#x27;n_neighbors&#x27;: array([ 3,  5,  7,  9, 11, 13, 15, 17, 19, 21, 23, 25, 27, 29, 31, 33, 35,\n",
       "       37, 39, 41, 43, 45, 47, 49]),\n",
       "                         &#x27;weights&#x27;: [&#x27;uniform&#x27;, &#x27;distance&#x27;]})</pre></div> </div></div><div class=\"sk-parallel\"><div class=\"sk-parallel-item\"><div class=\"sk-item\"><div class=\"sk-label-container\"><div class=\"sk-label fitted sk-toggleable\"><input class=\"sk-toggleable__control sk-hidden--visually\" id=\"sk-estimator-id-2\" type=\"checkbox\" ><label for=\"sk-estimator-id-2\" class=\"sk-toggleable__label fitted sk-toggleable__label-arrow fitted\">estimator: KNeighborsClassifier</label><div class=\"sk-toggleable__content fitted\"><pre>KNeighborsClassifier()</pre></div> </div></div><div class=\"sk-serial\"><div class=\"sk-item\"><div class=\"sk-estimator fitted sk-toggleable\"><input class=\"sk-toggleable__control sk-hidden--visually\" id=\"sk-estimator-id-3\" type=\"checkbox\" ><label for=\"sk-estimator-id-3\" class=\"sk-toggleable__label fitted sk-toggleable__label-arrow fitted\">&nbsp;KNeighborsClassifier<a class=\"sk-estimator-doc-link fitted\" rel=\"noreferrer\" target=\"_blank\" href=\"https://scikit-learn.org/1.4/modules/generated/sklearn.neighbors.KNeighborsClassifier.html\">?<span>Documentation for KNeighborsClassifier</span></a></label><div class=\"sk-toggleable__content fitted\"><pre>KNeighborsClassifier()</pre></div> </div></div></div></div></div></div></div></div></div>"
      ],
      "text/plain": [
       "GridSearchCV(estimator=KNeighborsClassifier(),\n",
       "             param_grid={'metric': ['euclidean', 'manhattan'],\n",
       "                         'n_neighbors': array([ 3,  5,  7,  9, 11, 13, 15, 17, 19, 21, 23, 25, 27, 29, 31, 33, 35,\n",
       "       37, 39, 41, 43, 45, 47, 49]),\n",
       "                         'weights': ['uniform', 'distance']})"
      ]
     },
     "execution_count": 55,
     "metadata": {},
     "output_type": "execute_result"
    }
   ],
   "source": []
  },
  {
   "cell_type": "code",
   "execution_count": 56,
   "id": "b2e6f268-7fbb-4c5c-8e3b-53c84d472156",
   "metadata": {},
   "outputs": [
    {
     "name": "stdout",
     "output_type": "stream",
     "text": [
      "Best estimator KNeighborsClassifier(metric='manhattan', n_neighbors=35)\n"
     ]
    }
   ],
   "source": []
  },
  {
   "cell_type": "code",
   "execution_count": 57,
   "id": "df63e3ad-8c80-4936-80a3-fe2569ba76d0",
   "metadata": {},
   "outputs": [
    {
     "name": "stdout",
     "output_type": "stream",
     "text": [
      "Accuracy: 0.504\n"
     ]
    }
   ],
   "source": []
  },
  {
   "cell_type": "markdown",
   "id": "c1c07dac-79ec-46d4-affb-629117e055fa",
   "metadata": {},
   "source": [
    "### 15.4\n",
    "* Создайте модель классификации с помощью случайного леса с параметрами по умолчанию;\n",
    "* Обучите модель на трейне, получите предсказания на тесте, посчитайте точность."
   ]
  },
  {
   "cell_type": "code",
   "execution_count": 58,
   "id": "0be17277-94c6-4f70-9089-49709cda15e3",
   "metadata": {},
   "outputs": [],
   "source": []
  },
  {
   "cell_type": "code",
   "execution_count": 59,
   "id": "b423911f-90dc-4d91-855d-08a53fe42de7",
   "metadata": {},
   "outputs": [
    {
     "name": "stdout",
     "output_type": "stream",
     "text": [
      "Accuracy: 0.547\n"
     ]
    }
   ],
   "source": []
  },
  {
   "cell_type": "code",
   "execution_count": null,
   "id": "6670bacb-280a-46dd-99ff-d6bbf9d5d926",
   "metadata": {},
   "outputs": [],
   "source": []
  },
  {
   "cell_type": "markdown",
   "id": "e585ebab-9a1e-4fb1-81b1-05d7113d9cb3",
   "metadata": {},
   "source": [
    "Итого мы видим, что иногда в простых задачах даже более комплексные модели, например случайный лес, не показывают себя лучше обычной логистической регрессии."
   ]
  },
  {
   "cell_type": "code",
   "execution_count": null,
   "id": "48208c16-dcf9-414c-8b20-562477fa1094",
   "metadata": {},
   "outputs": [],
   "source": []
  },
  {
   "cell_type": "markdown",
   "id": "c97ef3f0-c510-4761-a9d4-e6b142a5ae9b",
   "metadata": {},
   "source": [
    "# Конец"
   ]
  },
  {
   "cell_type": "markdown",
   "id": "998c3567-7097-45a9-8c9a-fb2ba874f596",
   "metadata": {},
   "source": [
    "<left>\n",
    "    <img src=\"Data/Pics/free.png\" width=40%/>\n",
    "</left>"
   ]
  },
  {
   "cell_type": "code",
   "execution_count": null,
   "id": "ae781cb6-c99b-42d5-8f97-e2d353d9b5eb",
   "metadata": {},
   "outputs": [],
   "source": []
  }
 ],
 "metadata": {
  "kernelspec": {
   "display_name": "hock",
   "language": "python",
   "name": "hock"
  },
  "language_info": {
   "codemirror_mode": {
    "name": "ipython",
    "version": 3
   },
   "file_extension": ".py",
   "mimetype": "text/x-python",
   "name": "python",
   "nbconvert_exporter": "python",
   "pygments_lexer": "ipython3",
   "version": "3.11.7"
  }
 },
 "nbformat": 4,
 "nbformat_minor": 5
}
