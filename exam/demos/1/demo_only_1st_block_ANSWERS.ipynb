{
 "cells": [
  {
   "cell_type": "markdown",
   "id": "187c488e-4269-4e7c-98c1-0478354abedf",
   "metadata": {},
   "source": [
    "# Преамбула\n",
    "Экзамен состоит из трёх блоков:  \n",
    "- программирование на python;  \n",
    "- работа с датафреймами и описательная статистика;  \n",
    "- классическое машинное обучение.\n",
    "\n",
    "В каждом вопросе может быть **любое** количество правильных ответов.  \n",
    "Стоимость вопроса равна одному баллу, если не сказано иное.  \n",
    "Дляя успешной сдачи экзамена необходимо набрать 60% или более от максимального числа баллов."
   ]
  },
  {
   "cell_type": "markdown",
   "id": "3f4b86a3-ce8d-4906-9ef9-c376fb0faab7",
   "metadata": {},
   "source": [
    "# Программирование"
   ]
  },
  {
   "cell_type": "markdown",
   "id": "4e5e42a3-c823-453b-9941-80b7c515d85d",
   "metadata": {},
   "source": [
    "### 1. \n",
    "Какие из нижеперечисленных операций вызовут ошибки при запуске?  \n",
    "a) `int(42.2)`  \n",
    "b)  `str(42.2)`   \n",
    "c)  `float(\"42.2\")`    \n",
    "d)  `int(\"42.2\")`    "
   ]
  },
  {
   "cell_type": "markdown",
   "id": "0067f001-96b1-447b-8dd6-0a456b23bd85",
   "metadata": {},
   "source": [
    "# d)"
   ]
  },
  {
   "cell_type": "markdown",
   "id": "0fd2fdd6-2517-4f97-a280-a2ac3467fcdc",
   "metadata": {},
   "source": [
    "### 2. (2 балла)\n",
    "Ниже представлен анализ частоты диалогов в четвёртом томе романа-эпопеи \"Война и мир\".\n",
    "\n",
    "<center><b>Использование диалогов по тексту</b></center>\n",
    "<center><img src=\"https://fantlab.ru/images/lpdata/did_67758.png?t=1663613940\" /></center>\n",
    "<center>(по горизонтали: счётчик знаков; по вертикали: процент диалогов;\n",
    "размер скользящего окна: знаков, шаг: 1000 знаков)</center>\n",
    "\n",
    "При этом в тексте:  \n",
    "- 690731 знаков (любые символы);  \n",
    "- 101050 слов;\n",
    "- Средняя длина слова 5.26 знака.  \n",
    "\n",
    "**Определите, сколько в байтах весит файл с текстом четвёртого тома, если каждая буква кодируется двумя байтами, а остальные символы (пробелы, запятые и тд) -- одниим байтом.  \n",
    "Сконвертируйте ответ в сторону меньшего целого числа.**  \n"
   ]
  },
  {
   "cell_type": "code",
   "execution_count": 9,
   "id": "4feeb59f-93c1-4c85-9dfa-6ba5875f89d3",
   "metadata": {},
   "outputs": [
    {
     "data": {
      "text/plain": [
       "531523.0"
      ]
     },
     "execution_count": 9,
     "metadata": {},
     "output_type": "execute_result"
    }
   ],
   "source": [
    "101050 * 5.26 # число символов в словах"
   ]
  },
  {
   "cell_type": "code",
   "execution_count": 10,
   "id": "4f57a953-730e-4d2d-af03-f17aed6ad3fb",
   "metadata": {},
   "outputs": [
    {
     "data": {
      "text/plain": [
       "159208"
      ]
     },
     "execution_count": 10,
     "metadata": {},
     "output_type": "execute_result"
    }
   ],
   "source": [
    "690731 - 531523 # число символов вне слов"
   ]
  },
  {
   "cell_type": "code",
   "execution_count": 11,
   "id": "b98f2c5c-dc30-498a-8922-50070358f5d9",
   "metadata": {},
   "outputs": [
    {
     "data": {
      "text/plain": [
       "1222254"
      ]
     },
     "execution_count": 11,
     "metadata": {},
     "output_type": "execute_result"
    }
   ],
   "source": [
    "531523 * 2 + 159208"
   ]
  },
  {
   "cell_type": "markdown",
   "id": "d5a1ee36-db4a-4a50-a4a0-d062b31ed700",
   "metadata": {},
   "source": [
    "### 2.2 (0.5 балла)\n",
    "Сконвертируйте ответ предыдущей задачи в мегабайты. Ответ округлите в сторону меньшего целого числа.  \n",
    "*Для конвертации используйте число байт, округлённое до меньшего целого."
   ]
  },
  {
   "cell_type": "code",
   "execution_count": 1,
   "id": "eae60333-bb26-41ad-8018-83d9948918e5",
   "metadata": {
    "tags": []
   },
   "outputs": [
    {
     "data": {
      "text/plain": [
       "1048576"
      ]
     },
     "execution_count": 1,
     "metadata": {},
     "output_type": "execute_result"
    }
   ],
   "source": [
    "1024 ** 2"
   ]
  },
  {
   "cell_type": "code",
   "execution_count": 2,
   "id": "95331286-5025-4195-8b15-fc9d379dc24f",
   "metadata": {
    "tags": []
   },
   "outputs": [
    {
     "data": {
      "text/plain": [
       "1000000"
      ]
     },
     "execution_count": 2,
     "metadata": {},
     "output_type": "execute_result"
    }
   ],
   "source": [
    "1000 ** 2"
   ]
  },
  {
   "cell_type": "code",
   "execution_count": 7,
   "id": "76c29960-1727-4feb-b2c4-bb5e417a2a21",
   "metadata": {
    "tags": []
   },
   "outputs": [
    {
     "data": {
      "text/plain": [
       "1.1656322479248047"
      ]
     },
     "execution_count": 7,
     "metadata": {},
     "output_type": "execute_result"
    }
   ],
   "source": [
    "(531523 * 2 + 159208) / (1024) ** 2"
   ]
  },
  {
   "cell_type": "code",
   "execution_count": 8,
   "id": "88931f6d-00a4-48e5-84bc-9a0af3ab07e8",
   "metadata": {
    "tags": []
   },
   "outputs": [
    {
     "data": {
      "text/plain": [
       "1.222254"
      ]
     },
     "execution_count": 8,
     "metadata": {},
     "output_type": "execute_result"
    }
   ],
   "source": [
    "(531523 * 2 + 159208) / (1000) ** 2"
   ]
  },
  {
   "cell_type": "markdown",
   "id": "03f360c7-63a9-4015-94df-e3923998cfbc",
   "metadata": {},
   "source": [
    "### 3.  \n",
    "Вы участвуете в разработке приложения для подсчёта калорийности диет. Напишите программу, которая принимает число белков, жиров углеводов (в граммах) и печатает на экран калорийность блюда (в килокалориях, ккал).  \n",
    "- 1г белка == 4 ккал;  \n",
    "- 1г жира == 9 ккал;  \n",
    "- 1г углеводов == 4 ккал.  \n",
    "\n",
    "*Ввод:*  \n",
    "На трёх строках (т.е. три разных `input`) вводятся три действительных числа (float): масса белков, жиров, углеводов в граммах.\n",
    "\n",
    "*Вывод:*  \n",
    "Программа должна печатать суммарную калорийность блюда, **целое число** ккал. "
   ]
  },
  {
   "cell_type": "code",
   "execution_count": 18,
   "id": "0e13fbe5-7ee2-4af6-8f18-38128d7e34ee",
   "metadata": {},
   "outputs": [
    {
     "name": "stdin",
     "output_type": "stream",
     "text": [
      " 1\n",
      " 1\n",
      " 1\n"
     ]
    },
    {
     "name": "stdout",
     "output_type": "stream",
     "text": [
      "17.0\n"
     ]
    }
   ],
   "source": [
    "b = float(input())\n",
    "zh = float(input())\n",
    "u = float(input())\n",
    "\n",
    "print(b * 4 + zh * 9 + u * 4)"
   ]
  },
  {
   "cell_type": "markdown",
   "id": "f445ad6b-07b8-4fc9-8ee3-08a35f64bb92",
   "metadata": {},
   "source": [
    "### 4.\n",
    "Дан файл _pizza.json_ с информацией о сделанных заказах.  \n",
    "Определите верные суждения:  \n",
    "- каждая пицца представляет собой словарь;  \n",
    "- в файле представлены только пиццы категории _Vegetarian_;  \n",
    "- значение ключа _toppings_ представляет собой словарь со словарями;  \n",
    "- каждая пицца в файле уникальна (т.е. встречается один раз);  \n",
    "- каждый топпинг (элемент из _toppings_) уникален (т.е. встречается в файле один раз);  "
   ]
  },
  {
   "cell_type": "code",
   "execution_count": 19,
   "id": "19023f13-35ca-4402-80b9-dd6aee87d14d",
   "metadata": {},
   "outputs": [],
   "source": [
    "# правильные:\n",
    "# каждая пицца представляет собой словарь; \n",
    "# в файле представлены только пиццы категории Vegetarian; \n",
    "# каждая пицца в файле уникальна (т.е. встречается один раз); "
   ]
  },
  {
   "cell_type": "code",
   "execution_count": 1,
   "id": "bb35969e-71d1-4e79-a872-9488d58e7bd6",
   "metadata": {
    "tags": []
   },
   "outputs": [
    {
     "data": {
      "text/plain": [
       "dict_keys(['Vegetarian'])"
      ]
     },
     "execution_count": 1,
     "metadata": {},
     "output_type": "execute_result"
    }
   ],
   "source": [
    "import json\n",
    "\n",
    "with open('pizza.json', 'r', encoding='utf8') as pizza_file:\n",
    "    data = json.load(pizza_file)\n",
    "    \n",
    "data.keys()"
   ]
  },
  {
   "cell_type": "code",
   "execution_count": 12,
   "id": "dfc83e11-e0ec-4290-ae9b-3bdf2c25992c",
   "metadata": {
    "tags": []
   },
   "outputs": [
    {
     "name": "stdout",
     "output_type": "stream",
     "text": [
      "Vegan Veggie\n",
      "Veggie Zupreme\n",
      "The O.G.\n"
     ]
    }
   ],
   "source": [
    "for pizza in data['Vegetarian']:\n",
    "    print(pizza['name'])"
   ]
  },
  {
   "cell_type": "code",
   "execution_count": 13,
   "id": "d41737dd-7198-44a8-b416-b6e336fec3f9",
   "metadata": {
    "tags": []
   },
   "outputs": [
    {
     "data": {
      "text/plain": [
       "['Vegan Veggie', 'Veggie Zupreme', 'The O.G.']"
      ]
     },
     "execution_count": 13,
     "metadata": {},
     "output_type": "execute_result"
    }
   ],
   "source": [
    "names = [] # соберем имена всех пицц в список\n",
    "for pizza in data['Vegetarian']:\n",
    "    names.append(pizza['name'])\n",
    "names"
   ]
  },
  {
   "cell_type": "code",
   "execution_count": 31,
   "id": "701973a0-d118-4d06-8e91-3e7d93be8300",
   "metadata": {},
   "outputs": [
    {
     "data": {
      "text/plain": [
       "True"
      ]
     },
     "execution_count": 31,
     "metadata": {},
     "output_type": "execute_result"
    }
   ],
   "source": [
    "len(set(names)) == len(data['Vegetarian']) # число уникальных пицц равно числу пицц вообще"
   ]
  },
  {
   "cell_type": "code",
   "execution_count": 35,
   "id": "4453b031-cda5-48e8-9136-988e68981622",
   "metadata": {},
   "outputs": [
    {
     "data": {
      "text/plain": [
       "False"
      ]
     },
     "execution_count": 35,
     "metadata": {},
     "output_type": "execute_result"
    }
   ],
   "source": [
    "toppings = [] # соберем имена всех пицц в список\n",
    "for pizza in data['Vegetarian']:\n",
    "    for top in pizza['toppings']:\n",
    "        toppings.append(top['name'])\n",
    "\n",
    "len(toppings) == len(set(toppings))"
   ]
  },
  {
   "cell_type": "markdown",
   "id": "348e0898-d72a-4d2f-b55f-c5a493cc3271",
   "metadata": {},
   "source": [
    "### 5.  (3 балла)\n",
    "Дан файл _pizza.json_ с информацией о сделанных заказах.  \n",
    "Напиши программу для извлечения информации о заказанных пиццах в csv файл, содержащий колонки:  \n",
    "- **id** (id пиццы);\n",
    "- **name** (название пиццы);\n",
    "- **price** (цена пиццы)."
   ]
  },
  {
   "cell_type": "code",
   "execution_count": 36,
   "id": "3aa37630-0dcd-46ed-8004-667cb349feb6",
   "metadata": {},
   "outputs": [],
   "source": [
    "import json \n",
    "\n",
    "with open('pizza.json', 'r', encoding='utf8') as pizza_file:\n",
    "    data = json.load(pizza_file)\n",
    "\n",
    "with open('task5.csv', 'w', encoding='utf8') as outfile:\n",
    "    for pizza in data['Vegetarian']:\n",
    "        outfile.write(f\"{pizza['id']},{pizza['name']},{pizza['price']}\\n\")"
   ]
  },
  {
   "cell_type": "code",
   "execution_count": 37,
   "id": "37bf0c5e-ac97-4f60-a9a7-fd164391f8bc",
   "metadata": {},
   "outputs": [],
   "source": [
    "import json \n",
    "\n",
    "with open('pizza.json', 'r', encoding='utf8') as pizza_file:\n",
    "    data = json.load(pizza_file)\n",
    "\n",
    "with open('task5.csv', 'w', encoding='utf8') as outfile:\n",
    "    for pizza in data['Vegetarian']:\n",
    "        outfile.write(\"{},{},{}\\n\".format(pizza['id'],\n",
    "                                             pizza['name'],\n",
    "                                             pizza['price']))"
   ]
  },
  {
   "cell_type": "markdown",
   "id": "bed5ea21-ce09-4531-b553-d9524af9f6c0",
   "metadata": {},
   "source": [
    "### 6.  (3 балла)\n",
    "Дан файл _pizza.json_ с информацией о сделанных заказах.  \n",
    "Напиши программу для извлечения информации о всех встреченных топпингах в csv файл, содержащий колонки:  \n",
    "- **id** (id топпинга);\n",
    "- **name** (название топпинга);\n",
    "- **hasDescription** (поле дожно содержать 1, если для топпинга существует описание, и 0, если описания нет, т.е. в поле описания стояло значение null)."
   ]
  },
  {
   "cell_type": "code",
   "execution_count": 43,
   "id": "5a8d3820-30b3-4f7d-a534-809091b7e53d",
   "metadata": {},
   "outputs": [],
   "source": [
    "import json \n",
    "\n",
    "with open('pizza.json', 'r', encoding='utf8') as pizza_file:\n",
    "    data = json.load(pizza_file)\n",
    "    \n",
    "with open('task6.csv', 'w', encoding='utf8') as outfile:\n",
    "    toppings = [] # соберем имена всех пицц в список\n",
    "    \n",
    "    outfile.write('id,name,hasDescription\\n')\n",
    "    \n",
    "    for pizza in data['Vegetarian']: # пройтись по всем пицца\n",
    "        \n",
    "        for top in pizza['toppings']: # пройтись по списку топпингов (каждый топпинг -- тоже словарь)\n",
    "            \n",
    "            # if top['description']:\n",
    "            #     hasDescription = 1\n",
    "            # else\n",
    "            #     hasDescription = 0\n",
    "            \n",
    "            # if top['description'] is None:\n",
    "            #     hasDescription = 0\n",
    "            # else:\n",
    "            #     hasDescription = 1\n",
    "                \n",
    "            # if isinstance(top['description'], type(None)):\n",
    "            #     hasDescription = 0\n",
    "            # else:\n",
    "            #     hasDescription = 1\n",
    "            \n",
    "            if top['description'] is None:\n",
    "                hasDescription = 0\n",
    "            else:\n",
    "                hasDescription = 1\n",
    "                \n",
    "            \n",
    "            outfile.write(\"{},{},{}\\n\".format(top['id'],\n",
    "                                              top['name'],\n",
    "                                              hasDescription))\n",
    "\n",
    "        \n",
    "\n"
   ]
  },
  {
   "cell_type": "markdown",
   "id": "fe05a43c-4190-4fdd-9b15-d9283871024a",
   "metadata": {},
   "source": [
    "### 6.2\n",
    "Напишите новую версию предыдущей программы, чтобы csv файл не содержал дубликатов, т.е. каждый топпинг должен присутствовать в файле в единственнм экземпляре"
   ]
  },
  {
   "cell_type": "code",
   "execution_count": 45,
   "id": "7f527ea8-988c-4d0d-8748-96f45d64eaed",
   "metadata": {},
   "outputs": [],
   "source": [
    "import json \n",
    "\n",
    "with open('pizza.json', 'r', encoding='utf8') as pizza_file:\n",
    "    data = json.load(pizza_file)\n",
    "    \n",
    "with open('task6_2.csv', 'w', encoding='utf8') as outfile:\n",
    "    toppings = [] # соберем имена всех пицц в список\n",
    "    \n",
    "    already_in_output = []\n",
    "    \n",
    "    outfile.write('id,name,hasDescription\\n')\n",
    "    \n",
    "    for pizza in data['Vegetarian']: # пройтись по всем пицца\n",
    "        \n",
    "        for top in pizza['toppings']: # пройтись по списку топпингов (каждый топпинг -- тоже словарь)\n",
    "            \n",
    "            if top['description'] is None:\n",
    "                hasDescription = 0\n",
    "            else:\n",
    "                hasDescription = 1\n",
    "                \n",
    "            if top['id'] not in already_in_output:\n",
    "                outfile.write(\"{},{},{}\\n\".format(top['id'],\n",
    "                                                  top['name'],\n",
    "                                                  hasDescription))\n",
    "                \n",
    "                already_in_output.append(top['id'])\n",
    "\n",
    "        \n",
    "\n"
   ]
  },
  {
   "cell_type": "markdown",
   "id": "ce166724-6923-46fa-907f-be4c4390fa73",
   "metadata": {},
   "source": [
    "### 7.\n",
    "Ниже представлен конструктор класса `Item`.  \n",
    "Требования к классу просты: объект класса при инициализации должен принимать название предмета и его цену, сохранять эти значения в атрибут. А при строков представлении экземпляра класса, например печати, должно быть выведено название объекта, двуеточие, пробел, а затем цена объекта.  \n",
    "\n",
    "В конструкторе класса ниже была допущена ошибка.  В **новой ячейке** напишите корректную реализацию класса."
   ]
  },
  {
   "cell_type": "code",
   "execution_count": 2,
   "id": "c11a308e-350b-425d-83dd-68082adfd5cd",
   "metadata": {
    "tags": []
   },
   "outputs": [],
   "source": [
    "# initial code\n",
    "class Item:\n",
    "    \n",
    "    def __init__(self, name: str, price: float):\n",
    "        self.name = name\n",
    "        self.price = price\n",
    "    \n",
    "    def __repr__(self):\n",
    "        return \"self.name: self.price\""
   ]
  },
  {
   "cell_type": "code",
   "execution_count": 3,
   "id": "6362dc14-d19d-4d15-a897-1d6aed31eea6",
   "metadata": {
    "tags": []
   },
   "outputs": [
    {
     "name": "stdout",
     "output_type": "stream",
     "text": [
      "self.name: self.price\n"
     ]
    }
   ],
   "source": [
    "obj = Item('MyItem', 42)\n",
    "print(obj)"
   ]
  },
  {
   "cell_type": "code",
   "execution_count": 4,
   "id": "6d7303c8-2b5a-468f-9a4f-0eb2c16488ab",
   "metadata": {
    "tags": []
   },
   "outputs": [
    {
     "name": "stdout",
     "output_type": "stream",
     "text": [
      "MyItem: 42\n"
     ]
    }
   ],
   "source": [
    "# your code\n",
    "# initial code\n",
    "class Item:\n",
    "    \n",
    "    def __init__(self, name: str, price: float):\n",
    "        self.name = name\n",
    "        self.price = price\n",
    "    \n",
    "    def __repr__(self):\n",
    "        return f\"{self.name}: {self.price}\"\n",
    "\n",
    "obj = Item('MyItem', 42)\n",
    "print(obj)\n"
   ]
  },
  {
   "cell_type": "markdown",
   "id": "977d4708-0270-4e32-9c11-a3d5bd528336",
   "metadata": {},
   "source": [
    "### 8. (3 балла)\n",
    "Напишите класс `BankAccount`, который имеет всего 1 атрибут: _balance_ (текущая сумма на балансе).  \n",
    "Реализуйте методы:  \n",
    "- \\_\\_init\\_\\_ (при инициализации экземпляр класса может принмать целое число -- начальное значение баланса. Значение баланаса по-умолчанию равно 0.)\n",
    "- _take_ (метод принимает в качестве аргумента целое положительное число -- сколько денег должно быть списано с баланса. Если на балансе недостаточно средств или был введён некорректный аргумент, то метод возвращает False. Если снятие произведено успешно, то метод возвращает True);  \n",
    "- _add_ (метод принимает в качестве аргумента целое положительное число -- сколько денег внести на баланс. Если был введён некорректный аргумент, то метод должен возвращать False, иначе -- True);  \n",
    "- \\_\\_repr\\_\\_ (при строковом представлении экземпляр класса должен возвращать текущий баланс).\n"
   ]
  },
  {
   "cell_type": "code",
   "execution_count": 25,
   "id": "209db865-8225-4260-b1aa-c385a263c65a",
   "metadata": {
    "tags": []
   },
   "outputs": [
    {
     "name": "stdout",
     "output_type": "stream",
     "text": [
      "50\n",
      "1050\n"
     ]
    }
   ],
   "source": [
    "class BankAccount:\n",
    "    \n",
    "    def __init__(self, money=0):\n",
    "        self.balance = money\n",
    "        \n",
    "    def add(self, money):\n",
    "        # try:\n",
    "        #     money = int(money)\n",
    "        # except Exception:\n",
    "        #     return False\n",
    "        \n",
    "        # if money <= 0:\n",
    "        #     return False\n",
    "        \n",
    "        self.balance += money\n",
    "        return True   \n",
    "    \n",
    "    def take(self, money):\n",
    "        # try:\n",
    "        #     money = int(money)\n",
    "        # except Exception:\n",
    "        #     return False\n",
    "        \n",
    "        # if money <= 0:\n",
    "        #     return False\n",
    "        \n",
    "        if money >= self.balance:\n",
    "            return False\n",
    "        \n",
    "        self.balance -= money\n",
    "        return True\n",
    "        \n",
    "    def __repr__(self):\n",
    "        return str(self.balance)\n",
    "        \n",
    "account = BankAccount()\n",
    "account2 = BankAccount(1000)\n",
    "\n",
    "account.add(100)\n",
    "account2.add(100)\n",
    "\n",
    "account.take(50)\n",
    "account2.take(50)\n",
    "\n",
    "print(account)\n",
    "print(account2)"
   ]
  },
  {
   "cell_type": "code",
   "execution_count": 26,
   "id": "9b5453a0-7cb7-4f20-a8f2-6069d02a30f2",
   "metadata": {
    "tags": []
   },
   "outputs": [
    {
     "data": {
      "text/plain": [
       "False"
      ]
     },
     "execution_count": 26,
     "metadata": {},
     "output_type": "execute_result"
    }
   ],
   "source": [
    "account.add(-1)"
   ]
  },
  {
   "cell_type": "code",
   "execution_count": 27,
   "id": "d49dbdae-be82-4e47-a9b3-6773c6a95455",
   "metadata": {
    "tags": []
   },
   "outputs": [
    {
     "data": {
      "text/plain": [
       "False"
      ]
     },
     "execution_count": 27,
     "metadata": {},
     "output_type": "execute_result"
    }
   ],
   "source": [
    "account.take(-1)"
   ]
  },
  {
   "cell_type": "code",
   "execution_count": 28,
   "id": "62975832-cac4-4857-889f-47901f91d84e",
   "metadata": {
    "tags": []
   },
   "outputs": [
    {
     "data": {
      "text/plain": [
       "False"
      ]
     },
     "execution_count": 28,
     "metadata": {},
     "output_type": "execute_result"
    }
   ],
   "source": [
    "account.take(1000000)"
   ]
  },
  {
   "cell_type": "code",
   "execution_count": 29,
   "id": "5e5420d6-697c-4350-89d0-fb4c64158e3d",
   "metadata": {
    "tags": []
   },
   "outputs": [
    {
     "name": "stdout",
     "output_type": "stream",
     "text": [
      "50\n"
     ]
    }
   ],
   "source": [
    "print(account)"
   ]
  }
 ],
 "metadata": {
  "kernelspec": {
   "display_name": "Python 3 (ipykernel)",
   "language": "python",
   "name": "python3"
  },
  "language_info": {
   "codemirror_mode": {
    "name": "ipython",
    "version": 3
   },
   "file_extension": ".py",
   "mimetype": "text/x-python",
   "name": "python",
   "nbconvert_exporter": "python",
   "pygments_lexer": "ipython3",
   "version": "3.10.12"
  }
 },
 "nbformat": 4,
 "nbformat_minor": 5
}
