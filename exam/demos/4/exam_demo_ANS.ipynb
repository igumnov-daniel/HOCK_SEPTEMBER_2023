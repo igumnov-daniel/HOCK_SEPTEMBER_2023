{
 "cells": [
  {
   "cell_type": "markdown",
   "id": "9d744135-5427-4365-9a94-c6ab88d4a61c",
   "metadata": {
    "tags": []
   },
   "source": [
    "# Преамбула\n",
    "Экзамен состоит из трёх блоков:  \n",
    "- программирование на python;  \n",
    "- работа с датафреймами и описательная статистика;  \n",
    "- классическое машинное обучение.\n",
    "\n",
    "В каждом вопросе может быть **любое** количество правильных ответов.  \n",
    "Стоимость вопроса равна одному баллу, если не сказано иное.  \n",
    "Для успешной сдачи экзамена необходимо набрать 50% и более от максимального числа баллов.\n",
    "\n",
    "- **NB:** В первом блоке (программирование на python) **ЗАПРЕЩЕНО** пользоваться библиотеками, не посталяемыми вместе с python по-умолчанию (т.е. pandas/numpy нельзя использовать в это блоке, а random/json -- можно);  \n",
    "- Все спорные моменты трактуются в пользу экзаменуемого;  \n",
    "- Ваш код должен быть воспроизводим (если я положу исходные файлы в ту же папку, что и Ваш ноутбук, и нажму `Run` -> `Run All Cells`, то всё должно работать). Так что соблюдайте логику и последовательнось запуска ячеек. Спасибо :)  \n",
    "- Можно пользоваться только своей головой, но любыми материалами и интернетом;  \n",
    "- Если задание кажется сложным -- пропустите его;  \n",
    "\n",
    "- Во время экзамена я буду отвечать только на вопросы касаемо формулировок заданий.\n",
    "\n",
    "Главное, не спешите, проверяйте, что и куда записывается.  \n",
    "За каждого болею.  \n",
    "Всем удачи!  \n"
   ]
  },
  {
   "cell_type": "markdown",
   "id": "cc0da670-312c-4635-a4c1-b57b6843b8a7",
   "metadata": {},
   "source": [
    "<center>\n",
    "    <img src=\"Data/goodluck.gif\"/>\n",
    "</center>"
   ]
  },
  {
   "cell_type": "markdown",
   "id": "ba5188dc-0824-4a70-ab5e-f63a04c46cf6",
   "metadata": {
    "tags": []
   },
   "source": [
    "## A. Базовый python\n",
    "Для решения задач блока запрещено пользоваться библиотеками, не поставляемые вместе с python.  \n",
    "Иными словами, всё, что устанавливается через `pip`, тут использовать нельзя."
   ]
  },
  {
   "cell_type": "markdown",
   "id": "cad83c02-b84d-449e-aa86-38bc3871cbaf",
   "metadata": {},
   "source": [
    "### 1. (1.5 балла)\n",
    "Таможенный сбор — это плата за обработку документов. Рассчитывается на основе цены авто, указанной в таможенной декларации (не путать с пошлиной).  \n",
    "Размер сбора в зависимости от стоимости автомобиля представлен в таблице ниже."
   ]
  },
  {
   "cell_type": "markdown",
   "id": "68de397d-518e-4a6b-b65f-f3f0170e8013",
   "metadata": {},
   "source": [
    "<table style=\"width:50%;\"><caption>&nbsp;</caption>\n",
    "<tbody>\n",
    "<tr>\n",
    "<td style=\"text-align:center; width:51.1077%;\">\n",
    "<p><strong>Стоимость автомобиля, руб.</strong></p>\n",
    "</td>\n",
    "<td style=\"text-align:center; width:48.3575%;\">\n",
    "<p><strong>Таможенный сбор, руб.</strong></p>\n",
    "</td>\n",
    "</tr>\n",
    "<tr>\n",
    "<td style=\"width:51.1077%;\">\n",
    "<p><span style=\"font-weight:400;\">До 200 000</span></p>\n",
    "</td>\n",
    "<td style=\"width:48.3575%;\">\n",
    "<p><span style=\"font-weight:400;\">775</span></p>\n",
    "</td>\n",
    "</tr>\n",
    "<tr>\n",
    "<td style=\"width:51.1077%;\">\n",
    "<p><span style=\"font-weight:400;\">До 450 000</span></p>\n",
    "</td>\n",
    "<td style=\"width:48.3575%;\">\n",
    "<p><span style=\"font-weight:400;\">1550</span></p>\n",
    "</td>\n",
    "</tr>\n",
    "<tr>\n",
    "<td style=\"width:51.1077%;\">\n",
    "<p><span style=\"font-weight:400;\">До 1 200 000</span></p>\n",
    "</td>\n",
    "<td style=\"width:48.3575%;\">\n",
    "<p><span style=\"font-weight:400;\">3100</span></p>\n",
    "</td>\n",
    "</tr>\n",
    "<tr>\n",
    "<td style=\"width:51.1077%;\">\n",
    "<p><span style=\"font-weight:400;\">До 2 700 000</span></p>\n",
    "</td>\n",
    "<td style=\"width:48.3575%;\">\n",
    "<p><span style=\"font-weight:400;\">8530</span></p>\n",
    "</td>\n",
    "</tr>\n",
    "<tr>\n",
    "<td style=\"width:51.1077%;\">\n",
    "<p><span style=\"font-weight:400;\">До 4 200 000</span></p>\n",
    "</td>\n",
    "<td style=\"width:48.3575%;\">\n",
    "<p><span style=\"font-weight:400;\">12 000</span></p>\n",
    "</td>\n",
    "</tr>\n",
    "<tr>\n",
    "<td style=\"width:51.1077%;\">\n",
    "<p><span style=\"font-weight:400;\">До 5 500 000</span></p>\n",
    "</td>\n",
    "<td style=\"width:48.3575%;\">\n",
    "<p><span style=\"font-weight:400;\">15 500</span></p>\n",
    "</td>\n",
    "    </tr>\n",
    "<tr>\n",
    "<td style=\"width:51.1077%;\">\n",
    "<p><span style=\"font-weight:400;\">От 5 500 000</span></p>\n",
    "</td>\n",
    "<td style=\"width:48.3575%;\">\n",
    "<p><span style=\"font-weight:400;\">20 000</span></p>\n",
    "</td>\n",
    "    </tr>\n",
    "</tbody>\n",
    "</table>"
   ]
  },
  {
   "cell_type": "markdown",
   "id": "e9142153-54cd-4d43-ad9c-928c4b19258b",
   "metadata": {},
   "source": [
    "Напишите функцию `customsDuty`, которая принимаем стоимость автомобиля и возвращает размер таможенного сбора в сооветствии с табличным значением.  \n",
    "В случае ввода неположительного значения функция должна возвращать строку \"ОШИБКА\"."
   ]
  },
  {
   "cell_type": "code",
   "execution_count": 1,
   "id": "d2342376-1ad6-479b-84d6-69ed693b31a7",
   "metadata": {},
   "outputs": [],
   "source": [
    "# ans 1\n",
    "def customsDuty(carprice):\n",
    "    if carprice <= 0:\n",
    "        return 'ОШИБКА'\n",
    "    elif carprice < 200_000:\n",
    "        return 775\n",
    "    elif carprice < 450_000:\n",
    "        return 1550\n",
    "    elif carprice < 1_200_000:\n",
    "        return 3100\n",
    "    elif carprice < 2_700_000:\n",
    "        return 8530\n",
    "    elif carprice < 4_200_000:\n",
    "        return 12000\n",
    "    elif carprice < 5_500_000:\n",
    "        return 15500\n",
    "    elif carprice >= 5_500_000:\n",
    "        return 20_000"
   ]
  },
  {
   "cell_type": "code",
   "execution_count": 2,
   "id": "cbf38a7a-4821-4dd9-bee3-49c9ddd716fb",
   "metadata": {
    "tags": []
   },
   "outputs": [],
   "source": [
    "# проверка\n",
    "assert all([customsDuty(100_000) == 775, customsDuty(200_000) == 1550,\n",
    "           customsDuty(250_000) == 1550, customsDuty(450_000) == 3100,\n",
    "           customsDuty(1e10) == 20_000,\n",
    "           customsDuty(0) == 'ОШИБКА', customsDuty(-1) == 'ОШИБКА'])"
   ]
  },
  {
   "cell_type": "markdown",
   "id": "6c000843-3be6-460b-9c74-1382b52fa77a",
   "metadata": {},
   "source": [
    "### 2."
   ]
  },
  {
   "cell_type": "markdown",
   "id": "b8a0ddb9-e311-4783-92e6-c21ce52bbe40",
   "metadata": {},
   "source": [
    "Обязательный к уплате косвенный налог (акциз). При его расчете за основу берется количество «лошадей» под капотом. Чем их больше, тем дороже обойдется каждая.  \n",
    "Размер акциза за 1 лошадиную силу в зависимости от мощности двигателя представлен в таблице ниже."
   ]
  },
  {
   "cell_type": "markdown",
   "id": "28b2ad74-6e67-40b2-a1de-d28195f040be",
   "metadata": {},
   "source": [
    "<table style=\"width:50%;\"><caption>&nbsp;</caption>\n",
    "<tbody>\n",
    "<tr>\n",
    "<td style=\"text-align:center;\">\n",
    "<p><strong>Мощность двигателя (в лошадиных силах)</strong></p>\n",
    "</td>\n",
    "<td style=\"text-align:center;\">\n",
    "<p><strong>Ставка акциза за 1 лошадиную силу, руб.</strong></p>\n",
    "</td>\n",
    "</tr>\n",
    "<tr>\n",
    "<td>\n",
    "<p><span style=\"font-weight:400;\">До 90</span></p>\n",
    "</td>\n",
    "<td>\n",
    "<p><span style=\"font-weight:400;\">0</span></p>\n",
    "</td>\n",
    "</tr>\n",
    "<tr>\n",
    "<td>\n",
    "<p><span style=\"font-weight:400;\">91-150</span></p>\n",
    "</td>\n",
    "<td>\n",
    "<p><span style=\"font-weight:400;\">51</span></p>\n",
    "</td>\n",
    "</tr>\n",
    "<tr>\n",
    "<td>\n",
    "<p><span style=\"font-weight:400;\">151-200</span></p>\n",
    "</td>\n",
    "<td>\n",
    "<p><span style=\"font-weight:400;\">491</span></p>\n",
    "</td>\n",
    "</tr>\n",
    "<tr>\n",
    "<td>\n",
    "<p><span style=\"font-weight:400;\">201-300</span></p>\n",
    "</td>\n",
    "<td>\n",
    "<p><span style=\"font-weight:400;\">804</span></p>\n",
    "</td>\n",
    "</tr>\n",
    "<tr>\n",
    "<td>\n",
    "<p><span style=\"font-weight:400;\">От 301</span></p>\n",
    "</td>\n",
    "<td>\n",
    "<p><span style=\"font-weight:400;\">1370</span></p>\n",
    "</td>\n",
    "</tr>\n",
    "</tbody>\n",
    "</table>"
   ]
  },
  {
   "cell_type": "markdown",
   "id": "70618ccf-2711-4ae6-bab5-b4c302c44e30",
   "metadata": {},
   "source": [
    "#### 2.1 (1 балл)"
   ]
  },
  {
   "cell_type": "markdown",
   "id": "424e6620-0e97-4da9-9b72-067664393622",
   "metadata": {},
   "source": [
    "Напишите функцию `hpExciseRate`, которая принимает в качестве аргумента мощность двигателя (целое число) и возвращает ставку акциза за 1 лошадиную силу.  \n",
    "В случае ввода неположительного значения функция должна возвращать строку \"ОШИБКА\"."
   ]
  },
  {
   "cell_type": "code",
   "execution_count": 3,
   "id": "3350012b-5557-4c38-8aba-af217f6afd40",
   "metadata": {
    "tags": []
   },
   "outputs": [],
   "source": [
    "# ans 2.1\n",
    "def hpExciseRate(hp: int) -> int:\n",
    "    if hp <= 0:\n",
    "        return 'ОШИБКА'\n",
    "    elif hp < 90:\n",
    "        return 0\n",
    "    elif hp < 150:\n",
    "        return 51\n",
    "    elif hp < 200:\n",
    "        return 491\n",
    "    elif hp < 300:\n",
    "        return 804\n",
    "    else:\n",
    "        return 1370"
   ]
  },
  {
   "cell_type": "code",
   "execution_count": 4,
   "id": "5f1ed4af-3d92-4298-afc8-d0c2adbf2788",
   "metadata": {
    "tags": []
   },
   "outputs": [],
   "source": [
    "assert all([\n",
    "    hpExciseRate(0) == 'ОШИБКА',\n",
    "    hpExciseRate(-1) == 'ОШИБКА',\n",
    "    hpExciseRate(10) == 0,\n",
    "    hpExciseRate(90) == 51,\n",
    "    hpExciseRate(130) == 51,\n",
    "    hpExciseRate(250) == 804,\n",
    "    hpExciseRate(1000) == 1370,\n",
    "])"
   ]
  },
  {
   "cell_type": "markdown",
   "id": "0d049777-29cb-4807-9ae9-5354c7218d2d",
   "metadata": {},
   "source": [
    "#### 2.2 (1 балл)\n",
    "Напишите функцию `hpExcise`, которая  принимает мощность двигателя и, используя фунцкию `hpExciseRate` для получения ставки акциза, считает размер акциза для автомобиля. То есть не возвращает ставку акциза, а возвращает итоговую сумму, сколько нужно заплатить.  \n",
    "В случае ввода неположительного значения функция должна возвращать строку \"ОШИБКА\"."
   ]
  },
  {
   "cell_type": "code",
   "execution_count": 5,
   "id": "843dec00-41b6-407e-b0fd-c6522fa3db6a",
   "metadata": {
    "tags": []
   },
   "outputs": [],
   "source": [
    "# ans 2.2\n",
    "def hpExcise(hp: int) -> int:\n",
    "    if hp <= 0:\n",
    "        return 'ОШИБКА'\n",
    "    return hp * hpExciseRate(hp)"
   ]
  },
  {
   "cell_type": "code",
   "execution_count": 6,
   "id": "6ad23241-5003-443a-8129-75c4b65a8d33",
   "metadata": {
    "tags": []
   },
   "outputs": [],
   "source": [
    "assert all([\n",
    "    hpExcise(0) == 'ОШИБКА',\n",
    "    hpExcise(-1) == 'ОШИБКА',\n",
    "    hpExcise(50) == 0,\n",
    "    hpExcise(90) == 4590,\n",
    "    hpExcise(100) == 5100,\n",
    "    hpExcise(200) == 160800,\n",
    "    hpExcise(300) == 411000,\n",
    "    hpExcise(500) == 685000,\n",
    "])"
   ]
  },
  {
   "cell_type": "markdown",
   "id": "7cdb118d-60e1-4925-ad05-1af262f29892",
   "metadata": {},
   "source": [
    "### 3.\n",
    "Вова и Дима решили определить, кто круче. Решать они это буду по-мужски, то есть играя в \"Камень, ножницы, бумага\"."
   ]
  },
  {
   "cell_type": "markdown",
   "id": "48e4de62-94fe-4ebb-8174-b7f49cb9c1f0",
   "metadata": {},
   "source": [
    "#### 3.1 (1 балл)\n",
    "Напишите функцию `RPS`, которая принимает в качестве аргумента две строки: фигура, показанная первым и вторым игроками соответственно. Например `RPS('камень', 'ножницы')`.\n",
    "\n",
    "Аргументы передаются строго в нижнем регистре, без пробелов, на кирилице. Возможно три значения: камень, ножницы, бумага.\n",
    "\n",
    "Функция должна возвращать строку \"P1\", если побеждает первый игрок, и \"P2\", если побеждает второй (латинская 'P').  \n",
    "В случае ничьей возвращается 'D'.\n",
    "\n",
    "*<a href='https://ru.wikipedia.org/wiki/%D0%9A%D0%B0%D0%BC%D0%B5%D0%BD%D1%8C,_%D0%BD%D0%BE%D0%B6%D0%BD%D0%B8%D1%86%D1%8B,_%D0%B1%D1%83%D0%BC%D0%B0%D0%B3%D0%B0'>правила игры</a> для тех, кто в танке"
   ]
  },
  {
   "cell_type": "code",
   "execution_count": 2,
   "id": "1245bb54-fc2a-4fe5-9189-54b2dda50bb2",
   "metadata": {
    "tags": []
   },
   "outputs": [],
   "source": [
    "# ans 3.1\n",
    "def RPS(p1: str, p2: str) -> str:\n",
    "    if p1 == p2:\n",
    "        return 'D'\n",
    "    \n",
    "    if p1 == 'камень':\n",
    "        if p2 == 'ножницы':\n",
    "            return 'P1'\n",
    "        elif p2 == 'бумага':\n",
    "            return 'P2'\n",
    "    elif p1 == 'ножницы':\n",
    "        if p2 == 'камень':\n",
    "            return 'P2'\n",
    "        elif p2 == 'бумага':\n",
    "            return 'P1'\n",
    "    elif p1 == 'бумага':\n",
    "        if p2 == 'камень':\n",
    "            return 'P1'\n",
    "        elif p2 == 'ножницы':\n",
    "            return 'P2'"
   ]
  },
  {
   "cell_type": "code",
   "execution_count": 3,
   "id": "460c5570-05c4-4e36-b8f2-a640d6d1bb6f",
   "metadata": {
    "tags": []
   },
   "outputs": [],
   "source": [
    "assert all([\n",
    "    RPS('камень', 'камень') == 'D',\n",
    "    RPS('ножницы', 'ножницы') == 'D',\n",
    "    RPS('бумага', 'бумага') == 'D',\n",
    "    RPS('камень', 'ножницы') == 'P1',\n",
    "    RPS('ножницы', 'камень') == 'P2',\n",
    "    RPS('камень', 'бумага') == 'P2',\n",
    "    RPS('бумага', 'камень') == 'P1',\n",
    "    RPS('бумага', 'ножницы') == 'P2',\n",
    "    RPS('ножницы', 'бумага') == 'P1',\n",
    "])"
   ]
  },
  {
   "cell_type": "markdown",
   "id": "56daff86-0e6b-4ba8-a612-34cc0b31a02c",
   "metadata": {},
   "source": [
    "#### 3.2 (2 балла)\n",
    "Вова и Дима хотят статистически значимо определить, кто круче. Поэтому понимают, что разового эксперимента будет мало. Они верят в <a href='https://ru.wikipedia.org/wiki/%D0%97%D0%B0%D0%BA%D0%BE%D0%BD_%D0%B1%D0%BE%D0%BB%D1%8C%D1%88%D0%B8%D1%85_%D1%87%D0%B8%D1%81%D0%B5%D0%BB'>закон больших чисел</a>, а значит, если сыграть 1000 раз, то результат будет ближе к истинному значению."
   ]
  },
  {
   "cell_type": "markdown",
   "id": "63c5288d-3a32-4f7b-8448-3a44c61afe79",
   "metadata": {},
   "source": [
    "Результаты игр они сохранили в файл `КНБ.tsv` (head на картинке ниже).\n",
    "<center>\n",
    "    <img src='Data/task3_2.png'/>\n",
    "</center>"
   ]
  },
  {
   "cell_type": "markdown",
   "id": "4597b19f-4da3-4079-9456-88fe191f33f4",
   "metadata": {},
   "source": [
    "Напиши код для созднания файла `КНБ_with_winners.tsv`. Новый файл должен содержать третью колонку `Result`, где должно быть записано, победил ли `P1`, `P2` или была ничья (`D`).   \n",
    "\n",
    "Для определения результата воспользуйтесь функцией из задания 3.1."
   ]
  },
  {
   "cell_type": "code",
   "execution_count": 4,
   "id": "74e3d468-7124-4009-9adb-96624c2980ef",
   "metadata": {
    "tags": []
   },
   "outputs": [],
   "source": [
    "with open('./Data/КНБ.tsv', 'r', encoding='utf8') as inpfile:\n",
    "    with open('КНБ_with_winners.tsv', 'w', encoding='utf8') as outfile:\n",
    "        inpfile.readline() # пропуск заголовка\n",
    "        outfile.write(\"P1;P2;res\\n\") # не помню, какой надо разделитель. пускай будет точка с запятой.\n",
    "\n",
    "        for line in inpfile:\n",
    "            words = line.strip().split('\\t') # в words 2 элемента уже\n",
    "            p1 = words[0]\n",
    "            p2 = words[1]\n",
    "            res = RPS(p1, p2)\n",
    "            outfile.write(\"{}\\t{}\\t{}\\n\".format(p1, p2, res))"
   ]
  },
  {
   "cell_type": "markdown",
   "id": "3c0ae8e0-9387-49e7-9822-c3167a05bd73",
   "metadata": {},
   "source": [
    "#### 3.3 (1 балл)\n",
    "Посчитайте, сколько раз победил Вова (P1), Дима (P2), сколько раз была ничья.  \n",
    "Выведите эти значения в красивом понятном формате (воспользуйтесь форматированием).\n",
    "\n",
    "Кто в итоге круче?"
   ]
  },
  {
   "cell_type": "code",
   "execution_count": 5,
   "id": "5737b444",
   "metadata": {
    "tags": []
   },
   "outputs": [
    {
     "name": "stdout",
     "output_type": "stream",
     "text": [
      "P1 counter: 355\n",
      "P2 counter: 331\n",
      "Draw counter: 314\n"
     ]
    }
   ],
   "source": [
    "with open('КНБ_with_winners.tsv', 'r', encoding='utf8') as inpfile:\n",
    "    inpfile.readline()\n",
    "\n",
    "    p1count = 0\n",
    "    p2count = 0\n",
    "    Dcount = 0\n",
    "\n",
    "    for line in inpfile:\n",
    "        p1, p2, res = line.strip().split('\\t')\n",
    "        if res == 'P1':\n",
    "            p1count += 1\n",
    "        elif res == 'P2':\n",
    "            p2count += 1\n",
    "        else:\n",
    "            Dcount += 1\n",
    "\n",
    "print('P1 counter:', p1count)\n",
    "print('P2 counter:', p2count)\n",
    "print('Draw counter:', Dcount)"
   ]
  },
  {
   "cell_type": "code",
   "execution_count": 9,
   "id": "4fccec87-fc86-4475-9eab-5ac83cf13b34",
   "metadata": {
    "tags": []
   },
   "outputs": [],
   "source": [
    "# ans 3.3\n",
    "# Вова 355\n",
    "# Дима 331\n",
    "# Ничья 314\n"
   ]
  },
  {
   "cell_type": "markdown",
   "id": "5767007d-9660-45c2-9984-2a7b66a083d1",
   "metadata": {},
   "source": [
    "### 4."
   ]
  },
  {
   "cell_type": "markdown",
   "id": "047aa6da-753f-4186-8812-0c47444e8a66",
   "metadata": {},
   "source": [
    "#### 4.1 (2 балла)\n",
    "Создайте конструктор класса `Vehicle`, который при создании принимает три аргумента: наименование (строка), максимальная скорость (целое число), пробег (целое число) -- значения которых сохраняются в атрибуты `name`, `max_speed` и `mileage` соответственно.\n",
    "\n",
    "Реализуйте метод `__repr__` для выведения информации об экземпляре класса в произвольном формате."
   ]
  },
  {
   "cell_type": "code",
   "execution_count": 10,
   "id": "96da6e9b-1504-4afc-b5cb-1a4ac660495e",
   "metadata": {
    "tags": []
   },
   "outputs": [],
   "source": [
    "# ans 4.1\n",
    "class Vehicle:\n",
    "    \n",
    "    def __init__(self, name, ms, probeg):\n",
    "        self.name = name\n",
    "        self.max_speed = ms\n",
    "        self.mileage = probeg\n",
    "        \n",
    "    def __repr__(self):\n",
    "        return f\"{self.name}\\nMax speed={self.max_speed}, Mileage={self.mileage}\""
   ]
  },
  {
   "cell_type": "code",
   "execution_count": 11,
   "id": "857f6901-f207-4704-90ca-b4df66e63158",
   "metadata": {
    "tags": []
   },
   "outputs": [
    {
     "name": "stdout",
     "output_type": "stream",
     "text": [
      "vvv\n",
      "Max speed=100, Mileage=10\n"
     ]
    }
   ],
   "source": [
    "v = Vehicle('vvv', 100, 10)\n",
    "assert all([v.name == 'vvv', v.max_speed == 100, v.mileage == 10])\n",
    "print(v)"
   ]
  },
  {
   "cell_type": "markdown",
   "id": "bc294ef4-c6ee-48e6-9f5f-92e4948adaf1",
   "metadata": {},
   "source": [
    "#### 4.2 (3 балла)\n",
    "Создайте конструктор класса `Bus`, который является наследником класса `Vehicle`.\n",
    "При инициализации экземпляры класса принимают один дополнительный агумент -- максимальное число пассажиров. Сохраните его в атрибут `capacity`. А также создайте атрибут `passengers_num`, который изначально равен нулю.\n",
    "\n",
    "Класса `Bus` должен повторять инициализацию класса `Vehicle`, например через <a href='https://www.programiz.com/python-programming/methods/built-in/super'>super()</a>, а затем дополнять её созданием новых атрибутов.  \n",
    "*(Если этот пункт непонятен, то реализуйте так, как понятно.)\n",
    "\n",
    "Реализуйте метод `add_passengers`, который принимает целое число пассажиров, которые садятся в автобус. Значение атрибута `passengers_num` должно изменяться соответствующим образом.  \n",
    "В обществе царит солидарность, поэтому, если места для всех новых пассажиров недостаточно, то никто из них не будет садиться. Например, если осталось 5 мест, а хотят зайти 10 человек, то никто не садится. И 5 свободных мест так и остаётся.\n",
    "\n",
    "Реализуйте метод `delete_passengers`, который принимает целое число пассажиров, которые выходят из автобуа. Значение атрибута `passengers_num` должно изменяться соответствующим образом.  \n",
    "Если введено число большее, чем количество пассажиров, то никто не выходит.\n",
    "\n"
   ]
  },
  {
   "cell_type": "code",
   "execution_count": 12,
   "id": "cd000676-b277-4932-8767-fd2e0409aef0",
   "metadata": {
    "tags": []
   },
   "outputs": [],
   "source": [
    "# ans 4.2\n",
    "class Bus(Vehicle):\n",
    "    \n",
    "    def __init__(self, name, ms, probeg, cap):\n",
    "        super().__init__(name, ms, probeg)\n",
    "        self.capacity = cap\n",
    "        self.passengers_num = 0\n",
    "        \n",
    "    def __repr__(self):\n",
    "        return f\"{self.name}\\nMax speed={self.max_speed}, Mileage={self.mileage}\"\n",
    "    \n",
    "    def add_passengers(self, n):\n",
    "        if (self.capacity - self.passengers_num) >= n:\n",
    "            self.passengers_num += n\n",
    "            \n",
    "    def delete_passengers(self, n):\n",
    "        if self.passengers_num >= n:\n",
    "            self.passengers_num -= n"
   ]
  },
  {
   "cell_type": "code",
   "execution_count": 13,
   "id": "ec806134-09e1-4ab4-ae53-3b308c452ae0",
   "metadata": {
    "tags": []
   },
   "outputs": [],
   "source": [
    "v = Bus('vvv', 100, 10, 20)\n",
    "assert all([v.name == 'vvv', v.max_speed == 100, v.mileage == 10, v.capacity==20])"
   ]
  },
  {
   "cell_type": "code",
   "execution_count": 14,
   "id": "72e4cd4d-62a1-4233-9fa0-b8b38567ef5e",
   "metadata": {
    "tags": []
   },
   "outputs": [],
   "source": [
    "v.add_passengers(10)\n",
    "assert v.passengers_num == 10\n",
    "v.add_passengers(15)\n",
    "assert v.passengers_num == 10\n",
    "v.add_passengers(10)\n",
    "assert v.passengers_num == 20\n",
    "v.delete_passengers(19)\n",
    "assert v.passengers_num == 1\n",
    "v.delete_passengers(2)\n",
    "assert v.passengers_num == 1\n",
    "v.delete_passengers(1)\n",
    "assert v.passengers_num == 0\n",
    "v.delete_passengers(1)\n",
    "assert v.passengers_num == 0"
   ]
  },
  {
   "cell_type": "markdown",
   "id": "97e15da4-5f7e-46e4-8337-b44a6620efe4",
   "metadata": {},
   "source": [
    "## B. Работа с табличными данными"
   ]
  },
  {
   "cell_type": "markdown",
   "id": "043e3447-d1d0-4e09-9666-dbfc032a0f3a",
   "metadata": {},
   "source": [
    "Мы поработаем с датасетом, который содержит информацию о твитах здоровых людей и людей с диагностированной депрессией (столбец `label`).  \n",
    "Столбцы имеют говорящие названия. Основное, что нам доступно:  \n",
    "- текст твита;  \n",
    "- статистика по твиту (репосты, лайки);  \n",
    "- статистика по пользователи (подписчики).\n",
    "\n",
    "Каждые задания последовательно перетекают друг в друга, поэтому некоторые из них не получится сделать, не выполнив предыдущие.  \n",
    "Но я уверен, что у Вас получится!"
   ]
  },
  {
   "cell_type": "code",
   "execution_count": 15,
   "id": "bef9b762-e408-427c-a062-fa68f08ad880",
   "metadata": {
    "tags": []
   },
   "outputs": [],
   "source": [
    "import pandas as pd\n",
    "import numpy as np\n",
    "import seaborn as sns\n",
    "import matplotlib.pyplot as plt"
   ]
  },
  {
   "cell_type": "code",
   "execution_count": 16,
   "id": "26d80ac4-58b3-4ed2-82dc-8a24dc2a893c",
   "metadata": {
    "tags": []
   },
   "outputs": [
    {
     "data": {
      "text/html": [
       "<div>\n",
       "<style scoped>\n",
       "    .dataframe tbody tr th:only-of-type {\n",
       "        vertical-align: middle;\n",
       "    }\n",
       "\n",
       "    .dataframe tbody tr th {\n",
       "        vertical-align: top;\n",
       "    }\n",
       "\n",
       "    .dataframe thead th {\n",
       "        text-align: right;\n",
       "    }\n",
       "</style>\n",
       "<table border=\"1\" class=\"dataframe\">\n",
       "  <thead>\n",
       "    <tr style=\"text-align: right;\">\n",
       "      <th></th>\n",
       "      <th>post_id</th>\n",
       "      <th>post_created</th>\n",
       "      <th>post_text</th>\n",
       "      <th>user_id</th>\n",
       "      <th>followers</th>\n",
       "      <th>friends</th>\n",
       "      <th>favourites</th>\n",
       "      <th>statuses</th>\n",
       "      <th>retweets</th>\n",
       "      <th>label</th>\n",
       "    </tr>\n",
       "  </thead>\n",
       "  <tbody>\n",
       "    <tr>\n",
       "      <th>0</th>\n",
       "      <td>637894677824413696</td>\n",
       "      <td>Sun Aug 30 07:48:37 +0000 2015</td>\n",
       "      <td>It's just over 2 years since I was diagnosed w...</td>\n",
       "      <td>1013187241</td>\n",
       "      <td>84</td>\n",
       "      <td>211</td>\n",
       "      <td>251</td>\n",
       "      <td>837</td>\n",
       "      <td>0</td>\n",
       "      <td>1</td>\n",
       "    </tr>\n",
       "    <tr>\n",
       "      <th>1</th>\n",
       "      <td>637890384576778240</td>\n",
       "      <td>Sun Aug 30 07:31:33 +0000 2015</td>\n",
       "      <td>It's Sunday, I need a break, so I'm planning t...</td>\n",
       "      <td>1013187241</td>\n",
       "      <td>84</td>\n",
       "      <td>211</td>\n",
       "      <td>251</td>\n",
       "      <td>837</td>\n",
       "      <td>1</td>\n",
       "      <td>1</td>\n",
       "    </tr>\n",
       "    <tr>\n",
       "      <th>2</th>\n",
       "      <td>637749345908051968</td>\n",
       "      <td>Sat Aug 29 22:11:07 +0000 2015</td>\n",
       "      <td>Awake but tired. I need to sleep but my brain ...</td>\n",
       "      <td>1013187241</td>\n",
       "      <td>84</td>\n",
       "      <td>211</td>\n",
       "      <td>251</td>\n",
       "      <td>837</td>\n",
       "      <td>0</td>\n",
       "      <td>1</td>\n",
       "    </tr>\n",
       "    <tr>\n",
       "      <th>3</th>\n",
       "      <td>637696421077123073</td>\n",
       "      <td>Sat Aug 29 18:40:49 +0000 2015</td>\n",
       "      <td>RT @SewHQ: #Retro bears make perfect gifts and...</td>\n",
       "      <td>1013187241</td>\n",
       "      <td>84</td>\n",
       "      <td>211</td>\n",
       "      <td>251</td>\n",
       "      <td>837</td>\n",
       "      <td>2</td>\n",
       "      <td>1</td>\n",
       "    </tr>\n",
       "    <tr>\n",
       "      <th>4</th>\n",
       "      <td>637696327485366272</td>\n",
       "      <td>Sat Aug 29 18:40:26 +0000 2015</td>\n",
       "      <td>It’s hard to say whether packing lists are mak...</td>\n",
       "      <td>1013187241</td>\n",
       "      <td>84</td>\n",
       "      <td>211</td>\n",
       "      <td>251</td>\n",
       "      <td>837</td>\n",
       "      <td>1</td>\n",
       "      <td>1</td>\n",
       "    </tr>\n",
       "  </tbody>\n",
       "</table>\n",
       "</div>"
      ],
      "text/plain": [
       "              post_id                    post_created  \\\n",
       "0  637894677824413696  Sun Aug 30 07:48:37 +0000 2015   \n",
       "1  637890384576778240  Sun Aug 30 07:31:33 +0000 2015   \n",
       "2  637749345908051968  Sat Aug 29 22:11:07 +0000 2015   \n",
       "3  637696421077123073  Sat Aug 29 18:40:49 +0000 2015   \n",
       "4  637696327485366272  Sat Aug 29 18:40:26 +0000 2015   \n",
       "\n",
       "                                           post_text     user_id  followers  \\\n",
       "0  It's just over 2 years since I was diagnosed w...  1013187241         84   \n",
       "1  It's Sunday, I need a break, so I'm planning t...  1013187241         84   \n",
       "2  Awake but tired. I need to sleep but my brain ...  1013187241         84   \n",
       "3  RT @SewHQ: #Retro bears make perfect gifts and...  1013187241         84   \n",
       "4  It’s hard to say whether packing lists are mak...  1013187241         84   \n",
       "\n",
       "   friends  favourites  statuses  retweets  label  \n",
       "0      211         251       837         0      1  \n",
       "1      211         251       837         1      1  \n",
       "2      211         251       837         0      1  \n",
       "3      211         251       837         2      1  \n",
       "4      211         251       837         1      1  "
      ]
     },
     "execution_count": 16,
     "metadata": {},
     "output_type": "execute_result"
    }
   ],
   "source": [
    "# чтение данных\n",
    "link_to_data = 'Data/twitter_data.csv'\n",
    "df = pd.read_csv(link_to_data, index_col=0)\n",
    "df.head()"
   ]
  },
  {
   "cell_type": "code",
   "execution_count": 17,
   "id": "9143b439-d074-4458-a5c0-6b36ba047761",
   "metadata": {
    "tags": []
   },
   "outputs": [
    {
     "data": {
      "text/plain": [
       "Index(['post_id', 'post_created', 'post_text', 'user_id', 'followers',\n",
       "       'friends', 'favourites', 'statuses', 'retweets', 'label'],\n",
       "      dtype='object')"
      ]
     },
     "execution_count": 17,
     "metadata": {},
     "output_type": "execute_result"
    }
   ],
   "source": [
    "df.columns"
   ]
  },
  {
   "cell_type": "markdown",
   "id": "c39b1014-d19f-4c96-a545-672326ac51ea",
   "metadata": {},
   "source": [
    "### 5.\n",
    "Проверьте данные на наличие дублирующихся строк. Для удаления воспользуйтесь методом `drop_duplicates()`.  \n",
    "**В ответе укажите, сколько строк было удалено.**"
   ]
  },
  {
   "cell_type": "code",
   "execution_count": 18,
   "id": "12e0c2b3-23c6-489a-97de-d40847a9bf2c",
   "metadata": {
    "tags": []
   },
   "outputs": [
    {
     "data": {
      "text/plain": [
       "(20000, 10)"
      ]
     },
     "execution_count": 18,
     "metadata": {},
     "output_type": "execute_result"
    }
   ],
   "source": [
    "# посмотрим, сколько строк и столбцов\n",
    "df.shape"
   ]
  },
  {
   "cell_type": "code",
   "execution_count": 19,
   "id": "c37d3428-f987-4098-ba12-b1180eb9dcf8",
   "metadata": {
    "tags": []
   },
   "outputs": [
    {
     "data": {
      "text/plain": [
       "(19883, 10)"
      ]
     },
     "execution_count": 19,
     "metadata": {},
     "output_type": "execute_result"
    }
   ],
   "source": [
    "# метод drop_duplicates() по-умолчанию удаляет дубликаты строк\n",
    "# можно также указать, по каким колонкам смотреть\n",
    "# или указать, оставлять ли первое вхождение, последнее вхождение\n",
    "# или удалить вообще все дублирующиеся строка\n",
    "\n",
    "df = df.drop_duplicates()\n",
    "df.shape"
   ]
  },
  {
   "cell_type": "code",
   "execution_count": 20,
   "id": "a5d60602-2fa1-4700-af28-e61fe366510f",
   "metadata": {
    "tags": []
   },
   "outputs": [
    {
     "data": {
      "text/plain": [
       "117"
      ]
     },
     "execution_count": 20,
     "metadata": {},
     "output_type": "execute_result"
    }
   ],
   "source": [
    "# сколько дублей\n",
    "20000 - 19883"
   ]
  },
  {
   "cell_type": "markdown",
   "id": "8d528bc4-9992-42d1-8674-c0df042da08e",
   "metadata": {},
   "source": [
    "### 6.\n",
    "Проверьте наличие в Ваших данных пропусков. Наличие проверьте с помощью метода `isna()`. Для поиска количества можно просуммировать булевую матрицу с помощью `sum()`.\n",
    "В ответе укажите, сколько всего пропусков есть в датасете."
   ]
  },
  {
   "cell_type": "code",
   "execution_count": 21,
   "id": "59ed613a-c0b4-467b-9a01-e3fb97a1f5bf",
   "metadata": {
    "tags": []
   },
   "outputs": [
    {
     "data": {
      "text/plain": [
       "post_id         0\n",
       "post_created    0\n",
       "post_text       0\n",
       "user_id         0\n",
       "followers       0\n",
       "friends         0\n",
       "favourites      0\n",
       "statuses        0\n",
       "retweets        0\n",
       "label           0\n",
       "dtype: int64"
      ]
     },
     "execution_count": 21,
     "metadata": {},
     "output_type": "execute_result"
    }
   ],
   "source": [
    "# метод isna() возвращает булевую маску, где для каждого исходного значения стоит True или False\n",
    "# True, если в этом месте был NaN, False -- иначе. \n",
    "# Таким образом, далее можно просто просуммировать булевой вектор (True == 1, False == 0)\n",
    "\n",
    "df.isna().sum()"
   ]
  },
  {
   "cell_type": "code",
   "execution_count": 22,
   "id": "fc69204f-4449-4a03-8a97-7cd4de681ce5",
   "metadata": {
    "tags": []
   },
   "outputs": [
    {
     "data": {
      "text/plain": [
       "0"
      ]
     },
     "execution_count": 22,
     "metadata": {},
     "output_type": "execute_result"
    }
   ],
   "source": [
    "# так мы получили результат для каждого столбца отдельно\n",
    "# давайте применим еще раз sum(), чтоб просуммировать результаты\n",
    "\n",
    "df.isna().sum().sum() # sum два раза\n",
    "\n",
    "# в итоге всего 1 число -- кол-во пропусков во всём датасете (а не отдельно для каждого столбца)"
   ]
  },
  {
   "cell_type": "markdown",
   "id": "0f3034df-d042-4359-a9e7-369eacce3587",
   "metadata": {},
   "source": [
    "### 7. (2 балла)\n",
    "Посчитайте, сколько сообщений было отправлено каждым пользователем. Для выполнения оподсчета воспользуйтесь группировкой (groupby) по пользователям. А далее просто посчитайте число строк с помощью метода `count()`. Результат отсортируйте по убыванию. (Работайте на датасете с удалённым дубликатами!) (Подсказка: groupby -> отбор 1 колонки -> count -> sort_values)\n",
    "\n",
    "В ответ укажите максимальное число сообщений (твитов) от пользователя."
   ]
  },
  {
   "cell_type": "code",
   "execution_count": 23,
   "id": "e6aa96fb-329e-411b-a665-a90759663cd8",
   "metadata": {
    "tags": []
   },
   "outputs": [
    {
     "data": {
      "text/html": [
       "<div>\n",
       "<style scoped>\n",
       "    .dataframe tbody tr th:only-of-type {\n",
       "        vertical-align: middle;\n",
       "    }\n",
       "\n",
       "    .dataframe tbody tr th {\n",
       "        vertical-align: top;\n",
       "    }\n",
       "\n",
       "    .dataframe thead th {\n",
       "        text-align: right;\n",
       "    }\n",
       "</style>\n",
       "<table border=\"1\" class=\"dataframe\">\n",
       "  <thead>\n",
       "    <tr style=\"text-align: right;\">\n",
       "      <th></th>\n",
       "      <th>user_id</th>\n",
       "      <th>post_id</th>\n",
       "    </tr>\n",
       "  </thead>\n",
       "  <tbody>\n",
       "    <tr>\n",
       "      <th>30</th>\n",
       "      <td>490044008</td>\n",
       "      <td>2102</td>\n",
       "    </tr>\n",
       "    <tr>\n",
       "      <th>46</th>\n",
       "      <td>1458225506</td>\n",
       "      <td>1580</td>\n",
       "    </tr>\n",
       "    <tr>\n",
       "      <th>64</th>\n",
       "      <td>3249600438</td>\n",
       "      <td>1495</td>\n",
       "    </tr>\n",
       "    <tr>\n",
       "      <th>14</th>\n",
       "      <td>145626605</td>\n",
       "      <td>1270</td>\n",
       "    </tr>\n",
       "    <tr>\n",
       "      <th>48</th>\n",
       "      <td>1616997456</td>\n",
       "      <td>884</td>\n",
       "    </tr>\n",
       "    <tr>\n",
       "      <th>...</th>\n",
       "      <td>...</td>\n",
       "      <td>...</td>\n",
       "    </tr>\n",
       "    <tr>\n",
       "      <th>60</th>\n",
       "      <td>2848936114</td>\n",
       "      <td>1</td>\n",
       "    </tr>\n",
       "    <tr>\n",
       "      <th>55</th>\n",
       "      <td>2565061484</td>\n",
       "      <td>1</td>\n",
       "    </tr>\n",
       "    <tr>\n",
       "      <th>54</th>\n",
       "      <td>2402651889</td>\n",
       "      <td>1</td>\n",
       "    </tr>\n",
       "    <tr>\n",
       "      <th>23</th>\n",
       "      <td>351777130</td>\n",
       "      <td>1</td>\n",
       "    </tr>\n",
       "    <tr>\n",
       "      <th>36</th>\n",
       "      <td>805234081</td>\n",
       "      <td>1</td>\n",
       "    </tr>\n",
       "  </tbody>\n",
       "</table>\n",
       "<p>72 rows × 2 columns</p>\n",
       "</div>"
      ],
      "text/plain": [
       "       user_id  post_id\n",
       "30   490044008     2102\n",
       "46  1458225506     1580\n",
       "64  3249600438     1495\n",
       "14   145626605     1270\n",
       "48  1616997456      884\n",
       "..         ...      ...\n",
       "60  2848936114        1\n",
       "55  2565061484        1\n",
       "54  2402651889        1\n",
       "23   351777130        1\n",
       "36   805234081        1\n",
       "\n",
       "[72 rows x 2 columns]"
      ]
     },
     "execution_count": 23,
     "metadata": {},
     "output_type": "execute_result"
    }
   ],
   "source": [
    "# здесь я для удобства визуального восприятия переношу строки с помощью обратного слеша\n",
    "\n",
    "# группировка по user_id, выбор столбца post_id\n",
    "# для каждой группы (=каждого уникального user_id) в столбце post id посчитать число непустых строк\n",
    "# сбросить индексы (пересоздать, создать новые)\n",
    "# отсортировать по колонке post_id по убыванию\n",
    "\n",
    "df.groupby('user_id')['post_id']\\\n",
    "                        .count()\\\n",
    "                        .reset_index()\\\n",
    "                        .sort_values(by='post_id',ascending=False)\n",
    "# строка без переносов\n",
    "# df.groupby('user_id')['post_id'].count().reset_index().sort_values(by='post_id',ascending=False)"
   ]
  },
  {
   "cell_type": "code",
   "execution_count": 24,
   "id": "309dee06-98af-4e14-a0a6-cb336058e6aa",
   "metadata": {
    "tags": []
   },
   "outputs": [
    {
     "data": {
      "text/plain": [
       "2102"
      ]
     },
     "execution_count": 24,
     "metadata": {},
     "output_type": "execute_result"
    }
   ],
   "source": [
    "# но стоит задуматься, что сортировать -- это долго. поиск просто максимума в N раз быстрее\n",
    "# так что стоило не сортировать, а просто найти максимум\n",
    "\n",
    "df.groupby('user_id')['post_id']\\\n",
    "                        .count()\\\n",
    "                        .reset_index()['post_id']\\\n",
    "                        .max()"
   ]
  },
  {
   "cell_type": "markdown",
   "id": "0d03bc4c-45f9-485f-a3fd-98bd38c4db93",
   "metadata": {},
   "source": [
    "### 8. (2 балла)\n",
    "Напишите код для визуализации на одном графике гистограммы с распределением числа сообщений пользователей отдельно для людей с депрессией и без. Воспользуйтесь histplot из пакета seaborn. Для визуализации двух гистограмм (по одной на группу) воспользуйтесь параметром hue (чтоб получить удобным датасет воспользуйтесь такой же группировкой, как в задании 3, но добавьте в группировку еще и столбец label.  \n",
    "То есть `groupby(['label', 'post_id']`. А дальше как было. Можно в конце добавить `reset_index()`).  "
   ]
  },
  {
   "cell_type": "code",
   "execution_count": 25,
   "id": "d373e0b0-ff23-4d5f-9e56-6fd5edf7dd3d",
   "metadata": {
    "tags": []
   },
   "outputs": [
    {
     "data": {
      "text/html": [
       "<div>\n",
       "<style scoped>\n",
       "    .dataframe tbody tr th:only-of-type {\n",
       "        vertical-align: middle;\n",
       "    }\n",
       "\n",
       "    .dataframe tbody tr th {\n",
       "        vertical-align: top;\n",
       "    }\n",
       "\n",
       "    .dataframe thead th {\n",
       "        text-align: right;\n",
       "    }\n",
       "</style>\n",
       "<table border=\"1\" class=\"dataframe\">\n",
       "  <thead>\n",
       "    <tr style=\"text-align: right;\">\n",
       "      <th></th>\n",
       "      <th>label</th>\n",
       "      <th>user_id</th>\n",
       "      <th>messages_num</th>\n",
       "    </tr>\n",
       "  </thead>\n",
       "  <tbody>\n",
       "    <tr>\n",
       "      <th>0</th>\n",
       "      <td>0</td>\n",
       "      <td>18831261</td>\n",
       "      <td>540</td>\n",
       "    </tr>\n",
       "    <tr>\n",
       "      <th>1</th>\n",
       "      <td>0</td>\n",
       "      <td>29053403</td>\n",
       "      <td>112</td>\n",
       "    </tr>\n",
       "    <tr>\n",
       "      <th>2</th>\n",
       "      <td>0</td>\n",
       "      <td>145626605</td>\n",
       "      <td>1270</td>\n",
       "    </tr>\n",
       "  </tbody>\n",
       "</table>\n",
       "</div>"
      ],
      "text/plain": [
       "   label    user_id  messages_num\n",
       "0      0   18831261           540\n",
       "1      0   29053403           112\n",
       "2      0  145626605          1270"
      ]
     },
     "execution_count": 25,
     "metadata": {},
     "output_type": "execute_result"
    }
   ],
   "source": [
    "# для датафрейма для визуализации воспользуемся кодом из предыдущего задания,\n",
    "# но добавим еще группировку по lable (статус, здоров человек или нет)\n",
    "# обращение к столбцу 'post_id' нужно лишь для того, чтобы не считать число строк в рамках каждого столбца\n",
    "# попробуйте убрать обращение к столбцу и посмотрите, что будет (будет таблица, где в рамках строки в каждом столбце\n",
    "# одинаковые числа).\n",
    "\n",
    "# для примера воспользуемся методом agg\n",
    "# внутри agg пишем НАЗВАНИЕ_КОНЕЧНОГО_СТОЛБЦА=ФУНКЦИЯ,КОТОРУЮ_НАДО_ПРИМЕНИТЬ_К_КАЖДОЙ_ГРУППЕ \n",
    "# применяем функцию count (метод pandas.DataFrame и pandas.Series, считает число непустых строк)\n",
    "\n",
    "viz_data = df.groupby(['label', 'user_id'])['post_id']\\\n",
    "                        .agg(messages_num=pd.Series.count)\\\n",
    "                        .reset_index()\n",
    "viz_data.head(3)"
   ]
  },
  {
   "cell_type": "code",
   "execution_count": 26,
   "id": "76bc79e1-f21c-4219-ad02-3dee6acbd0f2",
   "metadata": {
    "tags": []
   },
   "outputs": [
    {
     "data": {
      "text/plain": [
       "<Axes: xlabel='messages_num', ylabel='Count'>"
      ]
     },
     "execution_count": 26,
     "metadata": {},
     "output_type": "execute_result"
    },
    {
     "data": {
      "image/png": "[encoded data removed]",
      "text/plain": [
       "<Figure size 640x480 with 1 Axes>"
      ]
     },
     "metadata": {},
     "output_type": "display_data"
    }
   ],
   "source": [
    "sns.histplot(data=viz_data, x='messages_num', hue='label')"
   ]
  },
  {
   "cell_type": "code",
   "execution_count": 27,
   "id": "da678b6f-3018-4168-8aa0-84bb6896b666",
   "metadata": {
    "tags": []
   },
   "outputs": [
    {
     "data": {
      "text/plain": [
       "1    54\n",
       "0    18\n",
       "Name: label, dtype: int64"
      ]
     },
     "execution_count": 27,
     "metadata": {},
     "output_type": "execute_result"
    }
   ],
   "source": [
    "# картинка выше не совсем корректна, потому что у нас разное число людей с депрессией и без (сильно разное)\n",
    "# это называется ДИСБАЛАНС КЛАССОВ\n",
    "\n",
    "viz_data.label.value_counts()"
   ]
  },
  {
   "cell_type": "code",
   "execution_count": 28,
   "id": "b59e70a3-8d9a-4a22-b094-3d533c155c9b",
   "metadata": {
    "tags": []
   },
   "outputs": [
    {
     "data": {
      "text/plain": [
       "<Axes: xlabel='messages_num', ylabel='Density'>"
      ]
     },
     "execution_count": 28,
     "metadata": {},
     "output_type": "execute_result"
    },
    {
     "data": {
      "image/png": "[encoded data removed]",
      "text/plain": [
       "<Figure size 640x480 with 1 Axes>"
      ]
     },
     "metadata": {},
     "output_type": "display_data"
    }
   ],
   "source": [
    "# поэтому будет строить не просто гистрогармму частот, а отнормируем её\n",
    "\n",
    "sns.histplot(data=viz_data, x='messages_num', hue='label', \n",
    "             stat='density')"
   ]
  },
  {
   "cell_type": "code",
   "execution_count": 29,
   "id": "73abd2aa-8e8d-4115-b32e-2314f2050105",
   "metadata": {
    "tags": []
   },
   "outputs": [],
   "source": [
    "# и это в любом случае не помогает, потому что hue просто раскрашивает график в 2 цвета\n",
    "# калькуляции при этом ведутся для всех данных суммарно\n",
    "# то есть, если точек класса 0 мало, то и столбики для них будут сильно ниже.\n",
    "# Поэтому нужно два раза вызвать функцию histplot, чтобы плотность считалась независимо"
   ]
  },
  {
   "cell_type": "code",
   "execution_count": 30,
   "id": "69aece2f-3724-4493-9b82-f05fae297566",
   "metadata": {
    "tags": []
   },
   "outputs": [
    {
     "data": {
      "text/plain": [
       "<Axes: xlabel='messages_num', ylabel='Density'>"
      ]
     },
     "execution_count": 30,
     "metadata": {},
     "output_type": "execute_result"
    },
    {
     "data": {
      "image/png": "[encoded data removed]",
      "text/plain": [
       "<Figure size 640x480 with 1 Axes>"
      ]
     },
     "metadata": {},
     "output_type": "display_data"
    }
   ],
   "source": [
    "# поэтому будет строить не просто гистрогармму частот, а отнормируем её\n",
    "\n",
    "sns.histplot(data=viz_data[viz_data.label==0], x='messages_num', color='darkblue', stat='density')\n",
    "\n",
    "sns.histplot(data=viz_data[viz_data.label==1], x='messages_num', color='red', stat='density')"
   ]
  },
  {
   "cell_type": "code",
   "execution_count": 31,
   "id": "6ea1e68b-581c-4e2d-b672-a1001c9390d7",
   "metadata": {
    "tags": []
   },
   "outputs": [
    {
     "data": {
      "image/png": "[encoded data removed]",
      "text/plain": [
       "<Figure size 640x480 with 1 Axes>"
      ]
     },
     "metadata": {},
     "output_type": "display_data"
    }
   ],
   "source": [
    "# поэтому будет строить не просто гистрогармму частот, а отнормируем её\n",
    "\n",
    "sns.histplot(data=viz_data[viz_data.label==0], x='messages_num', \n",
    "             color='darkblue', stat='percent', \n",
    "             binrange=(0, 2100), bins=21)\n",
    "\n",
    "sns.histplot(data=viz_data[viz_data.label==1], x='messages_num', \n",
    "             color='red', stat='percent',\n",
    "            binrange=(0, 2100), bins=21,)\n",
    "\n",
    "\n",
    "plt.legend(title='Статус', loc='upper right', labels=['Здоровые', 'С диаг. депрессией'])\n",
    "plt.title('Гистограмма частот числа сообщений')\n",
    "plt.show()"
   ]
  },
  {
   "cell_type": "code",
   "execution_count": 32,
   "id": "93a56aa6-3b5e-437a-b24f-f065ae2b8800",
   "metadata": {
    "tags": []
   },
   "outputs": [
    {
     "data": {
      "text/plain": [
       "<Axes: xlabel='label', ylabel='messages_num'>"
      ]
     },
     "execution_count": 32,
     "metadata": {},
     "output_type": "execute_result"
    },
    {
     "data": {
      "image/png": "[encoded data removed]",
      "text/plain": [
       "<Figure size 640x480 with 1 Axes>"
      ]
     },
     "metadata": {},
     "output_type": "display_data"
    }
   ],
   "source": [
    "# в данном случае лучше всего строить боксплот\n",
    "# создаим палитру из двух цветов и установим её по-умолчанию\n",
    "sns.set_palette(sns.color_palette(['darkblue', 'red'])) \n",
    "sns.boxplot(data=viz_data, y='messages_num', x='label')\n",
    "\n",
    "# из боксплота намного лучше видно, что люди с деспрессией в среднем пишут меньше твитов"
   ]
  },
  {
   "cell_type": "markdown",
   "id": "8e394414-519e-4be8-9740-b457a17bad59",
   "metadata": {},
   "source": [
    "### 9. (1.5 балла)\n",
    "Вы решили построить модель классификации с помощью k-ближайших соседей. Но сначала решили создать новые признаки:  \n",
    "- столбец с числом символов в твире;  \n",
    "- столбец с числом слов в твите;  \n",
    "- столбец с числом заглвным букв в твире (проверка символа с помощью метода строк `isupper()`\n"
   ]
  },
  {
   "cell_type": "code",
   "execution_count": 33,
   "id": "2f8f578d-d273-4786-b7c8-eda67028c4fc",
   "metadata": {
    "tags": []
   },
   "outputs": [],
   "source": [
    "# к каждой ячейке в данном столбце применить функцию len (число символов)\n",
    "df['text_len'] = df['post_text'].apply(len)\n",
    "\n",
    "# к каждой ячейке в столбце применить след функцию: разибть в список и найти число элементов списка\n",
    "df['text_len_tokens'] = df['post_text'].apply(lambda x: len(x.split()))\n",
    "\n",
    "# к каждой ячейке в столбце применить след функцию: пройтись по буквам циклом for, каждую букву проверить на то, \n",
    "# является ли она заглавной (if ch.isupper()). Если заглавная  -- сохранить её в список.\n",
    "# в конце определить длину списка\n",
    "df['number_of_caps'] = df['post_text'].apply(lambda x: len([ch for ch in x if ch.isupper()]))"
   ]
  },
  {
   "cell_type": "markdown",
   "id": "f82c45d1-51c7-4eca-8cb6-14e828296356",
   "metadata": {},
   "source": [
    "## C. Классическое машинное обучение"
   ]
  },
  {
   "cell_type": "markdown",
   "id": "34b201dd-27d1-4725-af4d-338e0560b33b",
   "metadata": {},
   "source": [
    "### 10. (8 баллов)\n",
    "На новом датафрейме с добавленными признаками научите модель KNN-классификатора (если вы не добавили признаки, то штрафа по баллам не будет!):\n",
    "- оставьте только числовые столбцы (без идентификаторов пользователя и твита, даты и текста). датафрейм долден содержать исходные числовые столбцы и новые, созданные в задании 7;  \n",
    "- разбейте данные на обучающую и тестовую выборки (размер тестовой выборки 25%, random_state укажите 123, **используйте стратификацию!**);  \n",
    "- стаданртизируйте данные с помощью StandardScaler;\n",
    "- Обучите модель;\n",
    "- Получите предсказания для тестовой выборки;\n",
    "- Посчитайте значение метрики f1_score\n",
    "- Определите лучшее число соседей k из набора 2,3,5,8,12,20,35\n",
    "- Постройте график зависимости значения f1_score от числа соседей, подпишите оси, назовите график."
   ]
  },
  {
   "cell_type": "code",
   "execution_count": 34,
   "id": "bb61f0d9-bddd-42a5-936c-1a55e949702f",
   "metadata": {
    "tags": []
   },
   "outputs": [
    {
     "data": {
      "text/plain": [
       "Index(['post_id', 'post_created', 'post_text', 'user_id', 'followers',\n",
       "       'friends', 'favourites', 'statuses', 'retweets', 'label', 'text_len',\n",
       "       'text_len_tokens', 'number_of_caps'],\n",
       "      dtype='object')"
      ]
     },
     "execution_count": 34,
     "metadata": {},
     "output_type": "execute_result"
    }
   ],
   "source": [
    "df.columns"
   ]
  },
  {
   "cell_type": "code",
   "execution_count": 35,
   "id": "7a80f836-c064-4182-9f48-77a488ca9bf2",
   "metadata": {
    "tags": []
   },
   "outputs": [],
   "source": [
    "# отберем целевой столбец\n",
    "target = df.pop('label')"
   ]
  },
  {
   "cell_type": "code",
   "execution_count": 36,
   "id": "3ec1ec48-430e-4e46-9621-e8092144b710",
   "metadata": {
    "tags": []
   },
   "outputs": [],
   "source": [
    "cols = ['followers','friends', 'favourites', 'statuses', 'retweets', 'text_len',\n",
    "       'text_len_tokens', 'number_of_caps']"
   ]
  },
  {
   "cell_type": "code",
   "execution_count": 37,
   "id": "105ccfbd-dd04-4436-9c02-54205d397fd3",
   "metadata": {
    "tags": []
   },
   "outputs": [],
   "source": [
    "from sklearn.metrics import f1_score\n",
    "from sklearn.neighbors import KNeighborsClassifier\n",
    "from sklearn.model_selection import train_test_split\n",
    "\n",
    "# разобьем на тест и трейн\n",
    "X_train, X_test, y_train, y_test = train_test_split(df[cols], target, test_size=0.25, random_state=123,\n",
    "                                                    stratify=target)"
   ]
  },
  {
   "cell_type": "code",
   "execution_count": 38,
   "id": "699cb151-d7c1-4846-82c6-e8b166481ec5",
   "metadata": {
    "tags": []
   },
   "outputs": [],
   "source": [
    "from sklearn.preprocessing import StandardScaler\n",
    "scaler = StandardScaler() # создадим объект для масштабирования признаков\n",
    "X_train = scaler.fit_transform(X_train) # определяем среднее, станд.отклонение, запоминаем их. И масштабируем сразу же.\n",
    "X_test = scaler.transform(X_test) # на уже поулченных среднем и стад.отклонении масштабируем тестовые данные"
   ]
  },
  {
   "cell_type": "code",
   "execution_count": 39,
   "id": "d038ff57-7dd8-4915-9241-c9973e5b4aea",
   "metadata": {
    "tags": []
   },
   "outputs": [
    {
     "name": "stdout",
     "output_type": "stream",
     "text": [
      "2\n",
      "3\n",
      "4\n",
      "5\n",
      "6\n",
      "8\n",
      "12\n",
      "20\n",
      "35\n"
     ]
    }
   ],
   "source": [
    "kset = [2, 3,4,5,6,8,12,20,35]\n",
    "kres = []\n",
    "for k in kset: # перебор параметров\n",
    "    print(k)\n",
    "    model = KNeighborsClassifier(n_neighbors=k) # создаём модель с гиперпараметров числа соседей\n",
    "    model.fit(X_train, y_train) # обучение\n",
    "    y_pred = model.predict(X_test) # предсказание\n",
    "    score = f1_score(y_test, y_pred)\n",
    "    kres.append(score)"
   ]
  },
  {
   "cell_type": "code",
   "execution_count": 40,
   "id": "818c7535-7a8d-4c05-89b2-615eccc077a3",
   "metadata": {
    "tags": []
   },
   "outputs": [
    {
     "data": {
      "image/png": "[encoded data removed]",
      "text/plain": [
       "<Figure size 640x480 with 1 Axes>"
      ]
     },
     "metadata": {},
     "output_type": "display_data"
    }
   ],
   "source": [
    "plt.plot(kset, kres)\n",
    "plt.axvline(x=3, linestyle='--', color='gray')\n",
    "plt.xlabel('число соседей')\n",
    "plt.ylabel('F1')\n",
    "plt.title('F1 от числа соседей')\n",
    "plt.show()"
   ]
  },
  {
   "cell_type": "code",
   "execution_count": null,
   "id": "f3fe309b-dcb3-4877-ad91-b92d57f98697",
   "metadata": {},
   "outputs": [],
   "source": []
  }
 ],
 "metadata": {
  "kernelspec": {
   "display_name": "hock",
   "language": "python",
   "name": "hock"
  },
  "language_info": {
   "codemirror_mode": {
    "name": "ipython",
    "version": 3
   },
   "file_extension": ".py",
   "mimetype": "text/x-python",
   "name": "python",
   "nbconvert_exporter": "python",
   "pygments_lexer": "ipython3",
   "version": "3.9.16"
  },
  "toc-autonumbering": false,
  "toc-showtags": false
 },
 "nbformat": 4,
 "nbformat_minor": 5
}
