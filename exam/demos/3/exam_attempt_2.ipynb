{
 "cells": [
  {
   "cell_type": "markdown",
   "id": "25fc5765-8c3d-4697-bb94-d67f6f80fa6f",
   "metadata": {},
   "source": [
    "# Преамбула\n",
    "Экзамен состоит из трёх блоков:  \n",
    "- программирование на python;  \n",
    "- работа с датафреймами и описательная статистика;  \n",
    "- классическое машинное обучение.\n",
    "\n",
    "В каждом вопросе может быть **любое** количество правильных ответов.  \n",
    "Стоимость вопроса равна одному баллу, если не сказано иное.  \n",
    "Для успешной сдачи экзамена необходимо набрать 50% и более от максимального числа баллов.\n",
    "\n",
    "- **NB:** В первом блоке (программирование на python) **ЗАПРЕЩЕНО** пользоваться библиотеками, не посталяемыми вместе с python по-умолчанию (т.е. pandas/numpy нельзя использовать в это блоке, а random/json -- можно);  \n",
    "- Все спорные моменты трактуются в пользу экзаменуемого;  \n",
    "- Ваш код должен быть воспроизводим (если я положу исходные файлы в ту же папку, что и Ваш ноутбук, и нажму `Run` -> `Run All Cells`, то всё должно работать). Так что соблюдайте логику и последовательнось запуска ячеек. Спасибо :)  \n",
    "- Можно пользоваться только своей головой, но любыми материалами и интернетом;  \n",
    "- Если задание кажется сложным -- пропустите его;  \n",
    "\n",
    "- Во время экзамена я буду отвечать только на вопросы касаемо формулировок заданий.\n",
    "\n",
    "Главное, не спешите, проверяйте, что и куда записывается.  \n",
    "За каждого болею.  \n",
    "Всем удачи!  \n"
   ]
  },
  {
   "cell_type": "markdown",
   "id": "95c1c7c5-87d9-48c1-92f1-f6f823e7ebac",
   "metadata": {},
   "source": [
    "# Программирование на python"
   ]
  },
  {
   "cell_type": "markdown",
   "id": "0af9e0be-b928-4aac-b8f4-338834d6b184",
   "metadata": {},
   "source": [
    "## 1."
   ]
  },
  {
   "cell_type": "markdown",
   "id": "77647d6b-fd54-4d9e-8432-1c12b128faf5",
   "metadata": {},
   "source": [
    "### 1.1 (1 балл)\n",
    "В некоторой стране ввели налог на воздух, сумма которого вычисляется по следующей формуле \n",
    "$$ T = V_{см^3} * k + base $$,\n",
    "где $T$ -- размер налога, $V$ -- суммарный объём вдохнутоо воздуха, $k$ -- некоторый коэффициент, $base$ -- базовая надбавка.\n",
    "\n",
    "> Реализуйте функцию `breath_tax`, которая принимает в качестве аргументов объём вдохнутого воздуха и значения для $k$ и $base$ и возвращает сумму налога. Возвращаемое значение округлить до 2 знаков после запятой."
   ]
  },
  {
   "cell_type": "code",
   "execution_count": null,
   "id": "b4b5f63d-fa60-4781-a988-861415c8a7cf",
   "metadata": {},
   "outputs": [],
   "source": []
  },
  {
   "cell_type": "code",
   "execution_count": 60,
   "id": "1082b732-e459-4c29-80f5-eb20fb6f6053",
   "metadata": {
    "tags": []
   },
   "outputs": [],
   "source": [
    "assert breath_tax(3333, 1.475, 25) == 4941.18"
   ]
  },
  {
   "cell_type": "markdown",
   "id": "05af142f-6327-459d-b7ad-8bb09c38913b",
   "metadata": {},
   "source": [
    "### 1.2 (1 балл)  \n",
    "\n",
    "Сделайте $k$ и $base$ keyword аргументами со значениями по-умолчанию 1.5 и 100 соответственно."
   ]
  },
  {
   "cell_type": "code",
   "execution_count": null,
   "id": "c2e1e5f7-3d68-4b08-bb5b-e33cfcf43eea",
   "metadata": {},
   "outputs": [],
   "source": []
  },
  {
   "cell_type": "code",
   "execution_count": 69,
   "id": "8262b2db-d28e-4b35-a6be-f428a471ab5a",
   "metadata": {
    "tags": []
   },
   "outputs": [],
   "source": [
    "assert breath_tax(3333) == 5099.5"
   ]
  },
  {
   "cell_type": "markdown",
   "id": "ac4890b7-0133-4064-a203-825c3f7f819e",
   "metadata": {},
   "source": [
    "## 2. (2 балла)\n",
    "Дан файл `flat_data.json` с информацией о стоимости и других параметрах квартир.  Сконвертируйте его в файл `flat_data.csv` csv формата. В качестве разделителя используйте точку с запятой (\";\"). \n",
    "\n",
    "Пример результата:  \n",
    "<center>\n",
    "    <img src=\"data/task2.png\" />\n",
    "</center>"
   ]
  },
  {
   "cell_type": "code",
   "execution_count": null,
   "id": "42b00dc1-4c20-40c3-b0cb-b8a785866c06",
   "metadata": {},
   "outputs": [],
   "source": []
  },
  {
   "cell_type": "markdown",
   "id": "893860e6-ea07-4286-880a-29bfe8c837d4",
   "metadata": {},
   "source": [
    "## 3."
   ]
  },
  {
   "cell_type": "markdown",
   "id": "e3433395-f829-441e-b2ab-8d007dab9bc2",
   "metadata": {},
   "source": [
    "### 3.1 (2 балла)\n",
    "\n",
    "Создайте консуктор класса `Flat`.  \n",
    "При создании экземпляры класса должны принимать:\n",
    "* площадь квартиры (area)\n",
    "* стоимость (price)\n",
    "* число комнат (rooms)\n",
    "и создавать соответсвующие атрибуты.\n",
    "\n",
    "При создании экземпляра класса на основании принимаемых данных также создать атрибуты:\n",
    "* средняя площадь комнаты (будем считать по формуле $ \\frac{площадь.кв}{число.комнат}$) (meanRoomArea). Округлить до 1 знака после запятой;  \n",
    "* стоимост квадратного метра ($\\frac{стоимость}{площадь}$) (meter_price). Округлить до 1 знака после запятой."
   ]
  },
  {
   "cell_type": "code",
   "execution_count": null,
   "id": "297a2bc7-e2cd-40d7-b08a-fe0b6761ae6d",
   "metadata": {},
   "outputs": [],
   "source": []
  },
  {
   "cell_type": "code",
   "execution_count": 95,
   "id": "d570f4a4-d7a3-474a-a808-a2bddaeaac55",
   "metadata": {
    "tags": []
   },
   "outputs": [],
   "source": [
    "f = Flat(9.5, 99.55, 2)\n",
    "assert all([f.area == 9.5, f.price == 99.55, f.rooms == 2, f.meanRoomArea ==4.8, f.meter_price == 10.5]) "
   ]
  },
  {
   "cell_type": "markdown",
   "id": "9fdc68d6-917a-490a-9298-9f87be37fd8a",
   "metadata": {},
   "source": [
    "### 3.2 (1 балл)\n",
    "Реализуйте метод `__repr__` для строкового предсталения экземпляра класса квартиры (вид возвращаемой строки какой хотите)."
   ]
  },
  {
   "cell_type": "code",
   "execution_count": null,
   "id": "27b4fcc5-be0c-434e-981f-ca9971d4bded",
   "metadata": {},
   "outputs": [],
   "source": []
  },
  {
   "cell_type": "markdown",
   "id": "a2253e4a-3393-41cf-ad42-084984e908c2",
   "metadata": {},
   "source": [
    "### 3.3 (1 балл)\n",
    "Сделайте так, чтобы при применении функции `len()` к экземпляру класса Flat возвращалось число комнат."
   ]
  },
  {
   "cell_type": "code",
   "execution_count": null,
   "id": "8b218edf-12e4-4d99-9b0d-ee53dc53aec5",
   "metadata": {},
   "outputs": [],
   "source": []
  },
  {
   "cell_type": "code",
   "execution_count": 100,
   "id": "21af18ac-e41a-4e96-9d9f-3674e7d223f8",
   "metadata": {
    "tags": []
   },
   "outputs": [],
   "source": [
    "f = Flat(9.5, 99.55, 2)\n",
    "assert all([len(f) == 2]) "
   ]
  },
  {
   "cell_type": "markdown",
   "id": "473232b4-199c-4ffb-8351-854d8a548fdb",
   "metadata": {},
   "source": [
    "### 3.4 (1.5 балла)\n",
    "Реализуйте метод `discount`, который принимает размер скидки (число процентов). Соотвутствующая скидка применяется к стоимости квартиры. Значения атрибутов, зависящих от стоимости, также пересчитываются.  \n",
    "Стоимость квартиры округлять до 2 знаков после запятой. Всех остальных атрибутов -- до 1 знака.\n",
    "\n",
    "Скидка не может быть больше 100. Если введено недопустимое число, то метод должен возвращать булевое `False`."
   ]
  },
  {
   "cell_type": "code",
   "execution_count": null,
   "id": "48c2d768-d511-48ce-9016-0786def5c63a",
   "metadata": {},
   "outputs": [],
   "source": []
  },
  {
   "cell_type": "code",
   "execution_count": 117,
   "id": "2616f03c-583e-44b8-96b2-68817e273fe5",
   "metadata": {
    "tags": []
   },
   "outputs": [],
   "source": [
    "f = Flat(9.5, 99.55, 2)\n",
    "assert all([f.area == 9.5, f.price == 99.55, f.rooms == 2, f.meanRoomArea ==4.8, f.meter_price == 10.5]) \n",
    "f.discount(0)\n",
    "assert all([f.area == 9.5, f.price == 99.55, f.rooms == 2, f.meanRoomArea ==4.8, f.meter_price == 10.5]) \n",
    "f.discount(50)\n",
    "assert all([f.area == 9.5, f.price ==  49.77, f.rooms == 2, f.meanRoomArea ==4.8, f.meter_price == 5.2]) \n",
    "assert f.discount(101) is False"
   ]
  },
  {
   "cell_type": "markdown",
   "id": "5f2048ef-c21e-4660-bd0b-34a443d0218b",
   "metadata": {
    "tags": []
   },
   "source": [
    "# Работа с табличными данными\n",
    "Дан файл `moscow_flats_dataset_2020.csv` с информацией о стоимости квартир в Москве.\n",
    "\n",
    "Разделитель -- запятая."
   ]
  },
  {
   "cell_type": "code",
   "execution_count": 122,
   "id": "c2437941-ddc4-49ff-a28e-0aa425b2e146",
   "metadata": {
    "tags": []
   },
   "outputs": [
    {
     "data": {
      "text/html": [
       "<div>\n",
       "<style scoped>\n",
       "    .dataframe tbody tr th:only-of-type {\n",
       "        vertical-align: middle;\n",
       "    }\n",
       "\n",
       "    .dataframe tbody tr th {\n",
       "        vertical-align: top;\n",
       "    }\n",
       "\n",
       "    .dataframe thead th {\n",
       "        text-align: right;\n",
       "    }\n",
       "</style>\n",
       "<table border=\"1\" class=\"dataframe\">\n",
       "  <thead>\n",
       "    <tr style=\"text-align: right;\">\n",
       "      <th></th>\n",
       "      <th>wallsMaterial</th>\n",
       "      <th>floorNumber</th>\n",
       "      <th>floorsTotal</th>\n",
       "      <th>totalArea</th>\n",
       "      <th>kitchenArea</th>\n",
       "      <th>latitude</th>\n",
       "      <th>longitude</th>\n",
       "      <th>price</th>\n",
       "    </tr>\n",
       "  </thead>\n",
       "  <tbody>\n",
       "    <tr>\n",
       "      <th>0</th>\n",
       "      <td>brick</td>\n",
       "      <td>1</td>\n",
       "      <td>5.0</td>\n",
       "      <td>18.0</td>\n",
       "      <td>3.0</td>\n",
       "      <td>55.723379</td>\n",
       "      <td>37.628577</td>\n",
       "      <td>5600000</td>\n",
       "    </tr>\n",
       "    <tr>\n",
       "      <th>1</th>\n",
       "      <td>brick</td>\n",
       "      <td>1</td>\n",
       "      <td>5.0</td>\n",
       "      <td>15.0</td>\n",
       "      <td>3.0</td>\n",
       "      <td>55.725980</td>\n",
       "      <td>37.671031</td>\n",
       "      <td>4650000</td>\n",
       "    </tr>\n",
       "    <tr>\n",
       "      <th>2</th>\n",
       "      <td>brick</td>\n",
       "      <td>1</td>\n",
       "      <td>5.0</td>\n",
       "      <td>11.9</td>\n",
       "      <td>1.5</td>\n",
       "      <td>55.735976</td>\n",
       "      <td>37.657817</td>\n",
       "      <td>2990000</td>\n",
       "    </tr>\n",
       "    <tr>\n",
       "      <th>3</th>\n",
       "      <td>brick</td>\n",
       "      <td>1</td>\n",
       "      <td>7.0</td>\n",
       "      <td>18.4</td>\n",
       "      <td>3.0</td>\n",
       "      <td>55.786698</td>\n",
       "      <td>37.595321</td>\n",
       "      <td>4390000</td>\n",
       "    </tr>\n",
       "    <tr>\n",
       "      <th>4</th>\n",
       "      <td>brick</td>\n",
       "      <td>2</td>\n",
       "      <td>5.0</td>\n",
       "      <td>17.6</td>\n",
       "      <td>2.0</td>\n",
       "      <td>55.767894</td>\n",
       "      <td>37.665920</td>\n",
       "      <td>4890000</td>\n",
       "    </tr>\n",
       "  </tbody>\n",
       "</table>\n",
       "</div>"
      ],
      "text/plain": [
       "  wallsMaterial  floorNumber  floorsTotal  totalArea  kitchenArea   latitude   \n",
       "0         brick            1          5.0       18.0          3.0  55.723379  \\\n",
       "1         brick            1          5.0       15.0          3.0  55.725980   \n",
       "2         brick            1          5.0       11.9          1.5  55.735976   \n",
       "3         brick            1          7.0       18.4          3.0  55.786698   \n",
       "4         brick            2          5.0       17.6          2.0  55.767894   \n",
       "\n",
       "   longitude    price  \n",
       "0  37.628577  5600000  \n",
       "1  37.671031  4650000  \n",
       "2  37.657817  2990000  \n",
       "3  37.595321  4390000  \n",
       "4  37.665920  4890000  "
      ]
     },
     "execution_count": 122,
     "metadata": {},
     "output_type": "execute_result"
    }
   ],
   "source": [
    "import pandas as pd\n",
    "import numpy as np\n",
    "\n",
    "import seaborn as sns\n",
    "import matplotlib.pyplot as plt\n",
    "\n",
    "\n",
    "df = pd.read_csv('data/moscow_flats_dataset_2020.csv', encoding='utf8', sep=',')\n",
    "df.head()"
   ]
  },
  {
   "cell_type": "markdown",
   "id": "835e56d0-1f1f-473f-b8f5-44804e7551e3",
   "metadata": {
    "tags": []
   },
   "source": [
    "## 4. (0.5 балла)\n",
    "Определите число пропусков для каждой колонки. \n",
    "\n",
    "Затем определите суммарное число пропусков в датафрейме.\n",
    "\n",
    "Пример вывода:  \n",
    "\n",
    "<kbd>\n",
    "<img src=\"data/task4_1.png\" />\n",
    "</kbd>\n",
    "<br>\n",
    "<kbd>\n",
    "<img src=\"data/task4_2.png\" />\n",
    "</kbd>"
   ]
  },
  {
   "cell_type": "code",
   "execution_count": null,
   "id": "da79f966-e78d-40d9-8fbc-d1a15786d72d",
   "metadata": {},
   "outputs": [],
   "source": []
  },
  {
   "cell_type": "markdown",
   "id": "4796d4ac-38d3-4f12-b1be-da02e45c8226",
   "metadata": {
    "tags": []
   },
   "source": [
    "## 5. (0.5 балла)\n",
    "Предположим, что не существет друх квартир с одинаковыми координатами и стоимостью. А значит такие в нашем датасете -- дубликаты.  \n",
    "Удалите дубликаты из таблицы и определите размерность результата.  \n",
    "Сколько строчек было удалено?"
   ]
  },
  {
   "cell_type": "code",
   "execution_count": null,
   "id": "3bc9b8d1-b807-4788-8a83-0803c6a1f738",
   "metadata": {},
   "outputs": [],
   "source": []
  },
  {
   "cell_type": "markdown",
   "id": "e4788c82-3f1f-4a63-bee9-97982fa94201",
   "metadata": {},
   "source": [
    "## 6. (0.5 балла)\n",
    "Определите, сколько раз встречалось каждое уникальное значение в столбце _wallsMaterial_.  \n",
    "Отсортируйте результат по встречаемости."
   ]
  },
  {
   "cell_type": "code",
   "execution_count": null,
   "id": "ca22c9ca-9d9c-4d21-8f1c-cd68cca0b212",
   "metadata": {},
   "outputs": [],
   "source": []
  },
  {
   "cell_type": "markdown",
   "id": "1152e0bc-b297-4652-a651-b521b250a51c",
   "metadata": {},
   "source": [
    "## 7. (0.75 балла)\n",
    "Для каждого типа материала стен определите среднее значение цены квартиры."
   ]
  },
  {
   "cell_type": "code",
   "execution_count": null,
   "id": "ebeba7d6-fcd1-4324-be7c-9f71a451a865",
   "metadata": {},
   "outputs": [],
   "source": []
  },
  {
   "cell_type": "markdown",
   "id": "c7b5af45-8333-431a-be8d-804e36879014",
   "metadata": {},
   "source": [
    "## 8. \n",
    "Для каждого этажа определите за одну комманду:  \n",
    "* медианное значение цены;  \n",
    "* стандартное отклонение цены;  \n",
    "* 5% квантиль цены;  \n",
    "* 95% квантиль цены;"
   ]
  },
  {
   "cell_type": "code",
   "execution_count": null,
   "id": "1ceccd35-2e45-4804-bbdd-c4f52e35d91c",
   "metadata": {},
   "outputs": [],
   "source": []
  },
  {
   "cell_type": "markdown",
   "id": "d4383145-d4fd-4d87-8b8f-15a28bce24cb",
   "metadata": {},
   "source": [
    "## 9.\n",
    "Для каждой группы домов, по числу этажей (_floorsTotal_) за одну команду определите медианное значение для latitude и longitude."
   ]
  },
  {
   "cell_type": "code",
   "execution_count": null,
   "id": "137a0225-e0ca-4b78-8974-12fcc0fd5a38",
   "metadata": {},
   "outputs": [],
   "source": []
  },
  {
   "cell_type": "markdown",
   "id": "a9f357b8-86f2-407a-8335-2852a61f6017",
   "metadata": {
    "tags": []
   },
   "source": [
    "## 10.\n",
    "Для квартир, площадь которых больше 70 метров, определите топ-2 самых часто встречаемых материалов стен."
   ]
  },
  {
   "cell_type": "code",
   "execution_count": null,
   "id": "bb09e804-9ae7-4e6d-9c81-6f5c9305fa4c",
   "metadata": {},
   "outputs": [],
   "source": []
  },
  {
   "cell_type": "markdown",
   "id": "b6807351-32cd-48cf-9d5c-5d3a5e026d78",
   "metadata": {},
   "source": [
    "## 11. \n",
    "Нарисуйте распределение стоимости жилья отдельно для каждого материала стен.  \n",
    "**Сделайте 20 бинов, иначе картинка будет рисоваться вечность!**\n",
    "\n",
    "<kbd>\n",
    "<img src=\"data/task11.png\" />\n",
    "</kbd>"
   ]
  },
  {
   "cell_type": "code",
   "execution_count": null,
   "id": "bf6426de-25ae-425b-b021-2d5b4c967d53",
   "metadata": {},
   "outputs": [],
   "source": []
  },
  {
   "cell_type": "markdown",
   "id": "b69b98b9-d5e5-42b7-abc3-291c137fe041",
   "metadata": {},
   "source": [
    "## 12. (3 балла)\n",
    "Согласитесь, картинка выше полный отстой. Попробуем два варианта: \n",
    "1. Прологарифмируем стоимость и построим гистограмму для логарифмов цен (основание логарифма -- двойка);\n",
    "2. Срежем 5% самых дорогих квартир и построим гистограммы для оставшихся 95%.  \n",
    "\n",
    "(**+1 балл**)  \n",
    "Отобразите картинки на одном графике (то есть слева картинку для варианта 1, а справа -- для варианта два). \n",
    "\n",
    "<kbd>\n",
    "<img src=\"data/task12.png\" />\n",
    "</kbd>"
   ]
  },
  {
   "cell_type": "code",
   "execution_count": null,
   "id": "63e4374a-0b0d-4d86-9b11-229df58d7ff1",
   "metadata": {},
   "outputs": [],
   "source": []
  },
  {
   "cell_type": "markdown",
   "id": "fef4dcd0-ff7d-492f-a3ef-59db5f3bd899",
   "metadata": {},
   "source": [
    "## 13. (2 балла)\n",
    "\n",
    "Постройте гистограмму встречаемости типов материалов стены.  \n",
    "Разбейте отдельно для квартир дороже 20МЛН, от 10МЛН до 20МЛН и дешевле 10 МЛН.\n",
    "\n",
    "<kbd>\n",
    "<img src=\"data/task13.png\" />\n",
    "</kbd>"
   ]
  },
  {
   "cell_type": "code",
   "execution_count": null,
   "id": "c8a11895-38c5-451e-8164-d40faf622d56",
   "metadata": {},
   "outputs": [],
   "source": []
  },
  {
   "cell_type": "markdown",
   "id": "ace23067-57a4-4a45-90d2-5f49a164fbf3",
   "metadata": {
    "tags": []
   },
   "source": [
    "## 14 (2 балла)\n",
    "Постройте гистограмму встречаемости типов материалов стены. Но теперь нужно вывести не частоту, а проценты.  \n",
    "Разбейте отдельно для квартир дороже 20МЛН, от 10МЛН до 20МЛН и дешевле 10 МЛН\n",
    "\n",
    "**Т.е. то, сколько процентов кирпичных домов приходится на категории <10M, 10-20М и >20М.**\n",
    "\n",
    "<kbd>\n",
    "<img src=\"data/task14.png\" />\n",
    "</kbd>"
   ]
  },
  {
   "cell_type": "code",
   "execution_count": null,
   "id": "eb015f0a-0c5b-45a8-b342-d7c043c7af14",
   "metadata": {},
   "outputs": [],
   "source": []
  },
  {
   "cell_type": "markdown",
   "id": "f3e6af04-e8da-499d-b51c-0f109aad28ee",
   "metadata": {},
   "source": [
    "# Введение в классическое машинное обучение\n",
    "\n",
    "Будем работать с тем же файлом `moscow_flats_dataset_2020.csv`."
   ]
  },
  {
   "cell_type": "code",
   "execution_count": 219,
   "id": "92467de3-b3bc-4ea8-a0ff-30a6f8499d85",
   "metadata": {
    "tags": []
   },
   "outputs": [],
   "source": [
    "# будем работать с исходным файлом\n",
    "df = pd.read_csv('data/moscow_flats_dataset_2020.csv', encoding='utf8', sep=',')"
   ]
  },
  {
   "cell_type": "markdown",
   "id": "023a8206-a884-42a4-a7dc-5955c0060245",
   "metadata": {},
   "source": [
    "## 15. (3 балла)\n",
    "Только на числовых признаках обучите модель линейной регрессии с параметрами по-умолчанию для определения стоимости квартиры. \n",
    "\n",
    "Указания:\n",
    "1. Отберите числовые столбцы;\n",
    "2. Разбейте данные для трейн и тест (размер тестовой выборки 25%, сид для рандомизации: 23042023 );\n",
    "3. Обучите модель на тренинговой выборке;  \n",
    "4. Сделайте предсказания модель на тестовой выборке;  \n",
    "5. Посчитайте RMSLE (<a href=\"https://scikit-learn.org/stable/modules/generated/sklearn.metrics.mean_squared_log_error.html\">ссылка</a>);"
   ]
  },
  {
   "cell_type": "code",
   "execution_count": null,
   "id": "f7ba247a-9888-4446-ad6f-ff5645d1be1f",
   "metadata": {},
   "outputs": [],
   "source": []
  },
  {
   "cell_type": "markdown",
   "id": "12987123-7553-456d-9c50-cf89b3fa0b0e",
   "metadata": {},
   "source": [
    "## 16 (3 балла)\n",
    "Попробуем предсказывать теперь не стоимость, а её логарифм. Обучим линейную модель для предсказания логарифма цены, дальше возведем экспоненту в найденные степени (логарифм==степень), посчитаем ошибку.\n",
    "\n",
    "Указания:\n",
    "1. Отберите числовые столбцы;\n",
    "2. Разбейте данные для трейн и тест (размер тестовой выборки 25%, сид для рандомизации: 23042023 );  \n",
    "*2.2 _Стедайлте MinMax шкалирование числовых признаков (+1 балл)_\n",
    "3. Прологарифмируйте цены в трейне;\n",
    "4. Обучите модель на тренинговой выборке;  \n",
    "5. Сделайте предсказания модель на тестовой выборке;  \n",
    "6. Так как мы предсказали именно степени, а не сами цены, то возведите экспоненту в найденные степени;\n",
    "7. Посчитайте RMSLE на ценах;\n",
    "\n",
    "**Стало ли лучше? Почему?**"
   ]
  },
  {
   "cell_type": "code",
   "execution_count": null,
   "id": "dd29a608-3521-4ec1-aa9d-bcc2ba6cdb45",
   "metadata": {},
   "outputs": [],
   "source": []
  },
  {
   "cell_type": "markdown",
   "id": "b3e80e30-66a6-436b-85d9-96d2ad9702bc",
   "metadata": {},
   "source": [
    "### 17. (5 баллов)\n",
    "На исходных данных (не шкалированных) обучите модель случайного леса (RandomForestClassifier) для определения  значения \"wallsMaterial\" и определите оптимальные параметры с помощью GridSearchCV.\n",
    "\n",
    "Укаазния:  \n",
    "1. Разбейте данные на трейн и тест (размер тестовой выборки 25%, сид для рандомизации: 23042023 );  \n",
    "2. Создайте сетку параметров для GridSearchCV.  \n",
    "   Значения для перебора: \n",
    "   - `n_estimators: 10, 25, 50, 100`\n",
    "   - `max_depth: 3, 5, 10`\n",
    "   - `max_features: \"sqrt\", \"log2\"`  \n",
    "   \n",
    "Для скоринга используйте f1-score (average) (нужно создать scorer с помощью <a href=\"https://scikit-learn.org/stable/modules/generated/sklearn.metrics.make_scorer.html\">make_scorer</a>).   \n",
    "(GridSearchCV учите только на тренинговой выборке)\n",
    "\n",
    "3. На лучшей модели из GridSearchCV (атрибут best_estimator_ или как-то так) сделайте предсказания для тестовой выборки;  \n",
    "4. Определите roc_auc_score (average) для предсказания."
   ]
  },
  {
   "cell_type": "code",
   "execution_count": null,
   "id": "bb19ce27-8279-4df3-8082-c8632ada83a0",
   "metadata": {},
   "outputs": [],
   "source": []
  }
 ],
 "metadata": {
  "kernelspec": {
   "display_name": "hock",
   "language": "python",
   "name": "hock"
  },
  "language_info": {
   "codemirror_mode": {
    "name": "ipython",
    "version": 3
   },
   "file_extension": ".py",
   "mimetype": "text/x-python",
   "name": "python",
   "nbconvert_exporter": "python",
   "pygments_lexer": "ipython3",
   "version": "3.10.10"
  },
  "toc-autonumbering": false
 },
 "nbformat": 4,
 "nbformat_minor": 5
}
