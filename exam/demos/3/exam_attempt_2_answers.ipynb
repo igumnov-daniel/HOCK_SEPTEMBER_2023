{
 "cells": [
  {
   "cell_type": "markdown",
   "id": "25fc5765-8c3d-4697-bb94-d67f6f80fa6f",
   "metadata": {},
   "source": [
    "# Преамбула\n",
    "Экзамен состоит из трёх блоков:  \n",
    "- программирование на python;  \n",
    "- работа с датафреймами и описательная статистика;  \n",
    "- классическое машинное обучение.\n",
    "\n",
    "В каждом вопросе может быть **любое** количество правильных ответов.  \n",
    "Стоимость вопроса равна одному баллу, если не сказано иное.  \n",
    "Для успешной сдачи экзамена необходимо набрать 50% и более от максимального числа баллов.\n",
    "\n",
    "- **NB:** В первом блоке (программирование на python) **ЗАПРЕЩЕНО** пользоваться библиотеками, не посталяемыми вместе с python по-умолчанию (т.е. pandas/numpy нельзя использовать в это блоке, а random/json -- можно);  \n",
    "- Все спорные моменты трактуются в пользу экзаменуемого;  \n",
    "- Ваш код должен быть воспроизводим (если я положу исходные файлы в ту же папку, что и Ваш ноутбук, и нажму `Run` -> `Run All Cells`, то всё должно работать). Так что соблюдайте логику и последовательнось запуска ячеек. Спасибо :)  \n",
    "- Можно пользоваться только своей головой, но любыми материалами и интернетом;  \n",
    "- Если задание кажется сложным -- пропустите его;  \n",
    "\n",
    "- Во время экзамена я буду отвечать только на вопросы касаемо формулировок заданий.\n",
    "\n",
    "Главное, не спешите, проверяйте, что и куда записывается.  \n",
    "За каждого болею.  \n",
    "Всем удачи!  \n"
   ]
  },
  {
   "cell_type": "code",
   "execution_count": null,
   "id": "8f4d8aca-b916-4cd4-8a44-0c953e5cb057",
   "metadata": {},
   "outputs": [],
   "source": []
  },
  {
   "cell_type": "markdown",
   "id": "95c1c7c5-87d9-48c1-92f1-f6f823e7ebac",
   "metadata": {},
   "source": [
    "# Программирование на python"
   ]
  },
  {
   "cell_type": "markdown",
   "id": "0af9e0be-b928-4aac-b8f4-338834d6b184",
   "metadata": {},
   "source": [
    "## 1."
   ]
  },
  {
   "cell_type": "markdown",
   "id": "77647d6b-fd54-4d9e-8432-1c12b128faf5",
   "metadata": {},
   "source": [
    "### 1.1 (1 балл)\n",
    "В некоторой стране ввели налог на воздух, сумма которого вычисляется по следующей формуле \n",
    "$$ T = V_{см^3} * k + base $$,\n",
    "где $T$ -- размер налога, $V$ -- суммарный объём вдохнутоо воздуха, $k$ -- некоторый коэффициент, $base$ -- базовая надбавка.\n",
    "\n",
    "> Реализуйте функцию `breath_tax`, которая принимает в качестве аргументов объём вдохнутого воздуха и значения для $k$ и $base$ и возвращает сумму налога. Возвращаемое значение округлить до 2 знаков после запятой."
   ]
  },
  {
   "cell_type": "code",
   "execution_count": 8,
   "id": "c03666d2-5b9c-442f-bd01-e2d44e3681ba",
   "metadata": {
    "tags": []
   },
   "outputs": [],
   "source": [
    "# ans 1.1\n",
    "def breath_tax(V, k, base):\n",
    "    return round(V * k + base, 2)"
   ]
  },
  {
   "cell_type": "code",
   "execution_count": 9,
   "id": "ceaf4dd1-2f88-44ce-b3df-b886bd6a9398",
   "metadata": {
    "tags": []
   },
   "outputs": [
    {
     "data": {
      "text/plain": [
       "4941.18"
      ]
     },
     "execution_count": 9,
     "metadata": {},
     "output_type": "execute_result"
    }
   ],
   "source": [
    "breath_tax(3333, 1.475, 25)"
   ]
  },
  {
   "cell_type": "code",
   "execution_count": 10,
   "id": "1082b732-e459-4c29-80f5-eb20fb6f6053",
   "metadata": {
    "tags": []
   },
   "outputs": [],
   "source": [
    "assert breath_tax(3333, 1.475, 25) == 4941.18"
   ]
  },
  {
   "cell_type": "markdown",
   "id": "05af142f-6327-459d-b7ad-8bb09c38913b",
   "metadata": {},
   "source": [
    "### 1.2 (1 балл)  \n",
    "\n",
    "Сделайте $k$ и $base$ keyword аргументами со значениями по-умолчанию 1.5 и 100 соответственно."
   ]
  },
  {
   "cell_type": "code",
   "execution_count": 4,
   "id": "691d9c7e-08f7-4472-8a7f-a4d4beb22e15",
   "metadata": {
    "tags": []
   },
   "outputs": [],
   "source": [
    "# ans 1.2\n",
    "def breath_tax(V, k=1.5, base=100):\n",
    "    return round(V * k + base, 2)"
   ]
  },
  {
   "cell_type": "code",
   "execution_count": 14,
   "id": "80ef0376-1c14-47e2-9433-1826c0f07ec4",
   "metadata": {
    "tags": []
   },
   "outputs": [],
   "source": [
    "# ans 1.2\n",
    "def breath_tax(V: int, k: float=1.5, base: float=100.0) -> float:\n",
    "    \"\"\"\n",
    "    DOCSTRING\n",
    "    \"\"\"\n",
    "    return round(V * k + base, 2)"
   ]
  },
  {
   "cell_type": "code",
   "execution_count": 13,
   "id": "8262b2db-d28e-4b35-a6be-f428a471ab5a",
   "metadata": {
    "tags": []
   },
   "outputs": [],
   "source": [
    "assert breath_tax(3333) == 5099.5"
   ]
  },
  {
   "cell_type": "markdown",
   "id": "ac4890b7-0133-4064-a203-825c3f7f819e",
   "metadata": {},
   "source": [
    "## 2. (2 балла)\n",
    "Дан файл `flat_data.json` с информацией о стоимости и других параметрах квартир.  Сконвертируйте его в файл `flat_data.csv` csv формата. В качестве разделителя используйте точку с запятой (\";\"). \n",
    "\n",
    "Пример результата:  \n",
    "<center>\n",
    "    <img src=\"data/task2.png\" />\n",
    "</center>"
   ]
  },
  {
   "cell_type": "code",
   "execution_count": 16,
   "id": "69072a05-6cdf-4374-83e8-1d617e8432a9",
   "metadata": {
    "tags": []
   },
   "outputs": [],
   "source": [
    "# ans 2\n",
    "import json\n",
    "with open('data/flat_data.json', 'r', encoding='utf8') as inp:\n",
    "    data = json.load(inp)"
   ]
  },
  {
   "cell_type": "code",
   "execution_count": 23,
   "id": "5a4d2a23-fe61-4a2a-a400-df5a235f46be",
   "metadata": {
    "tags": []
   },
   "outputs": [
    {
     "name": "stdout",
     "output_type": "stream",
     "text": [
      "[1, 2, 3, 4, 5]\n"
     ]
    }
   ],
   "source": [
    "a = [1, 2, 3, 4, 5]\n",
    "print(a)"
   ]
  },
  {
   "cell_type": "code",
   "execution_count": 24,
   "id": "187baa8c-c121-48fc-88f5-1c8b652204c5",
   "metadata": {
    "tags": []
   },
   "outputs": [
    {
     "name": "stdout",
     "output_type": "stream",
     "text": [
      "1 2 3 4 5\n"
     ]
    }
   ],
   "source": [
    "print(*a)"
   ]
  },
  {
   "cell_type": "code",
   "execution_count": 25,
   "id": "7b926cee-a948-465e-bae3-0102fe6f4371",
   "metadata": {
    "tags": []
   },
   "outputs": [
    {
     "name": "stdout",
     "output_type": "stream",
     "text": [
      "1 2 3 4 5\n"
     ]
    }
   ],
   "source": [
    "print(a[0], a[1], a[2], a[3], a[4])"
   ]
  },
  {
   "cell_type": "code",
   "execution_count": null,
   "id": "7685c4b4-4195-47ca-8a38-1cacb8917556",
   "metadata": {},
   "outputs": [],
   "source": [
    "with open('data/flat_data.csv', 'w', encoding='utf8') as out:\n",
    "    cols = ['wallsMaterial', 'floorNumber', 'floorsTotal', 'totalArea', 'kitchenArea', 'latitude', 'longitude', 'price']\n",
    "    out.write(\"{};{};{};{};{};{};{};{};{}\\n\".format('ID',*cols))\n",
    "    for k, v in data.items():\n",
    "        out.write(\"{};{};{};{};{};{};{};{};{}\\n\".format(k,\n",
    "                                                        *[v[c] for c in cols]\n",
    "                                                       ))\n",
    "        \n",
    "        # out.write(f\"{k};{v['wallsMaterial']};{v['floorNumber']}...\")\n",
    "        \n",
    "        # out.write(\"{};{};{};{};{};{};{};{};{}\\n\".format(k,\n",
    "        #                                                v['wallsMaterial'],\n",
    "        #                                                v['floorNumber'],\n",
    "        #                                                v['floorsTotal'],\n",
    "        #                                                v['totalArea']...))"
   ]
  },
  {
   "cell_type": "markdown",
   "id": "893860e6-ea07-4286-880a-29bfe8c837d4",
   "metadata": {},
   "source": [
    "## 3."
   ]
  },
  {
   "cell_type": "markdown",
   "id": "e3433395-f829-441e-b2ab-8d007dab9bc2",
   "metadata": {},
   "source": [
    "### 3.1 (2 балла)\n",
    "\n",
    "Создайте консуктор класса `Flat`.  \n",
    "При создании экземпляры класса должны принимать:\n",
    "* площадь квартиры (area)\n",
    "* стоимость (price)\n",
    "* число комнат (rooms)\n",
    "и создавать соответсвующие атрибуты.\n",
    "\n",
    "При создании экземпляра класса на основании принимаемых данных также создать атрибуты:\n",
    "* средняя площадь комнаты (будем считать по формуле $ \\frac{площадь.кв}{число.комнат}$) (meanRoomArea). Округлить до 1 знака после запятой;  \n",
    "* стоимост квадратного метра ($\\frac{стоимость}{площадь}$) (meter_price). Округлить до 1 знака после запятой."
   ]
  },
  {
   "cell_type": "code",
   "execution_count": 30,
   "id": "4b3d35c7-2da1-4a6d-9120-1c3fcc8cb4cd",
   "metadata": {
    "tags": []
   },
   "outputs": [],
   "source": [
    "class Flat:\n",
    "    \n",
    "    def __init__(self, area, price, rooms):\n",
    "        self.area = area\n",
    "        self.price = price\n",
    "        self.rooms = rooms\n",
    "        self.meanRoomArea = round(area / rooms, 1)\n",
    "        self.meter_price = round(price / area, 1)"
   ]
  },
  {
   "cell_type": "code",
   "execution_count": 31,
   "id": "d570f4a4-d7a3-474a-a808-a2bddaeaac55",
   "metadata": {
    "tags": []
   },
   "outputs": [],
   "source": [
    "f = Flat(9.5, 99.55, 2)\n",
    "assert all([f.area == 9.5, f.price == 99.55, f.rooms == 2, f.meanRoomArea == 4.8, f.meter_price == 10.5]) "
   ]
  },
  {
   "cell_type": "markdown",
   "id": "9fdc68d6-917a-490a-9298-9f87be37fd8a",
   "metadata": {},
   "source": [
    "### 3.2 (1 балл)\n",
    "Реализуйте метод `__repr__` для строкового предсталения экземпляра класса квартиры (вид возвращаемой строки какой хотите)."
   ]
  },
  {
   "cell_type": "code",
   "execution_count": 38,
   "id": "27b4fcc5-be0c-434e-981f-ca9971d4bded",
   "metadata": {
    "tags": []
   },
   "outputs": [
    {
     "name": "stdout",
     "output_type": "stream",
     "text": [
      "Квартира стоимостью 99.55, метраж: 9.5\n"
     ]
    }
   ],
   "source": [
    "class Flat:\n",
    "    \n",
    "    def __init__(self, area, price, rooms):\n",
    "        self.area = area\n",
    "        self.price = price\n",
    "        self.rooms = rooms\n",
    "        self.meanRoomArea = round(area / rooms, 1)\n",
    "        self.meter_price = round(price / area, 1)\n",
    "        \n",
    "    def __repr__(self):\n",
    "        return f\"Квартира стоимостью {self.price}, метраж: {self.area}\"\n",
    "    \n",
    "f = Flat(9.5, 99.55, 2)\n",
    "print(f)"
   ]
  },
  {
   "cell_type": "markdown",
   "id": "a2253e4a-3393-41cf-ad42-084984e908c2",
   "metadata": {},
   "source": [
    "### 3.3 (1 балл)\n",
    "Сделайте так, чтобы при применении функции `len()` к экземпляру класса Flat возвращалось число комнат."
   ]
  },
  {
   "cell_type": "code",
   "execution_count": 52,
   "id": "316238c1-cd06-4391-9532-b312fef70121",
   "metadata": {
    "tags": []
   },
   "outputs": [],
   "source": [
    "class Flat:\n",
    "    \n",
    "    def __init__(self, area, price, rooms):\n",
    "        self.area = area\n",
    "        self.price = price\n",
    "        self.rooms = rooms\n",
    "        self.meanRoomArea = round(area / rooms, 1)\n",
    "        self.meter_price = round(price / area, 1)\n",
    "        \n",
    "    def __len__(self):\n",
    "        return self.rooms\n",
    "    \n",
    "    def __add__(self, obj2):\n",
    "        self.rooms += obj2\n",
    "        return self"
   ]
  },
  {
   "cell_type": "code",
   "execution_count": 58,
   "id": "21af18ac-e41a-4e96-9d9f-3674e7d223f8",
   "metadata": {
    "tags": []
   },
   "outputs": [],
   "source": [
    "f = Flat(9.5, 99.55, 2)\n",
    "assert all([len(f) == 2]) "
   ]
  },
  {
   "cell_type": "code",
   "execution_count": 59,
   "id": "f5fe23cf-82a0-4dbb-bdda-14addaa9706b",
   "metadata": {
    "tags": []
   },
   "outputs": [
    {
     "data": {
      "text/plain": [
       "2"
      ]
     },
     "execution_count": 59,
     "metadata": {},
     "output_type": "execute_result"
    }
   ],
   "source": [
    "len(f)"
   ]
  },
  {
   "cell_type": "code",
   "execution_count": 60,
   "id": "86f3d262-7000-4208-86a0-40544cb6ec6b",
   "metadata": {
    "tags": []
   },
   "outputs": [],
   "source": [
    "f = f + 4"
   ]
  },
  {
   "cell_type": "code",
   "execution_count": 61,
   "id": "a19ee32d-cef3-461d-919c-ed60782b5553",
   "metadata": {
    "tags": []
   },
   "outputs": [
    {
     "data": {
      "text/plain": [
       "6"
      ]
     },
     "execution_count": 61,
     "metadata": {},
     "output_type": "execute_result"
    }
   ],
   "source": [
    "len(f)"
   ]
  },
  {
   "cell_type": "markdown",
   "id": "473232b4-199c-4ffb-8351-854d8a548fdb",
   "metadata": {},
   "source": [
    "### 3.4 (1.5 балла)\n",
    "Реализуйте метод `discount`, который принимает размер скидки (число процентов). Соотвутствующая скидка применяется к стоимости квартиры. Значения атрибутов, зависящих от стоимости, также пересчитываются.  \n",
    "Стоимость квартиры округлять до 2 знаков после запятой. Всех остальных атрибутов -- до 1 знака.\n",
    "\n",
    "Скидка не может быть больше 100. Если введено недопустимое число, то метод должен возвращать булевое `False`."
   ]
  },
  {
   "cell_type": "code",
   "execution_count": 62,
   "id": "04678619-f28e-441a-865f-fb3500ee25cd",
   "metadata": {
    "tags": []
   },
   "outputs": [],
   "source": [
    "class Flat:\n",
    "    \n",
    "    def __init__(self, area, price, rooms):\n",
    "        self.area = area\n",
    "        self.price = price\n",
    "        self.rooms = rooms\n",
    "        self.meanRoomArea = round(area / rooms, 1)\n",
    "        self.meter_price = round(price / area, 1)\n",
    "        \n",
    "    def __len__(self):\n",
    "        return self.rooms\n",
    "    \n",
    "    def discount(self, r):\n",
    "        if r > 100 or r <= 0:\n",
    "            return False\n",
    "        \n",
    "        q = (1 - r/100)\n",
    "        self.price = round(self.price * q, 2)\n",
    "        self.meter_price = round(self.price / self.area, 1)"
   ]
  },
  {
   "cell_type": "code",
   "execution_count": 64,
   "id": "2616f03c-583e-44b8-96b2-68817e273fe5",
   "metadata": {
    "tags": []
   },
   "outputs": [],
   "source": [
    "f = Flat(9.5, 99.55, 2)\n",
    "assert all([f.area == 9.5, f.price == 99.55, f.rooms == 2, f.meanRoomArea == 4.8, f.meter_price == 10.5]) \n",
    "f.discount(0)\n",
    "assert all([f.area == 9.5, f.price == 99.55, f.rooms == 2, f.meanRoomArea == 4.8, f.meter_price == 10.5]) \n",
    "f.discount(50)\n",
    "assert all([f.area == 9.5, f.price ==  49.77, f.rooms == 2, f.meanRoomArea == 4.8, f.meter_price == 5.2]) \n",
    "assert f.discount(101) is False"
   ]
  },
  {
   "cell_type": "markdown",
   "id": "5f2048ef-c21e-4660-bd0b-34a443d0218b",
   "metadata": {
    "tags": []
   },
   "source": [
    "# Работа с табличными данными\n",
    "Дан файл `moscow_flats_dataset_2020.csv` с информацией о стоимости квартир в Москве.\n",
    "\n",
    "Разделитель -- запятая."
   ]
  },
  {
   "cell_type": "code",
   "execution_count": 65,
   "id": "c2437941-ddc4-49ff-a28e-0aa425b2e146",
   "metadata": {
    "tags": []
   },
   "outputs": [
    {
     "data": {
      "text/html": [
       "<div>\n",
       "<style scoped>\n",
       "    .dataframe tbody tr th:only-of-type {\n",
       "        vertical-align: middle;\n",
       "    }\n",
       "\n",
       "    .dataframe tbody tr th {\n",
       "        vertical-align: top;\n",
       "    }\n",
       "\n",
       "    .dataframe thead th {\n",
       "        text-align: right;\n",
       "    }\n",
       "</style>\n",
       "<table border=\"1\" class=\"dataframe\">\n",
       "  <thead>\n",
       "    <tr style=\"text-align: right;\">\n",
       "      <th></th>\n",
       "      <th>wallsMaterial</th>\n",
       "      <th>floorNumber</th>\n",
       "      <th>floorsTotal</th>\n",
       "      <th>totalArea</th>\n",
       "      <th>kitchenArea</th>\n",
       "      <th>latitude</th>\n",
       "      <th>longitude</th>\n",
       "      <th>price</th>\n",
       "    </tr>\n",
       "  </thead>\n",
       "  <tbody>\n",
       "    <tr>\n",
       "      <th>0</th>\n",
       "      <td>brick</td>\n",
       "      <td>1</td>\n",
       "      <td>5.0</td>\n",
       "      <td>18.0</td>\n",
       "      <td>3.0</td>\n",
       "      <td>55.723379</td>\n",
       "      <td>37.628577</td>\n",
       "      <td>5600000</td>\n",
       "    </tr>\n",
       "    <tr>\n",
       "      <th>1</th>\n",
       "      <td>brick</td>\n",
       "      <td>1</td>\n",
       "      <td>5.0</td>\n",
       "      <td>15.0</td>\n",
       "      <td>3.0</td>\n",
       "      <td>55.725980</td>\n",
       "      <td>37.671031</td>\n",
       "      <td>4650000</td>\n",
       "    </tr>\n",
       "    <tr>\n",
       "      <th>2</th>\n",
       "      <td>brick</td>\n",
       "      <td>1</td>\n",
       "      <td>5.0</td>\n",
       "      <td>11.9</td>\n",
       "      <td>1.5</td>\n",
       "      <td>55.735976</td>\n",
       "      <td>37.657817</td>\n",
       "      <td>2990000</td>\n",
       "    </tr>\n",
       "    <tr>\n",
       "      <th>3</th>\n",
       "      <td>brick</td>\n",
       "      <td>1</td>\n",
       "      <td>7.0</td>\n",
       "      <td>18.4</td>\n",
       "      <td>3.0</td>\n",
       "      <td>55.786698</td>\n",
       "      <td>37.595321</td>\n",
       "      <td>4390000</td>\n",
       "    </tr>\n",
       "    <tr>\n",
       "      <th>4</th>\n",
       "      <td>brick</td>\n",
       "      <td>2</td>\n",
       "      <td>5.0</td>\n",
       "      <td>17.6</td>\n",
       "      <td>2.0</td>\n",
       "      <td>55.767894</td>\n",
       "      <td>37.665920</td>\n",
       "      <td>4890000</td>\n",
       "    </tr>\n",
       "  </tbody>\n",
       "</table>\n",
       "</div>"
      ],
      "text/plain": [
       "  wallsMaterial  floorNumber  floorsTotal  totalArea  kitchenArea   latitude  \\\n",
       "0         brick            1          5.0       18.0          3.0  55.723379   \n",
       "1         brick            1          5.0       15.0          3.0  55.725980   \n",
       "2         brick            1          5.0       11.9          1.5  55.735976   \n",
       "3         brick            1          7.0       18.4          3.0  55.786698   \n",
       "4         brick            2          5.0       17.6          2.0  55.767894   \n",
       "\n",
       "   longitude    price  \n",
       "0  37.628577  5600000  \n",
       "1  37.671031  4650000  \n",
       "2  37.657817  2990000  \n",
       "3  37.595321  4390000  \n",
       "4  37.665920  4890000  "
      ]
     },
     "execution_count": 65,
     "metadata": {},
     "output_type": "execute_result"
    }
   ],
   "source": [
    "import pandas as pd\n",
    "import numpy as np\n",
    "\n",
    "import seaborn as sns\n",
    "import matplotlib.pyplot as plt\n",
    "\n",
    "\n",
    "df = pd.read_csv('data/moscow_flats_dataset_2020.csv', encoding='utf8', sep=',')\n",
    "df.head()"
   ]
  },
  {
   "cell_type": "markdown",
   "id": "835e56d0-1f1f-473f-b8f5-44804e7551e3",
   "metadata": {
    "tags": []
   },
   "source": [
    "## 4. (0.5 балла)\n",
    "Определите число пропусков для каждой колонки. \n",
    "\n",
    "Затем определите суммарное число пропусков в датафрейме.\n",
    "\n",
    "Пример вывода:  \n",
    "\n",
    "<kbd>\n",
    "<img src=\"data/task4_1.png\" />\n",
    "</kbd>\n",
    "<br>\n",
    "<kbd>\n",
    "<img src=\"data/task4_2.png\" />\n",
    "</kbd>"
   ]
  },
  {
   "cell_type": "code",
   "execution_count": 70,
   "id": "73dc86aa-69b1-40ce-a03f-ef80a7f0796d",
   "metadata": {
    "tags": []
   },
   "outputs": [
    {
     "data": {
      "text/plain": [
       "wallsMaterial    0\n",
       "floorNumber      0\n",
       "floorsTotal      0\n",
       "totalArea        0\n",
       "kitchenArea      0\n",
       "latitude         0\n",
       "longitude        0\n",
       "price            0\n",
       "dtype: int64"
      ]
     },
     "execution_count": 70,
     "metadata": {},
     "output_type": "execute_result"
    }
   ],
   "source": [
    "df.isna().sum()"
   ]
  },
  {
   "cell_type": "code",
   "execution_count": 71,
   "id": "a4ca933f-a0f6-4df9-ad7d-184a3dd0b953",
   "metadata": {
    "tags": []
   },
   "outputs": [
    {
     "data": {
      "text/plain": [
       "0"
      ]
     },
     "execution_count": 71,
     "metadata": {},
     "output_type": "execute_result"
    }
   ],
   "source": [
    "df.isna().sum().sum()"
   ]
  },
  {
   "cell_type": "markdown",
   "id": "4796d4ac-38d3-4f12-b1be-da02e45c8226",
   "metadata": {
    "tags": []
   },
   "source": [
    "## 5. (0.5 балла)\n",
    "Предположим, что не существет друх квартир с одинаковыми координатами и стоимостью. А значит такие в нашем датасете -- дубликаты.  \n",
    "Удалите дубликаты из таблицы и определите размерность результата.  \n",
    "Сколько строчек было удалено?"
   ]
  },
  {
   "cell_type": "code",
   "execution_count": 73,
   "id": "3a333b71-0e85-4208-a9c9-6a656596f052",
   "metadata": {
    "tags": []
   },
   "outputs": [
    {
     "name": "stdout",
     "output_type": "stream",
     "text": [
      "(63945, 8)\n",
      "(61304, 8)\n"
     ]
    }
   ],
   "source": [
    "print(df.shape)\n",
    "df_no_dup = df.drop_duplicates()\n",
    "print(df_no_dup.shape)"
   ]
  },
  {
   "cell_type": "markdown",
   "id": "e4788c82-3f1f-4a63-bee9-97982fa94201",
   "metadata": {},
   "source": [
    "## 6. (0.5 балла)\n",
    "Определите, сколько раз встречалось каждое уникальное значение в столбце _wallsMaterial_.  \n",
    "Отсортируйте результат по встречаемости."
   ]
  },
  {
   "cell_type": "code",
   "execution_count": 74,
   "id": "ca22c9ca-9d9c-4d21-8f1c-cd68cca0b212",
   "metadata": {
    "tags": []
   },
   "outputs": [
    {
     "data": {
      "text/plain": [
       "panel            24629\n",
       "monolith         14018\n",
       "brick            12346\n",
       "monolithBrick     5232\n",
       "block             3862\n",
       "stalin            1180\n",
       "wood                23\n",
       "old                 12\n",
       "None                 2\n",
       "Name: wallsMaterial, dtype: int64"
      ]
     },
     "execution_count": 74,
     "metadata": {},
     "output_type": "execute_result"
    }
   ],
   "source": [
    "df_no_dup.wallsMaterial.value_counts()"
   ]
  },
  {
   "cell_type": "code",
   "execution_count": 77,
   "id": "23a62803-1429-4aab-855e-5059c55dcb74",
   "metadata": {
    "tags": []
   },
   "outputs": [
    {
     "data": {
      "text/plain": [
       "panel            40.18\n",
       "monolith         22.87\n",
       "brick            20.14\n",
       "monolithBrick     8.53\n",
       "block             6.30\n",
       "stalin            1.92\n",
       "wood              0.04\n",
       "old               0.02\n",
       "None              0.00\n",
       "Name: wallsMaterial, dtype: float64"
      ]
     },
     "execution_count": 77,
     "metadata": {},
     "output_type": "execute_result"
    }
   ],
   "source": [
    "(df_no_dup.wallsMaterial.value_counts(normalize=True) * 100).round(2)"
   ]
  },
  {
   "cell_type": "markdown",
   "id": "1152e0bc-b297-4652-a651-b521b250a51c",
   "metadata": {},
   "source": [
    "## 7. (0.75 балла)\n",
    "Для каждого типа материала стен определите среднее значение цены квартиры."
   ]
  },
  {
   "cell_type": "code",
   "execution_count": 78,
   "id": "ebeba7d6-fcd1-4324-be7c-9f71a451a865",
   "metadata": {
    "tags": []
   },
   "outputs": [
    {
     "data": {
      "text/plain": [
       "wallsMaterial\n",
       "None             1.405000e+07\n",
       "block            9.678479e+06\n",
       "brick            1.869918e+07\n",
       "monolith         2.581014e+07\n",
       "monolithBrick    3.925321e+07\n",
       "old              4.662350e+07\n",
       "panel            1.017386e+07\n",
       "stalin           2.060923e+07\n",
       "wood             1.629083e+07\n",
       "Name: price, dtype: float64"
      ]
     },
     "execution_count": 78,
     "metadata": {},
     "output_type": "execute_result"
    }
   ],
   "source": [
    "df_no_dup.groupby('wallsMaterial')['price'].mean()"
   ]
  },
  {
   "cell_type": "code",
   "execution_count": 80,
   "id": "26c1c7f3-12a0-4418-be50-1ef8042abc3c",
   "metadata": {
    "tags": []
   },
   "outputs": [
    {
     "data": {
      "text/plain": [
       "wallsMaterial\n",
       "None             14.0\n",
       "block             9.7\n",
       "brick            18.7\n",
       "monolith         25.8\n",
       "monolithBrick    39.3\n",
       "old              46.6\n",
       "panel            10.2\n",
       "stalin           20.6\n",
       "wood             16.3\n",
       "Name: price, dtype: float64"
      ]
     },
     "execution_count": 80,
     "metadata": {},
     "output_type": "execute_result"
    }
   ],
   "source": [
    "# или в млн\n",
    "(df_no_dup.groupby('wallsMaterial')['price'].mean() / 1e6).round(1)"
   ]
  },
  {
   "cell_type": "markdown",
   "id": "c7b5af45-8333-431a-be8d-804e36879014",
   "metadata": {},
   "source": [
    "## 8. \n",
    "Для каждого этажа определите за одну комманду:  \n",
    "* медианное значение цены;  \n",
    "* стандартное отклонение цены;  \n",
    "* 5% квантиль цены;  \n",
    "* 95% квантиль цены;"
   ]
  },
  {
   "cell_type": "code",
   "execution_count": 81,
   "id": "1ceccd35-2e45-4804-bbdd-c4f52e35d91c",
   "metadata": {
    "tags": []
   },
   "outputs": [
    {
     "data": {
      "text/html": [
       "<div>\n",
       "<style scoped>\n",
       "    .dataframe tbody tr th:only-of-type {\n",
       "        vertical-align: middle;\n",
       "    }\n",
       "\n",
       "    .dataframe tbody tr th {\n",
       "        vertical-align: top;\n",
       "    }\n",
       "\n",
       "    .dataframe thead th {\n",
       "        text-align: right;\n",
       "    }\n",
       "</style>\n",
       "<table border=\"1\" class=\"dataframe\">\n",
       "  <thead>\n",
       "    <tr style=\"text-align: right;\">\n",
       "      <th></th>\n",
       "      <th>медиана</th>\n",
       "      <th>стадотклон</th>\n",
       "      <th>квантиль5проц</th>\n",
       "      <th>квантиль95проц</th>\n",
       "    </tr>\n",
       "    <tr>\n",
       "      <th>floorNumber</th>\n",
       "      <th></th>\n",
       "      <th></th>\n",
       "      <th></th>\n",
       "      <th></th>\n",
       "    </tr>\n",
       "  </thead>\n",
       "  <tbody>\n",
       "    <tr>\n",
       "      <th>1</th>\n",
       "      <td>8800000.0</td>\n",
       "      <td>2.227567e+07</td>\n",
       "      <td>5200000.0</td>\n",
       "      <td>21000000.0</td>\n",
       "    </tr>\n",
       "    <tr>\n",
       "      <th>2</th>\n",
       "      <td>10700000.0</td>\n",
       "      <td>3.016630e+07</td>\n",
       "      <td>5800000.0</td>\n",
       "      <td>40000000.0</td>\n",
       "    </tr>\n",
       "    <tr>\n",
       "      <th>3</th>\n",
       "      <td>11400000.0</td>\n",
       "      <td>2.535124e+07</td>\n",
       "      <td>5900000.0</td>\n",
       "      <td>49999999.4</td>\n",
       "    </tr>\n",
       "    <tr>\n",
       "      <th>4</th>\n",
       "      <td>11470000.0</td>\n",
       "      <td>2.832333e+07</td>\n",
       "      <td>6000000.0</td>\n",
       "      <td>51465000.0</td>\n",
       "    </tr>\n",
       "    <tr>\n",
       "      <th>5</th>\n",
       "      <td>11000000.0</td>\n",
       "      <td>3.103444e+07</td>\n",
       "      <td>6000000.0</td>\n",
       "      <td>45250000.0</td>\n",
       "    </tr>\n",
       "    <tr>\n",
       "      <th>...</th>\n",
       "      <td>...</td>\n",
       "      <td>...</td>\n",
       "      <td>...</td>\n",
       "      <td>...</td>\n",
       "    </tr>\n",
       "    <tr>\n",
       "      <th>77</th>\n",
       "      <td>31035000.0</td>\n",
       "      <td>6.853605e+06</td>\n",
       "      <td>24523500.0</td>\n",
       "      <td>36853500.0</td>\n",
       "    </tr>\n",
       "    <tr>\n",
       "      <th>78</th>\n",
       "      <td>26500000.0</td>\n",
       "      <td>NaN</td>\n",
       "      <td>26500000.0</td>\n",
       "      <td>26500000.0</td>\n",
       "    </tr>\n",
       "    <tr>\n",
       "      <th>79</th>\n",
       "      <td>65656000.0</td>\n",
       "      <td>NaN</td>\n",
       "      <td>65656000.0</td>\n",
       "      <td>65656000.0</td>\n",
       "    </tr>\n",
       "    <tr>\n",
       "      <th>80</th>\n",
       "      <td>30064500.0</td>\n",
       "      <td>2.353958e+06</td>\n",
       "      <td>28566450.0</td>\n",
       "      <td>31562550.0</td>\n",
       "    </tr>\n",
       "    <tr>\n",
       "      <th>81</th>\n",
       "      <td>89680000.0</td>\n",
       "      <td>1.131371e+05</td>\n",
       "      <td>89608000.0</td>\n",
       "      <td>89752000.0</td>\n",
       "    </tr>\n",
       "  </tbody>\n",
       "</table>\n",
       "<p>71 rows × 4 columns</p>\n",
       "</div>"
      ],
      "text/plain": [
       "                медиана    стадотклон  квантиль5проц  квантиль95проц\n",
       "floorNumber                                                         \n",
       "1             8800000.0  2.227567e+07      5200000.0      21000000.0\n",
       "2            10700000.0  3.016630e+07      5800000.0      40000000.0\n",
       "3            11400000.0  2.535124e+07      5900000.0      49999999.4\n",
       "4            11470000.0  2.832333e+07      6000000.0      51465000.0\n",
       "5            11000000.0  3.103444e+07      6000000.0      45250000.0\n",
       "...                 ...           ...            ...             ...\n",
       "77           31035000.0  6.853605e+06     24523500.0      36853500.0\n",
       "78           26500000.0           NaN     26500000.0      26500000.0\n",
       "79           65656000.0           NaN     65656000.0      65656000.0\n",
       "80           30064500.0  2.353958e+06     28566450.0      31562550.0\n",
       "81           89680000.0  1.131371e+05     89608000.0      89752000.0\n",
       "\n",
       "[71 rows x 4 columns]"
      ]
     },
     "execution_count": 81,
     "metadata": {},
     "output_type": "execute_result"
    }
   ],
   "source": [
    "df_no_dup.groupby('floorNumber')['price'].agg(\n",
    "                                                медиана=np.median,\n",
    "                                                стадотклон=np.std,\n",
    "                                                квантиль5проц=lambda x: x.quantile(0.05),\n",
    "                                                квантиль95проц=lambda x: x.quantile(0.95),\n",
    "                                               )"
   ]
  },
  {
   "cell_type": "markdown",
   "id": "d4383145-d4fd-4d87-8b8f-15a28bce24cb",
   "metadata": {},
   "source": [
    "## 9.\n",
    "Для каждой группы домов, по числу этажей (_floorsTotal_) за одну команду определите медианное значение для latitude и longitude."
   ]
  },
  {
   "cell_type": "code",
   "execution_count": 92,
   "id": "137a0225-e0ca-4b78-8974-12fcc0fd5a38",
   "metadata": {
    "tags": []
   },
   "outputs": [
    {
     "data": {
      "text/html": [
       "<div>\n",
       "<style scoped>\n",
       "    .dataframe tbody tr th:only-of-type {\n",
       "        vertical-align: middle;\n",
       "    }\n",
       "\n",
       "    .dataframe tbody tr th {\n",
       "        vertical-align: top;\n",
       "    }\n",
       "\n",
       "    .dataframe thead tr th {\n",
       "        text-align: left;\n",
       "    }\n",
       "\n",
       "    .dataframe thead tr:last-of-type th {\n",
       "        text-align: right;\n",
       "    }\n",
       "</style>\n",
       "<table border=\"1\" class=\"dataframe\">\n",
       "  <thead>\n",
       "    <tr>\n",
       "      <th></th>\n",
       "      <th colspan=\"2\" halign=\"left\">latitude</th>\n",
       "      <th colspan=\"2\" halign=\"left\">longitude</th>\n",
       "    </tr>\n",
       "    <tr>\n",
       "      <th></th>\n",
       "      <th>mean</th>\n",
       "      <th>std</th>\n",
       "      <th>mean</th>\n",
       "      <th>std</th>\n",
       "    </tr>\n",
       "    <tr>\n",
       "      <th>floorsTotal</th>\n",
       "      <th></th>\n",
       "      <th></th>\n",
       "      <th></th>\n",
       "      <th></th>\n",
       "    </tr>\n",
       "  </thead>\n",
       "  <tbody>\n",
       "    <tr>\n",
       "      <th>1.0</th>\n",
       "      <td>55.663003</td>\n",
       "      <td>0.176033</td>\n",
       "      <td>37.350313</td>\n",
       "      <td>0.116918</td>\n",
       "    </tr>\n",
       "    <tr>\n",
       "      <th>2.0</th>\n",
       "      <td>55.708762</td>\n",
       "      <td>0.138273</td>\n",
       "      <td>37.510349</td>\n",
       "      <td>0.174777</td>\n",
       "    </tr>\n",
       "    <tr>\n",
       "      <th>3.0</th>\n",
       "      <td>55.599322</td>\n",
       "      <td>0.124734</td>\n",
       "      <td>37.338208</td>\n",
       "      <td>0.262392</td>\n",
       "    </tr>\n",
       "    <tr>\n",
       "      <th>4.0</th>\n",
       "      <td>55.717612</td>\n",
       "      <td>0.122088</td>\n",
       "      <td>37.545483</td>\n",
       "      <td>0.161449</td>\n",
       "    </tr>\n",
       "    <tr>\n",
       "      <th>5.0</th>\n",
       "      <td>55.745835</td>\n",
       "      <td>0.086787</td>\n",
       "      <td>37.606140</td>\n",
       "      <td>0.132306</td>\n",
       "    </tr>\n",
       "    <tr>\n",
       "      <th>...</th>\n",
       "      <td>...</td>\n",
       "      <td>...</td>\n",
       "      <td>...</td>\n",
       "      <td>...</td>\n",
       "    </tr>\n",
       "    <tr>\n",
       "      <th>85.0</th>\n",
       "      <td>55.749601</td>\n",
       "      <td>0.000661</td>\n",
       "      <td>37.534312</td>\n",
       "      <td>0.000233</td>\n",
       "    </tr>\n",
       "    <tr>\n",
       "      <th>94.0</th>\n",
       "      <td>55.749511</td>\n",
       "      <td>NaN</td>\n",
       "      <td>37.537083</td>\n",
       "      <td>NaN</td>\n",
       "    </tr>\n",
       "    <tr>\n",
       "      <th>95.0</th>\n",
       "      <td>55.749511</td>\n",
       "      <td>0.000000</td>\n",
       "      <td>37.537083</td>\n",
       "      <td>0.000000</td>\n",
       "    </tr>\n",
       "    <tr>\n",
       "      <th>97.0</th>\n",
       "      <td>55.749511</td>\n",
       "      <td>0.000000</td>\n",
       "      <td>37.537083</td>\n",
       "      <td>0.000000</td>\n",
       "    </tr>\n",
       "    <tr>\n",
       "      <th>99.0</th>\n",
       "      <td>55.819939</td>\n",
       "      <td>NaN</td>\n",
       "      <td>37.795115</td>\n",
       "      <td>NaN</td>\n",
       "    </tr>\n",
       "  </tbody>\n",
       "</table>\n",
       "<p>76 rows × 4 columns</p>\n",
       "</div>"
      ],
      "text/plain": [
       "              latitude            longitude          \n",
       "                  mean       std       mean       std\n",
       "floorsTotal                                          \n",
       "1.0          55.663003  0.176033  37.350313  0.116918\n",
       "2.0          55.708762  0.138273  37.510349  0.174777\n",
       "3.0          55.599322  0.124734  37.338208  0.262392\n",
       "4.0          55.717612  0.122088  37.545483  0.161449\n",
       "5.0          55.745835  0.086787  37.606140  0.132306\n",
       "...                ...       ...        ...       ...\n",
       "85.0         55.749601  0.000661  37.534312  0.000233\n",
       "94.0         55.749511       NaN  37.537083       NaN\n",
       "95.0         55.749511  0.000000  37.537083  0.000000\n",
       "97.0         55.749511  0.000000  37.537083  0.000000\n",
       "99.0         55.819939       NaN  37.795115       NaN\n",
       "\n",
       "[76 rows x 4 columns]"
      ]
     },
     "execution_count": 92,
     "metadata": {},
     "output_type": "execute_result"
    }
   ],
   "source": [
    "df_no_dup.groupby('floorsTotal')[['latitude', 'longitude']].agg([np.mean, np.std])"
   ]
  },
  {
   "cell_type": "markdown",
   "id": "a9f357b8-86f2-407a-8335-2852a61f6017",
   "metadata": {
    "tags": []
   },
   "source": [
    "## 10.\n",
    "Для квартир, площадь которых больше 70 метров, определите топ-2 самых часто встречаемых материала стен."
   ]
  },
  {
   "cell_type": "code",
   "execution_count": 97,
   "id": "bb09e804-9ae7-4e6d-9c81-6f5c9305fa4c",
   "metadata": {
    "tags": []
   },
   "outputs": [
    {
     "data": {
      "text/plain": [
       "monolith    7160\n",
       "panel       5996\n",
       "Name: wallsMaterial, dtype: int64"
      ]
     },
     "execution_count": 97,
     "metadata": {},
     "output_type": "execute_result"
    }
   ],
   "source": [
    "df_no_dup[df_no_dup.totalArea > 70]['wallsMaterial'].value_counts().nlargest(2)"
   ]
  },
  {
   "cell_type": "code",
   "execution_count": 103,
   "id": "a4a27c64-b6fe-48b2-962d-60968f2ad446",
   "metadata": {
    "tags": []
   },
   "outputs": [
    {
     "data": {
      "text/plain": [
       "wallsMaterial\n",
       "monolith         25.810143\n",
       "monolithBrick    39.253214\n",
       "old              46.623500\n",
       "stalin           20.609232\n",
       "Name: price, dtype: float64"
      ]
     },
     "execution_count": 103,
     "metadata": {},
     "output_type": "execute_result"
    }
   ],
   "source": [
    "# фильтрация\n",
    "tmp = df_no_dup.groupby('wallsMaterial').filter(lambda x: x['price'].mean() / 1e6 > 20)\n",
    "tmp.groupby('wallsMaterial')['price'].mean() / 1e6 "
   ]
  },
  {
   "cell_type": "markdown",
   "id": "b6807351-32cd-48cf-9d5c-5d3a5e026d78",
   "metadata": {},
   "source": [
    "## 11. \n",
    "Нарисуйте распределение стоимости жилья отдельно для каждого материала стен.  \n",
    "**Сделайте 20 бинов, иначе картинка будет рисоваться вечность!**\n",
    "\n",
    "<kbd>\n",
    "<img src=\"data/task11.png\" />\n",
    "</kbd>"
   ]
  },
  {
   "cell_type": "code",
   "execution_count": 23,
   "id": "40c0c29c-8ef0-4f90-b050-379f57b45e34",
   "metadata": {
    "tags": []
   },
   "outputs": [
    {
     "data": {
      "image/png": "[encoded data removed]",
      "text/plain": [
       "<Figure size 640x480 with 1 Axes>"
      ]
     },
     "metadata": {},
     "output_type": "display_data"
    }
   ],
   "source": [
    "sns.histplot(data=df_no_dup, x='price', hue='wallsMaterial', bins=20)\n",
    "plt.show()"
   ]
  },
  {
   "cell_type": "code",
   "execution_count": 104,
   "id": "c1e79020-c935-49cd-accc-3fea37f02db2",
   "metadata": {
    "tags": []
   },
   "outputs": [
    {
     "data": {
      "text/html": [
       "<div>\n",
       "<style scoped>\n",
       "    .dataframe tbody tr th:only-of-type {\n",
       "        vertical-align: middle;\n",
       "    }\n",
       "\n",
       "    .dataframe tbody tr th {\n",
       "        vertical-align: top;\n",
       "    }\n",
       "\n",
       "    .dataframe thead th {\n",
       "        text-align: right;\n",
       "    }\n",
       "</style>\n",
       "<table border=\"1\" class=\"dataframe\">\n",
       "  <thead>\n",
       "    <tr style=\"text-align: right;\">\n",
       "      <th></th>\n",
       "      <th>wallsMaterial</th>\n",
       "      <th>floorNumber</th>\n",
       "      <th>floorsTotal</th>\n",
       "      <th>totalArea</th>\n",
       "      <th>kitchenArea</th>\n",
       "      <th>latitude</th>\n",
       "      <th>longitude</th>\n",
       "      <th>price</th>\n",
       "    </tr>\n",
       "  </thead>\n",
       "  <tbody>\n",
       "    <tr>\n",
       "      <th>34228</th>\n",
       "      <td>monolithBrick</td>\n",
       "      <td>6</td>\n",
       "      <td>6.0</td>\n",
       "      <td>415.5</td>\n",
       "      <td>25.0</td>\n",
       "      <td>55.738622</td>\n",
       "      <td>37.602813</td>\n",
       "      <td>1290088799</td>\n",
       "    </tr>\n",
       "  </tbody>\n",
       "</table>\n",
       "</div>"
      ],
      "text/plain": [
       "       wallsMaterial  floorNumber  floorsTotal  totalArea  kitchenArea  \\\n",
       "34228  monolithBrick            6          6.0      415.5         25.0   \n",
       "\n",
       "        latitude  longitude       price  \n",
       "34228  55.738622  37.602813  1290088799  "
      ]
     },
     "execution_count": 104,
     "metadata": {},
     "output_type": "execute_result"
    }
   ],
   "source": [
    "# оставьте строки, соответсвующие максимальной цене\n",
    "df_no_dup[df_no_dup['price'] == df_no_dup['price'].max()]"
   ]
  },
  {
   "cell_type": "code",
   "execution_count": 116,
   "id": "f456092f-8dce-4b22-ba83-9d2ceb227336",
   "metadata": {
    "tags": []
   },
   "outputs": [
    {
     "data": {
      "text/html": [
       "<div>\n",
       "<style scoped>\n",
       "    .dataframe tbody tr th:only-of-type {\n",
       "        vertical-align: middle;\n",
       "    }\n",
       "\n",
       "    .dataframe tbody tr th {\n",
       "        vertical-align: top;\n",
       "    }\n",
       "\n",
       "    .dataframe thead th {\n",
       "        text-align: right;\n",
       "    }\n",
       "</style>\n",
       "<table border=\"1\" class=\"dataframe\">\n",
       "  <thead>\n",
       "    <tr style=\"text-align: right;\">\n",
       "      <th></th>\n",
       "      <th>wallsMaterial</th>\n",
       "      <th>floorNumber</th>\n",
       "      <th>floorsTotal</th>\n",
       "      <th>totalArea</th>\n",
       "      <th>kitchenArea</th>\n",
       "      <th>latitude</th>\n",
       "      <th>longitude</th>\n",
       "      <th>price</th>\n",
       "      <th>rank</th>\n",
       "    </tr>\n",
       "  </thead>\n",
       "  <tbody>\n",
       "    <tr>\n",
       "      <th>711</th>\n",
       "      <td>panel</td>\n",
       "      <td>4</td>\n",
       "      <td>7.0</td>\n",
       "      <td>367.0</td>\n",
       "      <td>37.0</td>\n",
       "      <td>55.745068</td>\n",
       "      <td>37.595025</td>\n",
       "      <td>204000000</td>\n",
       "      <td>1.0</td>\n",
       "    </tr>\n",
       "    <tr>\n",
       "      <th>11168</th>\n",
       "      <td>wood</td>\n",
       "      <td>1</td>\n",
       "      <td>1.0</td>\n",
       "      <td>62.0</td>\n",
       "      <td>10.0</td>\n",
       "      <td>55.802492</td>\n",
       "      <td>37.505301</td>\n",
       "      <td>99900000</td>\n",
       "      <td>1.0</td>\n",
       "    </tr>\n",
       "    <tr>\n",
       "      <th>33183</th>\n",
       "      <td>None</td>\n",
       "      <td>1</td>\n",
       "      <td>4.0</td>\n",
       "      <td>90.0</td>\n",
       "      <td>9.0</td>\n",
       "      <td>55.771337</td>\n",
       "      <td>37.635566</td>\n",
       "      <td>18400000</td>\n",
       "      <td>1.0</td>\n",
       "    </tr>\n",
       "    <tr>\n",
       "      <th>33981</th>\n",
       "      <td>stalin</td>\n",
       "      <td>6</td>\n",
       "      <td>8.0</td>\n",
       "      <td>185.0</td>\n",
       "      <td>19.0</td>\n",
       "      <td>55.762860</td>\n",
       "      <td>37.592743</td>\n",
       "      <td>186000000</td>\n",
       "      <td>1.0</td>\n",
       "    </tr>\n",
       "    <tr>\n",
       "      <th>34100</th>\n",
       "      <td>block</td>\n",
       "      <td>7</td>\n",
       "      <td>7.0</td>\n",
       "      <td>330.0</td>\n",
       "      <td>25.0</td>\n",
       "      <td>55.743330</td>\n",
       "      <td>37.601439</td>\n",
       "      <td>191449160</td>\n",
       "      <td>1.0</td>\n",
       "    </tr>\n",
       "    <tr>\n",
       "      <th>34181</th>\n",
       "      <td>old</td>\n",
       "      <td>7</td>\n",
       "      <td>7.0</td>\n",
       "      <td>420.0</td>\n",
       "      <td>25.0</td>\n",
       "      <td>55.743857</td>\n",
       "      <td>37.601960</td>\n",
       "      <td>153581999</td>\n",
       "      <td>1.0</td>\n",
       "    </tr>\n",
       "    <tr>\n",
       "      <th>34194</th>\n",
       "      <td>brick</td>\n",
       "      <td>4</td>\n",
       "      <td>7.0</td>\n",
       "      <td>400.0</td>\n",
       "      <td>30.0</td>\n",
       "      <td>55.743005</td>\n",
       "      <td>37.602256</td>\n",
       "      <td>546997600</td>\n",
       "      <td>1.0</td>\n",
       "    </tr>\n",
       "    <tr>\n",
       "      <th>34203</th>\n",
       "      <td>monolith</td>\n",
       "      <td>2</td>\n",
       "      <td>7.0</td>\n",
       "      <td>420.0</td>\n",
       "      <td>30.0</td>\n",
       "      <td>55.758225</td>\n",
       "      <td>37.592608</td>\n",
       "      <td>928863935</td>\n",
       "      <td>1.0</td>\n",
       "    </tr>\n",
       "    <tr>\n",
       "      <th>34227</th>\n",
       "      <td>monolith</td>\n",
       "      <td>2</td>\n",
       "      <td>7.0</td>\n",
       "      <td>420.0</td>\n",
       "      <td>38.0</td>\n",
       "      <td>55.758225</td>\n",
       "      <td>37.592608</td>\n",
       "      <td>928863935</td>\n",
       "      <td>1.0</td>\n",
       "    </tr>\n",
       "    <tr>\n",
       "      <th>34228</th>\n",
       "      <td>monolithBrick</td>\n",
       "      <td>6</td>\n",
       "      <td>6.0</td>\n",
       "      <td>415.5</td>\n",
       "      <td>25.0</td>\n",
       "      <td>55.738622</td>\n",
       "      <td>37.602813</td>\n",
       "      <td>1290088799</td>\n",
       "      <td>1.0</td>\n",
       "    </tr>\n",
       "  </tbody>\n",
       "</table>\n",
       "</div>"
      ],
      "text/plain": [
       "       wallsMaterial  floorNumber  floorsTotal  totalArea  kitchenArea  \\\n",
       "711            panel            4          7.0      367.0         37.0   \n",
       "11168           wood            1          1.0       62.0         10.0   \n",
       "33183           None            1          4.0       90.0          9.0   \n",
       "33981         stalin            6          8.0      185.0         19.0   \n",
       "34100          block            7          7.0      330.0         25.0   \n",
       "34181            old            7          7.0      420.0         25.0   \n",
       "34194          brick            4          7.0      400.0         30.0   \n",
       "34203       monolith            2          7.0      420.0         30.0   \n",
       "34227       monolith            2          7.0      420.0         38.0   \n",
       "34228  monolithBrick            6          6.0      415.5         25.0   \n",
       "\n",
       "        latitude  longitude       price  rank  \n",
       "711    55.745068  37.595025   204000000   1.0  \n",
       "11168  55.802492  37.505301    99900000   1.0  \n",
       "33183  55.771337  37.635566    18400000   1.0  \n",
       "33981  55.762860  37.592743   186000000   1.0  \n",
       "34100  55.743330  37.601439   191449160   1.0  \n",
       "34181  55.743857  37.601960   153581999   1.0  \n",
       "34194  55.743005  37.602256   546997600   1.0  \n",
       "34203  55.758225  37.592608   928863935   1.0  \n",
       "34227  55.758225  37.592608   928863935   1.0  \n",
       "34228  55.738622  37.602813  1290088799   1.0  "
      ]
     },
     "execution_count": 116,
     "metadata": {},
     "output_type": "execute_result"
    }
   ],
   "source": [
    "# оставить самые дорогие квартиры в рамказ каждой группы по материалу стен\n",
    "# первый вариант\n",
    "tmp = df_no_dup.copy()\n",
    "tmp['rank'] = tmp.groupby('wallsMaterial')['price'].rank(method='min', ascending=False)\n",
    "tmp[tmp['rank'] == 1]"
   ]
  },
  {
   "cell_type": "code",
   "execution_count": 117,
   "id": "2db3b17c-e0d5-49bc-a46d-f0496a1f60e4",
   "metadata": {
    "tags": []
   },
   "outputs": [
    {
     "data": {
      "text/html": [
       "<div>\n",
       "<style scoped>\n",
       "    .dataframe tbody tr th:only-of-type {\n",
       "        vertical-align: middle;\n",
       "    }\n",
       "\n",
       "    .dataframe tbody tr th {\n",
       "        vertical-align: top;\n",
       "    }\n",
       "\n",
       "    .dataframe thead th {\n",
       "        text-align: right;\n",
       "    }\n",
       "</style>\n",
       "<table border=\"1\" class=\"dataframe\">\n",
       "  <thead>\n",
       "    <tr style=\"text-align: right;\">\n",
       "      <th></th>\n",
       "      <th>wallsMaterial</th>\n",
       "      <th>floorNumber</th>\n",
       "      <th>floorsTotal</th>\n",
       "      <th>totalArea</th>\n",
       "      <th>kitchenArea</th>\n",
       "      <th>latitude</th>\n",
       "      <th>longitude</th>\n",
       "      <th>price</th>\n",
       "    </tr>\n",
       "  </thead>\n",
       "  <tbody>\n",
       "    <tr>\n",
       "      <th>0</th>\n",
       "      <td>brick</td>\n",
       "      <td>1</td>\n",
       "      <td>5.0</td>\n",
       "      <td>18.0</td>\n",
       "      <td>3.0</td>\n",
       "      <td>55.723379</td>\n",
       "      <td>37.628577</td>\n",
       "      <td>5600000</td>\n",
       "    </tr>\n",
       "    <tr>\n",
       "      <th>1</th>\n",
       "      <td>brick</td>\n",
       "      <td>1</td>\n",
       "      <td>5.0</td>\n",
       "      <td>15.0</td>\n",
       "      <td>3.0</td>\n",
       "      <td>55.725980</td>\n",
       "      <td>37.671031</td>\n",
       "      <td>4650000</td>\n",
       "    </tr>\n",
       "  </tbody>\n",
       "</table>\n",
       "</div>"
      ],
      "text/plain": [
       "  wallsMaterial  floorNumber  floorsTotal  totalArea  kitchenArea   latitude  \\\n",
       "0         brick            1          5.0       18.0          3.0  55.723379   \n",
       "1         brick            1          5.0       15.0          3.0  55.725980   \n",
       "\n",
       "   longitude    price  \n",
       "0  37.628577  5600000  \n",
       "1  37.671031  4650000  "
      ]
     },
     "execution_count": 117,
     "metadata": {},
     "output_type": "execute_result"
    }
   ],
   "source": [
    "# вариант через transform\n",
    "tmp = df_no_dup.copy()\n",
    "tmp.head(2)"
   ]
  },
  {
   "cell_type": "code",
   "execution_count": 120,
   "id": "35bd612e-301e-4a30-90e7-0a794fc0a8d0",
   "metadata": {
    "tags": []
   },
   "outputs": [
    {
     "data": {
      "text/html": [
       "<div>\n",
       "<style scoped>\n",
       "    .dataframe tbody tr th:only-of-type {\n",
       "        vertical-align: middle;\n",
       "    }\n",
       "\n",
       "    .dataframe tbody tr th {\n",
       "        vertical-align: top;\n",
       "    }\n",
       "\n",
       "    .dataframe thead th {\n",
       "        text-align: right;\n",
       "    }\n",
       "</style>\n",
       "<table border=\"1\" class=\"dataframe\">\n",
       "  <thead>\n",
       "    <tr style=\"text-align: right;\">\n",
       "      <th></th>\n",
       "      <th>wallsMaterial</th>\n",
       "      <th>floorNumber</th>\n",
       "      <th>floorsTotal</th>\n",
       "      <th>totalArea</th>\n",
       "      <th>kitchenArea</th>\n",
       "      <th>latitude</th>\n",
       "      <th>longitude</th>\n",
       "      <th>price</th>\n",
       "      <th>max_group_price</th>\n",
       "    </tr>\n",
       "  </thead>\n",
       "  <tbody>\n",
       "    <tr>\n",
       "      <th>0</th>\n",
       "      <td>brick</td>\n",
       "      <td>1</td>\n",
       "      <td>5.0</td>\n",
       "      <td>18.0</td>\n",
       "      <td>3.0</td>\n",
       "      <td>55.723379</td>\n",
       "      <td>37.628577</td>\n",
       "      <td>5600000</td>\n",
       "      <td>546997600</td>\n",
       "    </tr>\n",
       "    <tr>\n",
       "      <th>1</th>\n",
       "      <td>brick</td>\n",
       "      <td>1</td>\n",
       "      <td>5.0</td>\n",
       "      <td>15.0</td>\n",
       "      <td>3.0</td>\n",
       "      <td>55.725980</td>\n",
       "      <td>37.671031</td>\n",
       "      <td>4650000</td>\n",
       "      <td>546997600</td>\n",
       "    </tr>\n",
       "  </tbody>\n",
       "</table>\n",
       "</div>"
      ],
      "text/plain": [
       "  wallsMaterial  floorNumber  floorsTotal  totalArea  kitchenArea   latitude  \\\n",
       "0         brick            1          5.0       18.0          3.0  55.723379   \n",
       "1         brick            1          5.0       15.0          3.0  55.725980   \n",
       "\n",
       "   longitude    price  max_group_price  \n",
       "0  37.628577  5600000        546997600  \n",
       "1  37.671031  4650000        546997600  "
      ]
     },
     "execution_count": 120,
     "metadata": {},
     "output_type": "execute_result"
    }
   ],
   "source": [
    "tmp['max_group_price'] = tmp.groupby('wallsMaterial')['price'].transform(np.max)\n",
    "tmp.head(2)"
   ]
  },
  {
   "cell_type": "code",
   "execution_count": 122,
   "id": "7f7d7263-59c2-42fd-b1fb-9ac7b927c761",
   "metadata": {
    "tags": []
   },
   "outputs": [
    {
     "data": {
      "text/html": [
       "<div>\n",
       "<style scoped>\n",
       "    .dataframe tbody tr th:only-of-type {\n",
       "        vertical-align: middle;\n",
       "    }\n",
       "\n",
       "    .dataframe tbody tr th {\n",
       "        vertical-align: top;\n",
       "    }\n",
       "\n",
       "    .dataframe thead th {\n",
       "        text-align: right;\n",
       "    }\n",
       "</style>\n",
       "<table border=\"1\" class=\"dataframe\">\n",
       "  <thead>\n",
       "    <tr style=\"text-align: right;\">\n",
       "      <th></th>\n",
       "      <th>wallsMaterial</th>\n",
       "      <th>floorNumber</th>\n",
       "      <th>floorsTotal</th>\n",
       "      <th>totalArea</th>\n",
       "      <th>kitchenArea</th>\n",
       "      <th>latitude</th>\n",
       "      <th>longitude</th>\n",
       "      <th>price</th>\n",
       "      <th>max_group_price</th>\n",
       "    </tr>\n",
       "  </thead>\n",
       "  <tbody>\n",
       "    <tr>\n",
       "      <th>711</th>\n",
       "      <td>panel</td>\n",
       "      <td>4</td>\n",
       "      <td>7.0</td>\n",
       "      <td>367.0</td>\n",
       "      <td>37.0</td>\n",
       "      <td>55.745068</td>\n",
       "      <td>37.595025</td>\n",
       "      <td>204000000</td>\n",
       "      <td>204000000</td>\n",
       "    </tr>\n",
       "    <tr>\n",
       "      <th>11168</th>\n",
       "      <td>wood</td>\n",
       "      <td>1</td>\n",
       "      <td>1.0</td>\n",
       "      <td>62.0</td>\n",
       "      <td>10.0</td>\n",
       "      <td>55.802492</td>\n",
       "      <td>37.505301</td>\n",
       "      <td>99900000</td>\n",
       "      <td>99900000</td>\n",
       "    </tr>\n",
       "    <tr>\n",
       "      <th>33183</th>\n",
       "      <td>None</td>\n",
       "      <td>1</td>\n",
       "      <td>4.0</td>\n",
       "      <td>90.0</td>\n",
       "      <td>9.0</td>\n",
       "      <td>55.771337</td>\n",
       "      <td>37.635566</td>\n",
       "      <td>18400000</td>\n",
       "      <td>18400000</td>\n",
       "    </tr>\n",
       "    <tr>\n",
       "      <th>33981</th>\n",
       "      <td>stalin</td>\n",
       "      <td>6</td>\n",
       "      <td>8.0</td>\n",
       "      <td>185.0</td>\n",
       "      <td>19.0</td>\n",
       "      <td>55.762860</td>\n",
       "      <td>37.592743</td>\n",
       "      <td>186000000</td>\n",
       "      <td>186000000</td>\n",
       "    </tr>\n",
       "    <tr>\n",
       "      <th>34100</th>\n",
       "      <td>block</td>\n",
       "      <td>7</td>\n",
       "      <td>7.0</td>\n",
       "      <td>330.0</td>\n",
       "      <td>25.0</td>\n",
       "      <td>55.743330</td>\n",
       "      <td>37.601439</td>\n",
       "      <td>191449160</td>\n",
       "      <td>191449160</td>\n",
       "    </tr>\n",
       "    <tr>\n",
       "      <th>34181</th>\n",
       "      <td>old</td>\n",
       "      <td>7</td>\n",
       "      <td>7.0</td>\n",
       "      <td>420.0</td>\n",
       "      <td>25.0</td>\n",
       "      <td>55.743857</td>\n",
       "      <td>37.601960</td>\n",
       "      <td>153581999</td>\n",
       "      <td>153581999</td>\n",
       "    </tr>\n",
       "    <tr>\n",
       "      <th>34194</th>\n",
       "      <td>brick</td>\n",
       "      <td>4</td>\n",
       "      <td>7.0</td>\n",
       "      <td>400.0</td>\n",
       "      <td>30.0</td>\n",
       "      <td>55.743005</td>\n",
       "      <td>37.602256</td>\n",
       "      <td>546997600</td>\n",
       "      <td>546997600</td>\n",
       "    </tr>\n",
       "    <tr>\n",
       "      <th>34203</th>\n",
       "      <td>monolith</td>\n",
       "      <td>2</td>\n",
       "      <td>7.0</td>\n",
       "      <td>420.0</td>\n",
       "      <td>30.0</td>\n",
       "      <td>55.758225</td>\n",
       "      <td>37.592608</td>\n",
       "      <td>928863935</td>\n",
       "      <td>928863935</td>\n",
       "    </tr>\n",
       "    <tr>\n",
       "      <th>34227</th>\n",
       "      <td>monolith</td>\n",
       "      <td>2</td>\n",
       "      <td>7.0</td>\n",
       "      <td>420.0</td>\n",
       "      <td>38.0</td>\n",
       "      <td>55.758225</td>\n",
       "      <td>37.592608</td>\n",
       "      <td>928863935</td>\n",
       "      <td>928863935</td>\n",
       "    </tr>\n",
       "    <tr>\n",
       "      <th>34228</th>\n",
       "      <td>monolithBrick</td>\n",
       "      <td>6</td>\n",
       "      <td>6.0</td>\n",
       "      <td>415.5</td>\n",
       "      <td>25.0</td>\n",
       "      <td>55.738622</td>\n",
       "      <td>37.602813</td>\n",
       "      <td>1290088799</td>\n",
       "      <td>1290088799</td>\n",
       "    </tr>\n",
       "  </tbody>\n",
       "</table>\n",
       "</div>"
      ],
      "text/plain": [
       "       wallsMaterial  floorNumber  floorsTotal  totalArea  kitchenArea  \\\n",
       "711            panel            4          7.0      367.0         37.0   \n",
       "11168           wood            1          1.0       62.0         10.0   \n",
       "33183           None            1          4.0       90.0          9.0   \n",
       "33981         stalin            6          8.0      185.0         19.0   \n",
       "34100          block            7          7.0      330.0         25.0   \n",
       "34181            old            7          7.0      420.0         25.0   \n",
       "34194          brick            4          7.0      400.0         30.0   \n",
       "34203       monolith            2          7.0      420.0         30.0   \n",
       "34227       monolith            2          7.0      420.0         38.0   \n",
       "34228  monolithBrick            6          6.0      415.5         25.0   \n",
       "\n",
       "        latitude  longitude       price  max_group_price  \n",
       "711    55.745068  37.595025   204000000        204000000  \n",
       "11168  55.802492  37.505301    99900000         99900000  \n",
       "33183  55.771337  37.635566    18400000         18400000  \n",
       "33981  55.762860  37.592743   186000000        186000000  \n",
       "34100  55.743330  37.601439   191449160        191449160  \n",
       "34181  55.743857  37.601960   153581999        153581999  \n",
       "34194  55.743005  37.602256   546997600        546997600  \n",
       "34203  55.758225  37.592608   928863935        928863935  \n",
       "34227  55.758225  37.592608   928863935        928863935  \n",
       "34228  55.738622  37.602813  1290088799       1290088799  "
      ]
     },
     "execution_count": 122,
     "metadata": {},
     "output_type": "execute_result"
    }
   ],
   "source": [
    "tmp[tmp['price'] == tmp['max_group_price']]"
   ]
  },
  {
   "cell_type": "code",
   "execution_count": 123,
   "id": "a66688cd-2dd6-4122-80df-6c6333b2d584",
   "metadata": {
    "tags": []
   },
   "outputs": [
    {
     "data": {
      "text/html": [
       "<div>\n",
       "<style scoped>\n",
       "    .dataframe tbody tr th:only-of-type {\n",
       "        vertical-align: middle;\n",
       "    }\n",
       "\n",
       "    .dataframe tbody tr th {\n",
       "        vertical-align: top;\n",
       "    }\n",
       "\n",
       "    .dataframe thead th {\n",
       "        text-align: right;\n",
       "    }\n",
       "</style>\n",
       "<table border=\"1\" class=\"dataframe\">\n",
       "  <thead>\n",
       "    <tr style=\"text-align: right;\">\n",
       "      <th></th>\n",
       "      <th>wallsMaterial</th>\n",
       "      <th>floorNumber</th>\n",
       "      <th>floorsTotal</th>\n",
       "      <th>totalArea</th>\n",
       "      <th>kitchenArea</th>\n",
       "      <th>latitude</th>\n",
       "      <th>longitude</th>\n",
       "      <th>price</th>\n",
       "    </tr>\n",
       "  </thead>\n",
       "  <tbody>\n",
       "    <tr>\n",
       "      <th>711</th>\n",
       "      <td>panel</td>\n",
       "      <td>4</td>\n",
       "      <td>7.0</td>\n",
       "      <td>367.0</td>\n",
       "      <td>37.0</td>\n",
       "      <td>55.745068</td>\n",
       "      <td>37.595025</td>\n",
       "      <td>204000000</td>\n",
       "    </tr>\n",
       "    <tr>\n",
       "      <th>11168</th>\n",
       "      <td>wood</td>\n",
       "      <td>1</td>\n",
       "      <td>1.0</td>\n",
       "      <td>62.0</td>\n",
       "      <td>10.0</td>\n",
       "      <td>55.802492</td>\n",
       "      <td>37.505301</td>\n",
       "      <td>99900000</td>\n",
       "    </tr>\n",
       "    <tr>\n",
       "      <th>33183</th>\n",
       "      <td>None</td>\n",
       "      <td>1</td>\n",
       "      <td>4.0</td>\n",
       "      <td>90.0</td>\n",
       "      <td>9.0</td>\n",
       "      <td>55.771337</td>\n",
       "      <td>37.635566</td>\n",
       "      <td>18400000</td>\n",
       "    </tr>\n",
       "    <tr>\n",
       "      <th>33981</th>\n",
       "      <td>stalin</td>\n",
       "      <td>6</td>\n",
       "      <td>8.0</td>\n",
       "      <td>185.0</td>\n",
       "      <td>19.0</td>\n",
       "      <td>55.762860</td>\n",
       "      <td>37.592743</td>\n",
       "      <td>186000000</td>\n",
       "    </tr>\n",
       "    <tr>\n",
       "      <th>34100</th>\n",
       "      <td>block</td>\n",
       "      <td>7</td>\n",
       "      <td>7.0</td>\n",
       "      <td>330.0</td>\n",
       "      <td>25.0</td>\n",
       "      <td>55.743330</td>\n",
       "      <td>37.601439</td>\n",
       "      <td>191449160</td>\n",
       "    </tr>\n",
       "    <tr>\n",
       "      <th>34181</th>\n",
       "      <td>old</td>\n",
       "      <td>7</td>\n",
       "      <td>7.0</td>\n",
       "      <td>420.0</td>\n",
       "      <td>25.0</td>\n",
       "      <td>55.743857</td>\n",
       "      <td>37.601960</td>\n",
       "      <td>153581999</td>\n",
       "    </tr>\n",
       "    <tr>\n",
       "      <th>34194</th>\n",
       "      <td>brick</td>\n",
       "      <td>4</td>\n",
       "      <td>7.0</td>\n",
       "      <td>400.0</td>\n",
       "      <td>30.0</td>\n",
       "      <td>55.743005</td>\n",
       "      <td>37.602256</td>\n",
       "      <td>546997600</td>\n",
       "    </tr>\n",
       "    <tr>\n",
       "      <th>34203</th>\n",
       "      <td>monolith</td>\n",
       "      <td>2</td>\n",
       "      <td>7.0</td>\n",
       "      <td>420.0</td>\n",
       "      <td>30.0</td>\n",
       "      <td>55.758225</td>\n",
       "      <td>37.592608</td>\n",
       "      <td>928863935</td>\n",
       "    </tr>\n",
       "    <tr>\n",
       "      <th>34227</th>\n",
       "      <td>monolith</td>\n",
       "      <td>2</td>\n",
       "      <td>7.0</td>\n",
       "      <td>420.0</td>\n",
       "      <td>38.0</td>\n",
       "      <td>55.758225</td>\n",
       "      <td>37.592608</td>\n",
       "      <td>928863935</td>\n",
       "    </tr>\n",
       "    <tr>\n",
       "      <th>34228</th>\n",
       "      <td>monolithBrick</td>\n",
       "      <td>6</td>\n",
       "      <td>6.0</td>\n",
       "      <td>415.5</td>\n",
       "      <td>25.0</td>\n",
       "      <td>55.738622</td>\n",
       "      <td>37.602813</td>\n",
       "      <td>1290088799</td>\n",
       "    </tr>\n",
       "  </tbody>\n",
       "</table>\n",
       "</div>"
      ],
      "text/plain": [
       "       wallsMaterial  floorNumber  floorsTotal  totalArea  kitchenArea  \\\n",
       "711            panel            4          7.0      367.0         37.0   \n",
       "11168           wood            1          1.0       62.0         10.0   \n",
       "33183           None            1          4.0       90.0          9.0   \n",
       "33981         stalin            6          8.0      185.0         19.0   \n",
       "34100          block            7          7.0      330.0         25.0   \n",
       "34181            old            7          7.0      420.0         25.0   \n",
       "34194          brick            4          7.0      400.0         30.0   \n",
       "34203       monolith            2          7.0      420.0         30.0   \n",
       "34227       monolith            2          7.0      420.0         38.0   \n",
       "34228  monolithBrick            6          6.0      415.5         25.0   \n",
       "\n",
       "        latitude  longitude       price  \n",
       "711    55.745068  37.595025   204000000  \n",
       "11168  55.802492  37.505301    99900000  \n",
       "33183  55.771337  37.635566    18400000  \n",
       "33981  55.762860  37.592743   186000000  \n",
       "34100  55.743330  37.601439   191449160  \n",
       "34181  55.743857  37.601960   153581999  \n",
       "34194  55.743005  37.602256   546997600  \n",
       "34203  55.758225  37.592608   928863935  \n",
       "34227  55.758225  37.592608   928863935  \n",
       "34228  55.738622  37.602813  1290088799  "
      ]
     },
     "execution_count": 123,
     "metadata": {},
     "output_type": "execute_result"
    }
   ],
   "source": [
    "tmp = df_no_dup.copy()\n",
    "tmp[tmp['price'] == tmp.groupby('wallsMaterial')['price'].transform(np.max)]"
   ]
  },
  {
   "cell_type": "markdown",
   "id": "b69b98b9-d5e5-42b7-abc3-291c137fe041",
   "metadata": {},
   "source": [
    "## 12. (3 балла)\n",
    "Согласитесь, картинка выше полный отстой. Попробуем два варианта: \n",
    "1. Прологарифмируем стоимость и построим гистограмму для логарифмов цен (основание логарифма -- двойка);\n",
    "2. Срежем 5% самых дорогих квартир и построим гистограммы для оставшихся 95%.  \n",
    "\n",
    "(**+1 балл**)  \n",
    "Отобразите картинки на одном графике (то есть слева картинку для варианта 1, а справа -- для варианта два). \n",
    "\n",
    "<kbd>\n",
    "<img src=\"data/task12.png\" />\n",
    "</kbd>"
   ]
  },
  {
   "cell_type": "code",
   "execution_count": 129,
   "id": "6359ef70-1920-4a82-80b2-1b0ddc269019",
   "metadata": {
    "tags": []
   },
   "outputs": [
    {
     "data": {
      "image/png": "[encoded data removed]",
      "text/plain": [
       "<Figure size 1000x600 with 2 Axes>"
      ]
     },
     "metadata": {},
     "output_type": "display_data"
    }
   ],
   "source": [
    "df_no_dup = df_no_dup.copy()\n",
    "\n",
    "df_no_dup['logprice'] = np.log2(df_no_dup.price.values)\n",
    "df_no_dup_95 = df_no_dup[df_no_dup.price < df_no_dup.price.quantile(.95)] \n",
    "\n",
    "fig, ax = plt.subplots(1, 2, figsize=(10, 6))\n",
    "\n",
    "sns.histplot(data=df_no_dup, x='logprice', hue='wallsMaterial', ax=ax[0], bins=20)\n",
    "\n",
    "sns.histplot(data=df_no_dup_95, x='price', hue='wallsMaterial', ax=ax[1], bins=20, stat='percent', common_bins=False, common_norm=False)\n",
    "\n",
    "plt.show()"
   ]
  },
  {
   "cell_type": "markdown",
   "id": "fef4dcd0-ff7d-492f-a3ef-59db5f3bd899",
   "metadata": {},
   "source": [
    "## 13. (2 балла)\n",
    "\n",
    "Постройте гистограмму встречаемости типов материалов стены.  \n",
    "Разбейте отдельно для квартир дороже 20МЛН, от 10МЛН до 20МЛН и дешевле 10 МЛН.\n",
    "\n",
    "<kbd>\n",
    "<img src=\"data/task13.png\" />\n",
    "</kbd>"
   ]
  },
  {
   "cell_type": "code",
   "execution_count": 130,
   "id": "d3ce84e7-9ee0-4541-8ff9-68e841cd14a3",
   "metadata": {
    "tags": []
   },
   "outputs": [
    {
     "name": "stderr",
     "output_type": "stream",
     "text": [
      "C:\\Users\\igumn\\AppData\\Local\\Temp\\ipykernel_9280\\378769115.py:2: SettingWithCopyWarning: \n",
      "A value is trying to be set on a copy of a slice from a DataFrame\n",
      "\n",
      "See the caveats in the documentation: https://pandas.pydata.org/pandas-docs/stable/user_guide/indexing.html#returning-a-view-versus-a-copy\n",
      "  df_no_dup['expensive'][df_no_dup.price < 1e7] = '<10M'\n"
     ]
    },
    {
     "data": {
      "image/png": "[encoded data removed]",
      "text/plain": [
       "<Figure size 640x480 with 1 Axes>"
      ]
     },
     "metadata": {},
     "output_type": "display_data"
    }
   ],
   "source": [
    "df_no_dup['expensive'] = 0\n",
    "df_no_dup['expensive'][df_no_dup.price < 1e7] = '<10M'\n",
    "df_no_dup['expensive'][df_no_dup.price >= 1e7] = '10-20M'\n",
    "df_no_dup['expensive'][df_no_dup.price >= 2e7] = '>20M'\n",
    "\n",
    "sns.countplot(data=df_no_dup, y='wallsMaterial', hue='expensive', palette='dark')\n",
    "plt.show()"
   ]
  },
  {
   "cell_type": "markdown",
   "id": "ace23067-57a4-4a45-90d2-5f49a164fbf3",
   "metadata": {
    "tags": []
   },
   "source": [
    "## 14 (2 балла)\n",
    "Постройте гистограмму встречаемости типов материалов стены. Но теперь нужно вывести не частоту, а проценты.  \n",
    "Разбейте отдельно для квартир дороже 20МЛН, от 10МЛН до 20МЛН и дешевле 10 МЛН\n",
    "\n",
    "**Т.е. то, сколько процентов кирпичных домов приходится на категории <10M, 10-20М и >20М.**\n",
    "\n",
    "<kbd>\n",
    "<img src=\"data/task14.png\" />\n",
    "</kbd>"
   ]
  },
  {
   "cell_type": "code",
   "execution_count": 140,
   "id": "c5128756-ddc6-48b4-a686-2da03560679d",
   "metadata": {
    "tags": []
   },
   "outputs": [
    {
     "data": {
      "text/html": [
       "<div>\n",
       "<style scoped>\n",
       "    .dataframe tbody tr th:only-of-type {\n",
       "        vertical-align: middle;\n",
       "    }\n",
       "\n",
       "    .dataframe tbody tr th {\n",
       "        vertical-align: top;\n",
       "    }\n",
       "\n",
       "    .dataframe thead th {\n",
       "        text-align: right;\n",
       "    }\n",
       "</style>\n",
       "<table border=\"1\" class=\"dataframe\">\n",
       "  <thead>\n",
       "    <tr style=\"text-align: right;\">\n",
       "      <th></th>\n",
       "      <th>wallsMaterial</th>\n",
       "      <th>expensive</th>\n",
       "      <th>price</th>\n",
       "      <th>max_c</th>\n",
       "      <th>pct</th>\n",
       "    </tr>\n",
       "  </thead>\n",
       "  <tbody>\n",
       "    <tr>\n",
       "      <th>0</th>\n",
       "      <td>None</td>\n",
       "      <td>10-20M</td>\n",
       "      <td>1</td>\n",
       "      <td>2</td>\n",
       "      <td>50.0</td>\n",
       "    </tr>\n",
       "    <tr>\n",
       "      <th>1</th>\n",
       "      <td>None</td>\n",
       "      <td>&lt;10M</td>\n",
       "      <td>1</td>\n",
       "      <td>2</td>\n",
       "      <td>50.0</td>\n",
       "    </tr>\n",
       "    <tr>\n",
       "      <th>2</th>\n",
       "      <td>block</td>\n",
       "      <td>10-20M</td>\n",
       "      <td>1135</td>\n",
       "      <td>3862</td>\n",
       "      <td>29.4</td>\n",
       "    </tr>\n",
       "    <tr>\n",
       "      <th>3</th>\n",
       "      <td>block</td>\n",
       "      <td>&lt;10M</td>\n",
       "      <td>2652</td>\n",
       "      <td>3862</td>\n",
       "      <td>68.7</td>\n",
       "    </tr>\n",
       "    <tr>\n",
       "      <th>4</th>\n",
       "      <td>block</td>\n",
       "      <td>&gt;20M</td>\n",
       "      <td>75</td>\n",
       "      <td>3862</td>\n",
       "      <td>1.9</td>\n",
       "    </tr>\n",
       "    <tr>\n",
       "      <th>5</th>\n",
       "      <td>brick</td>\n",
       "      <td>10-20M</td>\n",
       "      <td>5496</td>\n",
       "      <td>12346</td>\n",
       "      <td>44.5</td>\n",
       "    </tr>\n",
       "    <tr>\n",
       "      <th>6</th>\n",
       "      <td>brick</td>\n",
       "      <td>&lt;10M</td>\n",
       "      <td>3852</td>\n",
       "      <td>12346</td>\n",
       "      <td>31.2</td>\n",
       "    </tr>\n",
       "    <tr>\n",
       "      <th>7</th>\n",
       "      <td>brick</td>\n",
       "      <td>&gt;20M</td>\n",
       "      <td>2998</td>\n",
       "      <td>12346</td>\n",
       "      <td>24.3</td>\n",
       "    </tr>\n",
       "    <tr>\n",
       "      <th>8</th>\n",
       "      <td>monolith</td>\n",
       "      <td>10-20M</td>\n",
       "      <td>4987</td>\n",
       "      <td>14018</td>\n",
       "      <td>35.6</td>\n",
       "    </tr>\n",
       "    <tr>\n",
       "      <th>9</th>\n",
       "      <td>monolith</td>\n",
       "      <td>&lt;10M</td>\n",
       "      <td>3438</td>\n",
       "      <td>14018</td>\n",
       "      <td>24.5</td>\n",
       "    </tr>\n",
       "    <tr>\n",
       "      <th>10</th>\n",
       "      <td>monolith</td>\n",
       "      <td>&gt;20M</td>\n",
       "      <td>5593</td>\n",
       "      <td>14018</td>\n",
       "      <td>39.9</td>\n",
       "    </tr>\n",
       "    <tr>\n",
       "      <th>11</th>\n",
       "      <td>monolithBrick</td>\n",
       "      <td>10-20M</td>\n",
       "      <td>1477</td>\n",
       "      <td>5232</td>\n",
       "      <td>28.2</td>\n",
       "    </tr>\n",
       "    <tr>\n",
       "      <th>12</th>\n",
       "      <td>monolithBrick</td>\n",
       "      <td>&lt;10M</td>\n",
       "      <td>996</td>\n",
       "      <td>5232</td>\n",
       "      <td>19.0</td>\n",
       "    </tr>\n",
       "    <tr>\n",
       "      <th>13</th>\n",
       "      <td>monolithBrick</td>\n",
       "      <td>&gt;20M</td>\n",
       "      <td>2759</td>\n",
       "      <td>5232</td>\n",
       "      <td>52.7</td>\n",
       "    </tr>\n",
       "    <tr>\n",
       "      <th>14</th>\n",
       "      <td>old</td>\n",
       "      <td>10-20M</td>\n",
       "      <td>2</td>\n",
       "      <td>12</td>\n",
       "      <td>16.7</td>\n",
       "    </tr>\n",
       "    <tr>\n",
       "      <th>15</th>\n",
       "      <td>old</td>\n",
       "      <td>&lt;10M</td>\n",
       "      <td>1</td>\n",
       "      <td>12</td>\n",
       "      <td>8.3</td>\n",
       "    </tr>\n",
       "    <tr>\n",
       "      <th>16</th>\n",
       "      <td>old</td>\n",
       "      <td>&gt;20M</td>\n",
       "      <td>9</td>\n",
       "      <td>12</td>\n",
       "      <td>75.0</td>\n",
       "    </tr>\n",
       "    <tr>\n",
       "      <th>17</th>\n",
       "      <td>panel</td>\n",
       "      <td>10-20M</td>\n",
       "      <td>9656</td>\n",
       "      <td>24629</td>\n",
       "      <td>39.2</td>\n",
       "    </tr>\n",
       "    <tr>\n",
       "      <th>18</th>\n",
       "      <td>panel</td>\n",
       "      <td>&lt;10M</td>\n",
       "      <td>14375</td>\n",
       "      <td>24629</td>\n",
       "      <td>58.4</td>\n",
       "    </tr>\n",
       "    <tr>\n",
       "      <th>19</th>\n",
       "      <td>panel</td>\n",
       "      <td>&gt;20M</td>\n",
       "      <td>598</td>\n",
       "      <td>24629</td>\n",
       "      <td>2.4</td>\n",
       "    </tr>\n",
       "    <tr>\n",
       "      <th>20</th>\n",
       "      <td>stalin</td>\n",
       "      <td>10-20M</td>\n",
       "      <td>652</td>\n",
       "      <td>1180</td>\n",
       "      <td>55.3</td>\n",
       "    </tr>\n",
       "    <tr>\n",
       "      <th>21</th>\n",
       "      <td>stalin</td>\n",
       "      <td>&lt;10M</td>\n",
       "      <td>83</td>\n",
       "      <td>1180</td>\n",
       "      <td>7.0</td>\n",
       "    </tr>\n",
       "    <tr>\n",
       "      <th>22</th>\n",
       "      <td>stalin</td>\n",
       "      <td>&gt;20M</td>\n",
       "      <td>445</td>\n",
       "      <td>1180</td>\n",
       "      <td>37.7</td>\n",
       "    </tr>\n",
       "    <tr>\n",
       "      <th>23</th>\n",
       "      <td>wood</td>\n",
       "      <td>10-20M</td>\n",
       "      <td>11</td>\n",
       "      <td>23</td>\n",
       "      <td>47.8</td>\n",
       "    </tr>\n",
       "    <tr>\n",
       "      <th>24</th>\n",
       "      <td>wood</td>\n",
       "      <td>&lt;10M</td>\n",
       "      <td>8</td>\n",
       "      <td>23</td>\n",
       "      <td>34.8</td>\n",
       "    </tr>\n",
       "    <tr>\n",
       "      <th>25</th>\n",
       "      <td>wood</td>\n",
       "      <td>&gt;20M</td>\n",
       "      <td>4</td>\n",
       "      <td>23</td>\n",
       "      <td>17.4</td>\n",
       "    </tr>\n",
       "  </tbody>\n",
       "</table>\n",
       "</div>"
      ],
      "text/plain": [
       "    wallsMaterial expensive  price  max_c   pct\n",
       "0            None    10-20M      1      2  50.0\n",
       "1            None      <10M      1      2  50.0\n",
       "2           block    10-20M   1135   3862  29.4\n",
       "3           block      <10M   2652   3862  68.7\n",
       "4           block      >20M     75   3862   1.9\n",
       "5           brick    10-20M   5496  12346  44.5\n",
       "6           brick      <10M   3852  12346  31.2\n",
       "7           brick      >20M   2998  12346  24.3\n",
       "8        monolith    10-20M   4987  14018  35.6\n",
       "9        monolith      <10M   3438  14018  24.5\n",
       "10       monolith      >20M   5593  14018  39.9\n",
       "11  monolithBrick    10-20M   1477   5232  28.2\n",
       "12  monolithBrick      <10M    996   5232  19.0\n",
       "13  monolithBrick      >20M   2759   5232  52.7\n",
       "14            old    10-20M      2     12  16.7\n",
       "15            old      <10M      1     12   8.3\n",
       "16            old      >20M      9     12  75.0\n",
       "17          panel    10-20M   9656  24629  39.2\n",
       "18          panel      <10M  14375  24629  58.4\n",
       "19          panel      >20M    598  24629   2.4\n",
       "20         stalin    10-20M    652   1180  55.3\n",
       "21         stalin      <10M     83   1180   7.0\n",
       "22         stalin      >20M    445   1180  37.7\n",
       "23           wood    10-20M     11     23  47.8\n",
       "24           wood      <10M      8     23  34.8\n",
       "25           wood      >20M      4     23  17.4"
      ]
     },
     "execution_count": 140,
     "metadata": {},
     "output_type": "execute_result"
    }
   ],
   "source": [
    "dat"
   ]
  },
  {
   "cell_type": "code",
   "execution_count": 139,
   "id": "46f149db-87a2-4a15-a829-8fce939f88cf",
   "metadata": {
    "tags": []
   },
   "outputs": [
    {
     "data": {
      "image/png": "[encoded data removed]",
      "text/plain": [
       "<Figure size 640x480 with 1 Axes>"
      ]
     },
     "metadata": {},
     "output_type": "display_data"
    }
   ],
   "source": [
    "dat = df_no_dup.groupby(['wallsMaterial', 'expensive']).price.count().reset_index()\n",
    "dat['max_c'] = dat.groupby('wallsMaterial').price.transform(np.sum)\n",
    "dat['pct'] = (dat.price / dat['max_c'] * 100).round(1)\n",
    "\n",
    "sns.barplot(data=dat, x='wallsMaterial', y='pct', hue='expensive', palette='dark')\n",
    "plt.xticks(rotation=45)\n",
    "plt.show()"
   ]
  },
  {
   "cell_type": "markdown",
   "id": "f3e6af04-e8da-499d-b51c-0f109aad28ee",
   "metadata": {},
   "source": [
    "# Введение в классическое машинное обучение\n",
    "\n",
    "Будем работать с тем же файлом `moscow_flats_dataset_2020.csv`."
   ]
  },
  {
   "cell_type": "code",
   "execution_count": 27,
   "id": "92467de3-b3bc-4ea8-a0ff-30a6f8499d85",
   "metadata": {
    "tags": []
   },
   "outputs": [],
   "source": [
    "# будем работать с исходным файлом\n",
    "df = pd.read_csv('data/moscow_flats_dataset_2020.csv', encoding='utf8', sep=',')"
   ]
  },
  {
   "cell_type": "markdown",
   "id": "023a8206-a884-42a4-a7dc-5955c0060245",
   "metadata": {},
   "source": [
    "## 15. (3 балла)\n",
    "Только на числовых признаках обучите модель линейной регрессии с параметрами по-умолчанию для определения стоимости квартиры. \n",
    "\n",
    "Указания:\n",
    "1. Отберите числовые столбцы;\n",
    "2. Разбейте данные для трейн и тест (размер тестовой выборки 25%, сид для рандомизации: 23042023 );\n",
    "3. Обучите модель на тренинговой выборке;  \n",
    "4. Сделайте предсказания модель на тестовой выборке;  \n",
    "5. Посчитайте RMSLE (<a href=\"https://scikit-learn.org/stable/modules/generated/sklearn.metrics.mean_squared_log_error.html\">ссылка</a>);"
   ]
  },
  {
   "cell_type": "code",
   "execution_count": 28,
   "id": "f7ba247a-9888-4446-ad6f-ff5645d1be1f",
   "metadata": {},
   "outputs": [],
   "source": [
    "df = df.select_dtypes(include=np.number)"
   ]
  },
  {
   "cell_type": "code",
   "execution_count": 29,
   "id": "30e7e541-0b2e-4458-a20e-0327423f919c",
   "metadata": {
    "tags": []
   },
   "outputs": [],
   "source": [
    "from sklearn.model_selection import train_test_split\n",
    "\n",
    "X_train, X_test, y_train, y_test = train_test_split(df.drop('price', axis=1), df['price'], test_size=0.25,random_state=23042023)"
   ]
  },
  {
   "cell_type": "code",
   "execution_count": 30,
   "id": "58c40106-7234-4484-8c05-c2ddd9f729ab",
   "metadata": {
    "tags": []
   },
   "outputs": [
    {
     "data": {
      "text/html": [
       "<style>#sk-container-id-1 {color: black;background-color: white;}#sk-container-id-1 pre{padding: 0;}#sk-container-id-1 div.sk-toggleable {background-color: white;}#sk-container-id-1 label.sk-toggleable__label {cursor: pointer;display: block;width: 100%;margin-bottom: 0;padding: 0.3em;box-sizing: border-box;text-align: center;}#sk-container-id-1 label.sk-toggleable__label-arrow:before {content: \"▸\";float: left;margin-right: 0.25em;color: #696969;}#sk-container-id-1 label.sk-toggleable__label-arrow:hover:before {color: black;}#sk-container-id-1 div.sk-estimator:hover label.sk-toggleable__label-arrow:before {color: black;}#sk-container-id-1 div.sk-toggleable__content {max-height: 0;max-width: 0;overflow: hidden;text-align: left;background-color: #f0f8ff;}#sk-container-id-1 div.sk-toggleable__content pre {margin: 0.2em;color: black;border-radius: 0.25em;background-color: #f0f8ff;}#sk-container-id-1 input.sk-toggleable__control:checked~div.sk-toggleable__content {max-height: 200px;max-width: 100%;overflow: auto;}#sk-container-id-1 input.sk-toggleable__control:checked~label.sk-toggleable__label-arrow:before {content: \"▾\";}#sk-container-id-1 div.sk-estimator input.sk-toggleable__control:checked~label.sk-toggleable__label {background-color: #d4ebff;}#sk-container-id-1 div.sk-label input.sk-toggleable__control:checked~label.sk-toggleable__label {background-color: #d4ebff;}#sk-container-id-1 input.sk-hidden--visually {border: 0;clip: rect(1px 1px 1px 1px);clip: rect(1px, 1px, 1px, 1px);height: 1px;margin: -1px;overflow: hidden;padding: 0;position: absolute;width: 1px;}#sk-container-id-1 div.sk-estimator {font-family: monospace;background-color: #f0f8ff;border: 1px dotted black;border-radius: 0.25em;box-sizing: border-box;margin-bottom: 0.5em;}#sk-container-id-1 div.sk-estimator:hover {background-color: #d4ebff;}#sk-container-id-1 div.sk-parallel-item::after {content: \"\";width: 100%;border-bottom: 1px solid gray;flex-grow: 1;}#sk-container-id-1 div.sk-label:hover label.sk-toggleable__label {background-color: #d4ebff;}#sk-container-id-1 div.sk-serial::before {content: \"\";position: absolute;border-left: 1px solid gray;box-sizing: border-box;top: 0;bottom: 0;left: 50%;z-index: 0;}#sk-container-id-1 div.sk-serial {display: flex;flex-direction: column;align-items: center;background-color: white;padding-right: 0.2em;padding-left: 0.2em;position: relative;}#sk-container-id-1 div.sk-item {position: relative;z-index: 1;}#sk-container-id-1 div.sk-parallel {display: flex;align-items: stretch;justify-content: center;background-color: white;position: relative;}#sk-container-id-1 div.sk-item::before, #sk-container-id-1 div.sk-parallel-item::before {content: \"\";position: absolute;border-left: 1px solid gray;box-sizing: border-box;top: 0;bottom: 0;left: 50%;z-index: -1;}#sk-container-id-1 div.sk-parallel-item {display: flex;flex-direction: column;z-index: 1;position: relative;background-color: white;}#sk-container-id-1 div.sk-parallel-item:first-child::after {align-self: flex-end;width: 50%;}#sk-container-id-1 div.sk-parallel-item:last-child::after {align-self: flex-start;width: 50%;}#sk-container-id-1 div.sk-parallel-item:only-child::after {width: 0;}#sk-container-id-1 div.sk-dashed-wrapped {border: 1px dashed gray;margin: 0 0.4em 0.5em 0.4em;box-sizing: border-box;padding-bottom: 0.4em;background-color: white;}#sk-container-id-1 div.sk-label label {font-family: monospace;font-weight: bold;display: inline-block;line-height: 1.2em;}#sk-container-id-1 div.sk-label-container {text-align: center;}#sk-container-id-1 div.sk-container {/* jupyter's `normalize.less` sets `[hidden] { display: none; }` but bootstrap.min.css set `[hidden] { display: none !important; }` so we also need the `!important` here to be able to override the default hidden behavior on the sphinx rendered scikit-learn.org. See: https://github.com/scikit-learn/scikit-learn/issues/21755 */display: inline-block !important;position: relative;}#sk-container-id-1 div.sk-text-repr-fallback {display: none;}</style><div id=\"sk-container-id-1\" class=\"sk-top-container\"><div class=\"sk-text-repr-fallback\"><pre>LinearRegression()</pre><b>In a Jupyter environment, please rerun this cell to show the HTML representation or trust the notebook. <br />On GitHub, the HTML representation is unable to render, please try loading this page with nbviewer.org.</b></div><div class=\"sk-container\" hidden><div class=\"sk-item\"><div class=\"sk-estimator sk-toggleable\"><input class=\"sk-toggleable__control sk-hidden--visually\" id=\"sk-estimator-id-1\" type=\"checkbox\" checked><label for=\"sk-estimator-id-1\" class=\"sk-toggleable__label sk-toggleable__label-arrow\">LinearRegression</label><div class=\"sk-toggleable__content\"><pre>LinearRegression()</pre></div></div></div></div></div>"
      ],
      "text/plain": [
       "LinearRegression()"
      ]
     },
     "execution_count": 30,
     "metadata": {},
     "output_type": "execute_result"
    }
   ],
   "source": [
    "from sklearn.linear_model import LinearRegression\n",
    "\n",
    "model = LinearRegression()\n",
    "\n",
    "model.fit(X_train, y_train)"
   ]
  },
  {
   "cell_type": "code",
   "execution_count": 31,
   "id": "632f028b-fc4e-449e-91c1-c2547b5099cc",
   "metadata": {
    "tags": []
   },
   "outputs": [],
   "source": [
    "y_pred = model.predict(X_test)"
   ]
  },
  {
   "cell_type": "code",
   "execution_count": 32,
   "id": "f138e6d3-fdab-490c-94f5-08af9a578bf6",
   "metadata": {
    "tags": []
   },
   "outputs": [
    {
     "ename": "ValueError",
     "evalue": "Mean Squared Logarithmic Error cannot be used when targets contain negative values.",
     "output_type": "error",
     "traceback": [
      "\u001b[1;31m---------------------------------------------------------------------------\u001b[0m",
      "\u001b[1;31mValueError\u001b[0m                                Traceback (most recent call last)",
      "Cell \u001b[1;32mIn[32], line 3\u001b[0m\n\u001b[0;32m      1\u001b[0m \u001b[38;5;28;01mfrom\u001b[39;00m \u001b[38;5;21;01msklearn\u001b[39;00m\u001b[38;5;21;01m.\u001b[39;00m\u001b[38;5;21;01mmetrics\u001b[39;00m \u001b[38;5;28;01mimport\u001b[39;00m mean_squared_log_error\n\u001b[1;32m----> 3\u001b[0m \u001b[43mmean_squared_log_error\u001b[49m\u001b[43m(\u001b[49m\u001b[43my_test\u001b[49m\u001b[43m,\u001b[49m\u001b[43m \u001b[49m\u001b[43my_pred\u001b[49m\u001b[43m)\u001b[49m\n",
      "File \u001b[1;32m~\\mambaforge\\envs\\hock\\lib\\site-packages\\sklearn\\metrics\\_regression.py:525\u001b[0m, in \u001b[0;36mmean_squared_log_error\u001b[1;34m(y_true, y_pred, sample_weight, multioutput, squared)\u001b[0m\n\u001b[0;32m    522\u001b[0m check_consistent_length(y_true, y_pred, sample_weight)\n\u001b[0;32m    524\u001b[0m \u001b[38;5;28;01mif\u001b[39;00m (y_true \u001b[38;5;241m<\u001b[39m \u001b[38;5;241m0\u001b[39m)\u001b[38;5;241m.\u001b[39many() \u001b[38;5;129;01mor\u001b[39;00m (y_pred \u001b[38;5;241m<\u001b[39m \u001b[38;5;241m0\u001b[39m)\u001b[38;5;241m.\u001b[39many():\n\u001b[1;32m--> 525\u001b[0m     \u001b[38;5;28;01mraise\u001b[39;00m \u001b[38;5;167;01mValueError\u001b[39;00m(\n\u001b[0;32m    526\u001b[0m         \u001b[38;5;124m\"\u001b[39m\u001b[38;5;124mMean Squared Logarithmic Error cannot be used when \u001b[39m\u001b[38;5;124m\"\u001b[39m\n\u001b[0;32m    527\u001b[0m         \u001b[38;5;124m\"\u001b[39m\u001b[38;5;124mtargets contain negative values.\u001b[39m\u001b[38;5;124m\"\u001b[39m\n\u001b[0;32m    528\u001b[0m     )\n\u001b[0;32m    530\u001b[0m \u001b[38;5;28;01mreturn\u001b[39;00m mean_squared_error(\n\u001b[0;32m    531\u001b[0m     np\u001b[38;5;241m.\u001b[39mlog1p(y_true),\n\u001b[0;32m    532\u001b[0m     np\u001b[38;5;241m.\u001b[39mlog1p(y_pred),\n\u001b[1;32m   (...)\u001b[0m\n\u001b[0;32m    535\u001b[0m     squared\u001b[38;5;241m=\u001b[39msquared,\n\u001b[0;32m    536\u001b[0m )\n",
      "\u001b[1;31mValueError\u001b[0m: Mean Squared Logarithmic Error cannot be used when targets contain negative values."
     ]
    }
   ],
   "source": [
    "from sklearn.metrics import mean_squared_log_error\n",
    "\n",
    "mean_squared_log_error(y_test, y_pred)"
   ]
  },
  {
   "cell_type": "code",
   "execution_count": 33,
   "id": "d1421854-2636-4ae3-b32b-2db2133ca3c2",
   "metadata": {
    "tags": []
   },
   "outputs": [
    {
     "data": {
      "text/plain": [
       "4.383046383673734"
      ]
     },
     "execution_count": 33,
     "metadata": {},
     "output_type": "execute_result"
    }
   ],
   "source": [
    "# сделаем отрицательные значения равными 0\n",
    "y_pred = np.where(y_pred < 0, 1, y_pred)\n",
    "\n",
    "mean_squared_log_error(y_test, y_pred, squared=False)"
   ]
  },
  {
   "cell_type": "code",
   "execution_count": 34,
   "id": "9ca0f41e-7956-4ea6-8c3f-2eb07f5c7bf9",
   "metadata": {
    "tags": []
   },
   "outputs": [],
   "source": [
    "# т.е. средняя ошибка на 4.2 степени экспоненты"
   ]
  },
  {
   "cell_type": "markdown",
   "id": "12987123-7553-456d-9c50-cf89b3fa0b0e",
   "metadata": {},
   "source": [
    "## 16 (3 балла)\n",
    "Попробуем предсказывать теперь не стоимость, а её логарифм. Обучим линейную модель для предсказания логарифма цены, дальше возведем экспоненту в найденные степени (логарифм==степень), посчитаем ошибку.\n",
    "\n",
    "Указания:\n",
    "1. Отберите числовые столбцы;\n",
    "2. Разбейте данные для трейн и тест (размер тестовой выборки 25%, сид для рандомизации: 23042023 );  \n",
    "*2.2 _Стедайлте MinMax шкалирование числовых признаков (+1 балл)_\n",
    "3. Прологарифмируйте цены в трейне;\n",
    "4. Обучите модель на тренинговой выборке;  \n",
    "5. Сделайте предсказания модель на тестовой выборке;  \n",
    "6. Так как мы предсказали именно степени, а не сами цены, то возведите экспоненту в найденные степени;\n",
    "7. Посчитайте RMSLE на ценах;\n",
    "\n",
    "**Стало ли лучше? Почему?**"
   ]
  },
  {
   "cell_type": "code",
   "execution_count": 35,
   "id": "dd29a608-3521-4ec1-aa9d-bcc2ba6cdb45",
   "metadata": {},
   "outputs": [],
   "source": [
    "df = df.select_dtypes(include=np.number)"
   ]
  },
  {
   "cell_type": "code",
   "execution_count": 36,
   "id": "3245749a-debd-4e61-83d0-f66e82d68b25",
   "metadata": {
    "tags": []
   },
   "outputs": [],
   "source": [
    "from sklearn.model_selection import train_test_split\n",
    "\n",
    "X_train, X_test, y_train, y_test = train_test_split(df.drop('price', axis=1), df['price'], test_size=0.25,random_state=23042023)"
   ]
  },
  {
   "cell_type": "code",
   "execution_count": 37,
   "id": "15e7af50-633d-4c01-969d-7c8ec9c7012f",
   "metadata": {
    "tags": []
   },
   "outputs": [],
   "source": [
    "from sklearn.preprocessing import MinMaxScaler\n",
    "\n",
    "scaler = MinMaxScaler()\n",
    "\n",
    "X_train = scaler.fit_transform(X_train)\n",
    "X_test = scaler.transform(X_test)"
   ]
  },
  {
   "cell_type": "code",
   "execution_count": 38,
   "id": "555286d4-4153-41b3-81a9-008a693cdade",
   "metadata": {
    "tags": []
   },
   "outputs": [],
   "source": [
    "y_train = np.log(y_train)"
   ]
  },
  {
   "cell_type": "code",
   "execution_count": 39,
   "id": "83b65539-522c-470c-b6bc-4951439a310f",
   "metadata": {
    "tags": []
   },
   "outputs": [
    {
     "data": {
      "text/html": [
       "<style>#sk-container-id-2 {color: black;background-color: white;}#sk-container-id-2 pre{padding: 0;}#sk-container-id-2 div.sk-toggleable {background-color: white;}#sk-container-id-2 label.sk-toggleable__label {cursor: pointer;display: block;width: 100%;margin-bottom: 0;padding: 0.3em;box-sizing: border-box;text-align: center;}#sk-container-id-2 label.sk-toggleable__label-arrow:before {content: \"▸\";float: left;margin-right: 0.25em;color: #696969;}#sk-container-id-2 label.sk-toggleable__label-arrow:hover:before {color: black;}#sk-container-id-2 div.sk-estimator:hover label.sk-toggleable__label-arrow:before {color: black;}#sk-container-id-2 div.sk-toggleable__content {max-height: 0;max-width: 0;overflow: hidden;text-align: left;background-color: #f0f8ff;}#sk-container-id-2 div.sk-toggleable__content pre {margin: 0.2em;color: black;border-radius: 0.25em;background-color: #f0f8ff;}#sk-container-id-2 input.sk-toggleable__control:checked~div.sk-toggleable__content {max-height: 200px;max-width: 100%;overflow: auto;}#sk-container-id-2 input.sk-toggleable__control:checked~label.sk-toggleable__label-arrow:before {content: \"▾\";}#sk-container-id-2 div.sk-estimator input.sk-toggleable__control:checked~label.sk-toggleable__label {background-color: #d4ebff;}#sk-container-id-2 div.sk-label input.sk-toggleable__control:checked~label.sk-toggleable__label {background-color: #d4ebff;}#sk-container-id-2 input.sk-hidden--visually {border: 0;clip: rect(1px 1px 1px 1px);clip: rect(1px, 1px, 1px, 1px);height: 1px;margin: -1px;overflow: hidden;padding: 0;position: absolute;width: 1px;}#sk-container-id-2 div.sk-estimator {font-family: monospace;background-color: #f0f8ff;border: 1px dotted black;border-radius: 0.25em;box-sizing: border-box;margin-bottom: 0.5em;}#sk-container-id-2 div.sk-estimator:hover {background-color: #d4ebff;}#sk-container-id-2 div.sk-parallel-item::after {content: \"\";width: 100%;border-bottom: 1px solid gray;flex-grow: 1;}#sk-container-id-2 div.sk-label:hover label.sk-toggleable__label {background-color: #d4ebff;}#sk-container-id-2 div.sk-serial::before {content: \"\";position: absolute;border-left: 1px solid gray;box-sizing: border-box;top: 0;bottom: 0;left: 50%;z-index: 0;}#sk-container-id-2 div.sk-serial {display: flex;flex-direction: column;align-items: center;background-color: white;padding-right: 0.2em;padding-left: 0.2em;position: relative;}#sk-container-id-2 div.sk-item {position: relative;z-index: 1;}#sk-container-id-2 div.sk-parallel {display: flex;align-items: stretch;justify-content: center;background-color: white;position: relative;}#sk-container-id-2 div.sk-item::before, #sk-container-id-2 div.sk-parallel-item::before {content: \"\";position: absolute;border-left: 1px solid gray;box-sizing: border-box;top: 0;bottom: 0;left: 50%;z-index: -1;}#sk-container-id-2 div.sk-parallel-item {display: flex;flex-direction: column;z-index: 1;position: relative;background-color: white;}#sk-container-id-2 div.sk-parallel-item:first-child::after {align-self: flex-end;width: 50%;}#sk-container-id-2 div.sk-parallel-item:last-child::after {align-self: flex-start;width: 50%;}#sk-container-id-2 div.sk-parallel-item:only-child::after {width: 0;}#sk-container-id-2 div.sk-dashed-wrapped {border: 1px dashed gray;margin: 0 0.4em 0.5em 0.4em;box-sizing: border-box;padding-bottom: 0.4em;background-color: white;}#sk-container-id-2 div.sk-label label {font-family: monospace;font-weight: bold;display: inline-block;line-height: 1.2em;}#sk-container-id-2 div.sk-label-container {text-align: center;}#sk-container-id-2 div.sk-container {/* jupyter's `normalize.less` sets `[hidden] { display: none; }` but bootstrap.min.css set `[hidden] { display: none !important; }` so we also need the `!important` here to be able to override the default hidden behavior on the sphinx rendered scikit-learn.org. See: https://github.com/scikit-learn/scikit-learn/issues/21755 */display: inline-block !important;position: relative;}#sk-container-id-2 div.sk-text-repr-fallback {display: none;}</style><div id=\"sk-container-id-2\" class=\"sk-top-container\"><div class=\"sk-text-repr-fallback\"><pre>LinearRegression()</pre><b>In a Jupyter environment, please rerun this cell to show the HTML representation or trust the notebook. <br />On GitHub, the HTML representation is unable to render, please try loading this page with nbviewer.org.</b></div><div class=\"sk-container\" hidden><div class=\"sk-item\"><div class=\"sk-estimator sk-toggleable\"><input class=\"sk-toggleable__control sk-hidden--visually\" id=\"sk-estimator-id-2\" type=\"checkbox\" checked><label for=\"sk-estimator-id-2\" class=\"sk-toggleable__label sk-toggleable__label-arrow\">LinearRegression</label><div class=\"sk-toggleable__content\"><pre>LinearRegression()</pre></div></div></div></div></div>"
      ],
      "text/plain": [
       "LinearRegression()"
      ]
     },
     "execution_count": 39,
     "metadata": {},
     "output_type": "execute_result"
    }
   ],
   "source": [
    "from sklearn.linear_model import LinearRegression\n",
    "\n",
    "model = LinearRegression()\n",
    "\n",
    "model.fit(X_train, y_train)"
   ]
  },
  {
   "cell_type": "code",
   "execution_count": 40,
   "id": "b18a5f98-cf78-45ac-87ce-dfa2e837eeac",
   "metadata": {
    "tags": []
   },
   "outputs": [],
   "source": [
    "y_pred = model.predict(X_test)"
   ]
  },
  {
   "cell_type": "code",
   "execution_count": 41,
   "id": "f23310bd-2c06-43f0-9cfe-3148f776fc0c",
   "metadata": {
    "tags": []
   },
   "outputs": [],
   "source": [
    "y_pred = np.exp(y_pred)"
   ]
  },
  {
   "cell_type": "code",
   "execution_count": 42,
   "id": "f74d35cf-3624-453b-96e8-8393bb363a2a",
   "metadata": {
    "tags": []
   },
   "outputs": [
    {
     "data": {
      "text/plain": [
       "0.3736678617942575"
      ]
     },
     "execution_count": 42,
     "metadata": {},
     "output_type": "execute_result"
    }
   ],
   "source": [
    "mean_squared_log_error(y_test, y_pred, squared=False)"
   ]
  },
  {
   "cell_type": "markdown",
   "id": "e62de366-4742-4078-9665-ea0c6ef265b6",
   "metadata": {},
   "source": [
    "#### Пояснение\n",
    "Данные цен на квартиры часто распределены ЛогНормально.  \n",
    "Это означает, что само распределение не имеет нормалньый вид, но если логарифмировать данные, то получается что-то нормальное.  \n",
    "Есть целый комплекс преобразований, который называется преобразование бокса-кокса, направленный на нормализацию данных путём логарифмирования.  "
   ]
  },
  {
   "cell_type": "code",
   "execution_count": 43,
   "id": "6c204687-c2f6-4f51-a964-1eece8f1799a",
   "metadata": {
    "tags": []
   },
   "outputs": [
    {
     "data": {
      "image/png": "[encoded data removed]",
      "text/plain": [
       "<Figure size 800x300 with 2 Axes>"
      ]
     },
     "metadata": {},
     "output_type": "display_data"
    }
   ],
   "source": [
    "fig, ax =plt.subplots(1, 2, figsize=(8, 3))\n",
    "\n",
    "ax[0].hist(df.price, bins=20)\n",
    "ax[0].set_title('price')\n",
    "ax[1].hist(np.log(df.price), bins=20)\n",
    "ax[1].set_title('$log_e(price)$')\n",
    "\n",
    "plt.show()"
   ]
  },
  {
   "cell_type": "markdown",
   "id": "b3e80e30-66a6-436b-85d9-96d2ad9702bc",
   "metadata": {},
   "source": [
    "### 17. (5 баллов)\n",
    "На исходных данных (не шкалированных) обучите модель случайного леса (RandomForestClassifier) для определения  значения \"wallsMaterial\" и определите оптимальные параметры с помощью GridSearchCV.\n",
    "\n",
    "Укаазния:  \n",
    "1. Разбейте данные на трейн и тест (размер тестовой выборки 25%, сид для рандомизации: 23042023 );  \n",
    "2. Создайте сетку параметров для GridSearchCV.  \n",
    "   Значения для перебора: \n",
    "   - `n_estimators: 10, 25, 50, 100`\n",
    "   - `max_depth: 3, 5, 10`\n",
    "   - `max_features: \"sqrt\", \"log2\"`  \n",
    "   \n",
    "Для скоринга используйте f1-score (average) (нужно создать scorer с помощью <a href=\"https://scikit-learn.org/stable/modules/generated/sklearn.metrics.make_scorer.html\">make_scorer</a>).   \n",
    "(GridSearchCV учите только на тренинговой выборке)\n",
    "\n",
    "3. На лучшей модели из GridSearchCV (атрибут best_estimator_ или как-то так) сделайте предсказания для тестовой выборки;  \n",
    "4. Определите roc_auc_score (average) для предсказания."
   ]
  },
  {
   "cell_type": "code",
   "execution_count": 44,
   "id": "2685d7bb-3ddd-4aea-8e36-7e48f81fc50e",
   "metadata": {
    "tags": []
   },
   "outputs": [],
   "source": [
    "df = pd.read_csv('data/moscow_flats_dataset_2020.csv', encoding='utf8', sep=',')\n",
    "df = df.dropna()\n",
    "\n",
    "from sklearn.model_selection import train_test_split\n",
    "\n",
    "X_train, X_test, y_train, y_test = train_test_split(df.drop('wallsMaterial', axis=1), df['wallsMaterial'], test_size=0.25,random_state=23042023)"
   ]
  },
  {
   "cell_type": "code",
   "execution_count": 45,
   "id": "8089038b-8c85-4b96-b49f-2870c1a82c4e",
   "metadata": {
    "tags": []
   },
   "outputs": [],
   "source": [
    "params = {\n",
    "    'n_estimators': [10, 25, 50, 100],\n",
    "    'max_depth': [3, 5, 10],\n",
    "    'max_features': [\"sqrt\", \"log2\"]\n",
    "}"
   ]
  },
  {
   "cell_type": "code",
   "execution_count": 46,
   "id": "7d0811a1-2047-4717-a865-7dcd0816cd8f",
   "metadata": {
    "tags": []
   },
   "outputs": [],
   "source": [
    "from sklearn.metrics import make_scorer, f1_score, roc_auc_score\n",
    "\n",
    "scorer = make_scorer(f1_score, average='weighted')"
   ]
  },
  {
   "cell_type": "code",
   "execution_count": 47,
   "id": "64a574ab-d1cd-40b5-918d-b5842a0b5fd0",
   "metadata": {
    "tags": []
   },
   "outputs": [],
   "source": [
    "from sklearn.model_selection import GridSearchCV\n",
    "from sklearn.ensemble import RandomForestClassifier\n",
    "\n",
    "model = GridSearchCV(estimator=RandomForestClassifier(),  \n",
    "                     param_grid=params,\n",
    "                     scoring=scorer,\n",
    "                     n_jobs=4, \n",
    "                     verbose=0)"
   ]
  },
  {
   "cell_type": "code",
   "execution_count": 48,
   "id": "50a5319f-e76f-49be-8dc0-e4fa916da981",
   "metadata": {
    "tags": []
   },
   "outputs": [
    {
     "data": {
      "text/html": [
       "<style>#sk-container-id-3 {color: black;background-color: white;}#sk-container-id-3 pre{padding: 0;}#sk-container-id-3 div.sk-toggleable {background-color: white;}#sk-container-id-3 label.sk-toggleable__label {cursor: pointer;display: block;width: 100%;margin-bottom: 0;padding: 0.3em;box-sizing: border-box;text-align: center;}#sk-container-id-3 label.sk-toggleable__label-arrow:before {content: \"▸\";float: left;margin-right: 0.25em;color: #696969;}#sk-container-id-3 label.sk-toggleable__label-arrow:hover:before {color: black;}#sk-container-id-3 div.sk-estimator:hover label.sk-toggleable__label-arrow:before {color: black;}#sk-container-id-3 div.sk-toggleable__content {max-height: 0;max-width: 0;overflow: hidden;text-align: left;background-color: #f0f8ff;}#sk-container-id-3 div.sk-toggleable__content pre {margin: 0.2em;color: black;border-radius: 0.25em;background-color: #f0f8ff;}#sk-container-id-3 input.sk-toggleable__control:checked~div.sk-toggleable__content {max-height: 200px;max-width: 100%;overflow: auto;}#sk-container-id-3 input.sk-toggleable__control:checked~label.sk-toggleable__label-arrow:before {content: \"▾\";}#sk-container-id-3 div.sk-estimator input.sk-toggleable__control:checked~label.sk-toggleable__label {background-color: #d4ebff;}#sk-container-id-3 div.sk-label input.sk-toggleable__control:checked~label.sk-toggleable__label {background-color: #d4ebff;}#sk-container-id-3 input.sk-hidden--visually {border: 0;clip: rect(1px 1px 1px 1px);clip: rect(1px, 1px, 1px, 1px);height: 1px;margin: -1px;overflow: hidden;padding: 0;position: absolute;width: 1px;}#sk-container-id-3 div.sk-estimator {font-family: monospace;background-color: #f0f8ff;border: 1px dotted black;border-radius: 0.25em;box-sizing: border-box;margin-bottom: 0.5em;}#sk-container-id-3 div.sk-estimator:hover {background-color: #d4ebff;}#sk-container-id-3 div.sk-parallel-item::after {content: \"\";width: 100%;border-bottom: 1px solid gray;flex-grow: 1;}#sk-container-id-3 div.sk-label:hover label.sk-toggleable__label {background-color: #d4ebff;}#sk-container-id-3 div.sk-serial::before {content: \"\";position: absolute;border-left: 1px solid gray;box-sizing: border-box;top: 0;bottom: 0;left: 50%;z-index: 0;}#sk-container-id-3 div.sk-serial {display: flex;flex-direction: column;align-items: center;background-color: white;padding-right: 0.2em;padding-left: 0.2em;position: relative;}#sk-container-id-3 div.sk-item {position: relative;z-index: 1;}#sk-container-id-3 div.sk-parallel {display: flex;align-items: stretch;justify-content: center;background-color: white;position: relative;}#sk-container-id-3 div.sk-item::before, #sk-container-id-3 div.sk-parallel-item::before {content: \"\";position: absolute;border-left: 1px solid gray;box-sizing: border-box;top: 0;bottom: 0;left: 50%;z-index: -1;}#sk-container-id-3 div.sk-parallel-item {display: flex;flex-direction: column;z-index: 1;position: relative;background-color: white;}#sk-container-id-3 div.sk-parallel-item:first-child::after {align-self: flex-end;width: 50%;}#sk-container-id-3 div.sk-parallel-item:last-child::after {align-self: flex-start;width: 50%;}#sk-container-id-3 div.sk-parallel-item:only-child::after {width: 0;}#sk-container-id-3 div.sk-dashed-wrapped {border: 1px dashed gray;margin: 0 0.4em 0.5em 0.4em;box-sizing: border-box;padding-bottom: 0.4em;background-color: white;}#sk-container-id-3 div.sk-label label {font-family: monospace;font-weight: bold;display: inline-block;line-height: 1.2em;}#sk-container-id-3 div.sk-label-container {text-align: center;}#sk-container-id-3 div.sk-container {/* jupyter's `normalize.less` sets `[hidden] { display: none; }` but bootstrap.min.css set `[hidden] { display: none !important; }` so we also need the `!important` here to be able to override the default hidden behavior on the sphinx rendered scikit-learn.org. See: https://github.com/scikit-learn/scikit-learn/issues/21755 */display: inline-block !important;position: relative;}#sk-container-id-3 div.sk-text-repr-fallback {display: none;}</style><div id=\"sk-container-id-3\" class=\"sk-top-container\"><div class=\"sk-text-repr-fallback\"><pre>GridSearchCV(estimator=RandomForestClassifier(), n_jobs=4,\n",
       "             param_grid={&#x27;max_depth&#x27;: [3, 5, 10],\n",
       "                         &#x27;max_features&#x27;: [&#x27;sqrt&#x27;, &#x27;log2&#x27;],\n",
       "                         &#x27;n_estimators&#x27;: [10, 25, 50, 100]},\n",
       "             scoring=make_scorer(f1_score, average=weighted))</pre><b>In a Jupyter environment, please rerun this cell to show the HTML representation or trust the notebook. <br />On GitHub, the HTML representation is unable to render, please try loading this page with nbviewer.org.</b></div><div class=\"sk-container\" hidden><div class=\"sk-item sk-dashed-wrapped\"><div class=\"sk-label-container\"><div class=\"sk-label sk-toggleable\"><input class=\"sk-toggleable__control sk-hidden--visually\" id=\"sk-estimator-id-3\" type=\"checkbox\" ><label for=\"sk-estimator-id-3\" class=\"sk-toggleable__label sk-toggleable__label-arrow\">GridSearchCV</label><div class=\"sk-toggleable__content\"><pre>GridSearchCV(estimator=RandomForestClassifier(), n_jobs=4,\n",
       "             param_grid={&#x27;max_depth&#x27;: [3, 5, 10],\n",
       "                         &#x27;max_features&#x27;: [&#x27;sqrt&#x27;, &#x27;log2&#x27;],\n",
       "                         &#x27;n_estimators&#x27;: [10, 25, 50, 100]},\n",
       "             scoring=make_scorer(f1_score, average=weighted))</pre></div></div></div><div class=\"sk-parallel\"><div class=\"sk-parallel-item\"><div class=\"sk-item\"><div class=\"sk-label-container\"><div class=\"sk-label sk-toggleable\"><input class=\"sk-toggleable__control sk-hidden--visually\" id=\"sk-estimator-id-4\" type=\"checkbox\" ><label for=\"sk-estimator-id-4\" class=\"sk-toggleable__label sk-toggleable__label-arrow\">estimator: RandomForestClassifier</label><div class=\"sk-toggleable__content\"><pre>RandomForestClassifier()</pre></div></div></div><div class=\"sk-serial\"><div class=\"sk-item\"><div class=\"sk-estimator sk-toggleable\"><input class=\"sk-toggleable__control sk-hidden--visually\" id=\"sk-estimator-id-5\" type=\"checkbox\" ><label for=\"sk-estimator-id-5\" class=\"sk-toggleable__label sk-toggleable__label-arrow\">RandomForestClassifier</label><div class=\"sk-toggleable__content\"><pre>RandomForestClassifier()</pre></div></div></div></div></div></div></div></div></div></div>"
      ],
      "text/plain": [
       "GridSearchCV(estimator=RandomForestClassifier(), n_jobs=4,\n",
       "             param_grid={'max_depth': [3, 5, 10],\n",
       "                         'max_features': ['sqrt', 'log2'],\n",
       "                         'n_estimators': [10, 25, 50, 100]},\n",
       "             scoring=make_scorer(f1_score, average=weighted))"
      ]
     },
     "execution_count": 48,
     "metadata": {},
     "output_type": "execute_result"
    }
   ],
   "source": [
    "model.fit(X_train, y_train)"
   ]
  },
  {
   "cell_type": "code",
   "execution_count": 49,
   "id": "7bdba063-9b7d-4731-86e7-53c070c6b04d",
   "metadata": {
    "tags": []
   },
   "outputs": [
    {
     "data": {
      "text/plain": [
       "{'max_depth': 10, 'max_features': 'sqrt', 'n_estimators': 100}"
      ]
     },
     "execution_count": 49,
     "metadata": {},
     "output_type": "execute_result"
    }
   ],
   "source": [
    "model.best_params_"
   ]
  },
  {
   "cell_type": "code",
   "execution_count": 50,
   "id": "eb0fbf57-bf28-4ea9-ae4a-bc9fe040e09e",
   "metadata": {
    "tags": []
   },
   "outputs": [
    {
     "data": {
      "text/plain": [
       "{'bootstrap': True,\n",
       " 'ccp_alpha': 0.0,\n",
       " 'class_weight': None,\n",
       " 'criterion': 'gini',\n",
       " 'max_depth': 10,\n",
       " 'max_features': 'sqrt',\n",
       " 'max_leaf_nodes': None,\n",
       " 'max_samples': None,\n",
       " 'min_impurity_decrease': 0.0,\n",
       " 'min_samples_leaf': 1,\n",
       " 'min_samples_split': 2,\n",
       " 'min_weight_fraction_leaf': 0.0,\n",
       " 'n_estimators': 100,\n",
       " 'n_jobs': None,\n",
       " 'oob_score': False,\n",
       " 'random_state': None,\n",
       " 'verbose': 0,\n",
       " 'warm_start': False}"
      ]
     },
     "execution_count": 50,
     "metadata": {},
     "output_type": "execute_result"
    }
   ],
   "source": [
    "model.best_estimator_.get_params()"
   ]
  },
  {
   "cell_type": "code",
   "execution_count": 51,
   "id": "b6a8653b-11bb-4433-8e11-f21e4e2020ef",
   "metadata": {
    "tags": []
   },
   "outputs": [
    {
     "data": {
      "text/plain": [
       "[('floorsTotal', 0.3255127701417305),\n",
       " ('kitchenArea', 0.2047632990865344),\n",
       " ('price', 0.14262868420921754),\n",
       " ('latitude', 0.11281845831847619),\n",
       " ('longitude', 0.09720701994878643),\n",
       " ('totalArea', 0.07963047342918389),\n",
       " ('floorNumber', 0.037439294866071025)]"
      ]
     },
     "execution_count": 51,
     "metadata": {},
     "output_type": "execute_result"
    }
   ],
   "source": [
    "# посмотрим на важность признаков. просто так\n",
    "sorted(zip(df.columns[1:], model.best_estimator_.feature_importances_), key=lambda x: x[1], reverse=True)"
   ]
  },
  {
   "cell_type": "code",
   "execution_count": 52,
   "id": "c1028947-80c9-41b6-8c4a-b9e1a48ff1dc",
   "metadata": {
    "tags": []
   },
   "outputs": [],
   "source": [
    "# для roc_auc_score нужны не просто предсказания в виде лейблов, а именно вероятности принадлежности классам"
   ]
  },
  {
   "cell_type": "code",
   "execution_count": 53,
   "id": "b701d95b-4628-4b3a-b08e-6a2118700d1b",
   "metadata": {
    "tags": []
   },
   "outputs": [
    {
     "data": {
      "text/plain": [
       "array(['monolith', 'panel', 'panel', ..., 'panel', 'brick', 'panel'],\n",
       "      dtype=object)"
      ]
     },
     "execution_count": 53,
     "metadata": {},
     "output_type": "execute_result"
    }
   ],
   "source": [
    "# не\n",
    "model.best_estimator_.predict(X_test)"
   ]
  },
  {
   "cell_type": "code",
   "execution_count": 54,
   "id": "da219cd2-ac03-4e98-8e80-7d7f5e59628f",
   "metadata": {
    "tags": []
   },
   "outputs": [
    {
     "data": {
      "text/plain": [
       "(array([[2.07260823e-02, 4.74354153e-02, 5.06768361e-01, ...,\n",
       "         3.12764191e-01, 0.00000000e+00, 2.04081633e-04],\n",
       "        [9.11084362e-02, 7.78733891e-02, 4.34859605e-02, ...,\n",
       "         7.76833169e-01, 1.86442785e-03, 1.39965541e-04],\n",
       "        [2.50055477e-02, 6.78958495e-02, 3.62205710e-01, ...,\n",
       "         3.72905680e-01, 2.76764167e-03, 4.28929186e-04],\n",
       "        ...,\n",
       "        [2.38492375e-01, 6.94948577e-02, 6.95832808e-02, ...,\n",
       "         6.07046191e-01, 1.82015273e-03, 2.05742179e-04],\n",
       "        [5.45515901e-02, 5.46956071e-01, 3.81327031e-02, ...,\n",
       "         2.50942153e-01, 9.46718075e-02, 3.52954756e-04],\n",
       "        [1.14196736e-01, 5.09975350e-02, 1.39810301e-01, ...,\n",
       "         6.71083139e-01, 9.99679503e-04, 4.26048102e-05]]),\n",
       " (15986, 8))"
      ]
     },
     "execution_count": 54,
     "metadata": {},
     "output_type": "execute_result"
    }
   ],
   "source": [
    "# а вот так\n",
    "probs = model.best_estimator_.predict_proba(X_test)\n",
    "probs, probs.shape"
   ]
  },
  {
   "cell_type": "code",
   "execution_count": 55,
   "id": "deee8a98-0858-49ba-a8bb-2739de6f8bf4",
   "metadata": {
    "tags": []
   },
   "outputs": [
    {
     "data": {
      "text/plain": [
       "0.8764935610084894"
      ]
     },
     "execution_count": 55,
     "metadata": {},
     "output_type": "execute_result"
    }
   ],
   "source": [
    "roc_auc_score(y_test, probs, multi_class='ovr')"
   ]
  }
 ],
 "metadata": {
  "kernelspec": {
   "display_name": "hock",
   "language": "python",
   "name": "hock"
  },
  "language_info": {
   "codemirror_mode": {
    "name": "ipython",
    "version": 3
   },
   "file_extension": ".py",
   "mimetype": "text/x-python",
   "name": "python",
   "nbconvert_exporter": "python",
   "pygments_lexer": "ipython3",
   "version": "3.9.16"
  },
  "toc-autonumbering": false
 },
 "nbformat": 4,
 "nbformat_minor": 5
}
