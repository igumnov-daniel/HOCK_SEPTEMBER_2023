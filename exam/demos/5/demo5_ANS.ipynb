{
 "cells": [
  {
   "cell_type": "markdown",
   "id": "c3ba92fe-ba8d-4bbd-9720-2e2d784233a8",
   "metadata": {
    "tags": []
   },
   "source": [
    "# Преамбула\n",
    "Экзамен состоит из трёх блоков:  \n",
    "- программирование на python;  \n",
    "- работа с датафреймами и описательная статистика;  \n",
    "- классическое машинное обучение.\n",
    "\n",
    "Стоимость вопроса равна одному баллу, если не сказано иное.  \n",
    "Для успешной сдачи экзамена необходимо набрать 50% и более от максимального числа баллов.\n",
    "\n",
    "- **NB:** В первом блоке (программирование на python) **ЗАПРЕЩЕНО** пользоваться библиотеками, не посталяемыми вместе с python по-умолчанию (т.е. pandas/numpy нельзя использовать в это блоке, а random/json -- можно);\n",
    "- Во всех задачах на визуализацию **подписи, названия и легенду делать необязательно!**\n",
    "- Все спорные моменты трактуются в пользу экзаменуемого;  \n",
    "- Ваш код должен быть воспроизводим (если я положу исходные файлы в ту же папку, что и Ваш ноутбук, и нажму `Run` -> `Run All Cells`, то всё должно работать). Так что соблюдайте логику и последовательнось запуска ячеек. Спасибо :)  \n",
    "- Можно пользоваться только своей головой, но любыми материалами и интернетом;  \n",
    "- Если задание кажется сложным -- пропустите его;  \n",
    "\n",
    "- Во время экзамена я буду отвечать только на вопросы касаемо формулировок заданий.\n",
    "\n",
    "Главное, не спешите, проверяйте, что и куда записывается.  \n",
    "За каждого болею.  \n",
    "Всем удачи!  \n"
   ]
  },
  {
   "cell_type": "markdown",
   "id": "e977c1de-98f4-4a63-9ec9-d45524e26975",
   "metadata": {},
   "source": [
    "<left>\n",
    "    <img src=\"Data/pics/goodluck.gif\"/>\n",
    "</left>"
   ]
  },
  {
   "cell_type": "markdown",
   "id": "94876987-2265-4ba8-b9e1-a3074f6447ce",
   "metadata": {},
   "source": [
    "## A. Базовый python\n",
    "Для решения задач блока запрещено пользоваться библиотеками, не поставляемые вместе с python.  \n",
    "Иными словами, всё, что устанавливается через `pip`, тут использовать нельзя."
   ]
  },
  {
   "cell_type": "markdown",
   "id": "138dffe5-1125-498c-b50e-8156427864c7",
   "metadata": {},
   "source": [
    "### 1. \n",
    "Напишите функцию `MApred`, которая принимает в качестве аргументов список из float-чисел с информацией о том, сколько газа было прокачано через некоторый пункт (в кубометрах).  \n",
    "\n",
    "В списке может быть любое количество чисел от 7 и до плюс бесконечности.\n",
    "\n",
    "Функция должна возвращать предсказание о том, сколько газа будет прокачано завтра. \n",
    "\n",
    "**Реализуйте наивный предсказатель, который в качестве предсказания просто возвращает среднее за последние 7 дней.**\n"
   ]
  },
  {
   "cell_type": "code",
   "execution_count": 1,
   "id": "1bb1d56d-055f-4755-b6f5-e5dc94786a13",
   "metadata": {
    "tags": []
   },
   "outputs": [],
   "source": [
    "def MApred(flow):\n",
    "    return sum(flow[-7:]) / 7"
   ]
  },
  {
   "cell_type": "code",
   "execution_count": 2,
   "id": "f0f3d8c7-e67d-4f4e-91aa-e0fbfc4ae4cf",
   "metadata": {
    "tags": []
   },
   "outputs": [],
   "source": [
    "assert MApred([10] * 10) == 10"
   ]
  },
  {
   "cell_type": "code",
   "execution_count": 3,
   "id": "d2fcd59b-49ed-47ea-8e0a-326e812a2623",
   "metadata": {
    "tags": []
   },
   "outputs": [],
   "source": [
    "assert MApred(list(range(100, 200, 7))) == 177"
   ]
  },
  {
   "cell_type": "code",
   "execution_count": 4,
   "id": "2eb92086-8372-4b82-9dd7-05e0e5b38a34",
   "metadata": {
    "tags": []
   },
   "outputs": [],
   "source": [
    "assert MApred([30.97, 33.3 , 35.63, \n",
    "               37.96, 40.29, 42.62, \n",
    "               44.95, 47.28, 49.61]) == 42.62"
   ]
  },
  {
   "cell_type": "markdown",
   "id": "89272712-d4b6-44af-a745-2bea157f4e25",
   "metadata": {},
   "source": [
    "### 2. (3 балла)\n",
    "Реализуйте функцию `MApredK`, которая в качестве аргумента также принимает горизонт прогноза (т.е. на сколько дней вперёд необходимо сделать прогноз). \n",
    "\n",
    "Также реализуем наивный предиктор.  \n",
    "Для предсказания на завтра (k+1 день) используем среднее за последние 7 дней.  \n",
    "Для предсказания на послезавтра используем среднее за последние 6 дней и предсказание завтра (для k+2 дня это просто среднее за посление 7 дней). \n",
    "\n",
    "Таким образом, для каждого последующего предсказания мы опираемся на всё большее число уже сделанных предсказаний.\n",
    "\n",
    "Функция должна возвращать **новый** список из исходных значений и предсказаний."
   ]
  },
  {
   "cell_type": "code",
   "execution_count": 5,
   "id": "794820d3-78b8-402c-ac80-539a37c7841c",
   "metadata": {
    "tags": []
   },
   "outputs": [],
   "source": [
    "def MApredK(flow, k):\n",
    "    predictions = flow.copy()\n",
    "    for _ in range(k):\n",
    "        predictions.append(sum(predictions[-7:]) / 7)\n",
    "    return predictions"
   ]
  },
  {
   "cell_type": "code",
   "execution_count": 6,
   "id": "36c9388a-9363-459c-a711-cc9b1485fc3b",
   "metadata": {
    "tags": []
   },
   "outputs": [],
   "source": [
    "assert MApredK([30.97, 33.3 , 35.63, \n",
    "               37.96, 40.29, 42.62, \n",
    "               44.95, 47.28, 49.61], 1)[-1] == 42.62"
   ]
  },
  {
   "cell_type": "code",
   "execution_count": 7,
   "id": "db01a80f-c7eb-4404-9a73-7ffab4460118",
   "metadata": {
    "tags": []
   },
   "outputs": [],
   "source": [
    "assert MApredK([30.97, 33.3 , 35.63, \n",
    "         37.96, 40.29, 42.62, \n",
    "         44.95, 47.28, 49.61], 3)[-1] ==  44.42693877551021"
   ]
  },
  {
   "cell_type": "markdown",
   "id": "894c68eb-879c-4374-b8b3-875de3fa9c45",
   "metadata": {},
   "source": [
    "### 3. (3 балла)\n",
    "Даны 3 файла (`flow1.txt`,`flow2.txt`,`flow3.txt`) с исторической информацией о прокачке газа через некоторые пункты. Название пункта записано на первой строке в файле. Число строк в файлах одинаково.\n",
    "\n",
    "Создайте результирующий файл `flow_total.csv` с четырьмя столбцами:\n",
    "* Tarvisio (число прокачки из первого файла, округлённое до десятых);\n",
    "* Mazara (число прокачки из второго файла, округлённое до десятых);\n",
    "* PassoGries (число прокачки из третьего файла, округлённое до десятых);\n",
    "* MaxFlowGate (название пункта, в котором была максимальная прокачка в этот день).\n",
    "\n",
    "Разделитель точка с запятой. Кодировка utf-8.\n",
    "\n",
    "Примерный результат (первые 10 строк):<br>\n",
    "<img src='Data/pics/task3.png' align='left'/>"
   ]
  },
  {
   "cell_type": "code",
   "execution_count": 8,
   "id": "e14872da-f89c-46de-a585-64bd6d0a85fc",
   "metadata": {
    "tags": []
   },
   "outputs": [],
   "source": [
    "with open('Data/flow1.txt', 'r', encoding='utf8') as file1:\n",
    "    with open('Data/flow2.txt', 'r', encoding='utf8') as file2:\n",
    "        with open('Data/flow3.txt', 'r', encoding='utf8') as file3:\n",
    "            with open('Data/flow_total.csv', 'w', encoding='utf8') as out:\n",
    "                \n",
    "                file1.readline()\n",
    "                file2.readline()\n",
    "                file3.readline()\n",
    "                \n",
    "                out.write('Tarvisio;Mazara;PassoGries;MaxFlowGate\\n')\n",
    "                \n",
    "                for line1, line2, line3 in zip(file1, file2, file3):\n",
    "                    num1, num2, num3 = float(line1), float(line2), float(line3)\n",
    "                    if num1 >= num2 and num1 >= num3:\n",
    "                        leader = 'Tarvisio'\n",
    "                    elif num2 >= num1 and num2 >= num3:\n",
    "                        leader = 'Mazara'\n",
    "                    elif num3 >= num1 and num3 >= num2:\n",
    "                        leader = 'PassoGries'\n",
    "                    out.write(\"{:.1f};{:.1f};{:.1f};{}\\n\".format(num1, num2, num3, leader))\n"
   ]
  },
  {
   "cell_type": "markdown",
   "id": "f3e13dda-c458-4dc9-8ba0-f0128d6898d2",
   "metadata": {},
   "source": [
    "### 4."
   ]
  },
  {
   "cell_type": "markdown",
   "id": "2006577e-d6cb-427e-ad27-348d6fb7eb60",
   "metadata": {},
   "source": [
    "Описание классовой структуры\n",
    "\n",
    "Есть Помидор со следующими характеристиками:\n",
    "\n",
    "    Индекс\n",
    "    Стадия зрелости(стадии: Отсутствует, Цветение, Зеленый, Красный)\n",
    "\n",
    "Помидор может:\n",
    "\n",
    "    Расти (переходить на следующую стадию созревания)\n",
    "    Предоставлять информацию о своей зрелости\n",
    "\n",
    "Есть Куст с помидорами, который:\n",
    "\n",
    "    Содержит список томатов, которые на нем растут\n",
    "\n",
    "И может:\n",
    "\n",
    "    Расти вместе с томатами\n",
    "    Предоставлять информацию о зрелости всех томатов\n",
    "    Предоставлять урожай"
   ]
  },
  {
   "cell_type": "markdown",
   "id": "218abffe-f206-4cff-8f84-f736840c2c56",
   "metadata": {},
   "source": [
    "#### 4.1 (3 балла)\n",
    "\n",
    "Класс Tomato\n",
    "\n",
    "Создайте класс Tomato  \n",
    "* Создайте <a href='https://metanit.com/python/tutorial/7.6.php'>статический атрибут</a> states, который будет содержать все стадии созревания помидора (список);  \n",
    "* Создайте метод \\_\\_init\\_\\_(), внутри которого происходит созадние двух атрибутов: index (номер индекса текущего состояния из списка states), state (принимает первое значение из массива состояний зрелости states);  \n",
    "* Создайте метод grow(), который будет переводить томат на следующую стадию созревания. Если томат созрел, то стадия не повышается;  \n",
    "* Создайте метод is_ripe(), который будет проверять, что томат созрел (достиг последней стадии созревания).  \n",
    "\n",
    "\n",
    "PS. Пример со стат.атрибутом:  \n",
    "\n",
    "```\n",
    "class Dog:\n",
    "    default_name = 'Бобик' # создание статического атрибута\n",
    "    \n",
    "    def __init__(self, name='NONAME'):\n",
    "        if name == 'NONAME':\n",
    "            self.name = Dog.default_name # использование статического атрибута\n",
    "        else:\n",
    "            self.name = name\n",
    "```"
   ]
  },
  {
   "cell_type": "code",
   "execution_count": 9,
   "id": "e5378619-c0b4-4345-9197-60321a5b0d4b",
   "metadata": {
    "tags": []
   },
   "outputs": [],
   "source": [
    "class Tomato:\n",
    "    \n",
    "    states = ['Отсутствует', 'Цветение', 'Зеленый', 'Красный']\n",
    "    \n",
    "    def __init__(self):\n",
    "        self.index = 0\n",
    "        self.state = Tomato.states[self.index]\n",
    "        \n",
    "    def is_ripe(self):\n",
    "        return self.state == Tomato.states[-1]\n",
    "    \n",
    "    def grow(self):\n",
    "        if not self.is_ripe():\n",
    "            self.index += 1\n",
    "            self.state = Tomato.states[self.index]"
   ]
  },
  {
   "cell_type": "code",
   "execution_count": 10,
   "id": "72a4a975-64eb-4651-9e1e-bc6392ded805",
   "metadata": {
    "tags": []
   },
   "outputs": [
    {
     "name": "stdout",
     "output_type": "stream",
     "text": [
      "0 Отсутствует False\n",
      "3 Красный True\n",
      "3 Красный True\n"
     ]
    }
   ],
   "source": [
    "t = Tomato()\n",
    "assert all([t.index == 0, t.state == 'Отсутствует', not t.is_ripe()])\n",
    "print(t.index, t.state, t.is_ripe())\n",
    "\n",
    "t.grow()\n",
    "t.grow()\n",
    "t.grow()\n",
    "\n",
    "assert all([t.index == 3, t.state == 'Красный', t.is_ripe()])\n",
    "print(t.index, t.state, t.is_ripe())\n",
    "\n",
    "t.grow()\n",
    "t.grow()\n",
    "t.grow()\n",
    "\n",
    "assert all([t.index == 3, t.state == 'Красный', t.is_ripe()])\n",
    "print(t.index, t.state, t.is_ripe())"
   ]
  },
  {
   "cell_type": "markdown",
   "id": "c79293f1-0e0a-46cf-98e8-9cb5d9692ec8",
   "metadata": {},
   "source": [
    "#### 4.2 (3 балла)\n",
    "\n",
    "Класс TomatoBush\n",
    "\n",
    "Создайте класс TomatoBush  \n",
    "* Определите метод \\_\\_init\\_\\_(), который будет принимать в качестве параметра количество томатов и на его основе будет создавать список объектов класса Tomato. Данный список будет храниться внутри атрибута tomatoes;\n",
    "* Создайте метод grow_all(), который будет переводить все объекты из списка томатов на следующий этап созревания;  \n",
    "* Создайте метод all_are_ripe(), который будет возвращать True, если все томаты из списка стали спелыми;  \n",
    "* Создайте метод give_away_all(), который будет чистить список томатов после сбора урожая.  "
   ]
  },
  {
   "cell_type": "code",
   "execution_count": 11,
   "id": "b84ad2f0-1afd-4daa-ba11-5b310566d37d",
   "metadata": {
    "tags": []
   },
   "outputs": [],
   "source": [
    "class TomatoBush:\n",
    "    \n",
    "    def __init__(self, k):\n",
    "        self.tomatoes = [Tomato() for _ in range(k)]\n",
    "        \n",
    "    def grow_all(self):\n",
    "        for t in self.tomatoes:\n",
    "            t.grow()\n",
    "            \n",
    "    def all_are_ripe(self):\n",
    "        return all([t.is_ripe() for t in self.tomatoes])\n",
    "    \n",
    "    def give_away_all(self):\n",
    "        self.tomatoes = []"
   ]
  },
  {
   "cell_type": "code",
   "execution_count": 12,
   "id": "52976f8f-da5d-481e-9542-1d68d2c67ccc",
   "metadata": {
    "tags": []
   },
   "outputs": [],
   "source": [
    "tb = TomatoBush(3)\n",
    "\n",
    "assert len(tb.tomatoes) == 3\n",
    "assert not tb.all_are_ripe()\n",
    "\n",
    "tb.grow_all()\n",
    "assert not tb.all_are_ripe()\n",
    "\n",
    "tb.grow_all()\n",
    "assert not tb.all_are_ripe()\n",
    "\n",
    "tb.grow_all()\n",
    "assert tb.all_are_ripe()\n",
    "tb.give_away_all()\n",
    "\n",
    "assert len(tb.tomatoes) == 0"
   ]
  },
  {
   "cell_type": "markdown",
   "id": "10e85516-862e-49df-817c-defca25bdd0a",
   "metadata": {},
   "source": [
    "# B. Работа с табличными данными"
   ]
  },
  {
   "cell_type": "markdown",
   "id": "b787d23e-bbaa-4c7e-9173-27a19889dff1",
   "metadata": {},
   "source": [
    "В этом блоке мы поработает с данными о студентах и их результатами на экзаменах."
   ]
  },
  {
   "cell_type": "code",
   "execution_count": 13,
   "id": "71c26e08-2b6c-4cb6-8e9d-b6f5717640b4",
   "metadata": {
    "tags": []
   },
   "outputs": [],
   "source": [
    "import pandas as pd\n",
    "import numpy as np\n",
    "\n",
    "import seaborn as sns\n",
    "import matplotlib.pyplot as plt"
   ]
  },
  {
   "cell_type": "markdown",
   "id": "b727aa5b-5282-434c-9bba-3c78b8aaeb3c",
   "metadata": {},
   "source": [
    "### 5.\n",
    "Информация о студентах содержится в файлах с названием `Students_info_i.csv`, где `i` принимает значения от 0 до 9. Результаты экзаменов лежат в файлах с маской  названия`Students_marks_i.csv`.  \n",
    "Вся информация находится в папке `Data`.\n",
    "\n",
    "В обоих файлах есть колонка `index` -- номер студента.\n",
    "\n",
    "> \\* *Файлы также находятся в папке `pandas_prep_task` Укажем относительный путь до этой папки, чтобы не дублировать файлы в репозитории.*. "
   ]
  },
  {
   "cell_type": "markdown",
   "id": "9682979c-f168-42bd-95a6-9c10bda7f4b1",
   "metadata": {},
   "source": [
    "#### 5.1 (1.5 балла)\n",
    "Соедините файлы с информацией о студентах в один датафрейм.  \n",
    "Соедините файлы с оценками студентов в один датафрейм (другой)."
   ]
  },
  {
   "cell_type": "code",
   "execution_count": 14,
   "id": "87d9064c-3bed-41bd-bf4e-82aff205c0c4",
   "metadata": {
    "tags": []
   },
   "outputs": [
    {
     "name": "stdout",
     "output_type": "stream",
     "text": [
      "(1000, 7)\n"
     ]
    },
    {
     "data": {
      "text/html": [
       "<div>\n",
       "<style scoped>\n",
       "    .dataframe tbody tr th:only-of-type {\n",
       "        vertical-align: middle;\n",
       "    }\n",
       "\n",
       "    .dataframe tbody tr th {\n",
       "        vertical-align: top;\n",
       "    }\n",
       "\n",
       "    .dataframe thead th {\n",
       "        text-align: right;\n",
       "    }\n",
       "</style>\n",
       "<table border=\"1\" class=\"dataframe\">\n",
       "  <thead>\n",
       "    <tr style=\"text-align: right;\">\n",
       "      <th></th>\n",
       "      <th>index</th>\n",
       "      <th>gender</th>\n",
       "      <th>race/ethnicity</th>\n",
       "      <th>parental level of education</th>\n",
       "      <th>lunch</th>\n",
       "      <th>test preparation course</th>\n",
       "      <th>group</th>\n",
       "    </tr>\n",
       "  </thead>\n",
       "  <tbody>\n",
       "    <tr>\n",
       "      <th>0</th>\n",
       "      <td>0</td>\n",
       "      <td>female</td>\n",
       "      <td>group B</td>\n",
       "      <td>bachelor's degree</td>\n",
       "      <td>standard</td>\n",
       "      <td>none</td>\n",
       "      <td>group1</td>\n",
       "    </tr>\n",
       "    <tr>\n",
       "      <th>1</th>\n",
       "      <td>1</td>\n",
       "      <td>female</td>\n",
       "      <td>group C</td>\n",
       "      <td>some college</td>\n",
       "      <td>standard</td>\n",
       "      <td>completed</td>\n",
       "      <td>group1</td>\n",
       "    </tr>\n",
       "    <tr>\n",
       "      <th>2</th>\n",
       "      <td>2</td>\n",
       "      <td>female</td>\n",
       "      <td>group B</td>\n",
       "      <td>master's degree</td>\n",
       "      <td>standard</td>\n",
       "      <td>none</td>\n",
       "      <td>group1</td>\n",
       "    </tr>\n",
       "    <tr>\n",
       "      <th>3</th>\n",
       "      <td>3</td>\n",
       "      <td>male</td>\n",
       "      <td>group A</td>\n",
       "      <td>associate's degree</td>\n",
       "      <td>free/reduced</td>\n",
       "      <td>none</td>\n",
       "      <td>group1</td>\n",
       "    </tr>\n",
       "    <tr>\n",
       "      <th>4</th>\n",
       "      <td>4</td>\n",
       "      <td>male</td>\n",
       "      <td>group C</td>\n",
       "      <td>some college</td>\n",
       "      <td>standard</td>\n",
       "      <td>none</td>\n",
       "      <td>group1</td>\n",
       "    </tr>\n",
       "  </tbody>\n",
       "</table>\n",
       "</div>"
      ],
      "text/plain": [
       "   index  gender race/ethnicity parental level of education         lunch  \\\n",
       "0      0  female        group B           bachelor's degree      standard   \n",
       "1      1  female        group C                some college      standard   \n",
       "2      2  female        group B             master's degree      standard   \n",
       "3      3    male        group A          associate's degree  free/reduced   \n",
       "4      4    male        group C                some college      standard   \n",
       "\n",
       "  test preparation course   group  \n",
       "0                    none  group1  \n",
       "1               completed  group1  \n",
       "2                    none  group1  \n",
       "3                    none  group1  \n",
       "4                    none  group1  "
      ]
     },
     "execution_count": 14,
     "metadata": {},
     "output_type": "execute_result"
    }
   ],
   "source": [
    "info = pd.concat([pd.read_csv(f'../../pandas_prep_task/Data/Students_info_{i}.csv', sep=',') for i in range(10)])\n",
    "print(info.shape)\n",
    "info.head()"
   ]
  },
  {
   "cell_type": "code",
   "execution_count": 15,
   "id": "721385e0-05f2-494a-94ea-694486230714",
   "metadata": {
    "tags": []
   },
   "outputs": [
    {
     "name": "stdout",
     "output_type": "stream",
     "text": [
      "(1000, 4)\n"
     ]
    },
    {
     "data": {
      "text/html": [
       "<div>\n",
       "<style scoped>\n",
       "    .dataframe tbody tr th:only-of-type {\n",
       "        vertical-align: middle;\n",
       "    }\n",
       "\n",
       "    .dataframe tbody tr th {\n",
       "        vertical-align: top;\n",
       "    }\n",
       "\n",
       "    .dataframe thead th {\n",
       "        text-align: right;\n",
       "    }\n",
       "</style>\n",
       "<table border=\"1\" class=\"dataframe\">\n",
       "  <thead>\n",
       "    <tr style=\"text-align: right;\">\n",
       "      <th></th>\n",
       "      <th>index</th>\n",
       "      <th>math score</th>\n",
       "      <th>reading score</th>\n",
       "      <th>writing score</th>\n",
       "    </tr>\n",
       "  </thead>\n",
       "  <tbody>\n",
       "    <tr>\n",
       "      <th>0</th>\n",
       "      <td>0</td>\n",
       "      <td>72</td>\n",
       "      <td>72</td>\n",
       "      <td>74</td>\n",
       "    </tr>\n",
       "    <tr>\n",
       "      <th>1</th>\n",
       "      <td>1</td>\n",
       "      <td>69</td>\n",
       "      <td>90</td>\n",
       "      <td>88</td>\n",
       "    </tr>\n",
       "    <tr>\n",
       "      <th>2</th>\n",
       "      <td>2</td>\n",
       "      <td>90</td>\n",
       "      <td>95</td>\n",
       "      <td>93</td>\n",
       "    </tr>\n",
       "    <tr>\n",
       "      <th>3</th>\n",
       "      <td>3</td>\n",
       "      <td>47</td>\n",
       "      <td>57</td>\n",
       "      <td>44</td>\n",
       "    </tr>\n",
       "    <tr>\n",
       "      <th>4</th>\n",
       "      <td>4</td>\n",
       "      <td>76</td>\n",
       "      <td>78</td>\n",
       "      <td>75</td>\n",
       "    </tr>\n",
       "  </tbody>\n",
       "</table>\n",
       "</div>"
      ],
      "text/plain": [
       "   index  math score  reading score  writing score\n",
       "0      0          72             72             74\n",
       "1      1          69             90             88\n",
       "2      2          90             95             93\n",
       "3      3          47             57             44\n",
       "4      4          76             78             75"
      ]
     },
     "execution_count": 15,
     "metadata": {},
     "output_type": "execute_result"
    }
   ],
   "source": [
    "marks = pd.concat([pd.read_csv(f'../../pandas_prep_task/Data/Students_marks_{i}.csv', sep=',') for i in range(10)])\n",
    "print(marks.shape)\n",
    "marks.head()"
   ]
  },
  {
   "cell_type": "markdown",
   "id": "ad892f32-8aeb-4d68-b565-fe4985bd45ab",
   "metadata": {},
   "source": [
    "#### 5.2 (0.5 балла)\n",
    "Соедините два датафрейма в один соответсвующим образом (т.е. после информации о студенте должны идти его/её оценки).  \n",
    "\n",
    "*Добавьте проверку, что для каждого студента оценки были найдены единожды (+0.25 балла)*"
   ]
  },
  {
   "cell_type": "code",
   "execution_count": 16,
   "id": "a74d0355-f0e8-495e-98fb-353abe14f700",
   "metadata": {
    "tags": []
   },
   "outputs": [
    {
     "name": "stdout",
     "output_type": "stream",
     "text": [
      "(1000, 10)\n"
     ]
    },
    {
     "data": {
      "text/html": [
       "<div>\n",
       "<style scoped>\n",
       "    .dataframe tbody tr th:only-of-type {\n",
       "        vertical-align: middle;\n",
       "    }\n",
       "\n",
       "    .dataframe tbody tr th {\n",
       "        vertical-align: top;\n",
       "    }\n",
       "\n",
       "    .dataframe thead th {\n",
       "        text-align: right;\n",
       "    }\n",
       "</style>\n",
       "<table border=\"1\" class=\"dataframe\">\n",
       "  <thead>\n",
       "    <tr style=\"text-align: right;\">\n",
       "      <th></th>\n",
       "      <th>index</th>\n",
       "      <th>gender</th>\n",
       "      <th>race/ethnicity</th>\n",
       "      <th>parental level of education</th>\n",
       "      <th>lunch</th>\n",
       "      <th>test preparation course</th>\n",
       "      <th>group</th>\n",
       "      <th>math score</th>\n",
       "      <th>reading score</th>\n",
       "      <th>writing score</th>\n",
       "    </tr>\n",
       "  </thead>\n",
       "  <tbody>\n",
       "    <tr>\n",
       "      <th>0</th>\n",
       "      <td>0</td>\n",
       "      <td>female</td>\n",
       "      <td>group B</td>\n",
       "      <td>bachelor's degree</td>\n",
       "      <td>standard</td>\n",
       "      <td>none</td>\n",
       "      <td>group1</td>\n",
       "      <td>72</td>\n",
       "      <td>72</td>\n",
       "      <td>74</td>\n",
       "    </tr>\n",
       "    <tr>\n",
       "      <th>1</th>\n",
       "      <td>1</td>\n",
       "      <td>female</td>\n",
       "      <td>group C</td>\n",
       "      <td>some college</td>\n",
       "      <td>standard</td>\n",
       "      <td>completed</td>\n",
       "      <td>group1</td>\n",
       "      <td>69</td>\n",
       "      <td>90</td>\n",
       "      <td>88</td>\n",
       "    </tr>\n",
       "    <tr>\n",
       "      <th>2</th>\n",
       "      <td>2</td>\n",
       "      <td>female</td>\n",
       "      <td>group B</td>\n",
       "      <td>master's degree</td>\n",
       "      <td>standard</td>\n",
       "      <td>none</td>\n",
       "      <td>group1</td>\n",
       "      <td>90</td>\n",
       "      <td>95</td>\n",
       "      <td>93</td>\n",
       "    </tr>\n",
       "  </tbody>\n",
       "</table>\n",
       "</div>"
      ],
      "text/plain": [
       "   index  gender race/ethnicity parental level of education     lunch  \\\n",
       "0      0  female        group B           bachelor's degree  standard   \n",
       "1      1  female        group C                some college  standard   \n",
       "2      2  female        group B             master's degree  standard   \n",
       "\n",
       "  test preparation course   group  math score  reading score  writing score  \n",
       "0                    none  group1          72             72             74  \n",
       "1               completed  group1          69             90             88  \n",
       "2                    none  group1          90             95             93  "
      ]
     },
     "execution_count": 16,
     "metadata": {},
     "output_type": "execute_result"
    }
   ],
   "source": [
    "df = pd.merge(info, marks, on='index', how='outer', validate='1:1')\n",
    "print(df.shape)\n",
    "df.head(3)"
   ]
  },
  {
   "cell_type": "code",
   "execution_count": 17,
   "id": "f59b81f5-5d6d-4479-b8ad-518bc988023f",
   "metadata": {
    "tags": []
   },
   "outputs": [],
   "source": [
    "# для дальнейшей работы.\n",
    "# df.to_csv('Data/final_table_data.csv', sep=',', index_label=False, index=False)"
   ]
  },
  {
   "cell_type": "markdown",
   "id": "f2142a52-57a9-4a42-b143-f20ef26fb3ea",
   "metadata": {},
   "source": [
    "### 6. \n",
    "Проверьте, есть ли в таблице пропущенные значения.  \n",
    "Если они есть -- удалите строки с пропусками.\n",
    "\n",
    "**NB:** если не получилось справиться, то используйте готовую соединённую таблицу. Она находится в файле `final_table_data.csv` в папке `Data`. Разделитель запятая."
   ]
  },
  {
   "cell_type": "code",
   "execution_count": 18,
   "id": "6a68a5c7-e518-43d9-a82a-26879bfddc5d",
   "metadata": {
    "tags": []
   },
   "outputs": [
    {
     "data": {
      "text/plain": [
       "0"
      ]
     },
     "execution_count": 18,
     "metadata": {},
     "output_type": "execute_result"
    }
   ],
   "source": [
    "df.isna().sum().sum()"
   ]
  },
  {
   "cell_type": "code",
   "execution_count": 19,
   "id": "c979729e-1d78-4a73-b4fc-2793f0cd83ff",
   "metadata": {
    "tags": []
   },
   "outputs": [],
   "source": [
    "# пропусков нет! удалять нечего\n",
    "# df = df.dropan() # иначе бы воспользвались "
   ]
  },
  {
   "cell_type": "markdown",
   "id": "597b94bc-cb6a-45f7-ac8f-2053ee753cfb",
   "metadata": {},
   "source": [
    "### 7.\n",
    "Выведите средние оценки по всем предметам за одну команду."
   ]
  },
  {
   "cell_type": "code",
   "execution_count": 20,
   "id": "3b39219a-88d2-40ae-b042-b70133cfebf3",
   "metadata": {},
   "outputs": [
    {
     "data": {
      "text/plain": [
       "math score       66.089\n",
       "reading score    69.169\n",
       "writing score    68.054\n",
       "dtype: float64"
      ]
     },
     "execution_count": 20,
     "metadata": {},
     "output_type": "execute_result"
    }
   ],
   "source": [
    "df[['math score', 'reading score', 'writing score']].mean()"
   ]
  },
  {
   "cell_type": "markdown",
   "id": "0187b954-9d60-47f8-bd5f-7bbef4b3b345",
   "metadata": {},
   "source": [
    "### 8.\n",
    "У нас есть информация о том, проходил ли студент подготовительные курсы (столбец `test preparation course`)."
   ]
  },
  {
   "cell_type": "markdown",
   "id": "d074c5e4-d797-43f3-9dba-853f4839c156",
   "metadata": {
    "tags": []
   },
   "source": [
    "#### 8.1\n",
    "Посчитайте, сколько студентов завершили подготовительные курсы.  \n",
    "Дайте ответ в долях единицы. Ответ округлите до сотых."
   ]
  },
  {
   "cell_type": "code",
   "execution_count": 21,
   "id": "1cf153bf-b953-4711-8895-e0596b4abd74",
   "metadata": {},
   "outputs": [
    {
     "data": {
      "text/plain": [
       "test preparation course\n",
       "none         0.64\n",
       "completed    0.36\n",
       "Name: proportion, dtype: float64"
      ]
     },
     "execution_count": 21,
     "metadata": {},
     "output_type": "execute_result"
    }
   ],
   "source": [
    "df['test preparation course'].value_counts(normalize=True).round(2)"
   ]
  },
  {
   "cell_type": "markdown",
   "id": "ce56404f-e227-4602-9290-81760cf93b65",
   "metadata": {
    "tags": []
   },
   "source": [
    "### 8.2\n",
    "На частотной гистограмме (барчарт) изобразите, сколько студентов училось и сколько не училось на подготовительных курсах.\n",
    "\n",
    "Примерный результат:<br>\n",
    "<img src='Data/pics/task82.png' align='left'/>"
   ]
  },
  {
   "cell_type": "code",
   "execution_count": 22,
   "id": "96cef250-ae6d-4c3a-bd25-760521caeae5",
   "metadata": {
    "tags": []
   },
   "outputs": [
    {
     "data": {
      "image/png": "[encoded data removed]",
      "text/plain": [
       "<Figure size 640x480 with 1 Axes>"
      ]
     },
     "metadata": {},
     "output_type": "display_data"
    }
   ],
   "source": [
    "sns.countplot(data=df, x='test preparation course')\n",
    "plt.title('Участие в подготовительных курсах')\n",
    "plt.show()"
   ]
  },
  {
   "cell_type": "markdown",
   "id": "9587fc0c-1592-42e6-8dd0-ff93a823b8e0",
   "metadata": {},
   "source": [
    "### 8.3 (0.5 балла)\n",
    "Сделайте то же, что и в предыдущей задаче, но добавьте разделение по полу\n",
    "\n",
    "Примерный результат:<br>\n",
    "<img src='Data/pics/task83.png' align='left'/>"
   ]
  },
  {
   "cell_type": "code",
   "execution_count": 23,
   "id": "e5d67b43-60ee-4f13-8f83-981e7638d356",
   "metadata": {
    "tags": []
   },
   "outputs": [
    {
     "data": {
      "image/png": "[encoded data removed]",
      "text/plain": [
       "<Figure size 640x480 with 1 Axes>"
      ]
     },
     "metadata": {},
     "output_type": "display_data"
    }
   ],
   "source": [
    "sns.countplot(data=df, x='test preparation course', hue='gender')\n",
    "plt.title('Участие в подготовительных курсах')\n",
    "plt.show()"
   ]
  },
  {
   "cell_type": "markdown",
   "id": "63933790-0a03-4af4-a994-48402da9aa9d",
   "metadata": {},
   "source": [
    "### 9. (2 балла)\n",
    "Слава богу, что здесь расы и этнические принадлежности анонимизированы. А то определили бы сейчас, что одни самые умные, а дргуие -- нет.   \n",
    "Ещё бы за разжигание меня оформили :D\n",
    "\n",
    "Для каждой группы по `race/ethnicity` определите среднее значение, минимум, максимум иинтерквартильный размах оценки по математике (по 0.5 балла за каждую статистику).  \n",
    "\n",
    "Примерный результат:<br>\n",
    "<img src='Data/pics/task91.png' align='left'/>"
   ]
  },
  {
   "cell_type": "code",
   "execution_count": 24,
   "id": "58d1c2f9-1743-4527-9583-b28357d51218",
   "metadata": {},
   "outputs": [
    {
     "data": {
      "text/html": [
       "<div>\n",
       "<style scoped>\n",
       "    .dataframe tbody tr th:only-of-type {\n",
       "        vertical-align: middle;\n",
       "    }\n",
       "\n",
       "    .dataframe tbody tr th {\n",
       "        vertical-align: top;\n",
       "    }\n",
       "\n",
       "    .dataframe thead th {\n",
       "        text-align: right;\n",
       "    }\n",
       "</style>\n",
       "<table border=\"1\" class=\"dataframe\">\n",
       "  <thead>\n",
       "    <tr style=\"text-align: right;\">\n",
       "      <th></th>\n",
       "      <th>mean</th>\n",
       "      <th>min</th>\n",
       "      <th>max</th>\n",
       "      <th>IQR</th>\n",
       "    </tr>\n",
       "    <tr>\n",
       "      <th>race/ethnicity</th>\n",
       "      <th></th>\n",
       "      <th></th>\n",
       "      <th></th>\n",
       "      <th></th>\n",
       "    </tr>\n",
       "  </thead>\n",
       "  <tbody>\n",
       "    <tr>\n",
       "      <th>group A</th>\n",
       "      <td>61.629213</td>\n",
       "      <td>28</td>\n",
       "      <td>100</td>\n",
       "      <td>20.00</td>\n",
       "    </tr>\n",
       "    <tr>\n",
       "      <th>group B</th>\n",
       "      <td>63.452632</td>\n",
       "      <td>8</td>\n",
       "      <td>97</td>\n",
       "      <td>20.00</td>\n",
       "    </tr>\n",
       "    <tr>\n",
       "      <th>group C</th>\n",
       "      <td>64.463950</td>\n",
       "      <td>0</td>\n",
       "      <td>98</td>\n",
       "      <td>19.00</td>\n",
       "    </tr>\n",
       "    <tr>\n",
       "      <th>group D</th>\n",
       "      <td>67.362595</td>\n",
       "      <td>26</td>\n",
       "      <td>100</td>\n",
       "      <td>18.00</td>\n",
       "    </tr>\n",
       "    <tr>\n",
       "      <th>group E</th>\n",
       "      <td>73.821429</td>\n",
       "      <td>30</td>\n",
       "      <td>100</td>\n",
       "      <td>20.25</td>\n",
       "    </tr>\n",
       "  </tbody>\n",
       "</table>\n",
       "</div>"
      ],
      "text/plain": [
       "                     mean  min  max    IQR\n",
       "race/ethnicity                            \n",
       "group A         61.629213   28  100  20.00\n",
       "group B         63.452632    8   97  20.00\n",
       "group C         64.463950    0   98  19.00\n",
       "group D         67.362595   26  100  18.00\n",
       "group E         73.821429   30  100  20.25"
      ]
     },
     "execution_count": 24,
     "metadata": {},
     "output_type": "execute_result"
    }
   ],
   "source": [
    "df.groupby('race/ethnicity')['math score'].agg(mean='mean',\n",
    "                                               min='min', \n",
    "                                               max='max', \n",
    "                                               IQR= lambda x: x.quantile(0.75) - x.quantile(0.25))"
   ]
  },
  {
   "cell_type": "markdown",
   "id": "93f843a9-dab7-4e2f-8416-ade7a8709837",
   "metadata": {},
   "source": [
    "### 10.\n",
    "Для прохождения экзамена необходимо было набрать минимум 50 баллов.  \n",
    "\n",
    "Для каждого из экзамена посчитайте процент сдавших (+0.5 балла, если сделаете за одну команду)."
   ]
  },
  {
   "cell_type": "code",
   "execution_count": 25,
   "id": "be2dd54a-2949-4d82-b847-1696b134d5c0",
   "metadata": {
    "tags": []
   },
   "outputs": [
    {
     "data": {
      "text/plain": [
       "math score       0.865\n",
       "reading score    0.910\n",
       "writing score    0.886\n",
       "dtype: float64"
      ]
     },
     "execution_count": 25,
     "metadata": {},
     "output_type": "execute_result"
    }
   ],
   "source": [
    "(df.iloc[:, -3:] >= 50).mean()"
   ]
  },
  {
   "cell_type": "markdown",
   "id": "02aa1575-1150-44c7-84d9-66c46009af8a",
   "metadata": {},
   "source": [
    "### 11.\n",
    "Переведите данные в длинный (long) формат. Должна быть сохранена следующая информация:  \n",
    "* parental level of education\n",
    "* предмет;\n",
    "* балл.\n",
    "\n",
    "Примерный результат:<br>\n",
    "<img src='Data/pics/task11.png' align='left'/>\n"
   ]
  },
  {
   "cell_type": "code",
   "execution_count": 26,
   "id": "035ca308-a4ee-4b86-a72d-4cbf8c845544",
   "metadata": {
    "tags": []
   },
   "outputs": [
    {
     "data": {
      "text/html": [
       "<div>\n",
       "<style scoped>\n",
       "    .dataframe tbody tr th:only-of-type {\n",
       "        vertical-align: middle;\n",
       "    }\n",
       "\n",
       "    .dataframe tbody tr th {\n",
       "        vertical-align: top;\n",
       "    }\n",
       "\n",
       "    .dataframe thead th {\n",
       "        text-align: right;\n",
       "    }\n",
       "</style>\n",
       "<table border=\"1\" class=\"dataframe\">\n",
       "  <thead>\n",
       "    <tr style=\"text-align: right;\">\n",
       "      <th></th>\n",
       "      <th>parental level of education</th>\n",
       "      <th>variable</th>\n",
       "      <th>value</th>\n",
       "    </tr>\n",
       "  </thead>\n",
       "  <tbody>\n",
       "    <tr>\n",
       "      <th>0</th>\n",
       "      <td>bachelor's degree</td>\n",
       "      <td>math score</td>\n",
       "      <td>72</td>\n",
       "    </tr>\n",
       "    <tr>\n",
       "      <th>1</th>\n",
       "      <td>some college</td>\n",
       "      <td>math score</td>\n",
       "      <td>69</td>\n",
       "    </tr>\n",
       "    <tr>\n",
       "      <th>2</th>\n",
       "      <td>master's degree</td>\n",
       "      <td>math score</td>\n",
       "      <td>90</td>\n",
       "    </tr>\n",
       "    <tr>\n",
       "      <th>3</th>\n",
       "      <td>associate's degree</td>\n",
       "      <td>math score</td>\n",
       "      <td>47</td>\n",
       "    </tr>\n",
       "    <tr>\n",
       "      <th>4</th>\n",
       "      <td>some college</td>\n",
       "      <td>math score</td>\n",
       "      <td>76</td>\n",
       "    </tr>\n",
       "    <tr>\n",
       "      <th>...</th>\n",
       "      <td>...</td>\n",
       "      <td>...</td>\n",
       "      <td>...</td>\n",
       "    </tr>\n",
       "    <tr>\n",
       "      <th>2995</th>\n",
       "      <td>master's degree</td>\n",
       "      <td>writing score</td>\n",
       "      <td>95</td>\n",
       "    </tr>\n",
       "    <tr>\n",
       "      <th>2996</th>\n",
       "      <td>high school</td>\n",
       "      <td>writing score</td>\n",
       "      <td>55</td>\n",
       "    </tr>\n",
       "    <tr>\n",
       "      <th>2997</th>\n",
       "      <td>high school</td>\n",
       "      <td>writing score</td>\n",
       "      <td>65</td>\n",
       "    </tr>\n",
       "    <tr>\n",
       "      <th>2998</th>\n",
       "      <td>some college</td>\n",
       "      <td>writing score</td>\n",
       "      <td>77</td>\n",
       "    </tr>\n",
       "    <tr>\n",
       "      <th>2999</th>\n",
       "      <td>some college</td>\n",
       "      <td>writing score</td>\n",
       "      <td>86</td>\n",
       "    </tr>\n",
       "  </tbody>\n",
       "</table>\n",
       "<p>3000 rows × 3 columns</p>\n",
       "</div>"
      ],
      "text/plain": [
       "     parental level of education       variable  value\n",
       "0              bachelor's degree     math score     72\n",
       "1                   some college     math score     69\n",
       "2                master's degree     math score     90\n",
       "3             associate's degree     math score     47\n",
       "4                   some college     math score     76\n",
       "...                          ...            ...    ...\n",
       "2995             master's degree  writing score     95\n",
       "2996                 high school  writing score     55\n",
       "2997                 high school  writing score     65\n",
       "2998                some college  writing score     77\n",
       "2999                some college  writing score     86\n",
       "\n",
       "[3000 rows x 3 columns]"
      ]
     },
     "execution_count": 26,
     "metadata": {},
     "output_type": "execute_result"
    }
   ],
   "source": [
    "dflong = df.melt(id_vars='parental level of education',\n",
    "                 value_vars = ['math score', 'reading score', 'writing score'])\n",
    "dflong"
   ]
  },
  {
   "cell_type": "markdown",
   "id": "0e93824a-7a6d-417c-ada7-4d4baa8048f0",
   "metadata": {},
   "source": [
    "### 12.\n",
    "Визуализируйте плотность распределения оценок по каждому экзамену на одной картинке.  \n",
    "*Мы хотим три независимых распределения, так что, возможно, нужно указать, что нормировать надо отдельно.\n",
    "\n",
    "Примерный результат:<br>\n",
    "<img src='Data/pics/task12.png' align='left'/>"
   ]
  },
  {
   "cell_type": "code",
   "execution_count": 27,
   "id": "6695a2bc-cfdf-4c40-8da5-1d898517e2cd",
   "metadata": {
    "tags": []
   },
   "outputs": [
    {
     "data": {
      "image/png": "[encoded data removed]",
      "text/plain": [
       "<Figure size 644.625x500 with 1 Axes>"
      ]
     },
     "metadata": {},
     "output_type": "display_data"
    }
   ],
   "source": [
    "sns.displot(data=dflong, x='value', hue='variable', kind='kde', common_norm=False)\n",
    "plt.title('Плотность распределения')\n",
    "plt.show()"
   ]
  },
  {
   "cell_type": "markdown",
   "id": "07f4cd07-8337-489c-9ff2-3fbe0070c408",
   "metadata": {},
   "source": [
    "### 13. \n",
    "Необходимо определить оценки за экзамен."
   ]
  },
  {
   "cell_type": "markdown",
   "id": "d9437484-fd54-4812-a8f4-89d396c14391",
   "metadata": {},
   "source": [
    "#### 13.1\n",
    "Напишите функцию `get_grade`, которая принимает число и возвращает оценку. \n",
    "\n",
    "Система перевода баллов в оценку:  \n",
    "> [90;100] = A  \n",
    "      [80;90) = B  \n",
    "      [70;80) = C  \n",
    "      [60;70) = D  \n",
    "      [50;60) = E  \n",
    "      [0;50) = F  \n",
    "      \n",
    "*\\*(квадратная скобка -- включительно, круглая -- не включая)*"
   ]
  },
  {
   "cell_type": "code",
   "execution_count": 28,
   "id": "7450fc74-9f64-464a-bf82-4caea06db128",
   "metadata": {
    "tags": []
   },
   "outputs": [],
   "source": [
    "def get_grade(score):\n",
    "    if score >= 90:\n",
    "        return 'A'\n",
    "    elif score >= 80:\n",
    "        return 'B'\n",
    "    elif score >= 70:\n",
    "        return 'C'\n",
    "    elif score >= 60:\n",
    "        return 'D'\n",
    "    elif score >= 50:\n",
    "        return 'E'\n",
    "    else:\n",
    "        return 'F'"
   ]
  },
  {
   "cell_type": "markdown",
   "id": "5310d274-aaa4-4de2-a1a2-64db34462677",
   "metadata": {},
   "source": [
    "#### 13.2\n",
    "С использование функции `get_grade` создайте новый столбец `reading mark` с оценками за экзамен по чтению."
   ]
  },
  {
   "cell_type": "code",
   "execution_count": 29,
   "id": "2ce0879b-b0c6-4365-a398-33a9754cecb8",
   "metadata": {
    "tags": []
   },
   "outputs": [],
   "source": [
    "df['reading mark'] = df['reading score'].apply(get_grade)"
   ]
  },
  {
   "cell_type": "markdown",
   "id": "67950fd7-8ec0-4595-97f1-f65e9ac59a87",
   "metadata": {},
   "source": [
    "#### 13.3\n",
    "Визуализируйте частоту оценок за экзамен по чтению. Упорядочите оценки.\n",
    "\n",
    "Примерный результат:<br>\n",
    "<img src='Data/pics/task133.png' align='left'/>"
   ]
  },
  {
   "cell_type": "code",
   "execution_count": 30,
   "id": "3488ba72-6fd6-4e5c-b463-7fb40a82f241",
   "metadata": {
    "tags": []
   },
   "outputs": [
    {
     "data": {
      "image/png": "[encoded data removed]",
      "text/plain": [
       "<Figure size 640x480 with 1 Axes>"
      ]
     },
     "metadata": {},
     "output_type": "display_data"
    }
   ],
   "source": [
    "sns.countplot(data=df.sort_values(by='reading mark'), x='reading mark')\n",
    "plt.title('Частота встречаемости оценок')\n",
    "plt.show()"
   ]
  },
  {
   "cell_type": "code",
   "execution_count": 31,
   "id": "c9d3adc5-7127-4943-a5a6-483f4c35148e",
   "metadata": {
    "tags": []
   },
   "outputs": [
    {
     "data": {
      "text/html": [
       "<div>\n",
       "<style scoped>\n",
       "    .dataframe tbody tr th:only-of-type {\n",
       "        vertical-align: middle;\n",
       "    }\n",
       "\n",
       "    .dataframe tbody tr th {\n",
       "        vertical-align: top;\n",
       "    }\n",
       "\n",
       "    .dataframe thead th {\n",
       "        text-align: right;\n",
       "    }\n",
       "</style>\n",
       "<table border=\"1\" class=\"dataframe\">\n",
       "  <thead>\n",
       "    <tr style=\"text-align: right;\">\n",
       "      <th></th>\n",
       "      <th>index</th>\n",
       "      <th>gender</th>\n",
       "      <th>race/ethnicity</th>\n",
       "      <th>parental level of education</th>\n",
       "      <th>lunch</th>\n",
       "      <th>test preparation course</th>\n",
       "      <th>group</th>\n",
       "      <th>math score</th>\n",
       "      <th>reading score</th>\n",
       "      <th>writing score</th>\n",
       "      <th>reading mark</th>\n",
       "    </tr>\n",
       "  </thead>\n",
       "  <tbody>\n",
       "    <tr>\n",
       "      <th>0</th>\n",
       "      <td>0</td>\n",
       "      <td>female</td>\n",
       "      <td>group B</td>\n",
       "      <td>bachelor's degree</td>\n",
       "      <td>standard</td>\n",
       "      <td>none</td>\n",
       "      <td>group1</td>\n",
       "      <td>72</td>\n",
       "      <td>72</td>\n",
       "      <td>74</td>\n",
       "      <td>C</td>\n",
       "    </tr>\n",
       "    <tr>\n",
       "      <th>1</th>\n",
       "      <td>1</td>\n",
       "      <td>female</td>\n",
       "      <td>group C</td>\n",
       "      <td>some college</td>\n",
       "      <td>standard</td>\n",
       "      <td>completed</td>\n",
       "      <td>group1</td>\n",
       "      <td>69</td>\n",
       "      <td>90</td>\n",
       "      <td>88</td>\n",
       "      <td>A</td>\n",
       "    </tr>\n",
       "    <tr>\n",
       "      <th>2</th>\n",
       "      <td>2</td>\n",
       "      <td>female</td>\n",
       "      <td>group B</td>\n",
       "      <td>master's degree</td>\n",
       "      <td>standard</td>\n",
       "      <td>none</td>\n",
       "      <td>group1</td>\n",
       "      <td>90</td>\n",
       "      <td>95</td>\n",
       "      <td>93</td>\n",
       "      <td>A</td>\n",
       "    </tr>\n",
       "    <tr>\n",
       "      <th>3</th>\n",
       "      <td>3</td>\n",
       "      <td>male</td>\n",
       "      <td>group A</td>\n",
       "      <td>associate's degree</td>\n",
       "      <td>free/reduced</td>\n",
       "      <td>none</td>\n",
       "      <td>group1</td>\n",
       "      <td>47</td>\n",
       "      <td>57</td>\n",
       "      <td>44</td>\n",
       "      <td>E</td>\n",
       "    </tr>\n",
       "    <tr>\n",
       "      <th>4</th>\n",
       "      <td>4</td>\n",
       "      <td>male</td>\n",
       "      <td>group C</td>\n",
       "      <td>some college</td>\n",
       "      <td>standard</td>\n",
       "      <td>none</td>\n",
       "      <td>group1</td>\n",
       "      <td>76</td>\n",
       "      <td>78</td>\n",
       "      <td>75</td>\n",
       "      <td>C</td>\n",
       "    </tr>\n",
       "  </tbody>\n",
       "</table>\n",
       "</div>"
      ],
      "text/plain": [
       "   index  gender race/ethnicity parental level of education         lunch  \\\n",
       "0      0  female        group B           bachelor's degree      standard   \n",
       "1      1  female        group C                some college      standard   \n",
       "2      2  female        group B             master's degree      standard   \n",
       "3      3    male        group A          associate's degree  free/reduced   \n",
       "4      4    male        group C                some college      standard   \n",
       "\n",
       "  test preparation course   group  math score  reading score  writing score  \\\n",
       "0                    none  group1          72             72             74   \n",
       "1               completed  group1          69             90             88   \n",
       "2                    none  group1          90             95             93   \n",
       "3                    none  group1          47             57             44   \n",
       "4                    none  group1          76             78             75   \n",
       "\n",
       "  reading mark  \n",
       "0            C  \n",
       "1            A  \n",
       "2            A  \n",
       "3            E  \n",
       "4            C  "
      ]
     },
     "execution_count": 31,
     "metadata": {},
     "output_type": "execute_result"
    }
   ],
   "source": [
    "df.head()"
   ]
  },
  {
   "cell_type": "markdown",
   "id": "9621f689-99ba-4356-bd3b-6c393a08d695",
   "metadata": {},
   "source": [
    "## C. Классическое машинное обучение\n",
    "В этой части мы продолжим работать с предыдущим датасетом.  \n",
    "Можете прочитать его заново из файла `final_table_data.csv`."
   ]
  },
  {
   "cell_type": "code",
   "execution_count": 32,
   "id": "d62c603f-e7cb-4eac-823a-0d73345d3b02",
   "metadata": {
    "tags": []
   },
   "outputs": [],
   "source": [
    "dfML = pd.read_csv('Data/final_table_data.csv', sep=',', encoding='utf8')"
   ]
  },
  {
   "cell_type": "markdown",
   "id": "7f607fb7-1d1a-4294-bff2-3566bc3db7cb",
   "metadata": {},
   "source": [
    "### 14.\n",
    "Попробуем тоько по категориальным данным определить результат экзамен по математике.\n",
    "\n"
   ]
  },
  {
   "cell_type": "markdown",
   "id": "a0452625-5698-4bf4-ae72-41607d08308f",
   "metadata": {},
   "source": [
    "#### 14.1 (5 баллов)\n",
    "* Оставьте только категориальные столбцы (собрал их в список для удобства); \n",
    "* Закодируйте категории с помощью one-hot encoding (не забудьте про мультиколлинеарность. не допустите её здесь);\n",
    "* Разделите данные на трейн и тест. В качестве целевой переменной используйте score экзамена по математике.  \n",
    "25% данных в трейн. seed для воспроизводимсоит 16072023. \n",
    "* Обучите модель линейной регрессии без регуляризации с параметрами по-умолчанию для предсказания скора по математике;\n",
    "* Посчитайте средний модуль ошибки на тестовых данных;\n",
    "* Посчитайте коэффициент детерминации.\n",
    "\n",
    "**На сколько процентов метрика меньше, чем стандартное отклонение скора в тренинговой выборке?**"
   ]
  },
  {
   "cell_type": "code",
   "execution_count": 33,
   "id": "100a42d7-8923-4335-8495-e4e10c96fa62",
   "metadata": {
    "tags": []
   },
   "outputs": [],
   "source": [
    "from sklearn.model_selection import train_test_split\n",
    "from sklearn.metrics import mean_absolute_error, r2_score\n",
    "from sklearn.linear_model import LinearRegression"
   ]
  },
  {
   "cell_type": "code",
   "execution_count": 34,
   "id": "65fe8491-1fa6-476c-aa1a-d8c4fffd27db",
   "metadata": {
    "tags": []
   },
   "outputs": [],
   "source": [
    "cat_cols = ['gender', 'race/ethnicity', 'parental level of education','lunch', 'test preparation course', 'group']"
   ]
  },
  {
   "cell_type": "code",
   "execution_count": null,
   "id": "d9a4a05e-0ec5-459c-9af6-6429d15d2c6c",
   "metadata": {},
   "outputs": [],
   "source": []
  },
  {
   "cell_type": "code",
   "execution_count": 35,
   "id": "0af5ecc0-93c1-4ff9-8e7a-a71c2cc335dd",
   "metadata": {
    "tags": []
   },
   "outputs": [],
   "source": [
    "X = dfML[cat_cols]\n",
    "y = dfML['math score']"
   ]
  },
  {
   "cell_type": "code",
   "execution_count": 36,
   "id": "abca98e0-cdec-46a2-868c-2c44e8705acf",
   "metadata": {
    "tags": []
   },
   "outputs": [],
   "source": [
    "X = pd.get_dummies(X, drop_first=True)"
   ]
  },
  {
   "cell_type": "code",
   "execution_count": 37,
   "id": "85234040-4ac4-42fa-89bf-f471d34694e2",
   "metadata": {
    "tags": []
   },
   "outputs": [],
   "source": [
    "X_train, X_test, y_train, y_test = train_test_split(X, y, test_size=0.25, random_state=16072023)"
   ]
  },
  {
   "cell_type": "code",
   "execution_count": 38,
   "id": "2a8e6fe8-db1e-445f-8388-6a53e372c88b",
   "metadata": {
    "tags": []
   },
   "outputs": [
    {
     "data": {
      "text/plain": [
       "10.943503343370505"
      ]
     },
     "execution_count": 38,
     "metadata": {},
     "output_type": "execute_result"
    }
   ],
   "source": [
    "model = LinearRegression()\n",
    "\n",
    "model.fit(X_train, y_train)\n",
    "y_pred = model.predict(X_test)\n",
    "mean_absolute_error(y_test, y_pred)"
   ]
  },
  {
   "cell_type": "code",
   "execution_count": 39,
   "id": "b976b489-21c8-438e-aa8b-45b1c604945f",
   "metadata": {
    "tags": []
   },
   "outputs": [
    {
     "data": {
      "text/plain": [
       "0.15629353190605944"
      ]
     },
     "execution_count": 39,
     "metadata": {},
     "output_type": "execute_result"
    }
   ],
   "source": [
    "r2_score(y_test, y_pred)"
   ]
  },
  {
   "cell_type": "code",
   "execution_count": 40,
   "id": "c6485993-9d81-4165-ba97-85f266b46a4a",
   "metadata": {
    "tags": []
   },
   "outputs": [
    {
     "data": {
      "text/plain": [
       "0.281"
      ]
     },
     "execution_count": 40,
     "metadata": {},
     "output_type": "execute_result"
    }
   ],
   "source": [
    "round(1 - mean_absolute_error(y_test, y_pred) / y_train.std(), 3)"
   ]
  },
  {
   "cell_type": "markdown",
   "id": "c26f8f79-52b3-42c9-bb2e-6d3cbd91df23",
   "metadata": {},
   "source": [
    "#### 14.2 (2 балла)\n",
    "* Нарисуйте диаграмму рассеяния истинных значений скора по математике и предсказанных (по иксу -- реальное, по игреку -- предсказанное);\n",
    "* Добавьте уравнение прямой (прямую линию) $ y = x$;\n",
    "* Добавьте на график значение MAE и $R^2$.\n",
    "\n",
    "Примерный результат:<br>\n",
    "<img src='Data/pics/task14.png' align='left'/>"
   ]
  },
  {
   "cell_type": "code",
   "execution_count": 41,
   "id": "f819a32b-65bf-4089-a6e2-7944f4cfd636",
   "metadata": {
    "tags": []
   },
   "outputs": [
    {
     "data": {
      "image/png": "[encoded data removed]",
      "text/plain": [
       "<Figure size 640x480 with 1 Axes>"
      ]
     },
     "metadata": {},
     "output_type": "display_data"
    }
   ],
   "source": [
    "plt.scatter(y_test, y_pred)\n",
    "plt.plot([20, 100], [20, 100])\n",
    "plt.xlabel('TRUE')\n",
    "plt.ylabel('PRED')\n",
    "plt.text(20, 90, f\"MAE = {mean_absolute_error(y_test, y_pred):.2f}\")\n",
    "plt.text(20, 85, f\"$R^2$ = {r2_score(y_test, y_pred):.3f}\")\n",
    "plt.show()"
   ]
  },
  {
   "cell_type": "markdown",
   "id": "d2dc6e61-0a1a-4a34-9526-903269a6f617",
   "metadata": {},
   "source": [
    "### 15. (4 балла)\n",
    "Это стоило сделать ДО обучения модели, но кто ж нам запретит сделать это сейчас.  \n",
    "Давайте убедимся, что по категориальным признакам с помощью one-hot encoding тяжело получить хорошую модель.\n",
    "\n",
    "Работу ведите всех матрице признков и векторе с целевой переменной (на том, что получили после кодирования категорий).\n",
    "\n",
    "* Методом главный компонент получите координаты точек в первых двух главных компонентах;\n",
    "* Нарисуйте диаграмму рассения в координатах первых двух главных компонент;\n",
    "* Раскрасьте точки по значению целевой переменной (передайте в параметр `c` вектор с целевой переменной);\n",
    "* Добавьте colorbar (метод colorbar);\n",
    "* **Скажите своими словами, как можно объяснить то, что мы видим? Какие выводы из полученной картинки можно сделать о данных?**\n",
    "\n",
    "Примерный результат:<br>\n",
    "<img src='Data/pics/task15.png' align='left'/>\n",
    "<br>\n",
    "\n"
   ]
  },
  {
   "cell_type": "code",
   "execution_count": 42,
   "id": "e04b82ea-a264-4d71-8396-213bebf4ff22",
   "metadata": {
    "tags": []
   },
   "outputs": [],
   "source": [
    "from sklearn.decomposition import PCA"
   ]
  },
  {
   "cell_type": "code",
   "execution_count": 43,
   "id": "e550cce2-1564-4cfc-95ee-86c909227bff",
   "metadata": {
    "tags": []
   },
   "outputs": [
    {
     "data": {
      "text/plain": [
       "array([[-0.01799367,  0.42623992],\n",
       "       [ 0.83175811,  0.19210805],\n",
       "       [-0.05698269,  0.46494637],\n",
       "       ...,\n",
       "       [ 0.92152162,  0.22945071],\n",
       "       [-0.5060626 ,  0.59521372],\n",
       "       [-0.57816583,  1.01463329]])"
      ]
     },
     "execution_count": 43,
     "metadata": {},
     "output_type": "execute_result"
    }
   ],
   "source": [
    "pca = PCA(n_components=2)\n",
    "Xpca = pca.fit_transform(X)\n",
    "Xpca"
   ]
  },
  {
   "cell_type": "code",
   "execution_count": 44,
   "id": "a250268a-39e4-4a4e-a346-168be2ca1f5b",
   "metadata": {
    "tags": []
   },
   "outputs": [
    {
     "data": {
      "image/png": "[encoded data removed]",
      "text/plain": [
       "<Figure size 640x480 with 2 Axes>"
      ]
     },
     "metadata": {},
     "output_type": "display_data"
    }
   ],
   "source": [
    "plt.scatter(Xpca[:, 0], Xpca[:, 1], c=y)\n",
    "plt.colorbar()\n",
    "plt.show()"
   ]
  },
  {
   "cell_type": "code",
   "execution_count": null,
   "id": "9d4f4950-c5be-45f3-838d-b05acd88fc18",
   "metadata": {},
   "outputs": [],
   "source": []
  },
  {
   "cell_type": "markdown",
   "id": "10339b07-53e6-4427-87d5-17b28af223d6",
   "metadata": {},
   "source": [
    "<left>\n",
    "    <img src=\"Data/pics/ck.gif\"/>\n",
    "</left>"
   ]
  },
  {
   "cell_type": "code",
   "execution_count": null,
   "id": "d7e37d37-2477-4c38-9e94-0e369173ba70",
   "metadata": {},
   "outputs": [],
   "source": []
  }
 ],
 "metadata": {
  "kernelspec": {
   "display_name": "hock",
   "language": "python",
   "name": "python3"
  },
  "language_info": {
   "codemirror_mode": {
    "name": "ipython",
    "version": 3
   },
   "file_extension": ".py",
   "mimetype": "text/x-python",
   "name": "python",
   "nbconvert_exporter": "python",
   "pygments_lexer": "ipython3",
   "version": "3.11.7"
  }
 },
 "nbformat": 4,
 "nbformat_minor": 5
}
