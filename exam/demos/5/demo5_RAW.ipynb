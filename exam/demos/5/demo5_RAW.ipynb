{
 "cells": [
  {
   "cell_type": "markdown",
   "id": "c3ba92fe-ba8d-4bbd-9720-2e2d784233a8",
   "metadata": {
    "tags": []
   },
   "source": [
    "# Преамбула\n",
    "Экзамен состоит из трёх блоков:  \n",
    "- программирование на python;  \n",
    "- работа с датафреймами и описательная статистика;  \n",
    "- классическое машинное обучение.\n",
    "\n",
    "Стоимость вопроса равна одному баллу, если не сказано иное.  \n",
    "Для успешной сдачи экзамена необходимо набрать 50% и более от максимального числа баллов.\n",
    "\n",
    "- **NB:** В первом блоке (программирование на python) **ЗАПРЕЩЕНО** пользоваться библиотеками, не посталяемыми вместе с python по-умолчанию (т.е. pandas/numpy нельзя использовать в это блоке, а random/json -- можно);\n",
    "- Во всех задачах на визуализацию **подписи, названия и легенду делать необязательно!**\n",
    "- Все спорные моменты трактуются в пользу экзаменуемого;  \n",
    "- Ваш код должен быть воспроизводим (если я положу исходные файлы в ту же папку, что и Ваш ноутбук, и нажму `Run` -> `Run All Cells`, то всё должно работать). Так что соблюдайте логику и последовательнось запуска ячеек. Спасибо :)  \n",
    "- Можно пользоваться только своей головой, но любыми материалами и интернетом;  \n",
    "- Если задание кажется сложным -- пропустите его;  \n",
    "\n",
    "- Во время экзамена я буду отвечать только на вопросы касаемо формулировок заданий.\n",
    "\n",
    "Главное, не спешите, проверяйте, что и куда записывается.  \n",
    "За каждого болею.  \n",
    "Всем удачи!  \n"
   ]
  },
  {
   "cell_type": "markdown",
   "id": "e977c1de-98f4-4a63-9ec9-d45524e26975",
   "metadata": {},
   "source": [
    "<left>\n",
    "    <img src=\"Data/pics/goodluck.gif\"/>\n",
    "</left>"
   ]
  },
  {
   "cell_type": "markdown",
   "id": "94876987-2265-4ba8-b9e1-a3074f6447ce",
   "metadata": {},
   "source": [
    "## A. Базовый python\n",
    "Для решения задач блока запрещено пользоваться библиотеками, не поставляемые вместе с python.  \n",
    "Иными словами, всё, что устанавливается через `pip`, тут использовать нельзя."
   ]
  },
  {
   "cell_type": "markdown",
   "id": "138dffe5-1125-498c-b50e-8156427864c7",
   "metadata": {},
   "source": [
    "### 1. \n",
    "Напишите функцию `MApred`, которая принимает в качестве аргументов список из float-чисел с информацией о том, сколько газа было прокачано через некоторый пункт (в кубометрах).  \n",
    "\n",
    "В списке может быть любое количество чисел от 7 и до плюс бесконечности.\n",
    "\n",
    "Функция должна возвращать предсказание о том, сколько газа будет прокачано завтра. \n",
    "\n",
    "**Реализуйте наивный предсказатель, который в качестве предсказания просто возвращает среднее за последние 7 дней.**\n"
   ]
  },
  {
   "cell_type": "code",
   "execution_count": null,
   "id": "c6d39845-96a9-4fe1-b57f-cbfef0257fc7",
   "metadata": {},
   "outputs": [],
   "source": []
  },
  {
   "cell_type": "code",
   "execution_count": 2,
   "id": "f0f3d8c7-e67d-4f4e-91aa-e0fbfc4ae4cf",
   "metadata": {
    "tags": []
   },
   "outputs": [],
   "source": [
    "assert MApred([10] * 10) == 10"
   ]
  },
  {
   "cell_type": "code",
   "execution_count": 3,
   "id": "d2fcd59b-49ed-47ea-8e0a-326e812a2623",
   "metadata": {
    "tags": []
   },
   "outputs": [],
   "source": [
    "assert MApred(list(range(100, 200, 7))) == 177"
   ]
  },
  {
   "cell_type": "code",
   "execution_count": 4,
   "id": "2eb92086-8372-4b82-9dd7-05e0e5b38a34",
   "metadata": {
    "tags": []
   },
   "outputs": [],
   "source": [
    "assert MApred([30.97, 33.3 , 35.63, \n",
    "               37.96, 40.29, 42.62, \n",
    "               44.95, 47.28, 49.61]) == 42.62"
   ]
  },
  {
   "cell_type": "markdown",
   "id": "89272712-d4b6-44af-a745-2bea157f4e25",
   "metadata": {},
   "source": [
    "### 2. (3 балла)\n",
    "Реализуйте функцию `MApredK`, которая в качестве аргумента также принимает горизонт прогноза (т.е. на сколько дней вперёд необходимо сделать прогноз). \n",
    "\n",
    "Также реализуем наивный предиктор.  \n",
    "Для предсказания на завтра (k+1 день) используем среднее за последние 7 дней.  \n",
    "Для предсказания на послезавтра используем среднее за последние 6 дней и предсказание завтра (для k+2 дня это просто среднее за посление 7 дней). \n",
    "\n",
    "Таким образом, для каждого последующего предсказания мы опираемся на всё большее число уже сделанных предсказаний.\n",
    "\n",
    "Функция должна возвращать **новый** список из исходных значений и предсказаний."
   ]
  },
  {
   "cell_type": "code",
   "execution_count": null,
   "id": "69bd80bf-5138-4bb1-9867-d0d249971627",
   "metadata": {},
   "outputs": [],
   "source": []
  },
  {
   "cell_type": "code",
   "execution_count": 6,
   "id": "36c9388a-9363-459c-a711-cc9b1485fc3b",
   "metadata": {
    "tags": []
   },
   "outputs": [],
   "source": [
    "assert MApredK([30.97, 33.3 , 35.63, \n",
    "               37.96, 40.29, 42.62, \n",
    "               44.95, 47.28, 49.61], 1)[-1] == 42.62"
   ]
  },
  {
   "cell_type": "code",
   "execution_count": 7,
   "id": "db01a80f-c7eb-4404-9a73-7ffab4460118",
   "metadata": {
    "tags": []
   },
   "outputs": [],
   "source": [
    "assert MApredK([30.97, 33.3 , 35.63, \n",
    "         37.96, 40.29, 42.62, \n",
    "         44.95, 47.28, 49.61], 3)[-1] ==  44.42693877551021"
   ]
  },
  {
   "cell_type": "markdown",
   "id": "894c68eb-879c-4374-b8b3-875de3fa9c45",
   "metadata": {},
   "source": [
    "### 3. (3 балла)\n",
    "Даны 3 файла (`flow1.txt`,`flow2.txt`,`flow3.txt`) с исторической информацией о прокачке газа через некоторые пункты. Название пункта записано на первой строке в файле. Число строк в файлах одинаково.\n",
    "\n",
    "Создайте результирующий файл `flow_total.csv` с четырьмя столбцами:\n",
    "* Tarvisio (число прокачки из первого файла, округлённое до десятых);\n",
    "* Mazara (число прокачки из второго файла, округлённое до десятых);\n",
    "* PassoGries (число прокачки из третьего файла, округлённое до десятых);\n",
    "* MaxFlowGate (название пункта, в котором была максимальная прокачка в этот день).\n",
    "\n",
    "Разделитель точка с запятой. Кодировка utf-8.\n",
    "\n",
    "Примерный результат (первые 10 строк):<br>\n",
    "<img src='Data/pics/task3.png' align='left'/>"
   ]
  },
  {
   "cell_type": "code",
   "execution_count": null,
   "id": "ec68f391-5069-4981-9650-238a7d98da16",
   "metadata": {},
   "outputs": [],
   "source": []
  },
  {
   "cell_type": "markdown",
   "id": "f3e13dda-c458-4dc9-8ba0-f0128d6898d2",
   "metadata": {},
   "source": [
    "### 4."
   ]
  },
  {
   "cell_type": "markdown",
   "id": "2006577e-d6cb-427e-ad27-348d6fb7eb60",
   "metadata": {},
   "source": [
    "Описание классовой структуры\n",
    "\n",
    "Есть Помидор со следующими характеристиками:\n",
    "\n",
    "    Индекс\n",
    "    Стадия зрелости(стадии: Отсутствует, Цветение, Зеленый, Красный)\n",
    "\n",
    "Помидор может:\n",
    "\n",
    "    Расти (переходить на следующую стадию созревания)\n",
    "    Предоставлять информацию о своей зрелости\n",
    "\n",
    "Есть Куст с помидорами, который:\n",
    "\n",
    "    Содержит список томатов, которые на нем растут\n",
    "\n",
    "И может:\n",
    "\n",
    "    Расти вместе с томатами\n",
    "    Предоставлять информацию о зрелости всех томатов\n",
    "    Предоставлять урожай"
   ]
  },
  {
   "cell_type": "markdown",
   "id": "218abffe-f206-4cff-8f84-f736840c2c56",
   "metadata": {},
   "source": [
    "#### 4.1 (3 балла)\n",
    "\n",
    "Класс Tomato\n",
    "\n",
    "Создайте класс Tomato  \n",
    "* Создайте <a href='https://metanit.com/python/tutorial/7.6.php'>статический атрибут</a> states, который будет содержать все стадии созревания помидора (список);  \n",
    "* Создайте метод __init__(), внутри которого происходит созадние двух атрибутов: index (номер индекса текущего состояния из списка states), state (принимает первое значение из массива состояний зрелости states);  \n",
    "* Создайте метод grow(), который будет переводить томат на следующую стадию созревания. Если томат созрел, то стадия не повышается;  \n",
    "* Создайте метод is_ripe(), который будет проверять, что томат созрел (достиг последней стадии созревания).  \n",
    "\n",
    "\n",
    "PS. Пример со стат.атрибутом:  \n",
    "\n",
    "```\n",
    "class Dog:\n",
    "    default_name = 'Бобик' # создание статического атрибута\n",
    "    \n",
    "    def __init__(self, name='NONAME'):\n",
    "        if name == 'NONAME':\n",
    "            self.name = Dog.default_name # использование статического атрибута\n",
    "        else:\n",
    "            self.name = name\n",
    "```"
   ]
  },
  {
   "cell_type": "code",
   "execution_count": null,
   "id": "23ae33ad-ca40-4c76-a110-011cba93a44d",
   "metadata": {},
   "outputs": [],
   "source": []
  },
  {
   "cell_type": "code",
   "execution_count": 10,
   "id": "72a4a975-64eb-4651-9e1e-bc6392ded805",
   "metadata": {
    "tags": []
   },
   "outputs": [
    {
     "name": "stdout",
     "output_type": "stream",
     "text": [
      "0 Отсутствует False\n",
      "3 Красный True\n",
      "3 Красный True\n"
     ]
    }
   ],
   "source": [
    "t = Tomato()\n",
    "assert all([t.index == 0, t.state == 'Отсутствует', not t.is_ripe()])\n",
    "print(t.index, t.state, t.is_ripe())\n",
    "\n",
    "t.grow()\n",
    "t.grow()\n",
    "t.grow()\n",
    "\n",
    "assert all([t.index == 3, t.state == 'Красный', t.is_ripe()])\n",
    "print(t.index, t.state, t.is_ripe())\n",
    "\n",
    "t.grow()\n",
    "t.grow()\n",
    "t.grow()\n",
    "\n",
    "assert all([t.index == 3, t.state == 'Красный', t.is_ripe()])\n",
    "print(t.index, t.state, t.is_ripe())"
   ]
  },
  {
   "cell_type": "markdown",
   "id": "c79293f1-0e0a-46cf-98e8-9cb5d9692ec8",
   "metadata": {},
   "source": [
    "#### 4.2 (3 балла)\n",
    "\n",
    "Класс TomatoBush\n",
    "\n",
    "Создайте класс TomatoBush  \n",
    "* Определите метод \\_\\_init\\_\\_(), который будет принимать в качестве параметра количество томатов и на его основе будет создавать список объектов класса Tomato. Данный список будет храниться внутри атрибута tomatoes;\n",
    "* Создайте метод grow_all(), который будет переводить все объекты из списка томатов на следующий этап созревания;  \n",
    "* Создайте метод all_are_ripe(), который будет возвращать True, если все томаты из списка стали спелыми;  \n",
    "* Создайте метод give_away_all(), который будет чистить список томатов после сбора урожая.  "
   ]
  },
  {
   "cell_type": "code",
   "execution_count": null,
   "id": "87eebcab-0b41-42f8-9a92-870e98760542",
   "metadata": {},
   "outputs": [],
   "source": []
  },
  {
   "cell_type": "code",
   "execution_count": 12,
   "id": "52976f8f-da5d-481e-9542-1d68d2c67ccc",
   "metadata": {
    "tags": []
   },
   "outputs": [],
   "source": [
    "tb = TomatoBush(3)\n",
    "\n",
    "assert len(tb.tomatoes) == 3\n",
    "assert not tb.all_are_ripe()\n",
    "\n",
    "tb.grow_all()\n",
    "assert not tb.all_are_ripe()\n",
    "\n",
    "tb.grow_all()\n",
    "assert not tb.all_are_ripe()\n",
    "\n",
    "tb.grow_all()\n",
    "assert tb.all_are_ripe()\n",
    "tb.give_away_all()\n",
    "\n",
    "assert len(tb.tomatoes) == 0"
   ]
  },
  {
   "cell_type": "markdown",
   "id": "10e85516-862e-49df-817c-defca25bdd0a",
   "metadata": {},
   "source": [
    "# B. Работа с табличными данными"
   ]
  },
  {
   "cell_type": "markdown",
   "id": "b787d23e-bbaa-4c7e-9173-27a19889dff1",
   "metadata": {},
   "source": [
    "В этом блоке мы поработает с данными о студентах и их результатами на экзаменах."
   ]
  },
  {
   "cell_type": "code",
   "execution_count": 13,
   "id": "71c26e08-2b6c-4cb6-8e9d-b6f5717640b4",
   "metadata": {
    "tags": []
   },
   "outputs": [],
   "source": []
  },
  {
   "cell_type": "markdown",
   "id": "b727aa5b-5282-434c-9bba-3c78b8aaeb3c",
   "metadata": {},
   "source": [
    "### 5.\n",
    "Информация о студентах содержится в файлах с названием `Students_info_i.csv`, где `i` принимает значения от 0 до 9. Результаты экзаменов лежат в файлах с маской  названия`Students_marks_i.csv`.  \n",
    "Вся информация находится в папке `Data`.\n",
    "\n",
    "В обоих файлах есть колонка `index` -- номер студента."
   ]
  },
  {
   "cell_type": "markdown",
   "id": "9682979c-f168-42bd-95a6-9c10bda7f4b1",
   "metadata": {},
   "source": [
    "#### 5.1 (1.5 балла)\n",
    "Соедините файлы с информацией о студентах в один датафрейм.  \n",
    "Соедините файлы с оценками студентов в один датафрейм (другой)."
   ]
  },
  {
   "cell_type": "code",
   "execution_count": null,
   "id": "4ea1d8f8-fef7-4258-9863-f4f33dbdf60f",
   "metadata": {},
   "outputs": [],
   "source": []
  },
  {
   "cell_type": "code",
   "execution_count": null,
   "id": "383141ec-363f-4336-ab90-366f8274a137",
   "metadata": {},
   "outputs": [],
   "source": []
  },
  {
   "cell_type": "markdown",
   "id": "ad892f32-8aeb-4d68-b565-fe4985bd45ab",
   "metadata": {},
   "source": [
    "#### 5.2 (0.5 балла)\n",
    "Соедините два датафрейма в один соответсвующим образом (т.е. после информации о студенте должны идти его/её оценки).  \n",
    "\n",
    "*Добавьте проверку, что для каждого студента оценки были найдены единожды (+0.25 балла)*"
   ]
  },
  {
   "cell_type": "code",
   "execution_count": null,
   "id": "4682b263-71c3-42d5-a09c-31e92c2de70d",
   "metadata": {},
   "outputs": [],
   "source": []
  },
  {
   "cell_type": "markdown",
   "id": "f2142a52-57a9-4a42-b143-f20ef26fb3ea",
   "metadata": {},
   "source": [
    "### 6. \n",
    "Проверьте, есть ли в таблице пропущенные значения.  \n",
    "Если они есть -- удалите строки с пропусками.\n",
    "\n",
    "**NB:** если не получилось справиться, то используйте готовую соединённую таблицу. Она находится в файле `final_table_data.csv` в папке `Data`. Разделитель запятая."
   ]
  },
  {
   "cell_type": "code",
   "execution_count": null,
   "id": "c4ba969f-aa4f-44cc-90e5-16f4411aaad8",
   "metadata": {},
   "outputs": [],
   "source": []
  },
  {
   "cell_type": "markdown",
   "id": "597b94bc-cb6a-45f7-ac8f-2053ee753cfb",
   "metadata": {},
   "source": [
    "### 7.\n",
    "Выведите средние оценки по всем предметам за одну команду."
   ]
  },
  {
   "cell_type": "code",
   "execution_count": 20,
   "id": "3b39219a-88d2-40ae-b042-b70133cfebf3",
   "metadata": {},
   "outputs": [
    {
     "data": {
      "text/plain": [
       "math score       66.089\n",
       "reading score    69.169\n",
       "writing score    68.054\n",
       "dtype: float64"
      ]
     },
     "execution_count": 20,
     "metadata": {},
     "output_type": "execute_result"
    }
   ],
   "source": []
  },
  {
   "cell_type": "markdown",
   "id": "0187b954-9d60-47f8-bd5f-7bbef4b3b345",
   "metadata": {},
   "source": [
    "### 8.\n",
    "У нас есть информация о том, проходил ли студент подготовительные курсы (столбец `test preparation course`)."
   ]
  },
  {
   "cell_type": "markdown",
   "id": "d074c5e4-d797-43f3-9dba-853f4839c156",
   "metadata": {
    "tags": []
   },
   "source": [
    "#### 8.1\n",
    "Посчитайте, сколько студентов завершили подготовительные курсы.  \n",
    "Дайте ответ в долях единицы. Ответ округлите до сотых."
   ]
  },
  {
   "cell_type": "code",
   "execution_count": 21,
   "id": "1cf153bf-b953-4711-8895-e0596b4abd74",
   "metadata": {},
   "outputs": [
    {
     "data": {
      "text/plain": [
       "none         0.64\n",
       "completed    0.36\n",
       "Name: test preparation course, dtype: float64"
      ]
     },
     "execution_count": 21,
     "metadata": {},
     "output_type": "execute_result"
    }
   ],
   "source": []
  },
  {
   "cell_type": "markdown",
   "id": "ce56404f-e227-4602-9290-81760cf93b65",
   "metadata": {
    "tags": []
   },
   "source": [
    "#### 8.2\n",
    "На частотной гистограмме (барчарт) изобразите, сколько студентов училось и сколько не училось на подготовительных курсах.\n",
    "\n",
    "Примерный результат:<br>\n",
    "<img src='Data/pics/task82.png' align='left'/>"
   ]
  },
  {
   "cell_type": "code",
   "execution_count": null,
   "id": "b309fcb0-95f1-4c6d-8cd2-67b81f4c7da4",
   "metadata": {},
   "outputs": [],
   "source": []
  },
  {
   "cell_type": "markdown",
   "id": "9587fc0c-1592-42e6-8dd0-ff93a823b8e0",
   "metadata": {},
   "source": [
    "#### 8.3 (0.5 балла)\n",
    "Сделайте то же, что и в предыдущей задаче, но добавьте разделение по полу\n",
    "\n",
    "Примерный результат:<br>\n",
    "<img src='Data/pics/task83.png' align='left'/>"
   ]
  },
  {
   "cell_type": "code",
   "execution_count": null,
   "id": "7fd26903-9525-4fca-ad39-788c27d0d6e7",
   "metadata": {},
   "outputs": [],
   "source": []
  },
  {
   "cell_type": "markdown",
   "id": "63933790-0a03-4af4-a994-48402da9aa9d",
   "metadata": {},
   "source": [
    "### 9. (2 балла)\n",
    "Слава богу, что здесь расы и этнические принадлежности анонимизированы. А то определили бы сейчас, что одни самые умные, а дргуие -- нет.   \n",
    "Ещё бы за разжигание меня оформили :D\n",
    "\n",
    "Для каждой группы по `race/ethnicity` определите среднее значение, минимум, максимум иинтерквартильный размах оценки по математике (по 0.5 балла за каждую статистику).  \n",
    "\n",
    "Примерный результат:<br>\n",
    "<img src='Data/pics/task91.png' align='left'/>"
   ]
  },
  {
   "cell_type": "code",
   "execution_count": null,
   "id": "c017e7fb-3df7-4183-9a5a-183c86e3be0e",
   "metadata": {},
   "outputs": [],
   "source": []
  },
  {
   "cell_type": "markdown",
   "id": "93f843a9-dab7-4e2f-8416-ade7a8709837",
   "metadata": {},
   "source": [
    "### 10.\n",
    "Для прохождения экзамена необходимо было набрать минимум 50 баллов.  \n",
    "\n",
    "Для каждого из экзамена посчитайте процент сдавших (+0.5 балла, если сделаете за одну команду)."
   ]
  },
  {
   "cell_type": "code",
   "execution_count": 25,
   "id": "be2dd54a-2949-4d82-b847-1696b134d5c0",
   "metadata": {
    "tags": []
   },
   "outputs": [
    {
     "data": {
      "text/plain": [
       "math score       0.865\n",
       "reading score    0.910\n",
       "writing score    0.886\n",
       "dtype: float64"
      ]
     },
     "execution_count": 25,
     "metadata": {},
     "output_type": "execute_result"
    }
   ],
   "source": []
  },
  {
   "cell_type": "markdown",
   "id": "02aa1575-1150-44c7-84d9-66c46009af8a",
   "metadata": {},
   "source": [
    "### 11.\n",
    "Переведите данные в длинный (long) формат. Должна быть сохранена следующая информация:  \n",
    "* parental level of education\n",
    "* предмет;\n",
    "* балл.\n",
    "\n",
    "Примерный результат:<br>\n",
    "<img src='Data/pics/task11.png' align='left'/>\n"
   ]
  },
  {
   "cell_type": "code",
   "execution_count": null,
   "id": "5f0b5119-61cd-4696-a155-fdbbfc0c3977",
   "metadata": {},
   "outputs": [],
   "source": []
  },
  {
   "cell_type": "markdown",
   "id": "0e93824a-7a6d-417c-ada7-4d4baa8048f0",
   "metadata": {},
   "source": [
    "### 12.\n",
    "Визуализируйте плотность распределения оценок по каждому экзамену на одной картинке.  \n",
    "\n",
    "Примерный результат:<br>\n",
    "<img src='Data/pics/task12.png' align='left'/>"
   ]
  },
  {
   "cell_type": "code",
   "execution_count": null,
   "id": "137ad6ae-10b1-4201-96a8-3d32e01b267e",
   "metadata": {},
   "outputs": [],
   "source": []
  },
  {
   "cell_type": "markdown",
   "id": "07f4cd07-8337-489c-9ff2-3fbe0070c408",
   "metadata": {},
   "source": [
    "### 13. \n",
    "Необходимо определить оценки за экзамен."
   ]
  },
  {
   "cell_type": "markdown",
   "id": "d9437484-fd54-4812-a8f4-89d396c14391",
   "metadata": {},
   "source": [
    "#### 13.1\n",
    "Напишите функцию `get_grade`, которая принимает число и возвращает оценку. \n",
    "\n",
    "Система перевода баллов в оценку:  \n",
    "> [90;100] = A  \n",
    "      [80;90) = B  \n",
    "      [70;80) = C  \n",
    "      [60;70) = D  \n",
    "      [50;60) = E  \n",
    "      [0;50) = F  \n",
    "      \n",
    "*\\*(квадратная скобка -- включительно, круглая -- не включая)*"
   ]
  },
  {
   "cell_type": "code",
   "execution_count": null,
   "id": "dd643735-aa06-4240-a17b-4edd1535353f",
   "metadata": {},
   "outputs": [],
   "source": []
  },
  {
   "cell_type": "markdown",
   "id": "5310d274-aaa4-4de2-a1a2-64db34462677",
   "metadata": {},
   "source": [
    "#### 13.2\n",
    "С использование функции `get_grade` создайте новый столбец `reading mark` с оценками за экзамен по чтению."
   ]
  },
  {
   "cell_type": "code",
   "execution_count": null,
   "id": "c9d3adc5-7127-4943-a5a6-483f4c35148e",
   "metadata": {
    "tags": []
   },
   "outputs": [
    {
     "data": {
      "text/html": [
       "<div>\n",
       "<style scoped>\n",
       "    .dataframe tbody tr th:only-of-type {\n",
       "        vertical-align: middle;\n",
       "    }\n",
       "\n",
       "    .dataframe tbody tr th {\n",
       "        vertical-align: top;\n",
       "    }\n",
       "\n",
       "    .dataframe thead th {\n",
       "        text-align: right;\n",
       "    }\n",
       "</style>\n",
       "<table border=\"1\" class=\"dataframe\">\n",
       "  <thead>\n",
       "    <tr style=\"text-align: right;\">\n",
       "      <th></th>\n",
       "      <th>index</th>\n",
       "      <th>gender</th>\n",
       "      <th>race/ethnicity</th>\n",
       "      <th>parental level of education</th>\n",
       "      <th>lunch</th>\n",
       "      <th>test preparation course</th>\n",
       "      <th>group</th>\n",
       "      <th>math score</th>\n",
       "      <th>reading score</th>\n",
       "      <th>writing score</th>\n",
       "      <th>reading mark</th>\n",
       "    </tr>\n",
       "  </thead>\n",
       "  <tbody>\n",
       "    <tr>\n",
       "      <th>0</th>\n",
       "      <td>0</td>\n",
       "      <td>female</td>\n",
       "      <td>group B</td>\n",
       "      <td>bachelor's degree</td>\n",
       "      <td>standard</td>\n",
       "      <td>none</td>\n",
       "      <td>group1</td>\n",
       "      <td>72</td>\n",
       "      <td>72</td>\n",
       "      <td>74</td>\n",
       "      <td>C</td>\n",
       "    </tr>\n",
       "    <tr>\n",
       "      <th>1</th>\n",
       "      <td>1</td>\n",
       "      <td>female</td>\n",
       "      <td>group C</td>\n",
       "      <td>some college</td>\n",
       "      <td>standard</td>\n",
       "      <td>completed</td>\n",
       "      <td>group1</td>\n",
       "      <td>69</td>\n",
       "      <td>90</td>\n",
       "      <td>88</td>\n",
       "      <td>A</td>\n",
       "    </tr>\n",
       "    <tr>\n",
       "      <th>2</th>\n",
       "      <td>2</td>\n",
       "      <td>female</td>\n",
       "      <td>group B</td>\n",
       "      <td>master's degree</td>\n",
       "      <td>standard</td>\n",
       "      <td>none</td>\n",
       "      <td>group1</td>\n",
       "      <td>90</td>\n",
       "      <td>95</td>\n",
       "      <td>93</td>\n",
       "      <td>A</td>\n",
       "    </tr>\n",
       "    <tr>\n",
       "      <th>3</th>\n",
       "      <td>3</td>\n",
       "      <td>male</td>\n",
       "      <td>group A</td>\n",
       "      <td>associate's degree</td>\n",
       "      <td>free/reduced</td>\n",
       "      <td>none</td>\n",
       "      <td>group1</td>\n",
       "      <td>47</td>\n",
       "      <td>57</td>\n",
       "      <td>44</td>\n",
       "      <td>E</td>\n",
       "    </tr>\n",
       "    <tr>\n",
       "      <th>4</th>\n",
       "      <td>4</td>\n",
       "      <td>male</td>\n",
       "      <td>group C</td>\n",
       "      <td>some college</td>\n",
       "      <td>standard</td>\n",
       "      <td>none</td>\n",
       "      <td>group1</td>\n",
       "      <td>76</td>\n",
       "      <td>78</td>\n",
       "      <td>75</td>\n",
       "      <td>C</td>\n",
       "    </tr>\n",
       "  </tbody>\n",
       "</table>\n",
       "</div>"
      ],
      "text/plain": [
       "   index  gender race/ethnicity parental level of education         lunch  \\\n",
       "0      0  female        group B           bachelor's degree      standard   \n",
       "1      1  female        group C                some college      standard   \n",
       "2      2  female        group B             master's degree      standard   \n",
       "3      3    male        group A          associate's degree  free/reduced   \n",
       "4      4    male        group C                some college      standard   \n",
       "\n",
       "  test preparation course   group  math score  reading score  writing score  \\\n",
       "0                    none  group1          72             72             74   \n",
       "1               completed  group1          69             90             88   \n",
       "2                    none  group1          90             95             93   \n",
       "3                    none  group1          47             57             44   \n",
       "4                    none  group1          76             78             75   \n",
       "\n",
       "  reading mark  \n",
       "0            C  \n",
       "1            A  \n",
       "2            A  \n",
       "3            E  \n",
       "4            C  "
      ]
     },
     "execution_count": 31,
     "metadata": {},
     "output_type": "execute_result"
    }
   ],
   "source": []
  },
  {
   "cell_type": "markdown",
   "id": "67950fd7-8ec0-4595-97f1-f65e9ac59a87",
   "metadata": {},
   "source": [
    "#### 13.3\n",
    "Визуализируйте частоту оценок за экзамен по чтению. Упорядочите оценки.\n",
    "\n",
    "Примерный результат:<br>\n",
    "<img src='Data/pics/task133.png' align='left'/>"
   ]
  },
  {
   "cell_type": "markdown",
   "id": "9621f689-99ba-4356-bd3b-6c393a08d695",
   "metadata": {},
   "source": [
    "## C. Классическое машинное обучение\n",
    "В этой части мы продолжим работать с предыдущим датасетом.  \n",
    "Можете прочитать его заново из файла `final_table_data.csv`."
   ]
  },
  {
   "cell_type": "markdown",
   "id": "7f607fb7-1d1a-4294-bff2-3566bc3db7cb",
   "metadata": {},
   "source": [
    "### 14.\n",
    "Попробуем тоько по категориальным данным определить результат экзамен по математике.\n",
    "\n"
   ]
  },
  {
   "cell_type": "markdown",
   "id": "a0452625-5698-4bf4-ae72-41607d08308f",
   "metadata": {},
   "source": [
    "#### 14.1 (5 баллов)\n",
    "* Оставьте только категориальные столбцы (собрал их в список для удобства); \n",
    "* Закодируйте категории с помощью one-hot encoding (не забудьте про мультиколлинеарность. не допустите её здесь);\n",
    "* Разделите данные на трейн и тест. В качестве целевой переменной используйте score экзамена по математике.  \n",
    "25% данных в трейн. seed для воспроизводимсоит 16072023. \n",
    "* Обучите модель линейной регрессии без регуляризации с параметрами по-умолчанию для предсказания скора по математике;\n",
    "* Посчитайте средний модуль ошибки на тестовых данных;\n",
    "* Посчитайте коэффициент детерминации.\n",
    "\n",
    "**На сколько процентов метрика меньше, чем стандартное отклонение таргета?**"
   ]
  },
  {
   "cell_type": "code",
   "execution_count": 33,
   "id": "100a42d7-8923-4335-8495-e4e10c96fa62",
   "metadata": {
    "tags": []
   },
   "outputs": [],
   "source": []
  },
  {
   "cell_type": "code",
   "execution_count": 34,
   "id": "65fe8491-1fa6-476c-aa1a-d8c4fffd27db",
   "metadata": {
    "tags": []
   },
   "outputs": [],
   "source": [
    "cat_cols = ['gender', 'race/ethnicity', 'parental level of education','lunch', 'test preparation course', 'group']"
   ]
  },
  {
   "cell_type": "code",
   "execution_count": null,
   "id": "d9a4a05e-0ec5-459c-9af6-6429d15d2c6c",
   "metadata": {},
   "outputs": [],
   "source": []
  },
  {
   "cell_type": "markdown",
   "id": "c26f8f79-52b3-42c9-bb2e-6d3cbd91df23",
   "metadata": {},
   "source": [
    "#### 14.2 (2 балла)\n",
    "* Нарисуйте диаграмму рассеяния истинных значений скора по математике и предсказанных (по иксу -- реальное, по игреку -- предсказанное);\n",
    "* Добавьте уравнение прямой (прямую линию) $ y = x$;\n",
    "* Добавьте на график значение MAE и $R^2$.\n",
    "\n",
    "Примерный результат:<br>\n",
    "<img src='Data/pics/task14.png' align='left'/>"
   ]
  },
  {
   "cell_type": "code",
   "execution_count": null,
   "id": "9cc45615-3c79-48dd-b71e-3828efbe6b31",
   "metadata": {},
   "outputs": [],
   "source": []
  },
  {
   "cell_type": "markdown",
   "id": "d2dc6e61-0a1a-4a34-9526-903269a6f617",
   "metadata": {},
   "source": [
    "### 15. (4 балла)\n",
    "Это стоило сделать ДО обучения модели, но кто ж нам запретит сделать это сейчас.  \n",
    "Давайте убедимся, что по категориальным признакам с помощью one-hot encoding тяжело получить хорошую модель.\n",
    "\n",
    "Работу ведите всех матрице признков и векторе с целевой переменной (на том, что получили после кодирования категорий).\n",
    "\n",
    "* Методом главный компонент получите координаты точек в первых двух главных компонентах;\n",
    "* Нарисуйте диаграмму рассения в координатах первых двух главных компонент;\n",
    "* Раскрасьте точки по значению целевой переменной (передайте в параметр `c` вектор с целевой переменной);\n",
    "* Добавьте colorbar (метод colorbar);\n",
    "* **Скажите своими словами, как можно объяснить то, что мы видим? Какие выводы из полученной картинки можно сделать о данных?**\n",
    "\n",
    "Примерный результат:<br>\n",
    "<img src='Data/pics/task15.png' align='left'/>\n",
    "<br>\n",
    "\n"
   ]
  },
  {
   "cell_type": "code",
   "execution_count": null,
   "id": "bbe5bfdb-afbd-496b-82d7-508bb448f9bc",
   "metadata": {},
   "outputs": [],
   "source": []
  },
  {
   "cell_type": "code",
   "execution_count": null,
   "id": "80b4dc2d-fcac-4a67-9471-9beed730264b",
   "metadata": {},
   "outputs": [],
   "source": []
  },
  {
   "cell_type": "markdown",
   "id": "10339b07-53e6-4427-87d5-17b28af223d6",
   "metadata": {},
   "source": [
    "<h2>Отличная работа!</h2>\n",
    "<left>\n",
    "    <img src=\"Data/pics/ck.gif\"/>\n",
    "</left>"
   ]
  },
  {
   "cell_type": "code",
   "execution_count": null,
   "id": "d7e37d37-2477-4c38-9e94-0e369173ba70",
   "metadata": {},
   "outputs": [],
   "source": []
  }
 ],
 "metadata": {
  "kernelspec": {
   "display_name": "hock",
   "language": "python",
   "name": "hock"
  },
  "language_info": {
   "codemirror_mode": {
    "name": "ipython",
    "version": 3
   },
   "file_extension": ".py",
   "mimetype": "text/x-python",
   "name": "python",
   "nbconvert_exporter": "python",
   "pygments_lexer": "ipython3",
   "version": "3.11.7"
  }
 },
 "nbformat": 4,
 "nbformat_minor": 5
}
