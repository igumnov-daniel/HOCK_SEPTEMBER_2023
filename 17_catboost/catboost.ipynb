{
 "cells": [
  {
   "cell_type": "code",
   "execution_count": null,
   "id": "def5d42a-66f7-4885-b364-0c1860afddd1",
   "metadata": {},
   "outputs": [],
   "source": [
    "# установка катбуста и активация нужных параметров\n",
    "# !pip install catboost\n",
    "# !pip install ipywidgets\n",
    "# !jupyter nbextension enable --py widgetsnbextension"
   ]
  },
  {
   "cell_type": "code",
   "execution_count": null,
   "id": "5c14e106-0c83-4d35-bdfd-b3a9b28c5b1d",
   "metadata": {
    "tags": []
   },
   "outputs": [],
   "source": [
    "import pandas as pd\n",
    "import numpy as np\n",
    "\n",
    "import matplotlib.pyplot as plt\n",
    "import seaborn as sns"
   ]
  },
  {
   "cell_type": "code",
   "execution_count": null,
   "id": "cc5672e2-ec42-4058-b3d9-1d8166dc2cc2",
   "metadata": {
    "tags": []
   },
   "outputs": [],
   "source": [
    "df = pd.read_csv(\"./data/mushrooms_small.tsv\", sep='\\t')\n",
    "df"
   ]
  },
  {
   "cell_type": "code",
   "execution_count": null,
   "id": "a2dde26e-4ed3-4d33-a46a-32911977fa5a",
   "metadata": {},
   "outputs": [],
   "source": [
    "df.columns"
   ]
  },
  {
   "cell_type": "code",
   "execution_count": null,
   "id": "9a519c0e-bee9-4a6f-be5e-bf8da111bd91",
   "metadata": {
    "tags": []
   },
   "outputs": [],
   "source": [
    "df.info()"
   ]
  },
  {
   "cell_type": "code",
   "execution_count": null,
   "id": "5b45ae83-3ba1-4df7-a9dc-f5bb4b3adc0c",
   "metadata": {},
   "outputs": [],
   "source": [
    "# сколько категорий в каждом столбце\n",
    "df.nunique()"
   ]
  },
  {
   "cell_type": "code",
   "execution_count": null,
   "id": "258e4252-e85b-4b7b-9271-66f22274f2ce",
   "metadata": {},
   "outputs": [],
   "source": [
    "df.isna().sum()"
   ]
  },
  {
   "cell_type": "code",
   "execution_count": null,
   "id": "d2f81b66-15c2-4047-8d17-4bd8d786cdf4",
   "metadata": {
    "tags": []
   },
   "outputs": [],
   "source": [
    "X, y = df.drop(columns='class'), df['class'] # отделим лейблы"
   ]
  },
  {
   "cell_type": "code",
   "execution_count": null,
   "id": "adb39abc-f94b-42d0-8360-44c58ea91c75",
   "metadata": {
    "tags": []
   },
   "outputs": [],
   "source": [
    "from sklearn.model_selection import train_test_split"
   ]
  },
  {
   "cell_type": "code",
   "execution_count": null,
   "id": "e8701017-117a-4125-80c3-18eb65cd601c",
   "metadata": {},
   "outputs": [],
   "source": [
    "# X_train, X_test, y_train, y_test = train_test_split(X, y, test_size=0.25, random_state=3+2+2024)"
   ]
  },
  {
   "cell_type": "markdown",
   "id": "18571dc7-0722-47ee-8b08-091b19be2e7f",
   "metadata": {},
   "source": [
    "# Обучим как-то простую модель"
   ]
  },
  {
   "cell_type": "code",
   "execution_count": null,
   "id": "c9e74330-3391-40d9-8eb1-fd731b69d3ab",
   "metadata": {},
   "outputs": [],
   "source": [
    "y.value_counts()"
   ]
  },
  {
   "cell_type": "code",
   "execution_count": null,
   "id": "816e233a-9b5a-4ca8-91c3-887b39946149",
   "metadata": {},
   "outputs": [],
   "source": [
    "X_encoded = pd.get_dummies(X, drop_first=True, dtype=int)\n",
    "y_encoded = y.map({'p':1, 'e':0})"
   ]
  },
  {
   "cell_type": "code",
   "execution_count": null,
   "id": "98ad0907-1137-46bb-97c5-495abeefe24f",
   "metadata": {},
   "outputs": [],
   "source": [
    "X_encoded.columns"
   ]
  },
  {
   "cell_type": "code",
   "execution_count": null,
   "id": "a4f2c126-563d-4f63-906b-b88e455bec4e",
   "metadata": {},
   "outputs": [],
   "source": [
    "X_train, X_test, y_train, y_test = train_test_split(X_encoded, y_encoded, test_size=0.25, random_state=3+2+2024)"
   ]
  },
  {
   "cell_type": "code",
   "execution_count": null,
   "id": "709be34c",
   "metadata": {},
   "outputs": [],
   "source": [
    "X_train.shape, X_test.shape"
   ]
  },
  {
   "cell_type": "code",
   "execution_count": null,
   "id": "92361ce6-3365-4a07-9a64-ad8d408ec61b",
   "metadata": {},
   "outputs": [],
   "source": [
    "from sklearn.linear_model import LogisticRegression\n",
    "from sklearn.neighbors import KNeighborsClassifier\n",
    "from sklearn.svm import SVC\n",
    "from sklearn.tree import DecisionTreeClassifier\n",
    "from sklearn.ensemble import RandomForestClassifier"
   ]
  },
  {
   "cell_type": "code",
   "execution_count": null,
   "id": "ee4f2e51-083e-49f4-b5bd-6bdfba396ac5",
   "metadata": {},
   "outputs": [],
   "source": [
    "from sklearn.metrics import f1_score"
   ]
  },
  {
   "cell_type": "code",
   "execution_count": null,
   "id": "be84f4e2-d4a3-4304-9fd9-7e2e8bbb5a44",
   "metadata": {},
   "outputs": [],
   "source": [
    "models = dict(\n",
    "    LogReg = LogisticRegression(),\n",
    "    KNN = KNeighborsClassifier(),\n",
    "    SVM = SVC(),\n",
    "    Tree = DecisionTreeClassifier(),\n",
    "    RandomForest = RandomForestClassifier()\n",
    ")"
   ]
  },
  {
   "cell_type": "code",
   "execution_count": null,
   "id": "1d7a79d7-9191-4bf6-8a4b-7abcd5bc451a",
   "metadata": {},
   "outputs": [],
   "source": [
    "prefit = {}\n",
    "for model_name, model in models.items():\n",
    "    model.fit(X_train, y_train)\n",
    "    y_pred = model.predict(X_test)\n",
    "    prefit[model_name] = dict(model=model, score=f1_score(y_test, y_pred))\n",
    "prefit"
   ]
  },
  {
   "cell_type": "code",
   "execution_count": null,
   "id": "b05d94e0-53df-4286-97d1-111c70d36df3",
   "metadata": {},
   "outputs": [],
   "source": [
    "imp = pd.DataFrame({'cols': X_train.columns, 'coef':prefit['LogReg']['model'].coef_[0]})\n",
    "imp['abs'] = imp.coef.abs()\n",
    "imp = imp.sort_values(by='abs', ascending=False)\n",
    "imp.head(10)"
   ]
  },
  {
   "cell_type": "markdown",
   "id": "1332845e-f72b-480a-9199-374453eddcc8",
   "metadata": {},
   "source": [
    "# Catboost"
   ]
  },
  {
   "cell_type": "code",
   "execution_count": null,
   "id": "24d55465-cd87-485b-b4ca-d71433e93e64",
   "metadata": {
    "tags": []
   },
   "outputs": [],
   "source": [
    "import catboost\n",
    "catboost.__version__"
   ]
  },
  {
   "cell_type": "code",
   "execution_count": null,
   "id": "1946629e-8da5-4f81-a5f2-1ccac7ac2fc7",
   "metadata": {
    "tags": []
   },
   "outputs": [],
   "source": [
    "from catboost import CatBoostClassifier, Pool"
   ]
  },
  {
   "cell_type": "code",
   "execution_count": null,
   "id": "cf61cf0f-4bcd-4ae8-a3c5-ecc1538d0e80",
   "metadata": {
    "tags": []
   },
   "outputs": [],
   "source": [
    "# создаём простую модель\n",
    "# https://catboost.ai/en/docs/concepts/python-reference_catboostclassifier\n",
    "\n",
    "model = CatBoostClassifier(iterations=100,\n",
    "                           depth=3,\n",
    "                           learning_rate=0.5,\n",
    "                   # если класс -- лейбл, используем LogLoss. Если класс -- вероятность, используем кросс-энтропию\n",
    "                           loss_function='Logloss', \n",
    "                           verbose=True)"
   ]
  },
  {
   "cell_type": "code",
   "execution_count": null,
   "id": "8a511a60-d662-4dc1-8db9-e24fbaeaf3e1",
   "metadata": {},
   "outputs": [],
   "source": [
    "X_train, X_test, y_train, y_test = train_test_split(X, y_encoded, test_size=0.25, random_state=3+2+2024)"
   ]
  },
  {
   "cell_type": "code",
   "execution_count": null,
   "id": "1f6573af-3d19-4f75-a2d6-c0cee0f01880",
   "metadata": {
    "tags": []
   },
   "outputs": [],
   "source": [
    "# подготовим данные в нужном формате\n",
    "data_train = Pool(data=X_train, label=y_train, cat_features=X_train.columns.values)\n",
    "data_test = Pool(data=X_test, label=y_test, cat_features=X_test.columns.values)"
   ]
  },
  {
   "cell_type": "code",
   "execution_count": null,
   "id": "3f79dd65-0c31-4c41-adbd-f2256039ddaf",
   "metadata": {
    "tags": []
   },
   "outputs": [],
   "source": [
    "# учим модель\n",
    "model.fit(data_train)"
   ]
  },
  {
   "cell_type": "code",
   "execution_count": null,
   "id": "3480b2ca-444c-4f4e-9e11-a6c0aaa449f8",
   "metadata": {
    "tags": []
   },
   "outputs": [],
   "source": [
    "# реже выводим информацию\n",
    "model.fit(data_train, \n",
    "         metric_period = 10)"
   ]
  },
  {
   "cell_type": "code",
   "execution_count": null,
   "id": "01282012-d066-4718-a278-a4181d95192b",
   "metadata": {
    "tags": []
   },
   "outputs": [],
   "source": [
    "# интерактивный монитор\n",
    "model.fit(data_train, \n",
    "          plot=True, \n",
    "          silent=True)"
   ]
  },
  {
   "cell_type": "code",
   "execution_count": null,
   "id": "ac3babf7-7637-4b09-92d6-da84c45dc886",
   "metadata": {
    "tags": []
   },
   "outputs": [],
   "source": [
    "print(\"Model is fitted: {}\".format(model.is_fitted()))\n",
    "print(model.get_params())\n",
    "print(\"Best score: {}\".format(model.best_score_))"
   ]
  },
  {
   "cell_type": "markdown",
   "id": "0b1b3f6a-69e8-4609-a81c-32b4204874b3",
   "metadata": {},
   "source": [
    "## Добавим в монитор другие метрики"
   ]
  },
  {
   "cell_type": "code",
   "execution_count": null,
   "id": "525250c7-9f47-41b5-bc4d-2bf7057a1261",
   "metadata": {},
   "outputs": [],
   "source": [
    "# учим модель\n",
    "model = CatBoostClassifier(iterations=100,\n",
    "                                   depth=3,\n",
    "                                   learning_rate=0.5,\n",
    "                                   loss_function='Logloss', \n",
    "                                   custom_loss=['AUC', 'F1', 'Accuracy'])\n",
    "\n",
    "model.fit(data_train, \n",
    "          plot=True, \n",
    "          silent=True)\n",
    "         "
   ]
  },
  {
   "cell_type": "markdown",
   "id": "df998f9b-5cc6-4e50-94e9-33f21f27fa48",
   "metadata": {},
   "source": [
    "## Добавим валидацию"
   ]
  },
  {
   "cell_type": "code",
   "execution_count": null,
   "id": "85182b41-cd64-44da-bf67-e14f0ccd636c",
   "metadata": {},
   "outputs": [],
   "source": [
    "# учим модель\n",
    "model = CatBoostClassifier(iterations=100,\n",
    "                                   depth=3,\n",
    "                                   learning_rate=0.5,\n",
    "                                   loss_function='Logloss', \n",
    "                                   custom_loss=['AUC', 'F1', 'Accuracy'])\n",
    "\n",
    "model.fit(data_train, \n",
    "          # plot=True, \n",
    "          # silent=True,\n",
    "          eval_set=data_test)\n",
    "         "
   ]
  },
  {
   "cell_type": "code",
   "execution_count": null,
   "id": "e64d1758-4422-46d2-800c-bc37e91bc2a5",
   "metadata": {},
   "outputs": [],
   "source": [
    "model.fit(data_train, eval_set=data_test, metric_period=10)"
   ]
  },
  {
   "cell_type": "code",
   "execution_count": null,
   "id": "b9603c34-9981-4d67-93fb-fb3714216ae9",
   "metadata": {},
   "outputs": [],
   "source": [
    "# увеличим число деревьев в два раза, до 200\n",
    "model = CatBoostClassifier(iterations=200,\n",
    "                                   depth=3,\n",
    "                                   learning_rate=0.5,\n",
    "                                   loss_function='Logloss', \n",
    "                                   eval_metric='F1')\n",
    "\n",
    "model.fit(data_train, \n",
    "          # plot=True, \n",
    "          # silent=True,\n",
    "          eval_set=data_test,\n",
    "          metric_period = 25)\n",
    "         "
   ]
  },
  {
   "cell_type": "code",
   "execution_count": null,
   "id": "36d31217-dcf3-476c-ac38-f24a8d49f1f7",
   "metadata": {},
   "outputs": [],
   "source": [
    "# Оптимизируется logloss, но наши целевые метрики не растут с одной из самых ранних итераций"
   ]
  },
  {
   "cell_type": "code",
   "execution_count": null,
   "id": "e3f9e448-387f-40aa-9dfd-e53700fb7d57",
   "metadata": {},
   "outputs": [],
   "source": [
    "# поменяем оптимизируемую метрику на AUC\n",
    "model = CatBoostClassifier(iterations=100,\n",
    "                                   depth=3,\n",
    "                                   learning_rate=0.5,\n",
    "                                   loss_function='Logloss', \n",
    "                                   eval_metric='AUC')\n",
    "\n",
    "# model.fit(data_train, \n",
    "#           plot=True, \n",
    "#           silent=True,\n",
    "#           eval_set=data_test)\n",
    "         "
   ]
  },
  {
   "cell_type": "code",
   "execution_count": null,
   "id": "9b1e4f2b-47c7-41b7-8982-a7fd3385a760",
   "metadata": {},
   "outputs": [],
   "source": [
    "# поменяем оптимизируемуб метрику на AUC\n",
    "model = CatBoostClassifier(iterations=200,\n",
    "                                   depth=3,\n",
    "                                   learning_rate=0.5,\n",
    "                                   loss_function='Logloss', \n",
    "                                   eval_metric='F1')\n",
    "\n",
    "# добавим остановку обучения, если целевая метрика НЕ МЕНЯЕТСЯ в течение некоторого числа итераций\n",
    "model.fit(data_train, \n",
    "          eval_set=data_test,\n",
    "          early_stopping_rounds=20)\n",
    "         "
   ]
  },
  {
   "cell_type": "markdown",
   "id": "f6f1fdaf-491f-447d-a6a8-1d7aaac6152c",
   "metadata": {},
   "source": [
    "# Сравним модели"
   ]
  },
  {
   "cell_type": "code",
   "execution_count": null,
   "id": "465a3ee1-c0b9-4129-ada7-ba0952fc32b5",
   "metadata": {},
   "outputs": [],
   "source": [
    "model1 = CatBoostClassifier(iterations=100,\n",
    "                            depth=3,\n",
    "                            learning_rate=0.5,\n",
    "                            loss_function='Logloss', \n",
    "                            eval_metric='F1',\n",
    "                            train_dir='lr0.5')\n",
    "model2 = CatBoostClassifier(iterations=100,\n",
    "                            depth=3,\n",
    "                            learning_rate=0.01,\n",
    "                            loss_function='Logloss', \n",
    "                            eval_metric='F1',\n",
    "                            train_dir='lr1')\n",
    "\n",
    "\n",
    "model1.fit(data_train, \n",
    "           eval_set=data_test,\n",
    "           silent=True,)\n",
    "model2.fit(data_train, \n",
    "           eval_set=data_test,\n",
    "           silent=True,)"
   ]
  },
  {
   "cell_type": "code",
   "execution_count": null,
   "id": "1ef758ed-48b0-4059-9f1a-9ee73a42b2d3",
   "metadata": {},
   "outputs": [],
   "source": [
    "from catboost import MetricVisualizer\n",
    "MetricVisualizer(['lr0.5', 'lr1']).start()"
   ]
  },
  {
   "cell_type": "markdown",
   "id": "2013738e-77ab-415c-9e67-5310ff2bcc17",
   "metadata": {},
   "source": [
    "# Кросс-валидация"
   ]
  },
  {
   "cell_type": "code",
   "execution_count": null,
   "id": "6c510365-9be6-4227-8675-3fb1159d30d4",
   "metadata": {},
   "outputs": [],
   "source": [
    "from catboost import cv\n",
    "\n",
    "params = {'loss_function': 'Logloss',\n",
    "          'iterations': 100,\n",
    "          'eval_metric': 'F1',\n",
    "          'learning_rate':0.2}\n",
    "\n",
    "cv_data = cv(\n",
    "    params = params,\n",
    "    pool = data_train,\n",
    "    fold_count = 5,\n",
    "    shuffle = True,\n",
    "    partition_random_seed = 42,\n",
    "    verbose=False,\n",
    "   # plot = True,\n",
    "   # stratified=True # пропорции в каждом фолде такие же, как и во всех данных\n",
    ")"
   ]
  },
  {
   "cell_type": "code",
   "execution_count": null,
   "id": "06bdc4f6-8c53-47c2-a5db-182730b26727",
   "metadata": {},
   "outputs": [],
   "source": [
    "from sklearn.model_selection import GridSearchCV\n",
    "from sklearn.metrics import make_scorer\n",
    "\n",
    "param_grid = {\n",
    "    \"learning_rate\": [0.0001, 0.01, 0.25, 0.7]\n",
    "}\n",
    "\n",
    "model = CatBoostClassifier(\n",
    "    iterations = 50,\n",
    "    metric_period=50,\n",
    "    verbose=True,\n",
    "    eval_metric='F1',\n",
    "    cat_features=X_train.columns.values\n",
    ")\n",
    "\n",
    "scorer = make_scorer(f1_score, greater_is_better=True)\n",
    "\n",
    "grid_search = GridSearchCV(model, param_grid=param_grid, cv=5, verbose=True, n_jobs=1, scoring=scorer)\n",
    "results = grid_search.fit(X_train, y_train)"
   ]
  },
  {
   "cell_type": "code",
   "execution_count": null,
   "id": "211e9373-92a1-49f2-b86d-c0bb875ad3ae",
   "metadata": {},
   "outputs": [],
   "source": [
    "results.best_estimator_"
   ]
  },
  {
   "cell_type": "code",
   "execution_count": null,
   "id": "1ec39475-83f0-4f63-ba4d-0246d888f8b9",
   "metadata": {},
   "outputs": [],
   "source": [
    "results.best_estimator_.get_params()"
   ]
  },
  {
   "cell_type": "markdown",
   "id": "e080ffc2-4360-4466-bf91-8f829b843a7d",
   "metadata": {},
   "source": [
    "# Предскажем и оценим"
   ]
  },
  {
   "cell_type": "code",
   "execution_count": null,
   "id": "b8d52c43-b73a-4326-8080-066b89e73f81",
   "metadata": {},
   "outputs": [],
   "source": [
    "model = CatBoostClassifier(\n",
    "    eval_metric='F1',\n",
    "    iterations=200,\n",
    "    learning_rate=0.5,\n",
    "    early_stopping_rounds=20\n",
    ")\n",
    "\n",
    "model.fit(\n",
    "    data_test,\n",
    "    eval_set=data_test,\n",
    "#     silent=True,\n",
    "#     plot=True\n",
    ")"
   ]
  },
  {
   "cell_type": "code",
   "execution_count": null,
   "id": "bef8af07-3bf9-42b2-8e87-1b5210f6d988",
   "metadata": {},
   "outputs": [],
   "source": [
    "model.get_params()"
   ]
  },
  {
   "cell_type": "code",
   "execution_count": null,
   "id": "70473bfd-3c89-46cd-8bdb-2a963f30279f",
   "metadata": {},
   "outputs": [],
   "source": [
    "model.predict(X_test)"
   ]
  },
  {
   "cell_type": "code",
   "execution_count": null,
   "id": "c0a670c4-aeb1-41b6-94c5-c242e67a57b3",
   "metadata": {},
   "outputs": [],
   "source": [
    "model.predict_proba(X_test) # вероятности (получили путём применения сигмоиды к полученным значениями в листьях)"
   ]
  },
  {
   "cell_type": "code",
   "execution_count": null,
   "id": "5afad004-d858-4899-b8ea-22ae012a0c58",
   "metadata": {},
   "outputs": [],
   "source": [
    "# сырые значения функции предсказания\n",
    "model.predict(X_test, prediction_type='RawFormulaVal')"
   ]
  },
  {
   "cell_type": "markdown",
   "id": "f12e4690-12ac-444c-8257-94e1699aef96",
   "metadata": {},
   "source": [
    "$$ S(x) = \\frac{1}{1 + e^{-x}}$$"
   ]
  },
  {
   "cell_type": "code",
   "execution_count": null,
   "id": "bee77ab5-e75c-4964-9642-2aa40f48ed1e",
   "metadata": {},
   "outputs": [],
   "source": [
    "sigmoid = lambda x : 1 / (1 + np.exp(-x)) # написали сами сигмоиду\n",
    "\n",
    "raw = model.predict(X_test, prediction_type='RawFormulaVal')\n",
    "\n",
    "probabilities = sigmoid(raw)"
   ]
  },
  {
   "cell_type": "code",
   "execution_count": null,
   "id": "770fb2ee-204a-40d9-b2ec-6563d3bd51e0",
   "metadata": {},
   "outputs": [],
   "source": [
    "(model.predict_proba(X_test)[:, 1] != probabilities).sum() # вероятности принадлежать целевому классу совпали везде"
   ]
  },
  {
   "cell_type": "markdown",
   "id": "ee58137e-f29d-4cfc-afcd-41cb600ccb09",
   "metadata": {},
   "source": [
    " # Feature importance"
   ]
  },
  {
   "cell_type": "code",
   "execution_count": null,
   "id": "f869f338-91fd-41fb-8970-c8180f944259",
   "metadata": {},
   "outputs": [],
   "source": [
    "model.get_feature_importance(prettified=True)"
   ]
  },
  {
   "cell_type": "code",
   "execution_count": null,
   "id": "14c76c63-fa5c-41cb-b054-90497ec079cf",
   "metadata": {},
   "outputs": [],
   "source": [
    "model.get_feature_importance(prettified=True).Importances.sum()"
   ]
  },
  {
   "cell_type": "markdown",
   "id": "5f9aed5e-a56a-4089-9d5e-2c4b4e0d478d",
   "metadata": {},
   "source": [
    "# SHAP"
   ]
  },
  {
   "cell_type": "markdown",
   "id": "37d1f48f-ee4c-4e47-9fce-b1c7c32525c2",
   "metadata": {},
   "source": [
    "https://medium.com/dataman-in-ai/explain-your-model-with-the-shap-values-bc36aac4de3d\n",
    "<img src=\"https://raw.githubusercontent.com/slundberg/shap/master/docs/artwork/mnist_image_plot.png\" />"
   ]
  },
  {
   "cell_type": "code",
   "execution_count": null,
   "id": "3d31b218-a6fc-46f4-b498-6c5fb3149354",
   "metadata": {},
   "outputs": [],
   "source": [
    "# !pip install shap"
   ]
  },
  {
   "cell_type": "code",
   "execution_count": null,
   "id": "0b774a33-9e31-4be3-ae42-fe9368415f56",
   "metadata": {},
   "outputs": [],
   "source": [
    "shap_values = model.get_feature_importance(data_test, 'ShapValues')\n",
    "shap_values"
   ]
  },
  {
   "cell_type": "code",
   "execution_count": null,
   "id": "19f5cd09-4e24-4a67-a5a1-1b71b9929195",
   "metadata": {},
   "outputs": [],
   "source": [
    "X_test.shape"
   ]
  },
  {
   "cell_type": "code",
   "execution_count": null,
   "id": "9aa06165-6a21-47eb-9ca8-2a79a4adb82f",
   "metadata": {},
   "outputs": [],
   "source": [
    "shap_values.shape"
   ]
  },
  {
   "cell_type": "code",
   "execution_count": null,
   "id": "b471ac29-fac7-4821-a7a1-2b813a2c710b",
   "metadata": {},
   "outputs": [],
   "source": [
    "expected_value = shap_values[1, -1]\n",
    "expected_value"
   ]
  },
  {
   "cell_type": "code",
   "execution_count": null,
   "id": "0072a59a-9fd3-4af6-ae95-26aeb4c306e7",
   "metadata": {},
   "outputs": [],
   "source": [
    "shap_values = shap_values[:, :-1]"
   ]
  },
  {
   "cell_type": "code",
   "execution_count": null,
   "id": "ce92b6f8-f2c3-4533-8eea-0ada545fcdfa",
   "metadata": {},
   "outputs": [],
   "source": [
    "shap_values[1, :].shape"
   ]
  },
  {
   "cell_type": "code",
   "execution_count": null,
   "id": "026281fe-86cf-4f09-b576-e4f709a93112",
   "metadata": {},
   "outputs": [],
   "source": [
    "y_test.values[1]"
   ]
  },
  {
   "cell_type": "code",
   "execution_count": null,
   "id": "3055f87f-9101-4b39-9e7e-3c70dbcfb3eb",
   "metadata": {},
   "outputs": [],
   "source": [
    "import shap\n",
    "\n",
    "shap.initjs()\n",
    "shap.force_plot(expected_value, shap_values[1, :], X_test.iloc[1, :])"
   ]
  },
  {
   "cell_type": "code",
   "execution_count": null,
   "id": "d50a4a97-cc49-4625-b4ca-e8a2ec2cb022",
   "metadata": {},
   "outputs": [],
   "source": [
    "y_test.values[5]"
   ]
  },
  {
   "cell_type": "code",
   "execution_count": null,
   "id": "62a78647-d064-40cb-bb44-a3ae3ccc21fc",
   "metadata": {},
   "outputs": [],
   "source": [
    "shap.initjs() # пример, где признаки вносят \"отрицательный\" вклад\n",
    "shap.force_plot(expected_value, shap_values[5, :], X_test.iloc[5, :])"
   ]
  },
  {
   "cell_type": "code",
   "execution_count": null,
   "id": "92ae3763-f72c-4018-8559-889042337ef6",
   "metadata": {},
   "outputs": [],
   "source": [
    "shap_values = model.get_feature_importance(data_test, 'ShapValues')\n",
    "shap_values"
   ]
  },
  {
   "cell_type": "code",
   "execution_count": null,
   "id": "153d8356-26e7-46bf-8150-d70565eea57b",
   "metadata": {},
   "outputs": [],
   "source": [
    "shap_values = model.get_feature_importance(data_test, 'ShapValues')\n",
    "shap_values = shap_values[:, :-1] # последний столбец -- среднее значение \"функции\" (оно одинаково для всех. это свободный член)\n",
    "shap.summary_plot(shap_values, X_test)\n",
    "\n",
    "# окраски нет, потому что данные категориальные, а их кодирование в числа происходит внутри "
   ]
  },
  {
   "cell_type": "code",
   "execution_count": null,
   "id": "56794754-90ea-45bb-9e43-73f7a2f2b955",
   "metadata": {},
   "outputs": [],
   "source": [
    "X_test.shape"
   ]
  },
  {
   "cell_type": "markdown",
   "id": "1e73add2-1587-40d8-b0e8-451a743546cb",
   "metadata": {},
   "source": [
    "# Практика"
   ]
  },
  {
   "cell_type": "code",
   "execution_count": null,
   "id": "02e4f373-cb7a-4796-b4fd-c6a1a9414597",
   "metadata": {},
   "outputs": [],
   "source": [
    "from sklearn.datasets import load_digits # MNIST"
   ]
  },
  {
   "cell_type": "code",
   "execution_count": null,
   "id": "b8bebf1b-7dfd-4783-a913-1ff6958306b3",
   "metadata": {},
   "outputs": [],
   "source": [
    "X, y = load_digits(n_class=10, return_X_y=True, as_frame=False)"
   ]
  },
  {
   "cell_type": "code",
   "execution_count": null,
   "id": "c6e8a27d-3f74-4082-a556-68d4580f7396",
   "metadata": {},
   "outputs": [],
   "source": [
    "X.shape"
   ]
  },
  {
   "cell_type": "code",
   "execution_count": null,
   "id": "4f5e5845-7cae-4492-b4e0-ef5376cd25b6",
   "metadata": {},
   "outputs": [],
   "source": [
    "y.shape"
   ]
  },
  {
   "cell_type": "code",
   "execution_count": null,
   "id": "d85cd022-a470-450a-9957-aa88ee077843",
   "metadata": {},
   "outputs": [],
   "source": [
    "plt.figure(figsize=(16, 6))\n",
    "for i in range(10):\n",
    "    plt.subplot(2, 5, i + 1)\n",
    "    plt.imshow(X[i,:].reshape([8,8]));"
   ]
  },
  {
   "cell_type": "code",
   "execution_count": null,
   "id": "cd8bdb43-8f12-4596-844f-60915fcb4c19",
   "metadata": {},
   "outputs": [],
   "source": [
    "X_train, X_test, y_train, y_test = train_test_split(X, y, random_state=15062023, test_size=0.25)"
   ]
  },
  {
   "cell_type": "markdown",
   "id": "431a1db1-53d7-4ceb-8e53-97281d8e7ade",
   "metadata": {},
   "source": [
    "# Многоклассовая логистическая регрессия"
   ]
  },
  {
   "cell_type": "code",
   "execution_count": null,
   "id": "8426ed87-2629-4c1d-9db3-9b7b33f44801",
   "metadata": {},
   "outputs": [],
   "source": [
    "from sklearn.preprocessing import StandardScaler\n",
    "\n",
    "scaler = StandardScaler()\n",
    "\n",
    "X_train_sc = scaler.fit_transform(X_train)\n",
    "X_test_sc = scaler.transform(X_test)"
   ]
  },
  {
   "cell_type": "code",
   "execution_count": null,
   "id": "d851c384-d169-4d85-b69b-280ace16aad1",
   "metadata": {},
   "outputs": [],
   "source": [
    "from sklearn.linear_model import LogisticRegression\n",
    "from sklearn.metrics import accuracy_score"
   ]
  },
  {
   "cell_type": "code",
   "execution_count": null,
   "id": "9ac0f0da-a6c3-4af6-8160-637c63d956ef",
   "metadata": {},
   "outputs": [],
   "source": [
    "model = LogisticRegression()\n",
    "\n",
    "model.fit(X_train, y_train)\n",
    "\n",
    "accuracy_score(y_test, model.predict(X_test))"
   ]
  },
  {
   "cell_type": "code",
   "execution_count": null,
   "id": "e346eb83-f3b1-4d17-a5e0-8a028facd301",
   "metadata": {},
   "outputs": [],
   "source": [
    "model = LogisticRegression()\n",
    "\n",
    "model.fit(X_train_sc, y_train)\n",
    "\n",
    "accuracy_score(y_test, model.predict(X_test_sc))"
   ]
  },
  {
   "cell_type": "markdown",
   "id": "d3c7c288-23b7-4bea-ac1e-a1458af7444f",
   "metadata": {},
   "source": [
    "# SVM"
   ]
  },
  {
   "cell_type": "code",
   "execution_count": null,
   "id": "c852f502-4b1e-48ef-81f5-0a71c7ef5ec1",
   "metadata": {},
   "outputs": [],
   "source": []
  },
  {
   "cell_type": "markdown",
   "id": "5a8a81e3-d028-4d7a-a7b6-38b3ec93428c",
   "metadata": {},
   "source": [
    "# Метод K-ближайших соседей"
   ]
  },
  {
   "cell_type": "code",
   "execution_count": null,
   "id": "06af53f2-9497-4c8a-a86c-5875c197a777",
   "metadata": {},
   "outputs": [],
   "source": [
    "from sklearn.neighbors import KNeighborsClassifier"
   ]
  },
  {
   "cell_type": "code",
   "execution_count": null,
   "id": "e79a986f-56a0-4c18-973a-3b7af4feaff4",
   "metadata": {},
   "outputs": [],
   "source": [
    "params = {'n_neighbors': [2, 3, 4, 5, 7, 10, 15]}\n",
    "\n",
    "model = GridSearchCV(KNeighborsClassifier(), params, verbose=False)\n",
    "\n",
    "model.fit(X_train, y_train)\n",
    "\n",
    "print(model.best_params_)\n",
    "accuracy_score(y_test, model.best_estimator_.predict(X_test))"
   ]
  },
  {
   "cell_type": "code",
   "execution_count": null,
   "id": "69bbd1cf-1051-456f-97bf-14297626ad23",
   "metadata": {},
   "outputs": [],
   "source": [
    "params = {'n_neighbors': [2, 3, 4, 5, 7, 10, 15]}\n",
    "\n",
    "model = GridSearchCV(KNeighborsClassifier(), params, verbose=False)\n",
    "\n",
    "model.fit(X_train_sc, y_train)\n",
    "\n",
    "print(model.best_params_)\n",
    "accuracy_score(y_test, model.best_estimator_.predict(X_test_sc))"
   ]
  },
  {
   "cell_type": "markdown",
   "id": "31e75651-5b0f-41ef-b77b-db351ffb704e",
   "metadata": {},
   "source": [
    "# Дерево решений"
   ]
  },
  {
   "cell_type": "code",
   "execution_count": null,
   "id": "7808abc1-108f-456d-b1a4-6b5fcd27c619",
   "metadata": {},
   "outputs": [],
   "source": []
  },
  {
   "cell_type": "markdown",
   "id": "9bae05ee-0a5b-4dd4-a29a-1b944375c0bf",
   "metadata": {},
   "source": [
    "# Случайный лес"
   ]
  },
  {
   "cell_type": "code",
   "execution_count": null,
   "id": "f892309b-dacf-4e3f-ae69-3cc2c308362e",
   "metadata": {},
   "outputs": [],
   "source": []
  },
  {
   "cell_type": "markdown",
   "id": "50781ccc-f31e-4f3c-b603-87f8152ea721",
   "metadata": {},
   "source": [
    "# Градиентный бустинг решающих деревьев"
   ]
  },
  {
   "cell_type": "code",
   "execution_count": null,
   "id": "9e97c5cf-1589-42aa-9b17-0f92fbbc5802",
   "metadata": {},
   "outputs": [],
   "source": [
    "from catboost import CatBoostClassifier, Pool"
   ]
  },
  {
   "cell_type": "code",
   "execution_count": null,
   "id": "ee89bb11-06ff-44ee-965e-065cf1e8955f",
   "metadata": {},
   "outputs": [],
   "source": [
    "data_train = Pool(data=X_train, label=y_train)\n",
    "data_test = Pool(data=X_test, label=y_test)"
   ]
  },
  {
   "cell_type": "code",
   "execution_count": null,
   "id": "c7ffcf3e-1718-4e4f-ad00-4d97d9d87010",
   "metadata": {},
   "outputs": [],
   "source": [
    "model = CatBoostClassifier(iterations=100,\n",
    "                           early_stopping_rounds=10,\n",
    "                           eval_metric='AUC')"
   ]
  },
  {
   "cell_type": "code",
   "execution_count": null,
   "id": "c1abaab5-9ebf-4523-8cc6-f19464701483",
   "metadata": {},
   "outputs": [],
   "source": [
    "model.fit(data_train, eval_set=data_test)"
   ]
  },
  {
   "cell_type": "code",
   "execution_count": null,
   "id": "6846c506-e625-47cd-a55c-334ab186b86d",
   "metadata": {},
   "outputs": [],
   "source": [
    "accuracy_score(y_test, model.predict(data_test))"
   ]
  },
  {
   "cell_type": "code",
   "execution_count": null,
   "id": "f442662a-836b-466d-8fff-5715a6062461",
   "metadata": {},
   "outputs": [],
   "source": [
    "shap_values.shape"
   ]
  },
  {
   "cell_type": "code",
   "execution_count": null,
   "id": "e163619b-4d8d-4323-94b8-e0c1d31c8c82",
   "metadata": {},
   "outputs": [],
   "source": [
    "shap_values = model.get_feature_importance(data_test, 'ShapValues')"
   ]
  },
  {
   "cell_type": "code",
   "execution_count": null,
   "id": "38dfa97a-e00c-4bd3-9424-8558c2e6fcca",
   "metadata": {},
   "outputs": [],
   "source": [
    "shap_values.shape"
   ]
  },
  {
   "cell_type": "code",
   "execution_count": null,
   "id": "1ea3c997-1348-4c14-9335-d3693a458bf2",
   "metadata": {},
   "outputs": [],
   "source": [
    "shap_values = shap_values[:, :, :-1] # последний столбец -- среднее значение \"функции\" (оно одинаково для всех. это свободный член)"
   ]
  },
  {
   "cell_type": "code",
   "execution_count": null,
   "id": "52043b3b-6617-4c47-8eb8-f705cfe7a73a",
   "metadata": {},
   "outputs": [],
   "source": [
    "shap_values.shape"
   ]
  },
  {
   "cell_type": "code",
   "execution_count": null,
   "id": "e8c20938-2765-4c98-8b9c-bafa1ee83a42",
   "metadata": {},
   "outputs": [],
   "source": [
    "\n",
    "shap.summary_plot(shap_values[:, 3, :], X_test)\n",
    "\n",
    "# окраски нет, потому что данные категориальные, а их кодирование в числа происходит внутри "
   ]
  },
  {
   "cell_type": "code",
   "execution_count": null,
   "id": "ab42d4c4-3d15-42e4-9c54-4d1f16d0096e",
   "metadata": {},
   "outputs": [],
   "source": []
  }
 ],
 "metadata": {
  "kernelspec": {
   "display_name": "hock",
   "language": "python",
   "name": "hock"
  },
  "language_info": {
   "codemirror_mode": {
    "name": "ipython",
    "version": 3
   },
   "file_extension": ".py",
   "mimetype": "text/x-python",
   "name": "python",
   "nbconvert_exporter": "python",
   "pygments_lexer": "ipython3",
   "version": "3.11.7"
  }
 },
 "nbformat": 4,
 "nbformat_minor": 5
}
