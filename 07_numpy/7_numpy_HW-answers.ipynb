{
 "cells": [
  {
   "cell_type": "markdown",
   "id": "9d54f34b-7108-471d-9b56-71aa52f24787",
   "metadata": {},
   "source": [
    "# ДЗ NumPy\n",
    "\n",
    "<h3>\n",
    "В этом ноутбуке я собрал несколько достаточно базовых запросов к NumPy. Попробуйте справиться с ними :) \n",
    "<br>\n",
    "К некоторым заданиям прилагаю QR код с подсказкой. \n",
    "<br>\n",
    "Если будет лень искать нужную функцию в документации или интернете, то можете просто считать QR код.<br>\n",
    "<b>Удачи!</b>\n",
    "</h3>\n",
    "\n",
    "<H2>Справка:</H2>\n",
    "\n",
    "* Коротко про всё необходимое <a href=\"https://www.datacamp.com/cheat-sheet/numpy-cheat-sheet-data-analysis-in-python\">здесь</a>;<br>\n",
    "* Набор шпаргалок (<a href=\"https://web.itu.edu.tr/iguzel/files/Python_Cheat_Sheets.pdf\">тык</a>), рекомендую скачать.\n",
    "\n",
    "<img src=\"hints/meme.jpg\"/>"
   ]
  },
  {
   "cell_type": "code",
   "execution_count": null,
   "id": "b2850801-fd30-4464-ad41-ef06f5a14433",
   "metadata": {},
   "outputs": [],
   "source": []
  },
  {
   "cell_type": "markdown",
   "id": "128d96e8-3c83-48d3-ad5a-0b00aa4bcb51",
   "metadata": {},
   "source": [
    "### 1. Импортируйте `numpy` с сокращением `np`."
   ]
  },
  {
   "cell_type": "code",
   "execution_count": 1,
   "id": "299a3364-2467-4de6-a97a-cf25861b6490",
   "metadata": {
    "execution": {
     "iopub.execute_input": "2023-04-10T16:34:03.631927Z",
     "iopub.status.busy": "2023-04-10T16:34:03.631927Z",
     "iopub.status.idle": "2023-04-10T16:34:04.051922Z",
     "shell.execute_reply": "2023-04-10T16:34:04.050925Z",
     "shell.execute_reply.started": "2023-04-10T16:34:03.631927Z"
    }
   },
   "outputs": [],
   "source": [
    "import numpy as np"
   ]
  },
  {
   "cell_type": "markdown",
   "id": "bb58de46-edc2-4560-97a1-16e16f8c666a",
   "metadata": {
    "tags": []
   },
   "source": [
    "### 2. Создайте вектор из десяти нулей.\n",
    "\n",
    "<b>hint</b><br>\n",
    "<img src=\"hints/2.png\" width=300em/>"
   ]
  },
  {
   "cell_type": "code",
   "execution_count": 9,
   "id": "9c2723a0-381b-4b9c-921e-dbd88bd931a2",
   "metadata": {
    "execution": {
     "iopub.execute_input": "2023-04-10T16:35:29.442093Z",
     "iopub.status.busy": "2023-04-10T16:35:29.441092Z",
     "iopub.status.idle": "2023-04-10T16:35:29.451098Z",
     "shell.execute_reply": "2023-04-10T16:35:29.450092Z",
     "shell.execute_reply.started": "2023-04-10T16:35:29.442093Z"
    },
    "tags": []
   },
   "outputs": [
    {
     "data": {
      "text/plain": [
       "array([0., 0., 0., 0., 0., 0., 0., 0., 0., 0.])"
      ]
     },
     "execution_count": 9,
     "metadata": {},
     "output_type": "execute_result"
    }
   ],
   "source": [
    "arr = np.zeros(10)\n",
    "arr"
   ]
  },
  {
   "cell_type": "markdown",
   "id": "d87d582b-7e0b-4bbd-bc88-d5c43c3892ef",
   "metadata": {},
   "source": [
    "### 3. Определите атрибуты с информацией о весе одного элемента вектора. Определите вес созданного ранее вектора. (Весом буду называют занимаемое в метсо в памяти).\n",
    "\n",
    "<b>hint</b><br>\n",
    "<img src=\"hints/3.png\" width=300em/>"
   ]
  },
  {
   "cell_type": "code",
   "execution_count": 11,
   "id": "ca66d5f3-4fb3-4774-bb55-0bcbb2a1ba01",
   "metadata": {
    "execution": {
     "iopub.execute_input": "2023-04-10T16:35:44.697932Z",
     "iopub.status.busy": "2023-04-10T16:35:44.695932Z",
     "iopub.status.idle": "2023-04-10T16:35:44.709932Z",
     "shell.execute_reply": "2023-04-10T16:35:44.707937Z",
     "shell.execute_reply.started": "2023-04-10T16:35:44.697932Z"
    },
    "tags": []
   },
   "outputs": [
    {
     "data": {
      "text/plain": [
       "8"
      ]
     },
     "execution_count": 11,
     "metadata": {},
     "output_type": "execute_result"
    }
   ],
   "source": [
    "arr.itemsize"
   ]
  },
  {
   "cell_type": "code",
   "execution_count": 12,
   "id": "71aa1951-9fd8-4e49-8042-173dbe0223fb",
   "metadata": {
    "execution": {
     "iopub.execute_input": "2023-04-10T16:35:52.144931Z",
     "iopub.status.busy": "2023-04-10T16:35:52.143966Z",
     "iopub.status.idle": "2023-04-10T16:35:52.167930Z",
     "shell.execute_reply": "2023-04-10T16:35:52.165937Z",
     "shell.execute_reply.started": "2023-04-10T16:35:52.144931Z"
    }
   },
   "outputs": [
    {
     "data": {
      "text/plain": [
       "80"
      ]
     },
     "execution_count": 12,
     "metadata": {},
     "output_type": "execute_result"
    }
   ],
   "source": [
    "arr.itemsize * arr.size"
   ]
  },
  {
   "cell_type": "markdown",
   "id": "a0780dda-6a7b-4fc4-a178-59ebba46bf81",
   "metadata": {},
   "source": [
    "### 4. Создайтек вектор из 10 нулей и замените пятый элемент на единицу.\n",
    "\n",
    "<b>hint</b><br>\n",
    "<img src=\"hints/4.png\" width=300em/>"
   ]
  },
  {
   "cell_type": "code",
   "execution_count": 13,
   "id": "a47a3b15-6a08-4320-9f1f-8fbfa970b832",
   "metadata": {
    "execution": {
     "iopub.execute_input": "2023-04-10T16:36:13.459531Z",
     "iopub.status.busy": "2023-04-10T16:36:13.458530Z",
     "iopub.status.idle": "2023-04-10T16:36:13.478527Z",
     "shell.execute_reply": "2023-04-10T16:36:13.476534Z",
     "shell.execute_reply.started": "2023-04-10T16:36:13.459531Z"
    }
   },
   "outputs": [
    {
     "data": {
      "text/plain": [
       "array([0., 0., 0., 0., 0., 0., 0., 0., 0., 0.])"
      ]
     },
     "execution_count": 13,
     "metadata": {},
     "output_type": "execute_result"
    }
   ],
   "source": [
    "arr"
   ]
  },
  {
   "cell_type": "code",
   "execution_count": 14,
   "id": "0b5bcee8-b1b7-4952-bed0-f2e41d917b99",
   "metadata": {
    "execution": {
     "iopub.execute_input": "2023-04-10T16:36:19.904533Z",
     "iopub.status.busy": "2023-04-10T16:36:19.903534Z",
     "iopub.status.idle": "2023-04-10T16:36:19.921530Z",
     "shell.execute_reply": "2023-04-10T16:36:19.919528Z",
     "shell.execute_reply.started": "2023-04-10T16:36:19.904533Z"
    }
   },
   "outputs": [
    {
     "data": {
      "text/plain": [
       "array([0., 0., 0., 0., 1., 0., 0., 0., 0., 0.])"
      ]
     },
     "execution_count": 14,
     "metadata": {},
     "output_type": "execute_result"
    }
   ],
   "source": [
    "arr[4] = 1\n",
    "arr"
   ]
  },
  {
   "cell_type": "markdown",
   "id": "b6b80605-0f15-49be-82fb-87eeefe91ebf",
   "metadata": {},
   "source": [
    "### 5. Создайте вектор с целыми числами от 10 до 42, включая концы.\n",
    "<b>hint</b><br>\n",
    "<img src=\"hints/5.png\" width=300em/>"
   ]
  },
  {
   "cell_type": "code",
   "execution_count": 15,
   "id": "0068908e-9bef-415c-866d-a16815adfa31",
   "metadata": {
    "execution": {
     "iopub.execute_input": "2023-04-10T16:36:42.907891Z",
     "iopub.status.busy": "2023-04-10T16:36:42.906892Z",
     "iopub.status.idle": "2023-04-10T16:36:42.926895Z",
     "shell.execute_reply": "2023-04-10T16:36:42.925891Z",
     "shell.execute_reply.started": "2023-04-10T16:36:42.907891Z"
    }
   },
   "outputs": [
    {
     "data": {
      "text/plain": [
       "array([10, 11, 12, 13, 14, 15, 16, 17, 18, 19, 20, 21, 22, 23, 24, 25, 26,\n",
       "       27, 28, 29, 30, 31, 32, 33, 34, 35, 36, 37, 38, 39, 40, 41, 42])"
      ]
     },
     "execution_count": 15,
     "metadata": {},
     "output_type": "execute_result"
    }
   ],
   "source": [
    "np.arange(10, 43)"
   ]
  },
  {
   "cell_type": "markdown",
   "id": "1b2be230-105c-4845-a54c-22ae79d682f5",
   "metadata": {},
   "source": [
    "### 6. Создайте вектор с числами от -5 до 5 с шагом 0.25, включая концы."
   ]
  },
  {
   "cell_type": "code",
   "execution_count": 17,
   "id": "f70ac7c4-3f9f-480f-928d-77c32a14390c",
   "metadata": {
    "execution": {
     "iopub.execute_input": "2023-04-10T16:37:09.902882Z",
     "iopub.status.busy": "2023-04-10T16:37:09.901870Z",
     "iopub.status.idle": "2023-04-10T16:37:09.912868Z",
     "shell.execute_reply": "2023-04-10T16:37:09.911870Z",
     "shell.execute_reply.started": "2023-04-10T16:37:09.902882Z"
    },
    "tags": []
   },
   "outputs": [
    {
     "data": {
      "text/plain": [
       "array([-5.  , -4.75, -4.5 , -4.25, -4.  , -3.75, -3.5 , -3.25, -3.  ,\n",
       "       -2.75, -2.5 , -2.25, -2.  , -1.75, -1.5 , -1.25, -1.  , -0.75,\n",
       "       -0.5 , -0.25,  0.  ,  0.25,  0.5 ,  0.75,  1.  ,  1.25,  1.5 ,\n",
       "        1.75,  2.  ,  2.25,  2.5 ,  2.75,  3.  ,  3.25,  3.5 ,  3.75,\n",
       "        4.  ,  4.25,  4.5 ,  4.75,  5.  ])"
      ]
     },
     "execution_count": 17,
     "metadata": {},
     "output_type": "execute_result"
    }
   ],
   "source": [
    "np.arange(-5, 5.1, 0.25)"
   ]
  },
  {
   "cell_type": "markdown",
   "id": "0995e945-a2ce-45d2-a9d2-8fbe56749d38",
   "metadata": {},
   "source": [
    "### 7. Создайте вектор с числами от 0 до 50, не включая 50. \"Разверните\" его.\n",
    "\n",
    "<b>hint</b><br>\n",
    "<img src=\"hints/7.png\" width=300em/>"
   ]
  },
  {
   "cell_type": "code",
   "execution_count": 23,
   "id": "4cd99126-1d27-4b44-8677-0b06b9f98a42",
   "metadata": {
    "execution": {
     "iopub.execute_input": "2023-04-10T16:38:04.195994Z",
     "iopub.status.busy": "2023-04-10T16:38:04.195994Z",
     "iopub.status.idle": "2023-04-10T16:38:04.213994Z",
     "shell.execute_reply": "2023-04-10T16:38:04.213031Z",
     "shell.execute_reply.started": "2023-04-10T16:38:04.195994Z"
    },
    "tags": []
   },
   "outputs": [
    {
     "data": {
      "text/plain": [
       "array([49, 48, 47, 46, 45, 44, 43, 42, 41, 40, 39, 38, 37, 36, 35, 34, 33,\n",
       "       32, 31, 30, 29, 28, 27, 26, 25, 24, 23, 22, 21, 20, 19, 18, 17, 16,\n",
       "       15, 14, 13, 12, 11, 10,  9,  8,  7,  6,  5,  4,  3,  2,  1,  0])"
      ]
     },
     "execution_count": 23,
     "metadata": {},
     "output_type": "execute_result"
    }
   ],
   "source": [
    "np.arange(50)[::-1]"
   ]
  },
  {
   "cell_type": "markdown",
   "id": "575d67ac-296d-47de-bddd-85af4aad4064",
   "metadata": {},
   "source": [
    "### 8. Создайты матрицу из случайных чисел размера 10 на 10.\n",
    "\n",
    "<b>hint</b><br>\n",
    "<img src=\"hints/8.png\" width=300em/>"
   ]
  },
  {
   "cell_type": "code",
   "execution_count": 27,
   "id": "3a7b93d6-d2ed-4beb-9677-9882e4ed538e",
   "metadata": {
    "execution": {
     "iopub.execute_input": "2023-04-10T16:40:28.759377Z",
     "iopub.status.busy": "2023-04-10T16:40:28.759377Z",
     "iopub.status.idle": "2023-04-10T16:40:28.769376Z",
     "shell.execute_reply": "2023-04-10T16:40:28.768378Z",
     "shell.execute_reply.started": "2023-04-10T16:40:28.759377Z"
    },
    "tags": []
   },
   "outputs": [
    {
     "data": {
      "text/plain": [
       "array([[-439.68828256,  104.71949461, -233.24288952, -108.99190585,\n",
       "         333.36022181, -109.57723062, -103.72538741,  -14.04698706,\n",
       "        -497.3144569 ,  335.5854749 ],\n",
       "       [ 221.44120187,  151.27809501, -168.1430887 ,  199.38022216,\n",
       "        -238.57282363,   41.49622508,  -61.46460033, -153.97669649,\n",
       "        -420.68142458,   68.33283165],\n",
       "       [ -81.29911318, -352.84112246,   53.73615858,  129.13633013,\n",
       "         279.47576879, -347.61117331, -182.21728849,   47.85491167,\n",
       "        -449.51798656,  -68.44625499],\n",
       "       [  81.31874451, -184.82019926,  436.02408708,  172.31625472,\n",
       "         480.84141161, -419.88744063, -113.12333103,  170.4297528 ,\n",
       "        -479.12973061,   16.68618724],\n",
       "       [ 364.34217969, -110.68027023,  136.43780559, -327.48087745,\n",
       "        -221.14880302, -289.51053457, -406.7202006 ,  383.14437975,\n",
       "        -475.72251283,  344.73804705],\n",
       "       [ 123.76110344, -239.2015124 ,  166.45240082,  -43.47222622,\n",
       "        -329.99202136,  383.90231299, -386.3656138 ,   61.63568202,\n",
       "         489.51854616, -397.91825662],\n",
       "       [-263.18446466, -269.41662277,  137.60569664, -192.18922609,\n",
       "          60.08974489,   52.49741311,  294.9932521 ,  119.65305669,\n",
       "          14.92914601,  445.57744493],\n",
       "       [ 332.44383239, -416.54813638, -204.12303185, -303.22172831,\n",
       "        -288.89734996, -368.59550046, -220.3108133 ,  262.4590063 ,\n",
       "          23.75935741, -443.09516207],\n",
       "       [ 214.67969835,  301.87945893,  -98.30296479, -233.08770975,\n",
       "        -489.08627609,  422.90810712,  304.7395482 ,  491.27299075,\n",
       "           7.43269666,  -15.41448903],\n",
       "       [ 277.5183569 , -123.41669133,   16.03380951,  324.71101426,\n",
       "         493.12078702, -280.92554015,   41.49825584,  490.05057372,\n",
       "        -435.06934232,  448.66073051]])"
      ]
     },
     "execution_count": 27,
     "metadata": {},
     "output_type": "execute_result"
    }
   ],
   "source": [
    "m = (np.random.rand(10, 10) - 0.5) * 1000\n",
    "m"
   ]
  },
  {
   "cell_type": "markdown",
   "id": "c46c7537-71be-4c5b-9453-3f07367b2cd0",
   "metadata": {},
   "source": [
    "### 9. Определите минимум и максимум матрицы.\n",
    "\n",
    "<b>hint</b><br>\n",
    "<img src=\"hints/9.png\" width=300em/>"
   ]
  },
  {
   "cell_type": "code",
   "execution_count": 31,
   "id": "270be469-af37-4979-88f0-62604df8fab4",
   "metadata": {
    "execution": {
     "iopub.execute_input": "2023-04-10T16:40:51.309789Z",
     "iopub.status.busy": "2023-04-10T16:40:51.308831Z",
     "iopub.status.idle": "2023-04-10T16:40:51.331788Z",
     "shell.execute_reply": "2023-04-10T16:40:51.330791Z",
     "shell.execute_reply.started": "2023-04-10T16:40:51.309789Z"
    },
    "tags": []
   },
   "outputs": [
    {
     "data": {
      "text/plain": [
       "True"
      ]
     },
     "execution_count": 31,
     "metadata": {},
     "output_type": "execute_result"
    }
   ],
   "source": [
    "m.min() == np.min(m)"
   ]
  },
  {
   "cell_type": "code",
   "execution_count": 32,
   "id": "9375b078-ab4d-4bb3-9eb3-b45a0adcf255",
   "metadata": {
    "execution": {
     "iopub.execute_input": "2023-04-10T16:40:56.408359Z",
     "iopub.status.busy": "2023-04-10T16:40:56.408359Z",
     "iopub.status.idle": "2023-04-10T16:40:56.419360Z",
     "shell.execute_reply": "2023-04-10T16:40:56.417359Z",
     "shell.execute_reply.started": "2023-04-10T16:40:56.408359Z"
    },
    "tags": []
   },
   "outputs": [
    {
     "data": {
      "text/plain": [
       "True"
      ]
     },
     "execution_count": 32,
     "metadata": {},
     "output_type": "execute_result"
    }
   ],
   "source": [
    "m.max() == np.max(m)"
   ]
  },
  {
   "cell_type": "markdown",
   "id": "b9587e73-08c0-48b4-9fe6-b19d3b80a88e",
   "metadata": {},
   "source": [
    "### 10. Определите размах (разницу миимума и максимума) за одну строчку кода."
   ]
  },
  {
   "cell_type": "code",
   "execution_count": 34,
   "id": "fafde3df-47ae-412c-af4f-fed163bab83a",
   "metadata": {
    "execution": {
     "iopub.execute_input": "2023-04-10T16:41:43.395190Z",
     "iopub.status.busy": "2023-04-10T16:41:43.394226Z",
     "iopub.status.idle": "2023-04-10T16:41:43.416189Z",
     "shell.execute_reply": "2023-04-10T16:41:43.415229Z",
     "shell.execute_reply.started": "2023-04-10T16:41:43.395190Z"
    },
    "tags": []
   },
   "outputs": [
    {
     "data": {
      "text/plain": [
       "990.44"
      ]
     },
     "execution_count": 34,
     "metadata": {},
     "output_type": "execute_result"
    }
   ],
   "source": [
    "(m.max() - m.min()).round(2)"
   ]
  },
  {
   "cell_type": "code",
   "execution_count": 36,
   "id": "cdd102f4-dd54-4150-91e1-d5f682c354f4",
   "metadata": {
    "execution": {
     "iopub.execute_input": "2023-04-10T16:41:59.429685Z",
     "iopub.status.busy": "2023-04-10T16:41:59.429685Z",
     "iopub.status.idle": "2023-04-10T16:41:59.443654Z",
     "shell.execute_reply": "2023-04-10T16:41:59.442652Z",
     "shell.execute_reply.started": "2023-04-10T16:41:59.429685Z"
    },
    "tags": []
   },
   "outputs": [
    {
     "data": {
      "text/plain": [
       "990.44"
      ]
     },
     "execution_count": 36,
     "metadata": {},
     "output_type": "execute_result"
    }
   ],
   "source": [
    "np.round(np.max(m) - np.min(m), 2)"
   ]
  },
  {
   "cell_type": "code",
   "execution_count": 38,
   "id": "a0190931-0118-4b0d-b18f-ca929fbbce6a",
   "metadata": {
    "execution": {
     "iopub.execute_input": "2023-04-10T16:42:18.833529Z",
     "iopub.status.busy": "2023-04-10T16:42:18.831535Z",
     "iopub.status.idle": "2023-04-10T16:42:18.858529Z",
     "shell.execute_reply": "2023-04-10T16:42:18.857531Z",
     "shell.execute_reply.started": "2023-04-10T16:42:18.832530Z"
    },
    "tags": []
   },
   "outputs": [
    {
     "name": "stderr",
     "output_type": "stream",
     "text": [
      "C:\\Users\\igumn\\AppData\\Local\\Temp\\ipykernel_7036\\1364206132.py:1: RuntimeWarning: invalid value encountered in sqrt\n",
      "  np.sqrt(m)\n"
     ]
    },
    {
     "data": {
      "text/plain": [
       "array([[        nan, 10.23325435,         nan,         nan, 18.25815494,\n",
       "                nan,         nan,         nan,         nan, 18.31899219],\n",
       "       [14.88090057, 12.29951605,         nan, 14.12020617,         nan,\n",
       "         6.44175637,         nan,         nan,         nan,  8.2663675 ],\n",
       "       [        nan,         nan,  7.33049511, 11.36381671, 16.71752879,\n",
       "                nan,         nan,  6.91772446,         nan,         nan],\n",
       "       [ 9.01769064,         nan, 20.88118979, 13.12692861, 21.9280964 ,\n",
       "                nan,         nan, 13.05487468,         nan,  4.08487298],\n",
       "       [19.08774947,         nan, 11.68065947,         nan,         nan,\n",
       "                nan,         nan, 19.57407417,         nan, 18.56712275],\n",
       "       [11.12479678,         nan, 12.90164334,         nan,         nan,\n",
       "        19.59342525,         nan,  7.85083957, 22.12506601,         nan],\n",
       "       [        nan,         nan, 11.73054545,         nan,  7.75175754,\n",
       "         7.24550986, 17.1753676 , 10.93860396,  3.86382531, 21.10870543],\n",
       "       [18.23304232,         nan,         nan,         nan,         nan,\n",
       "                nan,         nan, 16.2005866 ,  4.87435713,         nan],\n",
       "       [14.65195203, 17.37467867,         nan,         nan,         nan,\n",
       "        20.56472969, 17.45679089, 22.1646789 ,  2.72629724,         nan],\n",
       "       [16.65888222,         nan,  4.00422396, 18.01973957, 22.20632313,\n",
       "                nan,  6.44191399, 22.13708594,         nan, 21.18161303]])"
      ]
     },
     "execution_count": 38,
     "metadata": {},
     "output_type": "execute_result"
    }
   ],
   "source": [
    "np.sqrt(m) # None"
   ]
  },
  {
   "cell_type": "code",
   "execution_count": 41,
   "id": "2df38a4d-9209-4f7a-8792-2c8874848ebc",
   "metadata": {
    "execution": {
     "iopub.execute_input": "2023-04-10T16:42:59.279779Z",
     "iopub.status.busy": "2023-04-10T16:42:59.278819Z",
     "iopub.status.idle": "2023-04-10T16:42:59.303778Z",
     "shell.execute_reply": "2023-04-10T16:42:59.302819Z",
     "shell.execute_reply.started": "2023-04-10T16:42:59.278819Z"
    },
    "tags": []
   },
   "outputs": [
    {
     "data": {
      "text/plain": [
       "nan"
      ]
     },
     "execution_count": 41,
     "metadata": {},
     "output_type": "execute_result"
    }
   ],
   "source": [
    "np.nan # это не None , это другой НаН"
   ]
  },
  {
   "cell_type": "markdown",
   "id": "b22d0a32-f89c-4f6d-9cb6-6c67b57a2e9a",
   "metadata": {},
   "source": [
    "### 11. Измените размерность созданной ранее матрицы в вектор-строку.\n",
    "\n",
    "<b>hint</b><br>\n",
    "<img src=\"hints/11.png\" width=300em/>"
   ]
  },
  {
   "cell_type": "code",
   "execution_count": 42,
   "id": "db3b293b-22d6-46ca-9404-74bc29fbe4bf",
   "metadata": {
    "execution": {
     "iopub.execute_input": "2023-04-10T16:43:18.689233Z",
     "iopub.status.busy": "2023-04-10T16:43:18.689233Z",
     "iopub.status.idle": "2023-04-10T16:43:18.700234Z",
     "shell.execute_reply": "2023-04-10T16:43:18.698233Z",
     "shell.execute_reply.started": "2023-04-10T16:43:18.689233Z"
    }
   },
   "outputs": [
    {
     "data": {
      "text/plain": [
       "(10, 10)"
      ]
     },
     "execution_count": 42,
     "metadata": {},
     "output_type": "execute_result"
    }
   ],
   "source": [
    "m.shape"
   ]
  },
  {
   "cell_type": "code",
   "execution_count": 43,
   "id": "622a77ec-9322-4060-bc79-74312827d2bf",
   "metadata": {
    "execution": {
     "iopub.execute_input": "2023-04-10T16:43:28.268682Z",
     "iopub.status.busy": "2023-04-10T16:43:28.268682Z",
     "iopub.status.idle": "2023-04-10T16:43:28.289683Z",
     "shell.execute_reply": "2023-04-10T16:43:28.288724Z",
     "shell.execute_reply.started": "2023-04-10T16:43:28.268682Z"
    }
   },
   "outputs": [
    {
     "data": {
      "text/plain": [
       "array([[-439.68828256,  104.71949461, -233.24288952, -108.99190585,\n",
       "         333.36022181, -109.57723062, -103.72538741,  -14.04698706,\n",
       "        -497.3144569 ,  335.5854749 ,  221.44120187,  151.27809501,\n",
       "        -168.1430887 ,  199.38022216, -238.57282363,   41.49622508,\n",
       "         -61.46460033, -153.97669649, -420.68142458,   68.33283165],\n",
       "       [ -81.29911318, -352.84112246,   53.73615858,  129.13633013,\n",
       "         279.47576879, -347.61117331, -182.21728849,   47.85491167,\n",
       "        -449.51798656,  -68.44625499,   81.31874451, -184.82019926,\n",
       "         436.02408708,  172.31625472,  480.84141161, -419.88744063,\n",
       "        -113.12333103,  170.4297528 , -479.12973061,   16.68618724],\n",
       "       [ 364.34217969, -110.68027023,  136.43780559, -327.48087745,\n",
       "        -221.14880302, -289.51053457, -406.7202006 ,  383.14437975,\n",
       "        -475.72251283,  344.73804705,  123.76110344, -239.2015124 ,\n",
       "         166.45240082,  -43.47222622, -329.99202136,  383.90231299,\n",
       "        -386.3656138 ,   61.63568202,  489.51854616, -397.91825662],\n",
       "       [-263.18446466, -269.41662277,  137.60569664, -192.18922609,\n",
       "          60.08974489,   52.49741311,  294.9932521 ,  119.65305669,\n",
       "          14.92914601,  445.57744493,  332.44383239, -416.54813638,\n",
       "        -204.12303185, -303.22172831, -288.89734996, -368.59550046,\n",
       "        -220.3108133 ,  262.4590063 ,   23.75935741, -443.09516207],\n",
       "       [ 214.67969835,  301.87945893,  -98.30296479, -233.08770975,\n",
       "        -489.08627609,  422.90810712,  304.7395482 ,  491.27299075,\n",
       "           7.43269666,  -15.41448903,  277.5183569 , -123.41669133,\n",
       "          16.03380951,  324.71101426,  493.12078702, -280.92554015,\n",
       "          41.49825584,  490.05057372, -435.06934232,  448.66073051]])"
      ]
     },
     "execution_count": 43,
     "metadata": {},
     "output_type": "execute_result"
    }
   ],
   "source": [
    "m.reshape(5, 20)"
   ]
  },
  {
   "cell_type": "code",
   "execution_count": 44,
   "id": "a949c396-9935-4537-9861-18d416d59032",
   "metadata": {
    "execution": {
     "iopub.execute_input": "2023-04-10T16:43:42.736908Z",
     "iopub.status.busy": "2023-04-10T16:43:42.735906Z",
     "iopub.status.idle": "2023-04-10T16:43:42.759908Z",
     "shell.execute_reply": "2023-04-10T16:43:42.758912Z",
     "shell.execute_reply.started": "2023-04-10T16:43:42.735906Z"
    }
   },
   "outputs": [
    {
     "data": {
      "text/plain": [
       "array([[-439.68828256,  104.71949461],\n",
       "       [-233.24288952, -108.99190585],\n",
       "       [ 333.36022181, -109.57723062],\n",
       "       [-103.72538741,  -14.04698706],\n",
       "       [-497.3144569 ,  335.5854749 ],\n",
       "       [ 221.44120187,  151.27809501],\n",
       "       [-168.1430887 ,  199.38022216],\n",
       "       [-238.57282363,   41.49622508],\n",
       "       [ -61.46460033, -153.97669649],\n",
       "       [-420.68142458,   68.33283165],\n",
       "       [ -81.29911318, -352.84112246],\n",
       "       [  53.73615858,  129.13633013],\n",
       "       [ 279.47576879, -347.61117331],\n",
       "       [-182.21728849,   47.85491167],\n",
       "       [-449.51798656,  -68.44625499],\n",
       "       [  81.31874451, -184.82019926],\n",
       "       [ 436.02408708,  172.31625472],\n",
       "       [ 480.84141161, -419.88744063],\n",
       "       [-113.12333103,  170.4297528 ],\n",
       "       [-479.12973061,   16.68618724],\n",
       "       [ 364.34217969, -110.68027023],\n",
       "       [ 136.43780559, -327.48087745],\n",
       "       [-221.14880302, -289.51053457],\n",
       "       [-406.7202006 ,  383.14437975],\n",
       "       [-475.72251283,  344.73804705],\n",
       "       [ 123.76110344, -239.2015124 ],\n",
       "       [ 166.45240082,  -43.47222622],\n",
       "       [-329.99202136,  383.90231299],\n",
       "       [-386.3656138 ,   61.63568202],\n",
       "       [ 489.51854616, -397.91825662],\n",
       "       [-263.18446466, -269.41662277],\n",
       "       [ 137.60569664, -192.18922609],\n",
       "       [  60.08974489,   52.49741311],\n",
       "       [ 294.9932521 ,  119.65305669],\n",
       "       [  14.92914601,  445.57744493],\n",
       "       [ 332.44383239, -416.54813638],\n",
       "       [-204.12303185, -303.22172831],\n",
       "       [-288.89734996, -368.59550046],\n",
       "       [-220.3108133 ,  262.4590063 ],\n",
       "       [  23.75935741, -443.09516207],\n",
       "       [ 214.67969835,  301.87945893],\n",
       "       [ -98.30296479, -233.08770975],\n",
       "       [-489.08627609,  422.90810712],\n",
       "       [ 304.7395482 ,  491.27299075],\n",
       "       [   7.43269666,  -15.41448903],\n",
       "       [ 277.5183569 , -123.41669133],\n",
       "       [  16.03380951,  324.71101426],\n",
       "       [ 493.12078702, -280.92554015],\n",
       "       [  41.49825584,  490.05057372],\n",
       "       [-435.06934232,  448.66073051]])"
      ]
     },
     "execution_count": 44,
     "metadata": {},
     "output_type": "execute_result"
    }
   ],
   "source": [
    "m.reshape(50, 2)"
   ]
  },
  {
   "cell_type": "code",
   "execution_count": 49,
   "id": "293ca803-fc08-482f-87fe-7d4d5aa91713",
   "metadata": {
    "execution": {
     "iopub.execute_input": "2023-04-10T16:44:32.725738Z",
     "iopub.status.busy": "2023-04-10T16:44:32.725738Z",
     "iopub.status.idle": "2023-04-10T16:44:32.742739Z",
     "shell.execute_reply": "2023-04-10T16:44:32.741738Z",
     "shell.execute_reply.started": "2023-04-10T16:44:32.725738Z"
    },
    "tags": []
   },
   "outputs": [
    {
     "data": {
      "text/plain": [
       "0"
      ]
     },
     "execution_count": 49,
     "metadata": {},
     "output_type": "execute_result"
    }
   ],
   "source": [
    "(m.reshape(1, 100) != m.reshape(1, -1)).sum()"
   ]
  },
  {
   "cell_type": "code",
   "execution_count": 52,
   "id": "7c3d3850-a0fa-4fe8-a49b-63fb50bc8cf3",
   "metadata": {
    "execution": {
     "iopub.execute_input": "2023-04-10T16:44:56.313836Z",
     "iopub.status.busy": "2023-04-10T16:44:56.312854Z",
     "iopub.status.idle": "2023-04-10T16:44:56.329795Z",
     "shell.execute_reply": "2023-04-10T16:44:56.328836Z",
     "shell.execute_reply.started": "2023-04-10T16:44:56.313836Z"
    },
    "tags": []
   },
   "outputs": [
    {
     "data": {
      "text/plain": [
       "array([[-439.68828256,  104.71949461, -233.24288952, -108.99190585,\n",
       "         333.36022181, -109.57723062, -103.72538741,  -14.04698706,\n",
       "        -497.3144569 ,  335.5854749 ,  221.44120187,  151.27809501,\n",
       "        -168.1430887 ,  199.38022216, -238.57282363,   41.49622508,\n",
       "         -61.46460033, -153.97669649, -420.68142458,   68.33283165,\n",
       "         -81.29911318, -352.84112246,   53.73615858,  129.13633013,\n",
       "         279.47576879, -347.61117331, -182.21728849,   47.85491167,\n",
       "        -449.51798656,  -68.44625499,   81.31874451, -184.82019926,\n",
       "         436.02408708,  172.31625472,  480.84141161, -419.88744063,\n",
       "        -113.12333103,  170.4297528 , -479.12973061,   16.68618724,\n",
       "         364.34217969, -110.68027023,  136.43780559, -327.48087745,\n",
       "        -221.14880302, -289.51053457, -406.7202006 ,  383.14437975,\n",
       "        -475.72251283,  344.73804705,  123.76110344, -239.2015124 ,\n",
       "         166.45240082,  -43.47222622, -329.99202136,  383.90231299,\n",
       "        -386.3656138 ,   61.63568202,  489.51854616, -397.91825662,\n",
       "        -263.18446466, -269.41662277,  137.60569664, -192.18922609,\n",
       "          60.08974489,   52.49741311,  294.9932521 ,  119.65305669,\n",
       "          14.92914601,  445.57744493,  332.44383239, -416.54813638,\n",
       "        -204.12303185, -303.22172831, -288.89734996, -368.59550046,\n",
       "        -220.3108133 ,  262.4590063 ,   23.75935741, -443.09516207,\n",
       "         214.67969835,  301.87945893,  -98.30296479, -233.08770975,\n",
       "        -489.08627609,  422.90810712,  304.7395482 ,  491.27299075,\n",
       "           7.43269666,  -15.41448903,  277.5183569 , -123.41669133,\n",
       "          16.03380951,  324.71101426,  493.12078702, -280.92554015,\n",
       "          41.49825584,  490.05057372, -435.06934232,  448.66073051]])"
      ]
     },
     "execution_count": 52,
     "metadata": {},
     "output_type": "execute_result"
    }
   ],
   "source": [
    "v = m.reshape(1, -1)\n",
    "v"
   ]
  },
  {
   "cell_type": "markdown",
   "id": "b7cde9e7-322f-4acc-8d58-8719cf5d383e",
   "metadata": {},
   "source": [
    "### 12. Определите среднее и стандартное отклонение этого вектора.\n",
    "\n",
    "<b>hint</b><br>\n",
    "<img src=\"hints/12.png\" width=300em/>"
   ]
  },
  {
   "cell_type": "code",
   "execution_count": 53,
   "id": "6c2d1bd3-8eb4-49a7-968e-c888ea143802",
   "metadata": {
    "execution": {
     "iopub.execute_input": "2023-04-10T16:45:00.702265Z",
     "iopub.status.busy": "2023-04-10T16:45:00.702265Z",
     "iopub.status.idle": "2023-04-10T16:45:00.711267Z",
     "shell.execute_reply": "2023-04-10T16:45:00.710264Z",
     "shell.execute_reply.started": "2023-04-10T16:45:00.702265Z"
    }
   },
   "outputs": [
    {
     "data": {
      "text/plain": [
       "-17.455574825877623"
      ]
     },
     "execution_count": 53,
     "metadata": {},
     "output_type": "execute_result"
    }
   ],
   "source": [
    "v.mean()"
   ]
  },
  {
   "cell_type": "code",
   "execution_count": 54,
   "id": "92cd9c51-8cb9-4437-ad9e-4a9e8bef4b35",
   "metadata": {
    "execution": {
     "iopub.execute_input": "2023-04-10T16:45:04.150780Z",
     "iopub.status.busy": "2023-04-10T16:45:04.150780Z",
     "iopub.status.idle": "2023-04-10T16:45:04.171781Z",
     "shell.execute_reply": "2023-04-10T16:45:04.170819Z",
     "shell.execute_reply.started": "2023-04-10T16:45:04.150780Z"
    }
   },
   "outputs": [
    {
     "data": {
      "text/plain": [
       "286.4546449331034"
      ]
     },
     "execution_count": 54,
     "metadata": {},
     "output_type": "execute_result"
    }
   ],
   "source": [
    "v.std()"
   ]
  },
  {
   "cell_type": "markdown",
   "id": "b455ba23-f295-4591-8ed9-bfff273fd506",
   "metadata": {},
   "source": [
    "### 13. Создайте вектор-стоку из 20 случайных чисел. Прибавьте к нему 5 и умножьте на 10."
   ]
  },
  {
   "cell_type": "code",
   "execution_count": 66,
   "id": "00e567dc-9512-4d0e-9281-6a9829d28055",
   "metadata": {
    "execution": {
     "iopub.execute_input": "2023-04-10T16:46:14.503412Z",
     "iopub.status.busy": "2023-04-10T16:46:14.503412Z",
     "iopub.status.idle": "2023-04-10T16:46:14.522374Z",
     "shell.execute_reply": "2023-04-10T16:46:14.521416Z",
     "shell.execute_reply.started": "2023-04-10T16:46:14.503412Z"
    },
    "tags": []
   },
   "outputs": [],
   "source": [
    "x = np.random.rand(20) "
   ]
  },
  {
   "cell_type": "code",
   "execution_count": 67,
   "id": "ff29d1c3-6b99-41bb-887a-bd220d8addb8",
   "metadata": {
    "execution": {
     "iopub.execute_input": "2023-04-10T16:46:16.385410Z",
     "iopub.status.busy": "2023-04-10T16:46:16.384411Z",
     "iopub.status.idle": "2023-04-10T16:46:16.408408Z",
     "shell.execute_reply": "2023-04-10T16:46:16.407448Z",
     "shell.execute_reply.started": "2023-04-10T16:46:16.385410Z"
    },
    "tags": []
   },
   "outputs": [
    {
     "data": {
      "text/plain": [
       "array([50.68171625, 55.12823437, 59.2163123 , 55.67139489, 54.09652951,\n",
       "       52.33096355, 55.11973675, 55.74804451, 51.16968945, 57.45005496,\n",
       "       56.76465261, 52.22975172, 55.44840884, 50.65961474, 55.36124938,\n",
       "       50.69679168, 50.69623459, 54.70737081, 57.70347469, 57.49863477])"
      ]
     },
     "execution_count": 67,
     "metadata": {},
     "output_type": "execute_result"
    }
   ],
   "source": [
    "(x + 5) * 10"
   ]
  },
  {
   "cell_type": "code",
   "execution_count": 68,
   "id": "062bcf05-08c3-43bd-a6d1-4620e0ac9f65",
   "metadata": {
    "execution": {
     "iopub.execute_input": "2023-04-10T16:46:22.102936Z",
     "iopub.status.busy": "2023-04-10T16:46:22.101979Z",
     "iopub.status.idle": "2023-04-10T16:46:22.111937Z",
     "shell.execute_reply": "2023-04-10T16:46:22.110939Z",
     "shell.execute_reply.started": "2023-04-10T16:46:22.102936Z"
    }
   },
   "outputs": [
    {
     "data": {
      "text/plain": [
       "array([50.68171625, 55.12823437, 59.2163123 , 55.67139489, 54.09652951,\n",
       "       52.33096355, 55.11973675, 55.74804451, 51.16968945, 57.45005496,\n",
       "       56.76465261, 52.22975172, 55.44840884, 50.65961474, 55.36124938,\n",
       "       50.69679168, 50.69623459, 54.70737081, 57.70347469, 57.49863477])"
      ]
     },
     "execution_count": 68,
     "metadata": {},
     "output_type": "execute_result"
    }
   ],
   "source": [
    "np.multiply(np.add(x, 5), 10)"
   ]
  },
  {
   "cell_type": "markdown",
   "id": "17db12ed-207a-46cf-85a0-9433ecda5f94",
   "metadata": {},
   "source": [
    "### 14. Для каждого числа вектора определите, сколько процентов от максимального числа составляет это число (напр вектор [1, 4, 8] должен превратиться в [25, 50, 100])."
   ]
  },
  {
   "cell_type": "code",
   "execution_count": 75,
   "id": "06e37f3d-1ba7-4da3-8ee4-2f83426cd3b2",
   "metadata": {
    "execution": {
     "iopub.execute_input": "2023-04-10T16:48:13.605109Z",
     "iopub.status.busy": "2023-04-10T16:48:13.604110Z",
     "iopub.status.idle": "2023-04-10T16:48:13.624070Z",
     "shell.execute_reply": "2023-04-10T16:48:13.623109Z",
     "shell.execute_reply.started": "2023-04-10T16:48:13.605109Z"
    },
    "tags": []
   },
   "outputs": [
    {
     "data": {
      "text/plain": [
       "array([  7,  55, 100,  61,  44,  25,  55,  62,  12,  80,  73,  24,  59,\n",
       "         7,  58,   7,   7,  51,  83,  81])"
      ]
     },
     "execution_count": 75,
     "metadata": {},
     "output_type": "execute_result"
    }
   ],
   "source": [
    "(x / x.max() * 100).astype(int)"
   ]
  },
  {
   "cell_type": "code",
   "execution_count": 77,
   "id": "c9bfe3ab-74f1-4553-9f9b-cd677a8914bc",
   "metadata": {
    "execution": {
     "iopub.execute_input": "2023-04-10T16:48:23.167259Z",
     "iopub.status.busy": "2023-04-10T16:48:23.167259Z",
     "iopub.status.idle": "2023-04-10T16:48:23.182261Z",
     "shell.execute_reply": "2023-04-10T16:48:23.180267Z",
     "shell.execute_reply.started": "2023-04-10T16:48:23.167259Z"
    },
    "tags": []
   },
   "outputs": [
    {
     "data": {
      "text/plain": [
       "array([  7.4,  55.6, 100. ,  61.5,  44.4,  25.3,  55.6,  62.4,  12.7,\n",
       "        80.8,  73.4,  24.2,  59.1,   7.2,  58.2,   7.6,   7.6,  51.1,\n",
       "        83.6,  81.4])"
      ]
     },
     "execution_count": 77,
     "metadata": {},
     "output_type": "execute_result"
    }
   ],
   "source": [
    "(x / x.max() * 100).round(1)"
   ]
  },
  {
   "cell_type": "markdown",
   "id": "52be994b-8027-4789-bcae-2dbc9f906b16",
   "metadata": {},
   "source": [
    "### 15. Создайте матрицу с числами из нормального распределение с параметрами: среднее=10, стандартное отклонение=2.5, размерность: 20 на 5.\n",
    "\n",
    "<b>hint</b><br>\n",
    "<img src=\"hints/15.png\" width=300em/>"
   ]
  },
  {
   "cell_type": "code",
   "execution_count": 80,
   "id": "3b850221-f023-4041-8fa2-fb09aac86dc7",
   "metadata": {
    "execution": {
     "iopub.execute_input": "2023-04-10T16:49:29.251322Z",
     "iopub.status.busy": "2023-04-10T16:49:29.249327Z",
     "iopub.status.idle": "2023-04-10T16:49:29.278321Z",
     "shell.execute_reply": "2023-04-10T16:49:29.276321Z",
     "shell.execute_reply.started": "2023-04-10T16:49:29.250323Z"
    },
    "tags": []
   },
   "outputs": [
    {
     "data": {
      "text/plain": [
       "array([[11.69790584, 11.47714019, 13.44635577,  8.33094967, 12.83562438],\n",
       "       [10.12832287, 10.97525261, 10.34025011,  6.78905865,  8.331837  ],\n",
       "       [ 9.64088288,  3.70224272,  8.28501662,  7.73811974,  9.2842085 ],\n",
       "       [ 8.89201831, 12.08318124,  9.46655391, 15.04758915, 15.47347604],\n",
       "       [10.3650601 ,  8.95764949,  8.97167457, 12.87110853,  8.06279364],\n",
       "       [13.54238123, 13.27973959,  9.66358644,  7.07340114,  5.99046466],\n",
       "       [ 8.23363916, 10.9890578 , 11.04362839,  9.82542246,  7.0517857 ],\n",
       "       [14.94548672, 10.82131317, 10.15392649,  9.65286073,  7.27988107],\n",
       "       [10.31808341,  6.9966497 , 11.42229358, 11.59861099, 10.39750837],\n",
       "       [13.27882494,  9.09711617,  8.02552161, 10.26015024, 10.31526024],\n",
       "       [ 9.63730973, 13.89256225, 11.62393719,  7.91236142, 10.59579357],\n",
       "       [11.09900421,  6.26102588, 15.25249423, 12.04809285,  4.33908663],\n",
       "       [ 8.18407615,  8.20728665,  9.30886281, 11.79567874,  8.29478574],\n",
       "       [11.73834849, 13.22432529, 10.11389419,  9.95654638,  9.68297946],\n",
       "       [ 4.66404762,  8.7753761 ,  8.17773338, 12.86318636,  9.31633182],\n",
       "       [ 9.10029025, 14.09812541,  9.9731674 , 11.60989766, 11.01684529],\n",
       "       [12.69584164, 10.55477565, 11.03254668,  7.84084609, 11.50793859],\n",
       "       [10.56747885, 10.13815642,  7.12833403, 13.28915551,  7.58981338],\n",
       "       [ 9.82787785,  7.57938254, 13.05561748, 12.74195979,  8.75605602],\n",
       "       [10.66545915, 10.95201339, 11.19019323, 15.11724998,  7.90477416]])"
      ]
     },
     "execution_count": 80,
     "metadata": {},
     "output_type": "execute_result"
    }
   ],
   "source": [
    "n = np.random.normal(loc=10, scale=2.5, size=100).reshape(20, 5)\n",
    "n"
   ]
  },
  {
   "cell_type": "markdown",
   "id": "c28bd931-3f07-4ac9-b2b9-8a9dd754c53a",
   "metadata": {},
   "source": [
    "### 16. Центрируйте матрицу. Для этого из каждого столбца надо вычесть среднее значение столбца. Или, если проще, вычесть из матрицы вектор со средними значениями столбцов."
   ]
  },
  {
   "cell_type": "code",
   "execution_count": 91,
   "id": "8d448411-53ba-4f4c-b75c-452c9393d385",
   "metadata": {
    "execution": {
     "iopub.execute_input": "2023-04-10T16:52:30.312873Z",
     "iopub.status.busy": "2023-04-10T16:52:30.311874Z",
     "iopub.status.idle": "2023-04-10T16:52:30.329874Z",
     "shell.execute_reply": "2023-04-10T16:52:30.328912Z",
     "shell.execute_reply.started": "2023-04-10T16:52:30.312873Z"
    },
    "tags": []
   },
   "outputs": [],
   "source": [
    "# means = n.mean(axis=0)\n",
    "means = np.array([10, 20, 30, 40, 50])"
   ]
  },
  {
   "cell_type": "code",
   "execution_count": 98,
   "id": "5231360f-5e54-4b59-a156-2bc9e96ca6dc",
   "metadata": {
    "execution": {
     "iopub.execute_input": "2023-04-10T16:53:52.075584Z",
     "iopub.status.busy": "2023-04-10T16:53:52.075584Z",
     "iopub.status.idle": "2023-04-10T16:53:52.102583Z",
     "shell.execute_reply": "2023-04-10T16:53:52.100582Z",
     "shell.execute_reply.started": "2023-04-10T16:53:52.075584Z"
    },
    "tags": []
   },
   "outputs": [
    {
     "data": {
      "text/plain": [
       "array([[0., 0., 0., 0., 0.],\n",
       "       [0., 0., 0., 0., 0.],\n",
       "       [0., 0., 0., 0., 0.],\n",
       "       [0., 0., 0., 0., 0.],\n",
       "       [0., 0., 0., 0., 0.],\n",
       "       [0., 0., 0., 0., 0.],\n",
       "       [0., 0., 0., 0., 0.],\n",
       "       [0., 0., 0., 0., 0.],\n",
       "       [0., 0., 0., 0., 0.],\n",
       "       [0., 0., 0., 0., 0.]])"
      ]
     },
     "execution_count": 98,
     "metadata": {},
     "output_type": "execute_result"
    }
   ],
   "source": [
    "n = np.zeros([10, 5])\n",
    "n"
   ]
  },
  {
   "cell_type": "code",
   "execution_count": 99,
   "id": "61238931-a9d7-4920-a512-9e588fe8c2b6",
   "metadata": {
    "execution": {
     "iopub.execute_input": "2023-04-10T16:53:57.237554Z",
     "iopub.status.busy": "2023-04-10T16:53:57.236552Z",
     "iopub.status.idle": "2023-04-10T16:53:57.257558Z",
     "shell.execute_reply": "2023-04-10T16:53:57.255551Z",
     "shell.execute_reply.started": "2023-04-10T16:53:57.237554Z"
    }
   },
   "outputs": [
    {
     "data": {
      "text/plain": [
       "array([[-10., -20., -30., -40., -50.],\n",
       "       [-10., -20., -30., -40., -50.],\n",
       "       [-10., -20., -30., -40., -50.],\n",
       "       [-10., -20., -30., -40., -50.],\n",
       "       [-10., -20., -30., -40., -50.],\n",
       "       [-10., -20., -30., -40., -50.],\n",
       "       [-10., -20., -30., -40., -50.],\n",
       "       [-10., -20., -30., -40., -50.],\n",
       "       [-10., -20., -30., -40., -50.],\n",
       "       [-10., -20., -30., -40., -50.]])"
      ]
     },
     "execution_count": 99,
     "metadata": {},
     "output_type": "execute_result"
    }
   ],
   "source": [
    "n - means"
   ]
  },
  {
   "cell_type": "code",
   "execution_count": 102,
   "id": "4193ca0b-e650-4712-a3f1-7e9269f8ddd3",
   "metadata": {
    "execution": {
     "iopub.execute_input": "2023-04-10T16:54:49.523383Z",
     "iopub.status.busy": "2023-04-10T16:54:49.522342Z",
     "iopub.status.idle": "2023-04-10T16:54:49.546347Z",
     "shell.execute_reply": "2023-04-10T16:54:49.544385Z",
     "shell.execute_reply.started": "2023-04-10T16:54:49.523383Z"
    },
    "tags": []
   },
   "outputs": [],
   "source": [
    "means = np.array([10, 20, 30, 40, 50, 60, 70, 80, 90, 100]).reshape(-1, 1)"
   ]
  },
  {
   "cell_type": "code",
   "execution_count": 104,
   "id": "70828ae5-bff5-4116-a825-de5676fe6060",
   "metadata": {
    "execution": {
     "iopub.execute_input": "2023-04-10T16:59:36.422094Z",
     "iopub.status.busy": "2023-04-10T16:59:36.421093Z",
     "iopub.status.idle": "2023-04-10T16:59:36.447095Z",
     "shell.execute_reply": "2023-04-10T16:59:36.445092Z",
     "shell.execute_reply.started": "2023-04-10T16:59:36.422094Z"
    },
    "tags": []
   },
   "outputs": [
    {
     "data": {
      "text/plain": [
       "array([[ -10.,  -10.,  -10.,  -10.,  -10.],\n",
       "       [ -20.,  -20.,  -20.,  -20.,  -20.],\n",
       "       [ -30.,  -30.,  -30.,  -30.,  -30.],\n",
       "       [ -40.,  -40.,  -40.,  -40.,  -40.],\n",
       "       [ -50.,  -50.,  -50.,  -50.,  -50.],\n",
       "       [ -60.,  -60.,  -60.,  -60.,  -60.],\n",
       "       [ -70.,  -70.,  -70.,  -70.,  -70.],\n",
       "       [ -80.,  -80.,  -80.,  -80.,  -80.],\n",
       "       [ -90.,  -90.,  -90.,  -90.,  -90.],\n",
       "       [-100., -100., -100., -100., -100.]])"
      ]
     },
     "execution_count": 104,
     "metadata": {},
     "output_type": "execute_result"
    }
   ],
   "source": [
    "n - means"
   ]
  },
  {
   "cell_type": "code",
   "execution_count": 107,
   "id": "e8fd9d64-80b8-444a-b2c3-28dec2620dc4",
   "metadata": {
    "execution": {
     "iopub.execute_input": "2023-04-10T17:00:28.515889Z",
     "iopub.status.busy": "2023-04-10T17:00:28.515889Z",
     "iopub.status.idle": "2023-04-10T17:00:28.526892Z",
     "shell.execute_reply": "2023-04-10T17:00:28.524890Z",
     "shell.execute_reply.started": "2023-04-10T17:00:28.515889Z"
    },
    "tags": []
   },
   "outputs": [
    {
     "data": {
      "text/plain": [
       "(25, 4)"
      ]
     },
     "execution_count": 107,
     "metadata": {},
     "output_type": "execute_result"
    }
   ],
   "source": [
    "m = m.reshape(25, 4)\n",
    "m.shape"
   ]
  },
  {
   "cell_type": "code",
   "execution_count": 110,
   "id": "87018667-a2f4-4dde-b5a2-a251d2baa87d",
   "metadata": {
    "execution": {
     "iopub.execute_input": "2023-04-10T17:01:10.952887Z",
     "iopub.status.busy": "2023-04-10T17:01:10.951891Z",
     "iopub.status.idle": "2023-04-10T17:01:10.962888Z",
     "shell.execute_reply": "2023-04-10T17:01:10.961887Z",
     "shell.execute_reply.started": "2023-04-10T17:01:10.952887Z"
    },
    "tags": []
   },
   "outputs": [],
   "source": [
    "m_centered = m - m.mean(axis=0)"
   ]
  },
  {
   "cell_type": "code",
   "execution_count": 111,
   "id": "2835f4c9-2288-4859-8c80-61b38fcdb3e6",
   "metadata": {
    "execution": {
     "iopub.execute_input": "2023-04-10T17:01:16.210868Z",
     "iopub.status.busy": "2023-04-10T17:01:16.210868Z",
     "iopub.status.idle": "2023-04-10T17:01:16.230867Z",
     "shell.execute_reply": "2023-04-10T17:01:16.229868Z",
     "shell.execute_reply.started": "2023-04-10T17:01:16.210868Z"
    }
   },
   "outputs": [
    {
     "data": {
      "text/plain": [
       "array([-1.76214598e-14,  9.09494702e-15,  9.09494702e-15, -1.81898940e-14])"
      ]
     },
     "execution_count": 111,
     "metadata": {},
     "output_type": "execute_result"
    }
   ],
   "source": [
    "m_centered.mean(axis=0)"
   ]
  },
  {
   "cell_type": "markdown",
   "id": "7fe3efbf-7830-4699-8ad2-ce207bc3c8fa",
   "metadata": {},
   "source": [
    "### 17. Стандартизируйте эту матрицу\n",
    "(т.е. для каждого $x $ нужно провести операцию<br>\n",
    "\n",
    "$ \\large x_{new} = \\frac{x_{old} - column_{mean}}{column_{std}}$"
   ]
  },
  {
   "cell_type": "code",
   "execution_count": 113,
   "id": "83fa2622-2667-43b3-86a6-e95b28265ce6",
   "metadata": {
    "execution": {
     "iopub.execute_input": "2023-04-10T17:02:22.597782Z",
     "iopub.status.busy": "2023-04-10T17:02:22.596790Z",
     "iopub.status.idle": "2023-04-10T17:02:22.618784Z",
     "shell.execute_reply": "2023-04-10T17:02:22.616819Z",
     "shell.execute_reply.started": "2023-04-10T17:02:22.597782Z"
    },
    "tags": []
   },
   "outputs": [
    {
     "data": {
      "text/plain": [
       "0"
      ]
     },
     "execution_count": 113,
     "metadata": {},
     "output_type": "execute_result"
    }
   ],
   "source": [
    "(m_centered.std(axis=0) != m.std(axis=0)).sum()"
   ]
  },
  {
   "cell_type": "code",
   "execution_count": 114,
   "id": "b21ff497-f066-4a4b-96f0-f1ad891ef316",
   "metadata": {
    "execution": {
     "iopub.execute_input": "2023-04-10T17:02:52.620910Z",
     "iopub.status.busy": "2023-04-10T17:02:52.619911Z",
     "iopub.status.idle": "2023-04-10T17:02:52.635911Z",
     "shell.execute_reply": "2023-04-10T17:02:52.634918Z",
     "shell.execute_reply.started": "2023-04-10T17:02:52.620910Z"
    }
   },
   "outputs": [
    {
     "data": {
      "text/plain": [
       "array([[-1.27607609,  0.15356955, -0.79824008, -0.17989709],\n",
       "       [ 1.50866045, -0.67474313, -0.3721347 ,  0.16007447],\n",
       "       [-1.48366166,  1.04592671,  0.6976453 ,  0.75205796],\n",
       "       [-0.29789449,  0.51945792, -0.81577526,  0.35895938],\n",
       "       [ 0.08639121, -0.84635863, -1.41490243,  0.45505386],\n",
       "       [ 0.01494175, -1.61502145,  0.14590503,  0.67277441],\n",
       "       [ 1.31455361, -1.59480633, -0.63036869,  0.38172808],\n",
       "       [-1.31148543, -0.51576119,  0.2366502 , -0.45141728],\n",
       "       [ 1.87848436,  0.41484864,  1.55105756, -1.2931282 ],\n",
       "       [-0.09969796,  0.40755682, -1.60719411,  0.27012148],\n",
       "       [ 1.62026611, -0.67900666,  0.41798885, -0.9622458 ],\n",
       "       [-0.48883587, -1.37023222, -1.36897078,  1.58230713],\n",
       "       [-1.40588145,  1.08130379,  0.37628321, -0.64614175],\n",
       "       [ 0.90741188, -0.41923006, -1.11653934,  1.58502108],\n",
       "       [-1.08399295, -0.01296061,  1.57960485, -1.21446261],\n",
       "       [-0.64026006, -1.29256402,  0.42183115, -0.47780373],\n",
       "       [ 0.5242639 , -0.0482824 ,  0.93962745,  0.63881742],\n",
       "       [ 0.36158281,  1.47107433,  1.06283778, -1.28117107],\n",
       "       [-0.42750429, -1.42322956, -0.98134016, -1.10946591],\n",
       "       [-0.4858172 ,  0.76327386,  0.04728302, -1.37622864],\n",
       "       [ 1.08114007,  0.91564418, -0.35429523, -0.62424991],\n",
       "       [-1.45402146,  1.38345143,  0.97169222,  1.96948585],\n",
       "       [ 0.33457851, -0.3107796 ,  0.88213602, -0.23154826],\n",
       "       [ 0.36556212,  1.00389409,  1.59145602, -0.79554398],\n",
       "       [ 0.45729216,  1.64297456, -1.46223788,  1.8169031 ]])"
      ]
     },
     "execution_count": 114,
     "metadata": {},
     "output_type": "execute_result"
    }
   ],
   "source": [
    "m_centered / m_centered.std(axis=0)"
   ]
  },
  {
   "cell_type": "code",
   "execution_count": 115,
   "id": "00a59c41-a41b-4763-af70-0dcf7d67a92c",
   "metadata": {
    "execution": {
     "iopub.execute_input": "2023-04-10T17:03:21.810522Z",
     "iopub.status.busy": "2023-04-10T17:03:21.810522Z",
     "iopub.status.idle": "2023-04-10T17:03:21.825521Z",
     "shell.execute_reply": "2023-04-10T17:03:21.824520Z",
     "shell.execute_reply.started": "2023-04-10T17:03:21.810522Z"
    }
   },
   "outputs": [
    {
     "data": {
      "text/plain": [
       "array([[-1.27607609,  0.15356955, -0.79824008, -0.17989709],\n",
       "       [ 1.50866045, -0.67474313, -0.3721347 ,  0.16007447],\n",
       "       [-1.48366166,  1.04592671,  0.6976453 ,  0.75205796],\n",
       "       [-0.29789449,  0.51945792, -0.81577526,  0.35895938],\n",
       "       [ 0.08639121, -0.84635863, -1.41490243,  0.45505386],\n",
       "       [ 0.01494175, -1.61502145,  0.14590503,  0.67277441],\n",
       "       [ 1.31455361, -1.59480633, -0.63036869,  0.38172808],\n",
       "       [-1.31148543, -0.51576119,  0.2366502 , -0.45141728],\n",
       "       [ 1.87848436,  0.41484864,  1.55105756, -1.2931282 ],\n",
       "       [-0.09969796,  0.40755682, -1.60719411,  0.27012148],\n",
       "       [ 1.62026611, -0.67900666,  0.41798885, -0.9622458 ],\n",
       "       [-0.48883587, -1.37023222, -1.36897078,  1.58230713],\n",
       "       [-1.40588145,  1.08130379,  0.37628321, -0.64614175],\n",
       "       [ 0.90741188, -0.41923006, -1.11653934,  1.58502108],\n",
       "       [-1.08399295, -0.01296061,  1.57960485, -1.21446261],\n",
       "       [-0.64026006, -1.29256402,  0.42183115, -0.47780373],\n",
       "       [ 0.5242639 , -0.0482824 ,  0.93962745,  0.63881742],\n",
       "       [ 0.36158281,  1.47107433,  1.06283778, -1.28117107],\n",
       "       [-0.42750429, -1.42322956, -0.98134016, -1.10946591],\n",
       "       [-0.4858172 ,  0.76327386,  0.04728302, -1.37622864],\n",
       "       [ 1.08114007,  0.91564418, -0.35429523, -0.62424991],\n",
       "       [-1.45402146,  1.38345143,  0.97169222,  1.96948585],\n",
       "       [ 0.33457851, -0.3107796 ,  0.88213602, -0.23154826],\n",
       "       [ 0.36556212,  1.00389409,  1.59145602, -0.79554398],\n",
       "       [ 0.45729216,  1.64297456, -1.46223788,  1.8169031 ]])"
      ]
     },
     "execution_count": 115,
     "metadata": {},
     "output_type": "execute_result"
    }
   ],
   "source": [
    "# за один шаг\n",
    "(m - m.mean(axis=0)) / m.std(axis=0)"
   ]
  },
  {
   "cell_type": "code",
   "execution_count": null,
   "id": "d16b873a-91d2-40f2-b996-892a64b01e5c",
   "metadata": {},
   "outputs": [],
   "source": []
  }
 ],
 "metadata": {
  "kernelspec": {
   "display_name": "HOCK",
   "language": "python",
   "name": "hock"
  },
  "language_info": {
   "codemirror_mode": {
    "name": "ipython",
    "version": 3
   },
   "file_extension": ".py",
   "mimetype": "text/x-python",
   "name": "python",
   "nbconvert_exporter": "python",
   "pygments_lexer": "ipython3",
   "version": "3.9.16"
  }
 },
 "nbformat": 4,
 "nbformat_minor": 5
}
