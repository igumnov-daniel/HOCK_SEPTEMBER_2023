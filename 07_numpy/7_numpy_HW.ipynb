{
 "cells": [
  {
   "cell_type": "markdown",
   "id": "9d54f34b-7108-471d-9b56-71aa52f24787",
   "metadata": {},
   "source": [
    "# ДЗ NumPy\n",
    "\n",
    "<h3>\n",
    "В этом ноутбуке я собрал несколько достаточно базовых запросов к NumPy. Попробуйте справиться с ними :) \n",
    "<br>\n",
    "К некоторым заданиям прилагаю QR код с подсказкой. \n",
    "<br>\n",
    "Если будет лень искать нужную функцию в документации или интернете, то можете просто считать QR код.<br>\n",
    "<b>Удачи!</b>\n",
    "</h3>\n",
    "\n",
    "<H2>Справка:</H2>\n",
    "\n",
    "* Коротко про всё необходимое <a href=\"https://www.datacamp.com/cheat-sheet/numpy-cheat-sheet-data-analysis-in-python\">здесь</a>;<br>\n",
    "* Набор шпаргалок (<a href=\"https://web.itu.edu.tr/iguzel/files/Python_Cheat_Sheets.pdf\">тык</a>), рекомендую скачать.\n",
    "\n",
    "<img src=\"hints/meme.jpg\"/>"
   ]
  },
  {
   "cell_type": "code",
   "execution_count": null,
   "id": "b2850801-fd30-4464-ad41-ef06f5a14433",
   "metadata": {},
   "outputs": [],
   "source": []
  },
  {
   "cell_type": "markdown",
   "id": "128d96e8-3c83-48d3-ad5a-0b00aa4bcb51",
   "metadata": {},
   "source": [
    "### 1. Импортируйте `numpy` с сокращением `np`."
   ]
  },
  {
   "cell_type": "code",
   "execution_count": null,
   "id": "299a3364-2467-4de6-a97a-cf25861b6490",
   "metadata": {},
   "outputs": [],
   "source": []
  },
  {
   "cell_type": "markdown",
   "id": "bb58de46-edc2-4560-97a1-16e16f8c666a",
   "metadata": {
    "tags": []
   },
   "source": [
    "### 2. Создайте вектор из десяти нулей.\n",
    "\n",
    "<b>hint</b><br>\n",
    "<img src=\"hints/2.png\" width=300em/>"
   ]
  },
  {
   "cell_type": "code",
   "execution_count": null,
   "id": "9c2723a0-381b-4b9c-921e-dbd88bd931a2",
   "metadata": {},
   "outputs": [],
   "source": []
  },
  {
   "cell_type": "markdown",
   "id": "d87d582b-7e0b-4bbd-bc88-d5c43c3892ef",
   "metadata": {},
   "source": [
    "### 3. Определите атрибуты с информацией о весе одного элемента вектора. Определите вес созданного ранее вектора. (Весом буду называют занимаемое в метсо в памяти).\n",
    "\n",
    "<b>hint</b><br>\n",
    "<img src=\"hints/3.png\" width=300em/>"
   ]
  },
  {
   "cell_type": "code",
   "execution_count": null,
   "id": "ca66d5f3-4fb3-4774-bb55-0bcbb2a1ba01",
   "metadata": {},
   "outputs": [],
   "source": []
  },
  {
   "cell_type": "markdown",
   "id": "a0780dda-6a7b-4fc4-a178-59ebba46bf81",
   "metadata": {},
   "source": [
    "### 4. Создайтек вектор из 10 нулей и замените пятый элемент на единицу.\n",
    "\n",
    "<b>hint</b><br>\n",
    "<img src=\"hints/4.png\" width=300em/>"
   ]
  },
  {
   "cell_type": "code",
   "execution_count": null,
   "id": "0b5bcee8-b1b7-4952-bed0-f2e41d917b99",
   "metadata": {},
   "outputs": [],
   "source": []
  },
  {
   "cell_type": "markdown",
   "id": "b6b80605-0f15-49be-82fb-87eeefe91ebf",
   "metadata": {},
   "source": [
    "### 5. Создайте вектор с целыми числами от 10 до 42, включая концы.\n",
    "<b>hint</b><br>\n",
    "<img src=\"hints/5.png\" width=300em/>"
   ]
  },
  {
   "cell_type": "code",
   "execution_count": null,
   "id": "0068908e-9bef-415c-866d-a16815adfa31",
   "metadata": {},
   "outputs": [],
   "source": []
  },
  {
   "cell_type": "markdown",
   "id": "1b2be230-105c-4845-a54c-22ae79d682f5",
   "metadata": {},
   "source": [
    "### 6. Создайте вектор с числами от -5 до 5 с шагом 0.25, включая концы."
   ]
  },
  {
   "cell_type": "code",
   "execution_count": null,
   "id": "f70ac7c4-3f9f-480f-928d-77c32a14390c",
   "metadata": {},
   "outputs": [],
   "source": []
  },
  {
   "cell_type": "markdown",
   "id": "0995e945-a2ce-45d2-a9d2-8fbe56749d38",
   "metadata": {},
   "source": [
    "### 7. Создайте вектор с числами от 0 до 50, не включая 50. \"Разверните\" его.\n",
    "\n",
    "<b>hint</b><br>\n",
    "<img src=\"hints/7.png\" width=300em/>"
   ]
  },
  {
   "cell_type": "code",
   "execution_count": null,
   "id": "4cd99126-1d27-4b44-8677-0b06b9f98a42",
   "metadata": {},
   "outputs": [],
   "source": []
  },
  {
   "cell_type": "markdown",
   "id": "575d67ac-296d-47de-bddd-85af4aad4064",
   "metadata": {},
   "source": [
    "### 8. Создайты матрицу из случайных чисел размера 10 на 10.\n",
    "\n",
    "<b>hint</b><br>\n",
    "<img src=\"hints/8.png\" width=300em/>"
   ]
  },
  {
   "cell_type": "code",
   "execution_count": null,
   "id": "3a7b93d6-d2ed-4beb-9677-9882e4ed538e",
   "metadata": {},
   "outputs": [],
   "source": []
  },
  {
   "cell_type": "markdown",
   "id": "c46c7537-71be-4c5b-9453-3f07367b2cd0",
   "metadata": {},
   "source": [
    "### 9. Определите минимум и максимум матрицы.\n",
    "\n",
    "<b>hint</b><br>\n",
    "<img src=\"hints/9.png\" width=300em/>"
   ]
  },
  {
   "cell_type": "code",
   "execution_count": null,
   "id": "270be469-af37-4979-88f0-62604df8fab4",
   "metadata": {},
   "outputs": [],
   "source": []
  },
  {
   "cell_type": "markdown",
   "id": "b9587e73-08c0-48b4-9fe6-b19d3b80a88e",
   "metadata": {},
   "source": [
    "### 10. Определите размах (разницу миимума и максимума) за одну строчку кода."
   ]
  },
  {
   "cell_type": "code",
   "execution_count": null,
   "id": "fafde3df-47ae-412c-af4f-fed163bab83a",
   "metadata": {},
   "outputs": [],
   "source": []
  },
  {
   "cell_type": "markdown",
   "id": "b22d0a32-f89c-4f6d-9cb6-6c67b57a2e9a",
   "metadata": {},
   "source": [
    "### 11. Измените размерность созданной ранее матрицы в вектор-строку.\n",
    "\n",
    "<b>hint</b><br>\n",
    "<img src=\"hints/11.png\" width=300em/>"
   ]
  },
  {
   "cell_type": "code",
   "execution_count": null,
   "id": "db3b293b-22d6-46ca-9404-74bc29fbe4bf",
   "metadata": {},
   "outputs": [],
   "source": []
  },
  {
   "cell_type": "markdown",
   "id": "b7cde9e7-322f-4acc-8d58-8719cf5d383e",
   "metadata": {},
   "source": [
    "### 12. Определите среднее и стандартное отклонение этого вектора.\n",
    "\n",
    "<b>hint</b><br>\n",
    "<img src=\"hints/12.png\" width=300em/>"
   ]
  },
  {
   "cell_type": "code",
   "execution_count": null,
   "id": "6c2d1bd3-8eb4-49a7-968e-c888ea143802",
   "metadata": {},
   "outputs": [],
   "source": []
  },
  {
   "cell_type": "markdown",
   "id": "b455ba23-f295-4591-8ed9-bfff273fd506",
   "metadata": {},
   "source": [
    "### 13. Создайте вектор-стоку из 20 случайных чисел. Прибавьте к нему 5 и умножьте на 10."
   ]
  },
  {
   "cell_type": "code",
   "execution_count": null,
   "id": "ff29d1c3-6b99-41bb-887a-bd220d8addb8",
   "metadata": {},
   "outputs": [],
   "source": []
  },
  {
   "cell_type": "markdown",
   "id": "17db12ed-207a-46cf-85a0-9433ecda5f94",
   "metadata": {},
   "source": [
    "### 14. Для каждого числа вектора определите, сколько процентов от максимального числа составляет это число (напр вектор [1, 4, 8] должен превратиться в [25, 50, 100])."
   ]
  },
  {
   "cell_type": "code",
   "execution_count": null,
   "id": "06e37f3d-1ba7-4da3-8ee4-2f83426cd3b2",
   "metadata": {},
   "outputs": [],
   "source": []
  },
  {
   "cell_type": "markdown",
   "id": "52be994b-8027-4789-bcae-2dbc9f906b16",
   "metadata": {},
   "source": [
    "### 15. Создайте матрицу с числами из нормального распределение с параметрами: среднее=10, стандартное отклонение=2.5, размерность: 20 на 5.\n",
    "\n",
    "<b>hint</b><br>\n",
    "<img src=\"hints/15.png\" width=300em/>"
   ]
  },
  {
   "cell_type": "code",
   "execution_count": null,
   "id": "3b850221-f023-4041-8fa2-fb09aac86dc7",
   "metadata": {},
   "outputs": [],
   "source": []
  },
  {
   "cell_type": "markdown",
   "id": "c28bd931-3f07-4ac9-b2b9-8a9dd754c53a",
   "metadata": {},
   "source": [
    "### 16. Центрируйте матрицу. Для этого из каждого столбца надо вычесть среднее значение столбца. Или, если проще, вычесть из матрицы вектор со средними значениями столбцов."
   ]
  },
  {
   "cell_type": "code",
   "execution_count": null,
   "id": "8d448411-53ba-4f4c-b75c-452c9393d385",
   "metadata": {},
   "outputs": [],
   "source": []
  },
  {
   "cell_type": "markdown",
   "id": "7fe3efbf-7830-4699-8ad2-ce207bc3c8fa",
   "metadata": {},
   "source": [
    "### 17. Стандартизируйте эту матрицу\n",
    "(т.е. для каждого $x $ нужно провести операцию<br>\n",
    "\n",
    "$ \\large x_{new} = \\frac{x_{old} - column_{mean}}{column_{std}}$"
   ]
  },
  {
   "cell_type": "code",
   "execution_count": null,
   "id": "b21ff497-f066-4a4b-96f0-f1ad891ef316",
   "metadata": {},
   "outputs": [],
   "source": []
  }
 ],
 "metadata": {
  "kernelspec": {
   "display_name": "HOCK",
   "language": "python",
   "name": "hock"
  },
  "language_info": {
   "codemirror_mode": {
    "name": "ipython",
    "version": 3
   },
   "file_extension": ".py",
   "mimetype": "text/x-python",
   "name": "python",
   "nbconvert_exporter": "python",
   "pygments_lexer": "ipython3",
   "version": "3.9.16"
  }
 },
 "nbformat": 4,
 "nbformat_minor": 5
}
