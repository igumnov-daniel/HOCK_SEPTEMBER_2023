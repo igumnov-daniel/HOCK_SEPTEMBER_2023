{
 "cells": [
  {
   "cell_type": "markdown",
   "id": "43338202-03e3-45e9-be37-626c68b43679",
   "metadata": {},
   "source": [
    "# Методы строк"
   ]
  },
  {
   "cell_type": "markdown",
   "id": "d3013642-b2e6-4e2f-8897-33a6a2732b7b",
   "metadata": {},
   "source": [
    "Все методы собраны в удобную табличку <a href=\"https://pythonworld.ru/tipy-dannyx-v-python/stroki-funkcii-i-metody-strok.html\">тут</a>."
   ]
  },
  {
   "cell_type": "markdown",
   "id": "91bbffe6-fe42-45b7-859e-ac45bd413890",
   "metadata": {},
   "source": [
    "Пока мы знаем, что:<br>\n",
    "* у строки есть метод `split`;\n",
    "* строку можно проитерировать (перебрать);\n",
    "* к элементу строки можно обратиться по индексу."
   ]
  },
  {
   "cell_type": "markdown",
   "id": "c1c099b6-1a62-4b63-93e3-6ac9e5c5809f",
   "metadata": {},
   "source": [
    "## Срезы"
   ]
  },
  {
   "cell_type": "markdown",
   "id": "74f8621b-50ce-49ce-ac55-cc2d2a4c34fb",
   "metadata": {},
   "source": [
    "Еще можно обратиться к среду строки или списка."
   ]
  },
  {
   "cell_type": "code",
   "execution_count": 84,
   "id": "68b1fa0f-187d-449e-91ea-1b4e14a55e2c",
   "metadata": {
    "tags": []
   },
   "outputs": [
    {
     "name": "stdout",
     "output_type": "stream",
     "text": [
      "ello\n"
     ]
    }
   ],
   "source": [
    "text = 'hello world!'\n",
    "text_slice = text[1:5] # start, stop\n",
    "print(text_slice)"
   ]
  },
  {
   "cell_type": "code",
   "execution_count": 85,
   "id": "db48fd4f-e0c5-48fa-b007-ac4b7d7a9e15",
   "metadata": {
    "tags": []
   },
   "outputs": [
    {
     "name": "stdout",
     "output_type": "stream",
     "text": [
      "el \n"
     ]
    }
   ],
   "source": [
    "text = 'hello world!'\n",
    "text_slice = text[1:7:2] # start, stop, step\n",
    "print(text_slice)"
   ]
  },
  {
   "cell_type": "markdown",
   "id": "1fe6ed7c-55ef-4b7b-ab86-f6513a36b5fb",
   "metadata": {},
   "source": [
    "Аналогично для списков."
   ]
  },
  {
   "cell_type": "markdown",
   "id": "73d523fd-bff0-45de-a179-b9b07af9cc03",
   "metadata": {},
   "source": [
    "## Поиск подстроки в строке"
   ]
  },
  {
   "cell_type": "markdown",
   "id": "e070ee0f-1a8b-4939-865b-29e2d184534a",
   "metadata": {},
   "source": [
    "Для поиска подстроки в строке можно использовать метод find().<br>\n",
    "\n",
    "* find() возвращает индекс первого вхождения подстроки или -1, если\n",
    "подстрока не найдена;<br>\n",
    "* index(), работает аналогично методу find(), но вызывает\n",
    "исключение, если подстрока не найдена."
   ]
  },
  {
   "cell_type": "markdown",
   "id": "335f26fb-e20d-45cb-bcd3-5465f5a9386d",
   "metadata": {},
   "source": [
    "#### Задачка 1\n",
    "Напишите код, который работает так же, как find: принимается строка, затем символ. Программа должна печатать индекс первого вхождения символа в строку или -1, если символ не был найден."
   ]
  },
  {
   "cell_type": "code",
   "execution_count": 2,
   "id": "ed5f27bb-7e23-4aff-a9ad-d4fc4064ff27",
   "metadata": {
    "tags": []
   },
   "outputs": [],
   "source": [
    "# ваш код\n"
   ]
  },
  {
   "cell_type": "markdown",
   "id": "58b135f5-6868-4ef8-95d8-17be11520145",
   "metadata": {},
   "source": [
    "На самом деле, `find` и `index` более мощные и ищут вхождение любой подстроки в строку."
   ]
  },
  {
   "cell_type": "code",
   "execution_count": 1,
   "id": "911d6da2-f6b6-4253-8505-07e301b7644c",
   "metadata": {
    "tags": []
   },
   "outputs": [
    {
     "name": "stdout",
     "output_type": "stream",
     "text": [
      "7\n"
     ]
    }
   ],
   "source": [
    "text = \"Hello, world!\"\n",
    "pos = text.find(\"world\") # Поиск подстроки \"world\"\n",
    "print(pos)"
   ]
  },
  {
   "cell_type": "markdown",
   "id": "bc45394d-2113-496c-a678-4a2fdde9de76",
   "metadata": {},
   "source": [
    "#### Задачка 2"
   ]
  },
  {
   "cell_type": "markdown",
   "id": "0a893650-0b20-47ab-ae1f-cccdda2fc267",
   "metadata": {},
   "source": [
    "Используя метод `find`, найдите индекс первого вхождения подстроки \"друг\" в текст первой строфы Зимнего Утра Пушкина."
   ]
  },
  {
   "cell_type": "code",
   "execution_count": 8,
   "id": "5fdbcc13-555b-4386-8d26-4d4d45d2015b",
   "metadata": {
    "tags": []
   },
   "outputs": [],
   "source": [
    "# создаем переменную с текстом\n",
    "text = \"\"\"\n",
    "Мороз и солнце; день чудесный!\n",
    "Еще ты дремлешь, друг прелестный —\n",
    "Пора, красавица, проснись:\n",
    "Открой сомкнуты негой взоры\n",
    "Навстречу северной Авроры,\n",
    "Звездою севера явись!\n",
    "\"\"\".strip()\n",
    "\n",
    "# далее ваш код\n"
   ]
  },
  {
   "cell_type": "markdown",
   "id": "fe059a36-1e47-4cfa-9280-dc1ee69c4761",
   "metadata": {},
   "source": [
    "## Проверка условий относительно символов строки"
   ]
  },
  {
   "cell_type": "markdown",
   "id": "e84803e7-768e-4907-834a-4292d56b5923",
   "metadata": {},
   "source": [
    "### `isalpha`,`isdigit`,`islower`, `isupper` \n",
    "— методы, проверяющие некоторое условие относительно символов строки."
   ]
  },
  {
   "cell_type": "markdown",
   "id": "9b572dc7-8cc4-419d-b573-ebfc8bba173b",
   "metadata": {},
   "source": [
    "Метод `isalpha` возвращает значение **True**, если все символы в строке\n",
    "являются буквами, и **False** в противном случае."
   ]
  },
  {
   "cell_type": "code",
   "execution_count": 9,
   "id": "afd3071c-f97c-45a0-ac0d-f2ec72247d81",
   "metadata": {
    "tags": []
   },
   "outputs": [
    {
     "name": "stdout",
     "output_type": "stream",
     "text": [
      "True\n"
     ]
    }
   ],
   "source": [
    "text = \"HOCK\"\n",
    "is_alpha = text.isalpha() # Проверка, содержит ли строка только буквы\n",
    "print(is_alpha)"
   ]
  },
  {
   "cell_type": "code",
   "execution_count": 10,
   "id": "d6bfc0ec-fe66-467d-9863-eb734c1d196a",
   "metadata": {
    "tags": []
   },
   "outputs": [
    {
     "name": "stdout",
     "output_type": "stream",
     "text": [
      "True\n"
     ]
    }
   ],
   "source": [
    "text = \"Training\"\n",
    "is_alpha = text.isalpha() # Проверка, содержит ли строка только буквы\n",
    "print(is_alpha)"
   ]
  },
  {
   "cell_type": "markdown",
   "id": "127aac14-e333-41d4-af83-90994797e9e7",
   "metadata": {},
   "source": [
    "Метод `isdigit` возвращает значение **True**, если все символы в строке\n",
    "являются цифрами, и **False** в противном случае."
   ]
  },
  {
   "cell_type": "code",
   "execution_count": 24,
   "id": "b0192611-ff84-4493-a611-64f80012719b",
   "metadata": {
    "tags": []
   },
   "outputs": [
    {
     "name": "stdout",
     "output_type": "stream",
     "text": [
      "False\n"
     ]
    }
   ],
   "source": [
    "text = \"HOCK\"\n",
    "is_alpha = text.isdigit() # Проверка, содержит ли строка только буквы\n",
    "print(is_alpha)"
   ]
  },
  {
   "cell_type": "code",
   "execution_count": 25,
   "id": "aacfa6c6-11eb-4c44-a36e-624e5a518fc2",
   "metadata": {
    "tags": []
   },
   "outputs": [
    {
     "name": "stdout",
     "output_type": "stream",
     "text": [
      "True\n"
     ]
    }
   ],
   "source": [
    "text = \"2023\"\n",
    "is_alpha = text.isdigit() # Проверка, содержит ли строка только буквы\n",
    "print(is_alpha)"
   ]
  },
  {
   "cell_type": "markdown",
   "id": "304183e3-7839-4d26-94a4-0477737bd5b3",
   "metadata": {},
   "source": [
    "Метод `islower` возвращает значение **True**, если все буквы в строке являются\n",
    "строчными, и **False** в противном случае."
   ]
  },
  {
   "cell_type": "code",
   "execution_count": 14,
   "id": "1a2c16f6-5c71-4e76-b31d-3add1c19c9f9",
   "metadata": {
    "tags": []
   },
   "outputs": [
    {
     "name": "stdout",
     "output_type": "stream",
     "text": [
      "False\n"
     ]
    }
   ],
   "source": [
    "text = \"HOCK\"\n",
    "is_alpha = text.islower()\n",
    "print(is_alpha)"
   ]
  },
  {
   "cell_type": "code",
   "execution_count": 15,
   "id": "8ca0d60b-a96d-473b-a7f4-e0d37b84dcd9",
   "metadata": {
    "tags": []
   },
   "outputs": [
    {
     "name": "stdout",
     "output_type": "stream",
     "text": [
      "False\n"
     ]
    }
   ],
   "source": [
    "text = \"Training\"\n",
    "is_alpha = text.islower()\n",
    "print(is_alpha)"
   ]
  },
  {
   "cell_type": "markdown",
   "id": "aa8d5477-dd2b-4d5b-8dbc-bf1286d58215",
   "metadata": {},
   "source": [
    "Метод `isupper` проверяет, состоит ли строка только из прописных (заглавных) букв."
   ]
  },
  {
   "cell_type": "code",
   "execution_count": 17,
   "id": "bd87f22a-380b-40e5-aa5c-f928b37f8100",
   "metadata": {
    "tags": []
   },
   "outputs": [
    {
     "name": "stdout",
     "output_type": "stream",
     "text": [
      "True\n"
     ]
    }
   ],
   "source": [
    "text = \"HOCK\"\n",
    "is_alpha = text.isupper()\n",
    "print(is_alpha)"
   ]
  },
  {
   "cell_type": "code",
   "execution_count": 18,
   "id": "56edd630-41d7-4095-9499-38cff515e37f",
   "metadata": {
    "tags": []
   },
   "outputs": [
    {
     "name": "stdout",
     "output_type": "stream",
     "text": [
      "False\n"
     ]
    }
   ],
   "source": [
    "text = \"Training\"\n",
    "is_alpha = text.isupper()\n",
    "print(is_alpha)"
   ]
  },
  {
   "cell_type": "markdown",
   "id": "1979aa2b-4648-4df6-bbdf-59113a986166",
   "metadata": {},
   "source": [
    "#### Задачка 3\n",
    "Для регистрации в некоторой системе пользователь создаёт пароль. <br>\n",
    "Чтобы система приняла пароль, следующие условия должны выполняться:<br>\n",
    "* длина пароля не менее 8 символов;<br>\n",
    "* пароль не может состоять только из прописных или только из строчных символов;<br>\n",
    "* все символы обязаны быть буквами."
   ]
  },
  {
   "cell_type": "code",
   "execution_count": 26,
   "id": "0dfaab54-85f4-455f-8c37-80e78054d9b6",
   "metadata": {
    "tags": []
   },
   "outputs": [],
   "source": [
    "# ваш код\n"
   ]
  },
  {
   "cell_type": "markdown",
   "id": "5535a56e-e55f-4c2b-87b5-5eefde9e8822",
   "metadata": {},
   "source": [
    "## Проверка условий, относительно всей строки"
   ]
  },
  {
   "cell_type": "markdown",
   "id": "99299d4e-3480-417a-9c25-7529a30b1e42",
   "metadata": {},
   "source": [
    "### `startswith`, `endswith`"
   ]
  },
  {
   "cell_type": "markdown",
   "id": "0c734628-c79b-400c-9f15-3ff956e976b4",
   "metadata": {},
   "source": [
    "Метод `startswith` возвращает значение **True**, если строка начинается с\n",
    "определенной подстроки, и **False** в противном случае.<br>\n",
    "Метод `endswith` проверяет, заканчивается ли строка определенной\n",
    "подстрокой."
   ]
  },
  {
   "cell_type": "code",
   "execution_count": 27,
   "id": "dbfd65a7-2922-4eee-873f-2a3b2f48efd2",
   "metadata": {
    "tags": []
   },
   "outputs": [
    {
     "name": "stdout",
     "output_type": "stream",
     "text": [
      "True\n"
     ]
    }
   ],
   "source": [
    "text = \"HOCK Training!\"\n",
    "starts_with_hock = text.startswith(\"HOCK\") # Проверка, начинается ли строка с HOCK\n",
    "print(starts_with_hock)"
   ]
  },
  {
   "cell_type": "code",
   "execution_count": 28,
   "id": "97495079-9915-45bd-96ef-05380e47df02",
   "metadata": {
    "tags": []
   },
   "outputs": [
    {
     "name": "stdout",
     "output_type": "stream",
     "text": [
      "True\n"
     ]
    }
   ],
   "source": [
    "ends_with_exclamation = text.endswith(\"!\")\n",
    "print(ends_with_exclamation)"
   ]
  },
  {
   "cell_type": "markdown",
   "id": "f0d52b17-0a42-4601-b3b8-1b99b65eaa4a",
   "metadata": {},
   "source": [
    "## Методы, изменяющие строки (возвращаюие новую, измененную)"
   ]
  },
  {
   "cell_type": "markdown",
   "id": "2db1e221-e006-4281-9e5a-845265457dba",
   "metadata": {},
   "source": [
    "`lower` и `upper` — методы, которые возвращают новую строку, преобразованную к нижнему или верхнему регистру соответственно."
   ]
  },
  {
   "cell_type": "markdown",
   "id": "b40799c8-da8b-4bb8-a5dc-8d5fbea66b76",
   "metadata": {},
   "source": [
    "`title` делает первую букву заглавном, остальные -- строчными."
   ]
  },
  {
   "cell_type": "code",
   "execution_count": 30,
   "id": "52479320-279a-42dd-a3bb-c70ad1d21b84",
   "metadata": {
    "tags": []
   },
   "outputs": [
    {
     "name": "stdout",
     "output_type": "stream",
     "text": [
      "hock\n"
     ]
    }
   ],
   "source": [
    "text = \"HOCK\"\n",
    "newtext = text.lower()\n",
    "print(newtext)"
   ]
  },
  {
   "cell_type": "code",
   "execution_count": 31,
   "id": "3a6a299e-76a1-40a5-b31e-d6be678fda31",
   "metadata": {
    "tags": []
   },
   "outputs": [
    {
     "name": "stdout",
     "output_type": "stream",
     "text": [
      "TRAINING\n"
     ]
    }
   ],
   "source": [
    "text = \"Training\"\n",
    "newtext = text.upper()\n",
    "print(newtext)"
   ]
  },
  {
   "cell_type": "code",
   "execution_count": 32,
   "id": "2c814bf4-78ec-4b87-becf-afd2de3fa2d7",
   "metadata": {
    "tags": []
   },
   "outputs": [
    {
     "name": "stdout",
     "output_type": "stream",
     "text": [
      "Hock Training\n"
     ]
    }
   ],
   "source": [
    "text = 'HoCk TrAInING'\n",
    "newtext = text.title()\n",
    "print(newtext)"
   ]
  },
  {
   "cell_type": "markdown",
   "id": "491c07d7-faa9-432a-868a-c9d61dc8f82e",
   "metadata": {},
   "source": [
    "#### Задачка 4"
   ]
  },
  {
   "cell_type": "markdown",
   "id": "89c3d11b-6d19-4216-91ef-d2d0891fa0ca",
   "metadata": {},
   "source": [
    "Напишите программу, которая принимает от пользователя на одной строке через пробел два значения: имя и логин.<br>\n",
    "\n",
    "Пользователь может ввести имя по-разному, но мы должны сохранить его имя так, чтобы первая буква была прописной, а остальные -- строчными. Имя должно состоять только из букв.<br>\n",
    "\n",
    "Логин может быть введен по-разному и должен состоять как из цифр, так и из букв. Разлисными специальные и _стремные_ символы пользователь вводить не будет, не переживает за это.\n",
    "<br>\n",
    "При сохранении логин должен быть переведен в нижний регистр (строчные буквы).<br>\n",
    "Длина логина должна бть больше 4 символов (пробельные символы пользователь вводить не будет).<br>\n",
    "\n",
    "После сохранение имени и логина пользователя в нужный формат, программа выводит информационное сообщение, где обращается к пользователю по имени и пишет, какой логин был для него зарегистрирован.<br>\n",
    "\n",
    "Если было введено некорректное значение для имени или логина, то программа говорит, что конкретно было введено неверно. Или говорит, что и то, и то было введено неверно.<br>\n",
    "Программа запрашивает имя и логин повторно до тех пор, пока не будут введеные корректные значения."
   ]
  },
  {
   "cell_type": "code",
   "execution_count": null,
   "id": "88893906-5a94-4ab9-a79f-5e37401a5cb8",
   "metadata": {},
   "outputs": [],
   "source": []
  },
  {
   "cell_type": "markdown",
   "id": "95ab325a-f56e-4425-a7f0-914f31ac7e70",
   "metadata": {},
   "source": [
    "### `replace`"
   ]
  },
  {
   "cell_type": "markdown",
   "id": "d8faef98-4f7e-405d-880c-ce75ec8eb35a",
   "metadata": {},
   "source": [
    "Метод создает новую строку, заменяя все вхождения указанной подстроки на другую подстроку."
   ]
  },
  {
   "cell_type": "code",
   "execution_count": 35,
   "id": "abcec29d-790b-4a48-a826-a7bf7ad08e7c",
   "metadata": {
    "tags": []
   },
   "outputs": [
    {
     "name": "stdout",
     "output_type": "stream",
     "text": [
      "ХОК Training\n"
     ]
    }
   ],
   "source": [
    "text = \"HOCK Training\"\n",
    "new_text = text.replace(\"HOCK\", \"ХОК\") # Замена подстроки \"HOCK\" на \"ХОК\"\n",
    "print(new_text)"
   ]
  },
  {
   "cell_type": "markdown",
   "id": "7a1d6d71-8899-460c-996e-835d935d5780",
   "metadata": {},
   "source": [
    "### `split` и `join`"
   ]
  },
  {
   "cell_type": "markdown",
   "id": "e031ac0d-2c13-47bf-9357-aeb0ff00b8a0",
   "metadata": {},
   "source": [
    "Разделяют или, наоборот, соединяют строки."
   ]
  },
  {
   "cell_type": "markdown",
   "id": "be966714-b359-4e94-b2fa-91730299eae7",
   "metadata": {},
   "source": [
    "Метод `split` разделяет строку на подстроки по указанному разделителю и\n",
    "возвращает список элементов (подстрок).<br>\n",
    "\n",
    "Метод `join` объединяет список строк в одну строку по указанному разделителю."
   ]
  },
  {
   "cell_type": "code",
   "execution_count": 37,
   "id": "440d31f2-5f3d-45b0-95ab-3358e4763a84",
   "metadata": {
    "tags": []
   },
   "outputs": [
    {
     "name": "stdout",
     "output_type": "stream",
     "text": [
      "['И', 'жить', 'торопится,', 'и', 'чувствовать', 'спешит.']\n"
     ]
    }
   ],
   "source": [
    "text = \"И жить торопится, и чувствовать спешит.\"\n",
    "words = text.split() # Разделение строки на подстроки (по-умолчанию по пробельным символам)\n",
    "print(words)"
   ]
  },
  {
   "cell_type": "code",
   "execution_count": 38,
   "id": "8d1a6c29-d403-4d85-a0f8-33b5364ca485",
   "metadata": {
    "tags": []
   },
   "outputs": [
    {
     "name": "stdout",
     "output_type": "stream",
     "text": [
      "И жить торопится, и чувствовать спешит.\n"
     ]
    }
   ],
   "source": [
    "joined_text = \" \".join(words) # Объединение списка подстрок в строку\n",
    "print(joined_text)"
   ]
  },
  {
   "cell_type": "code",
   "execution_count": 41,
   "id": "a73fd4ad-8154-473d-8b22-f4bd65f238bf",
   "metadata": {
    "tags": []
   },
   "outputs": [
    {
     "data": {
      "text/plain": [
       "True"
      ]
     },
     "execution_count": 41,
     "metadata": {},
     "output_type": "execute_result"
    }
   ],
   "source": [
    "joined_text == text # тексты равны, так как мы по пробелу разбили и потом соединили"
   ]
  },
  {
   "cell_type": "markdown",
   "id": "2aa4593f-b0a9-469a-a807-efa0baf28af4",
   "metadata": {},
   "source": [
    "### `strip`, `lstrip`, `rstrip`"
   ]
  },
  {
   "cell_type": "markdown",
   "id": "3d753e18-45d3-4267-835e-83a81f15dcef",
   "metadata": {},
   "source": [
    "Метод `strip` удаляет ненужные символы с концов строки.<br>\n",
    "`lstrip` и `rstip` удаляют их с левого и правого концов строки соответственно."
   ]
  },
  {
   "cell_type": "code",
   "execution_count": 44,
   "id": "4785e35d-f509-4244-ab39-f9e2c489642b",
   "metadata": {
    "tags": []
   },
   "outputs": [
    {
     "name": "stdout",
     "output_type": "stream",
     "text": [
      "   Hello \n",
      "Hello\n"
     ]
    }
   ],
   "source": [
    "text = '   Hello '\n",
    "print(text)\n",
    "text_stripped = text.strip()\n",
    "print(text_stripped)"
   ]
  },
  {
   "cell_type": "markdown",
   "id": "d865286a-40ec-4ee3-8e2c-eb9b2df767a6",
   "metadata": {},
   "source": [
    "### Задачка 5"
   ]
  },
  {
   "cell_type": "markdown",
   "id": "7ffa749f-7636-43a6-a2d6-e9d03ab60122",
   "metadata": {},
   "source": [
    "Дана информация о среднемесячной температуры в некоторых городах.<br>\n",
    "Получите для каждого города  температуру в октябре и выведите на экран построчно через знак табуляции с заголовом.<br>\n",
    "Пример: <br>\n",
    "```\n",
    "CITY    OCT\n",
    "ГОРОД    ТЕМПЕРАТУРА\n",
    "и т.д.\n",
    "```\n",
    "\n",
    "Обратите внимание, что в данных первый столбец также содержит штат. **Штат из названия города надо убрать**;"
   ]
  },
  {
   "cell_type": "code",
   "execution_count": 45,
   "id": "756ddb19-b25c-409f-bf24-2bd1c4522a32",
   "metadata": {
    "tags": []
   },
   "outputs": [],
   "source": [
    "data = \"\"\"\n",
    "CITIES;JAN;FEB;MAR;APR;MAY;JUN;JUL;AUG;SEP;OCT;NOV;DEC\n",
    "ATLANTA, GA;42,7;46,7;54,3;61,6;69,8;76,8;80;78,9;73,3;62,8;53,4;45,4\n",
    "CHICAGO,IL;22;27;37,3;47,8;58,7;68,2;73,3;71,7;63,8;52,1;39,3;27,4\n",
    "NEW ORLEANS, LA;52,6;55,7;62,4;68,2;75,6;80,7;82,7;82,5;78,9;70;61,4;55,1\n",
    "SAN FRANCISCO AP, CA;49,4;52,4;54;56,2;58,7;61,4;62,8;63,6;63,9;61;54,7;49,5\n",
    "VICTORIA, TX;53,2;56,7;63,7;69,7;76,6;81,8;84,2;84,2;80,1;72,3;62,7;55,2\n",
    "LAS VEGAS, NV;47;52,2;58,3;66;75,4;85,6;91,2;89,3;81,3;68,7;55;47\n",
    "\"\"\"\n",
    "\n",
    "# ваш код\n"
   ]
  },
  {
   "cell_type": "markdown",
   "id": "603d1f4f-b4f4-43e0-afbd-effafc63f291",
   "metadata": {},
   "source": [
    "`ljust`, `rjust`, `center`"
   ]
  },
  {
   "cell_type": "markdown",
   "id": "f8414ea8-bf63-461b-9ef7-efe600e08f10",
   "metadata": {
    "tags": []
   },
   "source": [
    "Методы для выравнивания строк."
   ]
  },
  {
   "cell_type": "markdown",
   "id": "3b683396-3f99-4402-8d6e-dbecd8b751a4",
   "metadata": {},
   "source": [
    "`ljust` выравнивает строку по левому краю, добавляя пробелы в конец\n",
    "строки, чтобы достичь заданной ширины.<br>\n",
    "`rjust` выравнивает строку по правому краю, добавляя пробелы в начало\n",
    "строки.<br>\n",
    "`center` выравнивает строку по центру, добавляя пробелы с обеих сторон"
   ]
  },
  {
   "cell_type": "code",
   "execution_count": 52,
   "id": "4566c46a-ea56-4eea-b7d6-5d1d6e1e0c3c",
   "metadata": {
    "tags": []
   },
   "outputs": [
    {
     "name": "stdout",
     "output_type": "stream",
     "text": [
      "left\n",
      "Hello     \n",
      "\n",
      "right\n",
      "     Hello\n",
      "\n",
      "center\n",
      "  Hello   \n",
      "\n"
     ]
    }
   ],
   "source": [
    "text = \"Hello\"\n",
    "left_alligned_text = text.ljust(10)\n",
    "print('left')\n",
    "print(left_alligned_text)\n",
    "print()\n",
    "\n",
    "right_alligned_text = text.rjust(10)\n",
    "print('right')\n",
    "print(right_alligned_text)\n",
    "print()\n",
    "\n",
    "center_alligned_text = text.center(10)\n",
    "print('center')\n",
    "print(center_alligned_text)\n",
    "print()"
   ]
  },
  {
   "cell_type": "markdown",
   "id": "64284b85-1fa9-4b4c-9501-fcc4fd24722d",
   "metadata": {},
   "source": [
    "### Задачка 6"
   ]
  },
  {
   "cell_type": "markdown",
   "id": "fec05313-0c95-4778-9ae9-704885f982d2",
   "metadata": {},
   "source": [
    "Программа принимает строку и \"схлопывает\" все повторяющиеся символы.<br>\n",
    "То есть при повторении какого-то символа несколько раз подряд все повторы удаляются, остается только первый символ из серии.<br>\n",
    "Примеры \"превращений\":\n",
    "```\n",
    "'aaabbbccc' -> 'abc'\n",
    "'Длинношеее' -> 'длиноше'\n",
    "'Уууууураааа!!!' -> 'Ура!'\n",
    "'Казззино777' -> 'Казино7'\n",
    "```"
   ]
  },
  {
   "cell_type": "code",
   "execution_count": 56,
   "id": "ecaede61-cd3f-4c0b-a47c-1ee107f19a64",
   "metadata": {
    "tags": []
   },
   "outputs": [],
   "source": [
    "# ваш код\n"
   ]
  },
  {
   "cell_type": "markdown",
   "id": "d7196f59-ef87-432b-997d-560df3478f66",
   "metadata": {},
   "source": [
    "### Задачка 7"
   ]
  },
  {
   "cell_type": "markdown",
   "id": "2df53841-b25f-440c-b30a-a1c37f23ea63",
   "metadata": {},
   "source": [
    "Программа принимает строку и \"схлопывает\" все повторяющиеся **небуквенныее** символы.<br>\n",
    "То есть при повторении какого-то символа (не буквы) несколько раз подряд все повторы удаляются, остается только первый символ из серии.<br>\n",
    "Примеры \"превращений\":\n",
    "```\n",
    "'Длинношеее' -> 'Длинношеее'\n",
    "'Уууууураааа!!!' -> 'Уууууураааа!'\n",
    "'Казззино777' -> 'Казззино7'\n",
    "```"
   ]
  },
  {
   "cell_type": "code",
   "execution_count": 57,
   "id": "a84ba936-8000-4245-97bd-af23dce7efe3",
   "metadata": {
    "tags": []
   },
   "outputs": [],
   "source": [
    "# ваш код\n"
   ]
  },
  {
   "cell_type": "markdown",
   "id": "418bfa31-f713-4b82-9efc-a1255c67b8bd",
   "metadata": {},
   "source": [
    "# Форматирование строк"
   ]
  },
  {
   "cell_type": "markdown",
   "id": "bbd9a49f-7201-474b-bf19-a3686e3e1838",
   "metadata": {},
   "source": [
    "Строка -- упорядоченная последовательность символов, используемая для хранения и представления текстовой\n",
    "информации.<br>\n",
    "Строковые литералы в python создаются с помощью одинарных кавычек, двойных, тройных двойных."
   ]
  },
  {
   "cell_type": "code",
   "execution_count": 58,
   "id": "61b16763-8592-425a-9ca8-2f24303359e1",
   "metadata": {
    "tags": []
   },
   "outputs": [],
   "source": [
    "text = 'text'\n",
    "text = \"text\"\n",
    "text = \"\"\"text\"\"\" # можно записать многострочный текст"
   ]
  },
  {
   "cell_type": "markdown",
   "id": "1e45aabe-75fa-43eb-8cc8-1b08319ce6ea",
   "metadata": {},
   "source": [
    "## Экранирование"
   ]
  },
  {
   "cell_type": "markdown",
   "id": "1575cd63-c2e1-4651-9140-48b89ef6e28f",
   "metadata": {},
   "source": [
    "Если строка содержит символы, которые могут конфликтовать с кавычками,\n",
    "их можно экранировать с помощью обратного слеша (\\\\)."
   ]
  },
  {
   "cell_type": "code",
   "execution_count": 61,
   "id": "5e6fc5e3-8e2c-4d88-8fc3-ca37618fa708",
   "metadata": {
    "tags": []
   },
   "outputs": [],
   "source": [
    "text = 'I\\'m a big fan of apples' # слеш как бы говорить, что после него обычный символ, а не что-то со смыслом"
   ]
  },
  {
   "cell_type": "markdown",
   "id": "3fb942e9-45ce-4eed-8309-da844a4a5194",
   "metadata": {},
   "source": [
    "### Escape-последовательности, или специальные символы"
   ]
  },
  {
   "cell_type": "code",
   "execution_count": 62,
   "id": "34373bfb-7580-4b9a-9be6-524c1f47bfc0",
   "metadata": {
    "tags": []
   },
   "outputs": [
    {
     "name": "stdout",
     "output_type": "stream",
     "text": [
      "first elem\tsecond elem\n",
      "second line first elem\tsecond line second elem\n"
     ]
    }
   ],
   "source": [
    "text = 'first elem\\tsecond elem\\nsecond line first elem\\tsecond line second elem'\n",
    "print(text)"
   ]
  },
  {
   "cell_type": "markdown",
   "id": "22650dea-c7c2-4785-b181-1e3885228ed1",
   "metadata": {},
   "source": [
    "## Форматирование"
   ]
  },
  {
   "cell_type": "markdown",
   "id": "0ed8c211-269f-4a75-b5f7-786b2d949ef8",
   "metadata": {},
   "source": [
    "### format"
   ]
  },
  {
   "cell_type": "markdown",
   "id": "64c22724-8378-4998-83b7-a5d57b5d0f7f",
   "metadata": {
    "tags": []
   },
   "source": [
    "`format` позволяет вставлять значения аргументов в заданный шаблон строки."
   ]
  },
  {
   "cell_type": "markdown",
   "id": "439264d6-a9ba-4f60-8877-e2d811e06e7e",
   "metadata": {},
   "source": [
    "#### просто форматирование"
   ]
  },
  {
   "cell_type": "code",
   "execution_count": 64,
   "id": "8b06c8ad-47e5-4dee-86ec-2308acda8cba",
   "metadata": {
    "tags": []
   },
   "outputs": [
    {
     "name": "stdout",
     "output_type": "stream",
     "text": [
      "My name is Bob and I love Beer.\n"
     ]
    }
   ],
   "source": [
    "# аргументы по умолчанию\n",
    "print(\"My name is {} and I love {}.\".format(\"Bob\", \"Beer\"))"
   ]
  },
  {
   "cell_type": "code",
   "execution_count": 65,
   "id": "4f85933b-f63f-4c4c-ac44-43baf19300a6",
   "metadata": {
    "tags": []
   },
   "outputs": [
    {
     "name": "stdout",
     "output_type": "stream",
     "text": [
      "My name is Bob and I love Beer.\n",
      "My name is Beer and I love Bob.\n"
     ]
    }
   ],
   "source": [
    "# позиционные аргументы\n",
    "print(\"My name is {0} and I love {1}.\".format(\"Bob\", \"Beer\"))\n",
    "print(\"My name is {1} and I love {0}.\".format(\"Bob\", \"Beer\"))"
   ]
  },
  {
   "cell_type": "code",
   "execution_count": 66,
   "id": "5759a90d-6c81-44a4-abbd-960719f1edaf",
   "metadata": {
    "tags": []
   },
   "outputs": [
    {
     "name": "stdout",
     "output_type": "stream",
     "text": [
      "My name is Bob and I love Beer.\n"
     ]
    }
   ],
   "source": [
    "# аргументы ключевые слова\n",
    "print(\"My name is {name} and I love {loving}.\".format(name=\"Bob\", loving=\"Beer\"))"
   ]
  },
  {
   "cell_type": "code",
   "execution_count": 68,
   "id": "7c16c04e-0298-4419-945a-16dd017666da",
   "metadata": {
    "tags": []
   },
   "outputs": [
    {
     "name": "stdout",
     "output_type": "stream",
     "text": [
      "My name is Bob and I love Beer.\n",
      "My name is Bob and I love Beer.\n"
     ]
    }
   ],
   "source": [
    "# смешанные аргументы\n",
    "print(\"My name is {} and I love {loving}.\".format(\"Bob\", loving=\"Beer\"))\n",
    "print(\"My name is {0} and I love {loving}.\".format(\"Bob\", loving=\"Beer\"))"
   ]
  },
  {
   "cell_type": "markdown",
   "id": "ba9220d5-e243-4e03-a1fd-2251c85b43da",
   "metadata": {},
   "source": [
    "#### форматирование чисел"
   ]
  },
  {
   "cell_type": "code",
   "execution_count": 71,
   "id": "b12b75f5-f49b-4e5a-9c1d-4fada70b82f5",
   "metadata": {
    "tags": []
   },
   "outputs": [
    {
     "name": "stdout",
     "output_type": "stream",
     "text": [
      "The number is:    12\n"
     ]
    }
   ],
   "source": [
    "# целые числа с минимальной шириной\n",
    "print(\"The number is: {:5d}\".format(12))"
   ]
  },
  {
   "cell_type": "code",
   "execution_count": 72,
   "id": "c5e19bf7-2684-47a1-83a9-566ff2678501",
   "metadata": {
    "tags": []
   },
   "outputs": [
    {
     "name": "stdout",
     "output_type": "stream",
     "text": [
      "The float number is: 123.456790\n"
     ]
    }
   ],
   "source": [
    "# аргументы с плавающей точкой\n",
    "print(\"The float number is: {:f}\".format(123.4567898))"
   ]
  },
  {
   "cell_type": "code",
   "execution_count": 76,
   "id": "af44b295-cd54-4f44-af1b-0485f971a57b",
   "metadata": {
    "tags": []
   },
   "outputs": [
    {
     "name": "stdout",
     "output_type": "stream",
     "text": [
      "    12.235\n"
     ]
    }
   ],
   "source": [
    "# заполнение для чисел с плавающей точкой\n",
    "print(\"{:10.3f}\".format(12.2346))"
   ]
  },
  {
   "cell_type": "markdown",
   "id": "d9903b24-600e-4d26-8b46-50080b83bb9a",
   "metadata": {},
   "source": [
    "#### Задачка 8\n",
    "Спросите имя и возраст человека.<br>\n",
    "Выведите информацию в произвольном формате, используя метод `format`.\n",
    "```\n",
    "\"Привет ..., тебе ... лет\".\n",
    "```"
   ]
  },
  {
   "cell_type": "markdown",
   "id": "f11138f9-f3d8-4f07-b8a0-b9e8d2985511",
   "metadata": {},
   "source": [
    "## f-строки"
   ]
  },
  {
   "cell_type": "markdown",
   "id": "ae249841-383c-4f9a-8afe-133719ebf7f7",
   "metadata": {},
   "source": [
    "Почти то же, что `format`, но позволяет вставить значение напрямую в строку."
   ]
  },
  {
   "cell_type": "code",
   "execution_count": 78,
   "id": "cf8ceb67-bd5a-4d73-941e-82b40645d213",
   "metadata": {
    "tags": []
   },
   "outputs": [
    {
     "name": "stdout",
     "output_type": "stream",
     "text": [
      "My name is John and I love apples\n"
     ]
    }
   ],
   "source": [
    "name = \"John\"\n",
    "loving = 'apples'\n",
    "text = f\"My name is {name} and I love {loving}\"\n",
    "print(text)"
   ]
  },
  {
   "cell_type": "markdown",
   "id": "656cde00-d12e-4825-8ee3-d783a5bfcafe",
   "metadata": {},
   "source": [
    "Для f-строк работают все те же варианты форматирования."
   ]
  },
  {
   "cell_type": "code",
   "execution_count": 83,
   "id": "1ee78e9a-7a2b-41b4-af07-01b56c88c9bc",
   "metadata": {
    "tags": []
   },
   "outputs": [
    {
     "name": "stdout",
     "output_type": "stream",
     "text": [
      "Value:       123.46\n"
     ]
    }
   ],
   "source": [
    "n = 123.456789\n",
    "text = f\"Value: {n:.2f}\"\n",
    "text = f\"Value: {n:12.2f}\"\n",
    "print(text)"
   ]
  },
  {
   "cell_type": "markdown",
   "id": "ef174d85-e22f-4de3-a5da-381f9f48b1b1",
   "metadata": {},
   "source": [
    "#### Задачка 9\n",
    "Спросите имя и возраст человека.<br>\n",
    "Выведите информацию в произвольном формате, используя метод f-строки.\n",
    "```\n",
    "\"Привет ..., тебе ... лет\".\n",
    "```"
   ]
  },
  {
   "cell_type": "code",
   "execution_count": null,
   "id": "85cdba91-7c99-4c3a-ab42-49d064b56017",
   "metadata": {},
   "outputs": [],
   "source": []
  }
 ],
 "metadata": {
  "kernelspec": {
   "display_name": "hock",
   "language": "python",
   "name": "hock"
  },
  "language_info": {
   "codemirror_mode": {
    "name": "ipython",
    "version": 3
   },
   "file_extension": ".py",
   "mimetype": "text/x-python",
   "name": "python",
   "nbconvert_exporter": "python",
   "pygments_lexer": "ipython3",
   "version": "3.9.16"
  }
 },
 "nbformat": 4,
 "nbformat_minor": 5
}
