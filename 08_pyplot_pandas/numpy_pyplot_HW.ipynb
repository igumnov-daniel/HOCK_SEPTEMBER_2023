{
 "cells": [
  {
   "cell_type": "code",
   "execution_count": 1,
   "id": "9ac9cc99-a11f-4afa-8fd0-2f581a450003",
   "metadata": {
    "execution": {
     "iopub.execute_input": "2023-04-10T12:14:43.382210Z",
     "iopub.status.busy": "2023-04-10T12:14:43.381726Z",
     "iopub.status.idle": "2023-04-10T12:14:43.623833Z",
     "shell.execute_reply": "2023-04-10T12:14:43.621818Z",
     "shell.execute_reply.started": "2023-04-10T12:14:43.382210Z"
    }
   },
   "outputs": [],
   "source": [
    "import numpy as np"
   ]
  },
  {
   "cell_type": "markdown",
   "id": "13ff7412-11b9-462e-bfc7-e2786acdb32d",
   "metadata": {},
   "source": [
    "# 1. Salary"
   ]
  },
  {
   "cell_type": "markdown",
   "id": "3d7a0c5b-f2cb-4f4e-9a02-d3b879760834",
   "metadata": {},
   "source": [
    "## 1.1 \n",
    "Предположим, что размер оклада зависит от опыта работы по формуле $\\large salary_{c.u.} = (experience_{years} + 25) * 1000 $  \n",
    "*(c.u. == conventional units == у.е.)\n",
    "\n",
    "Постройте график зависимости размера зарплаты от опыта работы (опыт взять от 0 до 20 лет).\n",
    "- Создайте вектор с размером опыта (сделайте шаг меньше, чем 1 год)  \n",
    "- Создайте вектор с размером зарплаты  \n",
    "- Постройте график  \n",
    "- Добавьте адекватные подписи к осям и название графика"
   ]
  },
  {
   "cell_type": "code",
   "execution_count": null,
   "id": "80c166a1-afb5-48a0-aabb-bca6d1da87ea",
   "metadata": {},
   "outputs": [],
   "source": []
  },
  {
   "cell_type": "markdown",
   "id": "353bba9f-4bca-4284-a439-0085d6668af9",
   "metadata": {},
   "source": [
    "## 1.2 \n",
    "Для полученных векторов посчитайте коэффициент корреляции Пирсона (воспользуйтесь `pearsonr` из `scipy.stats`)"
   ]
  },
  {
   "cell_type": "code",
   "execution_count": null,
   "id": "151e16fd-34c4-492c-8381-3f9e2671016b",
   "metadata": {},
   "outputs": [],
   "source": []
  },
  {
   "cell_type": "markdown",
   "id": "4a6d30e1-e45e-4141-94bc-3917892b5d86",
   "metadata": {},
   "source": [
    "## 1.3 \n",
    "На полученный в пункте 1.1 график добавьте значение коэффициенты корреляции куда-то в свободное место (т.е. просто повторите график и добавьте в него коэф. с помощью `plt.text` или plt.annotate)"
   ]
  },
  {
   "cell_type": "code",
   "execution_count": null,
   "id": "ea262256-861b-4afc-9ffa-4a607f2ac7b5",
   "metadata": {},
   "outputs": [],
   "source": []
  },
  {
   "cell_type": "markdown",
   "id": "e037421d-b298-41b3-ab95-6cbb3dd5852d",
   "metadata": {},
   "source": [
    "# 2. A/B test\n",
    "На соревнования в деревню \"Спортивная\" приехали спортсмены из деревень \"Пирсоново\" и \"Спирманово\". Даны две выборки: рост приехавших спортсменов из каждой деревни. "
   ]
  },
  {
   "cell_type": "markdown",
   "id": "f814d484-ad4f-4317-9aee-7fce83cb3577",
   "metadata": {},
   "source": [
    "## 2.1\n",
    "Дан файл `task2_data.csv` с информацией о росте спорстменов из каждой деревни. Прочитайе файл и создайте два вектора: рост спортсменов из одной деревни и из другой."
   ]
  },
  {
   "cell_type": "code",
   "execution_count": null,
   "id": "0ce12d30-134a-4b2f-b41e-3ad91179b272",
   "metadata": {},
   "outputs": [],
   "source": []
  },
  {
   "cell_type": "markdown",
   "id": "fac8c7c7-96af-4d9e-8f16-96e7bc7eea71",
   "metadata": {},
   "source": [
    "## 2.2\n",
    "Постройте гистограмму роста спортсменов каждой деревни на двух разных картинках (`plt.hist`)"
   ]
  },
  {
   "cell_type": "code",
   "execution_count": null,
   "id": "0b087649-2db1-4edf-8e0c-e37f7cc505fb",
   "metadata": {},
   "outputs": [],
   "source": []
  },
  {
   "cell_type": "markdown",
   "id": "a466f6b8-ad29-4cc7-9e44-0bdddb22d021",
   "metadata": {},
   "source": [
    "## 2.3\n",
    "Постройте гистограмму роста спорстменов из двух деревень на одной картинке (две гистограммы на одном холсте)"
   ]
  },
  {
   "cell_type": "code",
   "execution_count": null,
   "id": "c2068252-2664-4e7b-90a7-42d60a4e5437",
   "metadata": {},
   "outputs": [],
   "source": []
  },
  {
   "cell_type": "markdown",
   "id": "6b056170-1e35-4c89-a7bf-89292af369e1",
   "metadata": {},
   "source": [
    "## 2.4\n",
    "Было выдвинуто предположение о том, что средний рост людей в двух деревнях отличается. Давайте попробуем по имеющейся у нас выборке оценить, правда ли это.  \n",
    "\n",
    "Определите разницу средних двух выборок. \n",
    "\n",
    "* Можно ли по этой разнице что-то утверждать?  \n",
    "* Какие проблемы могут быть, которые делают нашу оценку несостоятельной?"
   ]
  },
  {
   "cell_type": "code",
   "execution_count": null,
   "id": "e35d3cfb-8a5d-4a6a-a682-5543947e7fb1",
   "metadata": {},
   "outputs": [],
   "source": []
  },
  {
   "cell_type": "markdown",
   "id": "52c427c7-58e3-40ed-bcb2-f0d692754703",
   "metadata": {},
   "source": [
    "## 2.5 (делайте пункты отдельно)\n",
    "Представим, что имеющиеся у нас выборки более менее отраают реальную ситуацию в деревнях.  \n",
    "Давайте проделаем следующую симуляцию (1000 раз сделайте одно и то же):\n",
    "* Из каждой выборке (то есть из набора спортсменов каждой деревни) получите выборку того же размера с помощью отбора с повторением (т.е. из вектора ИКС нужно с помощью отбора с повторением получить новый вектор такой же размерности). Сделать это можно с помощью `np.random.choice`\n",
    "* У нас есть два новых вектора (один получили из выборки одной деревни, другой -- из другой). Найдите разницу средних для этих векторов и сохраните эту разницу в какой-нибудь массив.\n",
    "* Если повторить операции выше 1000 раз, то мы имеем 1000 разностей средних ростов, то есть уже не 1 оценку, а некоторое распределение. Для этого распределения постройте гистограмму.\n",
    "* А теперь на этой гистограмме отметьте исходную разницу между средними с помощью `plt.axvline`\n",
    "* Куда попала наша исходная точечная оценка? Что это может значить?"
   ]
  },
  {
   "cell_type": "code",
   "execution_count": null,
   "id": "45740db7-66a6-4e97-8e6b-e8e9a596ddd7",
   "metadata": {},
   "outputs": [],
   "source": []
  }
 ],
 "metadata": {
  "kernelspec": {
   "display_name": "HOCK",
   "language": "python",
   "name": "hock"
  },
  "language_info": {
   "codemirror_mode": {
    "name": "ipython",
    "version": 3
   },
   "file_extension": ".py",
   "mimetype": "text/x-python",
   "name": "python",
   "nbconvert_exporter": "python",
   "pygments_lexer": "ipython3",
   "version": "3.9.16"
  },
  "toc-autonumbering": false,
  "toc-showcode": false,
  "toc-showmarkdowntxt": false,
  "toc-showtags": false
 },
 "nbformat": 4,
 "nbformat_minor": 5
}
