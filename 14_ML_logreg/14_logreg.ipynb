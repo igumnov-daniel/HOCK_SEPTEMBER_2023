{
 "cells": [
  {
   "cell_type": "markdown",
   "id": "692b0a69-d134-4092-aaab-3c343bd16003",
   "metadata": {},
   "source": [
    "# Линейная классификация"
   ]
  },
  {
   "cell_type": "markdown",
   "id": "72973b1c-3d7d-4066-8c1e-87cce37fd595",
   "metadata": {},
   "source": [
    "Умея решать задачу линейной регрессии, мы можем построить простейший классификатор (бинарный или даже многоклассовый).  \n",
    "Например, восстановив вектор весов для какого-то уравнения гиперплоскости, мы можем относить точку к некоторому классу, если значение предсказания больше установленного порога."
   ]
  },
  {
   "cell_type": "markdown",
   "id": "8f826919-0d1d-42f4-a3ec-dbca2126a30f",
   "metadata": {},
   "source": [
    "Но это всё ещё не оптимальный вариант классифицировать объекты..."
   ]
  },
  {
   "cell_type": "markdown",
   "id": "ba6e9366-0188-406b-aa16-a61fd6f54070",
   "metadata": {},
   "source": [
    "# Логистическая регрессия"
   ]
  },
  {
   "cell_type": "markdown",
   "id": "d9de2e67-1d42-4955-ade2-aee818d12d8a",
   "metadata": {},
   "source": [
    "<center><img src=\"https://res.cloudinary.com/dyd911kmh/image/upload/v1660054820/Regression_charts_b9de7355cf.png\" width=50%></center>"
   ]
  },
  {
   "cell_type": "markdown",
   "id": "b1331106-fcb2-482d-9062-e4bab69bb725",
   "metadata": {},
   "source": [
    "Рассмотрим на примере бинарной классификации."
   ]
  },
  {
   "cell_type": "markdown",
   "id": "32c25e88-fce7-4d42-9c68-47b1030d4596",
   "metadata": {},
   "source": [
    "Будем предсказывать вероятность некоторого объекта принадлежать целевому классу (обычно говорят \"положительному\" классу):  \n",
    "$$ p_+ = P(y=1|x) \\in [0, 1]$$  \n",
    ", т.е. вероятность того, что игрек равен 1, при условии, что вектор признаков равен какому-то конкретному $x$."
   ]
  },
  {
   "cell_type": "markdown",
   "id": "6319b5f6-b8a5-4104-9640-9059d8970bb9",
   "metadata": {},
   "source": [
    "> Лирическое отступление...  \n",
    "_Математику и физику была предложена одна и та же задача: вскипятить чайник. Даны подсобные инструменты: плита, чайник, водопроводный кран с водой, спички. Оба поочередно наливают воду в чайник, включают газ, зажигают его и ставят чайник на огонь. Затем задачу упростили: предложен чайник, наполненный водой и плита с горящим газом. Цель та же — вскипятить воду. Физик ставит чайник на огонь. Математик выливает из чайника воду, выключает газ и говорит: \"Задача свелась к предыдущей.\"_"
   ]
  },
  {
   "cell_type": "markdown",
   "id": "fed8a65a-61b4-46a4-959d-f5b1be002132",
   "metadata": {},
   "source": [
    "К чему это я?  \n",
    "Мы УМЕЕМ решать задачу линейной регрессии (и даже несколькими способами).  \n",
    "Проблема в том, что наше решение принадлежит множеству действительных чисел $ \\mathbb{R} $, или $y_{pred} \\in \\mathbb{R}$, или  $X^T \\cdot w \\rightarrow \\mathbb{R}$.  \n",
    "Что делать? **Пропустим решение через сигмоиду!**  \n",
    "$$ S(x) = \\frac{1}{1+e^{-X^T\\cdot w}} = \\sigma(X^T \\cdot w)$$\n"
   ]
  },
  {
   "cell_type": "markdown",
   "id": "a8bf5594-692b-4c58-8bf0-2fc02231853f",
   "metadata": {},
   "source": [
    "<center><img src=\"https://upload.wikimedia.org/wikipedia/commons/thumb/8/88/Logistic-curve.svg/1200px-Logistic-curve.svg.png\" width=50%></center>"
   ]
  },
  {
   "cell_type": "markdown",
   "id": "409fba64-9046-42db-a9cb-90c3150d0b3f",
   "metadata": {},
   "source": [
    "Метрика для оптимизации: <center><img src=\"https://miro.medium.com/max/1400/1*WI_I5ecz7PQjeE4FebLfDQ@2x.png\" width=50%></center>"
   ]
  },
  {
   "cell_type": "markdown",
   "id": "a8e96efe-aa71-4239-9b2f-e5d63a5a3225",
   "metadata": {},
   "source": [
    "## Мультиклассовая классификация\n",
    "### One vs Rest\n",
    "<center><img src=\"https://miro.medium.com/max/531/1*_ZQKT3LaqAqPMn19PpcAHQ.png\" width=50%></center>\n",
    "<center><img src=\"https://miro.medium.com/max/1184/1*WJoa8o9PjHXdRXM49nINZA.png\" width=50%></center>\n"
   ]
  },
  {
   "cell_type": "markdown",
   "id": "7b145dce-7855-43e3-90d4-ed83b7941521",
   "metadata": {},
   "source": [
    "### One vs One\n",
    "<center><img src=\"https://miro.medium.com/max/1056/1*4xjYPBsT9ZHOe3u0MIRB2A.jpeg\" width=50%></center>"
   ]
  },
  {
   "cell_type": "markdown",
   "id": "1fed0395-b3ae-4145-9339-a021f90f6949",
   "metadata": {},
   "source": [
    "# Метрики\n",
    "Краткий пересказ https://towardsdatascience.com/the-5-classification-evaluation-metrics-you-must-know-aa97784ff226"
   ]
  },
  {
   "cell_type": "code",
   "execution_count": 51,
   "id": "7bd3558f-fdf8-4fa9-9e30-742706a6557d",
   "metadata": {},
   "outputs": [],
   "source": [
    "import pandas as pd\n",
    "import numpy as np\n",
    "import matplotlib.pyplot as plt\n",
    "from sklearn import datasets"
   ]
  },
  {
   "cell_type": "code",
   "execution_count": 52,
   "id": "b1110b6b-a230-4527-982f-758cc5286bce",
   "metadata": {},
   "outputs": [
    {
     "data": {
      "text/plain": [
       "(array([[ 0.24306743, -0.52734094],\n",
       "        [ 0.96417816, -0.37583852],\n",
       "        [-1.08486058,  0.00847624],\n",
       "        [-0.90653761,  3.3851625 ],\n",
       "        [ 1.33279979,  1.25629151],\n",
       "        [ 0.72576002,  0.53047004],\n",
       "        [-0.77546276, -0.9788468 ],\n",
       "        [ 1.03317819, -0.88253973],\n",
       "        [ 1.39939732,  3.2047161 ],\n",
       "        [-0.07784592, -0.67730036],\n",
       "        [ 1.2610877 , -1.3003902 ],\n",
       "        [-2.44391337, -0.56099989],\n",
       "        [-1.11064538,  0.7571574 ],\n",
       "        [-0.90474756,  0.59452911],\n",
       "        [-2.51019507, -0.30991259],\n",
       "        [ 0.9153728 ,  0.08016006],\n",
       "        [ 1.28700068, -1.90827144],\n",
       "        [-1.94625628, -0.53314708],\n",
       "        [-0.91390999,  2.05571391],\n",
       "        [-1.33222706, -0.85982898]]),\n",
       " array([1, 0, 1, 1, 1, 1, 0, 0, 1, 1, 0, 0, 1, 1, 0, 0, 0, 0, 1, 0]))"
      ]
     },
     "execution_count": 52,
     "metadata": {},
     "output_type": "execute_result"
    }
   ],
   "source": [
    "X, y = datasets.make_classification(\n",
    "    n_samples=20,\n",
    "    n_features=2,\n",
    "    n_informative=2,\n",
    "    n_redundant=0,\n",
    "    n_classes=2, \n",
    "    random_state=2\n",
    ")\n",
    "\n",
    "X, y"
   ]
  },
  {
   "cell_type": "code",
   "execution_count": 53,
   "id": "43508240-7ef3-49d4-9aa9-30ca07d5c55b",
   "metadata": {},
   "outputs": [
    {
     "data": {
      "image/png": "[encoded data removed]",
      "text/plain": [
       "<Figure size 700x600 with 1 Axes>"
      ]
     },
     "metadata": {},
     "output_type": "display_data"
    }
   ],
   "source": [
    "plt.figure(figsize=(7, 6))\n",
    "\n",
    "class_0 = X[y == 0]\n",
    "class_1 = X[y == 1]\n",
    "plt.scatter(class_0[:, 0], class_0[:, 1], label='0 класс')\n",
    "plt.scatter(class_1[:, 0], class_1[:, 1], label='1 класс')\n",
    "\n",
    "plt.legend()\n",
    "plt.xlabel('X')\n",
    "plt.ylabel('y');"
   ]
  },
  {
   "cell_type": "code",
   "execution_count": 54,
   "id": "096f7d52-a384-4f0e-8d4d-3f3b4aeb6ca8",
   "metadata": {},
   "outputs": [
    {
     "data": {
      "text/html": [
       "<style>#sk-container-id-3 {color: black;background-color: white;}#sk-container-id-3 pre{padding: 0;}#sk-container-id-3 div.sk-toggleable {background-color: white;}#sk-container-id-3 label.sk-toggleable__label {cursor: pointer;display: block;width: 100%;margin-bottom: 0;padding: 0.3em;box-sizing: border-box;text-align: center;}#sk-container-id-3 label.sk-toggleable__label-arrow:before {content: \"▸\";float: left;margin-right: 0.25em;color: #696969;}#sk-container-id-3 label.sk-toggleable__label-arrow:hover:before {color: black;}#sk-container-id-3 div.sk-estimator:hover label.sk-toggleable__label-arrow:before {color: black;}#sk-container-id-3 div.sk-toggleable__content {max-height: 0;max-width: 0;overflow: hidden;text-align: left;background-color: #f0f8ff;}#sk-container-id-3 div.sk-toggleable__content pre {margin: 0.2em;color: black;border-radius: 0.25em;background-color: #f0f8ff;}#sk-container-id-3 input.sk-toggleable__control:checked~div.sk-toggleable__content {max-height: 200px;max-width: 100%;overflow: auto;}#sk-container-id-3 input.sk-toggleable__control:checked~label.sk-toggleable__label-arrow:before {content: \"▾\";}#sk-container-id-3 div.sk-estimator input.sk-toggleable__control:checked~label.sk-toggleable__label {background-color: #d4ebff;}#sk-container-id-3 div.sk-label input.sk-toggleable__control:checked~label.sk-toggleable__label {background-color: #d4ebff;}#sk-container-id-3 input.sk-hidden--visually {border: 0;clip: rect(1px 1px 1px 1px);clip: rect(1px, 1px, 1px, 1px);height: 1px;margin: -1px;overflow: hidden;padding: 0;position: absolute;width: 1px;}#sk-container-id-3 div.sk-estimator {font-family: monospace;background-color: #f0f8ff;border: 1px dotted black;border-radius: 0.25em;box-sizing: border-box;margin-bottom: 0.5em;}#sk-container-id-3 div.sk-estimator:hover {background-color: #d4ebff;}#sk-container-id-3 div.sk-parallel-item::after {content: \"\";width: 100%;border-bottom: 1px solid gray;flex-grow: 1;}#sk-container-id-3 div.sk-label:hover label.sk-toggleable__label {background-color: #d4ebff;}#sk-container-id-3 div.sk-serial::before {content: \"\";position: absolute;border-left: 1px solid gray;box-sizing: border-box;top: 0;bottom: 0;left: 50%;z-index: 0;}#sk-container-id-3 div.sk-serial {display: flex;flex-direction: column;align-items: center;background-color: white;padding-right: 0.2em;padding-left: 0.2em;position: relative;}#sk-container-id-3 div.sk-item {position: relative;z-index: 1;}#sk-container-id-3 div.sk-parallel {display: flex;align-items: stretch;justify-content: center;background-color: white;position: relative;}#sk-container-id-3 div.sk-item::before, #sk-container-id-3 div.sk-parallel-item::before {content: \"\";position: absolute;border-left: 1px solid gray;box-sizing: border-box;top: 0;bottom: 0;left: 50%;z-index: -1;}#sk-container-id-3 div.sk-parallel-item {display: flex;flex-direction: column;z-index: 1;position: relative;background-color: white;}#sk-container-id-3 div.sk-parallel-item:first-child::after {align-self: flex-end;width: 50%;}#sk-container-id-3 div.sk-parallel-item:last-child::after {align-self: flex-start;width: 50%;}#sk-container-id-3 div.sk-parallel-item:only-child::after {width: 0;}#sk-container-id-3 div.sk-dashed-wrapped {border: 1px dashed gray;margin: 0 0.4em 0.5em 0.4em;box-sizing: border-box;padding-bottom: 0.4em;background-color: white;}#sk-container-id-3 div.sk-label label {font-family: monospace;font-weight: bold;display: inline-block;line-height: 1.2em;}#sk-container-id-3 div.sk-label-container {text-align: center;}#sk-container-id-3 div.sk-container {/* jupyter's `normalize.less` sets `[hidden] { display: none; }` but bootstrap.min.css set `[hidden] { display: none !important; }` so we also need the `!important` here to be able to override the default hidden behavior on the sphinx rendered scikit-learn.org. See: https://github.com/scikit-learn/scikit-learn/issues/21755 */display: inline-block !important;position: relative;}#sk-container-id-3 div.sk-text-repr-fallback {display: none;}</style><div id=\"sk-container-id-3\" class=\"sk-top-container\"><div class=\"sk-text-repr-fallback\"><pre>LogisticRegression()</pre><b>In a Jupyter environment, please rerun this cell to show the HTML representation or trust the notebook. <br />On GitHub, the HTML representation is unable to render, please try loading this page with nbviewer.org.</b></div><div class=\"sk-container\" hidden><div class=\"sk-item\"><div class=\"sk-estimator sk-toggleable\"><input class=\"sk-toggleable__control sk-hidden--visually\" id=\"sk-estimator-id-3\" type=\"checkbox\" checked><label for=\"sk-estimator-id-3\" class=\"sk-toggleable__label sk-toggleable__label-arrow\">LogisticRegression</label><div class=\"sk-toggleable__content\"><pre>LogisticRegression()</pre></div></div></div></div></div>"
      ],
      "text/plain": [
       "LogisticRegression()"
      ]
     },
     "execution_count": 54,
     "metadata": {},
     "output_type": "execute_result"
    }
   ],
   "source": [
    "from sklearn.linear_model import LogisticRegression\n",
    "\n",
    "logreg = LogisticRegression()\n",
    "logreg.fit(X, y)"
   ]
  },
  {
   "cell_type": "code",
   "execution_count": 55,
   "id": "ca85c962-22e8-441f-9c4c-c0234ccfaa8d",
   "metadata": {},
   "outputs": [],
   "source": [
    "pred = logreg.predict(X)"
   ]
  },
  {
   "cell_type": "markdown",
   "id": "95165231-3967-4c63-ba5b-76ca4c5ef451",
   "metadata": {},
   "source": [
    "Теперь сделаем предсказания на всей выборке, чтобы понять, насколько хорошо модель научилась предсказывать целевую метку класса."
   ]
  },
  {
   "cell_type": "code",
   "execution_count": 56,
   "id": "60f2b3b9-278b-499b-8070-23fc06be8e28",
   "metadata": {},
   "outputs": [
    {
     "data": {
      "text/html": [
       "<div>\n",
       "<style scoped>\n",
       "    .dataframe tbody tr th:only-of-type {\n",
       "        vertical-align: middle;\n",
       "    }\n",
       "\n",
       "    .dataframe tbody tr th {\n",
       "        vertical-align: top;\n",
       "    }\n",
       "\n",
       "    .dataframe thead th {\n",
       "        text-align: right;\n",
       "    }\n",
       "</style>\n",
       "<table border=\"1\" class=\"dataframe\">\n",
       "  <thead>\n",
       "    <tr style=\"text-align: right;\">\n",
       "      <th></th>\n",
       "      <th>ground truth</th>\n",
       "      <th>prediction</th>\n",
       "    </tr>\n",
       "  </thead>\n",
       "  <tbody>\n",
       "    <tr>\n",
       "      <th>0</th>\n",
       "      <td>1</td>\n",
       "      <td>0</td>\n",
       "    </tr>\n",
       "    <tr>\n",
       "      <th>1</th>\n",
       "      <td>0</td>\n",
       "      <td>0</td>\n",
       "    </tr>\n",
       "    <tr>\n",
       "      <th>2</th>\n",
       "      <td>1</td>\n",
       "      <td>0</td>\n",
       "    </tr>\n",
       "    <tr>\n",
       "      <th>3</th>\n",
       "      <td>1</td>\n",
       "      <td>1</td>\n",
       "    </tr>\n",
       "    <tr>\n",
       "      <th>4</th>\n",
       "      <td>1</td>\n",
       "      <td>1</td>\n",
       "    </tr>\n",
       "    <tr>\n",
       "      <th>5</th>\n",
       "      <td>1</td>\n",
       "      <td>1</td>\n",
       "    </tr>\n",
       "    <tr>\n",
       "      <th>6</th>\n",
       "      <td>0</td>\n",
       "      <td>0</td>\n",
       "    </tr>\n",
       "    <tr>\n",
       "      <th>7</th>\n",
       "      <td>0</td>\n",
       "      <td>0</td>\n",
       "    </tr>\n",
       "    <tr>\n",
       "      <th>8</th>\n",
       "      <td>1</td>\n",
       "      <td>1</td>\n",
       "    </tr>\n",
       "    <tr>\n",
       "      <th>9</th>\n",
       "      <td>1</td>\n",
       "      <td>0</td>\n",
       "    </tr>\n",
       "    <tr>\n",
       "      <th>10</th>\n",
       "      <td>0</td>\n",
       "      <td>0</td>\n",
       "    </tr>\n",
       "    <tr>\n",
       "      <th>11</th>\n",
       "      <td>0</td>\n",
       "      <td>0</td>\n",
       "    </tr>\n",
       "    <tr>\n",
       "      <th>12</th>\n",
       "      <td>1</td>\n",
       "      <td>1</td>\n",
       "    </tr>\n",
       "    <tr>\n",
       "      <th>13</th>\n",
       "      <td>1</td>\n",
       "      <td>1</td>\n",
       "    </tr>\n",
       "    <tr>\n",
       "      <th>14</th>\n",
       "      <td>0</td>\n",
       "      <td>0</td>\n",
       "    </tr>\n",
       "    <tr>\n",
       "      <th>15</th>\n",
       "      <td>0</td>\n",
       "      <td>1</td>\n",
       "    </tr>\n",
       "    <tr>\n",
       "      <th>16</th>\n",
       "      <td>0</td>\n",
       "      <td>0</td>\n",
       "    </tr>\n",
       "    <tr>\n",
       "      <th>17</th>\n",
       "      <td>0</td>\n",
       "      <td>0</td>\n",
       "    </tr>\n",
       "    <tr>\n",
       "      <th>18</th>\n",
       "      <td>1</td>\n",
       "      <td>1</td>\n",
       "    </tr>\n",
       "    <tr>\n",
       "      <th>19</th>\n",
       "      <td>0</td>\n",
       "      <td>0</td>\n",
       "    </tr>\n",
       "  </tbody>\n",
       "</table>\n",
       "</div>"
      ],
      "text/plain": [
       "    ground truth  prediction\n",
       "0              1           0\n",
       "1              0           0\n",
       "2              1           0\n",
       "3              1           1\n",
       "4              1           1\n",
       "5              1           1\n",
       "6              0           0\n",
       "7              0           0\n",
       "8              1           1\n",
       "9              1           0\n",
       "10             0           0\n",
       "11             0           0\n",
       "12             1           1\n",
       "13             1           1\n",
       "14             0           0\n",
       "15             0           1\n",
       "16             0           0\n",
       "17             0           0\n",
       "18             1           1\n",
       "19             0           0"
      ]
     },
     "execution_count": 56,
     "metadata": {},
     "output_type": "execute_result"
    }
   ],
   "source": [
    "pred_df = pd.DataFrame({\n",
    "    'ground truth': y,\n",
    "    'prediction': pred\n",
    "})\n",
    "\n",
    "pred_df"
   ]
  },
  {
   "cell_type": "markdown",
   "id": "1272b0b5-50d7-42b6-89a4-182e2964005b",
   "metadata": {},
   "source": [
    "В первой строке должны были предсказать 1 класс, но модель предсказала 0, зато со следующим объектом нет проблем, целевая метка - 0 класс, предсказали тоже нулевой класс, можем дальше посмотреть на все объекты и сравнить истину с предсказанным классом. "
   ]
  },
  {
   "cell_type": "markdown",
   "id": "4eba58ba-8da1-49ff-843e-611aa3cbb424",
   "metadata": {},
   "source": [
    "## Accuracy\n",
    "\n",
    "Если мы так сделаем, то узнаем сколько раз модель ответила правильно - это и есть наша первая метрика Accuracy.\n",
    "\n",
    "\n",
    "Это наиболее очевидный и простой способ расчета качества предсказаний:\n",
    "\n",
    "$$accuracy(a,x) = \\frac{1}{l} \\sum^{l}_{i=1}[a(x_{i})=y_{i}].$$\n",
    "\n",
    "\n",
    "Доля правильных ответов может изменяться от 0 до 1, где 0 - модель ниразу не попала правильно, все её предсказания ошибочные, а 1 - модель предсказала всё идеально."
   ]
  },
  {
   "cell_type": "code",
   "execution_count": 57,
   "id": "8c697299-7664-44c9-a1f8-50748150f3b2",
   "metadata": {},
   "outputs": [
    {
     "data": {
      "text/html": [
       "<div>\n",
       "<style scoped>\n",
       "    .dataframe tbody tr th:only-of-type {\n",
       "        vertical-align: middle;\n",
       "    }\n",
       "\n",
       "    .dataframe tbody tr th {\n",
       "        vertical-align: top;\n",
       "    }\n",
       "\n",
       "    .dataframe thead th {\n",
       "        text-align: right;\n",
       "    }\n",
       "</style>\n",
       "<table border=\"1\" class=\"dataframe\">\n",
       "  <thead>\n",
       "    <tr style=\"text-align: right;\">\n",
       "      <th></th>\n",
       "      <th>ground truth</th>\n",
       "      <th>prediction</th>\n",
       "      <th>right</th>\n",
       "    </tr>\n",
       "  </thead>\n",
       "  <tbody>\n",
       "    <tr>\n",
       "      <th>0</th>\n",
       "      <td>1</td>\n",
       "      <td>0</td>\n",
       "      <td>False</td>\n",
       "    </tr>\n",
       "    <tr>\n",
       "      <th>1</th>\n",
       "      <td>0</td>\n",
       "      <td>0</td>\n",
       "      <td>True</td>\n",
       "    </tr>\n",
       "    <tr>\n",
       "      <th>2</th>\n",
       "      <td>1</td>\n",
       "      <td>0</td>\n",
       "      <td>False</td>\n",
       "    </tr>\n",
       "    <tr>\n",
       "      <th>3</th>\n",
       "      <td>1</td>\n",
       "      <td>1</td>\n",
       "      <td>True</td>\n",
       "    </tr>\n",
       "    <tr>\n",
       "      <th>4</th>\n",
       "      <td>1</td>\n",
       "      <td>1</td>\n",
       "      <td>True</td>\n",
       "    </tr>\n",
       "    <tr>\n",
       "      <th>5</th>\n",
       "      <td>1</td>\n",
       "      <td>1</td>\n",
       "      <td>True</td>\n",
       "    </tr>\n",
       "    <tr>\n",
       "      <th>6</th>\n",
       "      <td>0</td>\n",
       "      <td>0</td>\n",
       "      <td>True</td>\n",
       "    </tr>\n",
       "    <tr>\n",
       "      <th>7</th>\n",
       "      <td>0</td>\n",
       "      <td>0</td>\n",
       "      <td>True</td>\n",
       "    </tr>\n",
       "    <tr>\n",
       "      <th>8</th>\n",
       "      <td>1</td>\n",
       "      <td>1</td>\n",
       "      <td>True</td>\n",
       "    </tr>\n",
       "    <tr>\n",
       "      <th>9</th>\n",
       "      <td>1</td>\n",
       "      <td>0</td>\n",
       "      <td>False</td>\n",
       "    </tr>\n",
       "    <tr>\n",
       "      <th>10</th>\n",
       "      <td>0</td>\n",
       "      <td>0</td>\n",
       "      <td>True</td>\n",
       "    </tr>\n",
       "    <tr>\n",
       "      <th>11</th>\n",
       "      <td>0</td>\n",
       "      <td>0</td>\n",
       "      <td>True</td>\n",
       "    </tr>\n",
       "    <tr>\n",
       "      <th>12</th>\n",
       "      <td>1</td>\n",
       "      <td>1</td>\n",
       "      <td>True</td>\n",
       "    </tr>\n",
       "    <tr>\n",
       "      <th>13</th>\n",
       "      <td>1</td>\n",
       "      <td>1</td>\n",
       "      <td>True</td>\n",
       "    </tr>\n",
       "    <tr>\n",
       "      <th>14</th>\n",
       "      <td>0</td>\n",
       "      <td>0</td>\n",
       "      <td>True</td>\n",
       "    </tr>\n",
       "    <tr>\n",
       "      <th>15</th>\n",
       "      <td>0</td>\n",
       "      <td>1</td>\n",
       "      <td>False</td>\n",
       "    </tr>\n",
       "    <tr>\n",
       "      <th>16</th>\n",
       "      <td>0</td>\n",
       "      <td>0</td>\n",
       "      <td>True</td>\n",
       "    </tr>\n",
       "    <tr>\n",
       "      <th>17</th>\n",
       "      <td>0</td>\n",
       "      <td>0</td>\n",
       "      <td>True</td>\n",
       "    </tr>\n",
       "    <tr>\n",
       "      <th>18</th>\n",
       "      <td>1</td>\n",
       "      <td>1</td>\n",
       "      <td>True</td>\n",
       "    </tr>\n",
       "    <tr>\n",
       "      <th>19</th>\n",
       "      <td>0</td>\n",
       "      <td>0</td>\n",
       "      <td>True</td>\n",
       "    </tr>\n",
       "  </tbody>\n",
       "</table>\n",
       "</div>"
      ],
      "text/plain": [
       "    ground truth  prediction  right\n",
       "0              1           0  False\n",
       "1              0           0   True\n",
       "2              1           0  False\n",
       "3              1           1   True\n",
       "4              1           1   True\n",
       "5              1           1   True\n",
       "6              0           0   True\n",
       "7              0           0   True\n",
       "8              1           1   True\n",
       "9              1           0  False\n",
       "10             0           0   True\n",
       "11             0           0   True\n",
       "12             1           1   True\n",
       "13             1           1   True\n",
       "14             0           0   True\n",
       "15             0           1  False\n",
       "16             0           0   True\n",
       "17             0           0   True\n",
       "18             1           1   True\n",
       "19             0           0   True"
      ]
     },
     "execution_count": 57,
     "metadata": {},
     "output_type": "execute_result"
    }
   ],
   "source": [
    "pred_df['right'] = pred_df['ground truth'] == pred_df['prediction']\n",
    "pred_df"
   ]
  },
  {
   "cell_type": "code",
   "execution_count": 58,
   "id": "bcbb06f4-1a43-4887-996a-4627d5f07e1e",
   "metadata": {},
   "outputs": [
    {
     "data": {
      "text/plain": [
       "0.8"
      ]
     },
     "execution_count": 58,
     "metadata": {},
     "output_type": "execute_result"
    }
   ],
   "source": [
    "pred_df['right'].sum() / pred_df.shape[0] # accuracy"
   ]
  },
  {
   "cell_type": "code",
   "execution_count": 59,
   "id": "045dc79d-2faf-46c6-80e5-74c01a598ff5",
   "metadata": {},
   "outputs": [
    {
     "data": {
      "text/plain": [
       "0.8"
      ]
     },
     "execution_count": 59,
     "metadata": {},
     "output_type": "execute_result"
    }
   ],
   "source": [
    "from sklearn.metrics import accuracy_score\n",
    "\n",
    "accuracy_score(pred_df['ground truth'], pred_df['prediction'])"
   ]
  },
  {
   "cell_type": "markdown",
   "id": "e1b8f400-66bf-4442-ae30-4dc912866fd8",
   "metadata": {},
   "source": [
    "Получили 0.8 или 80% - доля верных предсказаний относительно всех предсказаний."
   ]
  },
  {
   "cell_type": "markdown",
   "id": "18e062c9-fb29-4b14-91ac-72367dda6e61",
   "metadata": {},
   "source": [
    "### Дисбаланс классов"
   ]
  },
  {
   "cell_type": "markdown",
   "id": "c0664d27-eead-43b5-b4e7-a48297474493",
   "metadata": {},
   "source": [
    "Представим, что в нашей выборке очень много объектов нулевого класса и совсем ничего объектов первого класса, к тому же такое встречается очень часто, примером служит задача предсказания мошеннических транзакций, или она ещё называется fraud detection: очень много совершается обычных транзакций и крайне мало транзакций со злым умыслом."
   ]
  },
  {
   "cell_type": "markdown",
   "id": "c8c79ef1-0b62-406a-a0b1-08aa87e4feab",
   "metadata": {},
   "source": [
    "Сгенерируем такую выборку, где есть дисбаланс классов, объектов 0 класса в 9 раз больше, чем объектов 1 класса (`weights=(0.9, 0.1)`).  \n",
    "Для простоты понимания, будем считать, что 0 класс - это обычные транзакции в банке, а 1 класс - это подозрительные мошеннические транзакции."
   ]
  },
  {
   "cell_type": "code",
   "execution_count": 60,
   "id": "f35e5985-9f1b-40c9-b2b3-17b361ae7c90",
   "metadata": {},
   "outputs": [
    {
     "data": {
      "text/plain": [
       "(array([[ 0.66930255, -0.35556485],\n",
       "        [ 0.96417816, -0.37583852],\n",
       "        [-1.1177634 , -0.85116212],\n",
       "        [-0.26257856, -1.50684503],\n",
       "        [ 1.27004352, -2.01184296],\n",
       "        [ 0.72576002,  0.53047004],\n",
       "        [-0.77546276, -0.9788468 ],\n",
       "        [ 1.03317819, -0.88253973],\n",
       "        [ 0.7545933 ,  1.11410377],\n",
       "        [ 0.37973272,  0.79063286],\n",
       "        [ 1.2610877 , -1.3003902 ],\n",
       "        [-2.44391337, -0.56099989],\n",
       "        [-0.66010918, -1.0843706 ],\n",
       "        [-0.90474756,  0.59452911],\n",
       "        [-2.51019507, -0.30991259],\n",
       "        [ 0.9153728 ,  0.08016006],\n",
       "        [ 1.28700068, -1.90827144],\n",
       "        [-1.94625628, -0.53314708],\n",
       "        [-0.85711456, -1.16420714],\n",
       "        [-1.33222706, -0.85982898]]),\n",
       " array([0, 0, 0, 0, 0, 1, 0, 0, 0, 0, 0, 0, 0, 1, 0, 0, 0, 0, 0, 0]))"
      ]
     },
     "execution_count": 60,
     "metadata": {},
     "output_type": "execute_result"
    }
   ],
   "source": [
    "from sklearn import datasets\n",
    "\n",
    "\n",
    "X_disbalance, y_disbalance = datasets.make_classification(\n",
    "    n_samples=20,\n",
    "    n_features=2,\n",
    "    n_informative=2,\n",
    "    n_redundant=0,\n",
    "    n_classes=2, \n",
    "    random_state=2,\n",
    "    weights=(0.9, 0.1)\n",
    ")\n",
    "\n",
    "X_disbalance, y_disbalance"
   ]
  },
  {
   "cell_type": "code",
   "execution_count": 61,
   "id": "8685dccf-2c4f-4b31-842f-624de48abcf9",
   "metadata": {},
   "outputs": [
    {
     "data": {
      "image/png": "[encoded data removed]",
      "text/plain": [
       "<Figure size 700x600 with 1 Axes>"
      ]
     },
     "metadata": {},
     "output_type": "display_data"
    }
   ],
   "source": [
    "plt.figure(figsize=(7, 6))\n",
    "\n",
    "class_0 = X_disbalance[y_disbalance == 0]\n",
    "class_1 = X_disbalance[y_disbalance == 1]\n",
    "plt.scatter(class_0[:, 0], class_0[:, 1], label='не фрод')\n",
    "plt.scatter(class_1[:, 0], class_1[:, 1], label='фрод')\n",
    "\n",
    "plt.legend()\n",
    "plt.xlabel('X')\n",
    "plt.ylabel('y');"
   ]
  },
  {
   "cell_type": "markdown",
   "id": "a4b6a21c-0021-49b8-a70b-af67e81ce637",
   "metadata": {},
   "source": [
    "Если мы возьмем константную модель (`a(x) = 0`), которая всегда будет отвечать 0 класс на любой объект, который бы не видела, то получим приличную метрику accuracy:"
   ]
  },
  {
   "cell_type": "code",
   "execution_count": 62,
   "id": "b5df4f80-7a72-4ce5-92b6-667ec148ba93",
   "metadata": {},
   "outputs": [
    {
     "data": {
      "text/plain": [
       "[0, 0, 0, 0, 0, 0, 0, 0, 0, 0, 0, 0, 0, 0, 0, 0, 0, 0, 0, 0]"
      ]
     },
     "execution_count": 62,
     "metadata": {},
     "output_type": "execute_result"
    }
   ],
   "source": [
    "pred = [0 for i in range(20)]\n",
    "pred"
   ]
  },
  {
   "cell_type": "code",
   "execution_count": 63,
   "id": "6283da70-1942-48c6-b53e-e4bc7b80b95b",
   "metadata": {},
   "outputs": [
    {
     "data": {
      "text/html": [
       "<div>\n",
       "<style scoped>\n",
       "    .dataframe tbody tr th:only-of-type {\n",
       "        vertical-align: middle;\n",
       "    }\n",
       "\n",
       "    .dataframe tbody tr th {\n",
       "        vertical-align: top;\n",
       "    }\n",
       "\n",
       "    .dataframe thead th {\n",
       "        text-align: right;\n",
       "    }\n",
       "</style>\n",
       "<table border=\"1\" class=\"dataframe\">\n",
       "  <thead>\n",
       "    <tr style=\"text-align: right;\">\n",
       "      <th></th>\n",
       "      <th>ground truth</th>\n",
       "      <th>prediction</th>\n",
       "    </tr>\n",
       "  </thead>\n",
       "  <tbody>\n",
       "    <tr>\n",
       "      <th>0</th>\n",
       "      <td>0</td>\n",
       "      <td>0</td>\n",
       "    </tr>\n",
       "    <tr>\n",
       "      <th>1</th>\n",
       "      <td>0</td>\n",
       "      <td>0</td>\n",
       "    </tr>\n",
       "    <tr>\n",
       "      <th>2</th>\n",
       "      <td>0</td>\n",
       "      <td>0</td>\n",
       "    </tr>\n",
       "    <tr>\n",
       "      <th>3</th>\n",
       "      <td>0</td>\n",
       "      <td>0</td>\n",
       "    </tr>\n",
       "    <tr>\n",
       "      <th>4</th>\n",
       "      <td>0</td>\n",
       "      <td>0</td>\n",
       "    </tr>\n",
       "    <tr>\n",
       "      <th>5</th>\n",
       "      <td>1</td>\n",
       "      <td>0</td>\n",
       "    </tr>\n",
       "    <tr>\n",
       "      <th>6</th>\n",
       "      <td>0</td>\n",
       "      <td>0</td>\n",
       "    </tr>\n",
       "    <tr>\n",
       "      <th>7</th>\n",
       "      <td>0</td>\n",
       "      <td>0</td>\n",
       "    </tr>\n",
       "    <tr>\n",
       "      <th>8</th>\n",
       "      <td>0</td>\n",
       "      <td>0</td>\n",
       "    </tr>\n",
       "    <tr>\n",
       "      <th>9</th>\n",
       "      <td>0</td>\n",
       "      <td>0</td>\n",
       "    </tr>\n",
       "    <tr>\n",
       "      <th>10</th>\n",
       "      <td>0</td>\n",
       "      <td>0</td>\n",
       "    </tr>\n",
       "    <tr>\n",
       "      <th>11</th>\n",
       "      <td>0</td>\n",
       "      <td>0</td>\n",
       "    </tr>\n",
       "    <tr>\n",
       "      <th>12</th>\n",
       "      <td>0</td>\n",
       "      <td>0</td>\n",
       "    </tr>\n",
       "    <tr>\n",
       "      <th>13</th>\n",
       "      <td>1</td>\n",
       "      <td>0</td>\n",
       "    </tr>\n",
       "    <tr>\n",
       "      <th>14</th>\n",
       "      <td>0</td>\n",
       "      <td>0</td>\n",
       "    </tr>\n",
       "    <tr>\n",
       "      <th>15</th>\n",
       "      <td>0</td>\n",
       "      <td>0</td>\n",
       "    </tr>\n",
       "    <tr>\n",
       "      <th>16</th>\n",
       "      <td>0</td>\n",
       "      <td>0</td>\n",
       "    </tr>\n",
       "    <tr>\n",
       "      <th>17</th>\n",
       "      <td>0</td>\n",
       "      <td>0</td>\n",
       "    </tr>\n",
       "    <tr>\n",
       "      <th>18</th>\n",
       "      <td>0</td>\n",
       "      <td>0</td>\n",
       "    </tr>\n",
       "    <tr>\n",
       "      <th>19</th>\n",
       "      <td>0</td>\n",
       "      <td>0</td>\n",
       "    </tr>\n",
       "  </tbody>\n",
       "</table>\n",
       "</div>"
      ],
      "text/plain": [
       "    ground truth  prediction\n",
       "0              0           0\n",
       "1              0           0\n",
       "2              0           0\n",
       "3              0           0\n",
       "4              0           0\n",
       "5              1           0\n",
       "6              0           0\n",
       "7              0           0\n",
       "8              0           0\n",
       "9              0           0\n",
       "10             0           0\n",
       "11             0           0\n",
       "12             0           0\n",
       "13             1           0\n",
       "14             0           0\n",
       "15             0           0\n",
       "16             0           0\n",
       "17             0           0\n",
       "18             0           0\n",
       "19             0           0"
      ]
     },
     "execution_count": 63,
     "metadata": {},
     "output_type": "execute_result"
    }
   ],
   "source": [
    "pred_df_disbalance = pd.DataFrame({\n",
    "    'ground truth': y_disbalance,\n",
    "    'prediction': pred\n",
    "})\n",
    "\n",
    "pred_df_disbalance"
   ]
  },
  {
   "cell_type": "markdown",
   "id": "a7e5dc4b-0cb4-4050-88e1-526bb359af78",
   "metadata": {},
   "source": [
    "Сделаем новый столбец в датафрейме, который будет показывать, угадала ли наша модель истинный класс, False - если предсказание неправильное и True - если правильное:"
   ]
  },
  {
   "cell_type": "code",
   "execution_count": 64,
   "id": "db058e10-724e-41f0-b20b-8f2c9a192a95",
   "metadata": {},
   "outputs": [
    {
     "data": {
      "text/html": [
       "<div>\n",
       "<style scoped>\n",
       "    .dataframe tbody tr th:only-of-type {\n",
       "        vertical-align: middle;\n",
       "    }\n",
       "\n",
       "    .dataframe tbody tr th {\n",
       "        vertical-align: top;\n",
       "    }\n",
       "\n",
       "    .dataframe thead th {\n",
       "        text-align: right;\n",
       "    }\n",
       "</style>\n",
       "<table border=\"1\" class=\"dataframe\">\n",
       "  <thead>\n",
       "    <tr style=\"text-align: right;\">\n",
       "      <th></th>\n",
       "      <th>ground truth</th>\n",
       "      <th>prediction</th>\n",
       "      <th>right</th>\n",
       "    </tr>\n",
       "  </thead>\n",
       "  <tbody>\n",
       "    <tr>\n",
       "      <th>0</th>\n",
       "      <td>0</td>\n",
       "      <td>0</td>\n",
       "      <td>True</td>\n",
       "    </tr>\n",
       "    <tr>\n",
       "      <th>1</th>\n",
       "      <td>0</td>\n",
       "      <td>0</td>\n",
       "      <td>True</td>\n",
       "    </tr>\n",
       "    <tr>\n",
       "      <th>2</th>\n",
       "      <td>0</td>\n",
       "      <td>0</td>\n",
       "      <td>True</td>\n",
       "    </tr>\n",
       "    <tr>\n",
       "      <th>3</th>\n",
       "      <td>0</td>\n",
       "      <td>0</td>\n",
       "      <td>True</td>\n",
       "    </tr>\n",
       "    <tr>\n",
       "      <th>4</th>\n",
       "      <td>0</td>\n",
       "      <td>0</td>\n",
       "      <td>True</td>\n",
       "    </tr>\n",
       "    <tr>\n",
       "      <th>5</th>\n",
       "      <td>1</td>\n",
       "      <td>0</td>\n",
       "      <td>False</td>\n",
       "    </tr>\n",
       "    <tr>\n",
       "      <th>6</th>\n",
       "      <td>0</td>\n",
       "      <td>0</td>\n",
       "      <td>True</td>\n",
       "    </tr>\n",
       "    <tr>\n",
       "      <th>7</th>\n",
       "      <td>0</td>\n",
       "      <td>0</td>\n",
       "      <td>True</td>\n",
       "    </tr>\n",
       "    <tr>\n",
       "      <th>8</th>\n",
       "      <td>0</td>\n",
       "      <td>0</td>\n",
       "      <td>True</td>\n",
       "    </tr>\n",
       "    <tr>\n",
       "      <th>9</th>\n",
       "      <td>0</td>\n",
       "      <td>0</td>\n",
       "      <td>True</td>\n",
       "    </tr>\n",
       "    <tr>\n",
       "      <th>10</th>\n",
       "      <td>0</td>\n",
       "      <td>0</td>\n",
       "      <td>True</td>\n",
       "    </tr>\n",
       "    <tr>\n",
       "      <th>11</th>\n",
       "      <td>0</td>\n",
       "      <td>0</td>\n",
       "      <td>True</td>\n",
       "    </tr>\n",
       "    <tr>\n",
       "      <th>12</th>\n",
       "      <td>0</td>\n",
       "      <td>0</td>\n",
       "      <td>True</td>\n",
       "    </tr>\n",
       "    <tr>\n",
       "      <th>13</th>\n",
       "      <td>1</td>\n",
       "      <td>0</td>\n",
       "      <td>False</td>\n",
       "    </tr>\n",
       "    <tr>\n",
       "      <th>14</th>\n",
       "      <td>0</td>\n",
       "      <td>0</td>\n",
       "      <td>True</td>\n",
       "    </tr>\n",
       "    <tr>\n",
       "      <th>15</th>\n",
       "      <td>0</td>\n",
       "      <td>0</td>\n",
       "      <td>True</td>\n",
       "    </tr>\n",
       "    <tr>\n",
       "      <th>16</th>\n",
       "      <td>0</td>\n",
       "      <td>0</td>\n",
       "      <td>True</td>\n",
       "    </tr>\n",
       "    <tr>\n",
       "      <th>17</th>\n",
       "      <td>0</td>\n",
       "      <td>0</td>\n",
       "      <td>True</td>\n",
       "    </tr>\n",
       "    <tr>\n",
       "      <th>18</th>\n",
       "      <td>0</td>\n",
       "      <td>0</td>\n",
       "      <td>True</td>\n",
       "    </tr>\n",
       "    <tr>\n",
       "      <th>19</th>\n",
       "      <td>0</td>\n",
       "      <td>0</td>\n",
       "      <td>True</td>\n",
       "    </tr>\n",
       "  </tbody>\n",
       "</table>\n",
       "</div>"
      ],
      "text/plain": [
       "    ground truth  prediction  right\n",
       "0              0           0   True\n",
       "1              0           0   True\n",
       "2              0           0   True\n",
       "3              0           0   True\n",
       "4              0           0   True\n",
       "5              1           0  False\n",
       "6              0           0   True\n",
       "7              0           0   True\n",
       "8              0           0   True\n",
       "9              0           0   True\n",
       "10             0           0   True\n",
       "11             0           0   True\n",
       "12             0           0   True\n",
       "13             1           0  False\n",
       "14             0           0   True\n",
       "15             0           0   True\n",
       "16             0           0   True\n",
       "17             0           0   True\n",
       "18             0           0   True\n",
       "19             0           0   True"
      ]
     },
     "execution_count": 64,
     "metadata": {},
     "output_type": "execute_result"
    }
   ],
   "source": [
    "pred_df_disbalance['right'] = pred_df_disbalance['ground truth'] == pred_df_disbalance['prediction']\n",
    "pred_df_disbalance"
   ]
  },
  {
   "cell_type": "code",
   "execution_count": 65,
   "id": "8f4a9a44-55ee-484a-91d9-9d1f08c4be10",
   "metadata": {},
   "outputs": [
    {
     "data": {
      "text/plain": [
       "0.9"
      ]
     },
     "execution_count": 65,
     "metadata": {},
     "output_type": "execute_result"
    }
   ],
   "source": [
    "pred_df_disbalance['right'].sum() / pred_df_disbalance.shape[0] # accuracy"
   ]
  },
  {
   "cell_type": "markdown",
   "id": "515b26b0-92f2-487a-8d46-64d956ac7700",
   "metadata": {},
   "source": [
    "Получается очень высокая доля правильных ответов, которая стремится к 1, но по факту, модель бесполезная, алгоритм отвечает всегда нулевым классом, модель никогда не будет отвечать первым классом. Так что метрика accuracy хоть и высокая, но говорить о качественной модели мы здесь не можем."
   ]
  },
  {
   "cell_type": "markdown",
   "id": "59d3389f-f43c-4dbd-81c3-ad6a7890f06e",
   "metadata": {},
   "source": [
    "### Ошибки имеют разную цену"
   ]
  },
  {
   "cell_type": "markdown",
   "id": "adfc9941-89cc-4cfd-94bd-8f2a6f61ea70",
   "metadata": {},
   "source": [
    "Теперь поговорим про другую проблему метрики accuracy. Продолжаем знакомиться с задачами банков, обучили модель кредитного скоринга, с помощью неё, банк принимает решение о выдачи кредита человеку.  \n",
    "Модель предсказывает, кому кредит выдавать (добропорядочный гражданин и будет исправно платить), а кому нет (человек постоянно просрачивает платежи по кредиту)."
   ]
  },
  {
   "cell_type": "markdown",
   "id": "c22ee69d-81a7-4ff4-9302-36cf01753c2d",
   "metadata": {},
   "source": [
    "У нас вышло две модели, протестируем их работу на 10 клиентах.   \n",
    "\n",
    "0 будем помечать клиентов, которые кредит не вернут, а 1 - которые вернут.\n",
    "Предсказания моделей соответственно так же, 0 - модель предсказывает не возврат кредита, значит кредит не выдаем, а 1 - клиент кредит выплатит, значит можем быть в нём уверенными и выдаем ему деньги."
   ]
  },
  {
   "cell_type": "code",
   "execution_count": 66,
   "id": "4e560375-3247-4421-ae1e-e459ffa5d16e",
   "metadata": {},
   "outputs": [
    {
     "data": {
      "text/html": [
       "<div>\n",
       "<style scoped>\n",
       "    .dataframe tbody tr th:only-of-type {\n",
       "        vertical-align: middle;\n",
       "    }\n",
       "\n",
       "    .dataframe tbody tr th {\n",
       "        vertical-align: top;\n",
       "    }\n",
       "\n",
       "    .dataframe thead th {\n",
       "        text-align: right;\n",
       "    }\n",
       "</style>\n",
       "<table border=\"1\" class=\"dataframe\">\n",
       "  <thead>\n",
       "    <tr style=\"text-align: right;\">\n",
       "      <th></th>\n",
       "      <th>clients</th>\n",
       "      <th>first_model</th>\n",
       "      <th>second_model</th>\n",
       "    </tr>\n",
       "  </thead>\n",
       "  <tbody>\n",
       "    <tr>\n",
       "      <th>0</th>\n",
       "      <td>0</td>\n",
       "      <td>0</td>\n",
       "      <td>0</td>\n",
       "    </tr>\n",
       "    <tr>\n",
       "      <th>1</th>\n",
       "      <td>0</td>\n",
       "      <td>0</td>\n",
       "      <td>0</td>\n",
       "    </tr>\n",
       "    <tr>\n",
       "      <th>2</th>\n",
       "      <td>0</td>\n",
       "      <td>1</td>\n",
       "      <td>0</td>\n",
       "    </tr>\n",
       "    <tr>\n",
       "      <th>3</th>\n",
       "      <td>0</td>\n",
       "      <td>1</td>\n",
       "      <td>0</td>\n",
       "    </tr>\n",
       "    <tr>\n",
       "      <th>4</th>\n",
       "      <td>0</td>\n",
       "      <td>1</td>\n",
       "      <td>0</td>\n",
       "    </tr>\n",
       "    <tr>\n",
       "      <th>5</th>\n",
       "      <td>1</td>\n",
       "      <td>1</td>\n",
       "      <td>1</td>\n",
       "    </tr>\n",
       "    <tr>\n",
       "      <th>6</th>\n",
       "      <td>1</td>\n",
       "      <td>1</td>\n",
       "      <td>1</td>\n",
       "    </tr>\n",
       "    <tr>\n",
       "      <th>7</th>\n",
       "      <td>1</td>\n",
       "      <td>1</td>\n",
       "      <td>0</td>\n",
       "    </tr>\n",
       "    <tr>\n",
       "      <th>8</th>\n",
       "      <td>1</td>\n",
       "      <td>1</td>\n",
       "      <td>0</td>\n",
       "    </tr>\n",
       "    <tr>\n",
       "      <th>9</th>\n",
       "      <td>1</td>\n",
       "      <td>1</td>\n",
       "      <td>0</td>\n",
       "    </tr>\n",
       "  </tbody>\n",
       "</table>\n",
       "</div>"
      ],
      "text/plain": [
       "   clients  first_model  second_model\n",
       "0        0            0             0\n",
       "1        0            0             0\n",
       "2        0            1             0\n",
       "3        0            1             0\n",
       "4        0            1             0\n",
       "5        1            1             1\n",
       "6        1            1             1\n",
       "7        1            1             0\n",
       "8        1            1             0\n",
       "9        1            1             0"
      ]
     },
     "execution_count": 66,
     "metadata": {},
     "output_type": "execute_result"
    }
   ],
   "source": [
    "clients = [0, 0, 0, 0, 0, \n",
    "           1, 1, 1, 1, 1]\n",
    "first_model_pred = [0, 0, 1, 1, 1,\n",
    "                    1, 1, 1, 1, 1]\n",
    "second_model_pred = [0, 0, 0, 0, 0,\n",
    "                     1, 1, 0, 0, 0]\n",
    "\n",
    "\n",
    "df = pd.DataFrame({\n",
    "    'clients': clients,\n",
    "    'first_model': first_model_pred,\n",
    "    'second_model': second_model_pred\n",
    "})\n",
    "\n",
    "df"
   ]
  },
  {
   "cell_type": "markdown",
   "id": "b57afd9a-6a7a-41a1-8586-55d7fd00a437",
   "metadata": {},
   "source": [
    "Выборка сбалансированная, 5 клиентов имеют класс 0, а 5 имеют класс 1. Посмотрим на предсказания моделей:\n",
    "1. Первая выдает кредит 8 людям, по итогу 5 людей кредит возвращают, а 3 не возвращают\n",
    "2. Вторая модель выдает кредит 2 людям, и все 2 возвращают.\n",
    "\n",
    "Можете подумать, какая модель лучше? Какую модель вы бы взяли себе в банк оценивать клиентов?"
   ]
  },
  {
   "cell_type": "markdown",
   "id": "cac01032-0d9b-45a1-a665-562354f56159",
   "metadata": {},
   "source": [
    "На самом деле правильного ответа нет, всё зависит от стратегии банка.  \n",
    "- Если банку хочется больше заработать, то лучше выдавать больше кредитов, значит, лучше пользоваться первой моделью.   \n",
    "- Если банку хочется меньше потерять, то лучше выдавать кредиты только проверенным людям, а значит, лучше пользоваться второй моделью."
   ]
  },
  {
   "cell_type": "markdown",
   "id": "6760074f-45c6-44f8-abf2-2933b328b79a",
   "metadata": {},
   "source": [
    "Но при этом, метрика accuracy будет одинаковая на этих двух моделях, хотя они совершенно разные."
   ]
  },
  {
   "cell_type": "code",
   "execution_count": 67,
   "id": "6a2350f2-ffc9-4122-9ed7-3be12bdab4cf",
   "metadata": {},
   "outputs": [
    {
     "data": {
      "text/html": [
       "<div>\n",
       "<style scoped>\n",
       "    .dataframe tbody tr th:only-of-type {\n",
       "        vertical-align: middle;\n",
       "    }\n",
       "\n",
       "    .dataframe tbody tr th {\n",
       "        vertical-align: top;\n",
       "    }\n",
       "\n",
       "    .dataframe thead th {\n",
       "        text-align: right;\n",
       "    }\n",
       "</style>\n",
       "<table border=\"1\" class=\"dataframe\">\n",
       "  <thead>\n",
       "    <tr style=\"text-align: right;\">\n",
       "      <th></th>\n",
       "      <th>clients</th>\n",
       "      <th>first_model</th>\n",
       "      <th>second_model</th>\n",
       "      <th>first_model_right</th>\n",
       "      <th>second_model_right</th>\n",
       "    </tr>\n",
       "  </thead>\n",
       "  <tbody>\n",
       "    <tr>\n",
       "      <th>0</th>\n",
       "      <td>0</td>\n",
       "      <td>0</td>\n",
       "      <td>0</td>\n",
       "      <td>True</td>\n",
       "      <td>True</td>\n",
       "    </tr>\n",
       "    <tr>\n",
       "      <th>1</th>\n",
       "      <td>0</td>\n",
       "      <td>0</td>\n",
       "      <td>0</td>\n",
       "      <td>True</td>\n",
       "      <td>True</td>\n",
       "    </tr>\n",
       "    <tr>\n",
       "      <th>2</th>\n",
       "      <td>0</td>\n",
       "      <td>1</td>\n",
       "      <td>0</td>\n",
       "      <td>False</td>\n",
       "      <td>True</td>\n",
       "    </tr>\n",
       "    <tr>\n",
       "      <th>3</th>\n",
       "      <td>0</td>\n",
       "      <td>1</td>\n",
       "      <td>0</td>\n",
       "      <td>False</td>\n",
       "      <td>True</td>\n",
       "    </tr>\n",
       "    <tr>\n",
       "      <th>4</th>\n",
       "      <td>0</td>\n",
       "      <td>1</td>\n",
       "      <td>0</td>\n",
       "      <td>False</td>\n",
       "      <td>True</td>\n",
       "    </tr>\n",
       "    <tr>\n",
       "      <th>5</th>\n",
       "      <td>1</td>\n",
       "      <td>1</td>\n",
       "      <td>1</td>\n",
       "      <td>True</td>\n",
       "      <td>True</td>\n",
       "    </tr>\n",
       "    <tr>\n",
       "      <th>6</th>\n",
       "      <td>1</td>\n",
       "      <td>1</td>\n",
       "      <td>1</td>\n",
       "      <td>True</td>\n",
       "      <td>True</td>\n",
       "    </tr>\n",
       "    <tr>\n",
       "      <th>7</th>\n",
       "      <td>1</td>\n",
       "      <td>1</td>\n",
       "      <td>0</td>\n",
       "      <td>True</td>\n",
       "      <td>False</td>\n",
       "    </tr>\n",
       "    <tr>\n",
       "      <th>8</th>\n",
       "      <td>1</td>\n",
       "      <td>1</td>\n",
       "      <td>0</td>\n",
       "      <td>True</td>\n",
       "      <td>False</td>\n",
       "    </tr>\n",
       "    <tr>\n",
       "      <th>9</th>\n",
       "      <td>1</td>\n",
       "      <td>1</td>\n",
       "      <td>0</td>\n",
       "      <td>True</td>\n",
       "      <td>False</td>\n",
       "    </tr>\n",
       "  </tbody>\n",
       "</table>\n",
       "</div>"
      ],
      "text/plain": [
       "   clients  first_model  second_model  first_model_right  second_model_right\n",
       "0        0            0             0               True                True\n",
       "1        0            0             0               True                True\n",
       "2        0            1             0              False                True\n",
       "3        0            1             0              False                True\n",
       "4        0            1             0              False                True\n",
       "5        1            1             1               True                True\n",
       "6        1            1             1               True                True\n",
       "7        1            1             0               True               False\n",
       "8        1            1             0               True               False\n",
       "9        1            1             0               True               False"
      ]
     },
     "execution_count": 67,
     "metadata": {},
     "output_type": "execute_result"
    }
   ],
   "source": [
    "df['first_model_right'] = df['clients'] == df['first_model']\n",
    "df['second_model_right'] = df['clients'] == df['second_model']\n",
    "\n",
    "df"
   ]
  },
  {
   "cell_type": "code",
   "execution_count": 68,
   "id": "3cd4aa7f-8953-41ba-a162-248ab0cdf828",
   "metadata": {},
   "outputs": [
    {
     "name": "stdout",
     "output_type": "stream",
     "text": [
      "Accuracy первой модели 0.7\n",
      "Accuracy второй модели 0.7\n"
     ]
    }
   ],
   "source": [
    "print(f\"Accuracy первой модели {df['first_model_right'].sum() / df.shape[0]}\")\n",
    "print(f\"Accuracy второй модели {df['second_model_right'].sum() / df.shape[0]}\")"
   ]
  },
  {
   "cell_type": "markdown",
   "id": "d0af79f6-c8e2-48ba-b294-061ffe75231f",
   "metadata": {},
   "source": [
    "<table>\n",
    "\n",
    "<tr>\n",
    "<td>\n",
    "Метрика\n",
    "</td>\n",
    "\n",
    "<td>\n",
    "Формула\n",
    "</td>\n",
    "\n",
    "<td>\n",
    "Диапазоны значений\n",
    "</td>\n",
    "\n",
    "<td>\n",
    "Идеальное значение\n",
    "</td>\n",
    "</tr>\n",
    "\n",
    "<tr>\n",
    "<td>\n",
    "Accuracy\n",
    "</td>\n",
    "\n",
    "<td>\n",
    "$$accuracy(a,x) = \\frac{1}{l} \\sum^{l}_{i=1}[a(x_{i})=y_{i}].$$\n",
    "\n",
    "</td>\n",
    "\n",
    "<td>\n",
    "[0, 1]\n",
    "</td>\n",
    "\n",
    "<td>\n",
    "1\n",
    "</td>\n",
    "</tr>\n",
    "\n",
    "<table>"
   ]
  },
  {
   "cell_type": "markdown",
   "id": "be05b602-b150-4d19-9e19-566295edb14e",
   "metadata": {},
   "source": [
    "## Матрица ошибок (Confusion Matrix)"
   ]
  },
  {
   "cell_type": "markdown",
   "id": "b7f3fb8b-8c0a-4024-aa5d-eb1e6845975c",
   "metadata": {},
   "source": [
    "Оформим всё в матрицу:\n",
    "\n",
    "|  <empty>   | $$y = 1$$ | $$y = 0$$ |\n",
    "--- | --- | ---\n",
    "| __$$a(x) = 1$$__  |  True Positive TP    |  False Positive  FP   |\n",
    "| __$$a(x) = 0$$__ |   False Negative FN    |   True Negative TN   |\n",
    "\n",
    "\n",
    "В матрице сверху отложены истинные ответы, слева - ответы алгоритма. Когда алгоритм относит объект к классу \"1\", говорим, что он *срабатывает*, а когда к \"0\", - *пропускает*. \n",
    "- Если алгоритм сработал (предсказал 1) и объект действительно относится к классу \"1\", получаем верное срабатывание/верный положительный ответ (**True Positive, TP**) - ВСЁ ВЕРНО\n",
    "- Если алгоритм сработал (предсказал 1), а объект не относится к классу \"1\", это ложное срабатывание (**False Positive, FP**) - ОШИБКА\n",
    "- Если алгоритм пропускает объект (предсказал 0), а его истинный класс \"1\", это ложный пропуск/ложный негативные ответ (**False Negative, FN**) - ОШИБКА\n",
    "- Если алгоритм пропускает объект (предсказал 0), а истинный класс объекта \"0\", то это истинный пропуск (**True Negative, TN**) - ВСЁ ВЕРНО"
   ]
  },
  {
   "cell_type": "code",
   "execution_count": 69,
   "id": "c877127c-b98b-46aa-a539-94e313ee1cda",
   "metadata": {},
   "outputs": [
    {
     "data": {
      "text/plain": [
       "array([[2, 3],\n",
       "       [0, 5]], dtype=int64)"
      ]
     },
     "execution_count": 69,
     "metadata": {},
     "output_type": "execute_result"
    }
   ],
   "source": [
    "from sklearn.metrics import confusion_matrix\n",
    "import seaborn as sns\n",
    "\n",
    "confusion_matrix(df['clients'], df['first_model'])"
   ]
  },
  {
   "cell_type": "code",
   "execution_count": 70,
   "id": "6086754f-9ff3-4108-b7ed-047249452f3a",
   "metadata": {},
   "outputs": [
    {
     "data": {
      "image/png": "[encoded data removed]",
      "text/plain": [
       "<Figure size 640x480 with 2 Axes>"
      ]
     },
     "metadata": {},
     "output_type": "display_data"
    }
   ],
   "source": [
    "cm = confusion_matrix(df['clients'], df['first_model'])\n",
    "sns.heatmap(cm, annot=True)\n",
    "\n",
    "plt.title('confusion matrix')\n",
    "plt.xlabel('prediction')\n",
    "plt.ylabel('groud truth');"
   ]
  },
  {
   "cell_type": "markdown",
   "id": "0b2f4c1b-a1ae-43c8-a545-3bcb280537f6",
   "metadata": {},
   "source": [
    "И теперь видим, что TN у нас 2 штуки, TP - 5 штук, а ошибок FP 3 штуки, когда на истинный нулевой класс модель ответила 1 классом.\n",
    "\n",
    "На этих TP, TN, FP, FN основываются две хорошие метрики - Precision и Recall.\n",
    "\n",
    "**Точность (precision)** представляет из себя *долю истинных срабатываний* от общего количества срабатываний. Она показывает, насколько можно доверять алгоритму классификации в случае срабатывания\n",
    "\n",
    "$$precision(a, X) = \\frac{TP}{TP+FP}.$$\n",
    "\n",
    "**Полнота (recall)** считается как *доля объектов, истинно относящихся к классу \"1\"*, которые алгоритм отнес к этому классу\n",
    "\n",
    "$$recall(a, X) = \\frac{TP}{TP+FN},$$\n",
    "\n",
    "здесь $TP+FN$ будут составлять весь список объектов класса \"1\".\n",
    "\n",
    "\n",
    "Метрики могут изменяться от 0 до 1, где 0 - модель ниразу не попала правильно, все её предсказания ошибочные, а 1 - модель всё предсказала идеально."
   ]
  },
  {
   "cell_type": "markdown",
   "id": "c3a5f5a7-a117-414d-8592-81eaed3f754b",
   "metadata": {},
   "source": [
    "Есть очень хорошая картинка, с помощью которой можно продемонстрировать, как подсчитываются метрики для классификации.  \n",
    "- Левая прямоугольная затемненная область - это область целевых объектов, это наши клиенты с 1 классом\n",
    "- Правая светлая прямоугольная область - область нерелевантных объектов с 0 классом, когда клиенты нам не возвращают кредиты\n",
    "- То, что выделено в окружность - это объекты, на которых модель сработала, предсказала 1 класс\n",
    "- А всё, что не вошло в окружность - это объекты, которые модель пропустила.\n",
    "\n",
    "<img src='https://hsto.org/webt/so/oy/7k/sooy7k2lckgmsla2lgugjlisvh8.png' width=700>"
   ]
  },
  {
   "cell_type": "markdown",
   "id": "f7bac128-c037-43d4-bce8-fcea9baf0b59",
   "metadata": {},
   "source": [
    "## Precision"
   ]
  },
  {
   "cell_type": "markdown",
   "id": "fda17f2f-a533-4867-9475-b879754c0c2c",
   "metadata": {},
   "source": [
    "**Точность (precision)** отвечает за *чистоту классификации*, рассчитывается, как истинные срабатывания, деленные на все срабатывания вообще.\n",
    "\n",
    "$$precision(a, X) = \\frac{TP}{TP+FP}$$\n",
    "\n",
    "В идеале, когда знаменатель равен числителю, в этом случае метрика будет равна 1. В метрике precision минизируются ошибки *ложного срабатывания* (**False Positive**), хорошо, когда таких ошибок вообще нет, тогда классифицироваться как целевой класс будут только нужные нам объекты."
   ]
  },
  {
   "cell_type": "code",
   "execution_count": 72,
   "id": "c49b3ebd-2873-4f09-af73-722b721a61c2",
   "metadata": {},
   "outputs": [
    {
     "data": {
      "text/plain": [
       "0.625"
      ]
     },
     "execution_count": 72,
     "metadata": {},
     "output_type": "execute_result"
    }
   ],
   "source": [
    "from sklearn.metrics import precision_score\n",
    "\n",
    "precision_score(df['clients'], df['first_model'])"
   ]
  },
  {
   "cell_type": "code",
   "execution_count": 73,
   "id": "eca2e3e7",
   "metadata": {},
   "outputs": [
    {
     "data": {
      "text/html": [
       "<div>\n",
       "<style scoped>\n",
       "    .dataframe tbody tr th:only-of-type {\n",
       "        vertical-align: middle;\n",
       "    }\n",
       "\n",
       "    .dataframe tbody tr th {\n",
       "        vertical-align: top;\n",
       "    }\n",
       "\n",
       "    .dataframe thead th {\n",
       "        text-align: right;\n",
       "    }\n",
       "</style>\n",
       "<table border=\"1\" class=\"dataframe\">\n",
       "  <thead>\n",
       "    <tr style=\"text-align: right;\">\n",
       "      <th></th>\n",
       "      <th>clients</th>\n",
       "      <th>first_model</th>\n",
       "      <th>second_model</th>\n",
       "      <th>first_model_right</th>\n",
       "      <th>second_model_right</th>\n",
       "    </tr>\n",
       "  </thead>\n",
       "  <tbody>\n",
       "    <tr>\n",
       "      <th>0</th>\n",
       "      <td>0</td>\n",
       "      <td>0</td>\n",
       "      <td>0</td>\n",
       "      <td>True</td>\n",
       "      <td>True</td>\n",
       "    </tr>\n",
       "    <tr>\n",
       "      <th>1</th>\n",
       "      <td>0</td>\n",
       "      <td>0</td>\n",
       "      <td>0</td>\n",
       "      <td>True</td>\n",
       "      <td>True</td>\n",
       "    </tr>\n",
       "    <tr>\n",
       "      <th>2</th>\n",
       "      <td>0</td>\n",
       "      <td>1</td>\n",
       "      <td>0</td>\n",
       "      <td>False</td>\n",
       "      <td>True</td>\n",
       "    </tr>\n",
       "    <tr>\n",
       "      <th>3</th>\n",
       "      <td>0</td>\n",
       "      <td>1</td>\n",
       "      <td>0</td>\n",
       "      <td>False</td>\n",
       "      <td>True</td>\n",
       "    </tr>\n",
       "    <tr>\n",
       "      <th>4</th>\n",
       "      <td>0</td>\n",
       "      <td>1</td>\n",
       "      <td>0</td>\n",
       "      <td>False</td>\n",
       "      <td>True</td>\n",
       "    </tr>\n",
       "    <tr>\n",
       "      <th>5</th>\n",
       "      <td>1</td>\n",
       "      <td>1</td>\n",
       "      <td>1</td>\n",
       "      <td>True</td>\n",
       "      <td>True</td>\n",
       "    </tr>\n",
       "    <tr>\n",
       "      <th>6</th>\n",
       "      <td>1</td>\n",
       "      <td>1</td>\n",
       "      <td>1</td>\n",
       "      <td>True</td>\n",
       "      <td>True</td>\n",
       "    </tr>\n",
       "    <tr>\n",
       "      <th>7</th>\n",
       "      <td>1</td>\n",
       "      <td>1</td>\n",
       "      <td>0</td>\n",
       "      <td>True</td>\n",
       "      <td>False</td>\n",
       "    </tr>\n",
       "    <tr>\n",
       "      <th>8</th>\n",
       "      <td>1</td>\n",
       "      <td>1</td>\n",
       "      <td>0</td>\n",
       "      <td>True</td>\n",
       "      <td>False</td>\n",
       "    </tr>\n",
       "    <tr>\n",
       "      <th>9</th>\n",
       "      <td>1</td>\n",
       "      <td>1</td>\n",
       "      <td>0</td>\n",
       "      <td>True</td>\n",
       "      <td>False</td>\n",
       "    </tr>\n",
       "  </tbody>\n",
       "</table>\n",
       "</div>"
      ],
      "text/plain": [
       "   clients  first_model  second_model  first_model_right  second_model_right\n",
       "0        0            0             0               True                True\n",
       "1        0            0             0               True                True\n",
       "2        0            1             0              False                True\n",
       "3        0            1             0              False                True\n",
       "4        0            1             0              False                True\n",
       "5        1            1             1               True                True\n",
       "6        1            1             1               True                True\n",
       "7        1            1             0               True               False\n",
       "8        1            1             0               True               False\n",
       "9        1            1             0               True               False"
      ]
     },
     "execution_count": 73,
     "metadata": {},
     "output_type": "execute_result"
    }
   ],
   "source": [
    "df"
   ]
  },
  {
   "cell_type": "markdown",
   "id": "bc23ba33-b143-40aa-84d7-a091725d8ca0",
   "metadata": {},
   "source": [
    "Метрика равна 0.625, мы верно классифицировали 5 объектов, а всего отнесли к первому классу 8 объектов, что и дало нам значение $\\frac{5}{8} = 0.625$"
   ]
  },
  {
   "cell_type": "code",
   "execution_count": null,
   "id": "8953e6b7-4b29-427c-906d-b90547ae7673",
   "metadata": {},
   "outputs": [],
   "source": [
    "from sklearn.metrics import precision_score\n",
    "\n",
    "precision_score(df['clients'], df['second_model'])"
   ]
  },
  {
   "cell_type": "markdown",
   "id": "8f36b61a-1d65-4bf3-a7fb-b449176d9d3a",
   "metadata": {},
   "source": [
    "Метрика равна 1, мы верно классифицировали два объектов из двух, которые модель отнесла к 1 классу, получается precision = $\\frac{2}{2} = 1$."
   ]
  },
  {
   "cell_type": "markdown",
   "id": "9004248f-9385-479d-8e94-60fe0da41f99",
   "metadata": {},
   "source": [
    "Теперь две модели не кажутся такими одинаковыми, как были при подсчете метрики accuracy, по метрики precision выигрывает вторая модель, т.к. у неё нет *ложных срабатываний* **False Positive**, модель выдает кредиты только проверенным людям, поэтому и получилась очень *чистая* работа классификации."
   ]
  },
  {
   "cell_type": "markdown",
   "id": "74994774-846d-4ebe-9ef9-410092dc334d",
   "metadata": {},
   "source": [
    "## Recall"
   ]
  },
  {
   "cell_type": "markdown",
   "id": "4d140c24-7915-4560-b258-bbd975302cfb",
   "metadata": {},
   "source": [
    "\n",
    "**Полнота (recall)** отвечает за *количество классификаций*, рассчитывается, как истинные срабатывания, деленные на объекты целевого класса.\n",
    "\n",
    "\n",
    "$$recall(a, X) = \\frac{TP}{TP+FN}$$\n",
    "\n",
    "\n",
    "В идеале, когда знаменатель равен числителю, в этом случае метрика будет равна 1. В метрике recall минизируются ошибки *ложного пропуска* (**False Negative**), хорошо, когда таких ошибок нет, тогда мы найдем все возможные объекты целевого класса и никого не пропустим."
   ]
  },
  {
   "cell_type": "code",
   "execution_count": 23,
   "id": "9a2f6461-a24b-4968-8d63-57a0c67885b9",
   "metadata": {},
   "outputs": [
    {
     "data": {
      "text/plain": [
       "1.0"
      ]
     },
     "execution_count": 23,
     "metadata": {},
     "output_type": "execute_result"
    }
   ],
   "source": [
    "from sklearn.metrics import recall_score\n",
    "\n",
    "recall_score(df['clients'], df['first_model'])"
   ]
  },
  {
   "cell_type": "markdown",
   "id": "f1158ad2-a42e-4b43-9256-d47eb0eb65c8",
   "metadata": {},
   "source": [
    "Метрика равна 1, мы верно отнесли к 1 классу пять объектов из пяти, то есть нашли все объекты целевого класса, которые могли, по итогу и получили значение равное $\\frac{5}{5} = 1$"
   ]
  },
  {
   "cell_type": "markdown",
   "id": "0dbee265-b85b-43d5-a49b-5367cb69dd82",
   "metadata": {},
   "source": [
    "Метрика равна 0.4, мы верно отнесли к целевому классу только два объекта из пяти возможных, то есть допустили 3 ошибки ложного пропуска false negative и получили метрику recall равную $\\frac{2}{5} = 0.4$."
   ]
  },
  {
   "cell_type": "markdown",
   "id": "9c52cf04-3d04-41d1-b6b6-dfe7e0c8920a",
   "metadata": {},
   "source": [
    "И снова модели не кажутся одинаковыми, их метрики recall сильно отличаются, теперь выигрышней смотрится первая модель, т.к. у неё нет *ложных пропусков* **False Negative**, модель выдала кредиты всем проверенным людям и никого не оставила без денег."
   ]
  },
  {
   "cell_type": "markdown",
   "id": "c5fcf552-fd0a-43f4-b01c-62ab91f49517",
   "metadata": {},
   "source": [
    "## Сравнение "
   ]
  },
  {
   "cell_type": "markdown",
   "id": "7b3cd790-ec1f-4933-bb0e-2a376c9be68d",
   "metadata": {},
   "source": [
    "Сравним наши две модели по предсказанию 1 класса на 10 объектах:\n",
    "\n",
    "|  <empty>   | first model | second model |\n",
    "--- | --- | ---\n",
    "| __precision__  |  0.625    |  1   |\n",
    "| __recall__ |   1    |   0.4   |\n",
    "\n",
    "У одной хороший recall, а у другой хороший precision, вот теперь можно смотреть на стратегию банка и принимать решение, что ему более важно:\n",
    "- Если банку хочется **больше заработать**, то лучше выдавать кредиты *всем* людям, которые способны его вернуть, то есть ищем модель с максимальным *recall* - а это первая модель.\n",
    "- Если банку хочется **меньше потерять**, то лучше выдавать кредиты *только* надежным людям, а значит ищем модель с лучшим *precision* - это вторая модель.\n"
   ]
  },
  {
   "cell_type": "markdown",
   "id": "c4ec83c9-4423-41a0-8824-cd6d56ea4d96",
   "metadata": {},
   "source": [
    "# Итого\n",
    "\n",
    "<table>\n",
    "\n",
    "<tr>\n",
    "<td>\n",
    "Метрика\n",
    "</td>\n",
    "\n",
    "<td>\n",
    "Формула\n",
    "</td>\n",
    "\n",
    "<td>\n",
    "Диапазоны значений\n",
    "</td>\n",
    "\n",
    "<td>\n",
    "Идеальное значение\n",
    "</td>\n",
    "</tr>\n",
    "\n",
    "<tr>\n",
    "<td>\n",
    "Precision\n",
    "</td>\n",
    "\n",
    "<td>\n",
    "$$precision = \\frac{TP}{TP + FP}$$\n",
    "\n",
    "</td>\n",
    "\n",
    "<td>\n",
    "[0, 1]\n",
    "</td>\n",
    "\n",
    "<td>\n",
    "1\n",
    "</td>\n",
    "</tr>\n",
    "\n",
    "<td>\n",
    "Recall\n",
    "</td>\n",
    "\n",
    "<td>\n",
    "$$recall = \\frac{TP}{TP + FN}$$\n",
    "\n",
    "</td>\n",
    "\n",
    "<td>\n",
    "[0, 1]\n",
    "</td>\n",
    "\n",
    "<td>\n",
    "1\n",
    "</td>\n",
    "</tr>\n",
    "<tr>\n",
    "<td>\n",
    "Accuracy\n",
    "</td>\n",
    "\n",
    "<td>\n",
    "$$accuracy(a,x) = \\frac{1}{l} \\sum^{l}_{i=1}[a(x_{i})=y_{i}].$$\n",
    "\n",
    "</td>\n",
    "\n",
    "<td>\n",
    "[0, 1]\n",
    "</td>\n",
    "\n",
    "<td>\n",
    "1\n",
    "</td>\n",
    "</tr>\n",
    "\n",
    "<table>"
   ]
  },
  {
   "cell_type": "markdown",
   "id": "e2d73567-6b6e-45bd-9358-fadc449d7935",
   "metadata": {},
   "source": [
    "В этом занятии посмотрели на метрики для задачи классификации, которые учитывают разные ошибки - Precision и Recall.\n",
    "\n",
    "**Precision** хороша для\n",
    "- Задач, где важна *чистота* классификации\n",
    "- Где нам не нужны ошибки *False Positive*\n",
    "\n",
    "**Recall** хорош для\n",
    "- Задач, где важно *количество* классиифкаций\n",
    "- Где нам не нужны ошибки *False Negative*\n"
   ]
  },
  {
   "cell_type": "markdown",
   "id": "b3c5cf28-0270-4cce-992d-38769c8e56d8",
   "metadata": {},
   "source": [
    "# Объединение precision и recall"
   ]
  },
  {
   "cell_type": "markdown",
   "id": "cace1c51-77b6-4d47-986f-e9f0524a98e9",
   "metadata": {},
   "source": [
    "### Среднее гармоническое"
   ]
  },
  {
   "cell_type": "code",
   "execution_count": 24,
   "id": "b412e782-907c-420f-9bf0-30ef5bf16023",
   "metadata": {},
   "outputs": [
    {
     "data": {
      "image/png": "[encoded data removed]",
      "text/plain": [
       "<Figure size 600x600 with 1 Axes>"
      ]
     },
     "metadata": {},
     "output_type": "display_data"
    }
   ],
   "source": [
    "precisions, recalls = np.meshgrid(np.linspace(0.01, 1, 100), np.linspace(0.01, 1, 100))\n",
    "\n",
    "f_levels = np.empty_like(precisions)\n",
    "for i in range(precisions.shape[0]):\n",
    "    for j in range(precisions.shape[1]):\n",
    "        f_levels[i, j] = 2 * precisions[i, j] * recalls[i, j] / (precisions[i, j] + recalls[i, j])\n",
    "\n",
    "plt.figure(figsize=(6, 6))        \n",
    "plt.title('F-score')\n",
    "plt.xlabel('precision')\n",
    "plt.ylabel('recall')\n",
    "plt.grid()\n",
    "plt.contour(precisions, recalls, f_levels, levels=20)\n",
    "plt.plot(0.1, 1, 'ro', ms=12)\n",
    "plt.plot(0.55, 0.55, 'bo', ms=12)\n",
    "plt.plot(0.55, 0.9, 'go', ms=12);"
   ]
  },
  {
   "cell_type": "markdown",
   "id": "142e7cd1-ad88-40f3-a634-a625aca2344d",
   "metadata": {},
   "source": [
    "Теперь наконец-то наши модели с разными метриками полноты и точности дают разные объединенные показатели. Самая лучшая модель по гармоническому среднему - зеленая, с неплохой точностью и хорошей полнотой.\n",
    "\n",
    "|  <empty>   | red | blue | green|\n",
    "--- | --- | --- |---\n",
    "| precision  |   0.1    |   0.55   | 0.55|\n",
    "| recall |   1    |   0.55   | 0.9 |\n",
    "| **f-score** |   **0.1818**   |   **0.55**   | **0.683**|"
   ]
  },
  {
   "cell_type": "markdown",
   "id": "97c75c33-b464-4157-9f58-5d9ae1910112",
   "metadata": {},
   "source": [
    "То, что сейчас посчитали называется гармоническим среднем и метрикой F1-score.\n",
    "\n",
    "<table>\n",
    "\n",
    "<tr>\n",
    "<td>\n",
    "Метрика\n",
    "</td>\n",
    "\n",
    "<td>\n",
    "Формула\n",
    "</td>\n",
    "\n",
    "<td>\n",
    "Диапазоны значений\n",
    "</td>\n",
    "\n",
    "<td>\n",
    "Идеальное значение\n",
    "</td>\n",
    "</tr>\n",
    "\n",
    "<tr>\n",
    "<td>\n",
    "F1-мера\n",
    "</td>\n",
    "\n",
    "<td>\n",
    "\n",
    "$$F_{1} = \\frac{2 \\cdot precision \\cdot recall}{precision + recall}$$\n",
    "\n",
    "</td>\n",
    "\n",
    "<td>\n",
    "[0, 1]\n",
    "</td>\n",
    "\n",
    "<td>\n",
    "1\n",
    "</td>\n",
    "\n",
    "\n",
    "<table>\n",
    "\n",
    "В отличие от, например, среднего арифметического, если хотя бы один из аргументов близок к нулю, то и среднее гармоническое будет близко к нулю. По сути, F1-мера является сглаженной версией минимума из точности и полноты."
   ]
  },
  {
   "cell_type": "code",
   "execution_count": 74,
   "id": "d7836b63-22a1-4e6e-beae-0c729b27d4e8",
   "metadata": {},
   "outputs": [
    {
     "name": "stdout",
     "output_type": "stream",
     "text": [
      "FIRST MODEL. accuracy 0.7, precision 0.625, recall 1.0, f1 0.77\n",
      "SECOND MODEL. accuracy 0.7, precision 1.0, recall 0.4, f1 0.57\n"
     ]
    }
   ],
   "source": [
    "from sklearn.metrics import f1_score\n",
    "\n",
    "precision_1 = precision_score(df['clients'], df['first_model'])\n",
    "precision_2 = precision_score(df['clients'], df['second_model'])\n",
    "\n",
    "recall_1 = recall_score(df['clients'], df['first_model'])\n",
    "recall_2 = recall_score(df['clients'], df['second_model'])\n",
    "\n",
    "f1_1 = f1_score(df['clients'], df['first_model'])\n",
    "f1_2 = f1_score(df['clients'], df['second_model'])\n",
    "\n",
    "print(f'FIRST MODEL. accuracy 0.7, precision {precision_1}, recall {recall_1}, f1 {f1_1:.2f}')\n",
    "print(f'SECOND MODEL. accuracy 0.7, precision {precision_2}, recall {recall_2}, f1 {f1_2:.2f}')"
   ]
  },
  {
   "cell_type": "markdown",
   "id": "a9e95bc9-e6e9-4dab-85a1-6d1faa819745",
   "metadata": {},
   "source": [
    "Существует также усовершенствованная версия F-меры $F_{\\beta}$:\n",
    "\n",
    "$$F_{\\beta} = (1 + \\beta^{2}) \\frac{precision \\cdot recall}{\\beta^{2} \\cdot precision + recall}.$$\n",
    "\n",
    "Параметр $\\beta$ здесь определяет вес точности в метрике. Его изменение требуется, когда необходимо отдать приоритет точности или полноте, если того требует задача (примеры с АЭС и диагностикой заболевания). \n",
    "- При $\\beta = 1$ это среднее гармоническое, умноженное на 2 (чтобы в случае $precision = 1$ и $recall = 1$ $F_{1} = 1$)\n",
    "- Когда $\\beta < 1$, то важнее точность\n",
    "- Когда $\\beta > 1$, то важнее полнота"
   ]
  },
  {
   "cell_type": "code",
   "execution_count": 75,
   "id": "edb9fae6",
   "metadata": {},
   "outputs": [
    {
     "data": {
      "text/plain": [
       "0.7692307692307693"
      ]
     },
     "execution_count": 75,
     "metadata": {},
     "output_type": "execute_result"
    }
   ],
   "source": [
    "from sklearn.metrics import f1_score\n",
    "\n",
    "f1_score(df['clients'], df['first_model'])"
   ]
  },
  {
   "cell_type": "code",
   "execution_count": 76,
   "id": "0e5e7b75-b3d1-450a-ab71-04e288c2a2cc",
   "metadata": {},
   "outputs": [
    {
     "data": {
      "text/plain": [
       "0.7692307692307693"
      ]
     },
     "execution_count": 76,
     "metadata": {},
     "output_type": "execute_result"
    }
   ],
   "source": [
    "from sklearn.metrics import fbeta_score\n",
    "\n",
    "fbeta_score(df['clients'], df['first_model'], beta=1)"
   ]
  },
  {
   "cell_type": "code",
   "execution_count": 27,
   "id": "0973eff2-c5d9-43db-88c7-df4b5751fe4c",
   "metadata": {},
   "outputs": [
    {
     "data": {
      "text/plain": [
       "0.8441558441558441"
      ]
     },
     "execution_count": 27,
     "metadata": {},
     "output_type": "execute_result"
    }
   ],
   "source": [
    "fbeta_score(df['clients'], df['first_model'], beta=1.5)"
   ]
  },
  {
   "cell_type": "code",
   "execution_count": 28,
   "id": "e6d8d0ec-6c4c-408a-b551-99ed35114460",
   "metadata": {},
   "outputs": [
    {
     "data": {
      "text/plain": [
       "0.6756756756756757"
      ]
     },
     "execution_count": 28,
     "metadata": {},
     "output_type": "execute_result"
    }
   ],
   "source": [
    "fbeta_score(df['clients'], df['first_model'], beta=0.5)"
   ]
  },
  {
   "cell_type": "markdown",
   "id": "198741f7-8ffd-4337-b5bf-e72b09da3082",
   "metadata": {},
   "source": [
    "Все три метрики можно вывести с помощью функции `classification_report` из `sklearn`."
   ]
  },
  {
   "cell_type": "code",
   "execution_count": 29,
   "id": "5d46c473-588e-41b9-9b74-71f90245940f",
   "metadata": {},
   "outputs": [
    {
     "name": "stdout",
     "output_type": "stream",
     "text": [
      "              precision    recall  f1-score   support\n",
      "\n",
      "           0       1.00      0.40      0.57         5\n",
      "           1       0.62      1.00      0.77         5\n",
      "\n",
      "    accuracy                           0.70        10\n",
      "   macro avg       0.81      0.70      0.67        10\n",
      "weighted avg       0.81      0.70      0.67        10\n",
      "\n"
     ]
    }
   ],
   "source": [
    "from sklearn.metrics import classification_report\n",
    "\n",
    "print(classification_report(df['clients'], df['first_model']))"
   ]
  },
  {
   "cell_type": "markdown",
   "id": "dc7d4ddd-a9d4-46e7-976f-9e6aee05cf34",
   "metadata": {},
   "source": [
    "# Итого\n",
    "\n",
    "<table>\n",
    "\n",
    "<tr>\n",
    "<td>\n",
    "Метрика\n",
    "</td>\n",
    "\n",
    "<td>\n",
    "Формула\n",
    "</td>\n",
    "\n",
    "<td>\n",
    "Диапазоны значений\n",
    "</td>\n",
    "\n",
    "<td>\n",
    "Идеальное значение\n",
    "</td>\n",
    "</tr>\n",
    "\n",
    "<tr>\n",
    "<td>\n",
    "Precision\n",
    "</td>\n",
    "\n",
    "<td>\n",
    "$$precision = \\frac{TP}{TP + FP}$$\n",
    "\n",
    "</td>\n",
    "\n",
    "<td>\n",
    "[0, 1]\n",
    "</td>\n",
    "\n",
    "<td>\n",
    "1\n",
    "</td>\n",
    "</tr>\n",
    "\n",
    "<td>\n",
    "Recall\n",
    "</td>\n",
    "\n",
    "<td>\n",
    "$$recall = \\frac{TP}{TP + FN}$$\n",
    "\n",
    "</td>\n",
    "\n",
    "<td>\n",
    "[0, 1]\n",
    "</td>\n",
    "\n",
    "<td>\n",
    "1\n",
    "</td>\n",
    "</tr>\n",
    "<tr>\n",
    "<td>\n",
    "Accuracy\n",
    "</td>\n",
    "\n",
    "<td>\n",
    "$$accuracy(a,x) = \\frac{1}{l} \\sum^{l}_{i=1}[a(x_{i})=y_{i}].$$\n",
    "\n",
    "</td>\n",
    "\n",
    "<td>\n",
    "[0, 1]\n",
    "</td>\n",
    "\n",
    "<td>\n",
    "1\n",
    "</td>\n",
    "</tr>\n",
    "<tr>\n",
    "<td>\n",
    "F-мера\n",
    "</td>\n",
    "\n",
    "<td>\n",
    "\n",
    "$$F_{\\beta} = (1 + \\beta^{2}) \\frac{precision \\cdot recall}{\\beta^{2} \\cdot precision + recall}$$\n",
    "\n",
    "</td>\n",
    "\n",
    "<td>\n",
    "[0, 1]\n",
    "</td>\n",
    "\n",
    "<td>\n",
    "1\n",
    "</td>\n",
    "</tr>\n",
    "\n",
    "<table>"
   ]
  },
  {
   "cell_type": "markdown",
   "id": "5a5e4750-93b6-4fdc-a86b-182ca468db89",
   "metadata": {},
   "source": [
    "# ROC AUC"
   ]
  },
  {
   "cell_type": "code",
   "execution_count": 78,
   "id": "de23b508-10a1-4dbc-bac2-0ab41c2c6adf",
   "metadata": {},
   "outputs": [],
   "source": [
    "from sklearn.datasets import load_breast_cancer\n",
    "\n",
    "data = load_breast_cancer()"
   ]
  },
  {
   "cell_type": "code",
   "execution_count": 79,
   "id": "0e4c01ba-3060-4b90-bb3b-796fb34a1d14",
   "metadata": {},
   "outputs": [
    {
     "data": {
      "text/html": [
       "<div>\n",
       "<style scoped>\n",
       "    .dataframe tbody tr th:only-of-type {\n",
       "        vertical-align: middle;\n",
       "    }\n",
       "\n",
       "    .dataframe tbody tr th {\n",
       "        vertical-align: top;\n",
       "    }\n",
       "\n",
       "    .dataframe thead th {\n",
       "        text-align: right;\n",
       "    }\n",
       "</style>\n",
       "<table border=\"1\" class=\"dataframe\">\n",
       "  <thead>\n",
       "    <tr style=\"text-align: right;\">\n",
       "      <th></th>\n",
       "      <th>mean radius</th>\n",
       "      <th>mean texture</th>\n",
       "      <th>mean perimeter</th>\n",
       "      <th>mean area</th>\n",
       "      <th>mean smoothness</th>\n",
       "      <th>mean compactness</th>\n",
       "      <th>mean concavity</th>\n",
       "      <th>mean concave points</th>\n",
       "      <th>mean symmetry</th>\n",
       "      <th>mean fractal dimension</th>\n",
       "      <th>...</th>\n",
       "      <th>worst radius</th>\n",
       "      <th>worst texture</th>\n",
       "      <th>worst perimeter</th>\n",
       "      <th>worst area</th>\n",
       "      <th>worst smoothness</th>\n",
       "      <th>worst compactness</th>\n",
       "      <th>worst concavity</th>\n",
       "      <th>worst concave points</th>\n",
       "      <th>worst symmetry</th>\n",
       "      <th>worst fractal dimension</th>\n",
       "    </tr>\n",
       "  </thead>\n",
       "  <tbody>\n",
       "    <tr>\n",
       "      <th>0</th>\n",
       "      <td>17.99</td>\n",
       "      <td>10.38</td>\n",
       "      <td>122.80</td>\n",
       "      <td>1001.0</td>\n",
       "      <td>0.11840</td>\n",
       "      <td>0.27760</td>\n",
       "      <td>0.30010</td>\n",
       "      <td>0.14710</td>\n",
       "      <td>0.2419</td>\n",
       "      <td>0.07871</td>\n",
       "      <td>...</td>\n",
       "      <td>25.380</td>\n",
       "      <td>17.33</td>\n",
       "      <td>184.60</td>\n",
       "      <td>2019.0</td>\n",
       "      <td>0.16220</td>\n",
       "      <td>0.66560</td>\n",
       "      <td>0.7119</td>\n",
       "      <td>0.2654</td>\n",
       "      <td>0.4601</td>\n",
       "      <td>0.11890</td>\n",
       "    </tr>\n",
       "    <tr>\n",
       "      <th>1</th>\n",
       "      <td>20.57</td>\n",
       "      <td>17.77</td>\n",
       "      <td>132.90</td>\n",
       "      <td>1326.0</td>\n",
       "      <td>0.08474</td>\n",
       "      <td>0.07864</td>\n",
       "      <td>0.08690</td>\n",
       "      <td>0.07017</td>\n",
       "      <td>0.1812</td>\n",
       "      <td>0.05667</td>\n",
       "      <td>...</td>\n",
       "      <td>24.990</td>\n",
       "      <td>23.41</td>\n",
       "      <td>158.80</td>\n",
       "      <td>1956.0</td>\n",
       "      <td>0.12380</td>\n",
       "      <td>0.18660</td>\n",
       "      <td>0.2416</td>\n",
       "      <td>0.1860</td>\n",
       "      <td>0.2750</td>\n",
       "      <td>0.08902</td>\n",
       "    </tr>\n",
       "    <tr>\n",
       "      <th>2</th>\n",
       "      <td>19.69</td>\n",
       "      <td>21.25</td>\n",
       "      <td>130.00</td>\n",
       "      <td>1203.0</td>\n",
       "      <td>0.10960</td>\n",
       "      <td>0.15990</td>\n",
       "      <td>0.19740</td>\n",
       "      <td>0.12790</td>\n",
       "      <td>0.2069</td>\n",
       "      <td>0.05999</td>\n",
       "      <td>...</td>\n",
       "      <td>23.570</td>\n",
       "      <td>25.53</td>\n",
       "      <td>152.50</td>\n",
       "      <td>1709.0</td>\n",
       "      <td>0.14440</td>\n",
       "      <td>0.42450</td>\n",
       "      <td>0.4504</td>\n",
       "      <td>0.2430</td>\n",
       "      <td>0.3613</td>\n",
       "      <td>0.08758</td>\n",
       "    </tr>\n",
       "    <tr>\n",
       "      <th>3</th>\n",
       "      <td>11.42</td>\n",
       "      <td>20.38</td>\n",
       "      <td>77.58</td>\n",
       "      <td>386.1</td>\n",
       "      <td>0.14250</td>\n",
       "      <td>0.28390</td>\n",
       "      <td>0.24140</td>\n",
       "      <td>0.10520</td>\n",
       "      <td>0.2597</td>\n",
       "      <td>0.09744</td>\n",
       "      <td>...</td>\n",
       "      <td>14.910</td>\n",
       "      <td>26.50</td>\n",
       "      <td>98.87</td>\n",
       "      <td>567.7</td>\n",
       "      <td>0.20980</td>\n",
       "      <td>0.86630</td>\n",
       "      <td>0.6869</td>\n",
       "      <td>0.2575</td>\n",
       "      <td>0.6638</td>\n",
       "      <td>0.17300</td>\n",
       "    </tr>\n",
       "    <tr>\n",
       "      <th>4</th>\n",
       "      <td>20.29</td>\n",
       "      <td>14.34</td>\n",
       "      <td>135.10</td>\n",
       "      <td>1297.0</td>\n",
       "      <td>0.10030</td>\n",
       "      <td>0.13280</td>\n",
       "      <td>0.19800</td>\n",
       "      <td>0.10430</td>\n",
       "      <td>0.1809</td>\n",
       "      <td>0.05883</td>\n",
       "      <td>...</td>\n",
       "      <td>22.540</td>\n",
       "      <td>16.67</td>\n",
       "      <td>152.20</td>\n",
       "      <td>1575.0</td>\n",
       "      <td>0.13740</td>\n",
       "      <td>0.20500</td>\n",
       "      <td>0.4000</td>\n",
       "      <td>0.1625</td>\n",
       "      <td>0.2364</td>\n",
       "      <td>0.07678</td>\n",
       "    </tr>\n",
       "    <tr>\n",
       "      <th>...</th>\n",
       "      <td>...</td>\n",
       "      <td>...</td>\n",
       "      <td>...</td>\n",
       "      <td>...</td>\n",
       "      <td>...</td>\n",
       "      <td>...</td>\n",
       "      <td>...</td>\n",
       "      <td>...</td>\n",
       "      <td>...</td>\n",
       "      <td>...</td>\n",
       "      <td>...</td>\n",
       "      <td>...</td>\n",
       "      <td>...</td>\n",
       "      <td>...</td>\n",
       "      <td>...</td>\n",
       "      <td>...</td>\n",
       "      <td>...</td>\n",
       "      <td>...</td>\n",
       "      <td>...</td>\n",
       "      <td>...</td>\n",
       "      <td>...</td>\n",
       "    </tr>\n",
       "    <tr>\n",
       "      <th>564</th>\n",
       "      <td>21.56</td>\n",
       "      <td>22.39</td>\n",
       "      <td>142.00</td>\n",
       "      <td>1479.0</td>\n",
       "      <td>0.11100</td>\n",
       "      <td>0.11590</td>\n",
       "      <td>0.24390</td>\n",
       "      <td>0.13890</td>\n",
       "      <td>0.1726</td>\n",
       "      <td>0.05623</td>\n",
       "      <td>...</td>\n",
       "      <td>25.450</td>\n",
       "      <td>26.40</td>\n",
       "      <td>166.10</td>\n",
       "      <td>2027.0</td>\n",
       "      <td>0.14100</td>\n",
       "      <td>0.21130</td>\n",
       "      <td>0.4107</td>\n",
       "      <td>0.2216</td>\n",
       "      <td>0.2060</td>\n",
       "      <td>0.07115</td>\n",
       "    </tr>\n",
       "    <tr>\n",
       "      <th>565</th>\n",
       "      <td>20.13</td>\n",
       "      <td>28.25</td>\n",
       "      <td>131.20</td>\n",
       "      <td>1261.0</td>\n",
       "      <td>0.09780</td>\n",
       "      <td>0.10340</td>\n",
       "      <td>0.14400</td>\n",
       "      <td>0.09791</td>\n",
       "      <td>0.1752</td>\n",
       "      <td>0.05533</td>\n",
       "      <td>...</td>\n",
       "      <td>23.690</td>\n",
       "      <td>38.25</td>\n",
       "      <td>155.00</td>\n",
       "      <td>1731.0</td>\n",
       "      <td>0.11660</td>\n",
       "      <td>0.19220</td>\n",
       "      <td>0.3215</td>\n",
       "      <td>0.1628</td>\n",
       "      <td>0.2572</td>\n",
       "      <td>0.06637</td>\n",
       "    </tr>\n",
       "    <tr>\n",
       "      <th>566</th>\n",
       "      <td>16.60</td>\n",
       "      <td>28.08</td>\n",
       "      <td>108.30</td>\n",
       "      <td>858.1</td>\n",
       "      <td>0.08455</td>\n",
       "      <td>0.10230</td>\n",
       "      <td>0.09251</td>\n",
       "      <td>0.05302</td>\n",
       "      <td>0.1590</td>\n",
       "      <td>0.05648</td>\n",
       "      <td>...</td>\n",
       "      <td>18.980</td>\n",
       "      <td>34.12</td>\n",
       "      <td>126.70</td>\n",
       "      <td>1124.0</td>\n",
       "      <td>0.11390</td>\n",
       "      <td>0.30940</td>\n",
       "      <td>0.3403</td>\n",
       "      <td>0.1418</td>\n",
       "      <td>0.2218</td>\n",
       "      <td>0.07820</td>\n",
       "    </tr>\n",
       "    <tr>\n",
       "      <th>567</th>\n",
       "      <td>20.60</td>\n",
       "      <td>29.33</td>\n",
       "      <td>140.10</td>\n",
       "      <td>1265.0</td>\n",
       "      <td>0.11780</td>\n",
       "      <td>0.27700</td>\n",
       "      <td>0.35140</td>\n",
       "      <td>0.15200</td>\n",
       "      <td>0.2397</td>\n",
       "      <td>0.07016</td>\n",
       "      <td>...</td>\n",
       "      <td>25.740</td>\n",
       "      <td>39.42</td>\n",
       "      <td>184.60</td>\n",
       "      <td>1821.0</td>\n",
       "      <td>0.16500</td>\n",
       "      <td>0.86810</td>\n",
       "      <td>0.9387</td>\n",
       "      <td>0.2650</td>\n",
       "      <td>0.4087</td>\n",
       "      <td>0.12400</td>\n",
       "    </tr>\n",
       "    <tr>\n",
       "      <th>568</th>\n",
       "      <td>7.76</td>\n",
       "      <td>24.54</td>\n",
       "      <td>47.92</td>\n",
       "      <td>181.0</td>\n",
       "      <td>0.05263</td>\n",
       "      <td>0.04362</td>\n",
       "      <td>0.00000</td>\n",
       "      <td>0.00000</td>\n",
       "      <td>0.1587</td>\n",
       "      <td>0.05884</td>\n",
       "      <td>...</td>\n",
       "      <td>9.456</td>\n",
       "      <td>30.37</td>\n",
       "      <td>59.16</td>\n",
       "      <td>268.6</td>\n",
       "      <td>0.08996</td>\n",
       "      <td>0.06444</td>\n",
       "      <td>0.0000</td>\n",
       "      <td>0.0000</td>\n",
       "      <td>0.2871</td>\n",
       "      <td>0.07039</td>\n",
       "    </tr>\n",
       "  </tbody>\n",
       "</table>\n",
       "<p>569 rows × 30 columns</p>\n",
       "</div>"
      ],
      "text/plain": [
       "     mean radius  mean texture  mean perimeter  mean area  mean smoothness  \\\n",
       "0          17.99         10.38          122.80     1001.0          0.11840   \n",
       "1          20.57         17.77          132.90     1326.0          0.08474   \n",
       "2          19.69         21.25          130.00     1203.0          0.10960   \n",
       "3          11.42         20.38           77.58      386.1          0.14250   \n",
       "4          20.29         14.34          135.10     1297.0          0.10030   \n",
       "..           ...           ...             ...        ...              ...   \n",
       "564        21.56         22.39          142.00     1479.0          0.11100   \n",
       "565        20.13         28.25          131.20     1261.0          0.09780   \n",
       "566        16.60         28.08          108.30      858.1          0.08455   \n",
       "567        20.60         29.33          140.10     1265.0          0.11780   \n",
       "568         7.76         24.54           47.92      181.0          0.05263   \n",
       "\n",
       "     mean compactness  mean concavity  mean concave points  mean symmetry  \\\n",
       "0             0.27760         0.30010              0.14710         0.2419   \n",
       "1             0.07864         0.08690              0.07017         0.1812   \n",
       "2             0.15990         0.19740              0.12790         0.2069   \n",
       "3             0.28390         0.24140              0.10520         0.2597   \n",
       "4             0.13280         0.19800              0.10430         0.1809   \n",
       "..                ...             ...                  ...            ...   \n",
       "564           0.11590         0.24390              0.13890         0.1726   \n",
       "565           0.10340         0.14400              0.09791         0.1752   \n",
       "566           0.10230         0.09251              0.05302         0.1590   \n",
       "567           0.27700         0.35140              0.15200         0.2397   \n",
       "568           0.04362         0.00000              0.00000         0.1587   \n",
       "\n",
       "     mean fractal dimension  ...  worst radius  worst texture  \\\n",
       "0                   0.07871  ...        25.380          17.33   \n",
       "1                   0.05667  ...        24.990          23.41   \n",
       "2                   0.05999  ...        23.570          25.53   \n",
       "3                   0.09744  ...        14.910          26.50   \n",
       "4                   0.05883  ...        22.540          16.67   \n",
       "..                      ...  ...           ...            ...   \n",
       "564                 0.05623  ...        25.450          26.40   \n",
       "565                 0.05533  ...        23.690          38.25   \n",
       "566                 0.05648  ...        18.980          34.12   \n",
       "567                 0.07016  ...        25.740          39.42   \n",
       "568                 0.05884  ...         9.456          30.37   \n",
       "\n",
       "     worst perimeter  worst area  worst smoothness  worst compactness  \\\n",
       "0             184.60      2019.0           0.16220            0.66560   \n",
       "1             158.80      1956.0           0.12380            0.18660   \n",
       "2             152.50      1709.0           0.14440            0.42450   \n",
       "3              98.87       567.7           0.20980            0.86630   \n",
       "4             152.20      1575.0           0.13740            0.20500   \n",
       "..               ...         ...               ...                ...   \n",
       "564           166.10      2027.0           0.14100            0.21130   \n",
       "565           155.00      1731.0           0.11660            0.19220   \n",
       "566           126.70      1124.0           0.11390            0.30940   \n",
       "567           184.60      1821.0           0.16500            0.86810   \n",
       "568            59.16       268.6           0.08996            0.06444   \n",
       "\n",
       "     worst concavity  worst concave points  worst symmetry  \\\n",
       "0             0.7119                0.2654          0.4601   \n",
       "1             0.2416                0.1860          0.2750   \n",
       "2             0.4504                0.2430          0.3613   \n",
       "3             0.6869                0.2575          0.6638   \n",
       "4             0.4000                0.1625          0.2364   \n",
       "..               ...                   ...             ...   \n",
       "564           0.4107                0.2216          0.2060   \n",
       "565           0.3215                0.1628          0.2572   \n",
       "566           0.3403                0.1418          0.2218   \n",
       "567           0.9387                0.2650          0.4087   \n",
       "568           0.0000                0.0000          0.2871   \n",
       "\n",
       "     worst fractal dimension  \n",
       "0                    0.11890  \n",
       "1                    0.08902  \n",
       "2                    0.08758  \n",
       "3                    0.17300  \n",
       "4                    0.07678  \n",
       "..                       ...  \n",
       "564                  0.07115  \n",
       "565                  0.06637  \n",
       "566                  0.07820  \n",
       "567                  0.12400  \n",
       "568                  0.07039  \n",
       "\n",
       "[569 rows x 30 columns]"
      ]
     },
     "execution_count": 79,
     "metadata": {},
     "output_type": "execute_result"
    }
   ],
   "source": [
    "X = pd.DataFrame(data['data'], columns=data['feature_names'])\n",
    "y = pd.Series(data['target'])\n",
    "\n",
    "X"
   ]
  },
  {
   "cell_type": "code",
   "execution_count": 86,
   "id": "d8495ba1-de8e-49db-abac-37a6206bc868",
   "metadata": {},
   "outputs": [],
   "source": [
    "from sklearn.model_selection import train_test_split\n",
    "\n",
    "\n",
    "np.random.seed(5)\n",
    "features = np.random.randint(X.shape[1], size=2)\n",
    "\n",
    "\n",
    "X_train, X_test, y_train, y_test = train_test_split(X.iloc[:, features], y, test_size=10, random_state=4)"
   ]
  },
  {
   "cell_type": "code",
   "execution_count": 87,
   "id": "0c41c144-f3be-43e9-a0fd-fd760e80981d",
   "metadata": {},
   "outputs": [
    {
     "data": {
      "text/html": [
       "<style>#sk-container-id-6 {color: black;background-color: white;}#sk-container-id-6 pre{padding: 0;}#sk-container-id-6 div.sk-toggleable {background-color: white;}#sk-container-id-6 label.sk-toggleable__label {cursor: pointer;display: block;width: 100%;margin-bottom: 0;padding: 0.3em;box-sizing: border-box;text-align: center;}#sk-container-id-6 label.sk-toggleable__label-arrow:before {content: \"▸\";float: left;margin-right: 0.25em;color: #696969;}#sk-container-id-6 label.sk-toggleable__label-arrow:hover:before {color: black;}#sk-container-id-6 div.sk-estimator:hover label.sk-toggleable__label-arrow:before {color: black;}#sk-container-id-6 div.sk-toggleable__content {max-height: 0;max-width: 0;overflow: hidden;text-align: left;background-color: #f0f8ff;}#sk-container-id-6 div.sk-toggleable__content pre {margin: 0.2em;color: black;border-radius: 0.25em;background-color: #f0f8ff;}#sk-container-id-6 input.sk-toggleable__control:checked~div.sk-toggleable__content {max-height: 200px;max-width: 100%;overflow: auto;}#sk-container-id-6 input.sk-toggleable__control:checked~label.sk-toggleable__label-arrow:before {content: \"▾\";}#sk-container-id-6 div.sk-estimator input.sk-toggleable__control:checked~label.sk-toggleable__label {background-color: #d4ebff;}#sk-container-id-6 div.sk-label input.sk-toggleable__control:checked~label.sk-toggleable__label {background-color: #d4ebff;}#sk-container-id-6 input.sk-hidden--visually {border: 0;clip: rect(1px 1px 1px 1px);clip: rect(1px, 1px, 1px, 1px);height: 1px;margin: -1px;overflow: hidden;padding: 0;position: absolute;width: 1px;}#sk-container-id-6 div.sk-estimator {font-family: monospace;background-color: #f0f8ff;border: 1px dotted black;border-radius: 0.25em;box-sizing: border-box;margin-bottom: 0.5em;}#sk-container-id-6 div.sk-estimator:hover {background-color: #d4ebff;}#sk-container-id-6 div.sk-parallel-item::after {content: \"\";width: 100%;border-bottom: 1px solid gray;flex-grow: 1;}#sk-container-id-6 div.sk-label:hover label.sk-toggleable__label {background-color: #d4ebff;}#sk-container-id-6 div.sk-serial::before {content: \"\";position: absolute;border-left: 1px solid gray;box-sizing: border-box;top: 0;bottom: 0;left: 50%;z-index: 0;}#sk-container-id-6 div.sk-serial {display: flex;flex-direction: column;align-items: center;background-color: white;padding-right: 0.2em;padding-left: 0.2em;position: relative;}#sk-container-id-6 div.sk-item {position: relative;z-index: 1;}#sk-container-id-6 div.sk-parallel {display: flex;align-items: stretch;justify-content: center;background-color: white;position: relative;}#sk-container-id-6 div.sk-item::before, #sk-container-id-6 div.sk-parallel-item::before {content: \"\";position: absolute;border-left: 1px solid gray;box-sizing: border-box;top: 0;bottom: 0;left: 50%;z-index: -1;}#sk-container-id-6 div.sk-parallel-item {display: flex;flex-direction: column;z-index: 1;position: relative;background-color: white;}#sk-container-id-6 div.sk-parallel-item:first-child::after {align-self: flex-end;width: 50%;}#sk-container-id-6 div.sk-parallel-item:last-child::after {align-self: flex-start;width: 50%;}#sk-container-id-6 div.sk-parallel-item:only-child::after {width: 0;}#sk-container-id-6 div.sk-dashed-wrapped {border: 1px dashed gray;margin: 0 0.4em 0.5em 0.4em;box-sizing: border-box;padding-bottom: 0.4em;background-color: white;}#sk-container-id-6 div.sk-label label {font-family: monospace;font-weight: bold;display: inline-block;line-height: 1.2em;}#sk-container-id-6 div.sk-label-container {text-align: center;}#sk-container-id-6 div.sk-container {/* jupyter's `normalize.less` sets `[hidden] { display: none; }` but bootstrap.min.css set `[hidden] { display: none !important; }` so we also need the `!important` here to be able to override the default hidden behavior on the sphinx rendered scikit-learn.org. See: https://github.com/scikit-learn/scikit-learn/issues/21755 */display: inline-block !important;position: relative;}#sk-container-id-6 div.sk-text-repr-fallback {display: none;}</style><div id=\"sk-container-id-6\" class=\"sk-top-container\"><div class=\"sk-text-repr-fallback\"><pre>LogisticRegression()</pre><b>In a Jupyter environment, please rerun this cell to show the HTML representation or trust the notebook. <br />On GitHub, the HTML representation is unable to render, please try loading this page with nbviewer.org.</b></div><div class=\"sk-container\" hidden><div class=\"sk-item\"><div class=\"sk-estimator sk-toggleable\"><input class=\"sk-toggleable__control sk-hidden--visually\" id=\"sk-estimator-id-6\" type=\"checkbox\" checked><label for=\"sk-estimator-id-6\" class=\"sk-toggleable__label sk-toggleable__label-arrow\">LogisticRegression</label><div class=\"sk-toggleable__content\"><pre>LogisticRegression()</pre></div></div></div></div></div>"
      ],
      "text/plain": [
       "LogisticRegression()"
      ]
     },
     "execution_count": 87,
     "metadata": {},
     "output_type": "execute_result"
    }
   ],
   "source": [
    "model = LogisticRegression()\n",
    "\n",
    "model.fit(X_train, y_train)"
   ]
  },
  {
   "cell_type": "markdown",
   "id": "a9e36243-bcb7-48a4-9795-75c3b55fcb09",
   "metadata": {},
   "source": [
    "Наши модели машинного обучения на выходе могут давать метку класса, к которому принадлежит объект через метод predict."
   ]
  },
  {
   "cell_type": "code",
   "execution_count": 88,
   "id": "e2cf895e-2a1c-42aa-b614-f1391f9b9aac",
   "metadata": {},
   "outputs": [
    {
     "data": {
      "text/plain": [
       "array([1, 1, 0, 0, 0, 0, 1, 1, 1, 1])"
      ]
     },
     "execution_count": 88,
     "metadata": {},
     "output_type": "execute_result"
    }
   ],
   "source": [
    "model.predict(X_test)"
   ]
  },
  {
   "cell_type": "markdown",
   "id": "492b5fd4-35f6-451a-b924-24a1e78e456e",
   "metadata": {},
   "source": [
    "А так же вероятность принадлежности к каждому классу через метод predict_proba."
   ]
  },
  {
   "cell_type": "code",
   "execution_count": 89,
   "id": "1a911208-2e23-4d61-a9c7-ab15d6815aaa",
   "metadata": {},
   "outputs": [
    {
     "data": {
      "text/plain": [
       "array([[0.40638389, 0.59361611],\n",
       "       [0.0599578 , 0.9400422 ],\n",
       "       [0.99875446, 0.00124554],\n",
       "       [0.96718148, 0.03281852],\n",
       "       [0.8846447 , 0.1153553 ],\n",
       "       [0.92784443, 0.07215557],\n",
       "       [0.03562507, 0.96437493],\n",
       "       [0.02858754, 0.97141246],\n",
       "       [0.41018634, 0.58981366],\n",
       "       [0.00563143, 0.99436857]])"
      ]
     },
     "execution_count": 89,
     "metadata": {},
     "output_type": "execute_result"
    }
   ],
   "source": [
    "model.predict_proba(X_test)"
   ]
  },
  {
   "cell_type": "markdown",
   "id": "0d247d36-d43b-411b-81ee-81ec04f301ad",
   "metadata": {},
   "source": [
    "Так как классов только два, то и видим 2 столбика, 1 столбик - это вероятность того, что объект является нулевым классом, а 2 столбик - это вероятность того, что объект первый класс.   \n",
    "В сумме вероятности дают 1.   \n",
    "\n",
    "К примеру, первый объект вероятней всего будет 1 классом (85% объект может быть 1 классом, и 15% объект может быть 0 классом), а третий объект со стопроцентной уверенностью будет 0 классом (нулевая вероятность быть 1 классом, и единичная вероятность быть 0 классом)\n",
    "\n",
    "Оперируя вероятностями мы можем самостоятельно принимать решения выше или ниже какой отметки, объект становится нулевым классом или первым. По умолчанию такая отсечка равна 0.5."
   ]
  },
  {
   "cell_type": "markdown",
   "id": "f58beb7f-075d-43c6-af24-c7e01b59a801",
   "metadata": {},
   "source": [
    "### Визуализириуем\n",
    "\n",
    "Визуализируем вероятности быть 1 классом наших 9 объектов, по оси абсцисс порядковый номер объектов, а по оси ординат вероятность быть первым классом и раскрасим их в зависимости от истинной метки класса.   \n",
    "Оранжевые - объекты 0 класса, синие - объекты 1 класса.\n",
    "\n",
    "При этом есть низкой вероятностью обладают объекты как первого класса, так и нулевого."
   ]
  },
  {
   "cell_type": "code",
   "execution_count": 36,
   "id": "f367543a-eb03-4f3e-b76d-1c0cf0d2070f",
   "metadata": {},
   "outputs": [
    {
     "data": {
      "text/plain": [
       "<matplotlib.legend.Legend at 0x12db8315dc0>"
      ]
     },
     "execution_count": 36,
     "metadata": {},
     "output_type": "execute_result"
    },
    {
     "data": {
      "image/png": "[encoded data removed]",
      "text/plain": [
       "<Figure size 640x480 with 1 Axes>"
      ]
     },
     "metadata": {},
     "output_type": "display_data"
    }
   ],
   "source": [
    "pred_proba = model.predict_proba(X_test)\n",
    "\n",
    "class_1 = pred_proba[:, 1][y_test == 1]\n",
    "class_0 = pred_proba[:, 1][y_test == 0]\n",
    "\n",
    "plt.scatter(np.arange(len(class_1)), class_1, label='class_1')\n",
    "plt.scatter(np.arange(len(class_1), len(class_1)+len(class_0)), class_0, label='class_0')\n",
    "plt.title('Вероятность быть 1 классом')\n",
    "plt.legend()"
   ]
  },
  {
   "cell_type": "code",
   "execution_count": 37,
   "id": "cdcc5f04-bec2-406e-8a61-0f9deab23252",
   "metadata": {},
   "outputs": [
    {
     "data": {
      "image/png": "[encoded data removed]",
      "text/plain": [
       "<Figure size 640x480 with 1 Axes>"
      ]
     },
     "metadata": {},
     "output_type": "display_data"
    }
   ],
   "source": [
    "# добавим отсетчку 0.5\n",
    "threshold = 0.5\n",
    "class_1 = pred_proba[:, 1][y_test == 1]\n",
    "class_0 = pred_proba[:, 1][y_test == 0]\n",
    "\n",
    "plt.scatter(np.arange(len(class_1)), class_1, label='class_1')\n",
    "plt.scatter(np.arange(len(class_1), len(class_1)+len(class_0)), class_0, label='class_0')\n",
    "plt.plot([-0.2, len(pred_proba[:, 1])], [threshold, threshold], c='b')\n",
    "plt.title('Вероятность быть 1 классом')\n",
    "plt.legend();"
   ]
  },
  {
   "cell_type": "code",
   "execution_count": 38,
   "id": "3c5bdaad-2c36-439b-a197-958765bd7a16",
   "metadata": {},
   "outputs": [
    {
     "data": {
      "image/png": "[encoded data removed]",
      "text/plain": [
       "<Figure size 640x480 with 2 Axes>"
      ]
     },
     "metadata": {},
     "output_type": "display_data"
    }
   ],
   "source": [
    "from sklearn.metrics import confusion_matrix\n",
    "\n",
    "\n",
    "pred = np.where(pred_proba[:, 1] >= threshold, 1, 0)\n",
    "\n",
    "cm = confusion_matrix(y_test, pred)\n",
    "f = sns.heatmap(cm, annot=True)\n",
    "plt.ylabel('Groud truth')\n",
    "plt.xlabel('Prediction');"
   ]
  },
  {
   "cell_type": "markdown",
   "id": "36215385-bad9-4404-bd05-edb9ff26aec0",
   "metadata": {},
   "source": [
    "И теперь стоит поговорить про расчет метрики ROC-AUC. Чтобы её получить нужно оперировать двумя метриками, которые строятся на матрице ошибок - это TPR и FPR.\n",
    "\n",
    "\n",
    "**TPR (True Positive Rate, доля верных срабатываний)** - отношение числа верных срабатываний к размеру положительного класса:\n",
    "\n",
    "$$ TPR = \\frac{TP}{TP+FN} $$\n",
    "\n",
    "то есть TPR по сути представляет из себя полноту - сколько раз модель правильно нашла целевой класс среди тех людей, которые действительно являются им.\n",
    "\n",
    "Данная метрика в идеале должна стремиться к единице.\n",
    "\n",
    "\n",
    "**FPR (False Positive Rate, доля ложных срабатываний)** - отношение числа ложных срабатываний к общему размеру отрицательного класса:\n",
    "$$FPR = \\frac{FP}{FP+TN}$$\n",
    "\n",
    "а здесь имеем некий аналог полноты только для ошибок - сколько раз модель ошибочно нашла целевой класс среди всех людей нецелевого класса.\n",
    "\n",
    "Данная метрика в идеале должна стремиться к нулю.\n"
   ]
  },
  {
   "cell_type": "code",
   "execution_count": 39,
   "id": "4d2537dc-290e-4104-abe7-b835b6199abd",
   "metadata": {},
   "outputs": [
    {
     "name": "stdout",
     "output_type": "stream",
     "text": [
      "TPR 0.6666666666666666\n",
      "FPR 0.3333333333333333\n"
     ]
    }
   ],
   "source": [
    "TN = cm[0, 0]\n",
    "FP = cm[0, 1]\n",
    "FN = cm[1, 0]\n",
    "TP = cm[1, 1]\n",
    "\n",
    "print('TPR', TP / (TP + FN))\n",
    "print('FPR', FP / (FP + TN))"
   ]
  },
  {
   "cell_type": "code",
   "execution_count": 40,
   "id": "324d114b-5a6e-484f-a79d-c08e460fd91e",
   "metadata": {},
   "outputs": [
    {
     "data": {
      "image/png": "[encoded data removed]",
      "text/plain": [
       "<Figure size 640x480 with 1 Axes>"
      ]
     },
     "metadata": {},
     "output_type": "display_data"
    }
   ],
   "source": [
    "# поднинем пороговое значение вероятности\n",
    "threshold = 0.6\n",
    "\n",
    "class_1 = pred_proba[:, 1][y_test == 1]\n",
    "class_0 = pred_proba[:, 1][y_test == 0]\n",
    "\n",
    "pred = np.where(pred_proba[:, 1] >= threshold, 1, 0)\n",
    "\n",
    "plt.scatter(np.arange(len(class_1)), class_1, label='class_1')\n",
    "plt.scatter(np.arange(len(class_1), len(class_1)+len(class_0)), class_0, label='class_0')\n",
    "plt.plot([-0.2, len(pred_proba[:, 1])], [threshold, threshold], c='b')\n",
    "plt.title('Вероятность быть 1 классом')\n",
    "plt.legend();"
   ]
  },
  {
   "cell_type": "code",
   "execution_count": 41,
   "id": "d8dab707-40cf-4dfb-a046-fe71405e44f3",
   "metadata": {},
   "outputs": [
    {
     "name": "stdout",
     "output_type": "stream",
     "text": [
      "TPR 0.5\n",
      "FPR 0.0\n"
     ]
    },
    {
     "data": {
      "image/png": "[encoded data removed]",
      "text/plain": [
       "<Figure size 640x480 with 2 Axes>"
      ]
     },
     "metadata": {},
     "output_type": "display_data"
    }
   ],
   "source": [
    "cm = confusion_matrix(y_test, pred)\n",
    "TN, FP, FN, TP = cm[0, 0], cm[0, 1], cm[1, 0], cm[1, 1]\n",
    "print('TPR', TP / (TP + FN))\n",
    "print('FPR', FP / (FP + TN))\n",
    "\n",
    "f = sns.heatmap(cm, annot=True)\n",
    "plt.ylabel('Groud truth')\n",
    "plt.xlabel('Prediction');"
   ]
  },
  {
   "cell_type": "code",
   "execution_count": 42,
   "id": "1f274ef9-a425-48a0-bf5f-5f99b64b14e1",
   "metadata": {},
   "outputs": [
    {
     "data": {
      "image/png": "[encoded data removed]",
      "text/plain": [
       "<Figure size 640x480 with 1 Axes>"
      ]
     },
     "metadata": {},
     "output_type": "display_data"
    }
   ],
   "source": [
    "threshold = 0\n",
    "\n",
    "class_1 = pred_proba[:, 1][y_test == 1]\n",
    "class_0 = pred_proba[:, 1][y_test == 0]\n",
    "\n",
    "pred = np.where(pred_proba[:, 1] >= threshold, 1, 0)\n",
    "\n",
    "plt.scatter(np.arange(len(class_1)), class_1, label='class_1')\n",
    "plt.scatter(np.arange(len(class_1), len(class_1)+len(class_0)), class_0, label='class_0')\n",
    "plt.plot([-0.2, len(pred_proba[:, 1])], [threshold, threshold], c='b')\n",
    "plt.title('Вероятность быть 1 классом')\n",
    "plt.legend();"
   ]
  },
  {
   "cell_type": "code",
   "execution_count": 43,
   "id": "dd4ef1e3-beb0-43c8-9ac3-3042a17277ce",
   "metadata": {},
   "outputs": [
    {
     "name": "stdout",
     "output_type": "stream",
     "text": [
      "TPR 1.0\n",
      "FPR 1.0\n"
     ]
    },
    {
     "data": {
      "image/png": "[encoded data removed]",
      "text/plain": [
       "<Figure size 640x480 with 2 Axes>"
      ]
     },
     "metadata": {},
     "output_type": "display_data"
    }
   ],
   "source": [
    "cm = confusion_matrix(y_test, pred)\n",
    "TN, FP, FN, TP = cm[0, 0], cm[0, 1], cm[1, 0], cm[1, 1]\n",
    "print('TPR', TP / (TP + FN))\n",
    "print('FPR', FP / (FP + TN))\n",
    "\n",
    "f = sns.heatmap(cm, annot=True)\n",
    "plt.ylabel('Groud truth')\n",
    "plt.xlabel('Prediction');"
   ]
  },
  {
   "cell_type": "markdown",
   "id": "e76122d7-f15c-4b12-9779-d1f9ca2eb253",
   "metadata": {},
   "source": [
    "## ROC-кривая (ROC-curve)"
   ]
  },
  {
   "cell_type": "markdown",
   "id": "1187930c-c5c4-4466-b0dd-94e4dbe8ae12",
   "metadata": {},
   "source": [
    "На этих разных отсечках и строится метрика ROC-кривая и ROC-AUC. Из себя она представляет кривую, состоящую из точек с разными отсечками.  \n",
    "Ниже пример ROC-кривой на обучающей выборке. Для неё выбираются разные отсечки и считаются метрики TPR и FPR, далее откладываются точки. Прямая начинается с точки (0, 0), где нулевой FPR и где нулевой TPR и заканчивается в точке (1, 1), где единичный FPR и такой же TPR.\n",
    "\n",
    "В идеале, когда ROC-кривая проходит через точку (0, 1), где идеальный FPR нулевой - нет ни одной ошибки FP, и такой же идеальный TPR (recall), говорящий что нет ни одной ошибки FN, но на реальных данных такого не встретишь, только на синтетических искусственных выборках."
   ]
  },
  {
   "cell_type": "markdown",
   "id": "24b520e7-6680-419c-9a41-e7754dac4eaa",
   "metadata": {},
   "source": [
    "<img src='https://upload.wikimedia.org/wikipedia/commons/thumb/1/13/Roc_curve.svg/1200px-Roc_curve.svg.png' width=450>\n"
   ]
  },
  {
   "cell_type": "code",
   "execution_count": 90,
   "id": "0dd1047f",
   "metadata": {},
   "outputs": [
    {
     "data": {
      "text/plain": [
       "array([[0.40637647, 0.59362353],\n",
       "       [0.05992603, 0.94007397],\n",
       "       [0.99875639, 0.00124361],\n",
       "       [0.96720731, 0.03279269],\n",
       "       [0.88469689, 0.11530311],\n",
       "       [0.92788646, 0.07211354],\n",
       "       [0.03560149, 0.96439851],\n",
       "       [0.02856705, 0.97143295],\n",
       "       [0.41017967, 0.58982033]])"
      ]
     },
     "execution_count": 90,
     "metadata": {},
     "output_type": "execute_result"
    }
   ],
   "source": [
    "pred_proba"
   ]
  },
  {
   "cell_type": "code",
   "execution_count": 44,
   "id": "5449c3b3-49f5-49da-81d0-9dce974ec5b3",
   "metadata": {},
   "outputs": [
    {
     "data": {
      "text/plain": [
       "0.888888888888889"
      ]
     },
     "execution_count": 44,
     "metadata": {},
     "output_type": "execute_result"
    }
   ],
   "source": [
    "from sklearn.metrics import roc_auc_score\n",
    "\n",
    "roc_auc_score(y_test, pred_proba[:, 1])"
   ]
  },
  {
   "cell_type": "code",
   "execution_count": 45,
   "id": "eee4d94a-8415-4db2-831e-d1fb2b8a0532",
   "metadata": {},
   "outputs": [
    {
     "data": {
      "text/plain": [
       "(array([0.        , 0.        , 0.        , 0.33333333, 0.33333333,\n",
       "        1.        ]),\n",
       " array([0.        , 0.16666667, 0.66666667, 0.66666667, 1.        ,\n",
       "        1.        ]),\n",
       " array([1.97143295e+00, 9.71432950e-01, 5.93623531e-01, 5.89820327e-01,\n",
       "        7.21135408e-02, 1.24360694e-03]))"
      ]
     },
     "execution_count": 45,
     "metadata": {},
     "output_type": "execute_result"
    }
   ],
   "source": [
    "from sklearn.metrics import roc_curve\n",
    "\n",
    "fpr, tpr, thresholds = roc_curve(y_test, pred_proba[:, 1])\n",
    "fpr, tpr, thresholds"
   ]
  },
  {
   "cell_type": "code",
   "execution_count": 46,
   "id": "f72b0542-b43e-493f-8922-4ab5403db125",
   "metadata": {},
   "outputs": [
    {
     "data": {
      "image/png": "[encoded data removed]",
      "text/plain": [
       "<Figure size 640x480 with 1 Axes>"
      ]
     },
     "metadata": {},
     "output_type": "display_data"
    }
   ],
   "source": [
    "plt.plot(fpr, tpr)\n",
    "plt.title(\"ROC curve\")\n",
    "plt.xlabel(\"FPR\")\n",
    "plt.ylabel(\"TPR\")\n",
    "plt.show()"
   ]
  },
  {
   "cell_type": "code",
   "execution_count": 47,
   "id": "0c60ff87-e86e-4435-88b0-07652490c381",
   "metadata": {},
   "outputs": [
    {
     "data": {
      "image/png": "[encoded data removed]",
      "text/plain": [
       "<Figure size 640x480 with 1 Axes>"
      ]
     },
     "metadata": {},
     "output_type": "display_data"
    }
   ],
   "source": [
    "plt.plot(fpr, tpr)\n",
    "plt.fill_between(x=fpr, y1=0, y2=tpr, alpha=0.3)\n",
    "plt.text(0.4, 0.4, f\"ROC-AUC: {roc_auc_score(y_test, pred_proba[:, 1]):.2f}\", size=20)\n",
    "plt.title(\"ROC curve\")\n",
    "plt.xlabel(\"FPR\")\n",
    "plt.ylabel(\"TPR\")\n",
    "plt.show()"
   ]
  },
  {
   "cell_type": "markdown",
   "id": "885e10d9-1813-447b-ac1f-e395586160b1",
   "metadata": {},
   "source": [
    "# Практика"
   ]
  },
  {
   "cell_type": "code",
   "execution_count": 1,
   "id": "38799b3e-bcaa-499a-aef4-4a89cc51ceae",
   "metadata": {
    "tags": []
   },
   "outputs": [],
   "source": [
    "import pandas as pd\n",
    "import numpy as np\n",
    "\n",
    "import seaborn as sns\n",
    "import matplotlib.pyplot as plt"
   ]
  },
  {
   "cell_type": "code",
   "execution_count": 2,
   "id": "befb6687-44cc-44dd-8da8-3dc5c8c9efc0",
   "metadata": {
    "tags": []
   },
   "outputs": [
    {
     "data": {
      "text/html": [
       "<div>\n",
       "<style scoped>\n",
       "    .dataframe tbody tr th:only-of-type {\n",
       "        vertical-align: middle;\n",
       "    }\n",
       "\n",
       "    .dataframe tbody tr th {\n",
       "        vertical-align: top;\n",
       "    }\n",
       "\n",
       "    .dataframe thead th {\n",
       "        text-align: right;\n",
       "    }\n",
       "</style>\n",
       "<table border=\"1\" class=\"dataframe\">\n",
       "  <thead>\n",
       "    <tr style=\"text-align: right;\">\n",
       "      <th></th>\n",
       "      <th>sepal_length</th>\n",
       "      <th>sepal_width</th>\n",
       "      <th>petal_length</th>\n",
       "      <th>petal_width</th>\n",
       "      <th>species</th>\n",
       "    </tr>\n",
       "  </thead>\n",
       "  <tbody>\n",
       "    <tr>\n",
       "      <th>0</th>\n",
       "      <td>5.1</td>\n",
       "      <td>3.5</td>\n",
       "      <td>1.4</td>\n",
       "      <td>0.2</td>\n",
       "      <td>setosa</td>\n",
       "    </tr>\n",
       "    <tr>\n",
       "      <th>1</th>\n",
       "      <td>4.9</td>\n",
       "      <td>3.0</td>\n",
       "      <td>1.4</td>\n",
       "      <td>0.2</td>\n",
       "      <td>setosa</td>\n",
       "    </tr>\n",
       "    <tr>\n",
       "      <th>2</th>\n",
       "      <td>4.7</td>\n",
       "      <td>3.2</td>\n",
       "      <td>1.3</td>\n",
       "      <td>0.2</td>\n",
       "      <td>setosa</td>\n",
       "    </tr>\n",
       "    <tr>\n",
       "      <th>3</th>\n",
       "      <td>4.6</td>\n",
       "      <td>3.1</td>\n",
       "      <td>1.5</td>\n",
       "      <td>0.2</td>\n",
       "      <td>setosa</td>\n",
       "    </tr>\n",
       "    <tr>\n",
       "      <th>4</th>\n",
       "      <td>5.0</td>\n",
       "      <td>3.6</td>\n",
       "      <td>1.4</td>\n",
       "      <td>0.2</td>\n",
       "      <td>setosa</td>\n",
       "    </tr>\n",
       "    <tr>\n",
       "      <th>...</th>\n",
       "      <td>...</td>\n",
       "      <td>...</td>\n",
       "      <td>...</td>\n",
       "      <td>...</td>\n",
       "      <td>...</td>\n",
       "    </tr>\n",
       "    <tr>\n",
       "      <th>145</th>\n",
       "      <td>6.7</td>\n",
       "      <td>3.0</td>\n",
       "      <td>5.2</td>\n",
       "      <td>2.3</td>\n",
       "      <td>virginica</td>\n",
       "    </tr>\n",
       "    <tr>\n",
       "      <th>146</th>\n",
       "      <td>6.3</td>\n",
       "      <td>2.5</td>\n",
       "      <td>5.0</td>\n",
       "      <td>1.9</td>\n",
       "      <td>virginica</td>\n",
       "    </tr>\n",
       "    <tr>\n",
       "      <th>147</th>\n",
       "      <td>6.5</td>\n",
       "      <td>3.0</td>\n",
       "      <td>5.2</td>\n",
       "      <td>2.0</td>\n",
       "      <td>virginica</td>\n",
       "    </tr>\n",
       "    <tr>\n",
       "      <th>148</th>\n",
       "      <td>6.2</td>\n",
       "      <td>3.4</td>\n",
       "      <td>5.4</td>\n",
       "      <td>2.3</td>\n",
       "      <td>virginica</td>\n",
       "    </tr>\n",
       "    <tr>\n",
       "      <th>149</th>\n",
       "      <td>5.9</td>\n",
       "      <td>3.0</td>\n",
       "      <td>5.1</td>\n",
       "      <td>1.8</td>\n",
       "      <td>virginica</td>\n",
       "    </tr>\n",
       "  </tbody>\n",
       "</table>\n",
       "<p>150 rows × 5 columns</p>\n",
       "</div>"
      ],
      "text/plain": [
       "     sepal_length  sepal_width  petal_length  petal_width    species\n",
       "0             5.1          3.5           1.4          0.2     setosa\n",
       "1             4.9          3.0           1.4          0.2     setosa\n",
       "2             4.7          3.2           1.3          0.2     setosa\n",
       "3             4.6          3.1           1.5          0.2     setosa\n",
       "4             5.0          3.6           1.4          0.2     setosa\n",
       "..            ...          ...           ...          ...        ...\n",
       "145           6.7          3.0           5.2          2.3  virginica\n",
       "146           6.3          2.5           5.0          1.9  virginica\n",
       "147           6.5          3.0           5.2          2.0  virginica\n",
       "148           6.2          3.4           5.4          2.3  virginica\n",
       "149           5.9          3.0           5.1          1.8  virginica\n",
       "\n",
       "[150 rows x 5 columns]"
      ]
     },
     "execution_count": 2,
     "metadata": {},
     "output_type": "execute_result"
    }
   ],
   "source": [
    "df = sns.load_dataset(\"iris\")\n",
    "df"
   ]
  },
  {
   "cell_type": "code",
   "execution_count": 7,
   "id": "91f9a39e-3776-459c-ae3e-4bd8e56efedb",
   "metadata": {
    "tags": []
   },
   "outputs": [
    {
     "data": {
      "image/png": "[encoded data removed]",
      "text/plain": [
       "<Figure size 1000x400 with 2 Axes>"
      ]
     },
     "metadata": {},
     "output_type": "display_data"
    }
   ],
   "source": [
    "fig, ax = plt.subplots(1, 2, figsize=(10, 4))\n",
    "\n",
    "sns.scatterplot(data=df, x='sepal_length', y='sepal_width', hue='species', ax=ax[0])\n",
    "sns.scatterplot(data=df, x='petal_length', y='petal_width', hue='species', ax=ax[1])\n",
    "\n",
    "plt.show()"
   ]
  },
  {
   "cell_type": "code",
   "execution_count": 12,
   "id": "4e627ef6-014d-4f37-9814-118503671b76",
   "metadata": {
    "tags": []
   },
   "outputs": [
    {
     "data": {
      "text/html": [
       "<div>\n",
       "<style scoped>\n",
       "    .dataframe tbody tr th:only-of-type {\n",
       "        vertical-align: middle;\n",
       "    }\n",
       "\n",
       "    .dataframe tbody tr th {\n",
       "        vertical-align: top;\n",
       "    }\n",
       "\n",
       "    .dataframe thead th {\n",
       "        text-align: right;\n",
       "    }\n",
       "</style>\n",
       "<table border=\"1\" class=\"dataframe\">\n",
       "  <thead>\n",
       "    <tr style=\"text-align: right;\">\n",
       "      <th></th>\n",
       "      <th>species</th>\n",
       "      <th>variable</th>\n",
       "      <th>value</th>\n",
       "    </tr>\n",
       "  </thead>\n",
       "  <tbody>\n",
       "    <tr>\n",
       "      <th>0</th>\n",
       "      <td>setosa</td>\n",
       "      <td>sepal_length</td>\n",
       "      <td>5.1</td>\n",
       "    </tr>\n",
       "    <tr>\n",
       "      <th>1</th>\n",
       "      <td>setosa</td>\n",
       "      <td>sepal_length</td>\n",
       "      <td>4.9</td>\n",
       "    </tr>\n",
       "    <tr>\n",
       "      <th>2</th>\n",
       "      <td>setosa</td>\n",
       "      <td>sepal_length</td>\n",
       "      <td>4.7</td>\n",
       "    </tr>\n",
       "    <tr>\n",
       "      <th>3</th>\n",
       "      <td>setosa</td>\n",
       "      <td>sepal_length</td>\n",
       "      <td>4.6</td>\n",
       "    </tr>\n",
       "    <tr>\n",
       "      <th>4</th>\n",
       "      <td>setosa</td>\n",
       "      <td>sepal_length</td>\n",
       "      <td>5.0</td>\n",
       "    </tr>\n",
       "    <tr>\n",
       "      <th>...</th>\n",
       "      <td>...</td>\n",
       "      <td>...</td>\n",
       "      <td>...</td>\n",
       "    </tr>\n",
       "    <tr>\n",
       "      <th>145</th>\n",
       "      <td>virginica</td>\n",
       "      <td>petal_width</td>\n",
       "      <td>2.3</td>\n",
       "    </tr>\n",
       "    <tr>\n",
       "      <th>146</th>\n",
       "      <td>virginica</td>\n",
       "      <td>petal_width</td>\n",
       "      <td>1.9</td>\n",
       "    </tr>\n",
       "    <tr>\n",
       "      <th>147</th>\n",
       "      <td>virginica</td>\n",
       "      <td>petal_width</td>\n",
       "      <td>2.0</td>\n",
       "    </tr>\n",
       "    <tr>\n",
       "      <th>148</th>\n",
       "      <td>virginica</td>\n",
       "      <td>petal_width</td>\n",
       "      <td>2.3</td>\n",
       "    </tr>\n",
       "    <tr>\n",
       "      <th>149</th>\n",
       "      <td>virginica</td>\n",
       "      <td>petal_width</td>\n",
       "      <td>1.8</td>\n",
       "    </tr>\n",
       "  </tbody>\n",
       "</table>\n",
       "<p>600 rows × 3 columns</p>\n",
       "</div>"
      ],
      "text/plain": [
       "       species      variable  value\n",
       "0       setosa  sepal_length    5.1\n",
       "1       setosa  sepal_length    4.9\n",
       "2       setosa  sepal_length    4.7\n",
       "3       setosa  sepal_length    4.6\n",
       "4       setosa  sepal_length    5.0\n",
       "..         ...           ...    ...\n",
       "145  virginica   petal_width    2.3\n",
       "146  virginica   petal_width    1.9\n",
       "147  virginica   petal_width    2.0\n",
       "148  virginica   petal_width    2.3\n",
       "149  virginica   petal_width    1.8\n",
       "\n",
       "[600 rows x 3 columns]"
      ]
     },
     "execution_count": 12,
     "metadata": {},
     "output_type": "execute_result"
    }
   ],
   "source": [
    "melted = df.melt(value_vars=['sepal_length', 'sepal_width', 'petal_length', 'petal_width'], id_vars='species', ignore_index=False)\n",
    "melted"
   ]
  },
  {
   "cell_type": "code",
   "execution_count": 13,
   "id": "49af25b5-32f0-484f-a287-e36680b31e9a",
   "metadata": {
    "tags": []
   },
   "outputs": [
    {
     "data": {
      "text/html": [
       "<div>\n",
       "<style scoped>\n",
       "    .dataframe tbody tr th:only-of-type {\n",
       "        vertical-align: middle;\n",
       "    }\n",
       "\n",
       "    .dataframe tbody tr th {\n",
       "        vertical-align: top;\n",
       "    }\n",
       "\n",
       "    .dataframe thead th {\n",
       "        text-align: right;\n",
       "    }\n",
       "</style>\n",
       "<table border=\"1\" class=\"dataframe\">\n",
       "  <thead>\n",
       "    <tr style=\"text-align: right;\">\n",
       "      <th></th>\n",
       "      <th>species</th>\n",
       "      <th>variable</th>\n",
       "      <th>value</th>\n",
       "    </tr>\n",
       "  </thead>\n",
       "  <tbody>\n",
       "    <tr>\n",
       "      <th>0</th>\n",
       "      <td>setosa</td>\n",
       "      <td>sepal_length</td>\n",
       "      <td>5.1</td>\n",
       "    </tr>\n",
       "    <tr>\n",
       "      <th>0</th>\n",
       "      <td>setosa</td>\n",
       "      <td>sepal_width</td>\n",
       "      <td>3.5</td>\n",
       "    </tr>\n",
       "    <tr>\n",
       "      <th>0</th>\n",
       "      <td>setosa</td>\n",
       "      <td>petal_length</td>\n",
       "      <td>1.4</td>\n",
       "    </tr>\n",
       "    <tr>\n",
       "      <th>0</th>\n",
       "      <td>setosa</td>\n",
       "      <td>petal_width</td>\n",
       "      <td>0.2</td>\n",
       "    </tr>\n",
       "  </tbody>\n",
       "</table>\n",
       "</div>"
      ],
      "text/plain": [
       "  species      variable  value\n",
       "0  setosa  sepal_length    5.1\n",
       "0  setosa   sepal_width    3.5\n",
       "0  setosa  petal_length    1.4\n",
       "0  setosa   petal_width    0.2"
      ]
     },
     "execution_count": 13,
     "metadata": {},
     "output_type": "execute_result"
    }
   ],
   "source": [
    "melted.loc[0]"
   ]
  },
  {
   "cell_type": "code",
   "execution_count": 17,
   "id": "83281f8b-67d3-4a21-9220-0dc3f80f0d5c",
   "metadata": {
    "tags": []
   },
   "outputs": [
    {
     "data": {
      "text/plain": [
       "[]"
      ]
     },
     "execution_count": 17,
     "metadata": {},
     "output_type": "execute_result"
    },
    {
     "data": {
      "image/png": "[encoded data removed]",
      "text/plain": [
       "<Figure size 640x480 with 1 Axes>"
      ]
     },
     "metadata": {},
     "output_type": "display_data"
    }
   ],
   "source": [
    "sns.boxplot(data=melted, x='variable', y='value', hue='species')\n",
    "plt.grid()\n",
    "plt.plot()"
   ]
  },
  {
   "cell_type": "code",
   "execution_count": 18,
   "id": "94d36f07-a601-4aaf-9f97-f5545abecc08",
   "metadata": {
    "tags": []
   },
   "outputs": [],
   "source": [
    "# Логрегрессия\n",
    "from sklearn.linear_model import LogisticRegressionCV\n",
    "from sklearn.metrics import f1_score\n",
    "from sklearn.preprocessing import StandardScaler\n",
    "from sklearn.model_selection import train_test_split"
   ]
  },
  {
   "cell_type": "code",
   "execution_count": 19,
   "id": "f04f213d-856e-4fdd-9621-2eeada746de7",
   "metadata": {
    "tags": []
   },
   "outputs": [
    {
     "data": {
      "text/html": [
       "<div>\n",
       "<style scoped>\n",
       "    .dataframe tbody tr th:only-of-type {\n",
       "        vertical-align: middle;\n",
       "    }\n",
       "\n",
       "    .dataframe tbody tr th {\n",
       "        vertical-align: top;\n",
       "    }\n",
       "\n",
       "    .dataframe thead th {\n",
       "        text-align: right;\n",
       "    }\n",
       "</style>\n",
       "<table border=\"1\" class=\"dataframe\">\n",
       "  <thead>\n",
       "    <tr style=\"text-align: right;\">\n",
       "      <th></th>\n",
       "      <th>sepal_length</th>\n",
       "      <th>sepal_width</th>\n",
       "      <th>petal_length</th>\n",
       "      <th>petal_width</th>\n",
       "      <th>species</th>\n",
       "    </tr>\n",
       "  </thead>\n",
       "  <tbody>\n",
       "    <tr>\n",
       "      <th>0</th>\n",
       "      <td>5.1</td>\n",
       "      <td>3.5</td>\n",
       "      <td>1.4</td>\n",
       "      <td>0.2</td>\n",
       "      <td>setosa</td>\n",
       "    </tr>\n",
       "    <tr>\n",
       "      <th>1</th>\n",
       "      <td>4.9</td>\n",
       "      <td>3.0</td>\n",
       "      <td>1.4</td>\n",
       "      <td>0.2</td>\n",
       "      <td>setosa</td>\n",
       "    </tr>\n",
       "    <tr>\n",
       "      <th>2</th>\n",
       "      <td>4.7</td>\n",
       "      <td>3.2</td>\n",
       "      <td>1.3</td>\n",
       "      <td>0.2</td>\n",
       "      <td>setosa</td>\n",
       "    </tr>\n",
       "    <tr>\n",
       "      <th>3</th>\n",
       "      <td>4.6</td>\n",
       "      <td>3.1</td>\n",
       "      <td>1.5</td>\n",
       "      <td>0.2</td>\n",
       "      <td>setosa</td>\n",
       "    </tr>\n",
       "    <tr>\n",
       "      <th>4</th>\n",
       "      <td>5.0</td>\n",
       "      <td>3.6</td>\n",
       "      <td>1.4</td>\n",
       "      <td>0.2</td>\n",
       "      <td>setosa</td>\n",
       "    </tr>\n",
       "    <tr>\n",
       "      <th>...</th>\n",
       "      <td>...</td>\n",
       "      <td>...</td>\n",
       "      <td>...</td>\n",
       "      <td>...</td>\n",
       "      <td>...</td>\n",
       "    </tr>\n",
       "    <tr>\n",
       "      <th>145</th>\n",
       "      <td>6.7</td>\n",
       "      <td>3.0</td>\n",
       "      <td>5.2</td>\n",
       "      <td>2.3</td>\n",
       "      <td>virginica</td>\n",
       "    </tr>\n",
       "    <tr>\n",
       "      <th>146</th>\n",
       "      <td>6.3</td>\n",
       "      <td>2.5</td>\n",
       "      <td>5.0</td>\n",
       "      <td>1.9</td>\n",
       "      <td>virginica</td>\n",
       "    </tr>\n",
       "    <tr>\n",
       "      <th>147</th>\n",
       "      <td>6.5</td>\n",
       "      <td>3.0</td>\n",
       "      <td>5.2</td>\n",
       "      <td>2.0</td>\n",
       "      <td>virginica</td>\n",
       "    </tr>\n",
       "    <tr>\n",
       "      <th>148</th>\n",
       "      <td>6.2</td>\n",
       "      <td>3.4</td>\n",
       "      <td>5.4</td>\n",
       "      <td>2.3</td>\n",
       "      <td>virginica</td>\n",
       "    </tr>\n",
       "    <tr>\n",
       "      <th>149</th>\n",
       "      <td>5.9</td>\n",
       "      <td>3.0</td>\n",
       "      <td>5.1</td>\n",
       "      <td>1.8</td>\n",
       "      <td>virginica</td>\n",
       "    </tr>\n",
       "  </tbody>\n",
       "</table>\n",
       "<p>150 rows × 5 columns</p>\n",
       "</div>"
      ],
      "text/plain": [
       "     sepal_length  sepal_width  petal_length  petal_width    species\n",
       "0             5.1          3.5           1.4          0.2     setosa\n",
       "1             4.9          3.0           1.4          0.2     setosa\n",
       "2             4.7          3.2           1.3          0.2     setosa\n",
       "3             4.6          3.1           1.5          0.2     setosa\n",
       "4             5.0          3.6           1.4          0.2     setosa\n",
       "..            ...          ...           ...          ...        ...\n",
       "145           6.7          3.0           5.2          2.3  virginica\n",
       "146           6.3          2.5           5.0          1.9  virginica\n",
       "147           6.5          3.0           5.2          2.0  virginica\n",
       "148           6.2          3.4           5.4          2.3  virginica\n",
       "149           5.9          3.0           5.1          1.8  virginica\n",
       "\n",
       "[150 rows x 5 columns]"
      ]
     },
     "execution_count": 19,
     "metadata": {},
     "output_type": "execute_result"
    }
   ],
   "source": [
    "df"
   ]
  },
  {
   "cell_type": "code",
   "execution_count": 23,
   "id": "21d0d880-8f68-424c-a289-43e381c80194",
   "metadata": {
    "tags": []
   },
   "outputs": [],
   "source": [
    "X_train, X_test, y_train, y_test = train_test_split(df.drop(columns='species'), df['species'], random_state=1062023, test_size=0.25)"
   ]
  },
  {
   "cell_type": "code",
   "execution_count": 31,
   "id": "b0b2bc4a-f8ed-4773-aad5-4d9dfba63c1e",
   "metadata": {
    "tags": []
   },
   "outputs": [
    {
     "data": {
      "text/html": [
       "<style>#sk-container-id-2 {color: black;background-color: white;}#sk-container-id-2 pre{padding: 0;}#sk-container-id-2 div.sk-toggleable {background-color: white;}#sk-container-id-2 label.sk-toggleable__label {cursor: pointer;display: block;width: 100%;margin-bottom: 0;padding: 0.3em;box-sizing: border-box;text-align: center;}#sk-container-id-2 label.sk-toggleable__label-arrow:before {content: \"▸\";float: left;margin-right: 0.25em;color: #696969;}#sk-container-id-2 label.sk-toggleable__label-arrow:hover:before {color: black;}#sk-container-id-2 div.sk-estimator:hover label.sk-toggleable__label-arrow:before {color: black;}#sk-container-id-2 div.sk-toggleable__content {max-height: 0;max-width: 0;overflow: hidden;text-align: left;background-color: #f0f8ff;}#sk-container-id-2 div.sk-toggleable__content pre {margin: 0.2em;color: black;border-radius: 0.25em;background-color: #f0f8ff;}#sk-container-id-2 input.sk-toggleable__control:checked~div.sk-toggleable__content {max-height: 200px;max-width: 100%;overflow: auto;}#sk-container-id-2 input.sk-toggleable__control:checked~label.sk-toggleable__label-arrow:before {content: \"▾\";}#sk-container-id-2 div.sk-estimator input.sk-toggleable__control:checked~label.sk-toggleable__label {background-color: #d4ebff;}#sk-container-id-2 div.sk-label input.sk-toggleable__control:checked~label.sk-toggleable__label {background-color: #d4ebff;}#sk-container-id-2 input.sk-hidden--visually {border: 0;clip: rect(1px 1px 1px 1px);clip: rect(1px, 1px, 1px, 1px);height: 1px;margin: -1px;overflow: hidden;padding: 0;position: absolute;width: 1px;}#sk-container-id-2 div.sk-estimator {font-family: monospace;background-color: #f0f8ff;border: 1px dotted black;border-radius: 0.25em;box-sizing: border-box;margin-bottom: 0.5em;}#sk-container-id-2 div.sk-estimator:hover {background-color: #d4ebff;}#sk-container-id-2 div.sk-parallel-item::after {content: \"\";width: 100%;border-bottom: 1px solid gray;flex-grow: 1;}#sk-container-id-2 div.sk-label:hover label.sk-toggleable__label {background-color: #d4ebff;}#sk-container-id-2 div.sk-serial::before {content: \"\";position: absolute;border-left: 1px solid gray;box-sizing: border-box;top: 0;bottom: 0;left: 50%;z-index: 0;}#sk-container-id-2 div.sk-serial {display: flex;flex-direction: column;align-items: center;background-color: white;padding-right: 0.2em;padding-left: 0.2em;position: relative;}#sk-container-id-2 div.sk-item {position: relative;z-index: 1;}#sk-container-id-2 div.sk-parallel {display: flex;align-items: stretch;justify-content: center;background-color: white;position: relative;}#sk-container-id-2 div.sk-item::before, #sk-container-id-2 div.sk-parallel-item::before {content: \"\";position: absolute;border-left: 1px solid gray;box-sizing: border-box;top: 0;bottom: 0;left: 50%;z-index: -1;}#sk-container-id-2 div.sk-parallel-item {display: flex;flex-direction: column;z-index: 1;position: relative;background-color: white;}#sk-container-id-2 div.sk-parallel-item:first-child::after {align-self: flex-end;width: 50%;}#sk-container-id-2 div.sk-parallel-item:last-child::after {align-self: flex-start;width: 50%;}#sk-container-id-2 div.sk-parallel-item:only-child::after {width: 0;}#sk-container-id-2 div.sk-dashed-wrapped {border: 1px dashed gray;margin: 0 0.4em 0.5em 0.4em;box-sizing: border-box;padding-bottom: 0.4em;background-color: white;}#sk-container-id-2 div.sk-label label {font-family: monospace;font-weight: bold;display: inline-block;line-height: 1.2em;}#sk-container-id-2 div.sk-label-container {text-align: center;}#sk-container-id-2 div.sk-container {/* jupyter's `normalize.less` sets `[hidden] { display: none; }` but bootstrap.min.css set `[hidden] { display: none !important; }` so we also need the `!important` here to be able to override the default hidden behavior on the sphinx rendered scikit-learn.org. See: https://github.com/scikit-learn/scikit-learn/issues/21755 */display: inline-block !important;position: relative;}#sk-container-id-2 div.sk-text-repr-fallback {display: none;}</style><div id=\"sk-container-id-2\" class=\"sk-top-container\"><div class=\"sk-text-repr-fallback\"><pre>LogisticRegressionCV(max_iter=1000)</pre><b>In a Jupyter environment, please rerun this cell to show the HTML representation or trust the notebook. <br />On GitHub, the HTML representation is unable to render, please try loading this page with nbviewer.org.</b></div><div class=\"sk-container\" hidden><div class=\"sk-item\"><div class=\"sk-estimator sk-toggleable\"><input class=\"sk-toggleable__control sk-hidden--visually\" id=\"sk-estimator-id-2\" type=\"checkbox\" checked><label for=\"sk-estimator-id-2\" class=\"sk-toggleable__label sk-toggleable__label-arrow\">LogisticRegressionCV</label><div class=\"sk-toggleable__content\"><pre>LogisticRegressionCV(max_iter=1000)</pre></div></div></div></div></div>"
      ],
      "text/plain": [
       "LogisticRegressionCV(max_iter=1000)"
      ]
     },
     "execution_count": 31,
     "metadata": {},
     "output_type": "execute_result"
    }
   ],
   "source": [
    "model = LogisticRegressionCV(max_iter=1000)\n",
    "\n",
    "model.fit(X_train, y_train)"
   ]
  },
  {
   "cell_type": "code",
   "execution_count": 32,
   "id": "1bb141cb-703d-471e-9876-7d7a8df6f3ae",
   "metadata": {
    "tags": []
   },
   "outputs": [
    {
     "data": {
      "text/plain": [
       "array([[-0.39273189,  0.508358  , -1.65839195, -0.6590181 ],\n",
       "       [ 0.23680141, -0.3729353 , -0.01190057, -0.51827794],\n",
       "       [ 0.15593048, -0.13542271,  1.67029252,  1.17729604]])"
      ]
     },
     "execution_count": 32,
     "metadata": {},
     "output_type": "execute_result"
    }
   ],
   "source": [
    "model.coef_"
   ]
  },
  {
   "cell_type": "code",
   "execution_count": 30,
   "id": "f2156eed-c58b-4e32-b7f0-7882c70b07dc",
   "metadata": {
    "tags": []
   },
   "outputs": [],
   "source": [
    "# sygm(y) = -0.39 * x + 0.5 * x2 + (-1.66) * x3 + (-0.66) * x4 + C"
   ]
  },
  {
   "cell_type": "code",
   "execution_count": 38,
   "id": "ae6b95b1-1bcf-443c-99d6-40341e443fe3",
   "metadata": {
    "tags": []
   },
   "outputs": [],
   "source": [
    "from sklearn.metrics import make_scorer, f1_score"
   ]
  },
  {
   "cell_type": "code",
   "execution_count": 40,
   "id": "e526a6a0-f04e-4dd4-a1e6-f69167e6e0ce",
   "metadata": {
    "tags": []
   },
   "outputs": [
    {
     "data": {
      "text/html": [
       "<style>#sk-container-id-3 {color: black;background-color: white;}#sk-container-id-3 pre{padding: 0;}#sk-container-id-3 div.sk-toggleable {background-color: white;}#sk-container-id-3 label.sk-toggleable__label {cursor: pointer;display: block;width: 100%;margin-bottom: 0;padding: 0.3em;box-sizing: border-box;text-align: center;}#sk-container-id-3 label.sk-toggleable__label-arrow:before {content: \"▸\";float: left;margin-right: 0.25em;color: #696969;}#sk-container-id-3 label.sk-toggleable__label-arrow:hover:before {color: black;}#sk-container-id-3 div.sk-estimator:hover label.sk-toggleable__label-arrow:before {color: black;}#sk-container-id-3 div.sk-toggleable__content {max-height: 0;max-width: 0;overflow: hidden;text-align: left;background-color: #f0f8ff;}#sk-container-id-3 div.sk-toggleable__content pre {margin: 0.2em;color: black;border-radius: 0.25em;background-color: #f0f8ff;}#sk-container-id-3 input.sk-toggleable__control:checked~div.sk-toggleable__content {max-height: 200px;max-width: 100%;overflow: auto;}#sk-container-id-3 input.sk-toggleable__control:checked~label.sk-toggleable__label-arrow:before {content: \"▾\";}#sk-container-id-3 div.sk-estimator input.sk-toggleable__control:checked~label.sk-toggleable__label {background-color: #d4ebff;}#sk-container-id-3 div.sk-label input.sk-toggleable__control:checked~label.sk-toggleable__label {background-color: #d4ebff;}#sk-container-id-3 input.sk-hidden--visually {border: 0;clip: rect(1px 1px 1px 1px);clip: rect(1px, 1px, 1px, 1px);height: 1px;margin: -1px;overflow: hidden;padding: 0;position: absolute;width: 1px;}#sk-container-id-3 div.sk-estimator {font-family: monospace;background-color: #f0f8ff;border: 1px dotted black;border-radius: 0.25em;box-sizing: border-box;margin-bottom: 0.5em;}#sk-container-id-3 div.sk-estimator:hover {background-color: #d4ebff;}#sk-container-id-3 div.sk-parallel-item::after {content: \"\";width: 100%;border-bottom: 1px solid gray;flex-grow: 1;}#sk-container-id-3 div.sk-label:hover label.sk-toggleable__label {background-color: #d4ebff;}#sk-container-id-3 div.sk-serial::before {content: \"\";position: absolute;border-left: 1px solid gray;box-sizing: border-box;top: 0;bottom: 0;left: 50%;z-index: 0;}#sk-container-id-3 div.sk-serial {display: flex;flex-direction: column;align-items: center;background-color: white;padding-right: 0.2em;padding-left: 0.2em;position: relative;}#sk-container-id-3 div.sk-item {position: relative;z-index: 1;}#sk-container-id-3 div.sk-parallel {display: flex;align-items: stretch;justify-content: center;background-color: white;position: relative;}#sk-container-id-3 div.sk-item::before, #sk-container-id-3 div.sk-parallel-item::before {content: \"\";position: absolute;border-left: 1px solid gray;box-sizing: border-box;top: 0;bottom: 0;left: 50%;z-index: -1;}#sk-container-id-3 div.sk-parallel-item {display: flex;flex-direction: column;z-index: 1;position: relative;background-color: white;}#sk-container-id-3 div.sk-parallel-item:first-child::after {align-self: flex-end;width: 50%;}#sk-container-id-3 div.sk-parallel-item:last-child::after {align-self: flex-start;width: 50%;}#sk-container-id-3 div.sk-parallel-item:only-child::after {width: 0;}#sk-container-id-3 div.sk-dashed-wrapped {border: 1px dashed gray;margin: 0 0.4em 0.5em 0.4em;box-sizing: border-box;padding-bottom: 0.4em;background-color: white;}#sk-container-id-3 div.sk-label label {font-family: monospace;font-weight: bold;display: inline-block;line-height: 1.2em;}#sk-container-id-3 div.sk-label-container {text-align: center;}#sk-container-id-3 div.sk-container {/* jupyter's `normalize.less` sets `[hidden] { display: none; }` but bootstrap.min.css set `[hidden] { display: none !important; }` so we also need the `!important` here to be able to override the default hidden behavior on the sphinx rendered scikit-learn.org. See: https://github.com/scikit-learn/scikit-learn/issues/21755 */display: inline-block !important;position: relative;}#sk-container-id-3 div.sk-text-repr-fallback {display: none;}</style><div id=\"sk-container-id-3\" class=\"sk-top-container\"><div class=\"sk-text-repr-fallback\"><pre>LogisticRegressionCV(max_iter=1000,\n",
       "                     scoring=make_scorer(f1_score, average=weighted))</pre><b>In a Jupyter environment, please rerun this cell to show the HTML representation or trust the notebook. <br />On GitHub, the HTML representation is unable to render, please try loading this page with nbviewer.org.</b></div><div class=\"sk-container\" hidden><div class=\"sk-item\"><div class=\"sk-estimator sk-toggleable\"><input class=\"sk-toggleable__control sk-hidden--visually\" id=\"sk-estimator-id-3\" type=\"checkbox\" checked><label for=\"sk-estimator-id-3\" class=\"sk-toggleable__label sk-toggleable__label-arrow\">LogisticRegressionCV</label><div class=\"sk-toggleable__content\"><pre>LogisticRegressionCV(max_iter=1000,\n",
       "                     scoring=make_scorer(f1_score, average=weighted))</pre></div></div></div></div></div>"
      ],
      "text/plain": [
       "LogisticRegressionCV(max_iter=1000,\n",
       "                     scoring=make_scorer(f1_score, average=weighted))"
      ]
     },
     "execution_count": 40,
     "metadata": {},
     "output_type": "execute_result"
    }
   ],
   "source": [
    "scorer = make_scorer(f1_score, average='weighted', greater_is_better=True)\n",
    "\n",
    "model = LogisticRegressionCV(max_iter=1000, scoring=scorer)\n",
    "\n",
    "model.fit(X_train, y_train)"
   ]
  },
  {
   "cell_type": "code",
   "execution_count": 45,
   "id": "14755dca-957a-4b58-9c8c-f703817275d1",
   "metadata": {
    "tags": []
   },
   "outputs": [
    {
     "data": {
      "text/plain": [
       "array([1.00000000e-04, 7.74263683e-04, 5.99484250e-03, 4.64158883e-02,\n",
       "       3.59381366e-01, 2.78255940e+00, 2.15443469e+01, 1.66810054e+02,\n",
       "       1.29154967e+03, 1.00000000e+04])"
      ]
     },
     "execution_count": 45,
     "metadata": {},
     "output_type": "execute_result"
    }
   ],
   "source": [
    "model.Cs_"
   ]
  },
  {
   "cell_type": "code",
   "execution_count": 46,
   "id": "23378e11-e1eb-4fa2-9127-9c0fbeedc0fe",
   "metadata": {
    "tags": []
   },
   "outputs": [],
   "source": [
    "from sklearn.pipeline import Pipeline"
   ]
  },
  {
   "cell_type": "code",
   "execution_count": 49,
   "id": "3d887505-2291-4ae4-a36f-96daaee3aae3",
   "metadata": {
    "tags": []
   },
   "outputs": [],
   "source": [
    "from sklearn.linear_model import LogisticRegression\n",
    "\n",
    "pipeline = Pipeline([('scale_data', StandardScaler()), ('logreg', LogisticRegression())])"
   ]
  },
  {
   "cell_type": "code",
   "execution_count": 50,
   "id": "95c3230c-e166-490e-8449-e81ef9a50399",
   "metadata": {
    "tags": []
   },
   "outputs": [],
   "source": [
    "from sklearn.model_selection import GridSearchCV"
   ]
  },
  {
   "cell_type": "code",
   "execution_count": 54,
   "id": "e215e761-03cc-44d8-a981-a21f3dde754c",
   "metadata": {
    "tags": []
   },
   "outputs": [],
   "source": [
    "params = {'logreg__solver':['lbfgs', 'liblinear', 'newton-cg', 'newton-cholesky', 'sag', 'saga']}"
   ]
  },
  {
   "cell_type": "code",
   "execution_count": 55,
   "id": "1c75dbaf-64bc-4a1b-937e-66b763687f61",
   "metadata": {
    "tags": []
   },
   "outputs": [],
   "source": [
    "model = GridSearchCV(pipeline, param_grid=params, scoring=scorer, n_jobs=1, verbose=1)"
   ]
  },
  {
   "cell_type": "code",
   "execution_count": 56,
   "id": "6e6e9696-a028-4ec4-ba9e-788f22bc42d6",
   "metadata": {
    "tags": []
   },
   "outputs": [
    {
     "name": "stdout",
     "output_type": "stream",
     "text": [
      "Fitting 5 folds for each of 6 candidates, totalling 30 fits\n"
     ]
    },
    {
     "data": {
      "text/html": [
       "<style>#sk-container-id-5 {color: black;background-color: white;}#sk-container-id-5 pre{padding: 0;}#sk-container-id-5 div.sk-toggleable {background-color: white;}#sk-container-id-5 label.sk-toggleable__label {cursor: pointer;display: block;width: 100%;margin-bottom: 0;padding: 0.3em;box-sizing: border-box;text-align: center;}#sk-container-id-5 label.sk-toggleable__label-arrow:before {content: \"▸\";float: left;margin-right: 0.25em;color: #696969;}#sk-container-id-5 label.sk-toggleable__label-arrow:hover:before {color: black;}#sk-container-id-5 div.sk-estimator:hover label.sk-toggleable__label-arrow:before {color: black;}#sk-container-id-5 div.sk-toggleable__content {max-height: 0;max-width: 0;overflow: hidden;text-align: left;background-color: #f0f8ff;}#sk-container-id-5 div.sk-toggleable__content pre {margin: 0.2em;color: black;border-radius: 0.25em;background-color: #f0f8ff;}#sk-container-id-5 input.sk-toggleable__control:checked~div.sk-toggleable__content {max-height: 200px;max-width: 100%;overflow: auto;}#sk-container-id-5 input.sk-toggleable__control:checked~label.sk-toggleable__label-arrow:before {content: \"▾\";}#sk-container-id-5 div.sk-estimator input.sk-toggleable__control:checked~label.sk-toggleable__label {background-color: #d4ebff;}#sk-container-id-5 div.sk-label input.sk-toggleable__control:checked~label.sk-toggleable__label {background-color: #d4ebff;}#sk-container-id-5 input.sk-hidden--visually {border: 0;clip: rect(1px 1px 1px 1px);clip: rect(1px, 1px, 1px, 1px);height: 1px;margin: -1px;overflow: hidden;padding: 0;position: absolute;width: 1px;}#sk-container-id-5 div.sk-estimator {font-family: monospace;background-color: #f0f8ff;border: 1px dotted black;border-radius: 0.25em;box-sizing: border-box;margin-bottom: 0.5em;}#sk-container-id-5 div.sk-estimator:hover {background-color: #d4ebff;}#sk-container-id-5 div.sk-parallel-item::after {content: \"\";width: 100%;border-bottom: 1px solid gray;flex-grow: 1;}#sk-container-id-5 div.sk-label:hover label.sk-toggleable__label {background-color: #d4ebff;}#sk-container-id-5 div.sk-serial::before {content: \"\";position: absolute;border-left: 1px solid gray;box-sizing: border-box;top: 0;bottom: 0;left: 50%;z-index: 0;}#sk-container-id-5 div.sk-serial {display: flex;flex-direction: column;align-items: center;background-color: white;padding-right: 0.2em;padding-left: 0.2em;position: relative;}#sk-container-id-5 div.sk-item {position: relative;z-index: 1;}#sk-container-id-5 div.sk-parallel {display: flex;align-items: stretch;justify-content: center;background-color: white;position: relative;}#sk-container-id-5 div.sk-item::before, #sk-container-id-5 div.sk-parallel-item::before {content: \"\";position: absolute;border-left: 1px solid gray;box-sizing: border-box;top: 0;bottom: 0;left: 50%;z-index: -1;}#sk-container-id-5 div.sk-parallel-item {display: flex;flex-direction: column;z-index: 1;position: relative;background-color: white;}#sk-container-id-5 div.sk-parallel-item:first-child::after {align-self: flex-end;width: 50%;}#sk-container-id-5 div.sk-parallel-item:last-child::after {align-self: flex-start;width: 50%;}#sk-container-id-5 div.sk-parallel-item:only-child::after {width: 0;}#sk-container-id-5 div.sk-dashed-wrapped {border: 1px dashed gray;margin: 0 0.4em 0.5em 0.4em;box-sizing: border-box;padding-bottom: 0.4em;background-color: white;}#sk-container-id-5 div.sk-label label {font-family: monospace;font-weight: bold;display: inline-block;line-height: 1.2em;}#sk-container-id-5 div.sk-label-container {text-align: center;}#sk-container-id-5 div.sk-container {/* jupyter's `normalize.less` sets `[hidden] { display: none; }` but bootstrap.min.css set `[hidden] { display: none !important; }` so we also need the `!important` here to be able to override the default hidden behavior on the sphinx rendered scikit-learn.org. See: https://github.com/scikit-learn/scikit-learn/issues/21755 */display: inline-block !important;position: relative;}#sk-container-id-5 div.sk-text-repr-fallback {display: none;}</style><div id=\"sk-container-id-5\" class=\"sk-top-container\"><div class=\"sk-text-repr-fallback\"><pre>GridSearchCV(estimator=Pipeline(steps=[(&#x27;scale_data&#x27;, StandardScaler()),\n",
       "                                       (&#x27;logreg&#x27;, LogisticRegression())]),\n",
       "             n_jobs=1,\n",
       "             param_grid={&#x27;logreg__solver&#x27;: [&#x27;lbfgs&#x27;, &#x27;liblinear&#x27;, &#x27;newton-cg&#x27;,\n",
       "                                            &#x27;newton-cholesky&#x27;, &#x27;sag&#x27;, &#x27;saga&#x27;]},\n",
       "             scoring=make_scorer(f1_score, average=weighted), verbose=1)</pre><b>In a Jupyter environment, please rerun this cell to show the HTML representation or trust the notebook. <br />On GitHub, the HTML representation is unable to render, please try loading this page with nbviewer.org.</b></div><div class=\"sk-container\" hidden><div class=\"sk-item sk-dashed-wrapped\"><div class=\"sk-label-container\"><div class=\"sk-label sk-toggleable\"><input class=\"sk-toggleable__control sk-hidden--visually\" id=\"sk-estimator-id-5\" type=\"checkbox\" ><label for=\"sk-estimator-id-5\" class=\"sk-toggleable__label sk-toggleable__label-arrow\">GridSearchCV</label><div class=\"sk-toggleable__content\"><pre>GridSearchCV(estimator=Pipeline(steps=[(&#x27;scale_data&#x27;, StandardScaler()),\n",
       "                                       (&#x27;logreg&#x27;, LogisticRegression())]),\n",
       "             n_jobs=1,\n",
       "             param_grid={&#x27;logreg__solver&#x27;: [&#x27;lbfgs&#x27;, &#x27;liblinear&#x27;, &#x27;newton-cg&#x27;,\n",
       "                                            &#x27;newton-cholesky&#x27;, &#x27;sag&#x27;, &#x27;saga&#x27;]},\n",
       "             scoring=make_scorer(f1_score, average=weighted), verbose=1)</pre></div></div></div><div class=\"sk-parallel\"><div class=\"sk-parallel-item\"><div class=\"sk-item\"><div class=\"sk-label-container\"><div class=\"sk-label sk-toggleable\"><input class=\"sk-toggleable__control sk-hidden--visually\" id=\"sk-estimator-id-6\" type=\"checkbox\" ><label for=\"sk-estimator-id-6\" class=\"sk-toggleable__label sk-toggleable__label-arrow\">estimator: Pipeline</label><div class=\"sk-toggleable__content\"><pre>Pipeline(steps=[(&#x27;scale_data&#x27;, StandardScaler()),\n",
       "                (&#x27;logreg&#x27;, LogisticRegression())])</pre></div></div></div><div class=\"sk-serial\"><div class=\"sk-item\"><div class=\"sk-serial\"><div class=\"sk-item\"><div class=\"sk-estimator sk-toggleable\"><input class=\"sk-toggleable__control sk-hidden--visually\" id=\"sk-estimator-id-7\" type=\"checkbox\" ><label for=\"sk-estimator-id-7\" class=\"sk-toggleable__label sk-toggleable__label-arrow\">StandardScaler</label><div class=\"sk-toggleable__content\"><pre>StandardScaler()</pre></div></div></div><div class=\"sk-item\"><div class=\"sk-estimator sk-toggleable\"><input class=\"sk-toggleable__control sk-hidden--visually\" id=\"sk-estimator-id-8\" type=\"checkbox\" ><label for=\"sk-estimator-id-8\" class=\"sk-toggleable__label sk-toggleable__label-arrow\">LogisticRegression</label><div class=\"sk-toggleable__content\"><pre>LogisticRegression()</pre></div></div></div></div></div></div></div></div></div></div></div></div>"
      ],
      "text/plain": [
       "GridSearchCV(estimator=Pipeline(steps=[('scale_data', StandardScaler()),\n",
       "                                       ('logreg', LogisticRegression())]),\n",
       "             n_jobs=1,\n",
       "             param_grid={'logreg__solver': ['lbfgs', 'liblinear', 'newton-cg',\n",
       "                                            'newton-cholesky', 'sag', 'saga']},\n",
       "             scoring=make_scorer(f1_score, average=weighted), verbose=1)"
      ]
     },
     "execution_count": 56,
     "metadata": {},
     "output_type": "execute_result"
    }
   ],
   "source": [
    "model.fit(X_train, y_train)"
   ]
  },
  {
   "cell_type": "code",
   "execution_count": 58,
   "id": "b327b2d0-4b3d-4863-ae29-bcddaaba0e00",
   "metadata": {
    "tags": []
   },
   "outputs": [
    {
     "data": {
      "text/plain": [
       "array([0.95511741, 0.88653764, 0.95511741, 0.90687628, 0.95511741,\n",
       "       0.95511741])"
      ]
     },
     "execution_count": 58,
     "metadata": {},
     "output_type": "execute_result"
    }
   ],
   "source": [
    "model.cv_results_['mean_test_score']"
   ]
  },
  {
   "cell_type": "code",
   "execution_count": 59,
   "id": "f4ec966a-86c9-4c40-b3ec-16df837f58c9",
   "metadata": {
    "tags": []
   },
   "outputs": [
    {
     "data": {
      "text/plain": [
       "{'logreg__solver': 'lbfgs'}"
      ]
     },
     "execution_count": 59,
     "metadata": {},
     "output_type": "execute_result"
    }
   ],
   "source": [
    "model.best_params_"
   ]
  },
  {
   "cell_type": "code",
   "execution_count": 60,
   "id": "63e3ea54-7ad6-41eb-a265-f7c380104bba",
   "metadata": {
    "tags": []
   },
   "outputs": [
    {
     "data": {
      "text/plain": [
       "0.9466374269005847"
      ]
     },
     "execution_count": 60,
     "metadata": {},
     "output_type": "execute_result"
    }
   ],
   "source": [
    "scorer(model.best_estimator_, X_test, y_test)"
   ]
  },
  {
   "cell_type": "code",
   "execution_count": null,
   "id": "9e629d53-38f9-42fb-9700-67102d8f102f",
   "metadata": {},
   "outputs": [],
   "source": []
  }
 ],
 "metadata": {
  "kernelspec": {
   "display_name": "hock",
   "language": "python",
   "name": "hock"
  },
  "language_info": {
   "codemirror_mode": {
    "name": "ipython",
    "version": 3
   },
   "file_extension": ".py",
   "mimetype": "text/x-python",
   "name": "python",
   "nbconvert_exporter": "python",
   "pygments_lexer": "ipython3",
   "version": "3.8.10"
  }
 },
 "nbformat": 4,
 "nbformat_minor": 5
}
