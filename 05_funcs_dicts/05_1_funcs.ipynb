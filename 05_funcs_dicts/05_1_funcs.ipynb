{
 "cells": [
  {
   "cell_type": "markdown",
   "id": "57564c22-ee19-4bb3-b1bd-57e71c62fbb1",
   "metadata": {},
   "source": [
    "# Чтение и запись файлов"
   ]
  },
  {
   "cell_type": "code",
   "execution_count": 1,
   "id": "1dd511ea-954b-41ab-b585-386b39381ff3",
   "metadata": {},
   "outputs": [],
   "source": [
    "# открытие файла на запись\n",
    "with open('newfile.txt', 'w', encoding='utf-8') as myfile:\n",
    "    myfile.write('Это я создал файл\\n')\n",
    "    myfile.write('И записал туда что-то\\n')\n",
    "    for i in range(1, 6):\n",
    "        myfile.write('ы' * i + '\\n')"
   ]
  },
  {
   "cell_type": "code",
   "execution_count": 2,
   "id": "720a34ae-0b60-40a3-b9cf-513bc286d3ff",
   "metadata": {},
   "outputs": [
    {
     "name": "stdout",
     "output_type": "stream",
     "text": [
      "Это я создал файл\n",
      "И записал туда что-то\n",
      "ы\n",
      "ыы\n",
      "ыыы\n",
      "ыыыы\n",
      "ыыыыы\n"
     ]
    }
   ],
   "source": [
    "# открытие файла на чтение\n",
    "with open('newfile.txt', 'r', encoding='utf8') as myfile:\n",
    "    print(myfile.read().strip())"
   ]
  },
  {
   "cell_type": "markdown",
   "id": "5761d105-b280-4d01-8ac6-7689d5e719b0",
   "metadata": {},
   "source": [
    "# Функции"
   ]
  },
  {
   "cell_type": "code",
   "execution_count": 3,
   "id": "43fe9ab9-f430-42b5-acd5-c3d040fb189a",
   "metadata": {},
   "outputs": [],
   "source": [
    "def my_first_func(a):\n",
    "    print(a * 10)"
   ]
  },
  {
   "cell_type": "code",
   "execution_count": 4,
   "id": "0d12dba1-43fe-4898-ad42-dbcd78683ce5",
   "metadata": {},
   "outputs": [
    {
     "data": {
      "text/plain": [
       "<function __main__.my_first_func(a)>"
      ]
     },
     "execution_count": 4,
     "metadata": {},
     "output_type": "execute_result"
    }
   ],
   "source": [
    "my_first_func"
   ]
  },
  {
   "cell_type": "code",
   "execution_count": 5,
   "id": "41f772e3-f3ce-47df-aee4-e15e6a786585",
   "metadata": {},
   "outputs": [
    {
     "ename": "TypeError",
     "evalue": "my_first_func() missing 1 required positional argument: 'a'",
     "output_type": "error",
     "traceback": [
      "\u001b[1;31m---------------------------------------------------------------------------\u001b[0m",
      "\u001b[1;31mTypeError\u001b[0m                                 Traceback (most recent call last)",
      "Cell \u001b[1;32mIn [5], line 1\u001b[0m\n\u001b[1;32m----> 1\u001b[0m \u001b[43mmy_first_func\u001b[49m\u001b[43m(\u001b[49m\u001b[43m)\u001b[49m\n",
      "\u001b[1;31mTypeError\u001b[0m: my_first_func() missing 1 required positional argument: 'a'"
     ]
    }
   ],
   "source": [
    "my_first_func()"
   ]
  },
  {
   "cell_type": "code",
   "execution_count": null,
   "id": "5e50ce48-ca57-487b-b0fd-c60f2d8033f4",
   "metadata": {},
   "outputs": [],
   "source": [
    "my_first_func(10)"
   ]
  },
  {
   "cell_type": "code",
   "execution_count": 6,
   "id": "02fd32a7-03da-480e-bb8c-8304773723b1",
   "metadata": {},
   "outputs": [
    {
     "name": "stdout",
     "output_type": "stream",
     "text": [
      "1234567890\n"
     ]
    }
   ],
   "source": [
    "number = 123456789\n",
    "my_first_func(number)"
   ]
  },
  {
   "cell_type": "code",
   "execution_count": 7,
   "id": "a4357e06-4c4f-4c75-b2d2-f2dfc31ce586",
   "metadata": {},
   "outputs": [
    {
     "name": "stdout",
     "output_type": "stream",
     "text": [
      "molokomolokomolokomolokomolokomolokomolokomolokomolokomoloko\n"
     ]
    }
   ],
   "source": [
    "number = 'moloko'\n",
    "my_first_func(number)"
   ]
  },
  {
   "cell_type": "code",
   "execution_count": 8,
   "id": "b46951a5-fb67-4256-9102-af6fa5b1185c",
   "metadata": {},
   "outputs": [],
   "source": [
    "def custom_power(base, power): # позиционные аргументы\n",
    "    print(base ** power)"
   ]
  },
  {
   "cell_type": "code",
   "execution_count": 9,
   "id": "768f3cfd-6ca4-40db-999d-02c2fcc2c1cc",
   "metadata": {},
   "outputs": [
    {
     "name": "stdout",
     "output_type": "stream",
     "text": [
      "125\n"
     ]
    }
   ],
   "source": [
    "custom_power(5, 3)"
   ]
  },
  {
   "cell_type": "code",
   "execution_count": 10,
   "id": "dd91bcaf-5586-4fe5-80a7-f51b54c789be",
   "metadata": {},
   "outputs": [],
   "source": [
    "def custom_power2(base, power, divider=2):\n",
    "    print(base ** power / divider)"
   ]
  },
  {
   "cell_type": "code",
   "execution_count": 11,
   "id": "10f83161-ab0d-4dd5-93a8-23c210f73c9c",
   "metadata": {},
   "outputs": [
    {
     "name": "stdout",
     "output_type": "stream",
     "text": [
      "1.0\n"
     ]
    }
   ],
   "source": [
    "custom_power2(10, 2, 100)"
   ]
  },
  {
   "cell_type": "code",
   "execution_count": 12,
   "id": "f00ffeeb-32f5-4a63-82e1-dcba9b132dc6",
   "metadata": {},
   "outputs": [
    {
     "ename": "SyntaxError",
     "evalue": "positional argument follows keyword argument (3884833444.py, line 1)",
     "output_type": "error",
     "traceback": [
      "\u001b[1;36m  Cell \u001b[1;32mIn [12], line 1\u001b[1;36m\u001b[0m\n\u001b[1;33m    custom_power2(divider=20, 10, 2)\u001b[0m\n\u001b[1;37m                                   ^\u001b[0m\n\u001b[1;31mSyntaxError\u001b[0m\u001b[1;31m:\u001b[0m positional argument follows keyword argument\n"
     ]
    }
   ],
   "source": [
    "custom_power2(divider=20, 10, 2)"
   ]
  },
  {
   "cell_type": "code",
   "execution_count": 13,
   "id": "1a3d894b-4868-4bab-b9dc-652adbfcd85e",
   "metadata": {},
   "outputs": [],
   "source": [
    "def divide_and_round(a, b, c=2):\n",
    "    print( round(a / b, c))"
   ]
  },
  {
   "cell_type": "code",
   "execution_count": 14,
   "id": "a6e92985-d583-4f16-99af-1f48ad789061",
   "metadata": {},
   "outputs": [
    {
     "name": "stdout",
     "output_type": "stream",
     "text": [
      "30.0\n"
     ]
    }
   ],
   "source": [
    "divide_and_round(100, 3, c=-1)"
   ]
  },
  {
   "cell_type": "markdown",
   "id": "b3251f17-73a3-4d14-ae00-728145175514",
   "metadata": {},
   "source": [
    "## RETURN"
   ]
  },
  {
   "cell_type": "code",
   "execution_count": 15,
   "id": "95cf057e-d3e4-413d-9e9c-8dcd27ad95d9",
   "metadata": {},
   "outputs": [],
   "source": [
    "a = [10, 4, 5, -1, 8, 16, -20, 0]"
   ]
  },
  {
   "cell_type": "code",
   "execution_count": 16,
   "id": "cea0bb1f-e0fc-452c-b605-c2b44156deea",
   "metadata": {},
   "outputs": [
    {
     "name": "stdout",
     "output_type": "stream",
     "text": [
      "[-20, -1, 0, 4, 5, 8, 10, 16]\n"
     ]
    }
   ],
   "source": [
    "sorted_res = sorted(a) # возвращает отсортированную копию\n",
    "print(sorted_res)"
   ]
  },
  {
   "cell_type": "code",
   "execution_count": 17,
   "id": "a24f2d68-898b-4c2f-8afa-98e53e9542ff",
   "metadata": {},
   "outputs": [
    {
     "name": "stdout",
     "output_type": "stream",
     "text": [
      "[10, 4, 5, -1, 8, 16, -20, 0]\n"
     ]
    }
   ],
   "source": [
    "print(a)"
   ]
  },
  {
   "cell_type": "code",
   "execution_count": 18,
   "id": "e1030e92-0095-4235-8d5b-8d518a3fd7f7",
   "metadata": {},
   "outputs": [
    {
     "name": "stdout",
     "output_type": "stream",
     "text": [
      "None\n"
     ]
    }
   ],
   "source": [
    "sort_method_res = a.sort() # метод sort() ничего не возвращает!!!!\n",
    "# он изменяет сам список in place\n",
    "print(sort_method_res)"
   ]
  },
  {
   "cell_type": "code",
   "execution_count": 19,
   "id": "f4697c8f-cfc6-4f6c-ac55-13298b5e2e1a",
   "metadata": {},
   "outputs": [
    {
     "name": "stdout",
     "output_type": "stream",
     "text": [
      "[-20, -1, 0, 4, 5, 8, 10, 16]\n"
     ]
    }
   ],
   "source": [
    "print(a)"
   ]
  },
  {
   "cell_type": "code",
   "execution_count": 20,
   "id": "6f379db0-70d1-41e2-b7c1-aeeaa4b0a0e3",
   "metadata": {},
   "outputs": [
    {
     "name": "stdout",
     "output_type": "stream",
     "text": [
      "[-20, -1, 0, 4, 5, 8, 10, 16]\n",
      "None\n"
     ]
    }
   ],
   "source": [
    "nums = [10, 4, 5, -1, 8, 16, -20, 0]\n",
    "\n",
    "a = sorted(a)\n",
    "b = a.sort()\n",
    "\n",
    "print(a)\n",
    "print(b)"
   ]
  },
  {
   "cell_type": "code",
   "execution_count": 21,
   "id": "2720c5d4-c36f-4830-9bd3-f5b2144f82cc",
   "metadata": {},
   "outputs": [],
   "source": [
    "def times_two(number):\n",
    "    print(number * 2)\n",
    "    \n",
    "def times_two_r(number):\n",
    "    return number * 2"
   ]
  },
  {
   "cell_type": "code",
   "execution_count": 22,
   "id": "992a14ca-ca49-4f95-a366-63353badee90",
   "metadata": {},
   "outputs": [
    {
     "name": "stdout",
     "output_type": "stream",
     "text": [
      "10\n"
     ]
    }
   ],
   "source": [
    "a = times_two(5)\n",
    "b = times_two_r(5)"
   ]
  },
  {
   "cell_type": "code",
   "execution_count": 23,
   "id": "271ccb18-cc3c-4e0b-a819-df71da336608",
   "metadata": {},
   "outputs": [
    {
     "name": "stdout",
     "output_type": "stream",
     "text": [
      "None\n"
     ]
    }
   ],
   "source": [
    "print(a)"
   ]
  },
  {
   "cell_type": "code",
   "execution_count": 24,
   "id": "d0cd48f6-dd30-4e85-b9e6-70d635c609b0",
   "metadata": {},
   "outputs": [
    {
     "name": "stdout",
     "output_type": "stream",
     "text": [
      "10\n"
     ]
    }
   ],
   "source": [
    "print(b)"
   ]
  },
  {
   "cell_type": "code",
   "execution_count": 25,
   "id": "bbc2af16-cfa1-4a3c-bc10-aa5c42d54b6e",
   "metadata": {},
   "outputs": [],
   "source": [
    "def times_two_r2(number: int, m: int=2) -> int:\n",
    "    \"\"\"\n",
    "    Функция бла-бла-бла. \n",
    "    Принимает два числа и находит их произведение.\n",
    "    \n",
    "    Ввод:\n",
    "       - number: целое число\n",
    "       - m: целое число (по-умолчанию 2)\n",
    "       \n",
    "    Вывод:\n",
    "        - целое число (number * m)\n",
    "    \"\"\"\n",
    "    return number * m"
   ]
  },
  {
   "cell_type": "code",
   "execution_count": 26,
   "id": "72bc175c-2ae1-499c-8b00-b41b2ea7a60d",
   "metadata": {},
   "outputs": [
    {
     "data": {
      "text/plain": [
       "\u001b[1;31mSignature:\u001b[0m \u001b[0mtimes_two_r2\u001b[0m\u001b[1;33m(\u001b[0m\u001b[0mnumber\u001b[0m\u001b[1;33m:\u001b[0m \u001b[0mint\u001b[0m\u001b[1;33m,\u001b[0m \u001b[0mm\u001b[0m\u001b[1;33m:\u001b[0m \u001b[0mint\u001b[0m \u001b[1;33m=\u001b[0m \u001b[1;36m2\u001b[0m\u001b[1;33m)\u001b[0m \u001b[1;33m->\u001b[0m \u001b[0mint\u001b[0m\u001b[1;33m\u001b[0m\u001b[1;33m\u001b[0m\u001b[0m\n",
       "\u001b[1;31mDocstring:\u001b[0m\n",
       "Функция бла-бла-бла. \n",
       "Принимает два числа и находит их произведение.\n",
       "\n",
       "Ввод:\n",
       "   - number: целое число\n",
       "   - m: целое число (по-умолчанию 2)\n",
       "   \n",
       "Вывод:\n",
       "    - целое число (number * m)\n",
       "\u001b[1;31mFile:\u001b[0m      c:\\users\\igumn\\appdata\\local\\temp\\ipykernel_1576\\4151598505.py\n",
       "\u001b[1;31mType:\u001b[0m      function\n"
      ]
     },
     "metadata": {},
     "output_type": "display_data"
    }
   ],
   "source": [
    "?times_two_r2"
   ]
  },
  {
   "cell_type": "code",
   "execution_count": 27,
   "id": "44d3977d-0863-41ef-bd5e-d6df0f9c10bd",
   "metadata": {},
   "outputs": [
    {
     "data": {
      "text/plain": [
       "369"
      ]
     },
     "execution_count": 27,
     "metadata": {},
     "output_type": "execute_result"
    }
   ],
   "source": [
    "times_two_r2(123, m=3)"
   ]
  },
  {
   "cell_type": "markdown",
   "id": "372e0b53-0c0c-40a1-99f1-56886a235b4f",
   "metadata": {},
   "source": [
    "# ЗАДАЧА\n",
    "Напишите функцию `cube`, которая принимает число, возводит его в куб (третью степень) и возвращает результат (без округлений)."
   ]
  },
  {
   "cell_type": "code",
   "execution_count": null,
   "id": "11c40f06-2b3b-4acd-91f7-50a4a8af1daf",
   "metadata": {
    "tags": []
   },
   "outputs": [],
   "source": [
    "# ваш код\n"
   ]
  },
  {
   "cell_type": "code",
   "execution_count": null,
   "id": "55e88331-1e56-438b-a424-873d6e109bb8",
   "metadata": {
    "tags": []
   },
   "outputs": [],
   "source": [
    "# это проверка. запусите\n",
    "assert cube(1) == 1\n",
    "assert cube(3) == 27\n",
    "assert cube(-2) == -8"
   ]
  },
  {
   "cell_type": "markdown",
   "id": "619efc7d-02a3-45b4-a0fa-d52f178f33a5",
   "metadata": {},
   "source": [
    "# ЗАДАЧА"
   ]
  },
  {
   "cell_type": "markdown",
   "id": "9fe4efdf-b51d-4b6e-b03f-34cbc79e7bfe",
   "metadata": {},
   "source": [
    "Напишите функцию `average`, которая принимает список с числами и возвращает среднее арифметическое списка, округленное до 1 знака после запятой."
   ]
  },
  {
   "cell_type": "code",
   "execution_count": null,
   "id": "74baa7bf-f681-460d-8ca4-e79de2df2523",
   "metadata": {
    "tags": []
   },
   "outputs": [],
   "source": [
    "# ваш код\n"
   ]
  },
  {
   "cell_type": "code",
   "execution_count": null,
   "id": "84084be1-6c7b-4163-90b0-a9e782c8d9ee",
   "metadata": {
    "tags": []
   },
   "outputs": [],
   "source": [
    "# это проверка, запустите\n",
    "assert average([1,2,3]) == 2\n",
    "assert average([1,7,17,18]) == 10.8"
   ]
  },
  {
   "cell_type": "markdown",
   "id": "82268bd7-5a31-4d22-a899-a7fe08677215",
   "metadata": {},
   "source": [
    "# lambda - функции"
   ]
  },
  {
   "cell_type": "code",
   "execution_count": 28,
   "id": "19faf832-a7e7-4ea8-9d02-4fcebc40eea9",
   "metadata": {},
   "outputs": [],
   "source": [
    "p = lambda x: x ** 2"
   ]
  },
  {
   "cell_type": "code",
   "execution_count": 29,
   "id": "00f4b018-8e4f-44ae-bf0f-149a352d898a",
   "metadata": {},
   "outputs": [
    {
     "data": {
      "text/plain": [
       "100"
      ]
     },
     "execution_count": 29,
     "metadata": {},
     "output_type": "execute_result"
    }
   ],
   "source": [
    "p(10)"
   ]
  },
  {
   "cell_type": "code",
   "execution_count": 30,
   "id": "d0197512-3af7-4e50-8350-acc66f417508",
   "metadata": {
    "tags": []
   },
   "outputs": [
    {
     "data": {
      "text/plain": [
       "[['xxx', 3], ['yyy', 1], ['zzz', 2]]"
      ]
     },
     "execution_count": 30,
     "metadata": {},
     "output_type": "execute_result"
    }
   ],
   "source": [
    "elems = [['xxx', 3], ['yyy', 1], ['zzz', 2]]\n",
    "sorted(elems)"
   ]
  },
  {
   "cell_type": "code",
   "execution_count": 31,
   "id": "e34d2cd8-087c-48c3-8337-3c276d6f4a6b",
   "metadata": {
    "tags": []
   },
   "outputs": [
    {
     "data": {
      "text/plain": [
       "[['yyy', 1], ['zzz', 2], ['xxx', 3]]"
      ]
     },
     "execution_count": 31,
     "metadata": {},
     "output_type": "execute_result"
    }
   ],
   "source": [
    "sorted(elems, key=lambda x: x[1])"
   ]
  },
  {
   "cell_type": "markdown",
   "id": "d6221187-e340-4412-a8a3-a944d7bb3e9f",
   "metadata": {},
   "source": [
    "# ЗАДАЧА"
   ]
  },
  {
   "cell_type": "markdown",
   "id": "e2617953-8c1e-483f-8daa-142518fc20b8",
   "metadata": {},
   "source": [
    "Напишите функцию `power`,которая принимает 2 аргумента: число и степень, в которую надо число возвести. По умолчанию степень равна двум."
   ]
  },
  {
   "cell_type": "code",
   "execution_count": null,
   "id": "133efef6-59d2-415b-b4ef-e3e3ae2bf0c2",
   "metadata": {
    "tags": []
   },
   "outputs": [],
   "source": [
    "# ваш код\n"
   ]
  },
  {
   "cell_type": "code",
   "execution_count": null,
   "id": "f3ed3f91-2692-4ee3-8a64-d8d38ea1a374",
   "metadata": {
    "tags": []
   },
   "outputs": [],
   "source": [
    "# проверка\n",
    "\n",
    "assert power(2, 2) == 4\n",
    "assert power(2) == 4\n",
    "assert power(0, 0) == 1"
   ]
  },
  {
   "cell_type": "markdown",
   "id": "0f78c337-f212-4e94-8ee8-539fb7ee0983",
   "metadata": {},
   "source": [
    "# ЗАДАЧА\n",
    "Напишите функцию `factorial`, которая принимает натуральное число и находит его факториал (факториал числа -- произведение всех натуральных чисел от 1 до числа включительно). Факториал нуля равен одному.<br>Если функции было дано отрицательное число, то она должна возвращать слово **ОШИБКА**."
   ]
  },
  {
   "cell_type": "code",
   "execution_count": null,
   "id": "a0818cdb-f9eb-4e99-8ca8-4f01db2bde19",
   "metadata": {
    "tags": []
   },
   "outputs": [],
   "source": [
    "# ваш код\n"
   ]
  },
  {
   "cell_type": "code",
   "execution_count": null,
   "id": "6a26cad0-5114-4d83-9de8-d3602ef32cd1",
   "metadata": {
    "tags": []
   },
   "outputs": [],
   "source": [
    "# проверка\n",
    "assert factorial(5) == 120\n",
    "assert factorial(0) == 1\n",
    "assert factorial(-1) == 'ОШИБКА'"
   ]
  },
  {
   "cell_type": "markdown",
   "id": "df7728d7-ad07-4205-aa12-5c749627e97c",
   "metadata": {},
   "source": [
    "# ЗАДАЧА\n",
    "Число сочетаний по $k$ объектов из $n$ объектов вычисляется по формуле $C_n^k==\\frac{n!}{k!(n-k)!}$.<br>\n",
    "Используя уже написанную функцию `factorial` напишите функцию `combinations`, которая принимает два аргумента: суммарное число объектов, число объектов в сочетании. И возвращает число сочетаний.<br>\n",
    "* так как придется делить, то будет возвращено float. Конвертируйте, пожалуйста, ответ в целое число!"
   ]
  },
  {
   "cell_type": "code",
   "execution_count": null,
   "id": "9d76f7e1-922c-4d4b-8319-b65afad5c4b8",
   "metadata": {
    "tags": []
   },
   "outputs": [],
   "source": [
    "# ваш код\n"
   ]
  },
  {
   "cell_type": "code",
   "execution_count": null,
   "id": "c8d463b8-893e-4035-b1cf-5745c0cfa2ac",
   "metadata": {
    "tags": []
   },
   "outputs": [],
   "source": [
    "assert combinations(5, 2) == 10\n",
    "assert combinations(5, 3) == 10\n",
    "assert combinations(25, 5) == 53130\n",
    "assert combinations(100, 100) == 1"
   ]
  },
  {
   "cell_type": "markdown",
   "id": "5eb46446-a3e3-4c59-9b21-641c54cf48c3",
   "metadata": {},
   "source": [
    "Таким образом, с помощью функции `combinations` найдите ответ на вопрос: в классе учатся 28 детей. Случайным образом выбираются два дежурных. Найдите, сколько всего возможных пар из двух дежурных можно составить из этого класса."
   ]
  },
  {
   "cell_type": "code",
   "execution_count": null,
   "id": "be78035e-8bce-4629-b3f9-4ba68c96ab99",
   "metadata": {
    "tags": []
   },
   "outputs": [],
   "source": [
    "# запуск функции для поиска овтета"
   ]
  },
  {
   "cell_type": "code",
   "execution_count": null,
   "id": "16ea7f76-e4b3-4245-a409-732d0f82906e",
   "metadata": {},
   "outputs": [],
   "source": []
  },
  {
   "cell_type": "markdown",
   "id": "96ba643c-0be5-44e7-ac9d-f635740f7432",
   "metadata": {},
   "source": [
    "### Пример написания функции\n",
    "Коэффициент эластичность спроса (E) в общем виде определяется как\n",
    "$$ E = \\frac{Q_2 - Q_1}{Q_1} \\div  \\frac{P_2-P_1}{P_1}$$, где $P_1$, $P_2$ -- старая и новая цены соответственно, $Q_1$, $Q_2$ -- старый и новый спрос, т.е. спрос до изменения цены и после.\n",
    "\n",
    "Напишем красивую функцию с Docstring -- справкой."
   ]
  },
  {
   "cell_type": "code",
   "execution_count": 32,
   "id": "4c779d2f-fb13-43d8-aa24-4a5f720ff124",
   "metadata": {},
   "outputs": [],
   "source": [
    "# составим простенькую функцию и напишем к ней справку\n",
    "def elasticity(p1, p2, q1, q2): \n",
    "    \"\"\"\n",
    "    Функция для подсчета коэффициента эластичности.\n",
    "    Паараметры:\n",
    "     1. p1 -- старая цена, int\n",
    "     2. p2 -- новая цена, int\n",
    "     3. q1 -- спрос по старой цене, int\n",
    "     4. q2 -- спрос после изменения цены, int\n",
    "    Возвращает:\n",
    "     Значение коэффициента эластичности, int.\n",
    "    \"\"\"\n",
    "    dQ = (q2 - q1) / q1\n",
    "    dP = (p2 - p1) / p1\n",
    "    return dQ / dP"
   ]
  },
  {
   "cell_type": "code",
   "execution_count": 33,
   "id": "f561148d-0041-4a0f-a64b-24c54bc28774",
   "metadata": {},
   "outputs": [
    {
     "data": {
      "text/plain": [
       "\u001b[1;31mSignature:\u001b[0m \u001b[0melasticity\u001b[0m\u001b[1;33m(\u001b[0m\u001b[0mp1\u001b[0m\u001b[1;33m,\u001b[0m \u001b[0mp2\u001b[0m\u001b[1;33m,\u001b[0m \u001b[0mq1\u001b[0m\u001b[1;33m,\u001b[0m \u001b[0mq2\u001b[0m\u001b[1;33m)\u001b[0m\u001b[1;33m\u001b[0m\u001b[1;33m\u001b[0m\u001b[0m\n",
       "\u001b[1;31mDocstring:\u001b[0m\n",
       "Функция для подсчета коэффициента эластичности.\n",
       "Паараметры:\n",
       " 1. p1 -- старая цена, int\n",
       " 2. p2 -- новая цена, int\n",
       " 3. q1 -- спрос по старой цене, int\n",
       " 4. q2 -- спрос после изменения цены, int\n",
       "Возвращает:\n",
       " Значение коэффициента эластичности, int.\n",
       "\u001b[1;31mFile:\u001b[0m      c:\\users\\igumn\\appdata\\local\\temp\\ipykernel_1576\\2581872593.py\n",
       "\u001b[1;31mType:\u001b[0m      function\n"
      ]
     },
     "metadata": {},
     "output_type": "display_data"
    }
   ],
   "source": [
    "# посмотрим справку по функции\n",
    "?elasticity"
   ]
  },
  {
   "cell_type": "code",
   "execution_count": 34,
   "id": "d324f488-b243-472e-8829-fa25b0d3e08f",
   "metadata": {},
   "outputs": [
    {
     "name": "stdout",
     "output_type": "stream",
     "text": [
      "-1.0\n"
     ]
    }
   ],
   "source": [
    "print(elasticity(100, 110, 100_000, 90_000))"
   ]
  },
  {
   "cell_type": "markdown",
   "id": "c4e0fe39-87a7-42f9-b0e3-cbe8eb4346d0",
   "metadata": {},
   "source": [
    "### 1. ИПЦ\n",
    "Индекс потребительских цен определяется по формуле\n",
    "$$ \\text{ИПЦ} = \\text{СТТГ} \\div \\text{СТБГ} $$\n",
    ", где СТТГ, СТБГ -- стоимость потребительской корзины в текущей и базовом годах соответственно.\n",
    "\n",
    "Напишите функцию *CPI* для подсчета индекса потребительной цены.\n",
    "Функция принимает два числа: СТТГ и СТБГ, возвращает число с плавающей точкой, округленное до 2 знаков после запятой."
   ]
  },
  {
   "cell_type": "code",
   "execution_count": null,
   "id": "f164f7e0-4e7d-4ec7-b943-d234d6918100",
   "metadata": {},
   "outputs": [],
   "source": [
    "# ваш код"
   ]
  },
  {
   "cell_type": "markdown",
   "id": "4257f9c7-4ceb-45f8-9937-ee8d754a9e16",
   "metadata": {},
   "source": [
    "### 2. ТИ\n",
    "Темп инфляции определяется формулой\n",
    "$$ \\text{ТИ} = \\frac{\\text{ИПЦ}_1 - \\text{ИПЦ}_0}{\\text{ИПЦ}_0} * 100\\% $$\n",
    "\n",
    "Напишите функцию *IR* для подсчета темпа инфляции, которая принимает два действительных числа -- значения индексов потребительских цен.\n",
    "\n",
    "Функция возвращает число процентов с округлением до 2 знака после запятой *p*,  $ 0 \\leq p \\leq 100$."
   ]
  },
  {
   "cell_type": "code",
   "execution_count": null,
   "id": "45e332f9-dba0-4076-adaf-0181397cef29",
   "metadata": {},
   "outputs": [],
   "source": [
    "# ваш"
   ]
  },
  {
   "cell_type": "markdown",
   "id": "a6e38694-df92-434b-8a53-982181841499",
   "metadata": {},
   "source": [
    "### 3. Тип инфляции\n",
    "В соответствии с темпом инфляции можно разделить её на несколько типов:\n",
    "1. Ползучая инфляция с ростом цен до 5 % годовых,\n",
    "2. Умеренная инфляция до 10 % годовых,\n",
    "3. Галопирующая инфляция с ростом цен 20-200% годовых,\n",
    "4. Гиперинфляция с катастрофическим ростом цен более 200 % в год.\n",
    "\n",
    "Напишите функцию *IR_type*, которая принимает темп инфляции (действительное число) и возвращает её тип (целое число)."
   ]
  },
  {
   "cell_type": "code",
   "execution_count": null,
   "id": "93b8d57b-02b6-4df2-850a-55e17f21e84b",
   "metadata": {},
   "outputs": [],
   "source": []
  },
  {
   "cell_type": "markdown",
   "id": "ebed4d2b-a293-416a-9c00-498faaf846bb",
   "metadata": {},
   "source": [
    "### 4. main\n",
    "Напишите функцию *main*, которая принимает принимает СТТГ и СТБГ и **печатает** информационное сообщение о темпах инфляции.\n",
    "\n",
    "Указания:  \n",
    "Внутри функции main воспользуйтесь написанными ранее функциями."
   ]
  },
  {
   "cell_type": "code",
   "execution_count": null,
   "id": "d7119be1-2c41-4bfa-a5cf-ed9d53e5b431",
   "metadata": {},
   "outputs": [],
   "source": []
  },
  {
   "cell_type": "markdown",
   "id": "18a40a35-7c8d-46a0-bb03-745daefa8c12",
   "metadata": {},
   "source": [
    "### 5. Уникальные авторы\n",
    "В файле *hw6_books.xml* в формате [xml](https://support.microsoft.com/ru-ru/office/xml-%D0%B4%D0%BB%D1%8F-%D0%BD%D0%B0%D1%87%D0%B8%D0%BD%D0%B0%D1%8E%D1%89%D0%B8%D1%85-a87d234d-4c2e-4409-9cbc-45e4eb857d44).\n",
    "\n",
    "Напишите функцию *get_authors*, которая в качестве аргумента принимает название xml файла и возвращает список с уникальными именами всех авторов в xml файле.\n",
    "\n",
    "То есть необходимо определить содержимое полей *author*, сохранить каждое в список и вернуть результат."
   ]
  },
  {
   "cell_type": "code",
   "execution_count": null,
   "id": "339726c4-ced1-4b17-9c02-7d5c6bcc4c32",
   "metadata": {},
   "outputs": [],
   "source": []
  },
  {
   "cell_type": "markdown",
   "id": "e8cb1a8c-11f6-4817-8d3b-5e8f340569fc",
   "metadata": {},
   "source": [
    "### 6. Фильтрация\n",
    "Дан файл *DataYearGeo760.csv*. Напишите функцию *filter*, которая принимает в качестве аргумента название столбца и значение. Необходимо в новый файл формата csv (разделитель -- запятая) сохранить все строки из исходного файла, где значение в указанном столбце равно введенному значению.\n",
    "\n",
    "Конечный файл назвать *filter_col_val.csv*, где col -- название столбца, а val -- значение для фильтрации.\n",
    "\n",
    "Пример:\n",
    "если функции дать название столбца Area, а значение XXX, то в результате нужно создать файл с названием *filter_Area_XXX.csv*, в который будут записаны все строки, в которых в столбце Area было значение XXX."
   ]
  },
  {
   "cell_type": "code",
   "execution_count": null,
   "id": "2ae69831-ffea-4146-8e42-f1d7c430e59a",
   "metadata": {},
   "outputs": [],
   "source": []
  }
 ],
 "metadata": {
  "kernelspec": {
   "display_name": "hock",
   "language": "python",
   "name": "hock"
  },
  "language_info": {
   "codemirror_mode": {
    "name": "ipython",
    "version": 3
   },
   "file_extension": ".py",
   "mimetype": "text/x-python",
   "name": "python",
   "nbconvert_exporter": "python",
   "pygments_lexer": "ipython3",
   "version": "3.9.16"
  }
 },
 "nbformat": 4,
 "nbformat_minor": 5
}
