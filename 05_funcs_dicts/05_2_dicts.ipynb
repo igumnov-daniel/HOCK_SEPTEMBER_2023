{
 "cells": [
  {
   "cell_type": "markdown",
   "id": "bb26527b-e6c1-4bcd-9d15-3d020b600b64",
   "metadata": {},
   "source": [
    "# СЛОВАРИ"
   ]
  },
  {
   "cell_type": "markdown",
   "id": "33b25898-c515-4844-a273-594cb3252d34",
   "metadata": {},
   "source": [
    "## Краткая теория\n",
    "<a href=\"https://contest.yandex.ru/contest/54480/problems/\">Задачи тут.</a>"
   ]
  },
  {
   "cell_type": "markdown",
   "id": "c572b31c-852e-44b9-97e4-60af3c00c924",
   "metadata": {},
   "source": [
    "### Словари"
   ]
  },
  {
   "cell_type": "code",
   "execution_count": 8,
   "id": "627b4480-93d5-41fe-b0fd-3583d8bb5a22",
   "metadata": {},
   "outputs": [
    {
     "name": "stdout",
     "output_type": "stream",
     "text": [
      "{'one': 1, 'two': 2}\n"
     ]
    }
   ],
   "source": [
    "# создание\n",
    "d = {} \n",
    "# d = dict()\n",
    "\n",
    "# добавление\n",
    "d['one'] = 1  # (1,2,3,4)\n",
    "d['two'] = 2\n",
    "\n",
    "print(d)"
   ]
  },
  {
   "cell_type": "code",
   "execution_count": 2,
   "id": "0583f399-9c31-4902-919d-655f0206d8ec",
   "metadata": {},
   "outputs": [
    {
     "name": "stdout",
     "output_type": "stream",
     "text": [
      "{'one': 1, 'two': 'два'}\n"
     ]
    }
   ],
   "source": [
    "# изменение\n",
    "d['two'] = 'два'\n",
    "print(d)"
   ]
  },
  {
   "cell_type": "markdown",
   "id": "c78283f9-29d1-43a4-9aa5-530375b8377f",
   "metadata": {},
   "source": [
    "#### ЗАДАЧА 1"
   ]
  },
  {
   "cell_type": "markdown",
   "id": "230076f7-4c0f-4e4d-a9cd-a0b5a8dc0207",
   "metadata": {},
   "source": [
    "#### ЗАДАЧА 2"
   ]
  },
  {
   "cell_type": "code",
   "execution_count": 16,
   "id": "07c84fe0-1e5c-458d-843f-a25f9ad95b38",
   "metadata": {
    "tags": []
   },
   "outputs": [
    {
     "name": "stdout",
     "output_type": "stream",
     "text": [
      "{'one': 1, 'two': 2, 'three': 3, 'ten': 10}\n"
     ]
    }
   ],
   "source": [
    "d['three'] = 3\n",
    "d['ten'] = 10\n",
    "\n",
    "print(d)"
   ]
  },
  {
   "cell_type": "code",
   "execution_count": 17,
   "id": "737dcaf7-6621-4d0c-86ce-e571b8736d68",
   "metadata": {},
   "outputs": [
    {
     "name": "stdout",
     "output_type": "stream",
     "text": [
      "Словарь:\n",
      "{'one': 1, 'two': 2, 'three': 3, 'ten': 10}\n",
      "--------------------------------------------------------------------------------\n"
     ]
    }
   ],
   "source": [
    "# итерация\n",
    "print('Словарь:')\n",
    "print(d)\n",
    "print('-' * 80)"
   ]
  },
  {
   "cell_type": "code",
   "execution_count": 23,
   "id": "fd666d53-b0aa-4fd7-bc0d-1c620b93353c",
   "metadata": {
    "tags": []
   },
   "outputs": [
    {
     "data": {
      "text/plain": [
       "dict_keys(['one', 'two', 'three', 'ten'])"
      ]
     },
     "execution_count": 23,
     "metadata": {},
     "output_type": "execute_result"
    }
   ],
   "source": [
    "d.keys()"
   ]
  },
  {
   "cell_type": "code",
   "execution_count": 28,
   "id": "2f8612c1-c10b-406a-bd22-f50905ab96f0",
   "metadata": {
    "tags": []
   },
   "outputs": [
    {
     "name": "stdout",
     "output_type": "stream",
     "text": [
      "По ключам:\n",
      "one\n",
      "two\n",
      "three\n",
      "ten\n",
      "--------------------------------------------------------------------------------\n"
     ]
    }
   ],
   "source": [
    "print('По ключам:')\n",
    "\n",
    "for k in d.keys():\n",
    "    print(k)\n",
    "    \n",
    "print('-' * 80)"
   ]
  },
  {
   "cell_type": "code",
   "execution_count": 29,
   "id": "4f7431da-f7e2-43e2-b8eb-b1b271c82509",
   "metadata": {
    "tags": []
   },
   "outputs": [
    {
     "name": "stdout",
     "output_type": "stream",
     "text": [
      "По значениям:\n",
      "1\n",
      "2\n",
      "3\n",
      "10\n",
      "--------------------------------------------------------------------------------\n"
     ]
    }
   ],
   "source": [
    "print('По значениям:')\n",
    "for v in d.values():\n",
    "    print(v)\n",
    "print('-' * 80)"
   ]
  },
  {
   "cell_type": "code",
   "execution_count": 30,
   "id": "5e536510-6fb5-473e-9a03-13ca979065ea",
   "metadata": {
    "tags": []
   },
   "outputs": [
    {
     "data": {
      "text/plain": [
       "dict_items([('one', 1), ('two', 2), ('three', 3), ('ten', 10)])"
      ]
     },
     "execution_count": 30,
     "metadata": {},
     "output_type": "execute_result"
    }
   ],
   "source": [
    "d.items()"
   ]
  },
  {
   "cell_type": "code",
   "execution_count": 39,
   "id": "89d636b6-b14e-47bb-ac36-fec11b8bd1d9",
   "metadata": {
    "tags": []
   },
   "outputs": [
    {
     "name": "stdout",
     "output_type": "stream",
     "text": [
      "('one', 1)\n",
      "('two', 2)\n",
      "('three', 3)\n",
      "('ten', 10)\n"
     ]
    }
   ],
   "source": [
    "for i in d.items():\n",
    "    print(i)"
   ]
  },
  {
   "cell_type": "code",
   "execution_count": 40,
   "id": "2889baa1-1b59-49c3-8d83-771504a5fd5d",
   "metadata": {
    "tags": []
   },
   "outputs": [
    {
     "name": "stdout",
     "output_type": "stream",
     "text": [
      "По парам (ключ, значение):\n",
      "Key: one | value: 1\n",
      "Key: two | value: 2\n",
      "Key: three | value: 3\n",
      "Key: ten | value: 10\n"
     ]
    }
   ],
   "source": [
    "print('По парам (ключ, значение):')\n",
    "\n",
    "for k, v in d.items():\n",
    "    print(f\"Key: {k} | value: {v}\")"
   ]
  },
  {
   "cell_type": "code",
   "execution_count": 42,
   "id": "d97158e9-db03-4ebb-8fa9-40e8eea97515",
   "metadata": {
    "tags": []
   },
   "outputs": [
    {
     "name": "stdout",
     "output_type": "stream",
     "text": [
      "one 1\n",
      "ten 10\n",
      "three 3\n",
      "two 2\n"
     ]
    }
   ],
   "source": [
    "for k in sorted(d.keys()):\n",
    "    print(k, d[k])"
   ]
  },
  {
   "cell_type": "markdown",
   "id": "adadf0a6-154d-4b32-a4ab-95fb70a86d4f",
   "metadata": {},
   "source": [
    "### get"
   ]
  },
  {
   "cell_type": "code",
   "execution_count": 44,
   "id": "c9e09e7a-7996-473f-81fd-692bdae557da",
   "metadata": {
    "tags": []
   },
   "outputs": [
    {
     "ename": "KeyError",
     "evalue": "'five'",
     "output_type": "error",
     "traceback": [
      "\u001b[1;31m---------------------------------------------------------------------------\u001b[0m",
      "\u001b[1;31mKeyError\u001b[0m                                  Traceback (most recent call last)",
      "Cell \u001b[1;32mIn [44], line 1\u001b[0m\n\u001b[1;32m----> 1\u001b[0m \u001b[43md\u001b[49m\u001b[43m[\u001b[49m\u001b[38;5;124;43m'\u001b[39;49m\u001b[38;5;124;43mfive\u001b[39;49m\u001b[38;5;124;43m'\u001b[39;49m\u001b[43m]\u001b[49m\n",
      "\u001b[1;31mKeyError\u001b[0m: 'five'"
     ]
    }
   ],
   "source": [
    "d['five']"
   ]
  },
  {
   "cell_type": "code",
   "execution_count": 46,
   "id": "7ed0dbd4-216f-4cfe-835c-d3d156faf6ab",
   "metadata": {
    "tags": []
   },
   "outputs": [
    {
     "data": {
      "text/plain": [
       "1"
      ]
     },
     "execution_count": 46,
     "metadata": {},
     "output_type": "execute_result"
    }
   ],
   "source": [
    "d.get('one')"
   ]
  },
  {
   "cell_type": "code",
   "execution_count": 47,
   "id": "a6b08a19-82d5-4065-99e8-3fd3fc8f0373",
   "metadata": {
    "tags": []
   },
   "outputs": [],
   "source": [
    "d.get('ключ, которого нет')"
   ]
  },
  {
   "cell_type": "code",
   "execution_count": 55,
   "id": "0c1e4d68-37d8-4058-8d25-3bc75082a8c6",
   "metadata": {
    "tags": []
   },
   "outputs": [
    {
     "data": {
      "text/plain": [
       "'ОШИБКА'"
      ]
     },
     "execution_count": 55,
     "metadata": {},
     "output_type": "execute_result"
    }
   ],
   "source": [
    "d.get('ключ, которого нет', 'ОШИБКА')"
   ]
  },
  {
   "cell_type": "code",
   "execution_count": 53,
   "id": "9f4460bf-9ff0-4702-8303-8044bc207888",
   "metadata": {
    "tags": []
   },
   "outputs": [
    {
     "data": {
      "text/plain": [
       "10"
      ]
     },
     "execution_count": 53,
     "metadata": {},
     "output_type": "execute_result"
    }
   ],
   "source": [
    "d.get('ten', 'ОШИБКА')"
   ]
  },
  {
   "cell_type": "markdown",
   "id": "0c4bb4af-a7e0-4143-9d15-6fccd1ed5f94",
   "metadata": {},
   "source": [
    "# ЗАДАЧА 3"
   ]
  },
  {
   "cell_type": "code",
   "execution_count": 59,
   "id": "10c5365a-862d-440a-ae1f-1b904c809139",
   "metadata": {},
   "outputs": [
    {
     "name": "stdin",
     "output_type": "stream",
     "text": [
      " stationer timidity timidity mechanicalist timidity timidity mechanicalist stationer mechanicalist\n"
     ]
    },
    {
     "name": "stdout",
     "output_type": "stream",
     "text": [
      "mechanicalist 3\n",
      "stationer 2\n",
      "timidity 4\n"
     ]
    }
   ],
   "source": [
    "d = {}\n",
    "words = input().split()\n",
    "\n",
    "for w in words:\n",
    "    # if w not in d.keys():\n",
    "    #     d[w] = 1\n",
    "    # else:\n",
    "    #     # d[w] = d[w] + 1\n",
    "    #     d[w] += 1\n",
    "    d[w] = d.get(w, 0) + 1\n",
    "    \n",
    "for k in sorted(d.keys()):\n",
    "    print(k, d[k])\n"
   ]
  },
  {
   "cell_type": "code",
   "execution_count": null,
   "id": "d7cb364a-3501-49eb-8478-0bd6ff74405c",
   "metadata": {},
   "outputs": [],
   "source": []
  },
  {
   "cell_type": "markdown",
   "id": "d6efa504-3bec-41a5-9d06-b6a242e448e1",
   "metadata": {},
   "source": [
    "## I/O json и pickle"
   ]
  },
  {
   "cell_type": "markdown",
   "id": "8c71e45f-7fe7-430c-aae0-cdfbeb8134a2",
   "metadata": {},
   "source": [
    "Для чтение и записи словарей можно использовать формат json (это просто правила оформления текстового докмента).<br>\n",
    "Пример того, как выглядит содержимое json файла, можно найти <a href=\"https://json.org/example.html\">тут</a>."
   ]
  },
  {
   "cell_type": "markdown",
   "id": "2eb9de0d-554f-4e06-9330-c97c39ac6684",
   "metadata": {},
   "source": [
    "### Запись в json"
   ]
  },
  {
   "cell_type": "code",
   "execution_count": 4,
   "id": "7a35e74a-c712-4a71-b690-13ad7ff6f15c",
   "metadata": {},
   "outputs": [],
   "source": [
    "# чтение и запись в json\n",
    "# нужно импортировать соответсвующую библиотеку\n",
    "# она поставляется вместе с питоном (то есть она у вас уже есть)\n",
    "\n",
    "import json\n",
    "\n",
    "# создаём словарь\n",
    "# для красоты я перенос строки, чтобы каждая пара была на отдельной строке\n",
    "\n",
    "data = {'name': 'Tom', \n",
    "        'Surname': 'Sawyer', \n",
    "        'age': 12,\n",
    "        'two words': {1: 'bla', 2:'bla2'}\n",
    "       }\n",
    "\n",
    "# открываем текстовый файл test.json в режиме записи\n",
    "# и из модуля json используем функциб out\n",
    "# она принимаем словарь (у нас он в переменной data)\n",
    "# и второй аргумент -- файл (мы открыли файл в переменную out)\n",
    "\n",
    "with open('test.json', 'w', encoding='utf8') as out: # запись\n",
    "    json.dump(data, out)\n",
    "    \n",
    "# теперь вы увидите у себя в папке с ноутбуком файлик test.json\n",
    "# откройте его с помощью блоконота и убедитесь, что там действительно сохранены те значения,\n",
    "# что были созданы выше"
   ]
  },
  {
   "cell_type": "code",
   "execution_count": 60,
   "id": "6195807e-73ef-4c3a-bdcc-c9231dc5556e",
   "metadata": {},
   "outputs": [
    {
     "name": "stdout",
     "output_type": "stream",
     "text": [
      "{\"name\": \"Tom\", \"Surname\": \"Sawyer\", \"age\": 12, \"two words\": {\"1\": \"bla\", \"2\": \"bla2\"}}\n"
     ]
    }
   ],
   "source": [
    "# откроем созданный файл в режиме чтение\n",
    "# и просто прочитаем из него одну строку\n",
    "\n",
    "with open('test.json', 'r', encoding='utf8') as inpf: # файл выглядит так\n",
    "    for line in inpf: # по-умолчанию dump в 1 строку пишется\n",
    "        print(line) \n",
    "        \n",
    "        \n",
    "# видим, чт это наша исходную строка"
   ]
  },
  {
   "cell_type": "markdown",
   "id": "e0664dac-9fff-4292-ba35-be146f389d9c",
   "metadata": {},
   "source": [
    "Но проблема в том, что мы просто прочитали сохраненные данные как строку. А можно прочитать json файл **СРАЗУ В СЛОВАРЬ**.<br>\n",
    "Для этого откроем файл в режиме чтения и воспользуемся функцией `load` из библиотеки `json`."
   ]
  },
  {
   "cell_type": "code",
   "execution_count": 62,
   "id": "6368e2d6-419f-4fe1-af30-b93ea3c3b7a7",
   "metadata": {
    "tags": []
   },
   "outputs": [
    {
     "name": "stdout",
     "output_type": "stream",
     "text": [
      "{'name': 'Tom', 'Surname': 'Sawyer', 'age': 12, 'two words': {'1': 'bla', '2': 'bla2'}}\n",
      "<class 'dict'>\n",
      "Tom\n"
     ]
    }
   ],
   "source": [
    "# открываем файл в режиме чтение\n",
    "with open('test.json', 'r', encoding='utf8') as inpf:\n",
    "    data_loaded = json.load(inpf) # с помощью функции load \"прочитываем\" содержимое файла в словарь\n",
    "    \n",
    "print(data_loaded) # выведем созданный словарь\n",
    "print(type(data_loaded))\n",
    "print(data_loaded['name'])"
   ]
  },
  {
   "cell_type": "markdown",
   "id": "2010507d-916d-4a48-92cd-7aea2496fd09",
   "metadata": {},
   "source": [
    "Как видите, мы прочитали файл в формате json сразу же в питоновский словарь.<br>\n",
    "Видим, что тип переменной в самом деле dict и что с ней можно работать как со словарем (мы обратились к элементу по ключу)."
   ]
  },
  {
   "cell_type": "markdown",
   "id": "b5ab9d09-7732-4069-8401-0525798529a2",
   "metadata": {},
   "source": [
    "NOTE: **Обратите внимание, типы данных сохраняются: числа остаются числами.**<br>\n",
    "Например, ключу 'age' соотетствует не строка 12, а число 12. То есть, если бы `dump` было сохранено число, то `load` восстановит нужный тип (число)."
   ]
  },
  {
   "cell_type": "markdown",
   "id": "4dce346e-898a-4117-aac9-eba51b6b8b84",
   "metadata": {},
   "source": [
    "### pickle\n",
    "Еще один вариант -- пикл. Им мы пользоваться почти не будем. Но **ЛЮБЫЕ** объекты можно сохранть в пикл формат с помощью функции `dump` из библиотеки pickle. И прочитать с помощью `load`.<br>\n",
    "Pikcle позволяет сохранить **ЛЮБОЙ** объект, то есть и список, и число, и словарь, и что угодно. И, что важно, типы не теряются. Что было числом, останется числом при чтении."
   ]
  },
  {
   "cell_type": "markdown",
   "id": "1eba2237-f5df-4596-85b0-fa9ef4f868ba",
   "metadata": {},
   "source": [
    "**NB: режимы чтения и записи не 'r' и 'w', а 'rb' и 'wb' соответственно.**"
   ]
  },
  {
   "cell_type": "code",
   "execution_count": 65,
   "id": "3d924cf2-0cff-4e2c-9787-64939fb34355",
   "metadata": {},
   "outputs": [
    {
     "name": "stdout",
     "output_type": "stream",
     "text": [
      "[[0, '0', 0], [0, '0', 1], [0, '0', 4], [0, '1', 0], [0, '1', 1], [0, '1', 4], [0, '2', 0], [0, '2', 1], [0, '2', 4], [1, '0', 0], [1, '0', 1], [1, '0', 4], [1, '1', 0], [1, '1', 1], [1, '1', 4], [1, '2', 0], [1, '2', 1], [1, '2', 4], [2, '0', 0], [2, '0', 1], [2, '0', 4], [2, '1', 0], [2, '1', 1], [2, '1', 4], [2, '2', 0], [2, '2', 1], [2, '2', 4]]\n"
     ]
    }
   ],
   "source": [
    "import pickle\n",
    "\n",
    "\n",
    "triples = []\n",
    "for i in range(3):\n",
    "    for j in range(3):\n",
    "        for k in range(3):\n",
    "            triples.append([i, str(j), k ** 2])\n",
    "    \n",
    "print(triples) # как видите, это список со спискам.\n",
    "\n",
    "with open('triples.pickle', 'wb') as outfb: # режим открытия для записи не w, а wb\n",
    "    pickle.dump(triples, outfb) # записали в файл"
   ]
  },
  {
   "cell_type": "code",
   "execution_count": 67,
   "id": "03aa0280-9bff-429c-90f8-f02e123fdb1a",
   "metadata": {},
   "outputs": [
    {
     "name": "stdout",
     "output_type": "stream",
     "text": [
      "27\n",
      "[[0, '0', 0], [0, '0', 1], [0, '0', 4], [0, '1', 0], [0, '1', 1], [0, '1', 4], [0, '2', 0], [0, '2', 1], [0, '2', 4], [1, '0', 0], [1, '0', 1], [1, '0', 4], [1, '1', 0], [1, '1', 1], [1, '1', 4], [1, '2', 0], [1, '2', 1], [1, '2', 4], [2, '0', 0], [2, '0', 1], [2, '0', 4], [2, '1', 0], [2, '1', 1], [2, '1', 4], [2, '2', 0], [2, '2', 1], [2, '2', 4]]\n"
     ]
    }
   ],
   "source": [
    "with open('triples.pickle', 'rb') as inpfb:\n",
    "    triples_from_file = pickle.load(inpfb) # читаем из файла\n",
    "    \n",
    "print(len(triples_from_file)) # всего эементов внутри большого списка\n",
    "print(triples_from_file) # все типы восстановлены. что было числом, прочиталось как число"
   ]
  },
  {
   "cell_type": "markdown",
   "id": "f86beb9b-cbb7-454d-b220-01829eaed721",
   "metadata": {},
   "source": [
    "# Практика"
   ]
  },
  {
   "cell_type": "markdown",
   "id": "6cbeddcf-b570-4375-8614-6a2891fcfa29",
   "metadata": {},
   "source": [
    "### 1. Скука 1.0\n",
    "Напишите функцию `squares100`, которая создаёт и возвращает словарь, где ключи -- числа от 1 до 100, а значения -- квадраты этих чисел.\n",
    "\n",
    "Т.е. пример выхода:   \n",
    "`{1: 1, 2: 4, 3:9, ...}`"
   ]
  },
  {
   "cell_type": "code",
   "execution_count": null,
   "id": "0240ecf4-fd62-4591-81b5-b5df7757416f",
   "metadata": {},
   "outputs": [],
   "source": []
  },
  {
   "cell_type": "markdown",
   "id": "ed61eb53-cd45-405f-b2a0-f2664f0fdaf2",
   "metadata": {},
   "source": [
    "### 2. Скука 2.0\n",
    "Напишите функцию `lists2dict`, которая принимает два списка: список с ключами и список со значениями. Функция должна возвращать, где ключи -- значения первого списка, а значения -- значения второго списка.\n",
    "\n",
    "То есть из списков `['aa', 'bb']` и `['val1', 'val2']` функция должна сделать и вернуть словарь `{'aa': 'val1', 'bb': 'val2'}`.\n"
   ]
  },
  {
   "cell_type": "code",
   "execution_count": null,
   "id": "2e28c1c8-fb85-434e-b8e9-33c1a01df9f8",
   "metadata": {},
   "outputs": [],
   "source": []
  },
  {
   "cell_type": "markdown",
   "id": "d5e30908-07a0-419d-bc4f-21caa52aa6c7",
   "metadata": {},
   "source": [
    "### 3. cakes\n",
    "Дан файл `cakes.json` с описанием кулинарных изделий.  \n",
    "Необходимо написать функцию `get_unique_cakes()`, которая возвращает список уникальных названий куланирных позиций.\n",
    "\n",
    "Указания:  \n",
    "1. Откройте файл в отдельным окне. После открытий вы можете открыть его во втором, то есть разделить экран на две части. Для этого потяните за открывшуюся вкладку и перетащите её, например, вправо.\n",
    "2. Название позиции лежит по ключу `name`. Посмотрите, как можно добраться до каждого названия"
   ]
  },
  {
   "cell_type": "code",
   "execution_count": null,
   "id": "12750756-5de6-4c4b-be17-bd20afe98207",
   "metadata": {},
   "outputs": [],
   "source": []
  },
  {
   "cell_type": "markdown",
   "id": "35317d76-cf0a-461f-9905-dff25818f3ca",
   "metadata": {},
   "source": [
    "### 4. movies\n",
    "Дан файл `movies.csv`.  \n",
    "Необходимо написать функцию `movies2dict`, которая читает файл и создаёт и возвращает словарь, где ключ -- название фильма, значение -- словарь, где ключи -- колонки `Genre` и `Year`, а значения -- соответствующие им значения.\n",
    "\n",
    "Пример выдачи:\n",
    "```\n",
    "{\"Zack and Miri Make a Porno\": \n",
    "    {\"Genre\": \"Romance\",\n",
    "    \"Year\": 2008},\n",
    " \"Youth in Revolt\": \n",
    "    {\"Genre\": \"Comedy\",\n",
    "    \"Year\": 2010},\n",
    "   ...\n",
    "}\n",
    "```"
   ]
  },
  {
   "cell_type": "code",
   "execution_count": null,
   "id": "a6228bc1-81ec-4f27-accb-58274f2d859b",
   "metadata": {},
   "outputs": [],
   "source": []
  },
  {
   "cell_type": "markdown",
   "id": "ae8072b4-36e5-466c-a115-aaf2f6cfc595",
   "metadata": {},
   "source": [
    "### 5. movies 2.0\n",
    "Напишите функцию `most_recent`, которая принимает либо ключ `Genre`, либо `Year` и определяет наиболее популярный жанр или год выпуска в словаре, полученном с помощью `movie2dict`.\n",
    "\n",
    "Указание. Для определния моды наборы воспользуйтесь словарём:  \n",
    "1. Ключ -- жанр или год  \n",
    "2. Значение -- счетчик для этого жанра или года\n",
    "3. Затем возьмите массив пар ключ-значение с помощью метода `items` и определите моду с помощью функции `max` указав ей `key` для определния макимального элемента (иначе `max` будет искать максимум не так, как нам надо) "
   ]
  },
  {
   "cell_type": "code",
   "execution_count": null,
   "id": "4a3b5d87-d185-48f6-ac18-da5058bd9760",
   "metadata": {},
   "outputs": [],
   "source": []
  }
 ],
 "metadata": {
  "kernelspec": {
   "display_name": "hock",
   "language": "python",
   "name": "hock"
  },
  "language_info": {
   "codemirror_mode": {
    "name": "ipython",
    "version": 3
   },
   "file_extension": ".py",
   "mimetype": "text/x-python",
   "name": "python",
   "nbconvert_exporter": "python",
   "pygments_lexer": "ipython3",
   "version": "3.9.16"
  }
 },
 "nbformat": 4,
 "nbformat_minor": 5
}
