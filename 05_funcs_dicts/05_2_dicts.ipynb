{
 "cells": [
  {
   "cell_type": "markdown",
   "id": "bb26527b-e6c1-4bcd-9d15-3d020b600b64",
   "metadata": {},
   "source": [
    "# СЛОВАРИ"
   ]
  },
  {
   "cell_type": "markdown",
   "id": "33b25898-c515-4844-a273-594cb3252d34",
   "metadata": {},
   "source": [
    "## Краткая теория\n",
    "<a href=\"https://contest.yandex.ru/contest/54480/problems/\">Задачи тут.</a>"
   ]
  },
  {
   "cell_type": "markdown",
   "id": "c572b31c-852e-44b9-97e4-60af3c00c924",
   "metadata": {},
   "source": [
    "### Словари"
   ]
  },
  {
   "cell_type": "code",
   "execution_count": 1,
   "id": "627b4480-93d5-41fe-b0fd-3583d8bb5a22",
   "metadata": {},
   "outputs": [
    {
     "name": "stdout",
     "output_type": "stream",
     "text": [
      "{'one': 1, 'two': 2}\n"
     ]
    }
   ],
   "source": [
    "# создание\n",
    "d = {}\n",
    "\n",
    "# добавление\n",
    "d['one'] = 1\n",
    "d['two'] = 2\n",
    "\n",
    "print(d)"
   ]
  },
  {
   "cell_type": "code",
   "execution_count": 2,
   "id": "0583f399-9c31-4902-919d-655f0206d8ec",
   "metadata": {},
   "outputs": [
    {
     "name": "stdout",
     "output_type": "stream",
     "text": [
      "{'one': 1, 'two': 'два'}\n"
     ]
    }
   ],
   "source": [
    "# изменение\n",
    "d['two'] = 'два'\n",
    "print(d)"
   ]
  },
  {
   "cell_type": "markdown",
   "id": "c78283f9-29d1-43a4-9aa5-530375b8377f",
   "metadata": {},
   "source": [
    "#### ЗАДАЧА 1"
   ]
  },
  {
   "cell_type": "markdown",
   "id": "230076f7-4c0f-4e4d-a9cd-a0b5a8dc0207",
   "metadata": {},
   "source": [
    "#### ЗАДАЧА 2"
   ]
  },
  {
   "cell_type": "code",
   "execution_count": 3,
   "id": "737dcaf7-6621-4d0c-86ce-e571b8736d68",
   "metadata": {},
   "outputs": [
    {
     "name": "stdout",
     "output_type": "stream",
     "text": [
      "Словарь:\n",
      "{'one': 1, 'two': 'два'}\n",
      "--------------------------------------------------------------------------------\n",
      "По ключам:\n",
      "one\n",
      "two\n",
      "--------------------------------------------------------------------------------\n",
      "По значениям:\n",
      "1\n",
      "два\n",
      "--------------------------------------------------------------------------------\n",
      "По парам (ключ, значение):\n",
      "Key: one | value: 1\n",
      "Key: two | value: два\n"
     ]
    }
   ],
   "source": [
    "# итерация\n",
    "print('Словарь:')\n",
    "print(d)\n",
    "print('-' * 80)\n",
    "\n",
    "print('По ключам:')\n",
    "for k in d.keys():\n",
    "    print(k)\n",
    "print('-' * 80)\n",
    "\n",
    "print('По значениям:')\n",
    "for v in d.values():\n",
    "    print(v)\n",
    "print('-' * 80)\n",
    "\n",
    "print('По парам (ключ, значение):')\n",
    "for k, v in d.items():\n",
    "    print(f\"Key: {k} | value: {v}\")"
   ]
  },
  {
   "cell_type": "markdown",
   "id": "0c4bb4af-a7e0-4143-9d15-6fccd1ed5f94",
   "metadata": {},
   "source": [
    "# ЗАДАЧА 3"
   ]
  },
  {
   "cell_type": "code",
   "execution_count": null,
   "id": "10c5365a-862d-440a-ae1f-1b904c809139",
   "metadata": {},
   "outputs": [],
   "source": []
  },
  {
   "cell_type": "markdown",
   "id": "d6efa504-3bec-41a5-9d06-b6a242e448e1",
   "metadata": {},
   "source": [
    "## I/O json и pickle"
   ]
  },
  {
   "cell_type": "code",
   "execution_count": 4,
   "id": "7a35e74a-c712-4a71-b690-13ad7ff6f15c",
   "metadata": {},
   "outputs": [],
   "source": [
    "# чтение и запись в json\n",
    "import json\n",
    "\n",
    "data = {'name': 'Tom', \n",
    "        'Surname': 'Sawyer', \n",
    "        'age': 12,\n",
    "        'two words': {1: 'bla', 2:'bla2'}\n",
    "       }\n",
    "\n",
    "with open('test.json', 'w', encoding='utf8') as out: # запись\n",
    "    json.dump(data, out)"
   ]
  },
  {
   "cell_type": "code",
   "execution_count": 5,
   "id": "6195807e-73ef-4c3a-bdcc-c9231dc5556e",
   "metadata": {},
   "outputs": [
    {
     "name": "stdout",
     "output_type": "stream",
     "text": [
      "{\"name\": \"Tom\", \"Surname\": \"Sawyer\", \"age\": 12, \"two words\": {\"1\": \"bla\", \"2\": \"bla2\"}}\n"
     ]
    }
   ],
   "source": [
    "with open('test.json', 'r', encoding='utf8') as inpf: # файл выглядит так\n",
    "    for line in inpf: # по-умолчанию dump в 1 строку пишется\n",
    "        print(line) "
   ]
  },
  {
   "cell_type": "markdown",
   "id": "b5ab9d09-7732-4069-8401-0525798529a2",
   "metadata": {},
   "source": [
    "NOTE: Обратите внимание, типы данных сохраняются: числа остаются числами."
   ]
  },
  {
   "cell_type": "code",
   "execution_count": 6,
   "id": "3d924cf2-0cff-4e2c-9787-64939fb34355",
   "metadata": {},
   "outputs": [],
   "source": [
    "import pickle\n",
    "\n",
    "\n",
    "triples = []\n",
    "for i in range(10):\n",
    "    for j in range(10):\n",
    "        for k in range(10):\n",
    "            triples.append([i, str(j), k ** 2])\n",
    "            \n",
    "with open('triples.pickle', 'wb') as outfb:\n",
    "    pickle.dump(triples, outfb)"
   ]
  },
  {
   "cell_type": "code",
   "execution_count": 7,
   "id": "03aa0280-9bff-429c-90f8-f02e123fdb1a",
   "metadata": {},
   "outputs": [
    {
     "name": "stdout",
     "output_type": "stream",
     "text": [
      "1000\n",
      "[[0, '0', 0], [0, '0', 1], [0, '0', 4], [0, '0', 9], [0, '0', 16], [0, '0', 25], [0, '0', 36], [0, '0', 49], [0, '0', 64], [0, '0', 81]]\n"
     ]
    }
   ],
   "source": [
    "with open('triples.pickle', 'rb') as inpfb:\n",
    "    triples_from_file = pickle.load(inpfb)\n",
    "    \n",
    "print(len(triples_from_file))\n",
    "print(triples_from_file[:10]) # напечатаем только первые 10"
   ]
  },
  {
   "cell_type": "markdown",
   "id": "f86beb9b-cbb7-454d-b220-01829eaed721",
   "metadata": {},
   "source": [
    "# Практика"
   ]
  },
  {
   "cell_type": "markdown",
   "id": "6cbeddcf-b570-4375-8614-6a2891fcfa29",
   "metadata": {},
   "source": [
    "### 1. Скука 1.0\n",
    "Напишите функцию `squares100`, которая создаёт и возвращает словарь, где ключи -- числа от 1 до 100, а значения -- квадраты этих чисел.\n",
    "\n",
    "Т.е. пример выхода:   \n",
    "`{1: 1, 2: 4, 3:9, ...}`"
   ]
  },
  {
   "cell_type": "code",
   "execution_count": null,
   "id": "0240ecf4-fd62-4591-81b5-b5df7757416f",
   "metadata": {},
   "outputs": [],
   "source": []
  },
  {
   "cell_type": "markdown",
   "id": "ed61eb53-cd45-405f-b2a0-f2664f0fdaf2",
   "metadata": {},
   "source": [
    "### 2. Скука 2.0\n",
    "Напишите функцию `lists2dict`, которая принимает два списка: список с ключами и список со значениями. Функция должна возвращать, где ключи -- значения первого списка, а значения -- значения второго списка.\n",
    "\n",
    "То есть из списков `['aa', 'bb']` и `['val1', 'val2']` функция должна сделать и вернуть словарь `{'aa': 'val1', 'bb': 'val2'}`.\n"
   ]
  },
  {
   "cell_type": "code",
   "execution_count": null,
   "id": "2e28c1c8-fb85-434e-b8e9-33c1a01df9f8",
   "metadata": {},
   "outputs": [],
   "source": []
  },
  {
   "cell_type": "markdown",
   "id": "d5e30908-07a0-419d-bc4f-21caa52aa6c7",
   "metadata": {},
   "source": [
    "### 3. cakes\n",
    "Дан файл `cakes.json` с описанием кулинарных изделий.  \n",
    "Необходимо написать функцию `get_unique_cakes()`, которая возвращает список уникальных названий куланирных позиций.\n",
    "\n",
    "Указания:  \n",
    "1. Откройте файл в отдельным окне. После открытий вы можете открыть его во втором, то есть разделить экран на две части. Для этого потяните за открывшуюся вкладку и перетащите её, например, вправо.\n",
    "2. Название позиции лежит по ключу `name`. Посмотрите, как можно добраться до каждого названия"
   ]
  },
  {
   "cell_type": "code",
   "execution_count": null,
   "id": "12750756-5de6-4c4b-be17-bd20afe98207",
   "metadata": {},
   "outputs": [],
   "source": []
  },
  {
   "cell_type": "markdown",
   "id": "35317d76-cf0a-461f-9905-dff25818f3ca",
   "metadata": {},
   "source": [
    "### 4. movies\n",
    "Дан файл `movies.csv`.  \n",
    "Необходимо написать функцию `movies2dict`, которая читает файл и создаёт и возвращает словарь, где ключ -- название фильма, значение -- словарь, где ключи -- колонки `Genre` и `Year`, а значения -- соответствующие им значения.\n",
    "\n",
    "Пример выдачи:\n",
    "```\n",
    "{\"Zack and Miri Make a Porno\": \n",
    "    {\"Genre\": \"Romance\",\n",
    "    \"Year\": 2008},\n",
    " \"Youth in Revolt\": \n",
    "    {\"Genre\": \"Comedy\",\n",
    "    \"Year\": 2010},\n",
    "   ...\n",
    "}\n",
    "```"
   ]
  },
  {
   "cell_type": "code",
   "execution_count": null,
   "id": "a6228bc1-81ec-4f27-accb-58274f2d859b",
   "metadata": {},
   "outputs": [],
   "source": []
  },
  {
   "cell_type": "markdown",
   "id": "ae8072b4-36e5-466c-a115-aaf2f6cfc595",
   "metadata": {},
   "source": [
    "### 5. movies 2.0\n",
    "Напишите функцию `most_recent`, которая принимает либо ключ `Genre`, либо `Year` и определяет наиболее популярный жанр или год выпуска в словаре, полученном с помощью `movie2dict`.\n",
    "\n",
    "Указание. Для определния моды наборы воспользуйтесь словарём:  \n",
    "1. Ключ -- жанр или год  \n",
    "2. Значение -- счетчик для этого жанра или года\n",
    "3. Затем возьмите массив пар ключ-значение с помощью метода `items` и определите моду с помощью функции `max` указав ей `key` для определния макимального элемента (иначе `max` будет искать максимум не так, как нам надо) "
   ]
  },
  {
   "cell_type": "code",
   "execution_count": null,
   "id": "4a3b5d87-d185-48f6-ac18-da5058bd9760",
   "metadata": {},
   "outputs": [],
   "source": []
  }
 ],
 "metadata": {
  "kernelspec": {
   "display_name": "hock",
   "language": "python",
   "name": "hock"
  },
  "language_info": {
   "codemirror_mode": {
    "name": "ipython",
    "version": 3
   },
   "file_extension": ".py",
   "mimetype": "text/x-python",
   "name": "python",
   "nbconvert_exporter": "python",
   "pygments_lexer": "ipython3",
   "version": "3.9.16"
  }
 },
 "nbformat": 4,
 "nbformat_minor": 5
}
